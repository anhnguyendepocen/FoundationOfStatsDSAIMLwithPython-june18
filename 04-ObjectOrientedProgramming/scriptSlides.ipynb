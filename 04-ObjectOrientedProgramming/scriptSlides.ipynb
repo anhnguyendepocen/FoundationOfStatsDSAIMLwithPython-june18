{
 "cells": [
  {
   "cell_type": "markdown",
   "metadata": {},
   "source": [
    "## Classes and Methods"
   ]
  },
  {
   "cell_type": "markdown",
   "metadata": {},
   "source": [
    "Generally almost all the code is implemented using a special construct called classes. Programmers use classes to keep related things together. This is done using the keyword “class,” which is a grouping of object-oriented constructs.  \n",
    "\n",
    "* Define what is a class\n",
    "* Describe how to create a class\n",
    "* Define what is a method\n",
    "* Describe how to do object instantiation\n",
    "* Describe how to create instance attributes in Python"
   ]
  },
  {
   "cell_type": "markdown",
   "metadata": {},
   "source": [
    "### What is a class?"
   ]
  },
  {
   "cell_type": "markdown",
   "metadata": {},
   "source": [
    "A class is a code template for creating objects. Objects have member variables and have behaviour associated with them. In python a class is created by the keyword class.\n",
    "\n",
    "An object is created using the constructor of the class. This object will then be called the instance of the class. In Python we create instances in the following manner\n",
    "\n",
    "`Instance = class(arguments)`"
   ]
  },
  {
   "cell_type": "markdown",
   "metadata": {},
   "source": [
    "### How to create a class"
   ]
  },
  {
   "cell_type": "code",
   "execution_count": 2,
   "metadata": {},
   "outputs": [
    {
     "name": "stdout",
     "output_type": "stream",
     "text": [
      "<__main__.Snake object at 0x0000000005DDE9E8>\n"
     ]
    }
   ],
   "source": [
    "# The simplest class can be created using the class keyword. For example, let's create a simple, empty class with no functionalities.\n",
    "\n",
    "class Snake:\n",
    "    pass\n",
    "\n",
    "snake = Snake()\n",
    "print(snake)\n",
    "# <__main__.Snake object at 0x7f315c573550>"
   ]
  },
  {
   "cell_type": "markdown",
   "metadata": {},
   "source": [
    "### Attributes and Methods in class:"
   ]
  },
  {
   "cell_type": "markdown",
   "metadata": {},
   "source": [
    "A class by itself is of no use unless there is some functionality associated with it. Functionalities are defined by setting attributes, which act as containers for data and functions related to those attributes. Those functions are called methods."
   ]
  },
  {
   "cell_type": "markdown",
   "metadata": {},
   "source": [
    "**Attributes:**  \n",
    "You can define the following class with the name Snake. This class will have an attribute name."
   ]
  },
  {
   "cell_type": "code",
   "execution_count": 4,
   "metadata": {},
   "outputs": [
    {
     "name": "stdout",
     "output_type": "stream",
     "text": [
      "python\n"
     ]
    }
   ],
   "source": [
    "class Snake:\n",
    "    name = \"python\" # set an attribute `name` of the class\n",
    "\n",
    "\"\"\"\n",
    "You can assign the class to a variable. This is called object instantiation. You will then be able to access \n",
    "the attributes that are present inside the class using the dot . operator. \n",
    "For example, in the Snake example, you can access the attribute name of the class Snake.\n",
    "\"\"\"\n",
    "\n",
    "# instantiate the class Snake and assign it to variable snake\n",
    "snake = Snake()\n",
    "\n",
    "# access the class attribute name inside the class Snake.\n",
    "print(snake.name)\n"
   ]
  },
  {
   "cell_type": "markdown",
   "metadata": {},
   "source": [
    "**Methods**  \n",
    "Once there are attributes that “belong” to the class, you can define functions that will access the class attribute. These functions are called methods. When you define methods, you will need to always provide the first argument to the method with a self keyword.\n",
    "  \n",
    "For example, you can define a class Snake, which has one attribute name and one method change_name. The method change name will take in an argument new_name along with the keyword self."
   ]
  },
  {
   "cell_type": "code",
   "execution_count": 12,
   "metadata": {},
   "outputs": [
    {
     "name": "stdout",
     "output_type": "stream",
     "text": [
      "python\n",
      "anaconda\n"
     ]
    }
   ],
   "source": [
    "class Snake:\n",
    "    name = \"python\"\n",
    "    def change_name(self, new_name): # note that the first argument is self\n",
    "        self.name = new_name # access the class attribute with the self keyword\n",
    "\n",
    "# Now, you can instantiate this class Snake with a variable snake and then change the name with the method change_name.\n",
    "\n",
    "# instantiate the class\n",
    "snake = Snake()\n",
    "\n",
    "# print the current object name \n",
    "print(snake.name)\n",
    "\n",
    "\n",
    "# change the name using the change_name method\n",
    "snake.change_name(\"anaconda\")\n",
    "print(snake.name)\n"
   ]
  },
  {
   "cell_type": "markdown",
   "metadata": {},
   "source": [
    "**Instance attributes in python and the init method**   \n",
    "You can also provide the values for the attributes at runtime. This is done by defining the attributes inside the init method. The following example illustrates this."
   ]
  },
  {
   "cell_type": "code",
   "execution_count": 13,
   "metadata": {},
   "outputs": [
    {
     "name": "stdout",
     "output_type": "stream",
     "text": [
      "python\n",
      "anaconda\n"
     ]
    }
   ],
   "source": [
    "class Snake:\n",
    "    def __init__(self, name):\n",
    "        self.name = name\n",
    "\n",
    "    def change_name(self, new_name):\n",
    "        self.name = new_name\n",
    "\n",
    "#Now you can directly define separate attribute values for separate objects. For example,\n",
    "\n",
    "# two variables are instantiated\n",
    "python = Snake(\"python\")\n",
    "anaconda = Snake(\"anaconda\")\n",
    "\n",
    "# print the names of the two variables\n",
    "print(python.name)\n",
    "\n",
    "print(anaconda.name)"
   ]
  },
  {
   "cell_type": "markdown",
   "metadata": {},
   "source": [
    "<span style=\"color:red; font-family:Comic Sans MS\">**Sources & References** </span>     \n",
    "<a href=\"https://www.hackerearth.com/practice/python/object-oriented-programming/classes-and-objects-i/tutorial/\" target=\"_blank\">https://www.hackerearth.com/practice/python/object-oriented-programming/classes-and-objects-i/tutorial/</a>  \n"
   ]
  },
  {
   "cell_type": "markdown",
   "metadata": {
    "collapsed": true
   },
   "source": [
    "<span style=\"color:red; font-family:brandon\">Further  Resources</span>  \n",
    "<a href=\"https://www.programiz.com/python-programming/object-oriented-programming\" target=\"_blank\">https://www.programiz.com/python-programming/object-oriented-programming</a>  \n",
    "<a href=\"https://realpython.com/python3-object-oriented-programming/\" target=\"_blank\">https://realpython.com/python3-object-oriented-programming/</a>  "
   ]
  }
 ],
 "metadata": {
  "kernelspec": {
   "display_name": "Python 3",
   "language": "python",
   "name": "python3"
  },
  "language_info": {
   "codemirror_mode": {
    "name": "ipython",
    "version": 3
   },
   "file_extension": ".py",
   "mimetype": "text/x-python",
   "name": "python",
   "nbconvert_exporter": "python",
   "pygments_lexer": "ipython3",
   "version": "3.6.4"
  },
  "toc": {
   "base_numbering": 1,
   "nav_menu": {},
   "number_sections": true,
   "sideBar": true,
   "skip_h1_title": false,
   "title_cell": "Table of Contents",
   "title_sidebar": "Contents",
   "toc_cell": false,
   "toc_position": {},
   "toc_section_display": true,
   "toc_window_display": false
  }
 },
 "nbformat": 4,
 "nbformat_minor": 2
}
