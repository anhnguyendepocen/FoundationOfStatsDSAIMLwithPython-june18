{
  "cells": [
    {
      "metadata": {
        "collapsed": true,
        "trusted": false
      },
      "cell_type": "markdown",
      "source": "**Basic Python:**  \nBasic data types (Containers, Lists, Dictionaries, Sets, Tuples), Functions, Classes  \nNumpy: Arrays, Array indexing, Datatypes, Array math, Broadcasting  "
    },
    {
      "metadata": {},
      "cell_type": "markdown",
      "source": "http://nbviewer.jupyter.org/github/kuleshov/cs228-material/blob/master/tutorials/python/cs228-python-tutorial.ipynb"
    },
    {
      "metadata": {},
      "cell_type": "markdown",
      "source": "**List Comprehensions**"
    },
    {
      "metadata": {},
      "cell_type": "markdown",
      "source": "https://gist.github.com/jon003/c51fa0523e1ac267b79550ea24c6ce4c     "
    },
    {
      "metadata": {},
      "cell_type": "markdown",
      "source": "https://gist.github.com/jon003/06a344e95d96f5fe2fc9b4d5d41a6ee3  "
    },
    {
      "metadata": {},
      "cell_type": "markdown",
      "source": "**NumPy Exercises for Data Analysis**"
    },
    {
      "metadata": {},
      "cell_type": "markdown",
      "source": "https://www.machinelearningplus.com/python/101-numpy-exercises-python/"
    },
    {
      "metadata": {},
      "cell_type": "markdown",
      "source": "**Pandas Exercises for Data Analysis**"
    },
    {
      "metadata": {},
      "cell_type": "markdown",
      "source": "https://www.machinelearningplus.com/python/101-pandas-exercises-python/"
    }
  ],
  "metadata": {
    "kernelspec": {
      "name": "python36",
      "display_name": "Python 3.6",
      "language": "python"
    },
    "language_info": {
      "mimetype": "text/x-python",
      "nbconvert_exporter": "python",
      "name": "python",
      "pygments_lexer": "ipython3",
      "version": "3.6.6",
      "file_extension": ".py",
      "codemirror_mode": {
        "version": 3,
        "name": "ipython"
      }
    },
    "toc": {
      "nav_menu": {},
      "number_sections": true,
      "sideBar": true,
      "skip_h1_title": false,
      "base_numbering": 1,
      "title_cell": "Table of Contents",
      "title_sidebar": "Contents",
      "toc_cell": false,
      "toc_position": {},
      "toc_section_display": true,
      "toc_window_display": false
    }
  },
  "nbformat": 4,
  "nbformat_minor": 2
}