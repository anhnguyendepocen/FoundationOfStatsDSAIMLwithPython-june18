{
  "cells": [
    {
      "metadata": {
        "toc": true,
        "solution": "hidden"
      },
      "cell_type": "markdown",
      "source": "<h1>Document Header<span class=\"tocSkip\"></span></h1>\n<div class=\"toc\"><ul class=\"toc-item\"><li><span><a href=\"#Topic-1\" data-toc-modified-id=\"Topic-1-1\">Topic 1</a></span><ul class=\"toc-item\"><li><span><a href=\"#Sub-Topic-1a\" data-toc-modified-id=\"Sub-Topic-1a-1.1\">Sub Topic 1a</a></span></li><li><span><a href=\"#Sub-Topic-1b\" data-toc-modified-id=\"Sub-Topic-1b-1.2\">Sub Topic 1b</a></span></li></ul></li><li><span><a href=\"#Topic-2\" data-toc-modified-id=\"Topic-2-2\">Topic 2</a></span><ul class=\"toc-item\"><li><span><a href=\"#Sub-Topic-2a\" data-toc-modified-id=\"Sub-Topic-2a-2.1\">Sub Topic 2a</a></span></li><li><span><a href=\"#Sub-Topic-2b\" data-toc-modified-id=\"Sub-Topic-2b-2.2\">Sub Topic 2b</a></span></li></ul></li></ul></div>"
    },
    {
      "metadata": {},
      "cell_type": "markdown",
      "source": "<br/><br/>\n# Document Header\n(https://github.com/iitmcvg/numpy_exercises)"
    },
    {
      "metadata": {},
      "cell_type": "markdown",
      "source": "<br/>\n## Topic 1 "
    },
    {
      "metadata": {},
      "cell_type": "markdown",
      "source": "### Sub Topic 1a\n**Title in bold**   \nExplanation in normal font  \n* bullet points  \n``with explanation's code in code block``"
    },
    {
      "metadata": {
        "solution": "shown",
        "trusted": false
      },
      "cell_type": "code",
      "source": "#some initial code here, to help start the user.\n\nmy_var = 100\nprint('my_var is %d' % my_var)",
      "execution_count": 28,
      "outputs": [
        {
          "name": "stdout",
          "output_type": "stream",
          "text": "my_var is 100\n"
        }
      ]
    },
    {
      "metadata": {
        "solution": "shown",
        "solution_first": true
      },
      "cell_type": "markdown",
      "source": "** Exercise **  \n\n- create a variable with name 'stoic' and assign 999 to it."
    },
    {
      "metadata": {
        "solution": "shown",
        "solution2": "shown",
        "solution2_first": true,
        "trusted": false
      },
      "cell_type": "code",
      "source": "# write your code here",
      "execution_count": 22,
      "outputs": []
    },
    {
      "metadata": {
        "solution2": "shown",
        "trusted": false
      },
      "cell_type": "code",
      "source": "# write your code here.\nstoic = 999\nprint('stoic is %d' % stoic)",
      "execution_count": 23,
      "outputs": [
        {
          "name": "stdout",
          "output_type": "stream",
          "text": "stoic is 999\n"
        }
      ]
    },
    {
      "metadata": {},
      "cell_type": "markdown",
      "source": "### Sub Topic 1b\n**Title in bold**   \nExplanation in normal font  \n* bullet points  \n``with explanation's code in code block``"
    },
    {
      "metadata": {
        "solution": "hidden",
        "trusted": false
      },
      "cell_type": "code",
      "source": "#some initial code here, to help start the user.\n\nmy_var = 100\nprint('my_var is %d' % my_var)",
      "execution_count": 24,
      "outputs": [
        {
          "name": "stdout",
          "output_type": "stream",
          "text": "my_var is 100\n"
        }
      ]
    },
    {
      "metadata": {
        "solution": "hidden",
        "solution_first": true
      },
      "cell_type": "markdown",
      "source": "** Exercise **  \n\n- create a variable with name 'stoic' and assign 999 to it."
    },
    {
      "metadata": {
        "solution": "hidden",
        "solution2": "hidden",
        "solution2_first": true,
        "trusted": false
      },
      "cell_type": "code",
      "source": "# write your code here",
      "execution_count": 25,
      "outputs": []
    },
    {
      "metadata": {
        "solution2": "hidden",
        "trusted": false
      },
      "cell_type": "code",
      "source": "# write your code here.\nstoic = 999\nprint('stoic is %d' % stoic)",
      "execution_count": 12,
      "outputs": [
        {
          "name": "stdout",
          "output_type": "stream",
          "text": "stoic is 999\n"
        }
      ]
    },
    {
      "metadata": {},
      "cell_type": "markdown",
      "source": "<br/>\n## Topic 2 "
    },
    {
      "metadata": {},
      "cell_type": "markdown",
      "source": "### Sub Topic 2a\n**Title in bold**   \nExplanation in normal font  \n* bullet points  \n``with explanation's code in code block``"
    },
    {
      "metadata": {
        "solution": "hidden",
        "trusted": false
      },
      "cell_type": "code",
      "source": "#some initial code here, to help start the user.\n\nmy_var = 100\nprint('my_var is %d' % my_var)",
      "execution_count": 26,
      "outputs": [
        {
          "name": "stdout",
          "output_type": "stream",
          "text": "my_var is 100\n"
        }
      ]
    },
    {
      "metadata": {
        "solution": "hidden",
        "solution_first": true
      },
      "cell_type": "markdown",
      "source": "** Exercise **  \n\n- create a variable with name 'stoic' and assign 999 to it."
    },
    {
      "metadata": {
        "solution": "hidden",
        "solution2": "hidden",
        "solution2_first": true,
        "trusted": false
      },
      "cell_type": "code",
      "source": "# write your code here",
      "execution_count": 27,
      "outputs": []
    },
    {
      "metadata": {
        "solution2": "hidden",
        "trusted": false
      },
      "cell_type": "code",
      "source": "# write your code here.\nstoic = 999\nprint('stoic is %d' % stoic)",
      "execution_count": 18,
      "outputs": [
        {
          "name": "stdout",
          "output_type": "stream",
          "text": "stoic is 999\n"
        }
      ]
    },
    {
      "metadata": {
        "solution": "hidden"
      },
      "cell_type": "markdown",
      "source": "### Sub Topic 2b\n**Title in bold**   \nExplanation in normal font  \n* bullet points  \n``with explanation's code in code block``"
    },
    {
      "metadata": {
        "solution": "hidden",
        "trusted": false
      },
      "cell_type": "code",
      "source": "#some initial code here, to help start the user.\n\nmy_var = 100\nprint('my_var is %d' % my_var)",
      "execution_count": 19,
      "outputs": [
        {
          "name": "stdout",
          "output_type": "stream",
          "text": "my_var is 100\n"
        }
      ]
    },
    {
      "metadata": {
        "solution": "hidden",
        "solution_first": true
      },
      "cell_type": "markdown",
      "source": "** Exercise **  \n\n- create a variable with name 'stoic' and assign 999 to it."
    },
    {
      "metadata": {
        "solution": "hidden",
        "solution2": "hidden",
        "solution2_first": true,
        "trusted": false
      },
      "cell_type": "code",
      "source": "# write your code here",
      "execution_count": null,
      "outputs": []
    },
    {
      "metadata": {
        "solution": "hidden",
        "solution2": "hidden",
        "trusted": false
      },
      "cell_type": "code",
      "source": "# write your code here.\nstoic = 999\nprint('stoic is %d' % stoic)",
      "execution_count": null,
      "outputs": []
    }
  ],
  "metadata": {
    "kernelspec": {
      "name": "python3",
      "display_name": "Python 3",
      "language": "python"
    },
    "language_info": {
      "mimetype": "text/x-python",
      "nbconvert_exporter": "python",
      "name": "python",
      "file_extension": ".py",
      "version": "3.5.4",
      "pygments_lexer": "ipython3",
      "codemirror_mode": {
        "version": 3,
        "name": "ipython"
      }
    },
    "toc": {
      "nav_menu": {
        "height": "116px",
        "width": "160px"
      },
      "number_sections": false,
      "sideBar": true,
      "skip_h1_title": true,
      "base_numbering": 1,
      "title_cell": "Document Header",
      "title_sidebar": "Document Header",
      "toc_cell": true,
      "toc_position": {},
      "toc_section_display": true,
      "toc_window_display": false
    }
  },
  "nbformat": 4,
  "nbformat_minor": 2
}