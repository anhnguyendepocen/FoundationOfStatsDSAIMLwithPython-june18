{
 "cells": [
  {
   "cell_type": "markdown",
   "metadata": {
    "toc": true
   },
   "source": [
    "<h1>Document Header<span class=\"tocSkip\"></span></h1>\n",
    "<div class=\"toc\"><ul class=\"toc-item\"><li><span><a href=\"#Topic-1\" data-toc-modified-id=\"Topic-1-1\">Topic 1</a></span><ul class=\"toc-item\"><li><span><a href=\"#Sub-Topic-1a\" data-toc-modified-id=\"Sub-Topic-1a-1.1\">Sub Topic 1a</a></span></li><li><span><a href=\"#Sub-Topic-1b\" data-toc-modified-id=\"Sub-Topic-1b-1.2\">Sub Topic 1b</a></span></li></ul></li><li><span><a href=\"#Topic-2\" data-toc-modified-id=\"Topic-2-2\">Topic 2</a></span><ul class=\"toc-item\"><li><span><a href=\"#Sub-Topic-2a\" data-toc-modified-id=\"Sub-Topic-2a-2.1\">Sub Topic 2a</a></span></li><li><span><a href=\"#Sub-Topic-2b\" data-toc-modified-id=\"Sub-Topic-2b-2.2\">Sub Topic 2b</a></span></li></ul></li></ul></div>"
   ]
  },
  {
   "cell_type": "markdown",
   "metadata": {},
   "source": [
    "<br/><br/>\n",
    "# Document Header\n",
    "(https://github.com/iitmcvg/numpy_exercises)"
   ]
  },
  {
   "cell_type": "markdown",
   "metadata": {},
   "source": [
    "<br/>\n",
    "## Topic 1 "
   ]
  },
  {
   "cell_type": "markdown",
   "metadata": {},
   "source": [
    "### Sub Topic 1a\n",
    "**Title in bold**   \n",
    "Explanation in normal font  \n",
    "* bullet points  \n",
    "``with explanation's code in code block``"
   ]
  },
  {
   "cell_type": "code",
   "execution_count": 28,
   "metadata": {
    "solution": "hidden"
   },
   "outputs": [
    {
     "name": "stdout",
     "output_type": "stream",
     "text": [
      "my_var is 100\n"
     ]
    }
   ],
   "source": [
    "#some initial code here, to help start the user.\n",
    "\n",
    "my_var = 100\n",
    "print('my_var is %d' % my_var)"
   ]
  },
  {
   "cell_type": "markdown",
   "metadata": {
    "solution": "hidden",
    "solution_first": true
   },
   "source": [
    "** Exercise **  \n",
    "\n",
    "- create a variable with name 'stoic' and assign 999 to it."
   ]
  },
  {
   "cell_type": "code",
   "execution_count": 22,
   "metadata": {
    "solution": "hidden",
    "solution2": "hidden",
    "solution2_first": true
   },
   "outputs": [],
   "source": [
    "# write your code here"
   ]
  },
  {
   "cell_type": "code",
   "execution_count": 23,
   "metadata": {
    "solution2": "hidden"
   },
   "outputs": [
    {
     "name": "stdout",
     "output_type": "stream",
     "text": [
      "stoic is 999\n"
     ]
    }
   ],
   "source": [
    "# write your code here.\n",
    "stoic = 999\n",
    "print('stoic is %d' % stoic)"
   ]
  },
  {
   "cell_type": "markdown",
   "metadata": {},
   "source": [
    "### Sub Topic 1b\n",
    "**Title in bold**   \n",
    "Explanation in normal font  \n",
    "* bullet points  \n",
    "``with explanation's code in code block``"
   ]
  },
  {
   "cell_type": "code",
   "execution_count": 24,
   "metadata": {
    "solution": "hidden"
   },
   "outputs": [
    {
     "name": "stdout",
     "output_type": "stream",
     "text": [
      "my_var is 100\n"
     ]
    }
   ],
   "source": [
    "#some initial code here, to help start the user.\n",
    "\n",
    "my_var = 100\n",
    "print('my_var is %d' % my_var)"
   ]
  },
  {
   "cell_type": "markdown",
   "metadata": {
    "solution": "hidden",
    "solution_first": true
   },
   "source": [
    "** Exercise **  \n",
    "\n",
    "- create a variable with name 'stoic' and assign 999 to it."
   ]
  },
  {
   "cell_type": "code",
   "execution_count": 25,
   "metadata": {
    "solution": "hidden",
    "solution2": "hidden",
    "solution2_first": true
   },
   "outputs": [],
   "source": [
    "# write your code here"
   ]
  },
  {
   "cell_type": "code",
   "execution_count": 12,
   "metadata": {
    "solution2": "hidden"
   },
   "outputs": [
    {
     "name": "stdout",
     "output_type": "stream",
     "text": [
      "stoic is 999\n"
     ]
    }
   ],
   "source": [
    "# write your code here.\n",
    "stoic = 999\n",
    "print('stoic is %d' % stoic)"
   ]
  },
  {
   "cell_type": "markdown",
   "metadata": {},
   "source": [
    "<br/>\n",
    "## Topic 2 "
   ]
  },
  {
   "cell_type": "markdown",
   "metadata": {},
   "source": [
    "### Sub Topic 2a\n",
    "**Title in bold**   \n",
    "Explanation in normal font  \n",
    "* bullet points  \n",
    "``with explanation's code in code block``"
   ]
  },
  {
   "cell_type": "code",
   "execution_count": 26,
   "metadata": {
    "solution": "hidden"
   },
   "outputs": [
    {
     "name": "stdout",
     "output_type": "stream",
     "text": [
      "my_var is 100\n"
     ]
    }
   ],
   "source": [
    "#some initial code here, to help start the user.\n",
    "\n",
    "my_var = 100\n",
    "print('my_var is %d' % my_var)"
   ]
  },
  {
   "cell_type": "markdown",
   "metadata": {
    "solution": "hidden",
    "solution_first": true
   },
   "source": [
    "** Exercise **  \n",
    "\n",
    "- create a variable with name 'stoic' and assign 999 to it."
   ]
  },
  {
   "cell_type": "code",
   "execution_count": 27,
   "metadata": {
    "solution": "hidden",
    "solution2": "hidden",
    "solution2_first": true
   },
   "outputs": [],
   "source": [
    "# write your code here"
   ]
  },
  {
   "cell_type": "code",
   "execution_count": 18,
   "metadata": {
    "solution2": "hidden"
   },
   "outputs": [
    {
     "name": "stdout",
     "output_type": "stream",
     "text": [
      "stoic is 999\n"
     ]
    }
   ],
   "source": [
    "# write your code here.\n",
    "stoic = 999\n",
    "print('stoic is %d' % stoic)"
   ]
  },
  {
   "cell_type": "markdown",
   "metadata": {
    "solution": "hidden"
   },
   "source": [
    "### Sub Topic 2b\n",
    "**Title in bold**   \n",
    "Explanation in normal font  \n",
    "* bullet points  \n",
    "``with explanation's code in code block``"
   ]
  },
  {
   "cell_type": "code",
   "execution_count": 19,
   "metadata": {
    "solution": "hidden"
   },
   "outputs": [
    {
     "name": "stdout",
     "output_type": "stream",
     "text": [
      "my_var is 100\n"
     ]
    }
   ],
   "source": [
    "#some initial code here, to help start the user.\n",
    "\n",
    "my_var = 100\n",
    "print('my_var is %d' % my_var)"
   ]
  },
  {
   "cell_type": "markdown",
   "metadata": {
    "solution": "hidden",
    "solution_first": true
   },
   "source": [
    "** Exercise **  \n",
    "\n",
    "- create a variable with name 'stoic' and assign 999 to it."
   ]
  },
  {
   "cell_type": "code",
   "execution_count": null,
   "metadata": {
    "solution": "hidden",
    "solution2": "hidden",
    "solution2_first": true
   },
   "outputs": [],
   "source": [
    "# write your code here"
   ]
  },
  {
   "cell_type": "code",
   "execution_count": null,
   "metadata": {
    "solution": "hidden",
    "solution2": "hidden"
   },
   "outputs": [],
   "source": [
    "# write your code here.\n",
    "stoic = 999\n",
    "print('stoic is %d' % stoic)"
   ]
  }
 ],
 "metadata": {
  "kernelspec": {
   "display_name": "Python 3",
   "language": "python",
   "name": "python3"
  },
  "language_info": {
   "codemirror_mode": {
    "name": "ipython",
    "version": 3
   },
   "file_extension": ".py",
   "mimetype": "text/x-python",
   "name": "python",
   "nbconvert_exporter": "python",
   "pygments_lexer": "ipython3",
   "version": "3.6.4"
  },
  "toc": {
   "base_numbering": 1,
   "nav_menu": {
    "height": "116px",
    "width": "160px"
   },
   "number_sections": false,
   "sideBar": true,
   "skip_h1_title": true,
   "title_cell": "Document Header",
   "title_sidebar": "Document Header",
   "toc_cell": true,
   "toc_position": {},
   "toc_section_display": true,
   "toc_window_display": false
  }
 },
 "nbformat": 4,
 "nbformat_minor": 2
}
