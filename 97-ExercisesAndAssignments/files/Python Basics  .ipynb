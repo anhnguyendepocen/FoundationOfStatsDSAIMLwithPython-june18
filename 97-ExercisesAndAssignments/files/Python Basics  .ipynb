{
  "cells": [
    {
      "metadata": {},
      "cell_type": "markdown",
      "source": "**In this tutorial, we will cover:**  \n   \nBasic Python: Basic data types (Containers, Lists, Dictionaries, Sets, Tuples), Functions, Classes  \nNumpy: Arrays, Array indexing, Datatypes, Array math, Broadcasting  \nMatplotlib: Plotting, Subplots, Images  "
    },
    {
      "metadata": {},
      "cell_type": "markdown",
      "source": "http://nbviewer.jupyter.org/github/kuleshov/cs228-material/blob/master/tutorials/python/cs228-python-tutorial.ipynb"
    },
    {
      "metadata": {},
      "cell_type": "markdown",
      "source": "**NumPy Exercises for Data Analysis**"
    },
    {
      "metadata": {},
      "cell_type": "markdown",
      "source": "https://www.machinelearningplus.com/python/101-numpy-exercises-python/"
    },
    {
      "metadata": {},
      "cell_type": "markdown",
      "source": "**Pandas Exercises for Data Analysis**"
    },
    {
      "metadata": {},
      "cell_type": "markdown",
      "source": "https://www.machinelearningplus.com/python/101-pandas-exercises-python/"
    }
  ],
  "metadata": {
    "kernelspec": {
      "name": "python3",
      "display_name": "Python 3",
      "language": "python"
    },
    "language_info": {
      "mimetype": "text/x-python",
      "nbconvert_exporter": "python",
      "name": "python",
      "file_extension": ".py",
      "version": "3.5.4",
      "pygments_lexer": "ipython3",
      "codemirror_mode": {
        "version": 3,
        "name": "ipython"
      }
    },
    "toc": {
      "nav_menu": {},
      "number_sections": true,
      "sideBar": true,
      "skip_h1_title": false,
      "base_numbering": 1,
      "title_cell": "Table of Contents",
      "title_sidebar": "Contents",
      "toc_cell": false,
      "toc_position": {},
      "toc_section_display": true,
      "toc_window_display": false
    }
  },
  "nbformat": 4,
  "nbformat_minor": 2
}