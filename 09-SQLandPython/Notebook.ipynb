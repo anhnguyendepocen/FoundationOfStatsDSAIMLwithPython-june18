{
  "cells": [
    {
      "metadata": {},
      "cell_type": "markdown",
      "source": "## Connect with SQLite & Python"
    },
    {
      "metadata": {
        "collapsed": true
      },
      "cell_type": "markdown",
      "source": "**Introduction:**  \n* Python is very flexible for third-party modules to support many operations. \n* SQL (Structured Query Language) can be executed from within Python using `sqlite3`(light-weight module). \n* The `sqlite3` module offers support to connect to an external database and execute SQL queries. \n* It supports almost all basic sql operations and can be implemented for a database of up to 140 Terabytes in size, however this module does not offer the complete querying capabilities. \n* Other modules like MySQLdb (same as mysql-python), offer a more extensive range of functions and query processing abilities.\n\n\n**`Connect()` Method - Connecting to the Database**\n* The `Connect()` method in the sqlite module helps to create a connection with an external database. The method accepts the name of the external database as argument. \n* We can also create a database in-memory by passing \":memory:\" as the argument, however care needs to be taken as this consumes RAM.  \n\n* The connection is stored as a connection object. \n* Methods like `cursor`, `commit`, `close`, `rollback`, `execute`, `create_function`, etc., can be called on the connection object. \n* In order to learn the full-range of methods and their descriptions, please refer to the sqlite module documentation (Link: https://docs.python.org/2/library/sqlite3.html#module-sqlite3).\n\nExercise\nData History: As part of this exercise, we will work with the 'Murders' data. This dataset consists of the number of murders committed in the given metropolitan city. The data for two years, 2014 and 2015 is given, along with a column which shows the change in number of murders.\n\nUse the connect method to establish a connection with a database file created within memory (Hint: Use :memory: to create an in-memory database)."
    },
    {
      "metadata": {},
      "cell_type": "markdown",
      "source": "Sample database downloaded and stored in `data/chinook_database/` from below link, this tutorial is also used to practice sqlite    \nhttp://www.sqlitetutorial.net/sqlite-sample-database/"
    },
    {
      "metadata": {},
      "cell_type": "markdown",
      "source": "![Imgur](https://i.imgur.com/leeqe9z.jpg)"
    },
    {
      "metadata": {},
      "cell_type": "markdown",
      "source": "Install DB Browser for SQLite  (for interactive practice)  \nhttps://sqlitebrowser.org/  "
    },
    {
      "metadata": {},
      "cell_type": "markdown",
      "source": "SQLite Tutorial  \nhttps://www.datacamp.com/community/tutorials/beginners-guide-to-sqlite  \nhttps://www.datacamp.com/community/tutorials/sqlite-in-python  "
    },
    {
      "metadata": {
        "trusted": true
      },
      "cell_type": "code",
      "source": "import sqlite3\n\n# murcon = sqlite3.connect(':memory:') for in-memory database to Create a database in RAM\nmurcon = sqlite3.connect('data/chinook_database/chinook.db') # for external database connection",
      "execution_count": 1,
      "outputs": []
    },
    {
      "metadata": {
        "trusted": true
      },
      "cell_type": "code",
      "source": "murcur = murcon.cursor()",
      "execution_count": 2,
      "outputs": []
    },
    {
      "metadata": {
        "trusted": true
      },
      "cell_type": "code",
      "source": "murcur.execute('SELECT * from customers')\nqueryone = murcur.fetchall()\nprint(queryone)",
      "execution_count": 3,
      "outputs": [
        {
          "output_type": "stream",
          "text": "[(1, 'Luís', 'Gonçalves', 'Embraer - Empresa Brasileira de Aeronáutica S.A.', 'Av. Brigadeiro Faria Lima, 2170', 'São José dos Campos', 'SP', 'Brazil', '12227-000', '+55 (12) 3923-5555', '+55 (12) 3923-5566', 'luisg@embraer.com.br', 3), (2, 'Leonie', 'Köhler', None, 'Theodor-Heuss-Straße 34', 'Stuttgart', None, 'Germany', '70174', '+49 0711 2842222', None, 'leonekohler@surfeu.de', 5), (3, 'François', 'Tremblay', None, '1498 rue Bélanger', 'Montréal', 'QC', 'Canada', 'H2G 1A7', '+1 (514) 721-4711', None, 'ftremblay@gmail.com', 3), (4, 'Bjørn', 'Hansen', None, 'Ullevålsveien 14', 'Oslo', None, 'Norway', '0171', '+47 22 44 22 22', None, 'bjorn.hansen@yahoo.no', 4), (5, 'František', 'Wichterlová', 'JetBrains s.r.o.', 'Klanova 9/506', 'Prague', None, 'Czech Republic', '14700', '+420 2 4172 5555', '+420 2 4172 5555', 'frantisekw@jetbrains.com', 4), (6, 'Helena', 'Holý', None, 'Rilská 3174/6', 'Prague', None, 'Czech Republic', '14300', '+420 2 4177 0449', None, 'hholy@gmail.com', 5), (7, 'Astrid', 'Gruber', None, 'Rotenturmstraße 4, 1010 Innere Stadt', 'Vienne', None, 'Austria', '1010', '+43 01 5134505', None, 'astrid.gruber@apple.at', 5), (8, 'Daan', 'Peeters', None, 'Grétrystraat 63', 'Brussels', None, 'Belgium', '1000', '+32 02 219 03 03', None, 'daan_peeters@apple.be', 4), (9, 'Kara', 'Nielsen', None, 'Sønder Boulevard 51', 'Copenhagen', None, 'Denmark', '1720', '+453 3331 9991', None, 'kara.nielsen@jubii.dk', 4), (10, 'Eduardo', 'Martins', 'Woodstock Discos', 'Rua Dr. Falcão Filho, 155', 'São Paulo', 'SP', 'Brazil', '01007-010', '+55 (11) 3033-5446', '+55 (11) 3033-4564', 'eduardo@woodstock.com.br', 4), (11, 'Alexandre', 'Rocha', 'Banco do Brasil S.A.', 'Av. Paulista, 2022', 'São Paulo', 'SP', 'Brazil', '01310-200', '+55 (11) 3055-3278', '+55 (11) 3055-8131', 'alero@uol.com.br', 5), (12, 'Roberto', 'Almeida', 'Riotur', 'Praça Pio X, 119', 'Rio de Janeiro', 'RJ', 'Brazil', '20040-020', '+55 (21) 2271-7000', '+55 (21) 2271-7070', 'roberto.almeida@riotur.gov.br', 3), (13, 'Fernanda', 'Ramos', None, 'Qe 7 Bloco G', 'Brasília', 'DF', 'Brazil', '71020-677', '+55 (61) 3363-5547', '+55 (61) 3363-7855', 'fernadaramos4@uol.com.br', 4), (14, 'Mark', 'Philips', 'Telus', '8210 111 ST NW', 'Edmonton', 'AB', 'Canada', 'T6G 2C7', '+1 (780) 434-4554', '+1 (780) 434-5565', 'mphilips12@shaw.ca', 5), (15, 'Jennifer', 'Peterson', 'Rogers Canada', '700 W Pender Street', 'Vancouver', 'BC', 'Canada', 'V6C 1G8', '+1 (604) 688-2255', '+1 (604) 688-8756', 'jenniferp@rogers.ca', 3), (16, 'Frank', 'Harris', 'Google Inc.', '1600 Amphitheatre Parkway', 'Mountain View', 'CA', 'USA', '94043-1351', '+1 (650) 253-0000', '+1 (650) 253-0000', 'fharris@google.com', 4), (17, 'Jack', 'Smith', 'Microsoft Corporation', '1 Microsoft Way', 'Redmond', 'WA', 'USA', '98052-8300', '+1 (425) 882-8080', '+1 (425) 882-8081', 'jacksmith@microsoft.com', 5), (18, 'Michelle', 'Brooks', None, '627 Broadway', 'New York', 'NY', 'USA', '10012-2612', '+1 (212) 221-3546', '+1 (212) 221-4679', 'michelleb@aol.com', 3), (19, 'Tim', 'Goyer', 'Apple Inc.', '1 Infinite Loop', 'Cupertino', 'CA', 'USA', '95014', '+1 (408) 996-1010', '+1 (408) 996-1011', 'tgoyer@apple.com', 3), (20, 'Dan', 'Miller', None, '541 Del Medio Avenue', 'Mountain View', 'CA', 'USA', '94040-111', '+1 (650) 644-3358', None, 'dmiller@comcast.com', 4), (21, 'Kathy', 'Chase', None, '801 W 4th Street', 'Reno', 'NV', 'USA', '89503', '+1 (775) 223-7665', None, 'kachase@hotmail.com', 5), (22, 'Heather', 'Leacock', None, '120 S Orange Ave', 'Orlando', 'FL', 'USA', '32801', '+1 (407) 999-7788', None, 'hleacock@gmail.com', 4), (23, 'John', 'Gordon', None, '69 Salem Street', 'Boston', 'MA', 'USA', '2113', '+1 (617) 522-1333', None, 'johngordon22@yahoo.com', 4), (24, 'Frank', 'Ralston', None, '162 E Superior Street', 'Chicago', 'IL', 'USA', '60611', '+1 (312) 332-3232', None, 'fralston@gmail.com', 3), (25, 'Victor', 'Stevens', None, '319 N. Frances Street', 'Madison', 'WI', 'USA', '53703', '+1 (608) 257-0597', None, 'vstevens@yahoo.com', 5), (26, 'Richard', 'Cunningham', None, '2211 W Berry Street', 'Fort Worth', 'TX', 'USA', '76110', '+1 (817) 924-7272', None, 'ricunningham@hotmail.com', 4), (27, 'Patrick', 'Gray', None, '1033 N Park Ave', 'Tucson', 'AZ', 'USA', '85719', '+1 (520) 622-4200', None, 'patrick.gray@aol.com', 4), (28, 'Julia', 'Barnett', None, '302 S 700 E', 'Salt Lake City', 'UT', 'USA', '84102', '+1 (801) 531-7272', None, 'jubarnett@gmail.com', 5), (29, 'Robert', 'Brown', None, '796 Dundas Street West', 'Toronto', 'ON', 'Canada', 'M6J 1V1', '+1 (416) 363-8888', None, 'robbrown@shaw.ca', 3), (30, 'Edward', 'Francis', None, '230 Elgin Street', 'Ottawa', 'ON', 'Canada', 'K2P 1L7', '+1 (613) 234-3322', None, 'edfrancis@yachoo.ca', 3), (31, 'Martha', 'Silk', None, '194A Chain Lake Drive', 'Halifax', 'NS', 'Canada', 'B3S 1C5', '+1 (902) 450-0450', None, 'marthasilk@gmail.com', 5), (32, 'Aaron', 'Mitchell', None, '696 Osborne Street', 'Winnipeg', 'MB', 'Canada', 'R3L 2B9', '+1 (204) 452-6452', None, 'aaronmitchell@yahoo.ca', 4), (33, 'Ellie', 'Sullivan', None, '5112 48 Street', 'Yellowknife', 'NT', 'Canada', 'X1A 1N6', '+1 (867) 920-2233', None, 'ellie.sullivan@shaw.ca', 3), (34, 'João', 'Fernandes', None, 'Rua da Assunção 53', 'Lisbon', None, 'Portugal', None, '+351 (213) 466-111', None, 'jfernandes@yahoo.pt', 4), (35, 'Madalena', 'Sampaio', None, 'Rua dos Campeões Europeus de Viena, 4350', 'Porto', None, 'Portugal', None, '+351 (225) 022-448', None, 'masampaio@sapo.pt', 4), (36, 'Hannah', 'Schneider', None, 'Tauentzienstraße 8', 'Berlin', None, 'Germany', '10789', '+49 030 26550280', None, 'hannah.schneider@yahoo.de', 5), (37, 'Fynn', 'Zimmermann', None, 'Berger Straße 10', 'Frankfurt', None, 'Germany', '60316', '+49 069 40598889', None, 'fzimmermann@yahoo.de', 3), (38, 'Niklas', 'Schröder', None, 'Barbarossastraße 19', 'Berlin', None, 'Germany', '10779', '+49 030 2141444', None, 'nschroder@surfeu.de', 3), (39, 'Camille', 'Bernard', None, '4, Rue Milton', 'Paris', None, 'France', '75009', '+33 01 49 70 65 65', None, 'camille.bernard@yahoo.fr', 4), (40, 'Dominique', 'Lefebvre', None, '8, Rue Hanovre', 'Paris', None, 'France', '75002', '+33 01 47 42 71 71', None, 'dominiquelefebvre@gmail.com', 4), (41, 'Marc', 'Dubois', None, '11, Place Bellecour', 'Lyon', None, 'France', '69002', '+33 04 78 30 30 30', None, 'marc.dubois@hotmail.com', 5), (42, 'Wyatt', 'Girard', None, '9, Place Louis Barthou', 'Bordeaux', None, 'France', '33000', '+33 05 56 96 96 96', None, 'wyatt.girard@yahoo.fr', 3), (43, 'Isabelle', 'Mercier', None, '68, Rue Jouvence', 'Dijon', None, 'France', '21000', '+33 03 80 73 66 99', None, 'isabelle_mercier@apple.fr', 3), (44, 'Terhi', 'Hämäläinen', None, 'Porthaninkatu 9', 'Helsinki', None, 'Finland', '00530', '+358 09 870 2000', None, 'terhi.hamalainen@apple.fi', 3), (45, 'Ladislav', 'Kovács', None, 'Erzsébet krt. 58.', 'Budapest', None, 'Hungary', 'H-1073', None, None, 'ladislav_kovacs@apple.hu', 3), (46, 'Hugh', \"O'Reilly\", None, '3 Chatham Street', 'Dublin', 'Dublin', 'Ireland', None, '+353 01 6792424', None, 'hughoreilly@apple.ie', 3), (47, 'Lucas', 'Mancini', None, 'Via Degli Scipioni, 43', 'Rome', 'RM', 'Italy', '00192', '+39 06 39733434', None, 'lucas.mancini@yahoo.it', 5), (48, 'Johannes', 'Van der Berg', None, 'Lijnbaansgracht 120bg', 'Amsterdam', 'VV', 'Netherlands', '1016', '+31 020 6223130', None, 'johavanderberg@yahoo.nl', 5), (49, 'Stanisław', 'Wójcik', None, 'Ordynacka 10', 'Warsaw', None, 'Poland', '00-358', '+48 22 828 37 39', None, 'stanisław.wójcik@wp.pl', 4), (50, 'Enrique', 'Muñoz', None, 'C/ San Bernardo 85', 'Madrid', None, 'Spain', '28015', '+34 914 454 454', None, 'enrique_munoz@yahoo.es', 5), (51, 'Joakim', 'Johansson', None, 'Celsiusg. 9', 'Stockholm', None, 'Sweden', '11230', '+46 08-651 52 52', None, 'joakim.johansson@yahoo.se', 5), (52, 'Emma', 'Jones', None, '202 Hoxton Street', 'London', None, 'United Kingdom', 'N1 5LH', '+44 020 7707 0707', None, 'emma_jones@hotmail.com', 3), (53, 'Phil', 'Hughes', None, '113 Lupus St', 'London', None, 'United Kingdom', 'SW1V 3EN', '+44 020 7976 5722', None, 'phil.hughes@gmail.com', 3), (54, 'Steve', 'Murray', None, '110 Raeburn Pl', 'Edinburgh ', None, 'United Kingdom', 'EH4 1HH', '+44 0131 315 3300', None, 'steve.murray@yahoo.uk', 5), (55, 'Mark', 'Taylor', None, '421 Bourke Street', 'Sidney', 'NSW', 'Australia', '2010', '+61 (02) 9332 3633', None, 'mark.taylor@yahoo.au', 4), (56, 'Diego', 'Gutiérrez', None, '307 Macacha Güemes', 'Buenos Aires', None, 'Argentina', '1106', '+54 (0)11 4311 4333', None, 'diego.gutierrez@yahoo.ar', 4), (57, 'Luis', 'Rojas', None, 'Calle Lira, 198', 'Santiago', None, 'Chile', None, '+56 (0)2 635 4444', None, 'luisrojas@yahoo.cl', 5), (58, 'Manoj', 'Pareek', None, '12,Community Centre', 'Delhi', None, 'India', '110017', '+91 0124 39883988', None, 'manoj.pareek@rediff.com', 3), (59, 'Puja', 'Srivastava', None, '3,Raj Bhavan Road', 'Bangalore', None, 'India', '560001', '+91 080 22289999', None, 'puja_srivastava@yahoo.in', 3)]\n",
          "name": "stdout"
        }
      ]
    },
    {
      "metadata": {
        "trusted": true,
        "scrolled": true
      },
      "cell_type": "code",
      "source": "import pandas as pd\nqueryone = pd.read_sql_query('SELECT * FROM customers LIMIT 5', murcon)\nprint(queryone)",
      "execution_count": 4,
      "outputs": [
        {
          "output_type": "stream",
          "text": "   CustomerId  FirstName     LastName  \\\n0           1       Luís    Gonçalves   \n1           2     Leonie       Köhler   \n2           3   François     Tremblay   \n3           4      Bjørn       Hansen   \n4           5  František  Wichterlová   \n\n                                            Company  \\\n0  Embraer - Empresa Brasileira de Aeronáutica S.A.   \n1                                              None   \n2                                              None   \n3                                              None   \n4                                  JetBrains s.r.o.   \n\n                           Address                 City State         Country  \\\n0  Av. Brigadeiro Faria Lima, 2170  São José dos Campos    SP          Brazil   \n1          Theodor-Heuss-Straße 34            Stuttgart  None         Germany   \n2                1498 rue Bélanger             Montréal    QC          Canada   \n3                 Ullevålsveien 14                 Oslo  None          Norway   \n4                    Klanova 9/506               Prague  None  Czech Republic   \n\n  PostalCode               Phone                 Fax  \\\n0  12227-000  +55 (12) 3923-5555  +55 (12) 3923-5566   \n1      70174    +49 0711 2842222                None   \n2    H2G 1A7   +1 (514) 721-4711                None   \n3       0171     +47 22 44 22 22                None   \n4      14700    +420 2 4172 5555    +420 2 4172 5555   \n\n                      Email  SupportRepId  \n0      luisg@embraer.com.br             3  \n1     leonekohler@surfeu.de             5  \n2       ftremblay@gmail.com             3  \n3     bjorn.hansen@yahoo.no             4  \n4  frantisekw@jetbrains.com             4  \n",
          "name": "stdout"
        }
      ]
    },
    {
      "metadata": {
        "trusted": true
      },
      "cell_type": "code",
      "source": "murcon.close()",
      "execution_count": 5,
      "outputs": []
    },
    {
      "metadata": {},
      "cell_type": "markdown",
      "source": "## Creating a New Database"
    },
    {
      "metadata": {
        "trusted": true
      },
      "cell_type": "code",
      "source": "import sqlite3  \ncon = sqlite3.connect('data/db/db.sqlite3') ",
      "execution_count": 2,
      "outputs": []
    },
    {
      "metadata": {
        "trusted": true
      },
      "cell_type": "code",
      "source": "import os  \nwk_dir = os.path.dirname(os.path.realpath('__file__'))\nwk_dir",
      "execution_count": 3,
      "outputs": [
        {
          "output_type": "execute_result",
          "execution_count": 3,
          "data": {
            "text/plain": "'/home/nbuser/library/09-SQLandPython'"
          },
          "metadata": {}
        }
      ]
    },
    {
      "metadata": {
        "trusted": true
      },
      "cell_type": "code",
      "source": "# db_utils.py\nimport os  \nimport sqlite3\n\n# create a default path to connect to and create (if necessary) a database\n# called 'database.sqlite3' in the same directory as this script\nDEFAULT_PATH = os.path.join(os.path.dirname(os.path.realpath('__file__')), 'data/db/database.sqlite3')\n\ndef db_connect(db_path=DEFAULT_PATH):  \n    con = sqlite3.connect(db_path)\n    return con",
      "execution_count": 4,
      "outputs": []
    },
    {
      "metadata": {
        "trusted": true,
        "scrolled": true
      },
      "cell_type": "code",
      "source": "# !pip install db_utils \n# to install any package into microsoft azure notebooks",
      "execution_count": null,
      "outputs": []
    },
    {
      "metadata": {
        "trusted": true
      },
      "cell_type": "code",
      "source": "# import db_utils\ncon = db_connect() # connect to the database\ncur = con.cursor() # instantiate a cursor obj",
      "execution_count": 5,
      "outputs": []
    },
    {
      "metadata": {
        "trusted": true
      },
      "cell_type": "code",
      "source": "customers_sql = \"\"\"\n... CREATE TABLE customers (\n...     id integer PRIMARY KEY,\n...     first_name text NOT NULL,\n...     last_name text NOT NULL)\"\"\"",
      "execution_count": 6,
      "outputs": []
    },
    {
      "metadata": {
        "trusted": true
      },
      "cell_type": "code",
      "source": "# to drop a table if it exists\n# cur.execute(\"DROP TABLE customers\")",
      "execution_count": 14,
      "outputs": [
        {
          "output_type": "execute_result",
          "execution_count": 14,
          "data": {
            "text/plain": "<sqlite3.Cursor at 0x7f0a78ec1500>"
          },
          "metadata": {}
        }
      ]
    },
    {
      "metadata": {
        "trusted": true,
        "scrolled": true
      },
      "cell_type": "code",
      "source": "cur.execute(customers_sql)",
      "execution_count": 7,
      "outputs": [
        {
          "output_type": "error",
          "ename": "OperationalError",
          "evalue": "table customers already exists",
          "traceback": [
            "\u001b[0;31m---------------------------------------------------------------------------\u001b[0m",
            "\u001b[0;31mOperationalError\u001b[0m                          Traceback (most recent call last)",
            "\u001b[0;32m<ipython-input-7-3378581b1a8c>\u001b[0m in \u001b[0;36m<module>\u001b[0;34m\u001b[0m\n\u001b[0;32m----> 1\u001b[0;31m \u001b[0mcur\u001b[0m\u001b[0;34m.\u001b[0m\u001b[0mexecute\u001b[0m\u001b[0;34m(\u001b[0m\u001b[0mcustomers_sql\u001b[0m\u001b[0;34m)\u001b[0m\u001b[0;34m\u001b[0m\u001b[0m\n\u001b[0m",
            "\u001b[0;31mOperationalError\u001b[0m: table customers already exists"
          ]
        }
      ]
    },
    {
      "metadata": {
        "trusted": true
      },
      "cell_type": "code",
      "source": "# to drop a table if it exists\n# cur.execute(\"DROP TABLE products\")",
      "execution_count": 16,
      "outputs": [
        {
          "output_type": "execute_result",
          "execution_count": 16,
          "data": {
            "text/plain": "<sqlite3.Cursor at 0x7f0a78ec1500>"
          },
          "metadata": {}
        }
      ]
    },
    {
      "metadata": {
        "trusted": true
      },
      "cell_type": "code",
      "source": "products_sql = \"\"\"\n... CREATE TABLE products (\n...     id integer PRIMARY KEY,\n...     name text NOT NULL,\n...     price real NOT NULL)\"\"\"",
      "execution_count": 17,
      "outputs": []
    },
    {
      "metadata": {
        "trusted": true
      },
      "cell_type": "code",
      "source": "cur.execute(products_sql)\n",
      "execution_count": 18,
      "outputs": [
        {
          "output_type": "execute_result",
          "execution_count": 18,
          "data": {
            "text/plain": "<sqlite3.Cursor at 0x7f0a78ec1500>"
          },
          "metadata": {}
        }
      ]
    },
    {
      "metadata": {
        "trusted": true
      },
      "cell_type": "code",
      "source": "cur.execute(\"SELECT name FROM sqlite_master WHERE type='table'\")\nprint(cur.fetchall())",
      "execution_count": 19,
      "outputs": [
        {
          "output_type": "stream",
          "text": "[('orders',), ('lineitems',), ('customers',), ('products',)]\n",
          "name": "stdout"
        }
      ]
    },
    {
      "metadata": {
        "trusted": true
      },
      "cell_type": "code",
      "source": "cur.execute(\"\"\"SELECT sql FROM sqlite_master WHERE type='table' AND name='customers'\"\"\")",
      "execution_count": 20,
      "outputs": [
        {
          "output_type": "execute_result",
          "execution_count": 20,
          "data": {
            "text/plain": "<sqlite3.Cursor at 0x7f0a78ec1500>"
          },
          "metadata": {}
        }
      ]
    },
    {
      "metadata": {
        "trusted": true
      },
      "cell_type": "code",
      "source": "print(cur.fetchone()[0])",
      "execution_count": 21,
      "outputs": [
        {
          "output_type": "stream",
          "text": "CREATE TABLE customers (\n    id integer PRIMARY KEY,\n    first_name text NOT NULL,\n    last_name text NOT NULL)\n",
          "name": "stdout"
        }
      ]
    },
    {
      "metadata": {
        "trusted": true
      },
      "cell_type": "code",
      "source": "orders_sql = \"\"\"\n... CREATE TABLE orders (\n...     id integer PRIMARY KEY,\n...     date text NOT NULL,\n...     customer_id integer,\n...     FOREIGN KEY (customer_id) REFERENCES customers (id))\"\"\"",
      "execution_count": 86,
      "outputs": []
    },
    {
      "metadata": {
        "trusted": true
      },
      "cell_type": "code",
      "source": "cur.execute(orders_sql)",
      "execution_count": 87,
      "outputs": [
        {
          "output_type": "execute_result",
          "execution_count": 87,
          "data": {
            "text/plain": "<sqlite3.Cursor at 0x7fb6aa4ba500>"
          },
          "metadata": {}
        }
      ]
    },
    {
      "metadata": {
        "trusted": true
      },
      "cell_type": "code",
      "source": "lineitems_sql = \"\"\"  \n... CREATE TABLE lineitems (\n...     id integer PRIMARY KEY,\n...     quantity integer NOT NULL,\n...     total real NOT NULL,\n...     product_id integer,\n...     order_id integer,\n...     FOREIGN KEY (product_id) REFERENCES products (id),\n...     FOREIGN KEY (order_id) REFERENCES orders (id))\"\"\"",
      "execution_count": 88,
      "outputs": []
    },
    {
      "metadata": {
        "trusted": true
      },
      "cell_type": "code",
      "source": "cur.execute(lineitems_sql)",
      "execution_count": 89,
      "outputs": [
        {
          "output_type": "execute_result",
          "execution_count": 89,
          "data": {
            "text/plain": "<sqlite3.Cursor at 0x7fb6aa4ba500>"
          },
          "metadata": {}
        }
      ]
    },
    {
      "metadata": {
        "trusted": true
      },
      "cell_type": "code",
      "source": "con = db_connect()\ncur = con.cursor()\nproduct_sql = \"INSERT INTO products (name, price) VALUES (?, ?)\"\ncur.execute(product_sql, ('Introduction to Combinatorics', 7.99))\ncur.execute(product_sql, ('A Guide to Writing Short Stories', 17.99))\ncur.execute(product_sql, ('Data Structures and Algorithms', 11.99))\ncur.execute(product_sql, ('Advanced Set Theory', 16.99))",
      "execution_count": 90,
      "outputs": [
        {
          "output_type": "execute_result",
          "execution_count": 90,
          "data": {
            "text/plain": "<sqlite3.Cursor at 0x7fb6aa48cc00>"
          },
          "metadata": {}
        }
      ]
    },
    {
      "metadata": {
        "trusted": true
      },
      "cell_type": "code",
      "source": "cur.execute(\"SELECT id, name, price FROM products\")",
      "execution_count": 22,
      "outputs": [
        {
          "output_type": "execute_result",
          "execution_count": 22,
          "data": {
            "text/plain": "<sqlite3.Cursor at 0x7f0a78ec1500>"
          },
          "metadata": {}
        }
      ]
    },
    {
      "metadata": {},
      "cell_type": "markdown",
      "source": "http://zetcode.com/db/sqlitepythontutorial/"
    },
    {
      "metadata": {},
      "cell_type": "markdown",
      "source": "### Working with real world data"
    },
    {
      "metadata": {},
      "cell_type": "markdown",
      "source": "https://gist.github.com/parulnith/943fe9c9120ccdd2736cc5808927640d#file-soccer-ipynb"
    },
    {
      "metadata": {},
      "cell_type": "markdown",
      "source": "## Connect with MySQL server & Python 2\n**(using python 2 kernel and jupyter from local machine)**"
    },
    {
      "metadata": {},
      "cell_type": "markdown",
      "source": "** Download MySQL**  \nhttps://dev.mysql.com/downloads/workbench/"
    },
    {
      "metadata": {},
      "cell_type": "markdown",
      "source": "* **install the package 'MySQLdb' using `pip install MySQLdb` **  "
    },
    {
      "metadata": {
        "trusted": true,
        "scrolled": true
      },
      "cell_type": "code",
      "source": "!pip install MySQLdb",
      "execution_count": null,
      "outputs": []
    },
    {
      "metadata": {
        "trusted": true
      },
      "cell_type": "code",
      "source": "import MySQLdb",
      "execution_count": null,
      "outputs": []
    },
    {
      "metadata": {
        "trusted": true
      },
      "cell_type": "code",
      "source": "db = MySQLdb.connect(host=\"localhost\", user=\"root\",passwd=\"s*a*k*r\", db='world')",
      "execution_count": null,
      "outputs": []
    },
    {
      "metadata": {
        "trusted": true
      },
      "cell_type": "code",
      "source": "cursor = db.cursor()",
      "execution_count": null,
      "outputs": []
    },
    {
      "metadata": {
        "trusted": true
      },
      "cell_type": "code",
      "source": "cursor.execute(\"SHOW TABLES\")",
      "execution_count": null,
      "outputs": []
    },
    {
      "metadata": {
        "trusted": true
      },
      "cell_type": "code",
      "source": "cursor.fetchall()",
      "execution_count": null,
      "outputs": []
    },
    {
      "metadata": {
        "trusted": true
      },
      "cell_type": "code",
      "source": "# disconnect from server\ndb.close()",
      "execution_count": null,
      "outputs": []
    },
    {
      "metadata": {},
      "cell_type": "markdown",
      "source": "## Connect with MySQL server & Python3\n(**using python 3 kernel and spyder from local machine or microsoft azure notebooks cloud by `mysql.connector` package**)"
    },
    {
      "metadata": {
        "trusted": true,
        "scrolled": true
      },
      "cell_type": "code",
      "source": "!pip install mysql-connector\nor   \n!conda install mysql-connector  ",
      "execution_count": null,
      "outputs": []
    },
    {
      "metadata": {
        "trusted": true
      },
      "cell_type": "code",
      "source": "# import mysql.connector as mc\n\n# mydb = mc.connect(host=\"localhost\", user=\"root\",passwd=\"s*a*k*r\", db='world', auth_plugin='mysql_native_password')",
      "execution_count": null,
      "outputs": []
    },
    {
      "metadata": {
        "trusted": true
      },
      "cell_type": "code",
      "source": "import mysql.connector as mysql\n\ndb = mysql.connect(\n    host = \"localhost\",\n    user = \"root\",\n    passwd = \"s*a*k*r\", \n    auth_plugin='mysql_native_password'\n)\n\n## creating an instance of 'cursor' class which is used to execute the 'SQL' statements in 'Python'\ncursor = db.cursor()\n\ncursor.execute(\"DROP DATABASE IF EXISTS datacamp\")\n\n## creating a databse called 'datacamp'\n## 'execute()' method is used to compile a 'SQL' statement\n## below statement is used to create tha 'datacamp' database\ncursor.execute(\"CREATE DATABASE IF NOT EXISTS datacamp\")\n\n## executing the statement using 'execute()' method\ncursor.execute(\"SHOW DATABASES\")\n\n## 'fetchall()' method fetches all the rows from the last executed statement\ndatabases = cursor.fetchall() ## it returns a list of all databases present\n\n## printing the list of databases\nprint(databases)\n",
      "execution_count": null,
      "outputs": []
    },
    {
      "metadata": {},
      "cell_type": "markdown",
      "source": "### Creating Tables"
    },
    {
      "metadata": {
        "trusted": true
      },
      "cell_type": "code",
      "source": "db = mysql.connect(\n    host = \"localhost\",\n    user = \"root\",\n    passwd = \"s*a*k*r\",\n    database = \"datacamp\",  #selecting database               \n    auth_plugin='mysql_native_password'\n)\n\ncursor = db.cursor()\n\n## creating a table called 'users' in the 'datacamp' database\ncursor.execute(\"CREATE TABLE users (name VARCHAR(255), user_name VARCHAR(255))\")\n",
      "execution_count": null,
      "outputs": []
    },
    {
      "metadata": {},
      "cell_type": "markdown",
      "source": "### Show Tables"
    },
    {
      "metadata": {
        "trusted": true
      },
      "cell_type": "code",
      "source": "## getting all the tables which are present in 'datacamp' database\ncursor.execute(\"SHOW TABLES\")\n\ntables = cursor.fetchall() ## it returns list of tables present in the database\n\n## showing all the tables one by one\nfor table in tables:\n    print(table)",
      "execution_count": null,
      "outputs": []
    },
    {
      "metadata": {},
      "cell_type": "markdown",
      "source": "**Note:** alternatively we can also use `pymysql` package to connect python and MySQL"
    },
    {
      "metadata": {},
      "cell_type": "markdown",
      "source": "<span style=\"color:red; font-family:Comic Sans MS\">follow along with this tutorial</span>  \nhttps://www.datacamp.com/community/tutorials/mysql-python  \nhttps://community.modeanalytics.com/sql/  \nhttps://medium.com/edureka/python-database-connection-b4f9b301947c  \nhttps://www.journaldev.com/15539/python-mysql-example-tutorial  \nhttps://dzone.com/articles/mysql-python  \n<span style=\"color:red; font-family:Comic Sans MS\">Practice SQL online</span>  \nhttps://www.tutorialgateway.org/mysql-tutorial/  \nhttps://www.commonlounge.com/discussion/b6d73f9c3eb94e1da7f92ebac2ede5ee  "
    },
    {
      "metadata": {
        "trusted": true
      },
      "cell_type": "code",
      "source": "",
      "execution_count": null,
      "outputs": []
    }
  ],
  "metadata": {
    "kernelspec": {
      "name": "python36",
      "display_name": "Python 3.6",
      "language": "python"
    },
    "language_info": {
      "mimetype": "text/x-python",
      "nbconvert_exporter": "python",
      "name": "python",
      "pygments_lexer": "ipython3",
      "version": "3.6.6",
      "file_extension": ".py",
      "codemirror_mode": {
        "version": 3,
        "name": "ipython"
      }
    },
    "toc": {
      "nav_menu": {},
      "number_sections": true,
      "sideBar": true,
      "skip_h1_title": false,
      "base_numbering": 1,
      "title_cell": "Table of Contents",
      "title_sidebar": "Contents",
      "toc_cell": false,
      "toc_position": {},
      "toc_section_display": true,
      "toc_window_display": false
    }
  },
  "nbformat": 4,
  "nbformat_minor": 2
}