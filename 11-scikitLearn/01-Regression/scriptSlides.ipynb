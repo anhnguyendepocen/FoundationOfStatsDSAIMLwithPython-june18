{
 "cells": [
  {
   "cell_type": "markdown",
   "metadata": {
    "collapsed": true
   },
   "source": [
    "## Linear Regression"
   ]
  },
  {
   "cell_type": "markdown",
   "metadata": {},
   "source": [
    "* Creating machine learning models for linear regression problems"
   ]
  },
  {
   "cell_type": "markdown",
   "metadata": {},
   "source": [
    "### Project: Boston Housing Prices Prediction"
   ]
  },
  {
   "cell_type": "code",
   "execution_count": 2,
   "metadata": {},
   "outputs": [
    {
     "name": "stdout",
     "output_type": "stream",
     "text": [
      "['CRIM' 'ZN' 'INDUS' 'CHAS' 'NOX' 'RM' 'AGE' 'DIS' 'RAD' 'TAX' 'PTRATIO'\n",
      " 'B' 'LSTAT']\n"
     ]
    }
   ],
   "source": [
    "#Import basic libraries\n",
    "import matplotlib.pyplot as plt\n",
    "\n",
    "#Load data set from sklearn\n",
    "from sklearn import datasets\n",
    "boston = datasets.load_boston()\n",
    "\n",
    "#Analyse data set\n",
    "print(boston.feature_names)\n",
    "\n",
    "#details about the dataset present here\n",
    "# https://archive.ics.uci.edu/ml/machine-learning-databases/housing/housing.names\n",
    "\n",
    "#Assign the output variable \n",
    "y = boston.target\n",
    "\n",
    "#Initialize the model to empty variable\n",
    "from sklearn.model_selection import cross_val_predict\n",
    "from sklearn.linear_model import LinearRegression\n",
    "\n",
    "lr = LinearRegression()\n",
    "\n",
    "#Fit the model: cross_val_predict returns an array of the same size as `y` where each entry is a prediction obtained by cross validation.\n",
    "predicted = cross_val_predict(lr, boston.data, y, cv=10)"
   ]
  },
  {
   "cell_type": "code",
   "execution_count": 3,
   "metadata": {},
   "outputs": [
    {
     "data": {
      "image/png": "[encoded data removed]",
      "text/plain": [
       "<matplotlib.figure.Figure at 0x7f6c028c6438>"
      ]
     },
     "metadata": {},
     "output_type": "display_data"
    }
   ],
   "source": [
    "#Plot the output\n",
    "fig, ax = plt.subplots()\n",
    "ax.scatter(y, predicted, edgecolors=(0, 0, 0))\n",
    "ax.plot([y.min(), y.max()], [y.min(), y.max()], 'k--', lw=4)\n",
    "ax.set_xlabel('Measured')\n",
    "ax.set_ylabel('Predicted')\n",
    "plt.show()"
   ]
  },
  {
   "cell_type": "markdown",
   "metadata": {},
   "source": [
    "### Project: E-commerce Customer Data"
   ]
  },
  {
   "cell_type": "markdown",
   "metadata": {},
   "source": [
    "### Data Description"
   ]
  },
  {
   "cell_type": "markdown",
   "metadata": {},
   "source": [
    "*  It has 4 input features (Avg. Session Length, Time on App, Time on Website & Length of Membership) and the output to be predicted is ‘Yearly Amount Spent’."
   ]
  },
  {
   "cell_type": "markdown",
   "metadata": {},
   "source": [
    "### Project Goal"
   ]
  },
  {
   "cell_type": "markdown",
   "metadata": {},
   "source": [
    "> **Predict the yearly amount spent by each customer based on their browsing behavior (Avg. Session Length, Time on App, Time on Website & Length of Membership).**"
   ]
  },
  {
   "cell_type": "markdown",
   "metadata": {},
   "source": [
    "### Loading libraries and data set"
   ]
  },
  {
   "cell_type": "code",
   "execution_count": 5,
   "metadata": {},
   "outputs": [
    {
     "name": "stdout",
     "output_type": "stream",
     "text": [
      "Email                   500\n",
      "Address                 500\n",
      "Avatar                  500\n",
      "Avg. Session Length     500\n",
      "Time on App             500\n",
      "Time on Website         500\n",
      "Length of Membership    500\n",
      "Yearly Amount Spent     500\n",
      "dtype: int64\n"
     ]
    }
   ],
   "source": [
    "# Import external packages\n",
    "import pandas as pd\n",
    "import matplotlib.pyplot as plt\n",
    "import seaborn as sns\n",
    "import numpy as np\n",
    "\n",
    "# Load your data set from csv file\n",
    "customers = pd.read_csv('data/Ecommerce Customers')\n",
    "customers.head()\n",
    "# Preliminary analysis of data set (Check column names and total records)\n",
    "print(customers.count())"
   ]
  },
  {
   "cell_type": "markdown",
   "metadata": {},
   "source": [
    "### Preparation for Modeling\n",
    "* Select your input features based on your project goal. The dataset consists of many data points or features but you have to select the features which are strongly correlated with the output value. It is called Feature Engineering.  "
   ]
  },
  {
   "cell_type": "code",
   "execution_count": 6,
   "metadata": {},
   "outputs": [],
   "source": [
    "# Select your input features & output variable\n",
    "X = customers[['Avg. Session Length', 'Time on App', 'Time on Website','Length of Membership']]\n",
    "\n",
    "y = customers['Yearly Amount Spent']"
   ]
  },
  {
   "cell_type": "markdown",
   "metadata": {},
   "source": [
    "### Split Data into Training and Test Set"
   ]
  },
  {
   "cell_type": "markdown",
   "metadata": {},
   "source": [
    "Divide the samples of output Y and features X into two sets 1-Training set & 2-Testing set. Training set will be used to train your model while Test set will be used to evaluate the model accuracy. Earlier we used a general rule for the ratio of training/test sets as 70/30 or 60/40 but with time it is proved that this ratio is empirical and completely depends on the total size of your data set. If the number of samples is very large (say more than 1 Million) then only 1% of samples are enough to check the accuracy of the model. In our practice example, we will use the 70/30 ratio.\n",
    "\n",
    "Sklearn provides a built-in function ‘train_test_split’ to randomly divide the data set into train-test sets."
   ]
  },
  {
   "cell_type": "code",
   "execution_count": 7,
   "metadata": {
    "scrolled": true
   },
   "outputs": [
    {
     "name": "stdout",
     "output_type": "stream",
     "text": [
      "Avg. Session Length     350\n",
      "Time on App             350\n",
      "Time on Website         350\n",
      "Length of Membership    350\n",
      "dtype: int64\n",
      "Avg. Session Length     150\n",
      "Time on App             150\n",
      "Time on Website         150\n",
      "Length of Membership    150\n",
      "dtype: int64\n"
     ]
    }
   ],
   "source": [
    "# import train_test_split function\n",
    "from sklearn.model_selection import train_test_split\n",
    "\n",
    "# Assign the output to four variables\n",
    "X_train, X_test, y_train, y_test = train_test_split(X, y, test_size=0.30, random_state=101)\n",
    "\n",
    "# Check the results\n",
    "print(X_train.count())\n",
    "print(X_test.count())"
   ]
  },
  {
   "cell_type": "markdown",
   "metadata": {},
   "source": [
    "### Train a Model"
   ]
  },
  {
   "cell_type": "code",
   "execution_count": 9,
   "metadata": {},
   "outputs": [
    {
     "name": "stdout",
     "output_type": "stream",
     "text": [
      "Coefficients: \n",
      " [25.98154972 38.59015875  0.19040528 61.27909654]\n"
     ]
    }
   ],
   "source": [
    "#Import LinearRegression model from sklearn\n",
    "from sklearn.linear_model import LinearRegression\n",
    "\n",
    "# Initialize the model to empty variable\n",
    "lm = LinearRegression()\n",
    "\n",
    "\"\"\"\n",
    "Use 'fit' method to train the model\n",
    "model.fit(X, y, sample_weight=None)\n",
    "where X is NumPy array of input features\n",
    "y is NumPy array of output variable\n",
    "sample_weight is NumPy array of individual weights for each sample\n",
    "\"\"\"\n",
    "lm.fit(X_train, y_train)\n",
    "\n",
    "#Now check the coeeficients. It will return coefficient of individual input feature.\n",
    "print('Coefficients: \\n', lm.coef_)"
   ]
  },
  {
   "cell_type": "markdown",
   "metadata": {},
   "source": [
    "### Test the Model\n"
   ]
  },
  {
   "cell_type": "code",
   "execution_count": 10,
   "metadata": {},
   "outputs": [
    {
     "name": "stdout",
     "output_type": "stream",
     "text": [
      "MSE:  79.81305165097481\n"
     ]
    },
    {
     "data": {
      "image/png": "[encoded data removed]",
      "text/plain": [
       "<matplotlib.figure.Figure at 0x7f29dd1efb70>"
      ]
     },
     "metadata": {},
     "output_type": "display_data"
    }
   ],
   "source": [
    "# Use 'predict' method to test the model 'lm'\n",
    "predictions = lm.predict(X_test)\n",
    "\n",
    "#Now Check the mean squared error\n",
    "from sklearn import metrics\n",
    "print('MSE: ', metrics.mean_squared_error(y_test, predictions))\n",
    "\n",
    "#Compare the predicted output and actual output using scatter plot\n",
    "plt.scatter(y_test, predictions)\n",
    "plt.xlabel('Y Test')\n",
    "plt.ylabel('Predicted Y')\n",
    "plt.show()"
   ]
  },
  {
   "cell_type": "code",
   "execution_count": 11,
   "metadata": {},
   "outputs": [
    {
     "data": {
      "image/png": "[encoded data removed]",
      "text/plain": [
       "<matplotlib.figure.Figure at 0x7f29dde5fb00>"
      ]
     },
     "metadata": {},
     "output_type": "display_data"
    }
   ],
   "source": [
    "#Check distribution plot\n",
    "sns.distplot((y_test-predictions))\n",
    "plt.show()"
   ]
  },
  {
   "cell_type": "markdown",
   "metadata": {},
   "source": [
    "### Prediction for a new Cusotmer\n",
    "* If we want to predict the yearly amount of spending for a new customer, we will use the predict method."
   ]
  },
  {
   "cell_type": "code",
   "execution_count": 13,
   "metadata": {
    "scrolled": true
   },
   "outputs": [
    {
     "name": "stdout",
     "output_type": "stream",
     "text": [
      "Yearly amount spent =  [456.4419032]\n"
     ]
    }
   ],
   "source": [
    "#Create a 2D numpy array of input features\n",
    "ind_cus = np.array([[32.187812, 14.715388, 38.244115, 1.516576]])\n",
    "\n",
    "#Use predict method\n",
    "print('Yearly amount spent = ', lm.predict(ind_cus))"
   ]
  },
  {
   "cell_type": "markdown",
   "metadata": {},
   "source": [
    "<span style=\"color:red; font-family:Comic Sans MS\">**Sources & References from:** </span>     \n",
    "<a href=\"https://engmrk.com/module-11-linear-regression-2/\" target=\"_blank\">https://engmrk.com/module-11-linear-regression-2/</a>  \n"
   ]
  },
  {
   "cell_type": "markdown",
   "metadata": {},
   "source": [
    "<span style=\"color:red; font-family:Comic Sans MS\">Further Resources: </span>     \n",
    "<a href=\"http://people.sc.fsu.edu/~jburkardt/datasets/regression/x16.txt\" target=\"_blank\">http://people.sc.fsu.edu/~jburkardt/datasets/regression/x16.txt</a>  \n",
    "<a href=\"http://stackabuse.com/linear-regression-in-python-with-scikit-learn/\" target=\"_blank\">http://stackabuse.com/linear-regression-in-python-with-scikit-learn/</a>  "
   ]
  }
 ],
 "metadata": {
  "kernelspec": {
   "display_name": "Python 3.6",
   "language": "python",
   "name": "python36"
  },
  "language_info": {
   "codemirror_mode": {
    "name": "ipython",
    "version": 3
   },
   "file_extension": ".py",
   "mimetype": "text/x-python",
   "name": "python",
   "nbconvert_exporter": "python",
   "pygments_lexer": "ipython3",
   "version": "3.6.3"
  }
 },
 "nbformat": 4,
 "nbformat_minor": 2
}
