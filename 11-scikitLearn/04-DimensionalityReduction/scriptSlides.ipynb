{
  "cells": [
    {
      "metadata": {},
      "cell_type": "markdown",
      "source": "**Case study:**"
    },
    {
      "metadata": {},
      "cell_type": "markdown",
      "source": "http://stackabuse.com/implementing-pca-in-python-with-scikit-learn/  "
    },
    {
      "metadata": {
        "collapsed": true
      },
      "cell_type": "markdown",
      "source": "<span style=\"color:red; font-family:Comic Sans MS\">Sources & References: </span>     \n<a href=\"https://plot.ly/ipython-notebooks/principal-component-analysis/\" target=\"_blank\">https://plot.ly/ipython-notebooks/principal-component-analysis/</a>  \n\n"
    }
  ],
  "metadata": {
    "kernelspec": {
      "name": "python36",
      "display_name": "Python 3.6",
      "language": "python"
    },
    "language_info": {
      "mimetype": "text/x-python",
      "nbconvert_exporter": "python",
      "name": "python",
      "pygments_lexer": "ipython3",
      "version": "3.6.6",
      "file_extension": ".py",
      "codemirror_mode": {
        "version": 3,
        "name": "ipython"
      }
    },
    "toc": {
      "nav_menu": {},
      "number_sections": true,
      "sideBar": true,
      "skip_h1_title": false,
      "base_numbering": 1,
      "title_cell": "Table of Contents",
      "title_sidebar": "Contents",
      "toc_cell": false,
      "toc_position": {},
      "toc_section_display": true,
      "toc_window_display": false
    }
  },
  "nbformat": 4,
  "nbformat_minor": 2
}