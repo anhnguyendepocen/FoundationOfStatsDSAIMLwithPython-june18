{
 "cells": [
  {
   "cell_type": "markdown",
   "metadata": {},
   "source": [
    "## Machine Learning"
   ]
  },
  {
   "cell_type": "markdown",
   "metadata": {},
   "source": [
    "## Terminology"
   ]
  },
  {
   "cell_type": "markdown",
   "metadata": {},
   "source": [
    "| Independent variables               | Dependent variable                    |\n",
    "|-------------------------------------|---------------------------------------|\n",
    "| Input variables(input to the model) | Output Variables(output of the model) |\n",
    "| Explanatory variables               | Response Variables                    |\n",
    "| Feature Variables                   | Target Variables                      |"
   ]
  },
  {
   "cell_type": "markdown",
   "metadata": {},
   "source": [
    "**Feature:** An input variable used in making predictions.  \n",
    "\n",
    "**Example:** One row of a data set. An example contains one or more features and possibly a label.  \n",
    "\n",
    "**Label:** Result of the feature.  \n",
    "\n",
    "**Algorithm:** algorithm learns and finds patterns in the training data then it outputs an ML model. it has a target function (f) that best maps input variables (X) to an output variable (Y): Y = f(X)   \n",
    "\n",
    "**Model:** ML model captures these patterns from algorithm by training and then use these ML model to get predictions on new data \n",
    "\n",
    "**Predictions:** A model’s output when provided with an input example.  "
   ]
  },
  {
   "cell_type": "markdown",
   "metadata": {},
   "source": [
    "## Supervised Machine Learning"
   ]
  },
  {
   "cell_type": "markdown",
   "metadata": {},
   "source": [
    "**Supervised Learning:**  The major use case is Prediction.  We provide a set of \n",
    "training data including the input and output, then train a model that can \n",
    "predict output from an unseen input.  \n",
    "**Regression:**  \n",
    "**Classification:**  "
   ]
  },
  {
   "cell_type": "markdown",
   "metadata": {},
   "source": [
    "**Classifier comparison**"
   ]
  },
  {
   "cell_type": "markdown",
   "metadata": {},
   "source": [
    "http://scikit-learn.org/stable/auto_examples/classification/plot_classifier_comparison.html"
   ]
  },
  {
   "cell_type": "markdown",
   "metadata": {},
   "source": [
    "## Un Supervised Machine Learning"
   ]
  },
  {
   "cell_type": "markdown",
   "metadata": {},
   "source": [
    "**Unsupervised Learning:**  The major use case is Pattern extraction(inference).  We provide \n",
    "a set of data that has no output, the algorithm will try to extract the \n",
    "underlying non-trivial structure within the data.  \n",
    "**Clustering:**  \n",
    "**Dimentionality Reduction:**  "
   ]
  },
  {
   "cell_type": "markdown",
   "metadata": {},
   "source": [
    "## Processing Steps"
   ]
  },
  {
   "cell_type": "markdown",
   "metadata": {},
   "source": [
    "**Step 1:** Define Problem  \n",
    "**Step 2:** Gathering Data  \n",
    "**Step 3:** Hypothesis Testing  \n",
    "**Step 4:** Pre-processing, Cleaning, Exploring and Transforming Data  \n",
    "**Step 5:** Model Building  \n",
    "**Step 6:** Model Evaluation    \n",
    "**Step 7:** Model Deployment  \n",
    "    "
   ]
  },
  {
   "cell_type": "markdown",
   "metadata": {},
   "source": [
    "## Scikitlearn Package Cheatsheet"
   ]
  },
  {
   "cell_type": "markdown",
   "metadata": {
    "collapsed": true
   },
   "source": [
    "http://scikit-learn.org/stable/tutorial/machine_learning_map/index.html"
   ]
  },
  {
   "cell_type": "markdown",
   "metadata": {},
   "source": [
    "**Python For Data Science Training - youtube playlist**     \n",
    "https://www.youtube.com/playlist?list=PLZ7s-Z1aAtmIbaEj_PtUqkqdmI1k7libK  \n",
    "**Machine Learning Complete Course With Python**  \n",
    "https://www.youtube.com/playlist?list=PL-NoyTFo8daxQfcFqoD0jG49veeDR1gAf  "
   ]
  }
 ],
 "metadata": {
  "kernelspec": {
   "display_name": "Python 3",
   "language": "python",
   "name": "python3"
  },
  "language_info": {
   "codemirror_mode": {
    "name": "ipython",
    "version": 3
   },
   "file_extension": ".py",
   "mimetype": "text/x-python",
   "name": "python",
   "nbconvert_exporter": "python",
   "pygments_lexer": "ipython3",
   "version": "3.6.4"
  },
  "toc": {
   "base_numbering": 1,
   "nav_menu": {},
   "number_sections": true,
   "sideBar": true,
   "skip_h1_title": false,
   "title_cell": "Table of Contents",
   "title_sidebar": "Contents",
   "toc_cell": false,
   "toc_position": {},
   "toc_section_display": true,
   "toc_window_display": false
  }
 },
 "nbformat": 4,
 "nbformat_minor": 2
}
