{
  "cells": [
    {
      "metadata": {},
      "cell_type": "markdown",
      "source": "## Rule-Based Programming Vs Machine Learning versus "
    },
    {
      "metadata": {
        "trusted": true
      },
      "cell_type": "code",
      "source": "# 1.1\n# How does data enable machine learning?\n# example: images of animals, properties of a flower, properties of a house\ninput = [1, 2, 3, 4, 5]\n# example: labels of animal names, labels of flower names, house price\noutput = [2, 4, 6, 8, 10]\n\n# What is rule based programming?\ndef smart_function(input):\n    return input * 2\n\nsmart_function(input)\n\n# Three ingredients of ML - data, model, feedback loop\n# data\ninput, output\n# model\n# e.g. linear model = input * constant\n\n# feedback loop\n# error = machine_learned_output - output\ninput, output = (1, 2)\nmodel, prediction[1] = 3\nerror = 3 - 2 = 1",
      "execution_count": null,
      "outputs": []
    },
    {
      "metadata": {
        "trusted": true
      },
      "cell_type": "code",
      "source": "# What actually is a ML model? a simplification of real life\n\n# 1.2\n# Machine learning is all about predicting things\n# Regression is the task of predicting numbers\ninput = [0, 1, 2, 3, 4]\noutput = [0, 2, 4, 6, 8]\n\n# Classification is the task of predicting labels\ninput = [0, 1, 2, 3, 4]\nlabels = [\"doesn't exist\", \"cane\", \"person\", \"tricycle\", \"car\"]\n\n# Other predictive tasks\n\n# 1.4\n\n# Supervised Learning\ninput = [1, 2, 3, 4, 5]\noutput = [2, 4, 6, 8, 10]\n\n# Unsupervised Learning\ninput = [1, 2, 3, 6, 7, 8]\n\n# Reinforcement Learning\nstate = (internal state, environment)\naction = prediction\nreward ",
      "execution_count": null,
      "outputs": []
    },
    {
      "metadata": {},
      "cell_type": "markdown",
      "source": "## Machine Learning"
    },
    {
      "metadata": {},
      "cell_type": "markdown",
      "source": "## Terminology"
    },
    {
      "metadata": {},
      "cell_type": "markdown",
      "source": "| Independent variables               | Dependent variable                    |\n|-------------------------------------|---------------------------------------|\n| Input variables(input to the model) | Output Variables(output of the model) |\n| Explanatory variables               | Response Variables                    |\n| Feature Variables                   | Target Variables                      |"
    },
    {
      "metadata": {},
      "cell_type": "markdown",
      "source": "**Feature:** An input variable used in making predictions.  \n\n**Example:** One row of a data set. An example contains one or more features and possibly a label.  \n\n**Label:** Result of the feature.  \n\n**Algorithm:** algorithm learns and finds patterns in the training data then it outputs an ML model. it has a target function (f) that best maps input variables (X) to an output variable (Y): Y = f(X)   \n\n**Model:** ML model captures these patterns from algorithm by training and then use these ML model to get predictions on new data \n\n**Predictions:** A model’s output when provided with an input example.  "
    },
    {
      "metadata": {},
      "cell_type": "markdown",
      "source": "## Supervised Machine Learning"
    },
    {
      "metadata": {},
      "cell_type": "markdown",
      "source": "**Supervised Learning:**  The major use case is Prediction.  We provide a set of \ntraining data including the input and output, then train a model that can \npredict output from an unseen input.  \n**Regression:**  \n**Classification:**  "
    },
    {
      "metadata": {},
      "cell_type": "markdown",
      "source": "**Classifier comparison**"
    },
    {
      "metadata": {},
      "cell_type": "markdown",
      "source": "http://scikit-learn.org/stable/auto_examples/classification/plot_classifier_comparison.html"
    },
    {
      "metadata": {},
      "cell_type": "markdown",
      "source": "## Un Supervised Machine Learning"
    },
    {
      "metadata": {},
      "cell_type": "markdown",
      "source": "**Unsupervised Learning:**  The major use case is Pattern extraction(inference).  We provide \na set of data that has no output, the algorithm will try to extract the \nunderlying non-trivial structure within the data.  \n**Clustering:**  \n**Dimentionality Reduction:**  "
    },
    {
      "metadata": {},
      "cell_type": "markdown",
      "source": "## Processing Steps"
    },
    {
      "metadata": {},
      "cell_type": "markdown",
      "source": "**Step 1:** Define Problem  \n**Step 2:** Gathering Data  \n**Step 3:** Hypothesis Testing  \n**Step 4:** Pre-processing, Cleaning, Exploring and Transforming Data  \n**Step 5:** Model Building  \n**Step 6:** Model Evaluation    \n**Step 7:** Model Deployment  \n    "
    },
    {
      "metadata": {},
      "cell_type": "markdown",
      "source": "## Scikitlearn Package"
    },
    {
      "metadata": {
        "collapsed": true
      },
      "cell_type": "markdown",
      "source": "http://scikit-learn.org/stable/  \nhttp://scikit-learn.org/stable/tutorial/machine_learning_map/index.html"
    },
    {
      "metadata": {},
      "cell_type": "markdown",
      "source": "**Python For Data Science Training - youtube playlist**     \nhttps://www.youtube.com/playlist?list=PLZ7s-Z1aAtmIbaEj_PtUqkqdmI1k7libK  \n**Machine Learning Complete Course With Python**  \nhttps://www.youtube.com/playlist?list=PL-NoyTFo8daxQfcFqoD0jG49veeDR1gAf  "
    }
  ],
  "metadata": {
    "kernelspec": {
      "name": "python3",
      "display_name": "Python 3",
      "language": "python"
    },
    "language_info": {
      "mimetype": "text/x-python",
      "nbconvert_exporter": "python",
      "name": "python",
      "pygments_lexer": "ipython3",
      "version": "3.5.4",
      "file_extension": ".py",
      "codemirror_mode": {
        "version": 3,
        "name": "ipython"
      }
    },
    "toc": {
      "nav_menu": {},
      "number_sections": true,
      "sideBar": true,
      "skip_h1_title": false,
      "base_numbering": 1,
      "title_cell": "Table of Contents",
      "title_sidebar": "Contents",
      "toc_cell": false,
      "toc_position": {},
      "toc_section_display": true,
      "toc_window_display": false
    }
  },
  "nbformat": 4,
  "nbformat_minor": 2
}