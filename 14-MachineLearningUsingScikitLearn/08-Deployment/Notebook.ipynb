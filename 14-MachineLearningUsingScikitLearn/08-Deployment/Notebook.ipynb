{
  "cells": [
    {
      "metadata": {
        "collapsed": true
      },
      "cell_type": "markdown",
      "source": "https://github.com/krishnaik06/Deployment-flask  \nhttps://www.youtube.com/watch?v=UbCWoMf80PY  "
    },
    {
      "metadata": {},
      "cell_type": "markdown",
      "source": "https://medium.com/fintechexplained/flask-host-your-python-machine-learning-model-on-web-b598151886d"
    },
    {
      "metadata": {},
      "cell_type": "markdown",
      "source": "https://github.com/gauravmodi/Titanic-Flask-App  "
    }
  ],
  "metadata": {
    "kernelspec": {
      "name": "python36",
      "display_name": "Python 3.6",
      "language": "python"
    },
    "language_info": {
      "mimetype": "text/x-python",
      "nbconvert_exporter": "python",
      "name": "python",
      "pygments_lexer": "ipython3",
      "version": "3.6.6",
      "file_extension": ".py",
      "codemirror_mode": {
        "version": 3,
        "name": "ipython"
      }
    },
    "toc": {
      "nav_menu": {},
      "number_sections": true,
      "sideBar": true,
      "skip_h1_title": false,
      "base_numbering": 1,
      "title_cell": "Table of Contents",
      "title_sidebar": "Contents",
      "toc_cell": false,
      "toc_position": {},
      "toc_section_display": true,
      "toc_window_display": false
    }
  },
  "nbformat": 4,
  "nbformat_minor": 2
}