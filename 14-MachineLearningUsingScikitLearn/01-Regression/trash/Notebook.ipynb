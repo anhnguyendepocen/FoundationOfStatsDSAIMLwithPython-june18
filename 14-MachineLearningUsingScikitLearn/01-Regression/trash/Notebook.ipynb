{
  "cells": [
    {
      "metadata": {},
      "cell_type": "markdown",
      "source": "## Regression Analysis\n"
    },
    {
      "metadata": {},
      "cell_type": "markdown",
      "source": "### California Housing Dataset from Kaggle"
    },
    {
      "metadata": {},
      "cell_type": "markdown",
      "source": "* Download California Housing Dataset from Kaggle\n* Load Data in a Pandas Data-Frame"
    },
    {
      "metadata": {},
      "cell_type": "markdown",
      "source": "**dataset: **  https://www.kaggle.com/camnugent/california-housing-prices"
    },
    {
      "metadata": {
        "trusted": true,
        "scrolled": true
      },
      "cell_type": "code",
      "source": "import os\nimport pandas as pd\nLOCAL_DIR = os.path.join(\"data\", \"housing.csv\")\ndf = pd.read_csv(LOCAL_DIR)\ndf.head()",
      "execution_count": 85,
      "outputs": [
        {
          "output_type": "execute_result",
          "execution_count": 85,
          "data": {
            "text/plain": "   longitude  latitude  housing_median_age  total_rooms  total_bedrooms  \\\n0    -122.23     37.88                41.0        880.0           129.0   \n1    -122.22     37.86                21.0       7099.0          1106.0   \n2    -122.24     37.85                52.0       1467.0           190.0   \n3    -122.25     37.85                52.0       1274.0           235.0   \n4    -122.25     37.85                52.0       1627.0           280.0   \n\n   population  households  median_income  median_house_value ocean_proximity  \n0       322.0       126.0         8.3252            452600.0        NEAR BAY  \n1      2401.0      1138.0         8.3014            358500.0        NEAR BAY  \n2       496.0       177.0         7.2574            352100.0        NEAR BAY  \n3       558.0       219.0         5.6431            341300.0        NEAR BAY  \n4       565.0       259.0         3.8462            342200.0        NEAR BAY  ",
            "text/html": "<div>\n<table border=\"1\" class=\"dataframe\">\n  <thead>\n    <tr style=\"text-align: right;\">\n      <th></th>\n      <th>longitude</th>\n      <th>latitude</th>\n      <th>housing_median_age</th>\n      <th>total_rooms</th>\n      <th>total_bedrooms</th>\n      <th>population</th>\n      <th>households</th>\n      <th>median_income</th>\n      <th>median_house_value</th>\n      <th>ocean_proximity</th>\n    </tr>\n  </thead>\n  <tbody>\n    <tr>\n      <th>0</th>\n      <td>-122.23</td>\n      <td>37.88</td>\n      <td>41.0</td>\n      <td>880.0</td>\n      <td>129.0</td>\n      <td>322.0</td>\n      <td>126.0</td>\n      <td>8.3252</td>\n      <td>452600.0</td>\n      <td>NEAR BAY</td>\n    </tr>\n    <tr>\n      <th>1</th>\n      <td>-122.22</td>\n      <td>37.86</td>\n      <td>21.0</td>\n      <td>7099.0</td>\n      <td>1106.0</td>\n      <td>2401.0</td>\n      <td>1138.0</td>\n      <td>8.3014</td>\n      <td>358500.0</td>\n      <td>NEAR BAY</td>\n    </tr>\n    <tr>\n      <th>2</th>\n      <td>-122.24</td>\n      <td>37.85</td>\n      <td>52.0</td>\n      <td>1467.0</td>\n      <td>190.0</td>\n      <td>496.0</td>\n      <td>177.0</td>\n      <td>7.2574</td>\n      <td>352100.0</td>\n      <td>NEAR BAY</td>\n    </tr>\n    <tr>\n      <th>3</th>\n      <td>-122.25</td>\n      <td>37.85</td>\n      <td>52.0</td>\n      <td>1274.0</td>\n      <td>235.0</td>\n      <td>558.0</td>\n      <td>219.0</td>\n      <td>5.6431</td>\n      <td>341300.0</td>\n      <td>NEAR BAY</td>\n    </tr>\n    <tr>\n      <th>4</th>\n      <td>-122.25</td>\n      <td>37.85</td>\n      <td>52.0</td>\n      <td>1627.0</td>\n      <td>280.0</td>\n      <td>565.0</td>\n      <td>259.0</td>\n      <td>3.8462</td>\n      <td>342200.0</td>\n      <td>NEAR BAY</td>\n    </tr>\n  </tbody>\n</table>\n</div>"
          },
          "metadata": {}
        }
      ]
    },
    {
      "metadata": {
        "trusted": true
      },
      "cell_type": "code",
      "source": "df.shape",
      "execution_count": 86,
      "outputs": [
        {
          "output_type": "execute_result",
          "execution_count": 86,
          "data": {
            "text/plain": "(20640, 10)"
          },
          "metadata": {}
        }
      ]
    },
    {
      "metadata": {
        "trusted": true,
        "scrolled": true
      },
      "cell_type": "code",
      "source": "df.info()",
      "execution_count": 87,
      "outputs": [
        {
          "output_type": "stream",
          "text": "<class 'pandas.core.frame.DataFrame'>\nRangeIndex: 20640 entries, 0 to 20639\nData columns (total 10 columns):\nlongitude             20640 non-null float64\nlatitude              20640 non-null float64\nhousing_median_age    20640 non-null float64\ntotal_rooms           20640 non-null float64\ntotal_bedrooms        20433 non-null float64\npopulation            20640 non-null float64\nhouseholds            20640 non-null float64\nmedian_income         20640 non-null float64\nmedian_house_value    20640 non-null float64\nocean_proximity       20640 non-null object\ndtypes: float64(9), object(1)\nmemory usage: 1.6+ MB\n",
          "name": "stdout"
        }
      ]
    },
    {
      "metadata": {
        "trusted": true,
        "scrolled": true
      },
      "cell_type": "code",
      "source": "df.describe()",
      "execution_count": 88,
      "outputs": [
        {
          "output_type": "execute_result",
          "execution_count": 88,
          "data": {
            "text/plain": "          longitude      latitude  housing_median_age   total_rooms  \\\ncount  20640.000000  20640.000000        20640.000000  20640.000000   \nmean    -119.569704     35.631861           28.639486   2635.763081   \nstd        2.003532      2.135952           12.585558   2181.615252   \nmin     -124.350000     32.540000            1.000000      2.000000   \n25%     -121.800000     33.930000           18.000000   1447.750000   \n50%     -118.490000     34.260000           29.000000   2127.000000   \n75%     -118.010000     37.710000           37.000000   3148.000000   \nmax     -114.310000     41.950000           52.000000  39320.000000   \n\n       total_bedrooms    population    households  median_income  \\\ncount    20433.000000  20640.000000  20640.000000   20640.000000   \nmean       537.870553   1425.476744    499.539680       3.870671   \nstd        421.385070   1132.462122    382.329753       1.899822   \nmin          1.000000      3.000000      1.000000       0.499900   \n25%        296.000000    787.000000    280.000000       2.563400   \n50%        435.000000   1166.000000    409.000000       3.534800   \n75%        647.000000   1725.000000    605.000000       4.743250   \nmax       6445.000000  35682.000000   6082.000000      15.000100   \n\n       median_house_value  \ncount        20640.000000  \nmean        206855.816909  \nstd         115395.615874  \nmin          14999.000000  \n25%         119600.000000  \n50%         179700.000000  \n75%         264725.000000  \nmax         500001.000000  ",
            "text/html": "<div>\n<table border=\"1\" class=\"dataframe\">\n  <thead>\n    <tr style=\"text-align: right;\">\n      <th></th>\n      <th>longitude</th>\n      <th>latitude</th>\n      <th>housing_median_age</th>\n      <th>total_rooms</th>\n      <th>total_bedrooms</th>\n      <th>population</th>\n      <th>households</th>\n      <th>median_income</th>\n      <th>median_house_value</th>\n    </tr>\n  </thead>\n  <tbody>\n    <tr>\n      <th>count</th>\n      <td>20640.000000</td>\n      <td>20640.000000</td>\n      <td>20640.000000</td>\n      <td>20640.000000</td>\n      <td>20433.000000</td>\n      <td>20640.000000</td>\n      <td>20640.000000</td>\n      <td>20640.000000</td>\n      <td>20640.000000</td>\n    </tr>\n    <tr>\n      <th>mean</th>\n      <td>-119.569704</td>\n      <td>35.631861</td>\n      <td>28.639486</td>\n      <td>2635.763081</td>\n      <td>537.870553</td>\n      <td>1425.476744</td>\n      <td>499.539680</td>\n      <td>3.870671</td>\n      <td>206855.816909</td>\n    </tr>\n    <tr>\n      <th>std</th>\n      <td>2.003532</td>\n      <td>2.135952</td>\n      <td>12.585558</td>\n      <td>2181.615252</td>\n      <td>421.385070</td>\n      <td>1132.462122</td>\n      <td>382.329753</td>\n      <td>1.899822</td>\n      <td>115395.615874</td>\n    </tr>\n    <tr>\n      <th>min</th>\n      <td>-124.350000</td>\n      <td>32.540000</td>\n      <td>1.000000</td>\n      <td>2.000000</td>\n      <td>1.000000</td>\n      <td>3.000000</td>\n      <td>1.000000</td>\n      <td>0.499900</td>\n      <td>14999.000000</td>\n    </tr>\n    <tr>\n      <th>25%</th>\n      <td>-121.800000</td>\n      <td>33.930000</td>\n      <td>18.000000</td>\n      <td>1447.750000</td>\n      <td>296.000000</td>\n      <td>787.000000</td>\n      <td>280.000000</td>\n      <td>2.563400</td>\n      <td>119600.000000</td>\n    </tr>\n    <tr>\n      <th>50%</th>\n      <td>-118.490000</td>\n      <td>34.260000</td>\n      <td>29.000000</td>\n      <td>2127.000000</td>\n      <td>435.000000</td>\n      <td>1166.000000</td>\n      <td>409.000000</td>\n      <td>3.534800</td>\n      <td>179700.000000</td>\n    </tr>\n    <tr>\n      <th>75%</th>\n      <td>-118.010000</td>\n      <td>37.710000</td>\n      <td>37.000000</td>\n      <td>3148.000000</td>\n      <td>647.000000</td>\n      <td>1725.000000</td>\n      <td>605.000000</td>\n      <td>4.743250</td>\n      <td>264725.000000</td>\n    </tr>\n    <tr>\n      <th>max</th>\n      <td>-114.310000</td>\n      <td>41.950000</td>\n      <td>52.000000</td>\n      <td>39320.000000</td>\n      <td>6445.000000</td>\n      <td>35682.000000</td>\n      <td>6082.000000</td>\n      <td>15.000100</td>\n      <td>500001.000000</td>\n    </tr>\n  </tbody>\n</table>\n</div>"
          },
          "metadata": {}
        }
      ]
    },
    {
      "metadata": {},
      "cell_type": "markdown",
      "source": "### Handling Categorical Features"
    },
    {
      "metadata": {
        "trusted": true,
        "scrolled": true
      },
      "cell_type": "code",
      "source": "df[\"ocean_proximity\"].value_counts()",
      "execution_count": 89,
      "outputs": [
        {
          "output_type": "execute_result",
          "execution_count": 89,
          "data": {
            "text/plain": "<1H OCEAN     9136\nINLAND        6551\nNEAR OCEAN    2658\nNEAR BAY      2290\nISLAND           5\nName: ocean_proximity, dtype: int64"
          },
          "metadata": {}
        }
      ]
    },
    {
      "metadata": {
        "trusted": true
      },
      "cell_type": "code",
      "source": "df = df[df[\"ocean_proximity\"] != 'ISLAND'] #imbalanced data, get rid of this , it shouldn't help in our prediction\ndf.shape",
      "execution_count": 90,
      "outputs": [
        {
          "output_type": "execute_result",
          "execution_count": 90,
          "data": {
            "text/plain": "(20635, 10)"
          },
          "metadata": {}
        }
      ]
    },
    {
      "metadata": {
        "trusted": true
      },
      "cell_type": "code",
      "source": "df[\"ocean_proximity\"].value_counts()",
      "execution_count": 91,
      "outputs": [
        {
          "output_type": "execute_result",
          "execution_count": 91,
          "data": {
            "text/plain": "<1H OCEAN     9136\nINLAND        6551\nNEAR OCEAN    2658\nNEAR BAY      2290\nName: ocean_proximity, dtype: int64"
          },
          "metadata": {}
        }
      ]
    },
    {
      "metadata": {
        "trusted": true,
        "scrolled": true
      },
      "cell_type": "code",
      "source": "df.head()",
      "execution_count": 92,
      "outputs": [
        {
          "output_type": "execute_result",
          "execution_count": 92,
          "data": {
            "text/plain": "   longitude  latitude  housing_median_age  total_rooms  total_bedrooms  \\\n0    -122.23     37.88                41.0        880.0           129.0   \n1    -122.22     37.86                21.0       7099.0          1106.0   \n2    -122.24     37.85                52.0       1467.0           190.0   \n3    -122.25     37.85                52.0       1274.0           235.0   \n4    -122.25     37.85                52.0       1627.0           280.0   \n\n   population  households  median_income  median_house_value ocean_proximity  \n0       322.0       126.0         8.3252            452600.0        NEAR BAY  \n1      2401.0      1138.0         8.3014            358500.0        NEAR BAY  \n2       496.0       177.0         7.2574            352100.0        NEAR BAY  \n3       558.0       219.0         5.6431            341300.0        NEAR BAY  \n4       565.0       259.0         3.8462            342200.0        NEAR BAY  ",
            "text/html": "<div>\n<table border=\"1\" class=\"dataframe\">\n  <thead>\n    <tr style=\"text-align: right;\">\n      <th></th>\n      <th>longitude</th>\n      <th>latitude</th>\n      <th>housing_median_age</th>\n      <th>total_rooms</th>\n      <th>total_bedrooms</th>\n      <th>population</th>\n      <th>households</th>\n      <th>median_income</th>\n      <th>median_house_value</th>\n      <th>ocean_proximity</th>\n    </tr>\n  </thead>\n  <tbody>\n    <tr>\n      <th>0</th>\n      <td>-122.23</td>\n      <td>37.88</td>\n      <td>41.0</td>\n      <td>880.0</td>\n      <td>129.0</td>\n      <td>322.0</td>\n      <td>126.0</td>\n      <td>8.3252</td>\n      <td>452600.0</td>\n      <td>NEAR BAY</td>\n    </tr>\n    <tr>\n      <th>1</th>\n      <td>-122.22</td>\n      <td>37.86</td>\n      <td>21.0</td>\n      <td>7099.0</td>\n      <td>1106.0</td>\n      <td>2401.0</td>\n      <td>1138.0</td>\n      <td>8.3014</td>\n      <td>358500.0</td>\n      <td>NEAR BAY</td>\n    </tr>\n    <tr>\n      <th>2</th>\n      <td>-122.24</td>\n      <td>37.85</td>\n      <td>52.0</td>\n      <td>1467.0</td>\n      <td>190.0</td>\n      <td>496.0</td>\n      <td>177.0</td>\n      <td>7.2574</td>\n      <td>352100.0</td>\n      <td>NEAR BAY</td>\n    </tr>\n    <tr>\n      <th>3</th>\n      <td>-122.25</td>\n      <td>37.85</td>\n      <td>52.0</td>\n      <td>1274.0</td>\n      <td>235.0</td>\n      <td>558.0</td>\n      <td>219.0</td>\n      <td>5.6431</td>\n      <td>341300.0</td>\n      <td>NEAR BAY</td>\n    </tr>\n    <tr>\n      <th>4</th>\n      <td>-122.25</td>\n      <td>37.85</td>\n      <td>52.0</td>\n      <td>1627.0</td>\n      <td>280.0</td>\n      <td>565.0</td>\n      <td>259.0</td>\n      <td>3.8462</td>\n      <td>342200.0</td>\n      <td>NEAR BAY</td>\n    </tr>\n  </tbody>\n</table>\n</div>"
          },
          "metadata": {}
        }
      ]
    },
    {
      "metadata": {},
      "cell_type": "markdown",
      "source": "**One Hot Encoding**"
    },
    {
      "metadata": {
        "trusted": true
      },
      "cell_type": "code",
      "source": "#One Hot Encoding\ndf = pd.get_dummies(df)",
      "execution_count": 93,
      "outputs": []
    },
    {
      "metadata": {
        "trusted": true
      },
      "cell_type": "code",
      "source": "df.head()",
      "execution_count": 94,
      "outputs": [
        {
          "output_type": "execute_result",
          "execution_count": 94,
          "data": {
            "text/plain": "   longitude  latitude  housing_median_age  total_rooms  total_bedrooms  \\\n0    -122.23     37.88                41.0        880.0           129.0   \n1    -122.22     37.86                21.0       7099.0          1106.0   \n2    -122.24     37.85                52.0       1467.0           190.0   \n3    -122.25     37.85                52.0       1274.0           235.0   \n4    -122.25     37.85                52.0       1627.0           280.0   \n\n   population  households  median_income  median_house_value  \\\n0       322.0       126.0         8.3252            452600.0   \n1      2401.0      1138.0         8.3014            358500.0   \n2       496.0       177.0         7.2574            352100.0   \n3       558.0       219.0         5.6431            341300.0   \n4       565.0       259.0         3.8462            342200.0   \n\n   ocean_proximity_<1H OCEAN  ocean_proximity_INLAND  \\\n0                          0                       0   \n1                          0                       0   \n2                          0                       0   \n3                          0                       0   \n4                          0                       0   \n\n   ocean_proximity_NEAR BAY  ocean_proximity_NEAR OCEAN  \n0                         1                           0  \n1                         1                           0  \n2                         1                           0  \n3                         1                           0  \n4                         1                           0  ",
            "text/html": "<div>\n<table border=\"1\" class=\"dataframe\">\n  <thead>\n    <tr style=\"text-align: right;\">\n      <th></th>\n      <th>longitude</th>\n      <th>latitude</th>\n      <th>housing_median_age</th>\n      <th>total_rooms</th>\n      <th>total_bedrooms</th>\n      <th>population</th>\n      <th>households</th>\n      <th>median_income</th>\n      <th>median_house_value</th>\n      <th>ocean_proximity_&lt;1H OCEAN</th>\n      <th>ocean_proximity_INLAND</th>\n      <th>ocean_proximity_NEAR BAY</th>\n      <th>ocean_proximity_NEAR OCEAN</th>\n    </tr>\n  </thead>\n  <tbody>\n    <tr>\n      <th>0</th>\n      <td>-122.23</td>\n      <td>37.88</td>\n      <td>41.0</td>\n      <td>880.0</td>\n      <td>129.0</td>\n      <td>322.0</td>\n      <td>126.0</td>\n      <td>8.3252</td>\n      <td>452600.0</td>\n      <td>0</td>\n      <td>0</td>\n      <td>1</td>\n      <td>0</td>\n    </tr>\n    <tr>\n      <th>1</th>\n      <td>-122.22</td>\n      <td>37.86</td>\n      <td>21.0</td>\n      <td>7099.0</td>\n      <td>1106.0</td>\n      <td>2401.0</td>\n      <td>1138.0</td>\n      <td>8.3014</td>\n      <td>358500.0</td>\n      <td>0</td>\n      <td>0</td>\n      <td>1</td>\n      <td>0</td>\n    </tr>\n    <tr>\n      <th>2</th>\n      <td>-122.24</td>\n      <td>37.85</td>\n      <td>52.0</td>\n      <td>1467.0</td>\n      <td>190.0</td>\n      <td>496.0</td>\n      <td>177.0</td>\n      <td>7.2574</td>\n      <td>352100.0</td>\n      <td>0</td>\n      <td>0</td>\n      <td>1</td>\n      <td>0</td>\n    </tr>\n    <tr>\n      <th>3</th>\n      <td>-122.25</td>\n      <td>37.85</td>\n      <td>52.0</td>\n      <td>1274.0</td>\n      <td>235.0</td>\n      <td>558.0</td>\n      <td>219.0</td>\n      <td>5.6431</td>\n      <td>341300.0</td>\n      <td>0</td>\n      <td>0</td>\n      <td>1</td>\n      <td>0</td>\n    </tr>\n    <tr>\n      <th>4</th>\n      <td>-122.25</td>\n      <td>37.85</td>\n      <td>52.0</td>\n      <td>1627.0</td>\n      <td>280.0</td>\n      <td>565.0</td>\n      <td>259.0</td>\n      <td>3.8462</td>\n      <td>342200.0</td>\n      <td>0</td>\n      <td>0</td>\n      <td>1</td>\n      <td>0</td>\n    </tr>\n  </tbody>\n</table>\n</div>"
          },
          "metadata": {}
        }
      ]
    },
    {
      "metadata": {},
      "cell_type": "markdown",
      "source": "**Label Encoding**"
    },
    {
      "metadata": {
        "trusted": true,
        "scrolled": true
      },
      "cell_type": "code",
      "source": "# #lable Encoding\n# from sklearn.preprocessing import LabelEncoder\n# le = LabelEncoder()\n# # le.fit(df['ocean_proximity'])\n# # list(le.classes_)\n# # le.transform(df['ocean_proximity']) \n# dfLabel = df.copy()\n# dfLabel['ocean_proximity'] = le.fit_transform(df['ocean_proximity'])\n# dfLabel.head()\n",
      "execution_count": 95,
      "outputs": []
    },
    {
      "metadata": {
        "trusted": true
      },
      "cell_type": "code",
      "source": "# list(le.classes_)",
      "execution_count": 96,
      "outputs": []
    },
    {
      "metadata": {
        "trusted": true
      },
      "cell_type": "code",
      "source": "# df[\"ocean_proximity\"].value_counts()",
      "execution_count": 97,
      "outputs": []
    },
    {
      "metadata": {},
      "cell_type": "markdown",
      "source": "### Data Exploration"
    },
    {
      "metadata": {
        "trusted": true
      },
      "cell_type": "code",
      "source": "df.hist(bins=50, figsize=(20,15))",
      "execution_count": 98,
      "outputs": [
        {
          "output_type": "execute_result",
          "execution_count": 98,
          "data": {
            "text/plain": "array([[<matplotlib.axes._subplots.AxesSubplot object at 0x7fdd91e7c630>,\n        <matplotlib.axes._subplots.AxesSubplot object at 0x7fdd917d3b70>,\n        <matplotlib.axes._subplots.AxesSubplot object at 0x7fdd917e0780>,\n        <matplotlib.axes._subplots.AxesSubplot object at 0x7fdd9135e400>],\n       [<matplotlib.axes._subplots.AxesSubplot object at 0x7fdd91be3ef0>,\n        <matplotlib.axes._subplots.AxesSubplot object at 0x7fdd91344dd8>,\n        <matplotlib.axes._subplots.AxesSubplot object at 0x7fdd91683400>,\n        <matplotlib.axes._subplots.AxesSubplot object at 0x7fdd9169cf60>],\n       [<matplotlib.axes._subplots.AxesSubplot object at 0x7fdd91654be0>,\n        <matplotlib.axes._subplots.AxesSubplot object at 0x7fdd916648d0>,\n        <matplotlib.axes._subplots.AxesSubplot object at 0x7fdd917737f0>,\n        <matplotlib.axes._subplots.AxesSubplot object at 0x7fdd91749320>],\n       [<matplotlib.axes._subplots.AxesSubplot object at 0x7fdd91bafe80>,\n        <matplotlib.axes._subplots.AxesSubplot object at 0x7fdd91b88a20>,\n        <matplotlib.axes._subplots.AxesSubplot object at 0x7fdd913fde48>,\n        <matplotlib.axes._subplots.AxesSubplot object at 0x7fdd913da390>]],\n      dtype=object)"
          },
          "metadata": {}
        },
        {
          "output_type": "display_data",
          "data": {
            "image/png": "[encoded data removed]",
            "text/plain": "<matplotlib.figure.Figure at 0x7fdd9139fc50>"
          },
          "metadata": {}
        }
      ]
    },
    {
      "metadata": {},
      "cell_type": "markdown",
      "source": "### Data cleaning: handling missing values "
    },
    {
      "metadata": {},
      "cell_type": "markdown",
      "source": "#### Three ways to Deal with Missing Values\n** 1. Drop the rows containing missing values **  \n** 2. Drop the whole column that has missing values **  \n** 3. For Numerical columns, Impute (estimate) the values with mean, median or some other statistic of the column **  "
    },
    {
      "metadata": {
        "trusted": true
      },
      "cell_type": "code",
      "source": "#df.dropna(subset=[\"total_bedrooms\"]) # option 1\n#df.drop(\"total_bedrooms\", axis=1) # option 2\n#median = df[\"total_bedrooms\"].median()\n#df[\"total_bedrooms\"].fillna(median) # option 3\n\n# from sklearn.preprocessing import Imputer\n# imputer = Imputer(strategy=\"median\")\n# inputed = imiputer.fit_transform()\n# imputed\n# df = pd.DataFrame(imputed,columns=df.columns)\n# df.info()",
      "execution_count": 99,
      "outputs": []
    },
    {
      "metadata": {
        "trusted": true
      },
      "cell_type": "code",
      "source": "df.info() # there are some missing values in  total_bedrooms  column       ",
      "execution_count": 100,
      "outputs": [
        {
          "output_type": "stream",
          "text": "<class 'pandas.core.frame.DataFrame'>\nInt64Index: 20635 entries, 0 to 20639\nData columns (total 13 columns):\nlongitude                     20635 non-null float64\nlatitude                      20635 non-null float64\nhousing_median_age            20635 non-null float64\ntotal_rooms                   20635 non-null float64\ntotal_bedrooms                20428 non-null float64\npopulation                    20635 non-null float64\nhouseholds                    20635 non-null float64\nmedian_income                 20635 non-null float64\nmedian_house_value            20635 non-null float64\nocean_proximity_<1H OCEAN     20635 non-null uint8\nocean_proximity_INLAND        20635 non-null uint8\nocean_proximity_NEAR BAY      20635 non-null uint8\nocean_proximity_NEAR OCEAN    20635 non-null uint8\ndtypes: float64(9), uint8(4)\nmemory usage: 1.7 MB\n",
          "name": "stdout"
        }
      ]
    },
    {
      "metadata": {
        "trusted": true,
        "scrolled": true
      },
      "cell_type": "code",
      "source": "from sklearn.preprocessing import Imputer\nimputer = Imputer(strategy=\"median\")\nimputed = imputer.fit_transform(df)\nimputed",
      "execution_count": 102,
      "outputs": [
        {
          "output_type": "execute_result",
          "execution_count": 102,
          "data": {
            "text/plain": "array([[-122.23,   37.88,   41.  , ...,    0.  ,    1.  ,    0.  ],\n       [-122.22,   37.86,   21.  , ...,    0.  ,    1.  ,    0.  ],\n       [-122.24,   37.85,   52.  , ...,    0.  ,    1.  ,    0.  ],\n       ...,\n       [-121.22,   39.43,   17.  , ...,    1.  ,    0.  ,    0.  ],\n       [-121.32,   39.43,   18.  , ...,    1.  ,    0.  ,    0.  ],\n       [-121.24,   39.37,   16.  , ...,    1.  ,    0.  ,    0.  ]])"
          },
          "metadata": {}
        }
      ]
    },
    {
      "metadata": {
        "trusted": true
      },
      "cell_type": "code",
      "source": "df = pd.DataFrame(imputed,columns=df.columns)\ndf.info()",
      "execution_count": 103,
      "outputs": [
        {
          "output_type": "stream",
          "text": "<class 'pandas.core.frame.DataFrame'>\nRangeIndex: 20635 entries, 0 to 20634\nData columns (total 13 columns):\nlongitude                     20635 non-null float64\nlatitude                      20635 non-null float64\nhousing_median_age            20635 non-null float64\ntotal_rooms                   20635 non-null float64\ntotal_bedrooms                20635 non-null float64\npopulation                    20635 non-null float64\nhouseholds                    20635 non-null float64\nmedian_income                 20635 non-null float64\nmedian_house_value            20635 non-null float64\nocean_proximity_<1H OCEAN     20635 non-null float64\nocean_proximity_INLAND        20635 non-null float64\nocean_proximity_NEAR BAY      20635 non-null float64\nocean_proximity_NEAR OCEAN    20635 non-null float64\ndtypes: float64(13)\nmemory usage: 2.0 MB\n",
          "name": "stdout"
        }
      ]
    },
    {
      "metadata": {},
      "cell_type": "markdown",
      "source": "### Creating Train and Test Sets and Finding Correlation"
    },
    {
      "metadata": {},
      "cell_type": "markdown",
      "source": "**pearson's correlation formula**"
    },
    {
      "metadata": {},
      "cell_type": "markdown",
      "source": "* captures only linear relationship\n* ranges from -1 to +1\n* -1 indicated perfect negative correlation, +1 indicate perfect positive correlation\n"
    },
    {
      "metadata": {},
      "cell_type": "markdown",
      "source": "<p><img src=\"imgs/download11.png\" alt=\"Example\" width=\"420\" height=\"220\">"
    },
    {
      "metadata": {
        "trusted": true
      },
      "cell_type": "code",
      "source": "corr_matrix = df.corr() # finding all the correlation\nprint(corr_matrix)",
      "execution_count": 104,
      "outputs": [
        {
          "output_type": "stream",
          "text": "                            longitude  latitude  housing_median_age  \\\nlongitude                    1.000000 -0.924676           -0.108394   \nlatitude                    -0.924676  1.000000            0.011462   \nhousing_median_age          -0.108394  0.011462            1.000000   \ntotal_rooms                  0.044642 -0.036231           -0.361268   \ntotal_bedrooms               0.069164 -0.066565           -0.319061   \npopulation                   0.099881 -0.108978           -0.296172   \nhouseholds                   0.055400 -0.071199           -0.302863   \nmedian_income               -0.015090 -0.079977           -0.118949   \nmedian_house_value          -0.046208 -0.143837            0.105272   \nocean_proximity_<1H OCEAN    0.321297 -0.447303            0.045551   \nocean_proximity_INLAND      -0.055480  0.351058           -0.236537   \nocean_proximity_NEAR BAY    -0.474465  0.358735            0.255333   \nocean_proximity_NEAR OCEAN   0.045568 -0.160942            0.021729   \n\n                            total_rooms  total_bedrooms  population  \\\nlongitude                      0.044642        0.069164    0.099881   \nlatitude                      -0.036231       -0.066565   -0.108978   \nhousing_median_age            -0.361268       -0.319061   -0.296172   \ntotal_rooms                    1.000000        0.927060    0.857117   \ntotal_bedrooms                 0.927060        1.000000    0.873546   \npopulation                     0.857117        0.873546    1.000000   \nhouseholds                     0.918480        0.974378    0.907213   \nmedian_income                  0.197991       -0.007660    0.004737   \nmedian_house_value             0.134373        0.049561   -0.024421   \nocean_proximity_<1H OCEAN     -0.003136        0.017909    0.074480   \nocean_proximity_INLAND         0.025546       -0.006204   -0.020845   \nocean_proximity_NEAR BAY      -0.023065       -0.019691   -0.060942   \nocean_proximity_NEAR OCEAN    -0.009221        0.000531   -0.024328   \n\n                            households  median_income  median_house_value  \\\nlongitude                     0.055400      -0.015090           -0.046208   \nlatitude                     -0.071199      -0.079977           -0.143837   \nhousing_median_age           -0.302863      -0.118949            0.105272   \ntotal_rooms                   0.918480       0.197991            0.134373   \ntotal_bedrooms                0.974378      -0.007660            0.049561   \npopulation                    0.907213       0.004737           -0.024421   \nhouseholds                    1.000000       0.012950            0.066069   \nmedian_income                 0.012950       1.000000            0.688563   \nmedian_house_value            0.066069       0.688563            1.000000   \nocean_proximity_<1H OCEAN     0.042315       0.168772            0.257049   \nocean_proximity_INLAND       -0.039503      -0.237618           -0.484794   \nocean_proximity_NEAR BAY     -0.010144       0.056150            0.160467   \nocean_proximity_NEAR OCEAN    0.001660       0.027290            0.142051   \n\n                            ocean_proximity_<1H OCEAN  ocean_proximity_INLAND  \\\nlongitude                                    0.321297               -0.055480   \nlatitude                                    -0.447303                0.351058   \nhousing_median_age                           0.045551               -0.236537   \ntotal_rooms                                 -0.003136                0.025546   \ntotal_bedrooms                               0.017909               -0.006204   \npopulation                                   0.074480               -0.020845   \nhouseholds                                   0.042315               -0.039503   \nmedian_income                                0.168772               -0.237618   \nmedian_house_value                           0.257049               -0.484794   \nocean_proximity_<1H OCEAN                    1.000000               -0.607909   \nocean_proximity_INLAND                      -0.607909                1.000000   \nocean_proximity_NEAR BAY                    -0.314925               -0.240963   \nocean_proximity_NEAR OCEAN                  -0.342742               -0.262246   \n\n                            ocean_proximity_NEAR BAY  \\\nlongitude                                  -0.474465   \nlatitude                                    0.358735   \nhousing_median_age                          0.255333   \ntotal_rooms                                -0.023065   \ntotal_bedrooms                             -0.019691   \npopulation                                 -0.060942   \nhouseholds                                 -0.010144   \nmedian_income                               0.056150   \nmedian_house_value                          0.160467   \nocean_proximity_<1H OCEAN                  -0.314925   \nocean_proximity_INLAND                     -0.240963   \nocean_proximity_NEAR BAY                    1.000000   \nocean_proximity_NEAR OCEAN                 -0.135856   \n\n                            ocean_proximity_NEAR OCEAN  \nlongitude                                     0.045568  \nlatitude                                     -0.160942  \nhousing_median_age                            0.021729  \ntotal_rooms                                  -0.009221  \ntotal_bedrooms                                0.000531  \npopulation                                   -0.024328  \nhouseholds                                    0.001660  \nmedian_income                                 0.027290  \nmedian_house_value                            0.142051  \nocean_proximity_<1H OCEAN                    -0.342742  \nocean_proximity_INLAND                       -0.262246  \nocean_proximity_NEAR BAY                     -0.135856  \nocean_proximity_NEAR OCEAN                    1.000000  \n",
          "name": "stdout"
        }
      ]
    },
    {
      "metadata": {
        "trusted": true
      },
      "cell_type": "code",
      "source": "corr_matrix['median_income'].sort_values(ascending = False) # interested in only target variable correlation\n# which variables are important for our prediction",
      "execution_count": 105,
      "outputs": [
        {
          "output_type": "execute_result",
          "execution_count": 105,
          "data": {
            "text/plain": "median_income                 1.000000\nmedian_house_value            0.688563\ntotal_rooms                   0.197991\nocean_proximity_<1H OCEAN     0.168772\nocean_proximity_NEAR BAY      0.056150\nocean_proximity_NEAR OCEAN    0.027290\nhouseholds                    0.012950\npopulation                    0.004737\ntotal_bedrooms               -0.007660\nlongitude                    -0.015090\nlatitude                     -0.079977\nhousing_median_age           -0.118949\nocean_proximity_INLAND       -0.237618\nName: median_income, dtype: float64"
          },
          "metadata": {}
        }
      ]
    },
    {
      "metadata": {
        "trusted": true
      },
      "cell_type": "code",
      "source": "df['median_income'].hist()",
      "execution_count": 106,
      "outputs": [
        {
          "output_type": "execute_result",
          "execution_count": 106,
          "data": {
            "text/plain": "<matplotlib.axes._subplots.AxesSubplot at 0x7fdd91a979b0>"
          },
          "metadata": {}
        },
        {
          "output_type": "display_data",
          "data": {
            "image/png": "[encoded data removed]",
            "text/plain": "<matplotlib.figure.Figure at 0x7fdd917bb400>"
          },
          "metadata": {}
        }
      ]
    },
    {
      "metadata": {},
      "cell_type": "markdown",
      "source": "**stratifying/classifying numerical to categorical variable**"
    },
    {
      "metadata": {
        "trusted": true
      },
      "cell_type": "code",
      "source": "import numpy as np\nbuckets = np.linspace(0,16,6)\ndf['median_income_cats'] = pd.cut(df['median_income'], buckets)",
      "execution_count": 107,
      "outputs": []
    },
    {
      "metadata": {
        "trusted": true
      },
      "cell_type": "code",
      "source": "df['median_income_cats'].value_counts()",
      "execution_count": 108,
      "outputs": [
        {
          "output_type": "execute_result",
          "execution_count": 108,
          "data": {
            "text/plain": "(3.2, 6.4]     10231\n(0, 3.2]        8655\n(6.4, 9.6]      1407\n(9.6, 12.8]      256\n(12.8, 16]        86\nName: median_income_cats, dtype: int64"
          },
          "metadata": {}
        }
      ]
    },
    {
      "metadata": {
        "trusted": true
      },
      "cell_type": "code",
      "source": "df['median_income_cats'].value_counts()/len(df) # proportions",
      "execution_count": 109,
      "outputs": [
        {
          "output_type": "execute_result",
          "execution_count": 109,
          "data": {
            "text/plain": "(3.2, 6.4]     0.495808\n(0, 3.2]       0.419433\n(6.4, 9.6]     0.068185\n(9.6, 12.8]    0.012406\n(12.8, 16]     0.004168\nName: median_income_cats, dtype: float64"
          },
          "metadata": {}
        }
      ]
    },
    {
      "metadata": {
        "trusted": true
      },
      "cell_type": "code",
      "source": "",
      "execution_count": null,
      "outputs": []
    },
    {
      "metadata": {
        "run_control": {
          "marked": false
        },
        "trusted": true
      },
      "cell_type": "code",
      "source": "from sklearn.model_selection import train_test_split\nX_train,X_test = train_test_split(df,test_size=0.2,stratify= df['median_income_cats'],\n                                  shuffle = True,random_state=144)",
      "execution_count": 110,
      "outputs": []
    },
    {
      "metadata": {
        "trusted": true
      },
      "cell_type": "code",
      "source": "X_train['median_income_cats'].value_counts()/len(X_train)",
      "execution_count": 111,
      "outputs": [
        {
          "output_type": "execute_result",
          "execution_count": 111,
          "data": {
            "text/plain": "(3.2, 6.4]     0.495820\n(0, 3.2]       0.419433\n(6.4, 9.6]     0.068149\n(9.6, 12.8]    0.012418\n(12.8, 16]     0.004180\nName: median_income_cats, dtype: float64"
          },
          "metadata": {}
        }
      ]
    },
    {
      "metadata": {
        "trusted": true
      },
      "cell_type": "code",
      "source": "X_test['median_income_cats'].value_counts()/len(X_test)",
      "execution_count": 112,
      "outputs": [
        {
          "output_type": "execute_result",
          "execution_count": 112,
          "data": {
            "text/plain": "(3.2, 6.4]     0.495760\n(0, 3.2]       0.419433\n(6.4, 9.6]     0.068331\n(9.6, 12.8]    0.012358\n(12.8, 16]     0.004119\nName: median_income_cats, dtype: float64"
          },
          "metadata": {}
        }
      ]
    },
    {
      "metadata": {
        "trusted": true
      },
      "cell_type": "code",
      "source": "X_train.head()",
      "execution_count": 113,
      "outputs": [
        {
          "output_type": "execute_result",
          "execution_count": 113,
          "data": {
            "text/plain": "       longitude  latitude  housing_median_age  total_rooms  total_bedrooms  \\\n4570     -118.27     34.06                30.0       1771.0           788.0   \n12057    -117.58     33.87                17.0       2772.0           449.0   \n20281    -119.17     34.17                32.0       1567.0           304.0   \n19871    -119.31     36.33                46.0       1636.0           338.0   \n15204    -117.08     33.01                 5.0       5659.0           931.0   \n\n       population  households  median_income  median_house_value  \\\n4570       2188.0       764.0         1.5885            154200.0   \n12057      1685.0       461.0         5.0464            163900.0   \n20281      1482.0       308.0         3.5867            182100.0   \n19871       772.0       332.0         2.4250             84900.0   \n15204      2565.0       902.0         6.1949            238700.0   \n\n       ocean_proximity_<1H OCEAN  ocean_proximity_INLAND  \\\n4570                         1.0                     0.0   \n12057                        0.0                     1.0   \n20281                        0.0                     0.0   \n19871                        0.0                     1.0   \n15204                        1.0                     0.0   \n\n       ocean_proximity_NEAR BAY  ocean_proximity_NEAR OCEAN median_income_cats  \n4570                        0.0                         0.0           (0, 3.2]  \n12057                       0.0                         0.0         (3.2, 6.4]  \n20281                       0.0                         1.0         (3.2, 6.4]  \n19871                       0.0                         0.0           (0, 3.2]  \n15204                       0.0                         0.0         (3.2, 6.4]  ",
            "text/html": "<div>\n<table border=\"1\" class=\"dataframe\">\n  <thead>\n    <tr style=\"text-align: right;\">\n      <th></th>\n      <th>longitude</th>\n      <th>latitude</th>\n      <th>housing_median_age</th>\n      <th>total_rooms</th>\n      <th>total_bedrooms</th>\n      <th>population</th>\n      <th>households</th>\n      <th>median_income</th>\n      <th>median_house_value</th>\n      <th>ocean_proximity_&lt;1H OCEAN</th>\n      <th>ocean_proximity_INLAND</th>\n      <th>ocean_proximity_NEAR BAY</th>\n      <th>ocean_proximity_NEAR OCEAN</th>\n      <th>median_income_cats</th>\n    </tr>\n  </thead>\n  <tbody>\n    <tr>\n      <th>4570</th>\n      <td>-118.27</td>\n      <td>34.06</td>\n      <td>30.0</td>\n      <td>1771.0</td>\n      <td>788.0</td>\n      <td>2188.0</td>\n      <td>764.0</td>\n      <td>1.5885</td>\n      <td>154200.0</td>\n      <td>1.0</td>\n      <td>0.0</td>\n      <td>0.0</td>\n      <td>0.0</td>\n      <td>(0, 3.2]</td>\n    </tr>\n    <tr>\n      <th>12057</th>\n      <td>-117.58</td>\n      <td>33.87</td>\n      <td>17.0</td>\n      <td>2772.0</td>\n      <td>449.0</td>\n      <td>1685.0</td>\n      <td>461.0</td>\n      <td>5.0464</td>\n      <td>163900.0</td>\n      <td>0.0</td>\n      <td>1.0</td>\n      <td>0.0</td>\n      <td>0.0</td>\n      <td>(3.2, 6.4]</td>\n    </tr>\n    <tr>\n      <th>20281</th>\n      <td>-119.17</td>\n      <td>34.17</td>\n      <td>32.0</td>\n      <td>1567.0</td>\n      <td>304.0</td>\n      <td>1482.0</td>\n      <td>308.0</td>\n      <td>3.5867</td>\n      <td>182100.0</td>\n      <td>0.0</td>\n      <td>0.0</td>\n      <td>0.0</td>\n      <td>1.0</td>\n      <td>(3.2, 6.4]</td>\n    </tr>\n    <tr>\n      <th>19871</th>\n      <td>-119.31</td>\n      <td>36.33</td>\n      <td>46.0</td>\n      <td>1636.0</td>\n      <td>338.0</td>\n      <td>772.0</td>\n      <td>332.0</td>\n      <td>2.4250</td>\n      <td>84900.0</td>\n      <td>0.0</td>\n      <td>1.0</td>\n      <td>0.0</td>\n      <td>0.0</td>\n      <td>(0, 3.2]</td>\n    </tr>\n    <tr>\n      <th>15204</th>\n      <td>-117.08</td>\n      <td>33.01</td>\n      <td>5.0</td>\n      <td>5659.0</td>\n      <td>931.0</td>\n      <td>2565.0</td>\n      <td>902.0</td>\n      <td>6.1949</td>\n      <td>238700.0</td>\n      <td>1.0</td>\n      <td>0.0</td>\n      <td>0.0</td>\n      <td>0.0</td>\n      <td>(3.2, 6.4]</td>\n    </tr>\n  </tbody>\n</table>\n</div>"
          },
          "metadata": {}
        }
      ]
    },
    {
      "metadata": {
        "trusted": true
      },
      "cell_type": "code",
      "source": "X_train,X_valid = train_test_split(X_train,test_size=0.15,\n                                  stratify= X_train['median_income_cats'],\n                                  shuffle = True,random_state=144)",
      "execution_count": 114,
      "outputs": []
    },
    {
      "metadata": {
        "trusted": true
      },
      "cell_type": "code",
      "source": "X_train['median_income_cats'].value_counts()/len(X_train)",
      "execution_count": 115,
      "outputs": [
        {
          "output_type": "execute_result",
          "execution_count": 115,
          "data": {
            "text/plain": "(3.2, 6.4]     0.495831\n(0, 3.2]       0.419428\n(6.4, 9.6]     0.068135\n(9.6, 12.8]    0.012401\n(12.8, 16]     0.004205\nName: median_income_cats, dtype: float64"
          },
          "metadata": {}
        }
      ]
    },
    {
      "metadata": {
        "trusted": true
      },
      "cell_type": "code",
      "source": "X_valid['median_income_cats'].value_counts()/len(X_valid)",
      "execution_count": 116,
      "outputs": [
        {
          "output_type": "execute_result",
          "execution_count": 116,
          "data": {
            "text/plain": "(3.2, 6.4]     0.495761\n(0, 3.2]       0.419459\n(6.4, 9.6]     0.068228\n(9.6, 12.8]    0.012515\n(12.8, 16]     0.004037\nName: median_income_cats, dtype: float64"
          },
          "metadata": {}
        }
      ]
    },
    {
      "metadata": {
        "trusted": true
      },
      "cell_type": "code",
      "source": "X_train.shape,X_valid.shape,X_test.shape",
      "execution_count": 117,
      "outputs": [
        {
          "output_type": "execute_result",
          "execution_count": 117,
          "data": {
            "text/plain": "((14031, 14), (2477, 14), (4127, 14))"
          },
          "metadata": {}
        }
      ]
    },
    {
      "metadata": {
        "trusted": true
      },
      "cell_type": "code",
      "source": "y_train = X_train['median_house_value'].copy()\ny_valid = X_valid['median_house_value'].copy()\ny_test = X_test['median_house_value'].copy()",
      "execution_count": 118,
      "outputs": []
    },
    {
      "metadata": {
        "trusted": true
      },
      "cell_type": "code",
      "source": "y_train.shape,y_valid.shape,y_test.shape",
      "execution_count": 119,
      "outputs": [
        {
          "output_type": "execute_result",
          "execution_count": 119,
          "data": {
            "text/plain": "((14031,), (2477,), (4127,))"
          },
          "metadata": {}
        }
      ]
    },
    {
      "metadata": {
        "trusted": true
      },
      "cell_type": "code",
      "source": "X_train.drop('median_house_value',axis=1,inplace=True)\nX_valid.drop('median_house_value',axis=1,inplace=True)\nX_test.drop('median_house_value',axis=1,inplace=True)",
      "execution_count": 120,
      "outputs": [
        {
          "output_type": "stream",
          "text": "/home/nbuser/anaconda3_420/lib/python3.5/site-packages/ipykernel/__main__.py:3: SettingWithCopyWarning: \nA value is trying to be set on a copy of a slice from a DataFrame\n\nSee the caveats in the documentation: http://pandas.pydata.org/pandas-docs/stable/indexing.html#indexing-view-versus-copy\n  app.launch_new_instance()\n",
          "name": "stderr"
        }
      ]
    },
    {
      "metadata": {
        "trusted": true
      },
      "cell_type": "code",
      "source": "X_train.shape,X_valid.shape,X_test.shape",
      "execution_count": 121,
      "outputs": [
        {
          "output_type": "execute_result",
          "execution_count": 121,
          "data": {
            "text/plain": "((14031, 13), (2477, 13), (4127, 13))"
          },
          "metadata": {}
        }
      ]
    },
    {
      "metadata": {
        "trusted": true
      },
      "cell_type": "code",
      "source": "X_train.drop('median_income_cats',axis=1,inplace=True)\nX_valid.drop('median_income_cats',axis=1,inplace=True)\nX_test.drop('median_income_cats',axis=1,inplace=True)",
      "execution_count": 122,
      "outputs": [
        {
          "output_type": "stream",
          "text": "/home/nbuser/anaconda3_420/lib/python3.5/site-packages/ipykernel/__main__.py:3: SettingWithCopyWarning: \nA value is trying to be set on a copy of a slice from a DataFrame\n\nSee the caveats in the documentation: http://pandas.pydata.org/pandas-docs/stable/indexing.html#indexing-view-versus-copy\n  app.launch_new_instance()\n",
          "name": "stderr"
        }
      ]
    },
    {
      "metadata": {
        "trusted": true
      },
      "cell_type": "code",
      "source": "X_train.shape,X_valid.shape,X_test.shape",
      "execution_count": 123,
      "outputs": [
        {
          "output_type": "execute_result",
          "execution_count": 123,
          "data": {
            "text/plain": "((14031, 12), (2477, 12), (4127, 12))"
          },
          "metadata": {}
        }
      ]
    },
    {
      "metadata": {
        "trusted": true
      },
      "cell_type": "code",
      "source": "y_train.shape,y_valid.shape,y_test.shape",
      "execution_count": 124,
      "outputs": [
        {
          "output_type": "execute_result",
          "execution_count": 124,
          "data": {
            "text/plain": "((14031,), (2477,), (4127,))"
          },
          "metadata": {}
        }
      ]
    },
    {
      "metadata": {
        "trusted": true
      },
      "cell_type": "code",
      "source": "X_train.head()",
      "execution_count": 125,
      "outputs": [
        {
          "output_type": "execute_result",
          "execution_count": 125,
          "data": {
            "text/plain": "       longitude  latitude  housing_median_age  total_rooms  total_bedrooms  \\\n2473     -119.86     36.43                34.0       1175.0           251.0   \n14565    -117.21     32.83                35.0       2259.0           501.0   \n5391     -118.39     34.03                39.0       1366.0           375.0   \n9579     -120.49     37.32                13.0       3474.0           927.0   \n12649    -121.45     38.52                37.0       1477.0           321.0   \n\n       population  households  median_income  ocean_proximity_<1H OCEAN  \\\n2473        683.0       261.0         1.7176                        0.0   \n14565      1340.0       511.0         3.4482                        0.0   \n5391       1237.0       370.0         3.7206                        1.0   \n9579       2149.0       821.0         1.9528                        0.0   \n12649       888.0       312.0         2.5592                        0.0   \n\n       ocean_proximity_INLAND  ocean_proximity_NEAR BAY  \\\n2473                      1.0                       0.0   \n14565                     0.0                       0.0   \n5391                      0.0                       0.0   \n9579                      1.0                       0.0   \n12649                     1.0                       0.0   \n\n       ocean_proximity_NEAR OCEAN  \n2473                          0.0  \n14565                         1.0  \n5391                          0.0  \n9579                          0.0  \n12649                         0.0  ",
            "text/html": "<div>\n<table border=\"1\" class=\"dataframe\">\n  <thead>\n    <tr style=\"text-align: right;\">\n      <th></th>\n      <th>longitude</th>\n      <th>latitude</th>\n      <th>housing_median_age</th>\n      <th>total_rooms</th>\n      <th>total_bedrooms</th>\n      <th>population</th>\n      <th>households</th>\n      <th>median_income</th>\n      <th>ocean_proximity_&lt;1H OCEAN</th>\n      <th>ocean_proximity_INLAND</th>\n      <th>ocean_proximity_NEAR BAY</th>\n      <th>ocean_proximity_NEAR OCEAN</th>\n    </tr>\n  </thead>\n  <tbody>\n    <tr>\n      <th>2473</th>\n      <td>-119.86</td>\n      <td>36.43</td>\n      <td>34.0</td>\n      <td>1175.0</td>\n      <td>251.0</td>\n      <td>683.0</td>\n      <td>261.0</td>\n      <td>1.7176</td>\n      <td>0.0</td>\n      <td>1.0</td>\n      <td>0.0</td>\n      <td>0.0</td>\n    </tr>\n    <tr>\n      <th>14565</th>\n      <td>-117.21</td>\n      <td>32.83</td>\n      <td>35.0</td>\n      <td>2259.0</td>\n      <td>501.0</td>\n      <td>1340.0</td>\n      <td>511.0</td>\n      <td>3.4482</td>\n      <td>0.0</td>\n      <td>0.0</td>\n      <td>0.0</td>\n      <td>1.0</td>\n    </tr>\n    <tr>\n      <th>5391</th>\n      <td>-118.39</td>\n      <td>34.03</td>\n      <td>39.0</td>\n      <td>1366.0</td>\n      <td>375.0</td>\n      <td>1237.0</td>\n      <td>370.0</td>\n      <td>3.7206</td>\n      <td>1.0</td>\n      <td>0.0</td>\n      <td>0.0</td>\n      <td>0.0</td>\n    </tr>\n    <tr>\n      <th>9579</th>\n      <td>-120.49</td>\n      <td>37.32</td>\n      <td>13.0</td>\n      <td>3474.0</td>\n      <td>927.0</td>\n      <td>2149.0</td>\n      <td>821.0</td>\n      <td>1.9528</td>\n      <td>0.0</td>\n      <td>1.0</td>\n      <td>0.0</td>\n      <td>0.0</td>\n    </tr>\n    <tr>\n      <th>12649</th>\n      <td>-121.45</td>\n      <td>38.52</td>\n      <td>37.0</td>\n      <td>1477.0</td>\n      <td>321.0</td>\n      <td>888.0</td>\n      <td>312.0</td>\n      <td>2.5592</td>\n      <td>0.0</td>\n      <td>1.0</td>\n      <td>0.0</td>\n      <td>0.0</td>\n    </tr>\n  </tbody>\n</table>\n</div>"
          },
          "metadata": {}
        }
      ]
    },
    {
      "metadata": {
        "trusted": true
      },
      "cell_type": "code",
      "source": "X_test.head()",
      "execution_count": 126,
      "outputs": [
        {
          "output_type": "execute_result",
          "execution_count": 126,
          "data": {
            "text/plain": "       longitude  latitude  housing_median_age  total_rooms  total_bedrooms  \\\n2542     -124.17     40.80                52.0       1557.0           344.0   \n2221     -119.84     36.82                17.0       2807.0           376.0   \n2226     -119.78     36.86                10.0       2902.0           363.0   \n8114     -118.19     33.80                41.0       2125.0           591.0   \n11265    -117.99     33.78                15.0       4273.0           993.0   \n\n       population  households  median_income  ocean_proximity_<1H OCEAN  \\\n2542        758.0       319.0         1.8529                        0.0   \n2221        996.0       353.0         5.5357                        0.0   \n2226       1200.0       363.0         8.3608                        0.0   \n8114       1604.0       555.0         2.9943                        0.0   \n11265      2300.0       946.0         3.5313                        1.0   \n\n       ocean_proximity_INLAND  ocean_proximity_NEAR BAY  \\\n2542                      0.0                       0.0   \n2221                      1.0                       0.0   \n2226                      1.0                       0.0   \n8114                      0.0                       0.0   \n11265                     0.0                       0.0   \n\n       ocean_proximity_NEAR OCEAN  \n2542                          1.0  \n2221                          0.0  \n2226                          0.0  \n8114                          1.0  \n11265                         0.0  ",
            "text/html": "<div>\n<table border=\"1\" class=\"dataframe\">\n  <thead>\n    <tr style=\"text-align: right;\">\n      <th></th>\n      <th>longitude</th>\n      <th>latitude</th>\n      <th>housing_median_age</th>\n      <th>total_rooms</th>\n      <th>total_bedrooms</th>\n      <th>population</th>\n      <th>households</th>\n      <th>median_income</th>\n      <th>ocean_proximity_&lt;1H OCEAN</th>\n      <th>ocean_proximity_INLAND</th>\n      <th>ocean_proximity_NEAR BAY</th>\n      <th>ocean_proximity_NEAR OCEAN</th>\n    </tr>\n  </thead>\n  <tbody>\n    <tr>\n      <th>2542</th>\n      <td>-124.17</td>\n      <td>40.80</td>\n      <td>52.0</td>\n      <td>1557.0</td>\n      <td>344.0</td>\n      <td>758.0</td>\n      <td>319.0</td>\n      <td>1.8529</td>\n      <td>0.0</td>\n      <td>0.0</td>\n      <td>0.0</td>\n      <td>1.0</td>\n    </tr>\n    <tr>\n      <th>2221</th>\n      <td>-119.84</td>\n      <td>36.82</td>\n      <td>17.0</td>\n      <td>2807.0</td>\n      <td>376.0</td>\n      <td>996.0</td>\n      <td>353.0</td>\n      <td>5.5357</td>\n      <td>0.0</td>\n      <td>1.0</td>\n      <td>0.0</td>\n      <td>0.0</td>\n    </tr>\n    <tr>\n      <th>2226</th>\n      <td>-119.78</td>\n      <td>36.86</td>\n      <td>10.0</td>\n      <td>2902.0</td>\n      <td>363.0</td>\n      <td>1200.0</td>\n      <td>363.0</td>\n      <td>8.3608</td>\n      <td>0.0</td>\n      <td>1.0</td>\n      <td>0.0</td>\n      <td>0.0</td>\n    </tr>\n    <tr>\n      <th>8114</th>\n      <td>-118.19</td>\n      <td>33.80</td>\n      <td>41.0</td>\n      <td>2125.0</td>\n      <td>591.0</td>\n      <td>1604.0</td>\n      <td>555.0</td>\n      <td>2.9943</td>\n      <td>0.0</td>\n      <td>0.0</td>\n      <td>0.0</td>\n      <td>1.0</td>\n    </tr>\n    <tr>\n      <th>11265</th>\n      <td>-117.99</td>\n      <td>33.78</td>\n      <td>15.0</td>\n      <td>4273.0</td>\n      <td>993.0</td>\n      <td>2300.0</td>\n      <td>946.0</td>\n      <td>3.5313</td>\n      <td>1.0</td>\n      <td>0.0</td>\n      <td>0.0</td>\n      <td>0.0</td>\n    </tr>\n  </tbody>\n</table>\n</div>"
          },
          "metadata": {}
        }
      ]
    },
    {
      "metadata": {
        "trusted": true
      },
      "cell_type": "code",
      "source": "y_train.head()",
      "execution_count": 127,
      "outputs": [
        {
          "output_type": "execute_result",
          "execution_count": 127,
          "data": {
            "text/plain": "2473      58400.0\n14565    162500.0\n5391     230900.0\n9579      85300.0\n12649     70300.0\nName: median_house_value, dtype: float64"
          },
          "metadata": {}
        }
      ]
    },
    {
      "metadata": {
        "trusted": true
      },
      "cell_type": "code",
      "source": "y_valid.head()",
      "execution_count": 128,
      "outputs": [
        {
          "output_type": "execute_result",
          "execution_count": 128,
          "data": {
            "text/plain": "11926    109100.0\n19274    146000.0\n9459     110400.0\n14956    249400.0\n2067      74200.0\nName: median_house_value, dtype: float64"
          },
          "metadata": {}
        }
      ]
    },
    {
      "metadata": {
        "trusted": true
      },
      "cell_type": "code",
      "source": "y_test.head()",
      "execution_count": 129,
      "outputs": [
        {
          "output_type": "execute_result",
          "execution_count": 129,
          "data": {
            "text/plain": "2542      62500.0\n2221     167700.0\n2226     187300.0\n8114     190600.0\n11265    213000.0\nName: median_house_value, dtype: float64"
          },
          "metadata": {}
        }
      ]
    },
    {
      "metadata": {},
      "cell_type": "markdown",
      "source": "## California Housing Dataset from sklearn package  "
    },
    {
      "metadata": {
        "trusted": true
      },
      "cell_type": "code",
      "source": "from sklearn.datasets import fetch_california_housing",
      "execution_count": 130,
      "outputs": []
    },
    {
      "metadata": {
        "trusted": true
      },
      "cell_type": "code",
      "source": "housing = fetch_california_housing(data_home=None, download_if_missing=True)\nhousing.feature_names",
      "execution_count": 131,
      "outputs": [
        {
          "output_type": "stream",
          "text": "Downloading Cal. housing from https://ndownloader.figshare.com/files/5976036 to /home/nbuser/scikit_learn_data\n",
          "name": "stderr"
        },
        {
          "output_type": "execute_result",
          "execution_count": 131,
          "data": {
            "text/plain": "['MedInc',\n 'HouseAge',\n 'AveRooms',\n 'AveBedrms',\n 'Population',\n 'AveOccup',\n 'Latitude',\n 'Longitude']"
          },
          "metadata": {}
        }
      ]
    },
    {
      "metadata": {
        "trusted": true
      },
      "cell_type": "code",
      "source": "df2 = pd.DataFrame(housing.data,columns=housing.feature_names)\ndf2",
      "execution_count": 132,
      "outputs": [
        {
          "output_type": "execute_result",
          "execution_count": 132,
          "data": {
            "text/plain": "       MedInc  HouseAge  AveRooms  AveBedrms  Population  AveOccup  Latitude  \\\n0      8.3252      41.0  6.984127   1.023810       322.0  2.555556     37.88   \n1      8.3014      21.0  6.238137   0.971880      2401.0  2.109842     37.86   \n2      7.2574      52.0  8.288136   1.073446       496.0  2.802260     37.85   \n3      5.6431      52.0  5.817352   1.073059       558.0  2.547945     37.85   \n4      3.8462      52.0  6.281853   1.081081       565.0  2.181467     37.85   \n5      4.0368      52.0  4.761658   1.103627       413.0  2.139896     37.85   \n6      3.6591      52.0  4.931907   0.951362      1094.0  2.128405     37.84   \n7      3.1200      52.0  4.797527   1.061824      1157.0  1.788253     37.84   \n8      2.0804      42.0  4.294118   1.117647      1206.0  2.026891     37.84   \n9      3.6912      52.0  4.970588   0.990196      1551.0  2.172269     37.84   \n10     3.2031      52.0  5.477612   1.079602       910.0  2.263682     37.85   \n11     3.2705      52.0  4.772480   1.024523      1504.0  2.049046     37.85   \n12     3.0750      52.0  5.322650   1.012821      1098.0  2.346154     37.85   \n13     2.6736      52.0  4.000000   1.097701       345.0  1.982759     37.84   \n14     1.9167      52.0  4.262903   1.009677      1212.0  1.954839     37.85   \n15     2.1250      50.0  4.242424   1.071970       697.0  2.640152     37.85   \n16     2.7750      52.0  5.939577   1.048338       793.0  2.395770     37.85   \n17     2.1202      52.0  4.052805   0.966997       648.0  2.138614     37.85   \n18     1.9911      50.0  5.343675   1.085919       990.0  2.362768     37.84   \n19     2.6033      52.0  5.465455   1.083636       690.0  2.509091     37.84   \n20     1.3578      40.0  4.524096   1.108434       409.0  2.463855     37.85   \n21     1.7135      42.0  4.478142   1.002732       929.0  2.538251     37.85   \n22     1.7250      52.0  5.096234   1.131799      1015.0  2.123431     37.84   \n23     2.1806      52.0  5.193846   1.036923       853.0  2.624615     37.84   \n24     2.6000      52.0  5.270142   1.035545      1006.0  2.383886     37.84   \n25     2.4038      41.0  4.495798   1.033613       317.0  2.663866     37.85   \n26     2.4597      49.0  4.728033   1.020921       607.0  2.539749     37.85   \n27     1.8080      52.0  4.780856   1.060453      1102.0  2.775819     37.85   \n28     1.6424      50.0  4.401691   1.040169      1131.0  2.391121     37.84   \n29     1.6875      52.0  4.703226   1.032258       395.0  2.548387     37.84   \n...       ...       ...       ...        ...         ...       ...       ...   \n20610  1.3631      28.0  4.851936   1.102506      1195.0  2.722096     39.10   \n20611  1.2857      27.0  4.359413   1.078240      1163.0  2.843521     39.10   \n20612  1.4934      26.0  5.157303   1.082397       761.0  2.850187     39.08   \n20613  1.4958      31.0  4.500000   0.950521      1167.0  3.039062     39.09   \n20614  2.4695      26.0  4.801688   0.970464      1455.0  3.069620     39.08   \n20615  2.3598      23.0  5.461929   1.096447       724.0  3.675127     39.08   \n20616  2.0469      15.0  4.826667   1.176000      1157.0  3.085333     39.08   \n20617  3.3021      20.0  4.921053   0.956140       308.0  2.701754     39.06   \n20618  2.2500      25.0  5.893805   1.092920       726.0  3.212389     39.06   \n20619  2.7303      22.0  6.388514   1.148649      1023.0  3.456081     39.01   \n20620  4.5625      40.0  4.125000   0.854167       151.0  3.145833     39.05   \n20621  2.3661      37.0  7.923567   1.573248       484.0  3.082803     39.01   \n20622  2.4167      20.0  4.808917   0.936306       457.0  2.910828     39.00   \n20623  2.8235      32.0  5.101322   1.074890       598.0  2.634361     39.03   \n20624  3.0739      16.0  5.835052   1.030928       731.0  2.512027     39.04   \n20625  4.1250      37.0  7.285714   1.214286        29.0  2.071429     39.12   \n20626  2.1667      36.0  6.573099   1.076023       504.0  2.947368     39.18   \n20627  3.0000       5.0  6.067797   1.101695       169.0  2.864407     39.13   \n20628  2.5952      19.0  5.238462   1.079487      1018.0  2.610256     39.10   \n20629  2.0943      28.0  5.519802   1.020902      6912.0  3.801980     39.12   \n20630  3.5673      11.0  5.932584   1.134831      1257.0  2.824719     39.29   \n20631  3.5179      15.0  6.145833   1.141204      1200.0  2.777778     39.33   \n20632  3.1250      15.0  6.023377   1.080519      1047.0  2.719481     39.26   \n20633  2.5495      27.0  5.445026   1.078534      1082.0  2.832461     39.19   \n20634  3.7125      28.0  6.779070   1.148256      1041.0  3.026163     39.27   \n20635  1.5603      25.0  5.045455   1.133333       845.0  2.560606     39.48   \n20636  2.5568      18.0  6.114035   1.315789       356.0  3.122807     39.49   \n20637  1.7000      17.0  5.205543   1.120092      1007.0  2.325635     39.43   \n20638  1.8672      18.0  5.329513   1.171920       741.0  2.123209     39.43   \n20639  2.3886      16.0  5.254717   1.162264      1387.0  2.616981     39.37   \n\n       Longitude  \n0        -122.23  \n1        -122.22  \n2        -122.24  \n3        -122.25  \n4        -122.25  \n5        -122.25  \n6        -122.25  \n7        -122.25  \n8        -122.26  \n9        -122.25  \n10       -122.26  \n11       -122.26  \n12       -122.26  \n13       -122.26  \n14       -122.26  \n15       -122.26  \n16       -122.27  \n17       -122.27  \n18       -122.26  \n19       -122.27  \n20       -122.27  \n21       -122.27  \n22       -122.27  \n23       -122.27  \n24       -122.27  \n25       -122.28  \n26       -122.28  \n27       -122.28  \n28       -122.28  \n29       -122.28  \n...          ...  \n20610    -121.56  \n20611    -121.55  \n20612    -121.56  \n20613    -121.55  \n20614    -121.54  \n20615    -121.54  \n20616    -121.53  \n20617    -121.53  \n20618    -121.55  \n20619    -121.56  \n20620    -121.48  \n20621    -121.47  \n20622    -121.44  \n20623    -121.37  \n20624    -121.41  \n20625    -121.52  \n20626    -121.43  \n20627    -121.32  \n20628    -121.48  \n20629    -121.39  \n20630    -121.32  \n20631    -121.40  \n20632    -121.45  \n20633    -121.53  \n20634    -121.56  \n20635    -121.09  \n20636    -121.21  \n20637    -121.22  \n20638    -121.32  \n20639    -121.24  \n\n[20640 rows x 8 columns]",
            "text/html": "<div>\n<table border=\"1\" class=\"dataframe\">\n  <thead>\n    <tr style=\"text-align: right;\">\n      <th></th>\n      <th>MedInc</th>\n      <th>HouseAge</th>\n      <th>AveRooms</th>\n      <th>AveBedrms</th>\n      <th>Population</th>\n      <th>AveOccup</th>\n      <th>Latitude</th>\n      <th>Longitude</th>\n    </tr>\n  </thead>\n  <tbody>\n    <tr>\n      <th>0</th>\n      <td>8.3252</td>\n      <td>41.0</td>\n      <td>6.984127</td>\n      <td>1.023810</td>\n      <td>322.0</td>\n      <td>2.555556</td>\n      <td>37.88</td>\n      <td>-122.23</td>\n    </tr>\n    <tr>\n      <th>1</th>\n      <td>8.3014</td>\n      <td>21.0</td>\n      <td>6.238137</td>\n      <td>0.971880</td>\n      <td>2401.0</td>\n      <td>2.109842</td>\n      <td>37.86</td>\n      <td>-122.22</td>\n    </tr>\n    <tr>\n      <th>2</th>\n      <td>7.2574</td>\n      <td>52.0</td>\n      <td>8.288136</td>\n      <td>1.073446</td>\n      <td>496.0</td>\n      <td>2.802260</td>\n      <td>37.85</td>\n      <td>-122.24</td>\n    </tr>\n    <tr>\n      <th>3</th>\n      <td>5.6431</td>\n      <td>52.0</td>\n      <td>5.817352</td>\n      <td>1.073059</td>\n      <td>558.0</td>\n      <td>2.547945</td>\n      <td>37.85</td>\n      <td>-122.25</td>\n    </tr>\n    <tr>\n      <th>4</th>\n      <td>3.8462</td>\n      <td>52.0</td>\n      <td>6.281853</td>\n      <td>1.081081</td>\n      <td>565.0</td>\n      <td>2.181467</td>\n      <td>37.85</td>\n      <td>-122.25</td>\n    </tr>\n    <tr>\n      <th>5</th>\n      <td>4.0368</td>\n      <td>52.0</td>\n      <td>4.761658</td>\n      <td>1.103627</td>\n      <td>413.0</td>\n      <td>2.139896</td>\n      <td>37.85</td>\n      <td>-122.25</td>\n    </tr>\n    <tr>\n      <th>6</th>\n      <td>3.6591</td>\n      <td>52.0</td>\n      <td>4.931907</td>\n      <td>0.951362</td>\n      <td>1094.0</td>\n      <td>2.128405</td>\n      <td>37.84</td>\n      <td>-122.25</td>\n    </tr>\n    <tr>\n      <th>7</th>\n      <td>3.1200</td>\n      <td>52.0</td>\n      <td>4.797527</td>\n      <td>1.061824</td>\n      <td>1157.0</td>\n      <td>1.788253</td>\n      <td>37.84</td>\n      <td>-122.25</td>\n    </tr>\n    <tr>\n      <th>8</th>\n      <td>2.0804</td>\n      <td>42.0</td>\n      <td>4.294118</td>\n      <td>1.117647</td>\n      <td>1206.0</td>\n      <td>2.026891</td>\n      <td>37.84</td>\n      <td>-122.26</td>\n    </tr>\n    <tr>\n      <th>9</th>\n      <td>3.6912</td>\n      <td>52.0</td>\n      <td>4.970588</td>\n      <td>0.990196</td>\n      <td>1551.0</td>\n      <td>2.172269</td>\n      <td>37.84</td>\n      <td>-122.25</td>\n    </tr>\n    <tr>\n      <th>10</th>\n      <td>3.2031</td>\n      <td>52.0</td>\n      <td>5.477612</td>\n      <td>1.079602</td>\n      <td>910.0</td>\n      <td>2.263682</td>\n      <td>37.85</td>\n      <td>-122.26</td>\n    </tr>\n    <tr>\n      <th>11</th>\n      <td>3.2705</td>\n      <td>52.0</td>\n      <td>4.772480</td>\n      <td>1.024523</td>\n      <td>1504.0</td>\n      <td>2.049046</td>\n      <td>37.85</td>\n      <td>-122.26</td>\n    </tr>\n    <tr>\n      <th>12</th>\n      <td>3.0750</td>\n      <td>52.0</td>\n      <td>5.322650</td>\n      <td>1.012821</td>\n      <td>1098.0</td>\n      <td>2.346154</td>\n      <td>37.85</td>\n      <td>-122.26</td>\n    </tr>\n    <tr>\n      <th>13</th>\n      <td>2.6736</td>\n      <td>52.0</td>\n      <td>4.000000</td>\n      <td>1.097701</td>\n      <td>345.0</td>\n      <td>1.982759</td>\n      <td>37.84</td>\n      <td>-122.26</td>\n    </tr>\n    <tr>\n      <th>14</th>\n      <td>1.9167</td>\n      <td>52.0</td>\n      <td>4.262903</td>\n      <td>1.009677</td>\n      <td>1212.0</td>\n      <td>1.954839</td>\n      <td>37.85</td>\n      <td>-122.26</td>\n    </tr>\n    <tr>\n      <th>15</th>\n      <td>2.1250</td>\n      <td>50.0</td>\n      <td>4.242424</td>\n      <td>1.071970</td>\n      <td>697.0</td>\n      <td>2.640152</td>\n      <td>37.85</td>\n      <td>-122.26</td>\n    </tr>\n    <tr>\n      <th>16</th>\n      <td>2.7750</td>\n      <td>52.0</td>\n      <td>5.939577</td>\n      <td>1.048338</td>\n      <td>793.0</td>\n      <td>2.395770</td>\n      <td>37.85</td>\n      <td>-122.27</td>\n    </tr>\n    <tr>\n      <th>17</th>\n      <td>2.1202</td>\n      <td>52.0</td>\n      <td>4.052805</td>\n      <td>0.966997</td>\n      <td>648.0</td>\n      <td>2.138614</td>\n      <td>37.85</td>\n      <td>-122.27</td>\n    </tr>\n    <tr>\n      <th>18</th>\n      <td>1.9911</td>\n      <td>50.0</td>\n      <td>5.343675</td>\n      <td>1.085919</td>\n      <td>990.0</td>\n      <td>2.362768</td>\n      <td>37.84</td>\n      <td>-122.26</td>\n    </tr>\n    <tr>\n      <th>19</th>\n      <td>2.6033</td>\n      <td>52.0</td>\n      <td>5.465455</td>\n      <td>1.083636</td>\n      <td>690.0</td>\n      <td>2.509091</td>\n      <td>37.84</td>\n      <td>-122.27</td>\n    </tr>\n    <tr>\n      <th>20</th>\n      <td>1.3578</td>\n      <td>40.0</td>\n      <td>4.524096</td>\n      <td>1.108434</td>\n      <td>409.0</td>\n      <td>2.463855</td>\n      <td>37.85</td>\n      <td>-122.27</td>\n    </tr>\n    <tr>\n      <th>21</th>\n      <td>1.7135</td>\n      <td>42.0</td>\n      <td>4.478142</td>\n      <td>1.002732</td>\n      <td>929.0</td>\n      <td>2.538251</td>\n      <td>37.85</td>\n      <td>-122.27</td>\n    </tr>\n    <tr>\n      <th>22</th>\n      <td>1.7250</td>\n      <td>52.0</td>\n      <td>5.096234</td>\n      <td>1.131799</td>\n      <td>1015.0</td>\n      <td>2.123431</td>\n      <td>37.84</td>\n      <td>-122.27</td>\n    </tr>\n    <tr>\n      <th>23</th>\n      <td>2.1806</td>\n      <td>52.0</td>\n      <td>5.193846</td>\n      <td>1.036923</td>\n      <td>853.0</td>\n      <td>2.624615</td>\n      <td>37.84</td>\n      <td>-122.27</td>\n    </tr>\n    <tr>\n      <th>24</th>\n      <td>2.6000</td>\n      <td>52.0</td>\n      <td>5.270142</td>\n      <td>1.035545</td>\n      <td>1006.0</td>\n      <td>2.383886</td>\n      <td>37.84</td>\n      <td>-122.27</td>\n    </tr>\n    <tr>\n      <th>25</th>\n      <td>2.4038</td>\n      <td>41.0</td>\n      <td>4.495798</td>\n      <td>1.033613</td>\n      <td>317.0</td>\n      <td>2.663866</td>\n      <td>37.85</td>\n      <td>-122.28</td>\n    </tr>\n    <tr>\n      <th>26</th>\n      <td>2.4597</td>\n      <td>49.0</td>\n      <td>4.728033</td>\n      <td>1.020921</td>\n      <td>607.0</td>\n      <td>2.539749</td>\n      <td>37.85</td>\n      <td>-122.28</td>\n    </tr>\n    <tr>\n      <th>27</th>\n      <td>1.8080</td>\n      <td>52.0</td>\n      <td>4.780856</td>\n      <td>1.060453</td>\n      <td>1102.0</td>\n      <td>2.775819</td>\n      <td>37.85</td>\n      <td>-122.28</td>\n    </tr>\n    <tr>\n      <th>28</th>\n      <td>1.6424</td>\n      <td>50.0</td>\n      <td>4.401691</td>\n      <td>1.040169</td>\n      <td>1131.0</td>\n      <td>2.391121</td>\n      <td>37.84</td>\n      <td>-122.28</td>\n    </tr>\n    <tr>\n      <th>29</th>\n      <td>1.6875</td>\n      <td>52.0</td>\n      <td>4.703226</td>\n      <td>1.032258</td>\n      <td>395.0</td>\n      <td>2.548387</td>\n      <td>37.84</td>\n      <td>-122.28</td>\n    </tr>\n    <tr>\n      <th>...</th>\n      <td>...</td>\n      <td>...</td>\n      <td>...</td>\n      <td>...</td>\n      <td>...</td>\n      <td>...</td>\n      <td>...</td>\n      <td>...</td>\n    </tr>\n    <tr>\n      <th>20610</th>\n      <td>1.3631</td>\n      <td>28.0</td>\n      <td>4.851936</td>\n      <td>1.102506</td>\n      <td>1195.0</td>\n      <td>2.722096</td>\n      <td>39.10</td>\n      <td>-121.56</td>\n    </tr>\n    <tr>\n      <th>20611</th>\n      <td>1.2857</td>\n      <td>27.0</td>\n      <td>4.359413</td>\n      <td>1.078240</td>\n      <td>1163.0</td>\n      <td>2.843521</td>\n      <td>39.10</td>\n      <td>-121.55</td>\n    </tr>\n    <tr>\n      <th>20612</th>\n      <td>1.4934</td>\n      <td>26.0</td>\n      <td>5.157303</td>\n      <td>1.082397</td>\n      <td>761.0</td>\n      <td>2.850187</td>\n      <td>39.08</td>\n      <td>-121.56</td>\n    </tr>\n    <tr>\n      <th>20613</th>\n      <td>1.4958</td>\n      <td>31.0</td>\n      <td>4.500000</td>\n      <td>0.950521</td>\n      <td>1167.0</td>\n      <td>3.039062</td>\n      <td>39.09</td>\n      <td>-121.55</td>\n    </tr>\n    <tr>\n      <th>20614</th>\n      <td>2.4695</td>\n      <td>26.0</td>\n      <td>4.801688</td>\n      <td>0.970464</td>\n      <td>1455.0</td>\n      <td>3.069620</td>\n      <td>39.08</td>\n      <td>-121.54</td>\n    </tr>\n    <tr>\n      <th>20615</th>\n      <td>2.3598</td>\n      <td>23.0</td>\n      <td>5.461929</td>\n      <td>1.096447</td>\n      <td>724.0</td>\n      <td>3.675127</td>\n      <td>39.08</td>\n      <td>-121.54</td>\n    </tr>\n    <tr>\n      <th>20616</th>\n      <td>2.0469</td>\n      <td>15.0</td>\n      <td>4.826667</td>\n      <td>1.176000</td>\n      <td>1157.0</td>\n      <td>3.085333</td>\n      <td>39.08</td>\n      <td>-121.53</td>\n    </tr>\n    <tr>\n      <th>20617</th>\n      <td>3.3021</td>\n      <td>20.0</td>\n      <td>4.921053</td>\n      <td>0.956140</td>\n      <td>308.0</td>\n      <td>2.701754</td>\n      <td>39.06</td>\n      <td>-121.53</td>\n    </tr>\n    <tr>\n      <th>20618</th>\n      <td>2.2500</td>\n      <td>25.0</td>\n      <td>5.893805</td>\n      <td>1.092920</td>\n      <td>726.0</td>\n      <td>3.212389</td>\n      <td>39.06</td>\n      <td>-121.55</td>\n    </tr>\n    <tr>\n      <th>20619</th>\n      <td>2.7303</td>\n      <td>22.0</td>\n      <td>6.388514</td>\n      <td>1.148649</td>\n      <td>1023.0</td>\n      <td>3.456081</td>\n      <td>39.01</td>\n      <td>-121.56</td>\n    </tr>\n    <tr>\n      <th>20620</th>\n      <td>4.5625</td>\n      <td>40.0</td>\n      <td>4.125000</td>\n      <td>0.854167</td>\n      <td>151.0</td>\n      <td>3.145833</td>\n      <td>39.05</td>\n      <td>-121.48</td>\n    </tr>\n    <tr>\n      <th>20621</th>\n      <td>2.3661</td>\n      <td>37.0</td>\n      <td>7.923567</td>\n      <td>1.573248</td>\n      <td>484.0</td>\n      <td>3.082803</td>\n      <td>39.01</td>\n      <td>-121.47</td>\n    </tr>\n    <tr>\n      <th>20622</th>\n      <td>2.4167</td>\n      <td>20.0</td>\n      <td>4.808917</td>\n      <td>0.936306</td>\n      <td>457.0</td>\n      <td>2.910828</td>\n      <td>39.00</td>\n      <td>-121.44</td>\n    </tr>\n    <tr>\n      <th>20623</th>\n      <td>2.8235</td>\n      <td>32.0</td>\n      <td>5.101322</td>\n      <td>1.074890</td>\n      <td>598.0</td>\n      <td>2.634361</td>\n      <td>39.03</td>\n      <td>-121.37</td>\n    </tr>\n    <tr>\n      <th>20624</th>\n      <td>3.0739</td>\n      <td>16.0</td>\n      <td>5.835052</td>\n      <td>1.030928</td>\n      <td>731.0</td>\n      <td>2.512027</td>\n      <td>39.04</td>\n      <td>-121.41</td>\n    </tr>\n    <tr>\n      <th>20625</th>\n      <td>4.1250</td>\n      <td>37.0</td>\n      <td>7.285714</td>\n      <td>1.214286</td>\n      <td>29.0</td>\n      <td>2.071429</td>\n      <td>39.12</td>\n      <td>-121.52</td>\n    </tr>\n    <tr>\n      <th>20626</th>\n      <td>2.1667</td>\n      <td>36.0</td>\n      <td>6.573099</td>\n      <td>1.076023</td>\n      <td>504.0</td>\n      <td>2.947368</td>\n      <td>39.18</td>\n      <td>-121.43</td>\n    </tr>\n    <tr>\n      <th>20627</th>\n      <td>3.0000</td>\n      <td>5.0</td>\n      <td>6.067797</td>\n      <td>1.101695</td>\n      <td>169.0</td>\n      <td>2.864407</td>\n      <td>39.13</td>\n      <td>-121.32</td>\n    </tr>\n    <tr>\n      <th>20628</th>\n      <td>2.5952</td>\n      <td>19.0</td>\n      <td>5.238462</td>\n      <td>1.079487</td>\n      <td>1018.0</td>\n      <td>2.610256</td>\n      <td>39.10</td>\n      <td>-121.48</td>\n    </tr>\n    <tr>\n      <th>20629</th>\n      <td>2.0943</td>\n      <td>28.0</td>\n      <td>5.519802</td>\n      <td>1.020902</td>\n      <td>6912.0</td>\n      <td>3.801980</td>\n      <td>39.12</td>\n      <td>-121.39</td>\n    </tr>\n    <tr>\n      <th>20630</th>\n      <td>3.5673</td>\n      <td>11.0</td>\n      <td>5.932584</td>\n      <td>1.134831</td>\n      <td>1257.0</td>\n      <td>2.824719</td>\n      <td>39.29</td>\n      <td>-121.32</td>\n    </tr>\n    <tr>\n      <th>20631</th>\n      <td>3.5179</td>\n      <td>15.0</td>\n      <td>6.145833</td>\n      <td>1.141204</td>\n      <td>1200.0</td>\n      <td>2.777778</td>\n      <td>39.33</td>\n      <td>-121.40</td>\n    </tr>\n    <tr>\n      <th>20632</th>\n      <td>3.1250</td>\n      <td>15.0</td>\n      <td>6.023377</td>\n      <td>1.080519</td>\n      <td>1047.0</td>\n      <td>2.719481</td>\n      <td>39.26</td>\n      <td>-121.45</td>\n    </tr>\n    <tr>\n      <th>20633</th>\n      <td>2.5495</td>\n      <td>27.0</td>\n      <td>5.445026</td>\n      <td>1.078534</td>\n      <td>1082.0</td>\n      <td>2.832461</td>\n      <td>39.19</td>\n      <td>-121.53</td>\n    </tr>\n    <tr>\n      <th>20634</th>\n      <td>3.7125</td>\n      <td>28.0</td>\n      <td>6.779070</td>\n      <td>1.148256</td>\n      <td>1041.0</td>\n      <td>3.026163</td>\n      <td>39.27</td>\n      <td>-121.56</td>\n    </tr>\n    <tr>\n      <th>20635</th>\n      <td>1.5603</td>\n      <td>25.0</td>\n      <td>5.045455</td>\n      <td>1.133333</td>\n      <td>845.0</td>\n      <td>2.560606</td>\n      <td>39.48</td>\n      <td>-121.09</td>\n    </tr>\n    <tr>\n      <th>20636</th>\n      <td>2.5568</td>\n      <td>18.0</td>\n      <td>6.114035</td>\n      <td>1.315789</td>\n      <td>356.0</td>\n      <td>3.122807</td>\n      <td>39.49</td>\n      <td>-121.21</td>\n    </tr>\n    <tr>\n      <th>20637</th>\n      <td>1.7000</td>\n      <td>17.0</td>\n      <td>5.205543</td>\n      <td>1.120092</td>\n      <td>1007.0</td>\n      <td>2.325635</td>\n      <td>39.43</td>\n      <td>-121.22</td>\n    </tr>\n    <tr>\n      <th>20638</th>\n      <td>1.8672</td>\n      <td>18.0</td>\n      <td>5.329513</td>\n      <td>1.171920</td>\n      <td>741.0</td>\n      <td>2.123209</td>\n      <td>39.43</td>\n      <td>-121.32</td>\n    </tr>\n    <tr>\n      <th>20639</th>\n      <td>2.3886</td>\n      <td>16.0</td>\n      <td>5.254717</td>\n      <td>1.162264</td>\n      <td>1387.0</td>\n      <td>2.616981</td>\n      <td>39.37</td>\n      <td>-121.24</td>\n    </tr>\n  </tbody>\n</table>\n<p>20640 rows × 8 columns</p>\n</div>"
          },
          "metadata": {}
        }
      ]
    },
    {
      "metadata": {
        "trusted": true
      },
      "cell_type": "code",
      "source": "df2.info()",
      "execution_count": 133,
      "outputs": [
        {
          "output_type": "stream",
          "text": "<class 'pandas.core.frame.DataFrame'>\nRangeIndex: 20640 entries, 0 to 20639\nData columns (total 8 columns):\nMedInc        20640 non-null float64\nHouseAge      20640 non-null float64\nAveRooms      20640 non-null float64\nAveBedrms     20640 non-null float64\nPopulation    20640 non-null float64\nAveOccup      20640 non-null float64\nLatitude      20640 non-null float64\nLongitude     20640 non-null float64\ndtypes: float64(8)\nmemory usage: 1.3 MB\n",
          "name": "stdout"
        }
      ]
    },
    {
      "metadata": {},
      "cell_type": "markdown",
      "source": "## Linear Regression"
    },
    {
      "metadata": {
        "trusted": true
      },
      "cell_type": "code",
      "source": "import os\nimport pandas as pd\nLOCAL_FILE = os.path.join('data','housing.csv')\ndf = pd.read_csv(LOCAL_FILE)\ndf.info()",
      "execution_count": 134,
      "outputs": [
        {
          "output_type": "stream",
          "text": "<class 'pandas.core.frame.DataFrame'>\nRangeIndex: 20640 entries, 0 to 20639\nData columns (total 10 columns):\nlongitude             20640 non-null float64\nlatitude              20640 non-null float64\nhousing_median_age    20640 non-null float64\ntotal_rooms           20640 non-null float64\ntotal_bedrooms        20433 non-null float64\npopulation            20640 non-null float64\nhouseholds            20640 non-null float64\nmedian_income         20640 non-null float64\nmedian_house_value    20640 non-null float64\nocean_proximity       20640 non-null object\ndtypes: float64(9), object(1)\nmemory usage: 1.6+ MB\n",
          "name": "stdout"
        }
      ]
    },
    {
      "metadata": {
        "trusted": true
      },
      "cell_type": "code",
      "source": "df[\"ocean_proximity\"].value_counts()\ndf = df[df[\"ocean_proximity\"] != 'ISLAND']\ndf[\"ocean_proximity\"].value_counts()",
      "execution_count": 135,
      "outputs": [
        {
          "output_type": "execute_result",
          "execution_count": 135,
          "data": {
            "text/plain": "<1H OCEAN     9136\nINLAND        6551\nNEAR OCEAN    2658\nNEAR BAY      2290\nName: ocean_proximity, dtype: int64"
          },
          "metadata": {}
        }
      ]
    },
    {
      "metadata": {
        "trusted": true
      },
      "cell_type": "code",
      "source": "#One Hot Encoding\ndf = pd.get_dummies(df)\ndf.head()",
      "execution_count": 136,
      "outputs": [
        {
          "output_type": "execute_result",
          "execution_count": 136,
          "data": {
            "text/plain": "   longitude  latitude  housing_median_age  total_rooms  total_bedrooms  \\\n0    -122.23     37.88                41.0        880.0           129.0   \n1    -122.22     37.86                21.0       7099.0          1106.0   \n2    -122.24     37.85                52.0       1467.0           190.0   \n3    -122.25     37.85                52.0       1274.0           235.0   \n4    -122.25     37.85                52.0       1627.0           280.0   \n\n   population  households  median_income  median_house_value  \\\n0       322.0       126.0         8.3252            452600.0   \n1      2401.0      1138.0         8.3014            358500.0   \n2       496.0       177.0         7.2574            352100.0   \n3       558.0       219.0         5.6431            341300.0   \n4       565.0       259.0         3.8462            342200.0   \n\n   ocean_proximity_<1H OCEAN  ocean_proximity_INLAND  \\\n0                          0                       0   \n1                          0                       0   \n2                          0                       0   \n3                          0                       0   \n4                          0                       0   \n\n   ocean_proximity_NEAR BAY  ocean_proximity_NEAR OCEAN  \n0                         1                           0  \n1                         1                           0  \n2                         1                           0  \n3                         1                           0  \n4                         1                           0  ",
            "text/html": "<div>\n<table border=\"1\" class=\"dataframe\">\n  <thead>\n    <tr style=\"text-align: right;\">\n      <th></th>\n      <th>longitude</th>\n      <th>latitude</th>\n      <th>housing_median_age</th>\n      <th>total_rooms</th>\n      <th>total_bedrooms</th>\n      <th>population</th>\n      <th>households</th>\n      <th>median_income</th>\n      <th>median_house_value</th>\n      <th>ocean_proximity_&lt;1H OCEAN</th>\n      <th>ocean_proximity_INLAND</th>\n      <th>ocean_proximity_NEAR BAY</th>\n      <th>ocean_proximity_NEAR OCEAN</th>\n    </tr>\n  </thead>\n  <tbody>\n    <tr>\n      <th>0</th>\n      <td>-122.23</td>\n      <td>37.88</td>\n      <td>41.0</td>\n      <td>880.0</td>\n      <td>129.0</td>\n      <td>322.0</td>\n      <td>126.0</td>\n      <td>8.3252</td>\n      <td>452600.0</td>\n      <td>0</td>\n      <td>0</td>\n      <td>1</td>\n      <td>0</td>\n    </tr>\n    <tr>\n      <th>1</th>\n      <td>-122.22</td>\n      <td>37.86</td>\n      <td>21.0</td>\n      <td>7099.0</td>\n      <td>1106.0</td>\n      <td>2401.0</td>\n      <td>1138.0</td>\n      <td>8.3014</td>\n      <td>358500.0</td>\n      <td>0</td>\n      <td>0</td>\n      <td>1</td>\n      <td>0</td>\n    </tr>\n    <tr>\n      <th>2</th>\n      <td>-122.24</td>\n      <td>37.85</td>\n      <td>52.0</td>\n      <td>1467.0</td>\n      <td>190.0</td>\n      <td>496.0</td>\n      <td>177.0</td>\n      <td>7.2574</td>\n      <td>352100.0</td>\n      <td>0</td>\n      <td>0</td>\n      <td>1</td>\n      <td>0</td>\n    </tr>\n    <tr>\n      <th>3</th>\n      <td>-122.25</td>\n      <td>37.85</td>\n      <td>52.0</td>\n      <td>1274.0</td>\n      <td>235.0</td>\n      <td>558.0</td>\n      <td>219.0</td>\n      <td>5.6431</td>\n      <td>341300.0</td>\n      <td>0</td>\n      <td>0</td>\n      <td>1</td>\n      <td>0</td>\n    </tr>\n    <tr>\n      <th>4</th>\n      <td>-122.25</td>\n      <td>37.85</td>\n      <td>52.0</td>\n      <td>1627.0</td>\n      <td>280.0</td>\n      <td>565.0</td>\n      <td>259.0</td>\n      <td>3.8462</td>\n      <td>342200.0</td>\n      <td>0</td>\n      <td>0</td>\n      <td>1</td>\n      <td>0</td>\n    </tr>\n  </tbody>\n</table>\n</div>"
          },
          "metadata": {}
        }
      ]
    },
    {
      "metadata": {},
      "cell_type": "markdown",
      "source": "### Three ways to Deal with Missing Values\n#### 1. Drop the rows containing missing values\n#### 2. Drop the whole column that has missing values\n#### 3. For Numerical columns, Impute (estimate) the values with mean, median or some other statistic of the column"
    },
    {
      "metadata": {
        "trusted": true
      },
      "cell_type": "code",
      "source": "from sklearn.preprocessing import Imputer\nimputer = Imputer(strategy=\"median\")\nimputed = imputer.fit_transform(df)\ndf = pd.DataFrame(imputed,columns=df.columns)\ndf.head()",
      "execution_count": 137,
      "outputs": [
        {
          "output_type": "execute_result",
          "execution_count": 137,
          "data": {
            "text/plain": "   longitude  latitude  housing_median_age  total_rooms  total_bedrooms  \\\n0    -122.23     37.88                41.0        880.0           129.0   \n1    -122.22     37.86                21.0       7099.0          1106.0   \n2    -122.24     37.85                52.0       1467.0           190.0   \n3    -122.25     37.85                52.0       1274.0           235.0   \n4    -122.25     37.85                52.0       1627.0           280.0   \n\n   population  households  median_income  median_house_value  \\\n0       322.0       126.0         8.3252            452600.0   \n1      2401.0      1138.0         8.3014            358500.0   \n2       496.0       177.0         7.2574            352100.0   \n3       558.0       219.0         5.6431            341300.0   \n4       565.0       259.0         3.8462            342200.0   \n\n   ocean_proximity_<1H OCEAN  ocean_proximity_INLAND  \\\n0                        0.0                     0.0   \n1                        0.0                     0.0   \n2                        0.0                     0.0   \n3                        0.0                     0.0   \n4                        0.0                     0.0   \n\n   ocean_proximity_NEAR BAY  ocean_proximity_NEAR OCEAN  \n0                       1.0                         0.0  \n1                       1.0                         0.0  \n2                       1.0                         0.0  \n3                       1.0                         0.0  \n4                       1.0                         0.0  ",
            "text/html": "<div>\n<table border=\"1\" class=\"dataframe\">\n  <thead>\n    <tr style=\"text-align: right;\">\n      <th></th>\n      <th>longitude</th>\n      <th>latitude</th>\n      <th>housing_median_age</th>\n      <th>total_rooms</th>\n      <th>total_bedrooms</th>\n      <th>population</th>\n      <th>households</th>\n      <th>median_income</th>\n      <th>median_house_value</th>\n      <th>ocean_proximity_&lt;1H OCEAN</th>\n      <th>ocean_proximity_INLAND</th>\n      <th>ocean_proximity_NEAR BAY</th>\n      <th>ocean_proximity_NEAR OCEAN</th>\n    </tr>\n  </thead>\n  <tbody>\n    <tr>\n      <th>0</th>\n      <td>-122.23</td>\n      <td>37.88</td>\n      <td>41.0</td>\n      <td>880.0</td>\n      <td>129.0</td>\n      <td>322.0</td>\n      <td>126.0</td>\n      <td>8.3252</td>\n      <td>452600.0</td>\n      <td>0.0</td>\n      <td>0.0</td>\n      <td>1.0</td>\n      <td>0.0</td>\n    </tr>\n    <tr>\n      <th>1</th>\n      <td>-122.22</td>\n      <td>37.86</td>\n      <td>21.0</td>\n      <td>7099.0</td>\n      <td>1106.0</td>\n      <td>2401.0</td>\n      <td>1138.0</td>\n      <td>8.3014</td>\n      <td>358500.0</td>\n      <td>0.0</td>\n      <td>0.0</td>\n      <td>1.0</td>\n      <td>0.0</td>\n    </tr>\n    <tr>\n      <th>2</th>\n      <td>-122.24</td>\n      <td>37.85</td>\n      <td>52.0</td>\n      <td>1467.0</td>\n      <td>190.0</td>\n      <td>496.0</td>\n      <td>177.0</td>\n      <td>7.2574</td>\n      <td>352100.0</td>\n      <td>0.0</td>\n      <td>0.0</td>\n      <td>1.0</td>\n      <td>0.0</td>\n    </tr>\n    <tr>\n      <th>3</th>\n      <td>-122.25</td>\n      <td>37.85</td>\n      <td>52.0</td>\n      <td>1274.0</td>\n      <td>235.0</td>\n      <td>558.0</td>\n      <td>219.0</td>\n      <td>5.6431</td>\n      <td>341300.0</td>\n      <td>0.0</td>\n      <td>0.0</td>\n      <td>1.0</td>\n      <td>0.0</td>\n    </tr>\n    <tr>\n      <th>4</th>\n      <td>-122.25</td>\n      <td>37.85</td>\n      <td>52.0</td>\n      <td>1627.0</td>\n      <td>280.0</td>\n      <td>565.0</td>\n      <td>259.0</td>\n      <td>3.8462</td>\n      <td>342200.0</td>\n      <td>0.0</td>\n      <td>0.0</td>\n      <td>1.0</td>\n      <td>0.0</td>\n    </tr>\n  </tbody>\n</table>\n</div>"
          },
          "metadata": {}
        }
      ]
    },
    {
      "metadata": {
        "trusted": true
      },
      "cell_type": "code",
      "source": "df.info()",
      "execution_count": 138,
      "outputs": [
        {
          "output_type": "stream",
          "text": "<class 'pandas.core.frame.DataFrame'>\nRangeIndex: 20635 entries, 0 to 20634\nData columns (total 13 columns):\nlongitude                     20635 non-null float64\nlatitude                      20635 non-null float64\nhousing_median_age            20635 non-null float64\ntotal_rooms                   20635 non-null float64\ntotal_bedrooms                20635 non-null float64\npopulation                    20635 non-null float64\nhouseholds                    20635 non-null float64\nmedian_income                 20635 non-null float64\nmedian_house_value            20635 non-null float64\nocean_proximity_<1H OCEAN     20635 non-null float64\nocean_proximity_INLAND        20635 non-null float64\nocean_proximity_NEAR BAY      20635 non-null float64\nocean_proximity_NEAR OCEAN    20635 non-null float64\ndtypes: float64(13)\nmemory usage: 2.0 MB\n",
          "name": "stdout"
        }
      ]
    },
    {
      "metadata": {
        "trusted": true
      },
      "cell_type": "code",
      "source": "df['median_income'].hist()",
      "execution_count": 139,
      "outputs": [
        {
          "output_type": "execute_result",
          "execution_count": 139,
          "data": {
            "text/plain": "<matplotlib.axes._subplots.AxesSubplot at 0x7fdd8f7904e0>"
          },
          "metadata": {}
        },
        {
          "output_type": "display_data",
          "data": {
            "image/png": "[encoded data removed]",
            "text/plain": "<matplotlib.figure.Figure at 0x7fdd90aade80>"
          },
          "metadata": {}
        }
      ]
    },
    {
      "metadata": {
        "trusted": true
      },
      "cell_type": "code",
      "source": "import numpy as np\nbuckets = np.linspace(0,16,6)\ndf['median_income_cats'] = pd.cut(df['median_income'], buckets)",
      "execution_count": 140,
      "outputs": []
    },
    {
      "metadata": {
        "trusted": true,
        "scrolled": true
      },
      "cell_type": "code",
      "source": "df['median_income_cats'].value_counts()/len(df)",
      "execution_count": 141,
      "outputs": [
        {
          "output_type": "execute_result",
          "execution_count": 141,
          "data": {
            "text/plain": "(3.2, 6.4]     0.495808\n(0, 3.2]       0.419433\n(6.4, 9.6]     0.068185\n(9.6, 12.8]    0.012406\n(12.8, 16]     0.004168\nName: median_income_cats, dtype: float64"
          },
          "metadata": {}
        }
      ]
    },
    {
      "metadata": {
        "trusted": true
      },
      "cell_type": "code",
      "source": "from sklearn.model_selection import train_test_split\nX_train,X_test = train_test_split(df,test_size=0.2,stratify= df['median_income_cats'],\n                                  shuffle = True,random_state=144)",
      "execution_count": 142,
      "outputs": []
    },
    {
      "metadata": {
        "trusted": true
      },
      "cell_type": "code",
      "source": "X_train['median_income_cats'].value_counts()/len(X_train)",
      "execution_count": 143,
      "outputs": [
        {
          "output_type": "execute_result",
          "execution_count": 143,
          "data": {
            "text/plain": "(3.2, 6.4]     0.495820\n(0, 3.2]       0.419433\n(6.4, 9.6]     0.068149\n(9.6, 12.8]    0.012418\n(12.8, 16]     0.004180\nName: median_income_cats, dtype: float64"
          },
          "metadata": {}
        }
      ]
    },
    {
      "metadata": {
        "trusted": true
      },
      "cell_type": "code",
      "source": "X_test['median_income_cats'].value_counts()/len(X_test)",
      "execution_count": 144,
      "outputs": [
        {
          "output_type": "execute_result",
          "execution_count": 144,
          "data": {
            "text/plain": "(3.2, 6.4]     0.495760\n(0, 3.2]       0.419433\n(6.4, 9.6]     0.068331\n(9.6, 12.8]    0.012358\n(12.8, 16]     0.004119\nName: median_income_cats, dtype: float64"
          },
          "metadata": {}
        }
      ]
    },
    {
      "metadata": {
        "trusted": true
      },
      "cell_type": "code",
      "source": "X_train.head()",
      "execution_count": 145,
      "outputs": [
        {
          "output_type": "execute_result",
          "execution_count": 145,
          "data": {
            "text/plain": "       longitude  latitude  housing_median_age  total_rooms  total_bedrooms  \\\n4570     -118.27     34.06                30.0       1771.0           788.0   \n12057    -117.58     33.87                17.0       2772.0           449.0   \n20281    -119.17     34.17                32.0       1567.0           304.0   \n19871    -119.31     36.33                46.0       1636.0           338.0   \n15204    -117.08     33.01                 5.0       5659.0           931.0   \n\n       population  households  median_income  median_house_value  \\\n4570       2188.0       764.0         1.5885            154200.0   \n12057      1685.0       461.0         5.0464            163900.0   \n20281      1482.0       308.0         3.5867            182100.0   \n19871       772.0       332.0         2.4250             84900.0   \n15204      2565.0       902.0         6.1949            238700.0   \n\n       ocean_proximity_<1H OCEAN  ocean_proximity_INLAND  \\\n4570                         1.0                     0.0   \n12057                        0.0                     1.0   \n20281                        0.0                     0.0   \n19871                        0.0                     1.0   \n15204                        1.0                     0.0   \n\n       ocean_proximity_NEAR BAY  ocean_proximity_NEAR OCEAN median_income_cats  \n4570                        0.0                         0.0           (0, 3.2]  \n12057                       0.0                         0.0         (3.2, 6.4]  \n20281                       0.0                         1.0         (3.2, 6.4]  \n19871                       0.0                         0.0           (0, 3.2]  \n15204                       0.0                         0.0         (3.2, 6.4]  ",
            "text/html": "<div>\n<table border=\"1\" class=\"dataframe\">\n  <thead>\n    <tr style=\"text-align: right;\">\n      <th></th>\n      <th>longitude</th>\n      <th>latitude</th>\n      <th>housing_median_age</th>\n      <th>total_rooms</th>\n      <th>total_bedrooms</th>\n      <th>population</th>\n      <th>households</th>\n      <th>median_income</th>\n      <th>median_house_value</th>\n      <th>ocean_proximity_&lt;1H OCEAN</th>\n      <th>ocean_proximity_INLAND</th>\n      <th>ocean_proximity_NEAR BAY</th>\n      <th>ocean_proximity_NEAR OCEAN</th>\n      <th>median_income_cats</th>\n    </tr>\n  </thead>\n  <tbody>\n    <tr>\n      <th>4570</th>\n      <td>-118.27</td>\n      <td>34.06</td>\n      <td>30.0</td>\n      <td>1771.0</td>\n      <td>788.0</td>\n      <td>2188.0</td>\n      <td>764.0</td>\n      <td>1.5885</td>\n      <td>154200.0</td>\n      <td>1.0</td>\n      <td>0.0</td>\n      <td>0.0</td>\n      <td>0.0</td>\n      <td>(0, 3.2]</td>\n    </tr>\n    <tr>\n      <th>12057</th>\n      <td>-117.58</td>\n      <td>33.87</td>\n      <td>17.0</td>\n      <td>2772.0</td>\n      <td>449.0</td>\n      <td>1685.0</td>\n      <td>461.0</td>\n      <td>5.0464</td>\n      <td>163900.0</td>\n      <td>0.0</td>\n      <td>1.0</td>\n      <td>0.0</td>\n      <td>0.0</td>\n      <td>(3.2, 6.4]</td>\n    </tr>\n    <tr>\n      <th>20281</th>\n      <td>-119.17</td>\n      <td>34.17</td>\n      <td>32.0</td>\n      <td>1567.0</td>\n      <td>304.0</td>\n      <td>1482.0</td>\n      <td>308.0</td>\n      <td>3.5867</td>\n      <td>182100.0</td>\n      <td>0.0</td>\n      <td>0.0</td>\n      <td>0.0</td>\n      <td>1.0</td>\n      <td>(3.2, 6.4]</td>\n    </tr>\n    <tr>\n      <th>19871</th>\n      <td>-119.31</td>\n      <td>36.33</td>\n      <td>46.0</td>\n      <td>1636.0</td>\n      <td>338.0</td>\n      <td>772.0</td>\n      <td>332.0</td>\n      <td>2.4250</td>\n      <td>84900.0</td>\n      <td>0.0</td>\n      <td>1.0</td>\n      <td>0.0</td>\n      <td>0.0</td>\n      <td>(0, 3.2]</td>\n    </tr>\n    <tr>\n      <th>15204</th>\n      <td>-117.08</td>\n      <td>33.01</td>\n      <td>5.0</td>\n      <td>5659.0</td>\n      <td>931.0</td>\n      <td>2565.0</td>\n      <td>902.0</td>\n      <td>6.1949</td>\n      <td>238700.0</td>\n      <td>1.0</td>\n      <td>0.0</td>\n      <td>0.0</td>\n      <td>0.0</td>\n      <td>(3.2, 6.4]</td>\n    </tr>\n  </tbody>\n</table>\n</div>"
          },
          "metadata": {}
        }
      ]
    },
    {
      "metadata": {
        "trusted": true
      },
      "cell_type": "code",
      "source": "X_train,X_valid = train_test_split(X_train,test_size=0.15,\n                                  stratify= X_train['median_income_cats'],\n                                  shuffle = True,random_state=144)",
      "execution_count": 146,
      "outputs": []
    },
    {
      "metadata": {
        "trusted": true
      },
      "cell_type": "code",
      "source": "X_train['median_income_cats'].value_counts()/len(X_train)",
      "execution_count": 147,
      "outputs": [
        {
          "output_type": "execute_result",
          "execution_count": 147,
          "data": {
            "text/plain": "(3.2, 6.4]     0.495831\n(0, 3.2]       0.419428\n(6.4, 9.6]     0.068135\n(9.6, 12.8]    0.012401\n(12.8, 16]     0.004205\nName: median_income_cats, dtype: float64"
          },
          "metadata": {}
        }
      ]
    },
    {
      "metadata": {
        "trusted": true
      },
      "cell_type": "code",
      "source": "X_valid['median_income_cats'].value_counts()/len(X_valid)",
      "execution_count": 148,
      "outputs": [
        {
          "output_type": "execute_result",
          "execution_count": 148,
          "data": {
            "text/plain": "(3.2, 6.4]     0.495761\n(0, 3.2]       0.419459\n(6.4, 9.6]     0.068228\n(9.6, 12.8]    0.012515\n(12.8, 16]     0.004037\nName: median_income_cats, dtype: float64"
          },
          "metadata": {}
        }
      ]
    },
    {
      "metadata": {
        "trusted": true
      },
      "cell_type": "code",
      "source": "X_train.shape,X_valid.shape,X_test.shape",
      "execution_count": 149,
      "outputs": [
        {
          "output_type": "execute_result",
          "execution_count": 149,
          "data": {
            "text/plain": "((14031, 14), (2477, 14), (4127, 14))"
          },
          "metadata": {}
        }
      ]
    },
    {
      "metadata": {
        "trusted": true
      },
      "cell_type": "code",
      "source": "y_train = X_train['median_house_value'].copy()\ny_valid = X_valid['median_house_value'].copy()\ny_test = X_test['median_house_value'].copy()",
      "execution_count": 150,
      "outputs": []
    },
    {
      "metadata": {
        "trusted": true,
        "scrolled": true
      },
      "cell_type": "code",
      "source": "y_train.shape,y_valid.shape,y_test.shape",
      "execution_count": 151,
      "outputs": [
        {
          "output_type": "execute_result",
          "execution_count": 151,
          "data": {
            "text/plain": "((14031,), (2477,), (4127,))"
          },
          "metadata": {}
        }
      ]
    },
    {
      "metadata": {
        "trusted": true
      },
      "cell_type": "code",
      "source": "X_train.drop('median_house_value',axis=1,inplace=True)\nX_valid.drop('median_house_value',axis=1,inplace=True)\nX_test.drop('median_house_value',axis=1,inplace=True)",
      "execution_count": 152,
      "outputs": [
        {
          "output_type": "stream",
          "text": "/home/nbuser/anaconda3_420/lib/python3.5/site-packages/ipykernel/__main__.py:3: SettingWithCopyWarning: \nA value is trying to be set on a copy of a slice from a DataFrame\n\nSee the caveats in the documentation: http://pandas.pydata.org/pandas-docs/stable/indexing.html#indexing-view-versus-copy\n  app.launch_new_instance()\n",
          "name": "stderr"
        }
      ]
    },
    {
      "metadata": {
        "trusted": true
      },
      "cell_type": "code",
      "source": "X_train.shape,X_valid.shape,X_test.shape",
      "execution_count": 153,
      "outputs": [
        {
          "output_type": "execute_result",
          "execution_count": 153,
          "data": {
            "text/plain": "((14031, 13), (2477, 13), (4127, 13))"
          },
          "metadata": {}
        }
      ]
    },
    {
      "metadata": {
        "trusted": true
      },
      "cell_type": "code",
      "source": "X_train.drop('median_income_cats',axis=1,inplace=True)\nX_valid.drop('median_income_cats',axis=1,inplace=True)\nX_test.drop('median_income_cats',axis=1,inplace=True)",
      "execution_count": 154,
      "outputs": [
        {
          "output_type": "stream",
          "text": "/home/nbuser/anaconda3_420/lib/python3.5/site-packages/ipykernel/__main__.py:3: SettingWithCopyWarning: \nA value is trying to be set on a copy of a slice from a DataFrame\n\nSee the caveats in the documentation: http://pandas.pydata.org/pandas-docs/stable/indexing.html#indexing-view-versus-copy\n  app.launch_new_instance()\n",
          "name": "stderr"
        }
      ]
    },
    {
      "metadata": {
        "trusted": true
      },
      "cell_type": "code",
      "source": "X_train.shape,X_valid.shape,X_test.shape",
      "execution_count": 155,
      "outputs": [
        {
          "output_type": "execute_result",
          "execution_count": 155,
          "data": {
            "text/plain": "((14031, 12), (2477, 12), (4127, 12))"
          },
          "metadata": {}
        }
      ]
    },
    {
      "metadata": {
        "trusted": true
      },
      "cell_type": "code",
      "source": "y_train.shape,y_valid.shape,y_test.shape",
      "execution_count": 156,
      "outputs": [
        {
          "output_type": "execute_result",
          "execution_count": 156,
          "data": {
            "text/plain": "((14031,), (2477,), (4127,))"
          },
          "metadata": {}
        }
      ]
    },
    {
      "metadata": {
        "trusted": true
      },
      "cell_type": "code",
      "source": "from sklearn.preprocessing import MinMaxScaler\nscalerMM = MinMaxScaler()\nscalerMM.fit(X_train)",
      "execution_count": 157,
      "outputs": [
        {
          "output_type": "execute_result",
          "execution_count": 157,
          "data": {
            "text/plain": "MinMaxScaler(copy=True, feature_range=(0, 1))"
          },
          "metadata": {}
        }
      ]
    },
    {
      "metadata": {
        "trusted": true
      },
      "cell_type": "code",
      "source": "X_train_MM_scaled = scalerMM.transform(X_train)\nX_valid_MM_scaled = scalerMM.transform(X_valid)\nX_test_MM_scaled = scalerMM.transform(X_test)",
      "execution_count": 158,
      "outputs": []
    },
    {
      "metadata": {
        "trusted": true
      },
      "cell_type": "code",
      "source": "y_train.shape",
      "execution_count": 159,
      "outputs": [
        {
          "output_type": "execute_result",
          "execution_count": 159,
          "data": {
            "text/plain": "(14031,)"
          },
          "metadata": {}
        }
      ]
    },
    {
      "metadata": {
        "trusted": true
      },
      "cell_type": "code",
      "source": "y_train.values.reshape(-1,1).shape",
      "execution_count": 160,
      "outputs": [
        {
          "output_type": "execute_result",
          "execution_count": 160,
          "data": {
            "text/plain": "(14031, 1)"
          },
          "metadata": {}
        }
      ]
    },
    {
      "metadata": {
        "trusted": true
      },
      "cell_type": "code",
      "source": "scalerMM_for_y = MinMaxScaler()\nscalerMM_for_y.fit(y_train.values.reshape(-1,1))",
      "execution_count": 161,
      "outputs": [
        {
          "output_type": "execute_result",
          "execution_count": 161,
          "data": {
            "text/plain": "MinMaxScaler(copy=True, feature_range=(0, 1))"
          },
          "metadata": {}
        }
      ]
    },
    {
      "metadata": {
        "trusted": true
      },
      "cell_type": "code",
      "source": "y_train_MM_scaled = scalerMM_for_y.transform(y_train.values.reshape(-1,1))\ny_valid_MM_scaled = scalerMM_for_y.transform(y_valid.values.reshape(-1,1))\ny_test_MM_scaled = scalerMM_for_y.transform(y_test.values.reshape(-1,1))",
      "execution_count": 162,
      "outputs": []
    },
    {
      "metadata": {
        "trusted": true
      },
      "cell_type": "code",
      "source": "y_train_MM_scaled[:5]",
      "execution_count": 163,
      "outputs": [
        {
          "output_type": "execute_result",
          "execution_count": 163,
          "data": {
            "text/plain": "array([[0.08948623],\n       [0.30412452],\n       [0.44515487],\n       [0.14494992],\n       [0.11402221]])"
          },
          "metadata": {}
        }
      ]
    },
    {
      "metadata": {},
      "cell_type": "markdown",
      "source": "**r2 = np.sum((preds - target.mean())**2)/np.sum((target - target.mean())**2)**"
    },
    {
      "metadata": {},
      "cell_type": "markdown",
      "source": "**rmse = np.sqrt(np.mean((preds-target)**2))**"
    },
    {
      "metadata": {
        "trusted": true
      },
      "cell_type": "code",
      "source": "from sklearn.linear_model import LinearRegression\nlr = LinearRegression()",
      "execution_count": 164,
      "outputs": []
    },
    {
      "metadata": {
        "trusted": true
      },
      "cell_type": "code",
      "source": "lr.fit(X_train_MM_scaled,y_train_MM_scaled)",
      "execution_count": 165,
      "outputs": [
        {
          "output_type": "execute_result",
          "execution_count": 165,
          "data": {
            "text/plain": "LinearRegression(copy_X=True, fit_intercept=True, n_jobs=1, normalize=False)"
          },
          "metadata": {}
        }
      ]
    },
    {
      "metadata": {
        "trusted": true
      },
      "cell_type": "code",
      "source": "print(\"Training set score: {:.2f}\".format(lr.score(X_train_MM_scaled, y_train_MM_scaled)))\nprint(\"validation set score: {:.2f}\".format(lr.score(X_valid_MM_scaled, y_valid_MM_scaled)))",
      "execution_count": 166,
      "outputs": [
        {
          "output_type": "stream",
          "text": "Training set score: 0.65\nvalidation set score: 0.63\n",
          "name": "stdout"
        }
      ]
    },
    {
      "metadata": {
        "trusted": true
      },
      "cell_type": "code",
      "source": "train_preds = lr.predict(X_train_MM_scaled)\nvalid_preds = lr.predict(X_valid_MM_scaled)",
      "execution_count": 167,
      "outputs": []
    },
    {
      "metadata": {
        "trusted": true
      },
      "cell_type": "code",
      "source": "from sklearn.metrics import mean_squared_error\nmodel_mse_train = mean_squared_error(y_train_MM_scaled, train_preds)\nmodel_rmse_train = np.sqrt(model_mse_train)\nmodel_rmse_train",
      "execution_count": 168,
      "outputs": [
        {
          "output_type": "execute_result",
          "execution_count": 168,
          "data": {
            "text/plain": "0.14123322099098254"
          },
          "metadata": {}
        }
      ]
    },
    {
      "metadata": {
        "trusted": true
      },
      "cell_type": "code",
      "source": "model_mse_valid = mean_squared_error(y_valid_MM_scaled, valid_preds)\nmodel_rmse_valid = np.sqrt(model_mse_valid)\nmodel_rmse_valid",
      "execution_count": 169,
      "outputs": [
        {
          "output_type": "execute_result",
          "execution_count": 169,
          "data": {
            "text/plain": "0.14647862445839185"
          },
          "metadata": {}
        }
      ]
    },
    {
      "metadata": {
        "trusted": true
      },
      "cell_type": "code",
      "source": "from sklearn.metrics import r2_score\nprint(\"Training R2 score: {:.2f}\".format(r2_score(y_train_MM_scaled,train_preds)))\nprint(\"validation R2 score: {:.2f}\".format(r2_score(y_valid_MM_scaled,valid_preds)))",
      "execution_count": 170,
      "outputs": [
        {
          "output_type": "stream",
          "text": "Training R2 score: 0.65\nvalidation R2 score: 0.63\n",
          "name": "stdout"
        }
      ]
    },
    {
      "metadata": {
        "trusted": true
      },
      "cell_type": "code",
      "source": "from sklearn.preprocessing import PolynomialFeatures\nX_train_poly = PolynomialFeatures(degree=2, include_bias=False).fit_transform(X_train_MM_scaled)\nX_valid_poly = PolynomialFeatures(degree=2, include_bias=False).fit_transform(X_valid_MM_scaled)",
      "execution_count": 171,
      "outputs": []
    },
    {
      "metadata": {
        "trusted": true
      },
      "cell_type": "code",
      "source": "lr_poly = LinearRegression()\nlr_poly.fit(X_train_poly,y_train_MM_scaled)",
      "execution_count": 172,
      "outputs": [
        {
          "output_type": "execute_result",
          "execution_count": 172,
          "data": {
            "text/plain": "LinearRegression(copy_X=True, fit_intercept=True, n_jobs=1, normalize=False)"
          },
          "metadata": {}
        }
      ]
    },
    {
      "metadata": {
        "trusted": true
      },
      "cell_type": "code",
      "source": "print(\"Training set score: {:.2f}\".format(lr_poly.score(X_train_poly, y_train_MM_scaled)))\nprint(\"validation set score: {:.2f}\".format(lr_poly.score(X_valid_poly, y_valid_MM_scaled)))",
      "execution_count": 173,
      "outputs": [
        {
          "output_type": "stream",
          "text": "Training set score: 0.72\nvalidation set score: 0.70\n",
          "name": "stdout"
        }
      ]
    },
    {
      "metadata": {},
      "cell_type": "markdown",
      "source": "Simple & Multiple linear regression:  \nhttps://www.kdnuggets.com/2019/03/beginners-guide-linear-regression-python-scikit-learn.html  \nPolynomial Regression: Over-fitting vs Under-fitting & Bias-Variance trade-offs  \nhttps://towardsdatascience.com/polynomial-regression-bbe8b9d97491  "
    },
    {
      "metadata": {},
      "cell_type": "markdown",
      "source": "Gradient Descent for Machine Learning: https://medium.com/code-heroku/gradient-descent-for-machine-learning-3d871fa48b4c  \nLinear Regression using Gradient Descent: https://towardsdatascience.com/linear-regression-using-gradient-descent-97a6c8700931  \nOrdinary Least Square vs Gradient Descent: https://towardsdatascience.com/linear-regression-simplified-ordinary-least-square-vs-gradient-descent-48145de2cf76  "
    },
    {
      "metadata": {},
      "cell_type": "markdown",
      "source": "<span style=\"color:red; font-family:Comic Sans MS\">Further Resources: </span>     \n<a href=\"http://stackabuse.com/linear-regression-in-python-with-scikit-learn/\" target=\"_blank\">http://stackabuse.com/linear-regression-in-python-with-scikit-learn/</a>   (ex for simple linear regression)  \n<a href=\"https://engmrk.com/module-11-linear-regression-2/\" target=\"_blank\">https://engmrk.com/module-11-linear-regression-2/</a> "
    }
  ],
  "metadata": {
    "kernelspec": {
      "name": "python3",
      "display_name": "Python 3",
      "language": "python"
    },
    "language_info": {
      "mimetype": "text/x-python",
      "nbconvert_exporter": "python",
      "name": "python",
      "pygments_lexer": "ipython3",
      "version": "3.5.4",
      "file_extension": ".py",
      "codemirror_mode": {
        "version": 3,
        "name": "ipython"
      }
    },
    "toc": {
      "nav_menu": {},
      "number_sections": true,
      "sideBar": true,
      "skip_h1_title": false,
      "base_numbering": 1,
      "title_cell": "Table of Contents",
      "title_sidebar": "Contents",
      "toc_cell": false,
      "toc_position": {},
      "toc_section_display": true,
      "toc_window_display": false
    },
    "celltoolbar": "Slideshow"
  },
  "nbformat": 4,
  "nbformat_minor": 2
}