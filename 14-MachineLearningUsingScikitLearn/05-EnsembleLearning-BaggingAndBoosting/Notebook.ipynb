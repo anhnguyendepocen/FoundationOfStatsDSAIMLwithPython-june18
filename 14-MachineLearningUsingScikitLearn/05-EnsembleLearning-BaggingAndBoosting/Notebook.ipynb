{
  "cells": [
    {
      "metadata": {},
      "cell_type": "markdown",
      "source": "**Random Forest** (Bagging)"
    },
    {
      "metadata": {},
      "cell_type": "markdown",
      "source": "https://www.datacamp.com/community/tutorials/random-forests-classifier-python"
    },
    {
      "metadata": {},
      "cell_type": "markdown",
      "source": "**XGBoost** (Boosting)"
    },
    {
      "metadata": {},
      "cell_type": "markdown",
      "source": "https://machinelearningmastery.com/develop-first-xgboost-model-python-scikit-learn/  \ndataset: https://www.kaggle.com/uciml/pima-indians-diabetes-database  \n  \nhttps://data-flair.training/blogs/python-machine-learning-project-detecting-parkinson-disease/"
    }
  ],
  "metadata": {
    "language_info": {
      "mimetype": "text/x-python",
      "nbconvert_exporter": "python",
      "name": "python",
      "pygments_lexer": "ipython3",
      "version": "3.6.6",
      "file_extension": ".py",
      "codemirror_mode": {
        "version": 3,
        "name": "ipython"
      }
    },
    "kernelspec": {
      "name": "python36",
      "display_name": "Python 3.6",
      "language": "python"
    },
    "toc": {
      "nav_menu": {},
      "number_sections": true,
      "sideBar": true,
      "skip_h1_title": false,
      "base_numbering": 1,
      "title_cell": "Table of Contents",
      "title_sidebar": "Contents",
      "toc_cell": false,
      "toc_position": {},
      "toc_section_display": true,
      "toc_window_display": false
    }
  },
  "nbformat": 4,
  "nbformat_minor": 2
}