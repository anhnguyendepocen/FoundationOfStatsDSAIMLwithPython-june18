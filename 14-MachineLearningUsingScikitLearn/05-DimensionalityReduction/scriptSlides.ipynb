{
  "cells": [
    {
      "metadata": {},
      "cell_type": "markdown",
      "source": "## Dimensionality Reduction"
    },
    {
      "metadata": {},
      "cell_type": "markdown",
      "source": "* When we gather data some times it have a large set of  features. \n* Some of these features (known as variables) are not as important as  others.\n* Sometimes the features themselves are correlated with each other.\n* Leads to over-fitting the problem by introducing too many  features. \n* It can be very difficult to analyse and visualize a data set with a  large number of dimensions."
    },
    {
      "metadata": {},
      "cell_type": "markdown",
      "source": "> Dimension reduction can reduce the speed that is required to train  our machine learning model and it can also benefit in eliminating  over-fitting."
    },
    {
      "metadata": {},
      "cell_type": "markdown",
      "source": "* E-mail the zipped file instead of a large set of files to your friend. \n* Zipping the file  compresses large quantity of data into smaller equivalent sets.\n* Similarly Dimension reduction compresses large set of features onto a new  feature subspace of lower dimensional without losing the important  information.\n* It is harder to  visualise a large set of dimensions. Dimension reduction techniques can be  employed to make a 20+ dimension feature space into 2 or 3 dimension  subspace."
    },
    {
      "metadata": {},
      "cell_type": "markdown",
      "source": "**Principal component  analysis (PCA):**  \nThey are mainly used  for compressing unsupervised data.  "
    },
    {
      "metadata": {},
      "cell_type": "markdown",
      "source": "* To detect the patterns in data. \n* PCA is used in  reducing dimensions in images, textual contents and in speech recognition  systems.\n* Sci-kit learn library  offers a powerful PCA component classifier. "
    },
    {
      "metadata": {},
      "cell_type": "markdown",
      "source": "This code snippet illustrates how to  create PCA components  \n  \n`from sklearn.decomposition import PCA\n pca_classifier = PCA(n_components=3)\n my_pca_components = pca_classifier.fit_transform(X_train)`"
    },
    {
      "metadata": {},
      "cell_type": "markdown",
      "source": "https://towardsdatascience.com/principal-component-analysis-your-tutorial-and-code-9719d3d3f376  "
    },
    {
      "metadata": {},
      "cell_type": "markdown",
      "source": "**Case study:**"
    },
    {
      "metadata": {},
      "cell_type": "markdown",
      "source": "http://stackabuse.com/implementing-pca-in-python-with-scikit-learn/  "
    },
    {
      "metadata": {},
      "cell_type": "markdown",
      "source": "**Linear Discriminant  Analysis (LDA):**  \nLDA is used for  compressing supervised data      "
    },
    {
      "metadata": {},
      "cell_type": "markdown",
      "source": "* When we have a large  set of features (classes), and our data is normally distributed and the features  are not correlated with each other then we can use LDA to reduce the number of  dimensions. \n* Calculate z-score to normalise the features that  are highly skewed."
    },
    {
      "metadata": {},
      "cell_type": "markdown",
      "source": "This code will  result in producing three LDA components for the entire data set.  \n  \n`from sklearn.lda import LDA\n my_lda = LDA(n_components=3)\n lda_components = my_lda.fit_transform(X_train, Y_train)`"
    },
    {
      "metadata": {
        "collapsed": true
      },
      "cell_type": "markdown",
      "source": "<span style=\"color:red; font-family:Comic Sans MS\">Sources & References: </span>     \n<a href=\"https://plot.ly/ipython-notebooks/principal-component-analysis/\" target=\"_blank\">https://plot.ly/ipython-notebooks/principal-component-analysis/</a>  \n\n"
    }
  ],
  "metadata": {
    "kernelspec": {
      "name": "python3",
      "display_name": "Python 3",
      "language": "python"
    },
    "language_info": {
      "mimetype": "text/x-python",
      "nbconvert_exporter": "python",
      "name": "python",
      "file_extension": ".py",
      "version": "3.5.4",
      "pygments_lexer": "ipython3",
      "codemirror_mode": {
        "version": 3,
        "name": "ipython"
      }
    },
    "toc": {
      "nav_menu": {},
      "number_sections": true,
      "sideBar": true,
      "skip_h1_title": false,
      "base_numbering": 1,
      "title_cell": "Table of Contents",
      "title_sidebar": "Contents",
      "toc_cell": false,
      "toc_position": {},
      "toc_section_display": true,
      "toc_window_display": false
    }
  },
  "nbformat": 4,
  "nbformat_minor": 2
}