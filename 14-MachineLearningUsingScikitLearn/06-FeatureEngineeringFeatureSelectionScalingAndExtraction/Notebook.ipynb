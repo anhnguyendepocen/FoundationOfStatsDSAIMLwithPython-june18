{
  "cells": [
    {
      "metadata": {},
      "cell_type": "markdown",
      "source": "https://www.analyticsindiamag.com/what-are-feature-selection-techniques-in-machine-learning/"
    },
    {
      "metadata": {},
      "cell_type": "markdown",
      "source": "* binarization\n* scaling\n* normalization\n* mean removal\netc."
    },
    {
      "metadata": {},
      "cell_type": "markdown",
      "source": "## Binarization"
    },
    {
      "metadata": {
        "trusted": true
      },
      "cell_type": "code",
      "source": "from sklearn import preprocessing\nimport numpy as np \n\ndata = np.array([[2.2, 5.9, -1.8], [5.4, -3.2, -5.1], [-1.9, 4.2, 3.2]])\n\nbindata = preprocessing.Binarizer(threshold=1.5).transform(data)\nprint('Binarized data:\\n\\n', bindata)",
      "execution_count": 3,
      "outputs": [
        {
          "output_type": "stream",
          "text": "Binarized data:\n\n [[1. 1. 0.]\n [1. 0. 0.]\n [0. 1. 1.]]\n",
          "name": "stdout"
        }
      ]
    },
    {
      "metadata": {},
      "cell_type": "markdown",
      "source": "## Mean Removal"
    },
    {
      "metadata": {
        "trusted": false
      },
      "cell_type": "code",
      "source": "print('Mean (before)= ', data.mean(axis=0))\nprint('Standard Deviation (before)= ', data.std(axis=0))\n\nscaled_data = preprocessing.scale(data)\n\nprint('Mean (after)= ', scaled_data.mean(axis=0))\nprint('Standard Deviation (after)= ', scaled_data.std(axis=0))\n",
      "execution_count": 2,
      "outputs": [
        {
          "name": "stdout",
          "output_type": "stream",
          "text": "Mean (before)=  [ 1.9         2.3        -1.23333333]\nStandard Deviation (before)=  [2.98775278 3.95052739 3.41207008]\nMean (after)=  [0.00000000e+00 0.00000000e+00 7.40148683e-17]\nStandard Deviation (after)=  [1. 1. 1.]\n"
        }
      ]
    },
    {
      "metadata": {},
      "cell_type": "markdown",
      "source": "## Scaling"
    },
    {
      "metadata": {},
      "cell_type": "markdown",
      "source": "* It is imperative that you normalize your scale of feature values in order to begin any machine learning process especiallly the clustering process. \n* This is because each observations' feature values are represented as coordinates in n-dimensional space  (n is the number of features) and then the distances between these coordinates are calculated. \n* If these coordinates are not normalized, then it may lead to false results.\n\nFor example, suppose you have data about height and weight of three people: A (6ft, 75kg), B (6ft,77kg), C (8ft,75kg). If you represent these features in a two-dimensional coordinate system, height and weight, and calculate the Euclidean distance between them, the distance between the following pairs would be:\n\n**A-B : 2 units**\n\n**A-C : 2 units**\n\nWell, the distance metric tells that both the pairs A-B and A-C are similar but in reality they are clearly not! The pair A-B is more similar than pair A-C. Hence it is important to scale these values first and then calculate the distance.\n\nThere are various ways to normalize the feature values, you can either consider standardizing the entire scale of all the feature values (x(i)) between [0,1] (known as min-max normalization) by applying the following transformation:\n\n**min-max normalization**  \n`x(s)=x(i)−min(x)/(max(x)−min(x))`\n\nOther type of scaling can be achieved via the following transformation:\n\n**standard scalar**  \n`x(s)=x(i)−mean(x)/sd(x)`\nWhere sd(x) is the standard deviation of the feature values. This will ensure your distribution of feature values has mean 0 and a standard deviation of 1. You can achieve this via the scale() function in R."
    },
    {
      "metadata": {},
      "cell_type": "markdown",
      "source": "StandardScaler - => features with a mean=0 and variance=1  \nMinMaxScaler - => features in a 0 to 1 range  \nNormalizer - => feature vector to a Euclidean length=1  "
    },
    {
      "metadata": {
        "trusted": false
      },
      "cell_type": "code",
      "source": "print(data)\n\nminmax_scaler = preprocessing.MinMaxScaler(feature_range=(0,1))\ndata_minmax = minmax_scaler.fit_transform(data)\nprint('MinMaxScaler applied on the data:\\n', data_minmax)",
      "execution_count": 5,
      "outputs": [
        {
          "name": "stdout",
          "output_type": "stream",
          "text": "[[ 2.2  5.9 -1.8]\n [ 5.4 -3.2 -5.1]\n [-1.9  4.2  3.2]]\nMinMaxScaler applied on the data:\n [[0.56164384 1.         0.39759036]\n [1.         0.         0.        ]\n [0.         0.81318681 1.        ]]\n"
        }
      ]
    },
    {
      "metadata": {},
      "cell_type": "markdown",
      "source": "## Normalization"
    },
    {
      "metadata": {},
      "cell_type": "markdown",
      "source": "-- bringing the values of each feature vector on a common scale  \n\nL1 - Least Absolute Deviations - sum of absolute values (on each row) = 1; it is insensitive to outliers  \nL2 - Least Squares - sum of squares (on each row) = 1; takes outliers in consideration during training  "
    },
    {
      "metadata": {
        "trusted": false
      },
      "cell_type": "code",
      "source": "data\ndata_l1 = preprocessing.normalize(data, norm='l1')\ndata_l2 = preprocessing.normalize(data, norm='l2')\n\nprint('L1-normalized data:\\n', data_l1)\nprint('\\nL2-normalized data:\\n', data_l2)",
      "execution_count": 6,
      "outputs": [
        {
          "name": "stdout",
          "output_type": "stream",
          "text": "L1-normalized data:\n [[ 0.22222222  0.5959596  -0.18181818]\n [ 0.39416058 -0.23357664 -0.37226277]\n [-0.20430108  0.4516129   0.34408602]]\n\nL2-normalized data:\n [[ 0.3359268   0.90089461 -0.2748492 ]\n [ 0.6676851  -0.39566524 -0.63059148]\n [-0.33858465  0.74845029  0.57024784]]\n"
        }
      ]
    },
    {
      "metadata": {
        "trusted": false
      },
      "cell_type": "code",
      "source": "0.39416058+0.23357664+0.37226277",
      "execution_count": 7,
      "outputs": [
        {
          "data": {
            "text/plain": "0.9999999900000001"
          },
          "execution_count": 7,
          "metadata": {},
          "output_type": "execute_result"
        }
      ]
    },
    {
      "metadata": {
        "trusted": false
      },
      "cell_type": "code",
      "source": "0.3359268**2+0.90089461**2+(-0.2748492)**2",
      "execution_count": 8,
      "outputs": [
        {
          "data": {
            "text/plain": "0.9999999960259321"
          },
          "execution_count": 8,
          "metadata": {},
          "output_type": "execute_result"
        }
      ]
    },
    {
      "metadata": {},
      "cell_type": "markdown",
      "source": "## One Hot Encoding (dummy variables)"
    },
    {
      "metadata": {},
      "cell_type": "markdown",
      "source": "* used on categorical variables\n* it replaces a categorical variable/feature with one or more new features that will take the values of 0 or 1\n* increases data burden\n* increases the efficiency of the process"
    },
    {
      "metadata": {
        "trusted": false
      },
      "cell_type": "code",
      "source": "import pandas as pd\nfrom IPython.display import display\n\ndata = pd.read_csv('https://archive.ics.uci.edu/ml/machine-learning-databases/adult/adult.data', header=None, index_col=False, names=['age', 'workclass', 'fnlwgt', 'education', \n                                                                      'education-num', 'marital-status', 'occupation', \n                                                                      'relationship', 'race', 'gender', 'capital-gain', \n                                                                      'capital-loss', 'hours-per-week', 'native-country', \n                                                                      'income'])\ndata.head()\n",
      "execution_count": 13,
      "outputs": [
        {
          "data": {
            "text/html": "<div>\n<style scoped>\n    .dataframe tbody tr th:only-of-type {\n        vertical-align: middle;\n    }\n\n    .dataframe tbody tr th {\n        vertical-align: top;\n    }\n\n    .dataframe thead th {\n        text-align: right;\n    }\n</style>\n<table border=\"1\" class=\"dataframe\">\n  <thead>\n    <tr style=\"text-align: right;\">\n      <th></th>\n      <th>age</th>\n      <th>workclass</th>\n      <th>fnlwgt</th>\n      <th>education</th>\n      <th>education-num</th>\n      <th>marital-status</th>\n      <th>occupation</th>\n      <th>relationship</th>\n      <th>race</th>\n      <th>gender</th>\n      <th>capital-gain</th>\n      <th>capital-loss</th>\n      <th>hours-per-week</th>\n      <th>native-country</th>\n      <th>income</th>\n    </tr>\n  </thead>\n  <tbody>\n    <tr>\n      <th>0</th>\n      <td>39</td>\n      <td>State-gov</td>\n      <td>77516</td>\n      <td>Bachelors</td>\n      <td>13</td>\n      <td>Never-married</td>\n      <td>Adm-clerical</td>\n      <td>Not-in-family</td>\n      <td>White</td>\n      <td>Male</td>\n      <td>2174</td>\n      <td>0</td>\n      <td>40</td>\n      <td>United-States</td>\n      <td>&lt;=50K</td>\n    </tr>\n    <tr>\n      <th>1</th>\n      <td>50</td>\n      <td>Self-emp-not-inc</td>\n      <td>83311</td>\n      <td>Bachelors</td>\n      <td>13</td>\n      <td>Married-civ-spouse</td>\n      <td>Exec-managerial</td>\n      <td>Husband</td>\n      <td>White</td>\n      <td>Male</td>\n      <td>0</td>\n      <td>0</td>\n      <td>13</td>\n      <td>United-States</td>\n      <td>&lt;=50K</td>\n    </tr>\n    <tr>\n      <th>2</th>\n      <td>38</td>\n      <td>Private</td>\n      <td>215646</td>\n      <td>HS-grad</td>\n      <td>9</td>\n      <td>Divorced</td>\n      <td>Handlers-cleaners</td>\n      <td>Not-in-family</td>\n      <td>White</td>\n      <td>Male</td>\n      <td>0</td>\n      <td>0</td>\n      <td>40</td>\n      <td>United-States</td>\n      <td>&lt;=50K</td>\n    </tr>\n    <tr>\n      <th>3</th>\n      <td>53</td>\n      <td>Private</td>\n      <td>234721</td>\n      <td>11th</td>\n      <td>7</td>\n      <td>Married-civ-spouse</td>\n      <td>Handlers-cleaners</td>\n      <td>Husband</td>\n      <td>Black</td>\n      <td>Male</td>\n      <td>0</td>\n      <td>0</td>\n      <td>40</td>\n      <td>United-States</td>\n      <td>&lt;=50K</td>\n    </tr>\n    <tr>\n      <th>4</th>\n      <td>28</td>\n      <td>Private</td>\n      <td>338409</td>\n      <td>Bachelors</td>\n      <td>13</td>\n      <td>Married-civ-spouse</td>\n      <td>Prof-specialty</td>\n      <td>Wife</td>\n      <td>Black</td>\n      <td>Female</td>\n      <td>0</td>\n      <td>0</td>\n      <td>40</td>\n      <td>Cuba</td>\n      <td>&lt;=50K</td>\n    </tr>\n  </tbody>\n</table>\n</div>",
            "text/plain": "   age          workclass  fnlwgt   education  education-num  \\\n0   39          State-gov   77516   Bachelors             13   \n1   50   Self-emp-not-inc   83311   Bachelors             13   \n2   38            Private  215646     HS-grad              9   \n3   53            Private  234721        11th              7   \n4   28            Private  338409   Bachelors             13   \n\n        marital-status          occupation    relationship    race   gender  \\\n0        Never-married        Adm-clerical   Not-in-family   White     Male   \n1   Married-civ-spouse     Exec-managerial         Husband   White     Male   \n2             Divorced   Handlers-cleaners   Not-in-family   White     Male   \n3   Married-civ-spouse   Handlers-cleaners         Husband   Black     Male   \n4   Married-civ-spouse      Prof-specialty            Wife   Black   Female   \n\n   capital-gain  capital-loss  hours-per-week  native-country  income  \n0          2174             0              40   United-States   <=50K  \n1             0             0              13   United-States   <=50K  \n2             0             0              40   United-States   <=50K  \n3             0             0              40   United-States   <=50K  \n4             0             0              40            Cuba   <=50K  "
          },
          "execution_count": 13,
          "metadata": {},
          "output_type": "execute_result"
        }
      ]
    },
    {
      "metadata": {
        "trusted": false
      },
      "cell_type": "code",
      "source": "data = data[['age', 'workclass', 'education', 'gender', 'hours-per-week', 'occupation', 'income']]\ndisplay(data)",
      "execution_count": 14,
      "outputs": [
        {
          "data": {
            "text/html": "<div>\n<style scoped>\n    .dataframe tbody tr th:only-of-type {\n        vertical-align: middle;\n    }\n\n    .dataframe tbody tr th {\n        vertical-align: top;\n    }\n\n    .dataframe thead th {\n        text-align: right;\n    }\n</style>\n<table border=\"1\" class=\"dataframe\">\n  <thead>\n    <tr style=\"text-align: right;\">\n      <th></th>\n      <th>age</th>\n      <th>workclass</th>\n      <th>education</th>\n      <th>gender</th>\n      <th>hours-per-week</th>\n      <th>occupation</th>\n      <th>income</th>\n    </tr>\n  </thead>\n  <tbody>\n    <tr>\n      <th>0</th>\n      <td>39</td>\n      <td>State-gov</td>\n      <td>Bachelors</td>\n      <td>Male</td>\n      <td>40</td>\n      <td>Adm-clerical</td>\n      <td>&lt;=50K</td>\n    </tr>\n    <tr>\n      <th>1</th>\n      <td>50</td>\n      <td>Self-emp-not-inc</td>\n      <td>Bachelors</td>\n      <td>Male</td>\n      <td>13</td>\n      <td>Exec-managerial</td>\n      <td>&lt;=50K</td>\n    </tr>\n    <tr>\n      <th>2</th>\n      <td>38</td>\n      <td>Private</td>\n      <td>HS-grad</td>\n      <td>Male</td>\n      <td>40</td>\n      <td>Handlers-cleaners</td>\n      <td>&lt;=50K</td>\n    </tr>\n    <tr>\n      <th>3</th>\n      <td>53</td>\n      <td>Private</td>\n      <td>11th</td>\n      <td>Male</td>\n      <td>40</td>\n      <td>Handlers-cleaners</td>\n      <td>&lt;=50K</td>\n    </tr>\n    <tr>\n      <th>4</th>\n      <td>28</td>\n      <td>Private</td>\n      <td>Bachelors</td>\n      <td>Female</td>\n      <td>40</td>\n      <td>Prof-specialty</td>\n      <td>&lt;=50K</td>\n    </tr>\n    <tr>\n      <th>5</th>\n      <td>37</td>\n      <td>Private</td>\n      <td>Masters</td>\n      <td>Female</td>\n      <td>40</td>\n      <td>Exec-managerial</td>\n      <td>&lt;=50K</td>\n    </tr>\n    <tr>\n      <th>6</th>\n      <td>49</td>\n      <td>Private</td>\n      <td>9th</td>\n      <td>Female</td>\n      <td>16</td>\n      <td>Other-service</td>\n      <td>&lt;=50K</td>\n    </tr>\n    <tr>\n      <th>7</th>\n      <td>52</td>\n      <td>Self-emp-not-inc</td>\n      <td>HS-grad</td>\n      <td>Male</td>\n      <td>45</td>\n      <td>Exec-managerial</td>\n      <td>&gt;50K</td>\n    </tr>\n    <tr>\n      <th>8</th>\n      <td>31</td>\n      <td>Private</td>\n      <td>Masters</td>\n      <td>Female</td>\n      <td>50</td>\n      <td>Prof-specialty</td>\n      <td>&gt;50K</td>\n    </tr>\n    <tr>\n      <th>9</th>\n      <td>42</td>\n      <td>Private</td>\n      <td>Bachelors</td>\n      <td>Male</td>\n      <td>40</td>\n      <td>Exec-managerial</td>\n      <td>&gt;50K</td>\n    </tr>\n    <tr>\n      <th>10</th>\n      <td>37</td>\n      <td>Private</td>\n      <td>Some-college</td>\n      <td>Male</td>\n      <td>80</td>\n      <td>Exec-managerial</td>\n      <td>&gt;50K</td>\n    </tr>\n    <tr>\n      <th>11</th>\n      <td>30</td>\n      <td>State-gov</td>\n      <td>Bachelors</td>\n      <td>Male</td>\n      <td>40</td>\n      <td>Prof-specialty</td>\n      <td>&gt;50K</td>\n    </tr>\n    <tr>\n      <th>12</th>\n      <td>23</td>\n      <td>Private</td>\n      <td>Bachelors</td>\n      <td>Female</td>\n      <td>30</td>\n      <td>Adm-clerical</td>\n      <td>&lt;=50K</td>\n    </tr>\n    <tr>\n      <th>13</th>\n      <td>32</td>\n      <td>Private</td>\n      <td>Assoc-acdm</td>\n      <td>Male</td>\n      <td>50</td>\n      <td>Sales</td>\n      <td>&lt;=50K</td>\n    </tr>\n    <tr>\n      <th>14</th>\n      <td>40</td>\n      <td>Private</td>\n      <td>Assoc-voc</td>\n      <td>Male</td>\n      <td>40</td>\n      <td>Craft-repair</td>\n      <td>&gt;50K</td>\n    </tr>\n    <tr>\n      <th>15</th>\n      <td>34</td>\n      <td>Private</td>\n      <td>7th-8th</td>\n      <td>Male</td>\n      <td>45</td>\n      <td>Transport-moving</td>\n      <td>&lt;=50K</td>\n    </tr>\n    <tr>\n      <th>16</th>\n      <td>25</td>\n      <td>Self-emp-not-inc</td>\n      <td>HS-grad</td>\n      <td>Male</td>\n      <td>35</td>\n      <td>Farming-fishing</td>\n      <td>&lt;=50K</td>\n    </tr>\n    <tr>\n      <th>17</th>\n      <td>32</td>\n      <td>Private</td>\n      <td>HS-grad</td>\n      <td>Male</td>\n      <td>40</td>\n      <td>Machine-op-inspct</td>\n      <td>&lt;=50K</td>\n    </tr>\n    <tr>\n      <th>18</th>\n      <td>38</td>\n      <td>Private</td>\n      <td>11th</td>\n      <td>Male</td>\n      <td>50</td>\n      <td>Sales</td>\n      <td>&lt;=50K</td>\n    </tr>\n    <tr>\n      <th>19</th>\n      <td>43</td>\n      <td>Self-emp-not-inc</td>\n      <td>Masters</td>\n      <td>Female</td>\n      <td>45</td>\n      <td>Exec-managerial</td>\n      <td>&gt;50K</td>\n    </tr>\n    <tr>\n      <th>20</th>\n      <td>40</td>\n      <td>Private</td>\n      <td>Doctorate</td>\n      <td>Male</td>\n      <td>60</td>\n      <td>Prof-specialty</td>\n      <td>&gt;50K</td>\n    </tr>\n    <tr>\n      <th>21</th>\n      <td>54</td>\n      <td>Private</td>\n      <td>HS-grad</td>\n      <td>Female</td>\n      <td>20</td>\n      <td>Other-service</td>\n      <td>&lt;=50K</td>\n    </tr>\n    <tr>\n      <th>22</th>\n      <td>35</td>\n      <td>Federal-gov</td>\n      <td>9th</td>\n      <td>Male</td>\n      <td>40</td>\n      <td>Farming-fishing</td>\n      <td>&lt;=50K</td>\n    </tr>\n    <tr>\n      <th>23</th>\n      <td>43</td>\n      <td>Private</td>\n      <td>11th</td>\n      <td>Male</td>\n      <td>40</td>\n      <td>Transport-moving</td>\n      <td>&lt;=50K</td>\n    </tr>\n    <tr>\n      <th>24</th>\n      <td>59</td>\n      <td>Private</td>\n      <td>HS-grad</td>\n      <td>Female</td>\n      <td>40</td>\n      <td>Tech-support</td>\n      <td>&lt;=50K</td>\n    </tr>\n    <tr>\n      <th>25</th>\n      <td>56</td>\n      <td>Local-gov</td>\n      <td>Bachelors</td>\n      <td>Male</td>\n      <td>40</td>\n      <td>Tech-support</td>\n      <td>&gt;50K</td>\n    </tr>\n    <tr>\n      <th>26</th>\n      <td>19</td>\n      <td>Private</td>\n      <td>HS-grad</td>\n      <td>Male</td>\n      <td>40</td>\n      <td>Craft-repair</td>\n      <td>&lt;=50K</td>\n    </tr>\n    <tr>\n      <th>27</th>\n      <td>54</td>\n      <td>?</td>\n      <td>Some-college</td>\n      <td>Male</td>\n      <td>60</td>\n      <td>?</td>\n      <td>&gt;50K</td>\n    </tr>\n    <tr>\n      <th>28</th>\n      <td>39</td>\n      <td>Private</td>\n      <td>HS-grad</td>\n      <td>Male</td>\n      <td>80</td>\n      <td>Exec-managerial</td>\n      <td>&lt;=50K</td>\n    </tr>\n    <tr>\n      <th>29</th>\n      <td>49</td>\n      <td>Private</td>\n      <td>HS-grad</td>\n      <td>Male</td>\n      <td>40</td>\n      <td>Craft-repair</td>\n      <td>&lt;=50K</td>\n    </tr>\n    <tr>\n      <th>...</th>\n      <td>...</td>\n      <td>...</td>\n      <td>...</td>\n      <td>...</td>\n      <td>...</td>\n      <td>...</td>\n      <td>...</td>\n    </tr>\n    <tr>\n      <th>32531</th>\n      <td>30</td>\n      <td>?</td>\n      <td>Bachelors</td>\n      <td>Female</td>\n      <td>99</td>\n      <td>?</td>\n      <td>&lt;=50K</td>\n    </tr>\n    <tr>\n      <th>32532</th>\n      <td>34</td>\n      <td>Private</td>\n      <td>Doctorate</td>\n      <td>Male</td>\n      <td>60</td>\n      <td>Prof-specialty</td>\n      <td>&gt;50K</td>\n    </tr>\n    <tr>\n      <th>32533</th>\n      <td>54</td>\n      <td>Private</td>\n      <td>Bachelors</td>\n      <td>Male</td>\n      <td>50</td>\n      <td>Exec-managerial</td>\n      <td>&gt;50K</td>\n    </tr>\n    <tr>\n      <th>32534</th>\n      <td>37</td>\n      <td>Private</td>\n      <td>Some-college</td>\n      <td>Female</td>\n      <td>39</td>\n      <td>Adm-clerical</td>\n      <td>&lt;=50K</td>\n    </tr>\n    <tr>\n      <th>32535</th>\n      <td>22</td>\n      <td>Private</td>\n      <td>12th</td>\n      <td>Male</td>\n      <td>35</td>\n      <td>Protective-serv</td>\n      <td>&lt;=50K</td>\n    </tr>\n    <tr>\n      <th>32536</th>\n      <td>34</td>\n      <td>Private</td>\n      <td>Bachelors</td>\n      <td>Female</td>\n      <td>55</td>\n      <td>Exec-managerial</td>\n      <td>&gt;50K</td>\n    </tr>\n    <tr>\n      <th>32537</th>\n      <td>30</td>\n      <td>Private</td>\n      <td>HS-grad</td>\n      <td>Male</td>\n      <td>46</td>\n      <td>Craft-repair</td>\n      <td>&lt;=50K</td>\n    </tr>\n    <tr>\n      <th>32538</th>\n      <td>38</td>\n      <td>Private</td>\n      <td>Bachelors</td>\n      <td>Female</td>\n      <td>45</td>\n      <td>Prof-specialty</td>\n      <td>&gt;50K</td>\n    </tr>\n    <tr>\n      <th>32539</th>\n      <td>71</td>\n      <td>?</td>\n      <td>Doctorate</td>\n      <td>Male</td>\n      <td>10</td>\n      <td>?</td>\n      <td>&gt;50K</td>\n    </tr>\n    <tr>\n      <th>32540</th>\n      <td>45</td>\n      <td>State-gov</td>\n      <td>HS-grad</td>\n      <td>Female</td>\n      <td>40</td>\n      <td>Adm-clerical</td>\n      <td>&lt;=50K</td>\n    </tr>\n    <tr>\n      <th>32541</th>\n      <td>41</td>\n      <td>?</td>\n      <td>HS-grad</td>\n      <td>Female</td>\n      <td>32</td>\n      <td>?</td>\n      <td>&lt;=50K</td>\n    </tr>\n    <tr>\n      <th>32542</th>\n      <td>72</td>\n      <td>?</td>\n      <td>HS-grad</td>\n      <td>Male</td>\n      <td>25</td>\n      <td>?</td>\n      <td>&lt;=50K</td>\n    </tr>\n    <tr>\n      <th>32543</th>\n      <td>45</td>\n      <td>Local-gov</td>\n      <td>Assoc-acdm</td>\n      <td>Female</td>\n      <td>48</td>\n      <td>Prof-specialty</td>\n      <td>&lt;=50K</td>\n    </tr>\n    <tr>\n      <th>32544</th>\n      <td>31</td>\n      <td>Private</td>\n      <td>Masters</td>\n      <td>Female</td>\n      <td>30</td>\n      <td>Other-service</td>\n      <td>&lt;=50K</td>\n    </tr>\n    <tr>\n      <th>32545</th>\n      <td>39</td>\n      <td>Local-gov</td>\n      <td>Assoc-acdm</td>\n      <td>Female</td>\n      <td>20</td>\n      <td>Adm-clerical</td>\n      <td>&gt;50K</td>\n    </tr>\n    <tr>\n      <th>32546</th>\n      <td>37</td>\n      <td>Private</td>\n      <td>Assoc-acdm</td>\n      <td>Female</td>\n      <td>40</td>\n      <td>Tech-support</td>\n      <td>&lt;=50K</td>\n    </tr>\n    <tr>\n      <th>32547</th>\n      <td>43</td>\n      <td>Private</td>\n      <td>HS-grad</td>\n      <td>Male</td>\n      <td>40</td>\n      <td>Machine-op-inspct</td>\n      <td>&lt;=50K</td>\n    </tr>\n    <tr>\n      <th>32548</th>\n      <td>65</td>\n      <td>Self-emp-not-inc</td>\n      <td>Prof-school</td>\n      <td>Male</td>\n      <td>60</td>\n      <td>Prof-specialty</td>\n      <td>&lt;=50K</td>\n    </tr>\n    <tr>\n      <th>32549</th>\n      <td>43</td>\n      <td>State-gov</td>\n      <td>Some-college</td>\n      <td>Female</td>\n      <td>40</td>\n      <td>Adm-clerical</td>\n      <td>&lt;=50K</td>\n    </tr>\n    <tr>\n      <th>32550</th>\n      <td>43</td>\n      <td>Self-emp-not-inc</td>\n      <td>Some-college</td>\n      <td>Male</td>\n      <td>50</td>\n      <td>Craft-repair</td>\n      <td>&lt;=50K</td>\n    </tr>\n    <tr>\n      <th>32551</th>\n      <td>32</td>\n      <td>Private</td>\n      <td>10th</td>\n      <td>Male</td>\n      <td>40</td>\n      <td>Handlers-cleaners</td>\n      <td>&lt;=50K</td>\n    </tr>\n    <tr>\n      <th>32552</th>\n      <td>43</td>\n      <td>Private</td>\n      <td>Assoc-voc</td>\n      <td>Male</td>\n      <td>45</td>\n      <td>Sales</td>\n      <td>&lt;=50K</td>\n    </tr>\n    <tr>\n      <th>32553</th>\n      <td>32</td>\n      <td>Private</td>\n      <td>Masters</td>\n      <td>Male</td>\n      <td>11</td>\n      <td>Tech-support</td>\n      <td>&lt;=50K</td>\n    </tr>\n    <tr>\n      <th>32554</th>\n      <td>53</td>\n      <td>Private</td>\n      <td>Masters</td>\n      <td>Male</td>\n      <td>40</td>\n      <td>Exec-managerial</td>\n      <td>&gt;50K</td>\n    </tr>\n    <tr>\n      <th>32555</th>\n      <td>22</td>\n      <td>Private</td>\n      <td>Some-college</td>\n      <td>Male</td>\n      <td>40</td>\n      <td>Protective-serv</td>\n      <td>&lt;=50K</td>\n    </tr>\n    <tr>\n      <th>32556</th>\n      <td>27</td>\n      <td>Private</td>\n      <td>Assoc-acdm</td>\n      <td>Female</td>\n      <td>38</td>\n      <td>Tech-support</td>\n      <td>&lt;=50K</td>\n    </tr>\n    <tr>\n      <th>32557</th>\n      <td>40</td>\n      <td>Private</td>\n      <td>HS-grad</td>\n      <td>Male</td>\n      <td>40</td>\n      <td>Machine-op-inspct</td>\n      <td>&gt;50K</td>\n    </tr>\n    <tr>\n      <th>32558</th>\n      <td>58</td>\n      <td>Private</td>\n      <td>HS-grad</td>\n      <td>Female</td>\n      <td>40</td>\n      <td>Adm-clerical</td>\n      <td>&lt;=50K</td>\n    </tr>\n    <tr>\n      <th>32559</th>\n      <td>22</td>\n      <td>Private</td>\n      <td>HS-grad</td>\n      <td>Male</td>\n      <td>20</td>\n      <td>Adm-clerical</td>\n      <td>&lt;=50K</td>\n    </tr>\n    <tr>\n      <th>32560</th>\n      <td>52</td>\n      <td>Self-emp-inc</td>\n      <td>HS-grad</td>\n      <td>Female</td>\n      <td>40</td>\n      <td>Exec-managerial</td>\n      <td>&gt;50K</td>\n    </tr>\n  </tbody>\n</table>\n<p>32561 rows × 7 columns</p>\n</div>",
            "text/plain": "       age          workclass      education   gender  hours-per-week  \\\n0       39          State-gov      Bachelors     Male              40   \n1       50   Self-emp-not-inc      Bachelors     Male              13   \n2       38            Private        HS-grad     Male              40   \n3       53            Private           11th     Male              40   \n4       28            Private      Bachelors   Female              40   \n5       37            Private        Masters   Female              40   \n6       49            Private            9th   Female              16   \n7       52   Self-emp-not-inc        HS-grad     Male              45   \n8       31            Private        Masters   Female              50   \n9       42            Private      Bachelors     Male              40   \n10      37            Private   Some-college     Male              80   \n11      30          State-gov      Bachelors     Male              40   \n12      23            Private      Bachelors   Female              30   \n13      32            Private     Assoc-acdm     Male              50   \n14      40            Private      Assoc-voc     Male              40   \n15      34            Private        7th-8th     Male              45   \n16      25   Self-emp-not-inc        HS-grad     Male              35   \n17      32            Private        HS-grad     Male              40   \n18      38            Private           11th     Male              50   \n19      43   Self-emp-not-inc        Masters   Female              45   \n20      40            Private      Doctorate     Male              60   \n21      54            Private        HS-grad   Female              20   \n22      35        Federal-gov            9th     Male              40   \n23      43            Private           11th     Male              40   \n24      59            Private        HS-grad   Female              40   \n25      56          Local-gov      Bachelors     Male              40   \n26      19            Private        HS-grad     Male              40   \n27      54                  ?   Some-college     Male              60   \n28      39            Private        HS-grad     Male              80   \n29      49            Private        HS-grad     Male              40   \n...    ...                ...            ...      ...             ...   \n32531   30                  ?      Bachelors   Female              99   \n32532   34            Private      Doctorate     Male              60   \n32533   54            Private      Bachelors     Male              50   \n32534   37            Private   Some-college   Female              39   \n32535   22            Private           12th     Male              35   \n32536   34            Private      Bachelors   Female              55   \n32537   30            Private        HS-grad     Male              46   \n32538   38            Private      Bachelors   Female              45   \n32539   71                  ?      Doctorate     Male              10   \n32540   45          State-gov        HS-grad   Female              40   \n32541   41                  ?        HS-grad   Female              32   \n32542   72                  ?        HS-grad     Male              25   \n32543   45          Local-gov     Assoc-acdm   Female              48   \n32544   31            Private        Masters   Female              30   \n32545   39          Local-gov     Assoc-acdm   Female              20   \n32546   37            Private     Assoc-acdm   Female              40   \n32547   43            Private        HS-grad     Male              40   \n32548   65   Self-emp-not-inc    Prof-school     Male              60   \n32549   43          State-gov   Some-college   Female              40   \n32550   43   Self-emp-not-inc   Some-college     Male              50   \n32551   32            Private           10th     Male              40   \n32552   43            Private      Assoc-voc     Male              45   \n32553   32            Private        Masters     Male              11   \n32554   53            Private        Masters     Male              40   \n32555   22            Private   Some-college     Male              40   \n32556   27            Private     Assoc-acdm   Female              38   \n32557   40            Private        HS-grad     Male              40   \n32558   58            Private        HS-grad   Female              40   \n32559   22            Private        HS-grad     Male              20   \n32560   52       Self-emp-inc        HS-grad   Female              40   \n\n               occupation  income  \n0            Adm-clerical   <=50K  \n1         Exec-managerial   <=50K  \n2       Handlers-cleaners   <=50K  \n3       Handlers-cleaners   <=50K  \n4          Prof-specialty   <=50K  \n5         Exec-managerial   <=50K  \n6           Other-service   <=50K  \n7         Exec-managerial    >50K  \n8          Prof-specialty    >50K  \n9         Exec-managerial    >50K  \n10        Exec-managerial    >50K  \n11         Prof-specialty    >50K  \n12           Adm-clerical   <=50K  \n13                  Sales   <=50K  \n14           Craft-repair    >50K  \n15       Transport-moving   <=50K  \n16        Farming-fishing   <=50K  \n17      Machine-op-inspct   <=50K  \n18                  Sales   <=50K  \n19        Exec-managerial    >50K  \n20         Prof-specialty    >50K  \n21          Other-service   <=50K  \n22        Farming-fishing   <=50K  \n23       Transport-moving   <=50K  \n24           Tech-support   <=50K  \n25           Tech-support    >50K  \n26           Craft-repair   <=50K  \n27                      ?    >50K  \n28        Exec-managerial   <=50K  \n29           Craft-repair   <=50K  \n...                   ...     ...  \n32531                   ?   <=50K  \n32532      Prof-specialty    >50K  \n32533     Exec-managerial    >50K  \n32534        Adm-clerical   <=50K  \n32535     Protective-serv   <=50K  \n32536     Exec-managerial    >50K  \n32537        Craft-repair   <=50K  \n32538      Prof-specialty    >50K  \n32539                   ?    >50K  \n32540        Adm-clerical   <=50K  \n32541                   ?   <=50K  \n32542                   ?   <=50K  \n32543      Prof-specialty   <=50K  \n32544       Other-service   <=50K  \n32545        Adm-clerical    >50K  \n32546        Tech-support   <=50K  \n32547   Machine-op-inspct   <=50K  \n32548      Prof-specialty   <=50K  \n32549        Adm-clerical   <=50K  \n32550        Craft-repair   <=50K  \n32551   Handlers-cleaners   <=50K  \n32552               Sales   <=50K  \n32553        Tech-support   <=50K  \n32554     Exec-managerial    >50K  \n32555     Protective-serv   <=50K  \n32556        Tech-support   <=50K  \n32557   Machine-op-inspct    >50K  \n32558        Adm-clerical   <=50K  \n32559        Adm-clerical   <=50K  \n32560     Exec-managerial    >50K  \n\n[32561 rows x 7 columns]"
          },
          "metadata": {},
          "output_type": "display_data"
        }
      ]
    },
    {
      "metadata": {
        "trusted": false
      },
      "cell_type": "code",
      "source": "print('Original Features:\\n', list(data.columns), '\\n')\ndata_dummies = pd.get_dummies(data)\nprint('Features after One-Hot Encoding:\\n', list(data_dummies.columns))",
      "execution_count": 15,
      "outputs": [
        {
          "name": "stdout",
          "output_type": "stream",
          "text": "Original Features:\n ['age', 'workclass', 'education', 'gender', 'hours-per-week', 'occupation', 'income'] \n\nFeatures after One-Hot Encoding:\n ['age', 'hours-per-week', 'workclass_ ?', 'workclass_ Federal-gov', 'workclass_ Local-gov', 'workclass_ Never-worked', 'workclass_ Private', 'workclass_ Self-emp-inc', 'workclass_ Self-emp-not-inc', 'workclass_ State-gov', 'workclass_ Without-pay', 'education_ 10th', 'education_ 11th', 'education_ 12th', 'education_ 1st-4th', 'education_ 5th-6th', 'education_ 7th-8th', 'education_ 9th', 'education_ Assoc-acdm', 'education_ Assoc-voc', 'education_ Bachelors', 'education_ Doctorate', 'education_ HS-grad', 'education_ Masters', 'education_ Preschool', 'education_ Prof-school', 'education_ Some-college', 'gender_ Female', 'gender_ Male', 'occupation_ ?', 'occupation_ Adm-clerical', 'occupation_ Armed-Forces', 'occupation_ Craft-repair', 'occupation_ Exec-managerial', 'occupation_ Farming-fishing', 'occupation_ Handlers-cleaners', 'occupation_ Machine-op-inspct', 'occupation_ Other-service', 'occupation_ Priv-house-serv', 'occupation_ Prof-specialty', 'occupation_ Protective-serv', 'occupation_ Sales', 'occupation_ Tech-support', 'occupation_ Transport-moving', 'income_ <=50K', 'income_ >50K']\n"
        }
      ]
    },
    {
      "metadata": {
        "trusted": false
      },
      "cell_type": "code",
      "source": "features = data_dummies.loc[:, 'age':'occupation_ Transport-moving']\nX = features.values\ny = data_dummies['income_ >50K'].values",
      "execution_count": 18,
      "outputs": []
    },
    {
      "metadata": {
        "trusted": false
      },
      "cell_type": "code",
      "source": "from sklearn.linear_model import LogisticRegression\nfrom sklearn.model_selection import train_test_split\n\nX_train, X_test, y_train, y_test = train_test_split(X, y, random_state=0)\nlogreg = LogisticRegression()\nlogreg.fit(X_train, y_train)\n\nprint('Logistic Regression score on the test set: {:.2f}'.format(logreg.score(X_test, y_test)))",
      "execution_count": 19,
      "outputs": [
        {
          "name": "stdout",
          "output_type": "stream",
          "text": "Logistic Regression score on the test set: 0.81\n"
        }
      ]
    },
    {
      "metadata": {},
      "cell_type": "markdown",
      "source": "<span style=\"color:red; font-family:Comic Sans MS\"> **above Code pulled from:** </span>  \n<a href=\"https://github.com/CristiVlad25/ml-sklearn\" target=\"_blank\">https://github.com/CristiVlad25/ml-sklearn</a>"
    }
  ],
  "metadata": {
    "kernelspec": {
      "name": "python3",
      "display_name": "Python 3",
      "language": "python"
    },
    "language_info": {
      "mimetype": "text/x-python",
      "nbconvert_exporter": "python",
      "name": "python",
      "pygments_lexer": "ipython3",
      "version": "3.5.4",
      "file_extension": ".py",
      "codemirror_mode": {
        "version": 3,
        "name": "ipython"
      }
    },
    "toc": {
      "nav_menu": {},
      "number_sections": true,
      "sideBar": true,
      "skip_h1_title": false,
      "base_numbering": 1,
      "title_cell": "Table of Contents",
      "title_sidebar": "Contents",
      "toc_cell": false,
      "toc_position": {},
      "toc_section_display": true,
      "toc_window_display": false
    }
  },
  "nbformat": 4,
  "nbformat_minor": 2
}