{
  "cells": [
    {
      "metadata": {
        "collapsed": true
      },
      "cell_type": "markdown",
      "source": "https://www.programiz.com/python-programming/modules "
    },
    {
      "metadata": {},
      "cell_type": "markdown",
      "source": "## datetime module"
    },
    {
      "metadata": {
        "trusted": false
      },
      "cell_type": "code",
      "source": "from datetime import date\nfrom datetime import time\nfrom datetime import datetime\n\ndef main():\n  ## DATE OBJECTS\n  # Get today's date from the simple today() method from the date class\n  today = date.today()\n  print (\"Today's date is \", today)\n  \n  # print out the date's individual components\n  print (\"Date Components: \", today.day, today.month, today.year)\n  \n  # retrieve today's weekday (0=Monday, 6=Sunday)\n  print (\"Today's Weekday #: \", today.weekday())\n  days = [\"monday\",\"tuesday\",\"wednesday\",\"thursday\",\"friday\",\"saturday\",\"sunday\"]\n  print (\"Which is a \" + days[today.weekday()])\n  \n  ## DATETIME OBJECTS\n  # Get today's date from the datetime class\n  today = datetime.now()\n  print  (\"The current date and time is \", today)\n  \n  # Get the current time\n  t = datetime.time(datetime.now())\n  print (\"The current time is \", t)\nif __name__ == \"__main__\":\n  main();",
      "execution_count": 1,
      "outputs": [
        {
          "name": "stdout",
          "output_type": "stream",
          "text": "Today's date is  2018-08-25\nDate Components:  25 8 2018\nToday's Weekday #:  5\nWhich is a saturday\nThe current date and time is  2018-08-25 10:53:30.072175\nThe current time is  10:53:30.072460\n"
        }
      ]
    },
    {
      "metadata": {},
      "cell_type": "markdown",
      "source": "## calendar module"
    },
    {
      "metadata": {
        "trusted": false
      },
      "cell_type": "code",
      "source": "\nimport calendar\n\n# create a plain text calendar\nc = calendar.TextCalendar(calendar.SUNDAY)\nstr = c.formatmonth(2017, 1, 0, 0)\nprint (str)\n\n# create an HTML formatted calendar\nhc = calendar.HTMLCalendar(calendar.SUNDAY)\nstr = hc.formatmonth(2017, 1)\nprint (str)\n\n# loop over the days of a month\n# zeroes mean that the day of the week is in an overlapping month\nfor i in c.itermonthdays(2017, 8):\n  print (i)\n  \n# The Calendar module provides useful utilities for the given locale,\n# such as the names of days and months in both full and abbreviated forms\nfor name in calendar.month_name:\n  print (name)\n\nfor day in calendar.day_name:\n  print (day)\n\n# Calculate days based on a rule: For example, consider\n# a team meeting on the first Friday of every month.\n# To figure out what days that would be for each month,\n# we can use this script:\nprint (\"Team meetings will be on:\")\nfor m in range(1,13):\n  # returns an array of weeks that represent the month\n  cal = calendar.monthcalendar(2017, m)\n  # The first Friday has to be within the first two weeks\n  weekone = cal[0]\n  weektwo = cal[1]\n   \n  if weekone[calendar.FRIDAY] != 0:\n    meetday = weekone[calendar.FRIDAY]\n  else:\n    # if the first friday isn't in the first week, it must be in the second\n    meetday = weektwo[calendar.FRIDAY]\n      \n  print (\"%10s %2d\" % (calendar.month_name[m], meetday))",
      "execution_count": 3,
      "outputs": [
        {
          "name": "stdout",
          "output_type": "stream",
          "text": "    January 2017\nSu Mo Tu We Th Fr Sa\n 1  2  3  4  5  6  7\n 8  9 10 11 12 13 14\n15 16 17 18 19 20 21\n22 23 24 25 26 27 28\n29 30 31\n\n<table border=\"0\" cellpadding=\"0\" cellspacing=\"0\" class=\"month\">\n<tr><th colspan=\"7\" class=\"month\">January 2017</th></tr>\n<tr><th class=\"sun\">Sun</th><th class=\"mon\">Mon</th><th class=\"tue\">Tue</th><th class=\"wed\">Wed</th><th class=\"thu\">Thu</th><th class=\"fri\">Fri</th><th class=\"sat\">Sat</th></tr>\n<tr><td class=\"sun\">1</td><td class=\"mon\">2</td><td class=\"tue\">3</td><td class=\"wed\">4</td><td class=\"thu\">5</td><td class=\"fri\">6</td><td class=\"sat\">7</td></tr>\n<tr><td class=\"sun\">8</td><td class=\"mon\">9</td><td class=\"tue\">10</td><td class=\"wed\">11</td><td class=\"thu\">12</td><td class=\"fri\">13</td><td class=\"sat\">14</td></tr>\n<tr><td class=\"sun\">15</td><td class=\"mon\">16</td><td class=\"tue\">17</td><td class=\"wed\">18</td><td class=\"thu\">19</td><td class=\"fri\">20</td><td class=\"sat\">21</td></tr>\n<tr><td class=\"sun\">22</td><td class=\"mon\">23</td><td class=\"tue\">24</td><td class=\"wed\">25</td><td class=\"thu\">26</td><td class=\"fri\">27</td><td class=\"sat\">28</td></tr>\n<tr><td class=\"sun\">29</td><td class=\"mon\">30</td><td class=\"tue\">31</td><td class=\"noday\">&nbsp;</td><td class=\"noday\">&nbsp;</td><td class=\"noday\">&nbsp;</td><td class=\"noday\">&nbsp;</td></tr>\n</table>\n\n0\n0\n1\n2\n3\n4\n5\n6\n7\n8\n9\n10\n11\n12\n13\n14\n15\n16\n17\n18\n19\n20\n21\n22\n23\n24\n25\n26\n27\n28\n29\n30\n31\n0\n0\n\nJanuary\nFebruary\nMarch\nApril\nMay\nJune\nJuly\nAugust\nSeptember\nOctober\nNovember\nDecember\nMonday\nTuesday\nWednesday\nThursday\nFriday\nSaturday\nSunday\nTeam meetings will be on:\n   January  6\n  February  3\n     March  3\n     April  7\n       May  5\n      June  2\n      July  7\n    August  4\n September  1\n   October  6\n  November  3\n  December  1\n"
        }
      ]
    },
    {
      "metadata": {},
      "cell_type": "markdown",
      "source": "\n"
    },
    {
      "metadata": {},
      "cell_type": "markdown",
      "source": "<span style=\"color:red; font-family:Comic Sans MS\">**Sources & References** </span>     \n<a href=\"https://www.linkedin.com/learning/learning-python-2\" target=\"_blank\">https://www.linkedin.com/learning/learning-python-2</a>  \n"
    }
  ],
  "metadata": {
    "kernelspec": {
      "name": "python36",
      "display_name": "Python 3.6",
      "language": "python"
    },
    "language_info": {
      "mimetype": "text/x-python",
      "nbconvert_exporter": "python",
      "name": "python",
      "pygments_lexer": "ipython3",
      "version": "3.6.6",
      "file_extension": ".py",
      "codemirror_mode": {
        "version": 3,
        "name": "ipython"
      }
    },
    "toc": {
      "nav_menu": {},
      "number_sections": true,
      "sideBar": true,
      "skip_h1_title": false,
      "base_numbering": 1,
      "title_cell": "Table of Contents",
      "title_sidebar": "Contents",
      "toc_cell": false,
      "toc_position": {},
      "toc_section_display": true,
      "toc_window_display": false
    }
  },
  "nbformat": 4,
  "nbformat_minor": 2
}