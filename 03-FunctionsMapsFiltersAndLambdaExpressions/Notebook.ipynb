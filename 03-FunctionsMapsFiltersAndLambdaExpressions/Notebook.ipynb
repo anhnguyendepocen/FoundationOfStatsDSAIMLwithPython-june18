{
  "metadata": {
    "kernelspec": {
      "name": "python3",
      "display_name": "Python 3",
      "language": "python"
    },
    "language_info": {
      "mimetype": "text/x-python",
      "nbconvert_exporter": "python",
      "name": "python",
      "file_extension": ".py",
      "version": "3.5.4",
      "pygments_lexer": "ipython3",
      "codemirror_mode": {
        "version": 3,
        "name": "ipython"
      }
    },
    "toc": {
      "nav_menu": {},
      "number_sections": true,
      "sideBar": true,
      "skip_h1_title": false,
      "base_numbering": 1,
      "title_cell": "Table of Contents",
      "title_sidebar": "Contents",
      "toc_cell": true,
      "toc_position": {},
      "toc_section_display": true,
      "toc_window_display": false
    }
  },
  "nbformat_minor": 2,
  "nbformat": 4,
  "cells": [
    {
      "cell_type": "markdown",
      "source": "<h1>Table of Contents<span class=\"tocSkip\"></span></h1>\n<div class=\"toc\"><ul class=\"toc-item\"><li><span><a href=\"#Functions\" data-toc-modified-id=\"Functions-1\"><span class=\"toc-item-num\">1&nbsp;&nbsp;</span>Functions</a></span></li><li><span><a href=\"#lambda-expressions\" data-toc-modified-id=\"lambda-expressions-2\"><span class=\"toc-item-num\">2&nbsp;&nbsp;</span>lambda expressions</a></span></li><li><span><a href=\"#map,--filter-and-reduce\" data-toc-modified-id=\"map,--filter-and-reduce-3\"><span class=\"toc-item-num\">3&nbsp;&nbsp;</span>map,  filter and reduce</a></span></li><li><span><a href=\"#Zip()\" data-toc-modified-id=\"Zip()-4\"><span class=\"toc-item-num\">4&nbsp;&nbsp;</span>Zip()</a></span></li><li><span><a href=\"#Unpacking\" data-toc-modified-id=\"Unpacking-5\"><span class=\"toc-item-num\">5&nbsp;&nbsp;</span>Unpacking</a></span></li><li><span><a href=\"#magic-functions\" data-toc-modified-id=\"magic-functions-6\"><span class=\"toc-item-num\">6&nbsp;&nbsp;</span>magic functions</a></span><ul class=\"toc-item\"><li><span><a href=\"#%timeit-magic-function\" data-toc-modified-id=\"%timeit-magic-function-6.1\"><span class=\"toc-item-num\">6.1&nbsp;&nbsp;</span><code>%timeit</code> magic function</a></span></li><li><span><a href=\"#loops-vs-list-comprehensions-vs-numpy-array\" data-toc-modified-id=\"loops-vs-list-comprehensions-vs-numpy-array-6.2\"><span class=\"toc-item-num\">6.2&nbsp;&nbsp;</span>loops vs list comprehensions vs numpy array</a></span></li><li><span><a href=\"#simple-calculations-without-functions-vs-with-functions\" data-toc-modified-id=\"simple-calculations-without-functions-vs-with-functions-6.3\"><span class=\"toc-item-num\">6.3&nbsp;&nbsp;</span>simple calculations without functions vs with functions</a></span></li></ul></li><li><span><a href=\"#dir-function\" data-toc-modified-id=\"dir-function-7\"><span class=\"toc-item-num\">7&nbsp;&nbsp;</span><code>dir</code> function</a></span></li><li><span><a href=\"#How-to-retrieve-source-code-of-Python-functions\" data-toc-modified-id=\"How-to-retrieve-source-code-of-Python-functions-8\"><span class=\"toc-item-num\">8&nbsp;&nbsp;</span>How to retrieve source code of Python functions</a></span></li><li><span><a href=\"#if-__name__-==-&quot;__main__&quot;-(Double-Underscore-Methods-and-Variables)\" data-toc-modified-id=\"if-__name__-==-&quot;__main__&quot;-(Double-Underscore-Methods-and-Variables)-9\"><span class=\"toc-item-num\">9&nbsp;&nbsp;</span><strong>if <code>__name__</code> <code>==</code> \"<code>__main__</code>\"</strong> (Double Underscore Methods and Variables)</a></span></li></ul></div>",
      "metadata": {
        "toc": true
      }
    },
    {
      "cell_type": "markdown",
      "source": "## Functions",
      "metadata": {}
    },
    {
      "cell_type": "markdown",
      "source": "* function is a group of related statements that perform a specific task.\n* break our program into smaller and modular chunks\n* in-built functions and user defined functions",
      "metadata": {}
    },
    {
      "cell_type": "markdown",
      "source": "**Syntax of Function**  \n`def function_name(parameters):\n\t\"\"\"docstring\"\"\"\n\tstatement(s)\n    return r`",
      "metadata": {}
    },
    {
      "cell_type": "markdown",
      "source": "https://www.programiz.com/python-programming/function",
      "metadata": {}
    },
    {
      "cell_type": "markdown",
      "source": "<font size=\"3\"><strong>*args and **kwargs</font>",
      "metadata": {}
    },
    {
      "cell_type": "markdown",
      "source": "* To get infinite arguments, use *args and for infinite keyword arguments, use *kwargs.\n* The “args” and “kwargs” words are not important. That’s just convention. ",
      "metadata": {}
    },
    {
      "cell_type": "code",
      "source": "# Let’s take a look at a quick example:\ndef many(*args, **kwargs):\n    print(args)\n    print(kwargs)",
      "metadata": {
        "trusted": true
      },
      "execution_count": 1,
      "outputs": []
    },
    {
      "cell_type": "code",
      "source": "many(1, 2, 3, name=\"Mike\", job=\"programmer\")",
      "metadata": {
        "trusted": true
      },
      "execution_count": 2,
      "outputs": [
        {
          "output_type": "stream",
          "text": "(1, 2, 3)\n{'name': 'Mike', 'job': 'programmer'}\n",
          "name": "stdout"
        }
      ]
    },
    {
      "cell_type": "markdown",
      "source": "As you can see, the args parameter turns into a tuple and kwargs turns into a dictionary. You will see this type of coding used in the Python source and in many 3rd party Python packages",
      "metadata": {}
    },
    {
      "cell_type": "code",
      "source": "dictionary = {\"a\": 1, \"b\": 2}\n\ndef someFunction(a, b):\n    print(a + b)\n    return\n    \n# these do the same thing:\nprint(someFunction(**dictionary))\nprint(someFunction(a=1, b=2))",
      "metadata": {
        "scrolled": true,
        "trusted": true
      },
      "execution_count": 2,
      "outputs": [
        {
          "output_type": "stream",
          "text": "3\nNone\n3\nNone\n",
          "name": "stdout"
        }
      ]
    },
    {
      "cell_type": "markdown",
      "source": "https://www.listendata.com/2019/07/args-and-kwargs-in-python.html?  ",
      "metadata": {}
    },
    {
      "cell_type": "markdown",
      "source": "**Python's functions are first-class objects:**  \nhttps://dbader.org/blog/python-first-class-functions  ",
      "metadata": {}
    },
    {
      "cell_type": "markdown",
      "source": "## lambda expressions",
      "metadata": {}
    },
    {
      "cell_type": "markdown",
      "source": "* these are single line expressions (which returns or evaluates a value)\n* function that is defined without a name.\n* While normal functions are defined using the def keyword, in Python anonymous functions are defined using the lambda keyword.\n* use lambda functions when we require a nameless function for a limited period of time even without assigning to a variable.\n1. lambda is a keyword that returns a function object and does not create a 'name'. Whereas def creates name in the local namespace\n2. lambda functions are good for situations where you want to minimize lines of code as you can create function in one line of python code. It is not possible using def \n3. lambda functions are somewhat less readable for most Python users.\n4. lambda functions can be better for one time usage, unless assigned to a variable name.\n5. This function can have any number of arguements but, can have just one expression. \n",
      "metadata": {}
    },
    {
      "cell_type": "markdown",
      "source": "**Syntax of Lambda Function in python**  \n`lambda arguments: expression`  ",
      "metadata": {}
    },
    {
      "cell_type": "code",
      "source": "def times2(var):\n    return var*2\n\ntimes2(2)",
      "metadata": {
        "trusted": true
      },
      "execution_count": 1,
      "outputs": [
        {
          "output_type": "execute_result",
          "execution_count": 1,
          "data": {
            "text/plain": "4"
          },
          "metadata": {}
        }
      ]
    },
    {
      "cell_type": "code",
      "source": "timesLambda = lambda var: var*2\ntimesLambda(2)",
      "metadata": {
        "trusted": true
      },
      "execution_count": 2,
      "outputs": [
        {
          "output_type": "execute_result",
          "execution_count": 2,
          "data": {
            "text/plain": "4"
          },
          "metadata": {}
        }
      ]
    },
    {
      "cell_type": "code",
      "source": "# Lambdas with no arguments\nf = lambda: True\nf()",
      "metadata": {
        "trusted": true
      },
      "execution_count": 3,
      "outputs": [
        {
          "output_type": "execute_result",
          "execution_count": 3,
          "data": {
            "text/plain": "True"
          },
          "metadata": {}
        }
      ]
    },
    {
      "cell_type": "code",
      "source": "# Lambdas with multiple arguments\nf = lambda x, y: x * y\nprint(f(5, 2))\nsum = lambda a, b, c: a + b + c\nprint(sum(1, 2, 3))",
      "metadata": {
        "trusted": true
      },
      "execution_count": 7,
      "outputs": [
        {
          "output_type": "stream",
          "text": "10\n6\n",
          "name": "stdout"
        }
      ]
    },
    {
      "cell_type": "code",
      "source": "lambda x: x + 1 \n# You can apply the function above to an argument by surrounding the function and its argument with parentheses\n(lambda x: x + 1)(2)",
      "metadata": {
        "trusted": true
      },
      "execution_count": 12,
      "outputs": [
        {
          "output_type": "execute_result",
          "execution_count": 12,
          "data": {
            "text/plain": "3"
          },
          "metadata": {}
        }
      ]
    },
    {
      "cell_type": "code",
      "source": "(lambda x, y: x + y)(2, 3)",
      "metadata": {
        "scrolled": true,
        "trusted": true
      },
      "execution_count": 13,
      "outputs": [
        {
          "output_type": "execute_result",
          "execution_count": 13,
          "data": {
            "text/plain": "5"
          },
          "metadata": {}
        }
      ]
    },
    {
      "cell_type": "code",
      "source": "(lambda x, y, z: x + y + z)(1, 2, 3)\n# 6",
      "metadata": {
        "trusted": true
      },
      "execution_count": 15,
      "outputs": [
        {
          "output_type": "execute_result",
          "execution_count": 15,
          "data": {
            "text/plain": "6"
          },
          "metadata": {}
        }
      ]
    },
    {
      "cell_type": "code",
      "source": "(lambda x, y, z=3: x + y + z)(1, 2)\n# 6",
      "metadata": {
        "trusted": true
      },
      "execution_count": 16,
      "outputs": [
        {
          "output_type": "execute_result",
          "execution_count": 16,
          "data": {
            "text/plain": "6"
          },
          "metadata": {}
        }
      ]
    },
    {
      "cell_type": "code",
      "source": "(lambda x, y, z=3: x + y + z)(1, y=2)\n# 6",
      "metadata": {
        "trusted": true
      },
      "execution_count": 17,
      "outputs": [
        {
          "output_type": "execute_result",
          "execution_count": 17,
          "data": {
            "text/plain": "6"
          },
          "metadata": {}
        }
      ]
    },
    {
      "cell_type": "code",
      "source": "(lambda x, *, y=0, z=0: x + y + z)(1, y=2, z=3)\n# 6",
      "metadata": {
        "trusted": true
      },
      "execution_count": 21,
      "outputs": [
        {
          "output_type": "execute_result",
          "execution_count": 21,
          "data": {
            "text/plain": "6"
          },
          "metadata": {}
        }
      ]
    },
    {
      "cell_type": "code",
      "source": "f = lambda x: 'big' if x > 100 else 'small' # They return a value, and can be used in a lambda.\nf(25)",
      "metadata": {
        "scrolled": false,
        "trusted": true
      },
      "execution_count": 25,
      "outputs": [
        {
          "output_type": "execute_result",
          "execution_count": 25,
          "data": {
            "text/plain": "'small'"
          },
          "metadata": {}
        }
      ]
    },
    {
      "cell_type": "code",
      "source": "def func(x): return x ** 3\nprint(func(5))\nlamb = lambda x: x ** 3\nprint(lamb(5))\n\ndef f(x, y, z): return x + y + z\nprint(f(2, 30, 400))\nf = lambda x, y, z: x + y + z\nprint(f(2, 30, 400))",
      "metadata": {
        "trusted": true
      },
      "execution_count": 28,
      "outputs": [
        {
          "output_type": "stream",
          "text": "125\n125\n432\n432\n",
          "name": "stdout"
        }
      ]
    },
    {
      "cell_type": "markdown",
      "source": "* Its a good practice to further improvise by using python built-in functions like `map` `filter` and list comprehensions ",
      "metadata": {}
    },
    {
      "cell_type": "markdown",
      "source": "## map,  filter and reduce",
      "metadata": {}
    },
    {
      "cell_type": "markdown",
      "source": "| Function      \t| Description                                                             \t|  \n|---------------\t|-------------------------------------------------------------------------\t|  \n| `filter()`    \t| Filters elements from an iterable                                       \t|\n| `map()`       \t| Applies a function to every item of an iterable                         \t|\n| `reduce()`       \t| To reduce the iterable to a single value                         \t|\n",
      "metadata": {}
    },
    {
      "cell_type": "markdown",
      "source": "**`filter()`**",
      "metadata": {}
    },
    {
      "cell_type": "code",
      "source": "x = ['Python', 'programming', 'is', 'awesome!']\nprint(list(filter(lambda arg: len(arg) < 8, x)))",
      "metadata": {
        "trusted": true
      },
      "execution_count": 3,
      "outputs": [
        {
          "text": "['Python', 'is']\n",
          "name": "stdout",
          "output_type": "stream"
        }
      ]
    },
    {
      "cell_type": "code",
      "source": "filter(lambda item: item%2 == 0,seq)\n\nlist(filter(lambda item: item%2 == 0,seq))",
      "metadata": {},
      "execution_count": 2,
      "outputs": [
        {
          "execution_count": 2,
          "output_type": "execute_result",
          "data": {
            "text/plain": "[2, 4]"
          },
          "metadata": {}
        }
      ]
    },
    {
      "cell_type": "code",
      "source": "numbers = [1, 2, 3, 4, 5, 6, 7, 8, 9, 10]\n# Will return true if input number is even\ndef even(x):\n    return x % 2 == 0\n# non-pythonic approach\neven_nums = []\nfor num in numbers:\n    if even(num):\n        even_nums.append(num)\n \nprint('Non-Pythonic Approach: ', even_nums)\n# pythonic approach\neven_n = filter(even, numbers)\nprint('Pythonic Approach: ', list(even_n))",
      "metadata": {
        "trusted": true
      },
      "execution_count": 2,
      "outputs": [
        {
          "output_type": "stream",
          "text": "Non-Pythonic Approach:  [2, 4, 6, 8, 10]\nPythonic Approach:  [2, 4, 6, 8, 10]\n",
          "name": "stdout"
        }
      ]
    },
    {
      "cell_type": "markdown",
      "source": "**`map()`**",
      "metadata": {}
    },
    {
      "cell_type": "code",
      "source": "x = ['Python', 'programming', 'is', 'awesome!']\nprint(list(map(lambda arg: arg.upper(), x)))",
      "metadata": {
        "trusted": true
      },
      "execution_count": 2,
      "outputs": [
        {
          "text": "['PYTHON', 'PROGRAMMING', 'IS', 'AWESOME!']\n",
          "name": "stdout",
          "output_type": "stream"
        }
      ]
    },
    {
      "cell_type": "code",
      "source": "seq = [1,2,3,4,5]\n\nmap(times2,seq)\n\nlist(map(times2,seq))\n\nlist(map(lambda var: var*2,seq))",
      "metadata": {
        "trusted": true
      },
      "execution_count": null,
      "outputs": []
    },
    {
      "cell_type": "code",
      "source": "nums = [1, 2, 3, 4, 5]\n# this function will calculate square\ndef square_num(x): \n    return x**2\n# non-pythonic approach\nsquares = []\nfor num in nums:\n    squares.append(square_num(num))\n \nprint('Non-Pythonic Approach: ', squares)\n# pythonic approach\nx = map(square_num, nums)\nprint('Pythonic Approach: ', list(x))",
      "metadata": {
        "trusted": true
      },
      "execution_count": 1,
      "outputs": [
        {
          "output_type": "stream",
          "text": "Non-Pythonic Approach:  [1, 4, 9, 16, 25]\nPythonic Approach:  [1, 4, 9, 16, 25]\n",
          "name": "stdout"
        }
      ]
    },
    {
      "cell_type": "markdown",
      "source": "**`reduce()`**",
      "metadata": {}
    },
    {
      "cell_type": "markdown",
      "source": "* The function `reduce(func, seq)` continually applies the function `func()` to the sequence `seq`. \n* `reduce` is present in the `functools` library in Python 3.0. \n* It accepts an iterator to process, but it's not an iterator itself. It returns a single result:\n* `reduce()` doesn’t return a new iterable. Instead, `reduce()` uses the function called to reduce the iterable to a single value",
      "metadata": {}
    },
    {
      "cell_type": "code",
      "source": "from functools import reduce\nx = ['Python', 'programming', 'is', 'awesome!']\nprint(reduce(lambda val1, val2: val1 + val2, x)) #There is no call to list() here because reduce() already returns a single item",
      "metadata": {
        "trusted": true
      },
      "execution_count": 1,
      "outputs": [
        {
          "text": "Pythonprogrammingisawesome!\n",
          "name": "stdout",
          "output_type": "stream"
        }
      ]
    },
    {
      "cell_type": "code",
      "source": "from functools import reduce\nres= reduce(lambda x,y: x+y, [47,11,42,13])\nprint(res)",
      "metadata": {
        "trusted": true
      },
      "execution_count": 1,
      "outputs": [
        {
          "output_type": "stream",
          "text": "113\n",
          "name": "stdout"
        }
      ]
    },
    {
      "cell_type": "markdown",
      "source": "![Imgur](https://i.imgur.com/4gao4Vo.png)",
      "metadata": {}
    },
    {
      "cell_type": "markdown",
      "source": "If seq = [ s1, s2, s3, ... , sn ], calling `reduce(func, seq)` works like this:\n![Imgur](https://i.imgur.com/JwHH5OX.png)",
      "metadata": {}
    },
    {
      "cell_type": "code",
      "source": "f = lambda a,b: a if (a > b) else b\nreduce(f, [47,11,42,102,13])",
      "metadata": {
        "scrolled": true,
        "trusted": true
      },
      "execution_count": 2,
      "outputs": [
        {
          "output_type": "execute_result",
          "execution_count": 2,
          "data": {
            "text/plain": "102"
          },
          "metadata": {}
        }
      ]
    },
    {
      "cell_type": "markdown",
      "source": "https://medium.com/@happymishra66/lambda-map-and-filter-in-python-4935f248593",
      "metadata": {}
    },
    {
      "cell_type": "markdown",
      "source": "**List Comprehension vs. For Loop vs. Lambda + map()**",
      "metadata": {}
    },
    {
      "cell_type": "markdown",
      "source": "![Imgur](https://i.imgur.com/VQ7AEK5.jpg)",
      "metadata": {}
    },
    {
      "cell_type": "markdown",
      "source": "## Zip()",
      "metadata": {}
    },
    {
      "cell_type": "markdown",
      "source": "| Function      \t| Description                                                             \t|  \n|---------------\t|-------------------------------------------------------------------------\t|  \n| `zip()`       \t| Creates an iterator that aggregates elements from iterables             \t|  \n\n* zip takes n number of iterables and returns list of tuples.  \n",
      "metadata": {}
    },
    {
      "cell_type": "code",
      "source": "list_a = [1, 2, 3, 4, 5]\nlist_b = ['a', 'b', 'c', 'd', 'e']\n\nzipped_list = zip(list_a, list_b)\n\nprint (list(zipped_list)) # [(1, 'a'), (2, 'b'), (3, 'c'), (4, 'd'), (5, 'e')]",
      "metadata": {
        "scrolled": true,
        "run_control": {
          "marked": false
        }
      },
      "execution_count": 2,
      "outputs": [
        {
          "name": "stdout",
          "output_type": "stream",
          "text": "[(1, 'a'), (2, 'b'), (3, 'c'), (4, 'd'), (5, 'e')]\n"
        }
      ]
    },
    {
      "cell_type": "code",
      "source": "first = [1, 3, 8, 4, 9]\nsecond = [2, 2, 7, 5, 8]\n# Iterate over two or more list at the same time\nfor x, y in zip(first, second):\n    print(x + y)",
      "metadata": {
        "run_control": {
          "marked": false
        },
        "scrolled": true,
        "trusted": true
      },
      "execution_count": 3,
      "outputs": [
        {
          "output_type": "stream",
          "text": "3\n5\n15\n9\n17\n",
          "name": "stdout"
        }
      ]
    },
    {
      "cell_type": "markdown",
      "source": "## Unpacking",
      "metadata": {}
    },
    {
      "cell_type": "markdown",
      "source": "* Unpacking lists, tuples and dictionaries",
      "metadata": {}
    },
    {
      "cell_type": "markdown",
      "source": "**On lists**",
      "metadata": {}
    },
    {
      "cell_type": "code",
      "source": "names = [\"John\", \"James\", \"Frank\"]\nnums = [111,222,333]\nprint(names)\nprint(nums)",
      "metadata": {},
      "execution_count": 4,
      "outputs": [
        {
          "name": "stdout",
          "output_type": "stream",
          "text": "['John', 'James', 'Frank']\n[111, 222, 333]\n"
        }
      ]
    },
    {
      "cell_type": "code",
      "source": "name1, name2, name3 = names\nprint(name1)\nprint(name3)",
      "metadata": {},
      "execution_count": 5,
      "outputs": [
        {
          "name": "stdout",
          "output_type": "stream",
          "text": "John\nFrank\n"
        }
      ]
    },
    {
      "cell_type": "code",
      "source": "num1, num2, num3 = nums\nprint(num2)\nprint(num3)",
      "metadata": {},
      "execution_count": 6,
      "outputs": [
        {
          "name": "stdout",
          "output_type": "stream",
          "text": "222\n333\n"
        }
      ]
    },
    {
      "cell_type": "markdown",
      "source": "**On tuple**",
      "metadata": {}
    },
    {
      "cell_type": "code",
      "source": "tple = (5,8,-9)\nprint(tple)\ntpl1, tpl2, tpl3 =(5,8,-9)\nprint(tpl1, tpl2, tpl3, sep=\"\\n\")",
      "metadata": {},
      "execution_count": 7,
      "outputs": [
        {
          "name": "stdout",
          "output_type": "stream",
          "text": "(5, 8, -9)\n5\n8\n-9\n"
        }
      ]
    },
    {
      "cell_type": "markdown",
      "source": "**On Dictionaries **",
      "metadata": {}
    },
    {
      "cell_type": "code",
      "source": "d = {34:\"thirty four\", \"letter\": 'A', 5+6j: -98}\nprint(d)",
      "metadata": {},
      "execution_count": 17,
      "outputs": [
        {
          "name": "stdout",
          "output_type": "stream",
          "text": "{34: 'thirty four', 'letter': 'A', (5+6j): -98}\n"
        }
      ]
    },
    {
      "cell_type": "code",
      "source": "d1, d2, d3 = d\nprint(d3, d1, sep=\"\\n\")\n# only keys will come",
      "metadata": {},
      "execution_count": 34,
      "outputs": [
        {
          "name": "stdout",
          "output_type": "stream",
          "text": "(5+6j)\n34\n"
        }
      ]
    },
    {
      "cell_type": "code",
      "source": "d1, d2, d3 = d.items()\nprint(d1)\nprint(d3)",
      "metadata": {},
      "execution_count": 32,
      "outputs": [
        {
          "name": "stdout",
          "output_type": "stream",
          "text": "(34, 'thirty four')\n((5+6j), -98)\n"
        }
      ]
    },
    {
      "cell_type": "code",
      "source": "d1, d2, d3 = d.values()\nprint(d2)\nprint(d1)",
      "metadata": {},
      "execution_count": 33,
      "outputs": [
        {
          "name": "stdout",
          "output_type": "stream",
          "text": "A\nthirty four\n"
        }
      ]
    },
    {
      "cell_type": "code",
      "source": "a, b, *c = range(8)\nprint(a)\nprint(b)\nprint(c)",
      "metadata": {
        "trusted": true
      },
      "execution_count": 1,
      "outputs": [
        {
          "output_type": "stream",
          "text": "0\n1\n[2, 3, 4, 5, 6, 7]\n",
          "name": "stdout"
        }
      ]
    },
    {
      "cell_type": "markdown",
      "source": "## magic functions",
      "metadata": {}
    },
    {
      "cell_type": "markdown",
      "source": " * IPython has a set of predefined ‘magic functions’  \n * **Line magics:** line-oriented, indicate with `%`   \n ex: %timeit  \n * **Cell magics:** cell-oriented, indicate with `%%`   \n ex: %%timeit  ",
      "metadata": {}
    },
    {
      "cell_type": "code",
      "source": "# available magic functions\n%lsmagic",
      "metadata": {
        "scrolled": true,
        "trusted": true
      },
      "execution_count": 2,
      "outputs": [
        {
          "output_type": "execute_result",
          "execution_count": 2,
          "data": {
            "application/json": {
              "cell": {
                "markdown": "DisplayMagics",
                "prun": "ExecutionMagics",
                "file": "Other",
                "!": "OSMagics",
                "capture": "ExecutionMagics",
                "timeit": "ExecutionMagics",
                "script": "ScriptMagics",
                "ruby": "Other",
                "system": "OSMagics",
                "perl": "Other",
                "html": "DisplayMagics",
                "bash": "Other",
                "HTML": "Other",
                "python": "Other",
                "SVG": "Other",
                "javascript": "DisplayMagics",
                "js": "DisplayMagics",
                "writefile": "OSMagics",
                "pypy": "Other",
                "python3": "Other",
                "python2": "Other",
                "latex": "DisplayMagics",
                "sx": "OSMagics",
                "svg": "DisplayMagics",
                "sh": "Other",
                "time": "ExecutionMagics",
                "debug": "ExecutionMagics"
              },
              "line": {
                "psource": "NamespaceMagics",
                "logstart": "LoggingMagics",
                "less": "KernelMagics",
                "loadpy": "CodeMagics",
                "colors": "BasicMagics",
                "lsmagic": "BasicMagics",
                "who_ls": "NamespaceMagics",
                "lf": "Other",
                "ll": "Other",
                "popd": "OSMagics",
                "lk": "Other",
                "ls": "Other",
                "save": "CodeMagics",
                "tb": "ExecutionMagics",
                "lx": "Other",
                "pylab": "PylabMagics",
                "killbgscripts": "ScriptMagics",
                "quickref": "BasicMagics",
                "cd": "OSMagics",
                "magic": "BasicMagics",
                "dhist": "OSMagics",
                "edit": "KernelMagics",
                "logstop": "LoggingMagics",
                "gui": "BasicMagics",
                "alias_magic": "BasicMagics",
                "debug": "ExecutionMagics",
                "page": "BasicMagics",
                "logstate": "LoggingMagics",
                "ed": "Other",
                "pushd": "OSMagics",
                "timeit": "ExecutionMagics",
                "set_env": "OSMagics",
                "rep": "Other",
                "hist": "Other",
                "qtconsole": "KernelMagics",
                "rm": "Other",
                "dirs": "OSMagics",
                "run": "ExecutionMagics",
                "reset_selective": "NamespaceMagics",
                "pinfo2": "NamespaceMagics",
                "matplotlib": "PylabMagics",
                "unload_ext": "ExtensionMagics",
                "doctest_mode": "BasicMagics",
                "logoff": "LoggingMagics",
                "reload_ext": "ExtensionMagics",
                "pdb": "ExecutionMagics",
                "load": "CodeMagics",
                "pprint": "BasicMagics",
                "autosave": "KernelMagics",
                "ldir": "Other",
                "pastebin": "CodeMagics",
                "prun": "ExecutionMagics",
                "cp": "Other",
                "autocall": "AutoMagics",
                "bookmark": "OSMagics",
                "connect_info": "KernelMagics",
                "mkdir": "Other",
                "system": "OSMagics",
                "whos": "NamespaceMagics",
                "rmdir": "Other",
                "automagic": "AutoMagics",
                "store": "StoreMagics",
                "more": "KernelMagics",
                "pdef": "NamespaceMagics",
                "precision": "BasicMagics",
                "pinfo": "NamespaceMagics",
                "pwd": "OSMagics",
                "psearch": "NamespaceMagics",
                "reset": "NamespaceMagics",
                "recall": "HistoryMagics",
                "xdel": "NamespaceMagics",
                "xmode": "BasicMagics",
                "cat": "Other",
                "mv": "Other",
                "rerun": "HistoryMagics",
                "logon": "LoggingMagics",
                "history": "HistoryMagics",
                "pycat": "OSMagics",
                "pip": "BasicMagics",
                "unalias": "OSMagics",
                "env": "OSMagics",
                "load_ext": "ExtensionMagics",
                "config": "ConfigMagics",
                "profile": "BasicMagics",
                "pfile": "NamespaceMagics",
                "who": "NamespaceMagics",
                "notebook": "BasicMagics",
                "man": "KernelMagics",
                "sx": "OSMagics",
                "macro": "ExecutionMagics",
                "clear": "KernelMagics",
                "alias": "OSMagics",
                "time": "ExecutionMagics",
                "sc": "OSMagics",
                "rehashx": "OSMagics",
                "pdoc": "NamespaceMagics"
              }
            },
            "text/plain": "Available line magics:\n%alias  %alias_magic  %autocall  %automagic  %autosave  %bookmark  %cat  %cd  %clear  %colors  %config  %connect_info  %cp  %debug  %dhist  %dirs  %doctest_mode  %ed  %edit  %env  %gui  %hist  %history  %killbgscripts  %ldir  %less  %lf  %lk  %ll  %load  %load_ext  %loadpy  %logoff  %logon  %logstart  %logstate  %logstop  %ls  %lsmagic  %lx  %macro  %magic  %man  %matplotlib  %mkdir  %more  %mv  %notebook  %page  %pastebin  %pdb  %pdef  %pdoc  %pfile  %pinfo  %pinfo2  %popd  %pprint  %precision  %profile  %prun  %psearch  %psource  %pushd  %pwd  %pycat  %pylab  %qtconsole  %quickref  %recall  %rehashx  %reload_ext  %rep  %rerun  %reset  %reset_selective  %rm  %rmdir  %run  %save  %sc  %set_env  %store  %sx  %system  %tb  %time  %timeit  %unalias  %unload_ext  %who  %who_ls  %whos  %xdel  %xmode\n\nAvailable cell magics:\n%%!  %%HTML  %%SVG  %%bash  %%capture  %%debug  %%file  %%html  %%javascript  %%js  %%latex  %%markdown  %%perl  %%prun  %%pypy  %%python  %%python2  %%python3  %%ruby  %%script  %%sh  %%svg  %%sx  %%system  %%time  %%timeit  %%writefile\n\nAutomagic is ON, % prefix IS NOT needed for line magics."
          },
          "metadata": {}
        }
      ]
    },
    {
      "cell_type": "code",
      "source": "%pwd # to know current/present working directory",
      "metadata": {
        "trusted": true
      },
      "execution_count": 3,
      "outputs": [
        {
          "output_type": "execute_result",
          "execution_count": 3,
          "data": {
            "text/plain": "'/home/nbuser/library/03-FunctionsMapFilterAndLambdaExpressions'"
          },
          "metadata": {}
        }
      ]
    },
    {
      "cell_type": "markdown",
      "source": "### `%timeit` magic function",
      "metadata": {}
    },
    {
      "cell_type": "code",
      "source": "%timeit range(10000)",
      "metadata": {
        "scrolled": true,
        "trusted": true
      },
      "execution_count": 2,
      "outputs": [
        {
          "output_type": "stream",
          "text": "339 ns ± 18.7 ns per loop (mean ± std. dev. of 7 runs, 1000000 loops each)\n",
          "name": "stdout"
        }
      ]
    },
    {
      "cell_type": "code",
      "source": "%%timeit \nx = range(10000)\nmax(x)",
      "metadata": {
        "scrolled": true,
        "trusted": true
      },
      "execution_count": 11,
      "outputs": [
        {
          "output_type": "stream",
          "text": "418 µs ± 86.6 µs per loop (mean ± std. dev. of 7 runs, 1000 loops each)\n",
          "name": "stdout"
        }
      ]
    },
    {
      "cell_type": "code",
      "source": "%matplotlib inline #your matplotlib graphs will be included in your notebook  i.e plot outputs appear and will be stored within the notebook.",
      "metadata": {
        "scrolled": true,
        "trusted": true
      },
      "execution_count": 5,
      "outputs": [
        {
          "output_type": "stream",
          "text": "UsageError: unrecognized arguments: #your matplotlib graphs will be included in your notebook\n",
          "name": "stderr"
        }
      ]
    },
    {
      "cell_type": "markdown",
      "source": "### loops vs list comprehensions vs numpy array",
      "metadata": {}
    },
    {
      "cell_type": "code",
      "source": "%%timeit\na = []\nfor i in range(1000):\n    a.append(4+i)",
      "metadata": {
        "trusted": true
      },
      "execution_count": 4,
      "outputs": [
        {
          "output_type": "stream",
          "text": "744 µs ± 11.9 µs per loop (mean ± std. dev. of 7 runs, 1000 loops each)\n",
          "name": "stdout"
        }
      ]
    },
    {
      "cell_type": "code",
      "source": "%timeit a = [4+i for i in range(1000)]",
      "metadata": {
        "trusted": true
      },
      "execution_count": 5,
      "outputs": [
        {
          "output_type": "stream",
          "text": "500 µs ± 71.6 µs per loop (mean ± std. dev. of 7 runs, 1000 loops each)\n",
          "name": "stdout"
        }
      ]
    },
    {
      "cell_type": "code",
      "source": "import numpy as np",
      "metadata": {
        "trusted": true
      },
      "execution_count": 6,
      "outputs": []
    },
    {
      "cell_type": "code",
      "source": "%timeit 4 + np.arange(1000)",
      "metadata": {
        "trusted": true
      },
      "execution_count": 8,
      "outputs": [
        {
          "output_type": "stream",
          "text": "23 µs ± 733 ns per loop (mean ± std. dev. of 7 runs, 10000 loops each)\n",
          "name": "stdout"
        }
      ]
    },
    {
      "cell_type": "markdown",
      "source": "****Note:**** *Here numpy takes least amount of time* ",
      "metadata": {}
    },
    {
      "cell_type": "markdown",
      "source": "### simple calculations without functions vs with functions",
      "metadata": {}
    },
    {
      "cell_type": "code",
      "source": "%timeit 5 + 2",
      "metadata": {
        "trusted": true
      },
      "execution_count": 9,
      "outputs": [
        {
          "output_type": "stream",
          "text": "89.1 ns ± 3.58 ns per loop (mean ± std. dev. of 7 runs, 10000000 loops each)\n",
          "name": "stdout"
        }
      ]
    },
    {
      "cell_type": "code",
      "source": "def add2nums(a,b):\n    return a + b",
      "metadata": {
        "trusted": true
      },
      "execution_count": 10,
      "outputs": []
    },
    {
      "cell_type": "code",
      "source": "%timeit add2nums(5,2)",
      "metadata": {
        "trusted": true
      },
      "execution_count": 11,
      "outputs": [
        {
          "output_type": "stream",
          "text": "674 ns ± 26.3 ns per loop (mean ± std. dev. of 7 runs, 1000000 loops each)\n",
          "name": "stdout"
        }
      ]
    },
    {
      "cell_type": "markdown",
      "source": "****Note:**** *Dont make over complicated by putting them into functions if there is not necessity for simple operations* ",
      "metadata": {}
    },
    {
      "cell_type": "markdown",
      "source": "https://ipython.readthedocs.io/en/stable/interactive/tutorial.html?highlight=Magic%20functions#magic-functions",
      "metadata": {}
    },
    {
      "cell_type": "markdown",
      "source": "## `dir` function",
      "metadata": {}
    },
    {
      "cell_type": "markdown",
      "source": "**View module content in python using `dir` function**  ",
      "metadata": {}
    },
    {
      "cell_type": "markdown",
      "source": "https://www.dummies.com/programming/python/how-to-view-module-content-in-python/  ",
      "metadata": {}
    },
    {
      "cell_type": "markdown",
      "source": "## How to retrieve source code of Python functions\n* using inspect package\n* `pip install inspect-it`\n* `import inspect`  \nhttps://opensource.com/article/18/5/how-retrieve-source-code-python-functions  ",
      "metadata": {}
    },
    {
      "cell_type": "markdown",
      "source": "## **if `__name__` `==` \"`__main__`\"** (Double Underscore Methods and Variables)",
      "metadata": {}
    },
    {
      "cell_type": "markdown",
      "source": "![Imgur](https://i.imgur.com/8qlV1GG.png)",
      "metadata": {}
    },
    {
      "cell_type": "markdown",
      "source": "\n```{py}\n# create one module area.py with following code\n\ndef calculate_area(base, height):\n    print(\"__name__:\", __name__)\n    return 1/2 * (base * height) \nif __name__ == \"__main__\":\n    print(\"I am in area.py\")\n    a = calculate_area(10,20)\n    print(\"area:\", a)\n\n```",
      "metadata": {}
    },
    {
      "cell_type": "markdown",
      "source": "```{py}\n# create one module caller.py with following code\nimport area\nprint(\"i am in caller.py\")\narea.calculate_area(5,10)\n```",
      "metadata": {}
    },
    {
      "cell_type": "markdown",
      "source": "```{py}\n# Run in console\nimport area\narea.calculate_area(10,20)\n__name__: area\nOut[24]: 100.0\nimport caller\ni am in caller.py\n__name__: area\n```",
      "metadata": {}
    },
    {
      "cell_type": "markdown",
      "source": "https://thepythonguru.com/what-is-if-__name__-__main__/  ",
      "metadata": {}
    }
  ]
}