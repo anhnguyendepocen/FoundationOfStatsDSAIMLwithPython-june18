{
  "cells": [
    {
      "metadata": {
        "toc": true
      },
      "cell_type": "markdown",
      "source": "<h1>Table of Contents<span class=\"tocSkip\"></span></h1>\n<div class=\"toc\"><ul class=\"toc-item\"><li><span><a href=\"#Pandas-Series\" data-toc-modified-id=\"Pandas-Series-1\"><span class=\"toc-item-num\">1&nbsp;&nbsp;</span>Pandas Series</a></span><ul class=\"toc-item\"><li><span><a href=\"#Creating-Series\" data-toc-modified-id=\"Creating-Series-1.1\"><span class=\"toc-item-num\">1.1&nbsp;&nbsp;</span>Creating Series</a></span></li><li><span><a href=\"#Indexing-and-slicing\" data-toc-modified-id=\"Indexing-and-slicing-1.2\"><span class=\"toc-item-num\">1.2&nbsp;&nbsp;</span>Indexing and slicing</a></span></li><li><span><a href=\"#Series-Methods-&amp;-Attributes\" data-toc-modified-id=\"Series-Methods-&amp;-Attributes-1.3\"><span class=\"toc-item-num\">1.3&nbsp;&nbsp;</span>Series Methods &amp; Attributes</a></span></li></ul></li><li><span><a href=\"#Pandas-DataFrames\" data-toc-modified-id=\"Pandas-DataFrames-2\"><span class=\"toc-item-num\">2&nbsp;&nbsp;</span>Pandas DataFrames</a></span></li><li><span><a href=\"#Important-Pands-Functions-(comparison--with-R)\" data-toc-modified-id=\"Important-Pands-Functions-(comparison--with-R)-3\"><span class=\"toc-item-num\">3&nbsp;&nbsp;</span>Important Pands Functions (comparison  with R)</a></span></li><li><span><a href=\"#Importing-Other-data-format-into-Python\" data-toc-modified-id=\"Importing-Other-data-format-into-Python-4\"><span class=\"toc-item-num\">4&nbsp;&nbsp;</span>Importing Other data format into Python</a></span></li><li><span><a href=\"#Adding-a-series-to-data-frames\" data-toc-modified-id=\"Adding-a-series-to-data-frames-5\"><span class=\"toc-item-num\">5&nbsp;&nbsp;</span>Adding a series to data frames</a></span></li><li><span><a href=\"#Loading,-Subsetting,-and-Filtering-Data-with-pandas\" data-toc-modified-id=\"Loading,-Subsetting,-and-Filtering-Data-with-pandas-6\"><span class=\"toc-item-num\">6&nbsp;&nbsp;</span>Loading, Subsetting, and Filtering Data with pandas</a></span></li></ul></div>"
    },
    {
      "metadata": {
        "scrolled": false,
        "trusted": true
      },
      "cell_type": "code",
      "source": "import numpy as np\nimport pandas as pd\nimport random",
      "execution_count": 2,
      "outputs": []
    },
    {
      "metadata": {
        "trusted": false
      },
      "cell_type": "code",
      "source": "data = pd.read_csv(\"data/income.csv\")",
      "execution_count": 2,
      "outputs": []
    },
    {
      "metadata": {
        "trusted": false
      },
      "cell_type": "code",
      "source": "data.info()",
      "execution_count": 6,
      "outputs": [
        {
          "name": "stdout",
          "output_type": "stream",
          "text": "<class 'pandas.core.frame.DataFrame'>\nRangeIndex: 51 entries, 0 to 50\nData columns (total 16 columns):\nIndex    51 non-null object\nState    51 non-null object\nY2002    51 non-null int64\nY2003    51 non-null int64\nY2004    51 non-null int64\nY2005    51 non-null int64\nY2006    51 non-null int64\nY2007    51 non-null int64\nY2008    51 non-null int64\nY2009    51 non-null int64\nY2010    51 non-null int64\nY2011    51 non-null int64\nY2012    51 non-null int64\nY2013    51 non-null int64\nY2014    51 non-null int64\nY2015    51 non-null int64\ndtypes: int64(14), object(2)\nmemory usage: 6.5+ KB\n"
        }
      ]
    },
    {
      "metadata": {
        "trusted": false
      },
      "cell_type": "code",
      "source": "data.columns",
      "execution_count": 7,
      "outputs": [
        {
          "data": {
            "text/plain": "Index(['Index', 'State', 'Y2002', 'Y2003', 'Y2004', 'Y2005', 'Y2006', 'Y2007',\n       'Y2008', 'Y2009', 'Y2010', 'Y2011', 'Y2012', 'Y2013', 'Y2014', 'Y2015'],\n      dtype='object')"
          },
          "execution_count": 7,
          "metadata": {},
          "output_type": "execute_result"
        }
      ]
    },
    {
      "metadata": {},
      "cell_type": "markdown",
      "source": "## Pandas Series"
    },
    {
      "metadata": {},
      "cell_type": "markdown",
      "source": "The Series is the primary building block of pandas. A Series represents a one-dimensional labeled indexed array based on the NumPy ndarray. Like an array, a Series can hold zero or more values of any single data type."
    },
    {
      "metadata": {},
      "cell_type": "markdown",
      "source": "* The Series object is basically interchangeable with a one-dimensional NumPy array. \n* The essential difference is the presence of the index: while the Numpy Array has an implicitly defined integer index used to access the values, the Pandas Series has an explicitly defined index associated with the values.\n\n* This explicit index definition gives the Series object additional capabilities. \n* For example, the index need not be an integer, but can consist of values of any desired type"
    },
    {
      "metadata": {},
      "cell_type": "markdown",
      "source": "* It is a m x 1 vector\n* m is the number of rows\n* 1 is the number of columns\n* Each column in DataFrame is known as a pandas series"
    },
    {
      "metadata": {},
      "cell_type": "markdown",
      "source": "### Creating Series"
    },
    {
      "metadata": {
        "trusted": false
      },
      "cell_type": "code",
      "source": "ser = pd.Series([1, 3, 5, 7])\nprint(ser)",
      "execution_count": 2,
      "outputs": [
        {
          "name": "stdout",
          "output_type": "stream",
          "text": "0    1\n1    3\n2    5\n3    7\ndtype: int64\n"
        }
      ]
    },
    {
      "metadata": {},
      "cell_type": "markdown",
      "source": "Use a Dict to Initialize Series"
    },
    {
      "metadata": {
        "scrolled": true,
        "trusted": false
      },
      "cell_type": "code",
      "source": "prices = {'apple': 4.99,\n'banana': 1.99,\n'orange': 3.99,\n'grapes': 0.99}\nser = pd.Series(prices)\nprint (ser)",
      "execution_count": 3,
      "outputs": [
        {
          "name": "stdout",
          "output_type": "stream",
          "text": "apple     4.99\nbanana    1.99\ngrapes    0.99\norange    3.99\ndtype: float64\n"
        }
      ]
    },
    {
      "metadata": {},
      "cell_type": "markdown",
      "source": " Initialize Series from Scalar"
    },
    {
      "metadata": {
        "scrolled": false,
        "trusted": false
      },
      "cell_type": "code",
      "source": "ser = pd.Series(2, index=range(0, 5))\nprint(ser)",
      "execution_count": 4,
      "outputs": [
        {
          "name": "stdout",
          "output_type": "stream",
          "text": "0    2\n1    2\n2    2\n3    2\n4    2\ndtype: int64\n"
        }
      ]
    },
    {
      "metadata": {},
      "cell_type": "markdown",
      "source": "A Series of Odd Numbers"
    },
    {
      "metadata": {
        "scrolled": true,
        "trusted": false
      },
      "cell_type": "code",
      "source": "print (pd.Series(range(1, 10, 2)))\n",
      "execution_count": 6,
      "outputs": [
        {
          "name": "stdout",
          "output_type": "stream",
          "text": "0    1\n1    3\n2    5\n3    7\n4    9\ndtype: int64\n"
        }
      ]
    },
    {
      "metadata": {},
      "cell_type": "markdown",
      "source": "With an Alphabetic Index"
    },
    {
      "metadata": {
        "scrolled": false,
        "trusted": false
      },
      "cell_type": "code",
      "source": "print (pd.Series(range(1,8), index=[x for x in 'abcdefg']))",
      "execution_count": 14,
      "outputs": [
        {
          "name": "stdout",
          "output_type": "stream",
          "text": "a    1\nb    2\nc    3\nd    4\ne    5\nf    6\ng    7\ndtype: int64\n"
        }
      ]
    },
    {
      "metadata": {
        "trusted": false
      },
      "cell_type": "code",
      "source": "print (pd.Series(range(1, 15, 3), index=[x for x in 'abcde']))",
      "execution_count": 7,
      "outputs": [
        {
          "name": "stdout",
          "output_type": "stream",
          "text": "a     1\nb     4\nc     7\nd    10\ne    13\ndtype: int64\n"
        }
      ]
    },
    {
      "metadata": {},
      "cell_type": "markdown",
      "source": "A Series With Random Numbers"
    },
    {
      "metadata": {
        "scrolled": true,
        "trusted": false
      },
      "cell_type": "code",
      "source": "import random\nprint(pd.Series(random.sample(range(100), 6)))",
      "execution_count": 11,
      "outputs": [
        {
          "name": "stdout",
          "output_type": "stream",
          "text": "0    75\n1    45\n2    96\n3    82\n4    74\n5    34\ndtype: int64\n"
        }
      ]
    },
    {
      "metadata": {},
      "cell_type": "markdown",
      "source": "Combining Lists"
    },
    {
      "metadata": {
        "scrolled": true,
        "trusted": false
      },
      "cell_type": "code",
      "source": "x = dict(zip([x for x in 'abcdefg'], range(1, 8)))\nprint (x)\ny = pd.Series(x)\nprint (y)",
      "execution_count": 13,
      "outputs": [
        {
          "name": "stdout",
          "output_type": "stream",
          "text": "{'a': 1, 'b': 2, 'c': 3, 'd': 4, 'e': 5, 'f': 6, 'g': 7}\na    1\nb    2\nc    3\nd    4\ne    5\nf    6\ng    7\ndtype: int64\n"
        }
      ]
    },
    {
      "metadata": {},
      "cell_type": "markdown",
      "source": "Specifying an Index"
    },
    {
      "metadata": {},
      "cell_type": "markdown",
      "source": "Naming a Series"
    },
    {
      "metadata": {
        "scrolled": false,
        "trusted": false
      },
      "cell_type": "code",
      "source": "a = [1, 3, 5, 7]\nprint (pd.Series(a, name='joe'))",
      "execution_count": 16,
      "outputs": [
        {
          "name": "stdout",
          "output_type": "stream",
          "text": "0    1\n1    3\n2    5\n3    7\nName: joe, dtype: int64\n"
        }
      ]
    },
    {
      "metadata": {},
      "cell_type": "markdown",
      "source": " Comparing List with Series"
    },
    {
      "metadata": {},
      "cell_type": "markdown",
      "source": "### Indexing and slicing"
    },
    {
      "metadata": {
        "trusted": true
      },
      "cell_type": "code",
      "source": "ser = pd.Series(random.sample(range(100), 10), [x for x in 'abcdefghij'])\nprint (ser)",
      "execution_count": 22,
      "outputs": [
        {
          "output_type": "stream",
          "text": "a    79\nb    87\nc    22\nd    61\ne    92\nf    47\ng    84\nh     7\ni    86\nj    14\ndtype: int64\n",
          "name": "stdout"
        }
      ]
    },
    {
      "metadata": {},
      "cell_type": "markdown",
      "source": "**single value: positive indexing**"
    },
    {
      "metadata": {
        "run_control": {
          "marked": false
        },
        "trusted": true
      },
      "cell_type": "code",
      "source": "print(ser[0])\nprint(ser[5])",
      "execution_count": 11,
      "outputs": [
        {
          "output_type": "stream",
          "text": "95\n6\n",
          "name": "stdout"
        }
      ]
    },
    {
      "metadata": {},
      "cell_type": "markdown",
      "source": "**slicing**"
    },
    {
      "metadata": {
        "trusted": true
      },
      "cell_type": "code",
      "source": "print(ser[:]) # printing total series ",
      "execution_count": 13,
      "outputs": [
        {
          "output_type": "stream",
          "text": "0    95\n1    90\n2    68\n3    94\n4    80\n5     6\n6    91\n7    44\n8    99\n9    36\ndtype: int64\n",
          "name": "stdout"
        }
      ]
    },
    {
      "metadata": {
        "trusted": true
      },
      "cell_type": "code",
      "source": "print(ser[2:])\nprint(ser[:5])",
      "execution_count": 15,
      "outputs": [
        {
          "output_type": "stream",
          "text": "2    68\n3    94\n4    80\n5     6\n6    91\n7    44\n8    99\n9    36\ndtype: int64\n0    95\n1    90\n2    68\n3    94\n4    80\ndtype: int64\n",
          "name": "stdout"
        }
      ]
    },
    {
      "metadata": {
        "trusted": true,
        "scrolled": true
      },
      "cell_type": "code",
      "source": "print(ser[2:5])\nprint(ser[3:5])",
      "execution_count": 16,
      "outputs": [
        {
          "output_type": "stream",
          "text": "2    68\n3    94\n4    80\ndtype: int64\n3    94\n4    80\ndtype: int64\n",
          "name": "stdout"
        }
      ]
    },
    {
      "metadata": {
        "trusted": true,
        "scrolled": true
      },
      "cell_type": "code",
      "source": "print(ser[-6:-2])\nprint(ser[-5:-1])",
      "execution_count": 19,
      "outputs": [
        {
          "output_type": "stream",
          "text": "4    80\n5     6\n6    91\n7    44\ndtype: int64\n5     6\n6    91\n7    44\n8    99\ndtype: int64\n",
          "name": "stdout"
        }
      ]
    },
    {
      "metadata": {},
      "cell_type": "markdown",
      "source": "**Using `iloc[]` and `loc[]`**"
    },
    {
      "metadata": {},
      "cell_type": "markdown",
      "source": "**single value: negative indexing**"
    },
    {
      "metadata": {
        "trusted": true
      },
      "cell_type": "code",
      "source": "print(ser.iloc[1])\nprint(ser.iloc[3])",
      "execution_count": 23,
      "outputs": [
        {
          "output_type": "stream",
          "text": "87\n61\n",
          "name": "stdout"
        }
      ]
    },
    {
      "metadata": {
        "trusted": true
      },
      "cell_type": "code",
      "source": "print(ser.iloc[-1])\nprint(ser.iloc[-3])",
      "execution_count": 25,
      "outputs": [
        {
          "output_type": "stream",
          "text": "14\n7\n",
          "name": "stdout"
        }
      ]
    },
    {
      "metadata": {
        "trusted": true
      },
      "cell_type": "code",
      "source": "print(ser.iloc[1:4])\nprint(ser.iloc[3:6])",
      "execution_count": 26,
      "outputs": [
        {
          "output_type": "stream",
          "text": "b    87\nc    22\nd    61\ndtype: int64\nd    61\ne    92\nf    47\ndtype: int64\n",
          "name": "stdout"
        }
      ]
    },
    {
      "metadata": {
        "trusted": true
      },
      "cell_type": "code",
      "source": "print(ser.loc['a'])\nprint(ser.loc['d'])",
      "execution_count": 27,
      "outputs": [
        {
          "output_type": "stream",
          "text": "79\n61\n",
          "name": "stdout"
        }
      ]
    },
    {
      "metadata": {
        "trusted": true,
        "scrolled": true
      },
      "cell_type": "code",
      "source": "print(ser.loc['a':'e'])\nprint(ser.loc['d':'i'])",
      "execution_count": 28,
      "outputs": [
        {
          "output_type": "stream",
          "text": "a    79\nb    87\nc    22\nd    61\ne    92\ndtype: int64\nd    61\ne    92\nf    47\ng    84\nh     7\ni    86\ndtype: int64\n",
          "name": "stdout"
        }
      ]
    },
    {
      "metadata": {
        "trusted": true
      },
      "cell_type": "code",
      "source": "",
      "execution_count": null,
      "outputs": []
    },
    {
      "metadata": {},
      "cell_type": "markdown",
      "source": "\n### Series Methods & Attributes"
    },
    {
      "metadata": {
        "trusted": false
      },
      "cell_type": "code",
      "source": "a = pd.Series(random.sample(range(100), 6))\nprint (a.shape)\n# check how big the Series is using shape , which returns as a tuple ",
      "execution_count": 5,
      "outputs": [
        {
          "name": "stdout",
          "output_type": "stream",
          "text": "(6,)\n"
        }
      ]
    },
    {
      "metadata": {
        "trusted": false
      },
      "cell_type": "code",
      "source": "print (a.count()) # which returns the size of the Series as an integer ",
      "execution_count": 6,
      "outputs": [
        {
          "name": "stdout",
          "output_type": "stream",
          "text": "6\n"
        }
      ]
    },
    {
      "metadata": {},
      "cell_type": "markdown",
      "source": "**`count()` only reports the number of non-NaN elements, while shape reports both.**\nAnother attribute for getting the count of elements is `size` . It reports the count as an integer and includes NaN elements if any."
    },
    {
      "metadata": {
        "scrolled": true,
        "trusted": false
      },
      "cell_type": "code",
      "source": "a = pd.Series(random.sample(range(100), 6))\nprint(a)\nprint ('count of a =>', a.count(), '\\n')\nb = a.append(pd.Series(np.nan, index=list('abcd')), ignore_index=True)\nprint ('b => ', b, '\\n')\nprint ('count of b =>', b.count(), '\\n')\nprint ('shape of b =>', b.shape, '\\n')\nprint ('size of b =>', b.size)",
      "execution_count": 9,
      "outputs": [
        {
          "name": "stdout",
          "output_type": "stream",
          "text": "count of a => 6 \n\nb =>  0    14.0\n1    72.0\n2    79.0\n3     0.0\n4    83.0\n5    30.0\n6     NaN\n7     NaN\n8     NaN\n9     NaN\ndtype: float64 \n\ncount of b => 6 \n\nshape of b => (10,) \n\nsize of b => 10\n"
        }
      ]
    },
    {
      "metadata": {},
      "cell_type": "markdown",
      "source": "**Get some detailed stats on the Series using `describe()` . This method returns a Series object with the index (or labels) as shown.**\n\n"
    },
    {
      "metadata": {
        "scrolled": true,
        "trusted": false
      },
      "cell_type": "code",
      "source": "x = pd.Series(random.sample(range(100), 6))\nx.describe()",
      "execution_count": 10,
      "outputs": [
        {
          "data": {
            "text/plain": "count     6.000000\nmean     74.333333\nstd      22.303961\nmin      47.000000\n25%      56.250000\n50%      75.000000\n75%      93.750000\nmax      99.000000\ndtype: float64"
          },
          "execution_count": 10,
          "metadata": {},
          "output_type": "execute_result"
        }
      ]
    },
    {
      "metadata": {},
      "cell_type": "markdown",
      "source": "**Show the first 5 or last 5 rows of the Series using `head()` or `tail()`**"
    },
    {
      "metadata": {
        "scrolled": true,
        "trusted": false
      },
      "cell_type": "code",
      "source": "x = pd.Series(random.sample(range(100), 10))\nprint (x, '\\n')\nprint (x.head(), '\\n')\nprint (x.tail(), '\\n')",
      "execution_count": 12,
      "outputs": [
        {
          "name": "stdout",
          "output_type": "stream",
          "text": "0    78\n1    28\n2     9\n3    79\n4    85\n5    73\n6    83\n7    66\n8    44\n9    36\ndtype: int64 \n\n0    78\n1    28\n2     9\n3    79\n4    85\ndtype: int64 \n\n5    73\n6    83\n7    66\n8    44\n9    36\ndtype: int64 \n\n"
        }
      ]
    },
    {
      "metadata": {},
      "cell_type": "markdown",
      "source": "**Adding elements to a Series is accomplished by using `append()` . The argument must be a single Series object, or a list (or tuple) of Series objects.**\n"
    },
    {
      "metadata": {
        "scrolled": true,
        "trusted": false
      },
      "cell_type": "raw",
      "source": "x = pd.Series(random.sample(range(100), 6))\nprint (x, '\\n')\nprint ('appended =>\\n', x.append([pd.Series(2), pd.Series([3, 4, 5])]))"
    },
    {
      "metadata": {},
      "cell_type": "raw",
      "source": "You might notice the oddball labels after appending. Each Series is appended with a\ndefault index starting from 0, regardless of whether this creates duplicate labels. One way\nto fix this is to specify ignore_index=True to ensure re-labeling."
    },
    {
      "metadata": {},
      "cell_type": "markdown",
      "source": ""
    },
    {
      "metadata": {
        "scrolled": true,
        "trusted": false
      },
      "cell_type": "raw",
      "source": "print ('appended =>\\n', x.append([pd.Series(2), pd.Series([3, 4, 5])],\nignore_index=True))\n"
    },
    {
      "metadata": {},
      "cell_type": "markdown",
      "source": "**You can delete elements from a Series using the following methods.**"
    },
    {
      "metadata": {
        "scrolled": true,
        "trusted": false
      },
      "cell_type": "code",
      "source": "x = pd.Series(random.sample(range(100), 6), index=list('ABCDEF'))\nprint (x, '\\n')\nprint ('drop one =>\\n', x.drop('C'), '\\n')\nprint ('drop many =>\\n', x.drop(['C', 'D']))",
      "execution_count": 16,
      "outputs": [
        {
          "name": "stdout",
          "output_type": "stream",
          "text": "A    52\nB    19\nC     8\nD    85\nE    21\nF    90\ndtype: int64 \n\ndrop one =>\n A    52\nB    19\nD    85\nE    21\nF    90\ndtype: int64 \n\ndrop many =>\n A    52\nB    19\nE    21\nF    90\ndtype: int64\n"
        }
      ]
    },
    {
      "metadata": {},
      "cell_type": "markdown",
      "source": "**Get rid of duplicate elements by invoking `drop_duplicates()`**"
    },
    {
      "metadata": {
        "scrolled": true,
        "trusted": false
      },
      "cell_type": "code",
      "source": "x = pd.Series([1, 2, 2, 4, 5, 7, 3, 4])\nprint (x, '\\n')\nprint ('drop duplicates =>\\n', x.drop_duplicates(), '\\n')",
      "execution_count": 17,
      "outputs": [
        {
          "name": "stdout",
          "output_type": "stream",
          "text": "0    1\n1    2\n2    2\n3    4\n4    5\n5    7\n6    3\n7    4\ndtype: int64 \n\ndrop duplicates =>\n 0    1\n1    2\n3    4\n4    5\n5    7\n6    3\ndtype: int64 \n\n"
        }
      ]
    },
    {
      "metadata": {},
      "cell_type": "markdown",
      "source": "By default, the method retains the first repeated value. Get rid of all duplicates (including\nthe first) by specifying `keep=False` ."
    },
    {
      "metadata": {
        "scrolled": true,
        "trusted": false
      },
      "cell_type": "code",
      "source": "x = pd.Series([1, 2, 2, 4, 5, 7, 3, 4])\nprint (x, '\\n')\nprint ('drop duplicates =>\\n', x.drop_duplicates(keep=False), '\\n')",
      "execution_count": 18,
      "outputs": [
        {
          "name": "stdout",
          "output_type": "stream",
          "text": "0    1\n1    2\n2    2\n3    4\n4    5\n5    7\n6    3\n7    4\ndtype: int64 \n\ndrop duplicates =>\n 0    1\n4    5\n5    7\n6    3\ndtype: int64 \n\n"
        }
      ]
    },
    {
      "metadata": {},
      "cell_type": "markdown",
      "source": "**Use the `dropna()` to drop elements without a value (NaN).**\n"
    },
    {
      "metadata": {
        "scrolled": true,
        "trusted": false
      },
      "cell_type": "code",
      "source": "x = pd.Series([1, 2, 3, 4, np.nan, 5, 6])\nprint (x, '\\n')\nprint ('drop na =>\\n', x.dropna())",
      "execution_count": 19,
      "outputs": [
        {
          "name": "stdout",
          "output_type": "stream",
          "text": "0    1.0\n1    2.0\n2    3.0\n3    4.0\n4    NaN\n5    5.0\n6    6.0\ndtype: float64 \n\ndrop na =>\n 0    1.0\n1    2.0\n2    3.0\n3    4.0\n5    5.0\n6    6.0\ndtype: float64\n"
        }
      ]
    },
    {
      "metadata": {},
      "cell_type": "markdown",
      "source": "**When you want to replace NaN elements in a Series, use `fillna()` .**"
    },
    {
      "metadata": {
        "scrolled": true,
        "trusted": false
      },
      "cell_type": "code",
      "source": "x = pd.Series([1, 2, 3, 4, np.nan, 5, 6])\nprint (x, '\\n')\nprint ('fillna w/0 =>\\n', x.fillna(0))",
      "execution_count": 20,
      "outputs": [
        {
          "name": "stdout",
          "output_type": "stream",
          "text": "0    1.0\n1    2.0\n2    3.0\n3    4.0\n4    NaN\n5    5.0\n6    6.0\ndtype: float64 \n\nfillna w/0 =>\n 0    1.0\n1    2.0\n2    3.0\n3    4.0\n4    0.0\n5    5.0\n6    6.0\ndtype: float64\n"
        }
      ]
    },
    {
      "metadata": {},
      "cell_type": "markdown",
      "source": "**Use the `between()` method, which returns a Series of boolean values indicating whether\nthe element lies within the range**"
    },
    {
      "metadata": {
        "scrolled": true,
        "trusted": false
      },
      "cell_type": "code",
      "source": "a = pd.Series(random.sample(range(100), 10))\nprint (a)\nprint (a.between(30, 50))\n",
      "execution_count": 21,
      "outputs": [
        {
          "name": "stdout",
          "output_type": "stream",
          "text": "0    33\n1    26\n2    99\n3    87\n4    52\n5    29\n6    90\n7    75\n8    31\n9    32\ndtype: int64\n0     True\n1    False\n2    False\n3    False\n4    False\n5    False\n6    False\n7    False\n8     True\n9     True\ndtype: bool\n"
        }
      ]
    },
    {
      "metadata": {
        "scrolled": true,
        "trusted": false
      },
      "cell_type": "code",
      "source": "# You can use this the returned boolean Series as a predicate into the original Series.\nprint (a[a.between(30, 50)])",
      "execution_count": 22,
      "outputs": [
        {
          "name": "stdout",
          "output_type": "stream",
          "text": "0    33\n8    31\n9    32\ndtype: int64\n"
        }
      ]
    },
    {
      "metadata": {},
      "cell_type": "markdown",
      "source": "**Select elements using a predicate function as the argument to `select()` .**\n"
    },
    {
      "metadata": {
        "scrolled": true,
        "trusted": false
      },
      "cell_type": "code",
      "source": "x = pd.Series(random.sample(range(100), 6))\nprint (x, '\\n')\nprint ('select func =>\\n', x.select(lambda a: x.iloc[a] > 20))",
      "execution_count": 23,
      "outputs": [
        {
          "name": "stdout",
          "output_type": "stream",
          "text": "0    25\n1    60\n2    72\n3     2\n4    34\n5     0\ndtype: int64 \n\nselect func =>\n 0    25\n1    60\n2    72\n4    34\ndtype: int64\n"
        }
      ]
    },
    {
      "metadata": {},
      "cell_type": "markdown",
      "source": "**Use `filter(items=[..])` with the labels to be selected in a list.**"
    },
    {
      "metadata": {
        "scrolled": true,
        "trusted": false
      },
      "cell_type": "code",
      "source": "x = pd.Series([1, 2, 3, 4, np.nan, 5, 6])\nprint (x, '\\n')\nprint ('filtered =>\\n', x.filter(items=[1, 2, 6]))",
      "execution_count": 24,
      "outputs": [
        {
          "name": "stdout",
          "output_type": "stream",
          "text": "0    1.0\n1    2.0\n2    3.0\n3    4.0\n4    NaN\n5    5.0\n6    6.0\ndtype: float64 \n\nfiltered =>\n 1    2.0\n2    3.0\n6    6.0\ndtype: float64\n"
        }
      ]
    },
    {
      "metadata": {},
      "cell_type": "markdown",
      "source": "**Select labels to filter using a regular expression match with `filter(regex=’..’)` .**"
    },
    {
      "metadata": {
        "scrolled": true,
        "trusted": false
      },
      "cell_type": "code",
      "source": "x = pd.Series({'apple': 1.99,\n'orange': 2.49,\n'banana': 0.99,\n'grapes': 1.49,\n'melon': 3.99})\nprint (x, '\\n')\nprint ('regex filter =>\\n', x.filter(regex='a'))",
      "execution_count": 25,
      "outputs": [
        {
          "name": "stdout",
          "output_type": "stream",
          "text": "apple     1.99\nbanana    0.99\ngrapes    1.49\nmelon     3.99\norange    2.49\ndtype: float64 \n\nregex filter =>\n apple     1.99\nbanana    0.99\ngrapes    1.49\norange    2.49\ndtype: float64\n"
        }
      ]
    },
    {
      "metadata": {},
      "cell_type": "markdown",
      "source": "**Use the `filter(like=’..’)` version to perform a substring match on the labels to be selected.**\n\n"
    },
    {
      "metadata": {
        "scrolled": true,
        "trusted": false
      },
      "cell_type": "code",
      "source": "print ('like filter =>\\n', x.filter(like='an'))",
      "execution_count": 35,
      "outputs": [
        {
          "name": "stdout",
          "output_type": "stream",
          "text": "like filter =>\n banana    0.99\norange    2.49\ndtype: float64\n"
        }
      ]
    },
    {
      "metadata": {},
      "cell_type": "markdown",
      "source": "**you can sort a Series by value.**\n**Use `sort_values()` to sort by the values.**"
    },
    {
      "metadata": {
        "scrolled": true,
        "trusted": false
      },
      "cell_type": "code",
      "source": "print (x, '\\n')\nprint ('sort by value: =>\\n', x.sort_values())",
      "execution_count": 39,
      "outputs": [
        {
          "name": "stdout",
          "output_type": "stream",
          "text": "apple     1.99\nbanana    0.99\ngrapes    1.49\nmelon     3.99\norange    2.49\ndtype: float64 \n\nsort by value: =>\n banana    0.99\ngrapes    1.49\napple     1.99\norange    2.49\nmelon     3.99\ndtype: float64\n"
        }
      ]
    },
    {
      "metadata": {},
      "cell_type": "markdown",
      "source": "## Pandas DataFrames"
    },
    {
      "metadata": {},
      "cell_type": "markdown",
      "source": "## Important Pands Functions (comparison  with R)"
    },
    {
      "metadata": {},
      "cell_type": "markdown",
      "source": "![Imgur](https://i.imgur.com/Wsh9hfp.png)\n<sub>source: <a href=\"https://www.listendata.com/2017/05/python-data-science.html#pandas_functions\" target=\"_blank\">https://www.listendata.com/2017/05/python-data-science.html#pandas_functions</a></sub>  \n"
    },
    {
      "metadata": {},
      "cell_type": "markdown",
      "source": "## Importing Other data format into Python"
    },
    {
      "metadata": {},
      "cell_type": "markdown",
      "source": "https://www.listendata.com/2017/02/import-data-in-python.html"
    },
    {
      "metadata": {},
      "cell_type": "markdown",
      "source": "**Importing Data in Python Cheat Sheet:**  \nhttps://s3.amazonaws.com/assets.datacamp.com/blog_assets/Cheat+Sheets/Importing_Data_Python_Cheat_Sheet.pdf  "
    },
    {
      "metadata": {
        "trusted": true
      },
      "cell_type": "code",
      "source": "mydata3 = pd.read_excel(\"https://www.eia.gov/dnav/pet/hist_xls/RBRTEd.xls\",sheetname=\"Data 1\", skiprows=2)",
      "execution_count": 4,
      "outputs": [
        {
          "output_type": "stream",
          "text": "/home/nbuser/anaconda3_501/lib/python3.6/site-packages/pandas/util/_decorators.py:118: FutureWarning: The `sheetname` keyword is deprecated, use `sheet_name` instead\n  return func(*args, **kwargs)\n",
          "name": "stderr"
        }
      ]
    },
    {
      "metadata": {
        "trusted": true
      },
      "cell_type": "code",
      "source": "mydata3.shape",
      "execution_count": 4,
      "outputs": [
        {
          "output_type": "execute_result",
          "execution_count": 4,
          "data": {
            "text/plain": "(7952, 2)"
          },
          "metadata": {}
        }
      ]
    },
    {
      "metadata": {
        "scrolled": false,
        "trusted": true
      },
      "cell_type": "code",
      "source": "mydata3.head()",
      "execution_count": 5,
      "outputs": [
        {
          "output_type": "execute_result",
          "execution_count": 5,
          "data": {
            "text/html": "<div>\n<style>\n    .dataframe thead tr:only-child th {\n        text-align: right;\n    }\n\n    .dataframe thead th {\n        text-align: left;\n    }\n\n    .dataframe tbody tr th {\n        vertical-align: top;\n    }\n</style>\n<table border=\"1\" class=\"dataframe\">\n  <thead>\n    <tr style=\"text-align: right;\">\n      <th></th>\n      <th>Date</th>\n      <th>Europe Brent Spot Price FOB (Dollars per Barrel)</th>\n    </tr>\n  </thead>\n  <tbody>\n    <tr>\n      <th>0</th>\n      <td>1987-05-20</td>\n      <td>18.63</td>\n    </tr>\n    <tr>\n      <th>1</th>\n      <td>1987-05-21</td>\n      <td>18.45</td>\n    </tr>\n    <tr>\n      <th>2</th>\n      <td>1987-05-22</td>\n      <td>18.55</td>\n    </tr>\n    <tr>\n      <th>3</th>\n      <td>1987-05-25</td>\n      <td>18.60</td>\n    </tr>\n    <tr>\n      <th>4</th>\n      <td>1987-05-26</td>\n      <td>18.63</td>\n    </tr>\n  </tbody>\n</table>\n</div>",
            "text/plain": "        Date  Europe Brent Spot Price FOB (Dollars per Barrel)\n0 1987-05-20                                             18.63\n1 1987-05-21                                             18.45\n2 1987-05-22                                             18.55\n3 1987-05-25                                             18.60\n4 1987-05-26                                             18.63"
          },
          "metadata": {}
        }
      ]
    },
    {
      "metadata": {
        "scrolled": true,
        "trusted": false
      },
      "cell_type": "code",
      "source": "mydata3.dtypes",
      "execution_count": 23,
      "outputs": [
        {
          "data": {
            "text/plain": "Date                                                datetime64[ns]\nEurope Brent Spot Price FOB (Dollars per Barrel)           float64\ndtype: object"
          },
          "execution_count": 23,
          "metadata": {},
          "output_type": "execute_result"
        }
      ]
    },
    {
      "metadata": {},
      "cell_type": "markdown",
      "source": "***`dtypes`* attrivute and *`astype()`* method with another example**"
    },
    {
      "metadata": {},
      "cell_type": "markdown",
      "source": "https://pbpython.com/pandas_dtypes.html  "
    },
    {
      "metadata": {},
      "cell_type": "markdown",
      "source": "**Handling with Categorical Data **  \nhttp://benalexkeen.com/mapping-categorical-data-in-pandas/  \n**timedelta object for time duration to estimate the time for both future and the past**  \nhttps://www.journaldev.com/23334/python-timedelta  "
    },
    {
      "metadata": {
        "scrolled": true,
        "trusted": false
      },
      "cell_type": "code",
      "source": "mydata3['Europe Brent Spot Price FOB (Dollars per Barrel)'].max()\nmydata3['Europe Brent Spot Price FOB (Dollars per Barrel)'].min()\n",
      "execution_count": 25,
      "outputs": [
        {
          "data": {
            "text/plain": "9.1"
          },
          "execution_count": 25,
          "metadata": {},
          "output_type": "execute_result"
        }
      ]
    },
    {
      "metadata": {
        "trusted": false
      },
      "cell_type": "code",
      "source": "mydata3.describe()",
      "execution_count": 26,
      "outputs": [
        {
          "data": {
            "text/html": "<div>\n<style>\n    .dataframe thead tr:only-child th {\n        text-align: right;\n    }\n\n    .dataframe thead th {\n        text-align: left;\n    }\n\n    .dataframe tbody tr th {\n        vertical-align: top;\n    }\n</style>\n<table border=\"1\" class=\"dataframe\">\n  <thead>\n    <tr style=\"text-align: right;\">\n      <th></th>\n      <th>Europe Brent Spot Price FOB (Dollars per Barrel)</th>\n    </tr>\n  </thead>\n  <tbody>\n    <tr>\n      <th>count</th>\n      <td>7903.000000</td>\n    </tr>\n    <tr>\n      <th>mean</th>\n      <td>45.498118</td>\n    </tr>\n    <tr>\n      <th>std</th>\n      <td>33.038214</td>\n    </tr>\n    <tr>\n      <th>min</th>\n      <td>9.100000</td>\n    </tr>\n    <tr>\n      <th>25%</th>\n      <td>18.600000</td>\n    </tr>\n    <tr>\n      <th>50%</th>\n      <td>29.620000</td>\n    </tr>\n    <tr>\n      <th>75%</th>\n      <td>65.945000</td>\n    </tr>\n    <tr>\n      <th>max</th>\n      <td>143.950000</td>\n    </tr>\n  </tbody>\n</table>\n</div>",
            "text/plain": "       Europe Brent Spot Price FOB (Dollars per Barrel)\ncount                                       7903.000000\nmean                                          45.498118\nstd                                           33.038214\nmin                                            9.100000\n25%                                           18.600000\n50%                                           29.620000\n75%                                           65.945000\nmax                                          143.950000"
          },
          "execution_count": 26,
          "metadata": {},
          "output_type": "execute_result"
        }
      ]
    },
    {
      "metadata": {
        "trusted": true
      },
      "cell_type": "code",
      "source": "mydata3.describe(include='all')",
      "execution_count": 5,
      "outputs": [
        {
          "output_type": "execute_result",
          "execution_count": 5,
          "data": {
            "text/html": "<div>\n<style scoped>\n    .dataframe tbody tr th:only-of-type {\n        vertical-align: middle;\n    }\n\n    .dataframe tbody tr th {\n        vertical-align: top;\n    }\n\n    .dataframe thead th {\n        text-align: right;\n    }\n</style>\n<table border=\"1\" class=\"dataframe\">\n  <thead>\n    <tr style=\"text-align: right;\">\n      <th></th>\n      <th>Date</th>\n      <th>Europe Brent Spot Price FOB (Dollars per Barrel)</th>\n    </tr>\n  </thead>\n  <tbody>\n    <tr>\n      <th>count</th>\n      <td>8043</td>\n      <td>8043.000000</td>\n    </tr>\n    <tr>\n      <th>unique</th>\n      <td>8043</td>\n      <td>NaN</td>\n    </tr>\n    <tr>\n      <th>top</th>\n      <td>1989-12-27 00:00:00</td>\n      <td>NaN</td>\n    </tr>\n    <tr>\n      <th>freq</th>\n      <td>1</td>\n      <td>NaN</td>\n    </tr>\n    <tr>\n      <th>first</th>\n      <td>1987-05-20 00:00:00</td>\n      <td>NaN</td>\n    </tr>\n    <tr>\n      <th>last</th>\n      <td>2019-01-28 00:00:00</td>\n      <td>NaN</td>\n    </tr>\n    <tr>\n      <th>mean</th>\n      <td>NaN</td>\n      <td>45.925340</td>\n    </tr>\n    <tr>\n      <th>std</th>\n      <td>NaN</td>\n      <td>32.928494</td>\n    </tr>\n    <tr>\n      <th>min</th>\n      <td>NaN</td>\n      <td>9.100000</td>\n    </tr>\n    <tr>\n      <th>25%</th>\n      <td>NaN</td>\n      <td>18.650000</td>\n    </tr>\n    <tr>\n      <th>50%</th>\n      <td>NaN</td>\n      <td>30.260000</td>\n    </tr>\n    <tr>\n      <th>75%</th>\n      <td>NaN</td>\n      <td>67.245000</td>\n    </tr>\n    <tr>\n      <th>max</th>\n      <td>NaN</td>\n      <td>143.950000</td>\n    </tr>\n  </tbody>\n</table>\n</div>",
            "text/plain": "                       Date  Europe Brent Spot Price FOB (Dollars per Barrel)\ncount                  8043                                       8043.000000\nunique                 8043                                               NaN\ntop     1989-12-27 00:00:00                                               NaN\nfreq                      1                                               NaN\nfirst   1987-05-20 00:00:00                                               NaN\nlast    2019-01-28 00:00:00                                               NaN\nmean                    NaN                                         45.925340\nstd                     NaN                                         32.928494\nmin                     NaN                                          9.100000\n25%                     NaN                                         18.650000\n50%                     NaN                                         30.260000\n75%                     NaN                                         67.245000\nmax                     NaN                                        143.950000"
          },
          "metadata": {}
        }
      ]
    },
    {
      "metadata": {},
      "cell_type": "markdown",
      "source": "**Exporting data(dataframe) into local drive**"
    },
    {
      "metadata": {
        "trusted": false
      },
      "cell_type": "code",
      "source": "mydata3.to_csv(\"data/mydata3.csv\") # export the dataframe as csv file",
      "execution_count": 27,
      "outputs": []
    },
    {
      "metadata": {},
      "cell_type": "markdown",
      "source": "## Adding a series to data frames"
    },
    {
      "metadata": {
        "trusted": true
      },
      "cell_type": "code",
      "source": "ser = pd.Series([\"one\", \"two\", \"three\"], index =[0,4, 6])\nmydata3[\"ser\"] = ser\nmydata3.head(15)",
      "execution_count": 8,
      "outputs": [
        {
          "output_type": "execute_result",
          "execution_count": 8,
          "data": {
            "text/html": "<div>\n<style>\n    .dataframe thead tr:only-child th {\n        text-align: right;\n    }\n\n    .dataframe thead th {\n        text-align: left;\n    }\n\n    .dataframe tbody tr th {\n        vertical-align: top;\n    }\n</style>\n<table border=\"1\" class=\"dataframe\">\n  <thead>\n    <tr style=\"text-align: right;\">\n      <th></th>\n      <th>Date</th>\n      <th>Europe Brent Spot Price FOB (Dollars per Barrel)</th>\n      <th>ser</th>\n    </tr>\n  </thead>\n  <tbody>\n    <tr>\n      <th>0</th>\n      <td>1987-05-20</td>\n      <td>18.63</td>\n      <td>one</td>\n    </tr>\n    <tr>\n      <th>1</th>\n      <td>1987-05-21</td>\n      <td>18.45</td>\n      <td>NaN</td>\n    </tr>\n    <tr>\n      <th>2</th>\n      <td>1987-05-22</td>\n      <td>18.55</td>\n      <td>NaN</td>\n    </tr>\n    <tr>\n      <th>3</th>\n      <td>1987-05-25</td>\n      <td>18.60</td>\n      <td>NaN</td>\n    </tr>\n    <tr>\n      <th>4</th>\n      <td>1987-05-26</td>\n      <td>18.63</td>\n      <td>two</td>\n    </tr>\n    <tr>\n      <th>5</th>\n      <td>1987-05-27</td>\n      <td>18.60</td>\n      <td>NaN</td>\n    </tr>\n    <tr>\n      <th>6</th>\n      <td>1987-05-28</td>\n      <td>18.60</td>\n      <td>three</td>\n    </tr>\n    <tr>\n      <th>7</th>\n      <td>1987-05-29</td>\n      <td>18.58</td>\n      <td>NaN</td>\n    </tr>\n    <tr>\n      <th>8</th>\n      <td>1987-06-01</td>\n      <td>18.65</td>\n      <td>NaN</td>\n    </tr>\n    <tr>\n      <th>9</th>\n      <td>1987-06-02</td>\n      <td>18.68</td>\n      <td>NaN</td>\n    </tr>\n    <tr>\n      <th>10</th>\n      <td>1987-06-03</td>\n      <td>18.75</td>\n      <td>NaN</td>\n    </tr>\n    <tr>\n      <th>11</th>\n      <td>1987-06-04</td>\n      <td>18.78</td>\n      <td>NaN</td>\n    </tr>\n    <tr>\n      <th>12</th>\n      <td>1987-06-05</td>\n      <td>18.65</td>\n      <td>NaN</td>\n    </tr>\n    <tr>\n      <th>13</th>\n      <td>1987-06-08</td>\n      <td>18.75</td>\n      <td>NaN</td>\n    </tr>\n    <tr>\n      <th>14</th>\n      <td>1987-06-09</td>\n      <td>18.78</td>\n      <td>NaN</td>\n    </tr>\n  </tbody>\n</table>\n</div>",
            "text/plain": "         Date  Europe Brent Spot Price FOB (Dollars per Barrel)    ser\n0  1987-05-20                                             18.63    one\n1  1987-05-21                                             18.45    NaN\n2  1987-05-22                                             18.55    NaN\n3  1987-05-25                                             18.60    NaN\n4  1987-05-26                                             18.63    two\n5  1987-05-27                                             18.60    NaN\n6  1987-05-28                                             18.60  three\n7  1987-05-29                                             18.58    NaN\n8  1987-06-01                                             18.65    NaN\n9  1987-06-02                                             18.68    NaN\n10 1987-06-03                                             18.75    NaN\n11 1987-06-04                                             18.78    NaN\n12 1987-06-05                                             18.65    NaN\n13 1987-06-08                                             18.75    NaN\n14 1987-06-09                                             18.78    NaN"
          },
          "metadata": {}
        }
      ]
    },
    {
      "metadata": {},
      "cell_type": "markdown",
      "source": "**`set_option`** method\n  \nwe can customize the display behavior"
    },
    {
      "metadata": {
        "trusted": true
      },
      "cell_type": "code",
      "source": "import pandas as pd",
      "execution_count": 2,
      "outputs": []
    },
    {
      "metadata": {
        "trusted": true
      },
      "cell_type": "code",
      "source": "pd.set_option('display.height', 1000)\npd.set_option('display.max_rows', 500)\npd.set_option('display.max_columns', 500)\npd.set_option('display.width', 1000)\npd.set_option(\"display.precision\", 100)",
      "execution_count": null,
      "outputs": []
    },
    {
      "metadata": {},
      "cell_type": "markdown",
      "source": "<font size=\"4\"><strong>Group By (Split Apply Combine)</font>"
    },
    {
      "metadata": {
        "trusted": true
      },
      "cell_type": "code",
      "source": "df = pd.read_csv('data/weather_by_cities.csv')\ndf",
      "execution_count": 5,
      "outputs": [
        {
          "output_type": "execute_result",
          "execution_count": 5,
          "data": {
            "text/html": "<div>\n<style scoped>\n    .dataframe tbody tr th:only-of-type {\n        vertical-align: middle;\n    }\n\n    .dataframe tbody tr th {\n        vertical-align: top;\n    }\n\n    .dataframe thead th {\n        text-align: right;\n    }\n</style>\n<table border=\"1\" class=\"dataframe\">\n  <thead>\n    <tr style=\"text-align: right;\">\n      <th></th>\n      <th>day</th>\n      <th>city</th>\n      <th>temperature</th>\n      <th>windspeed</th>\n      <th>event</th>\n    </tr>\n  </thead>\n  <tbody>\n    <tr>\n      <th>0</th>\n      <td>1/1/2017</td>\n      <td>new york</td>\n      <td>32</td>\n      <td>6</td>\n      <td>Rain</td>\n    </tr>\n    <tr>\n      <th>1</th>\n      <td>1/2/2017</td>\n      <td>new york</td>\n      <td>36</td>\n      <td>7</td>\n      <td>Sunny</td>\n    </tr>\n    <tr>\n      <th>2</th>\n      <td>1/3/2017</td>\n      <td>new york</td>\n      <td>28</td>\n      <td>12</td>\n      <td>Snow</td>\n    </tr>\n    <tr>\n      <th>3</th>\n      <td>1/4/2017</td>\n      <td>new york</td>\n      <td>33</td>\n      <td>7</td>\n      <td>Sunny</td>\n    </tr>\n    <tr>\n      <th>4</th>\n      <td>1/1/2017</td>\n      <td>mumbai</td>\n      <td>90</td>\n      <td>5</td>\n      <td>Sunny</td>\n    </tr>\n    <tr>\n      <th>5</th>\n      <td>1/2/2017</td>\n      <td>mumbai</td>\n      <td>85</td>\n      <td>12</td>\n      <td>Fog</td>\n    </tr>\n    <tr>\n      <th>6</th>\n      <td>1/3/2017</td>\n      <td>mumbai</td>\n      <td>87</td>\n      <td>15</td>\n      <td>Fog</td>\n    </tr>\n    <tr>\n      <th>7</th>\n      <td>1/4/2017</td>\n      <td>mumbai</td>\n      <td>92</td>\n      <td>5</td>\n      <td>Rain</td>\n    </tr>\n    <tr>\n      <th>8</th>\n      <td>1/1/2017</td>\n      <td>paris</td>\n      <td>45</td>\n      <td>20</td>\n      <td>Sunny</td>\n    </tr>\n    <tr>\n      <th>9</th>\n      <td>1/2/2017</td>\n      <td>paris</td>\n      <td>50</td>\n      <td>13</td>\n      <td>Cloudy</td>\n    </tr>\n    <tr>\n      <th>10</th>\n      <td>1/3/2017</td>\n      <td>paris</td>\n      <td>54</td>\n      <td>8</td>\n      <td>Cloudy</td>\n    </tr>\n    <tr>\n      <th>11</th>\n      <td>1/4/2017</td>\n      <td>paris</td>\n      <td>42</td>\n      <td>10</td>\n      <td>Cloudy</td>\n    </tr>\n  </tbody>\n</table>\n</div>",
            "text/plain": "         day      city  temperature  windspeed   event\n0   1/1/2017  new york           32          6    Rain\n1   1/2/2017  new york           36          7   Sunny\n2   1/3/2017  new york           28         12    Snow\n3   1/4/2017  new york           33          7   Sunny\n4   1/1/2017    mumbai           90          5   Sunny\n5   1/2/2017    mumbai           85         12     Fog\n6   1/3/2017    mumbai           87         15     Fog\n7   1/4/2017    mumbai           92          5    Rain\n8   1/1/2017     paris           45         20   Sunny\n9   1/2/2017     paris           50         13  Cloudy\n10  1/3/2017     paris           54          8  Cloudy\n11  1/4/2017     paris           42         10  Cloudy"
          },
          "metadata": {}
        }
      ]
    },
    {
      "metadata": {},
      "cell_type": "markdown",
      "source": "<font size=\"3\"><strong>For this dataset, get following answers</font>\n\n**1. What was the maximum temperature in each of these 3 cities?**   \n**2. What was the average windspeed in each of these 3 cities?**"
    },
    {
      "metadata": {
        "trusted": true
      },
      "cell_type": "code",
      "source": "g = df.groupby(\"city\")\ng # DataFrameGroupBy class",
      "execution_count": 6,
      "outputs": [
        {
          "output_type": "execute_result",
          "execution_count": 6,
          "data": {
            "text/plain": "<pandas.core.groupby.DataFrameGroupBy object at 0x7f18716f3b00>"
          },
          "metadata": {}
        }
      ]
    },
    {
      "metadata": {
        "trusted": true
      },
      "cell_type": "code",
      "source": "g.get_group('mumbai')\n# This is similar to SQL,  SELECT * from weather_data GROUP BY city",
      "execution_count": 8,
      "outputs": [
        {
          "output_type": "execute_result",
          "execution_count": 8,
          "data": {
            "text/html": "<div>\n<style scoped>\n    .dataframe tbody tr th:only-of-type {\n        vertical-align: middle;\n    }\n\n    .dataframe tbody tr th {\n        vertical-align: top;\n    }\n\n    .dataframe thead th {\n        text-align: right;\n    }\n</style>\n<table border=\"1\" class=\"dataframe\">\n  <thead>\n    <tr style=\"text-align: right;\">\n      <th></th>\n      <th>day</th>\n      <th>city</th>\n      <th>temperature</th>\n      <th>windspeed</th>\n      <th>event</th>\n    </tr>\n  </thead>\n  <tbody>\n    <tr>\n      <th>4</th>\n      <td>1/1/2017</td>\n      <td>mumbai</td>\n      <td>90</td>\n      <td>5</td>\n      <td>Sunny</td>\n    </tr>\n    <tr>\n      <th>5</th>\n      <td>1/2/2017</td>\n      <td>mumbai</td>\n      <td>85</td>\n      <td>12</td>\n      <td>Fog</td>\n    </tr>\n    <tr>\n      <th>6</th>\n      <td>1/3/2017</td>\n      <td>mumbai</td>\n      <td>87</td>\n      <td>15</td>\n      <td>Fog</td>\n    </tr>\n    <tr>\n      <th>7</th>\n      <td>1/4/2017</td>\n      <td>mumbai</td>\n      <td>92</td>\n      <td>5</td>\n      <td>Rain</td>\n    </tr>\n  </tbody>\n</table>\n</div>",
            "text/plain": "        day    city  temperature  windspeed  event\n4  1/1/2017  mumbai           90          5  Sunny\n5  1/2/2017  mumbai           85         12    Fog\n6  1/3/2017  mumbai           87         15    Fog\n7  1/4/2017  mumbai           92          5   Rain"
          },
          "metadata": {}
        }
      ]
    },
    {
      "metadata": {},
      "cell_type": "markdown",
      "source": "<p><img src=\"plots/group_by_cities.png\" alt=\"Example\" width=\"1800\" height=\"1050\"></p>"
    },
    {
      "metadata": {
        "trusted": true,
        "scrolled": false
      },
      "cell_type": "code",
      "source": "print(g.max()) # observe for mumbai group max temperature is 32\nprint(g.mean()) # to get all numerical columns average\nprint(g.temperature.mean()) # for one column average",
      "execution_count": 14,
      "outputs": [
        {
          "output_type": "stream",
          "text": "               day  temperature  windspeed  event\ncity                                             \nmumbai    1/4/2017           92         15  Sunny\nnew york  1/4/2017           36         12  Sunny\nparis     1/4/2017           54         20  Sunny\n          temperature  windspeed\ncity                            \nmumbai          88.50       9.25\nnew york        32.25       8.00\nparis           47.75      12.75\ncity\nmumbai      88.50\nnew york    32.25\nparis       47.75\nName: temperature, dtype: float64\n",
          "name": "stdout"
        }
      ]
    },
    {
      "metadata": {},
      "cell_type": "markdown",
      "source": "**This method of splitting your dataset in smaller groups and then applying an operation (such as min or max) to get aggregate result is called Split-Apply-Combine. It is illustrated in a diagram below**"
    },
    {
      "metadata": {},
      "cell_type": "markdown",
      "source": "<p><img src=\"plots/split_apply_combine.png\" alt=\"Example\" width=\"1800\" height=\"1050\"></p>"
    },
    {
      "metadata": {
        "trusted": true,
        "scrolled": true
      },
      "cell_type": "code",
      "source": "g.describe()",
      "execution_count": 15,
      "outputs": [
        {
          "output_type": "execute_result",
          "execution_count": 15,
          "data": {
            "text/html": "<div>\n<style scoped>\n    .dataframe tbody tr th:only-of-type {\n        vertical-align: middle;\n    }\n\n    .dataframe tbody tr th {\n        vertical-align: top;\n    }\n\n    .dataframe thead tr th {\n        text-align: left;\n    }\n\n    .dataframe thead tr:last-of-type th {\n        text-align: right;\n    }\n</style>\n<table border=\"1\" class=\"dataframe\">\n  <thead>\n    <tr>\n      <th></th>\n      <th colspan=\"8\" halign=\"left\">temperature</th>\n      <th colspan=\"8\" halign=\"left\">windspeed</th>\n    </tr>\n    <tr>\n      <th></th>\n      <th>count</th>\n      <th>mean</th>\n      <th>std</th>\n      <th>min</th>\n      <th>25%</th>\n      <th>50%</th>\n      <th>75%</th>\n      <th>max</th>\n      <th>count</th>\n      <th>mean</th>\n      <th>std</th>\n      <th>min</th>\n      <th>25%</th>\n      <th>50%</th>\n      <th>75%</th>\n      <th>max</th>\n    </tr>\n    <tr>\n      <th>city</th>\n      <th></th>\n      <th></th>\n      <th></th>\n      <th></th>\n      <th></th>\n      <th></th>\n      <th></th>\n      <th></th>\n      <th></th>\n      <th></th>\n      <th></th>\n      <th></th>\n      <th></th>\n      <th></th>\n      <th></th>\n      <th></th>\n    </tr>\n  </thead>\n  <tbody>\n    <tr>\n      <th>mumbai</th>\n      <td>4.0</td>\n      <td>88.50</td>\n      <td>3.109126</td>\n      <td>85.0</td>\n      <td>86.50</td>\n      <td>88.5</td>\n      <td>90.50</td>\n      <td>92.0</td>\n      <td>4.0</td>\n      <td>9.25</td>\n      <td>5.057997</td>\n      <td>5.0</td>\n      <td>5.00</td>\n      <td>8.5</td>\n      <td>12.75</td>\n      <td>15.0</td>\n    </tr>\n    <tr>\n      <th>new york</th>\n      <td>4.0</td>\n      <td>32.25</td>\n      <td>3.304038</td>\n      <td>28.0</td>\n      <td>31.00</td>\n      <td>32.5</td>\n      <td>33.75</td>\n      <td>36.0</td>\n      <td>4.0</td>\n      <td>8.00</td>\n      <td>2.708013</td>\n      <td>6.0</td>\n      <td>6.75</td>\n      <td>7.0</td>\n      <td>8.25</td>\n      <td>12.0</td>\n    </tr>\n    <tr>\n      <th>paris</th>\n      <td>4.0</td>\n      <td>47.75</td>\n      <td>5.315073</td>\n      <td>42.0</td>\n      <td>44.25</td>\n      <td>47.5</td>\n      <td>51.00</td>\n      <td>54.0</td>\n      <td>4.0</td>\n      <td>12.75</td>\n      <td>5.251984</td>\n      <td>8.0</td>\n      <td>9.50</td>\n      <td>11.5</td>\n      <td>14.75</td>\n      <td>20.0</td>\n    </tr>\n  </tbody>\n</table>\n</div>",
            "text/plain": "         temperature                                                   \\\n               count   mean       std   min    25%   50%    75%   max   \ncity                                                                    \nmumbai           4.0  88.50  3.109126  85.0  86.50  88.5  90.50  92.0   \nnew york         4.0  32.25  3.304038  28.0  31.00  32.5  33.75  36.0   \nparis            4.0  47.75  5.315073  42.0  44.25  47.5  51.00  54.0   \n\n         windspeed                                                 \n             count   mean       std  min   25%   50%    75%   max  \ncity                                                               \nmumbai         4.0   9.25  5.057997  5.0  5.00   8.5  12.75  15.0  \nnew york       4.0   8.00  2.708013  6.0  6.75   7.0   8.25  12.0  \nparis          4.0  12.75  5.251984  8.0  9.50  11.5  14.75  20.0  "
          },
          "metadata": {}
        }
      ]
    },
    {
      "metadata": {},
      "cell_type": "markdown",
      "source": "https://pbpython.com/pandas_transform.html  "
    },
    {
      "metadata": {},
      "cell_type": "markdown",
      "source": "<span style=\"color:red; font-family:Comic Sans MS\"> **above Code pulled from:** </span>  \n<a href=\"https://github.com/codebasics/py/tree/master/pandas/7_group_by\" target=\"_blank\">https://github.com/codebasics/py/tree/master/pandas/7_group_by</a>\n"
    },
    {
      "metadata": {},
      "cell_type": "markdown",
      "source": "**Pandas DataFrame API**"
    },
    {
      "metadata": {},
      "cell_type": "markdown",
      "source": "http://pandas.pydata.org/pandas-docs/stable/reference/frame.html"
    },
    {
      "metadata": {},
      "cell_type": "markdown",
      "source": "**for practice**  \nhttps://github.com/tdpetrou/Learn-Pandas/tree/master/Learn-Pandas/Selecting%20Subsets  \nhttps://www.ritchieng.com/pandas-reading-tabular-data/#    "
    },
    {
      "metadata": {},
      "cell_type": "markdown",
      "source": "**Working with Date and Time: **  \nhttps://www.ritchieng.com/pandas-date-time/  "
    },
    {
      "metadata": {},
      "cell_type": "markdown",
      "source": "## Loading, Subsetting, and Filtering Data with pandas"
    },
    {
      "metadata": {},
      "cell_type": "markdown",
      "source": "https://towardsdatascience.com/data-science-with-python-intro-to-loading-and-subsetting-data-with-pandas-9f26895ddd7f  \nhttps://medium.com/dunder-data/selecting-subsets-of-data-in-pandas-6fcd0170be9c  \nhttps://pandas.pydata.org/pandas-docs/version/0.22.0/10min.html  "
    },
    {
      "metadata": {},
      "cell_type": "markdown",
      "source": "**sample datasets link for practice**  \nhttps://vincentarelbundock.github.io/Rdatasets/datasets.html"
    },
    {
      "metadata": {
        "collapsed": true
      },
      "cell_type": "markdown",
      "source": "<span style=\"color:red; font-family:brandon\">Further  Resources</span>  \n<a href=\"https://github.com/manujeevanprakash/Pandas-basics/blob/master/Pandas.ipynb\" target=\"_blank\">https://github.com/manujeevanprakash/Pandas-basics/blob/master/Pandas.ipynb</a>  \n<a href=\"https://www.datacamp.com/community/tutorials/pandas-tutorial-dataframe-python\" target=\"_blank\">https://www.datacamp.com/community/tutorials/pandas-tutorial-dataframe-python</a>  \n<a href=\"https://www.dataschool.io/best-practices-with-pandas/\" target=\"_blank\">https://www.dataschool.io/best-practices-with-pandas/</a>  "
    },
    {
      "metadata": {},
      "cell_type": "markdown",
      "source": "<span style=\"color:red; font-family:Comic Sans MS\">References</span>  \n<a href=\"https://www.listendata.com/2017/05/python-data-science.html\" target=\"_blank\">https://www.listendata.com/2017/05/python-data-science.html</a>  \n<a href=\"https://jakevdp.github.io/PythonDataScienceHandbook/\" target=\"_blank\">https://jakevdp.github.io/PythonDataScienceHandbook/</a>  "
    }
  ],
  "metadata": {
    "kernelspec": {
      "name": "python36",
      "display_name": "Python 3.6",
      "language": "python"
    },
    "language_info": {
      "mimetype": "text/x-python",
      "nbconvert_exporter": "python",
      "name": "python",
      "pygments_lexer": "ipython3",
      "version": "3.6.6",
      "file_extension": ".py",
      "codemirror_mode": {
        "version": 3,
        "name": "ipython"
      }
    },
    "toc": {
      "nav_menu": {
        "width": "410px",
        "height": "147px"
      },
      "number_sections": true,
      "sideBar": true,
      "skip_h1_title": true,
      "base_numbering": 1,
      "title_cell": "Table of Contents",
      "title_sidebar": "Contents",
      "toc_cell": true,
      "toc_position": {},
      "toc_section_display": true,
      "toc_window_display": false
    }
  },
  "nbformat": 4,
  "nbformat_minor": 2
}