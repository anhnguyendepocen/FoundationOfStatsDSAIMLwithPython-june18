{
 "cells": [
  {
   "cell_type": "markdown",
   "metadata": {
    "toc": true
   },
   "source": [
    "<h1>Table of Contents<span class=\"tocSkip\"></span></h1>\n",
    "<div class=\"toc\"><ul class=\"toc-item\"><li><span><a href=\"#Pandas-Series\" data-toc-modified-id=\"Pandas-Series-1\"><span class=\"toc-item-num\">1&nbsp;&nbsp;</span>Pandas Series</a></span></li><li><span><a href=\"#Series-Methods\" data-toc-modified-id=\"Series-Methods-2\"><span class=\"toc-item-num\">2&nbsp;&nbsp;</span>Series Methods</a></span></li><li><span><a href=\"#Pandas-DataFrames\" data-toc-modified-id=\"Pandas-DataFrames-3\"><span class=\"toc-item-num\">3&nbsp;&nbsp;</span>Pandas DataFrames</a></span></li><li><span><a href=\"#Important-Pands-Functions-(comparison--with-R)\" data-toc-modified-id=\"Important-Pands-Functions-(comparison--with-R)-4\"><span class=\"toc-item-num\">4&nbsp;&nbsp;</span>Important Pands Functions (comparison  with R)</a></span></li><li><span><a href=\"#Importing-Other-data-format-into-Python\" data-toc-modified-id=\"Importing-Other-data-format-into-Python-5\"><span class=\"toc-item-num\">5&nbsp;&nbsp;</span>Importing Other data format into Python</a></span></li><li><span><a href=\"#Adding-a-series-to-data-frames\" data-toc-modified-id=\"Adding-a-series-to-data-frames-6\"><span class=\"toc-item-num\">6&nbsp;&nbsp;</span>Adding a series to data frames</a></span></li><li><span><a href=\"#Loading,-Subsetting,-and-Filtering-Data-with-pandas\" data-toc-modified-id=\"Loading,-Subsetting,-and-Filtering-Data-with-pandas-7\"><span class=\"toc-item-num\">7&nbsp;&nbsp;</span>Loading, Subsetting, and Filtering Data with pandas</a></span></li></ul></div>"
   ]
  },
  {
   "cell_type": "code",
   "execution_count": 2,
   "metadata": {
    "scrolled": false
   },
   "outputs": [],
   "source": [
    "import numpy as np\n",
    "import pandas as pd\n",
    "import random"
   ]
  },
  {
   "cell_type": "code",
   "execution_count": 2,
   "metadata": {},
   "outputs": [],
   "source": [
    "data = pd.read_csv(\"data/income.csv\")"
   ]
  },
  {
   "cell_type": "code",
   "execution_count": 6,
   "metadata": {},
   "outputs": [
    {
     "name": "stdout",
     "output_type": "stream",
     "text": [
      "<class 'pandas.core.frame.DataFrame'>\n",
      "RangeIndex: 51 entries, 0 to 50\n",
      "Data columns (total 16 columns):\n",
      "Index    51 non-null object\n",
      "State    51 non-null object\n",
      "Y2002    51 non-null int64\n",
      "Y2003    51 non-null int64\n",
      "Y2004    51 non-null int64\n",
      "Y2005    51 non-null int64\n",
      "Y2006    51 non-null int64\n",
      "Y2007    51 non-null int64\n",
      "Y2008    51 non-null int64\n",
      "Y2009    51 non-null int64\n",
      "Y2010    51 non-null int64\n",
      "Y2011    51 non-null int64\n",
      "Y2012    51 non-null int64\n",
      "Y2013    51 non-null int64\n",
      "Y2014    51 non-null int64\n",
      "Y2015    51 non-null int64\n",
      "dtypes: int64(14), object(2)\n",
      "memory usage: 6.5+ KB\n"
     ]
    }
   ],
   "source": [
    "data.info()"
   ]
  },
  {
   "cell_type": "code",
   "execution_count": 7,
   "metadata": {},
   "outputs": [
    {
     "data": {
      "text/plain": [
       "Index(['Index', 'State', 'Y2002', 'Y2003', 'Y2004', 'Y2005', 'Y2006', 'Y2007',\n",
       "       'Y2008', 'Y2009', 'Y2010', 'Y2011', 'Y2012', 'Y2013', 'Y2014', 'Y2015'],\n",
       "      dtype='object')"
      ]
     },
     "execution_count": 7,
     "metadata": {},
     "output_type": "execute_result"
    }
   ],
   "source": [
    "data.columns"
   ]
  },
  {
   "cell_type": "markdown",
   "metadata": {},
   "source": [
    "## Pandas Series"
   ]
  },
  {
   "cell_type": "markdown",
   "metadata": {},
   "source": [
    "The Series is the primary building block of pandas. A Series represents a one-dimensional labeled indexed array based on the NumPy ndarray. Like an array, a Series can hold zero or more values of any single data type."
   ]
  },
  {
   "cell_type": "markdown",
   "metadata": {},
   "source": [
    "* The Series object is basically interchangeable with a one-dimensional NumPy array. \n",
    "* The essential difference is the presence of the index: while the Numpy Array has an implicitly defined integer index used to access the values, the Pandas Series has an explicitly defined index associated with the values.\n",
    "\n",
    "* This explicit index definition gives the Series object additional capabilities. \n",
    "* For example, the index need not be an integer, but can consist of values of any desired type"
   ]
  },
  {
   "cell_type": "markdown",
   "metadata": {},
   "source": [
    "Creating Series From List"
   ]
  },
  {
   "cell_type": "code",
   "execution_count": 2,
   "metadata": {},
   "outputs": [
    {
     "name": "stdout",
     "output_type": "stream",
     "text": [
      "0    1\n",
      "1    3\n",
      "2    5\n",
      "3    7\n",
      "dtype: int64\n"
     ]
    }
   ],
   "source": [
    "ser = pd.Series([1, 3, 5, 7])\n",
    "print(ser)"
   ]
  },
  {
   "cell_type": "markdown",
   "metadata": {},
   "source": [
    "Use a Dict to Initialize Series"
   ]
  },
  {
   "cell_type": "code",
   "execution_count": 3,
   "metadata": {
    "scrolled": true
   },
   "outputs": [
    {
     "name": "stdout",
     "output_type": "stream",
     "text": [
      "apple     4.99\n",
      "banana    1.99\n",
      "grapes    0.99\n",
      "orange    3.99\n",
      "dtype: float64\n"
     ]
    }
   ],
   "source": [
    "prices = {'apple': 4.99,\n",
    "'banana': 1.99,\n",
    "'orange': 3.99,\n",
    "'grapes': 0.99}\n",
    "ser = pd.Series(prices)\n",
    "print (ser)"
   ]
  },
  {
   "cell_type": "markdown",
   "metadata": {},
   "source": [
    " Initialize Series from Scalar"
   ]
  },
  {
   "cell_type": "code",
   "execution_count": 4,
   "metadata": {
    "scrolled": false
   },
   "outputs": [
    {
     "name": "stdout",
     "output_type": "stream",
     "text": [
      "0    2\n",
      "1    2\n",
      "2    2\n",
      "3    2\n",
      "4    2\n",
      "dtype: int64\n"
     ]
    }
   ],
   "source": [
    "ser = pd.Series(2, index=range(0, 5))\n",
    "print(ser)"
   ]
  },
  {
   "cell_type": "markdown",
   "metadata": {},
   "source": [
    "A Series of Odd Numbers"
   ]
  },
  {
   "cell_type": "code",
   "execution_count": 6,
   "metadata": {
    "scrolled": true
   },
   "outputs": [
    {
     "name": "stdout",
     "output_type": "stream",
     "text": [
      "0    1\n",
      "1    3\n",
      "2    5\n",
      "3    7\n",
      "4    9\n",
      "dtype: int64\n"
     ]
    }
   ],
   "source": [
    "print (pd.Series(range(1, 10, 2)))\n"
   ]
  },
  {
   "cell_type": "markdown",
   "metadata": {},
   "source": [
    "With an Alphabetic Index"
   ]
  },
  {
   "cell_type": "code",
   "execution_count": 7,
   "metadata": {},
   "outputs": [
    {
     "name": "stdout",
     "output_type": "stream",
     "text": [
      "a     1\n",
      "b     4\n",
      "c     7\n",
      "d    10\n",
      "e    13\n",
      "dtype: int64\n"
     ]
    }
   ],
   "source": [
    "print (pd.Series(range(1, 15, 3), index=[x for x in 'abcde']))"
   ]
  },
  {
   "cell_type": "markdown",
   "metadata": {},
   "source": [
    "A Series With Random Numbers"
   ]
  },
  {
   "cell_type": "code",
   "execution_count": 11,
   "metadata": {
    "scrolled": true
   },
   "outputs": [
    {
     "name": "stdout",
     "output_type": "stream",
     "text": [
      "0    75\n",
      "1    45\n",
      "2    96\n",
      "3    82\n",
      "4    74\n",
      "5    34\n",
      "dtype: int64\n"
     ]
    }
   ],
   "source": [
    "import random\n",
    "print(pd.Series(random.sample(range(100), 6)))"
   ]
  },
  {
   "cell_type": "markdown",
   "metadata": {},
   "source": [
    "Combining Lists"
   ]
  },
  {
   "cell_type": "code",
   "execution_count": 13,
   "metadata": {
    "scrolled": true
   },
   "outputs": [
    {
     "name": "stdout",
     "output_type": "stream",
     "text": [
      "{'a': 1, 'b': 2, 'c': 3, 'd': 4, 'e': 5, 'f': 6, 'g': 7}\n",
      "a    1\n",
      "b    2\n",
      "c    3\n",
      "d    4\n",
      "e    5\n",
      "f    6\n",
      "g    7\n",
      "dtype: int64\n"
     ]
    }
   ],
   "source": [
    "x = dict(zip([x for x in 'abcdefg'], range(1, 8)))\n",
    "print (x)\n",
    "y = pd.Series(x)\n",
    "print (y)"
   ]
  },
  {
   "cell_type": "markdown",
   "metadata": {},
   "source": [
    "Specifying an Index"
   ]
  },
  {
   "cell_type": "code",
   "execution_count": 14,
   "metadata": {
    "scrolled": true
   },
   "outputs": [
    {
     "name": "stdout",
     "output_type": "stream",
     "text": [
      "a    1\n",
      "b    2\n",
      "c    3\n",
      "d    4\n",
      "e    5\n",
      "f    6\n",
      "g    7\n",
      "dtype: int64\n"
     ]
    }
   ],
   "source": [
    "print (pd.Series(range(1,8), index=[x for x in 'abcdefg']))"
   ]
  },
  {
   "cell_type": "markdown",
   "metadata": {},
   "source": [
    "Naming a Series"
   ]
  },
  {
   "cell_type": "code",
   "execution_count": 16,
   "metadata": {
    "scrolled": false
   },
   "outputs": [
    {
     "name": "stdout",
     "output_type": "stream",
     "text": [
      "0    1\n",
      "1    3\n",
      "2    5\n",
      "3    7\n",
      "Name: joe, dtype: int64\n"
     ]
    }
   ],
   "source": [
    "a = [1, 3, 5, 7]\n",
    "print (pd.Series(a, name='joe'))"
   ]
  },
  {
   "cell_type": "markdown",
   "metadata": {},
   "source": [
    " Comparing List with Series"
   ]
  },
  {
   "cell_type": "code",
   "execution_count": 23,
   "metadata": {
    "scrolled": true
   },
   "outputs": [
    {
     "name": "stdout",
     "output_type": "stream",
     "text": [
      "0    10\n",
      "1    26\n",
      "2    88\n",
      "3    81\n",
      "4    53\n",
      "5    92\n",
      "6    83\n",
      "7    65\n",
      "8    32\n",
      "9    11\n",
      "dtype: int64\n",
      "4th element:  53\n",
      "Slice:  3    81\n",
      "4    53\n",
      "5    92\n",
      "6    83\n",
      "7    65\n",
      "dtype: int64\n"
     ]
    }
   ],
   "source": [
    "ser = pd.Series(random.sample(range(100), 10))\n",
    "print (ser)\n",
    "print\n",
    "print ('4th element: ', ser[4])\n",
    "print ('Slice: ', ser[3:8])\n"
   ]
  },
  {
   "cell_type": "markdown",
   "metadata": {},
   "source": [
    "## Series Methods"
   ]
  },
  {
   "cell_type": "code",
   "execution_count": 5,
   "metadata": {},
   "outputs": [
    {
     "name": "stdout",
     "output_type": "stream",
     "text": [
      "(6,)\n"
     ]
    }
   ],
   "source": [
    "a = pd.Series(random.sample(range(100), 6))\n",
    "print (a.shape)\n",
    "# check how big the Series is using shape , which returns as a tuple "
   ]
  },
  {
   "cell_type": "code",
   "execution_count": 6,
   "metadata": {},
   "outputs": [
    {
     "name": "stdout",
     "output_type": "stream",
     "text": [
      "6\n"
     ]
    }
   ],
   "source": [
    "print (a.count()) # which returns the size of the Series as an integer "
   ]
  },
  {
   "cell_type": "markdown",
   "metadata": {},
   "source": [
    "**`count()` only reports the number of non-NaN elements, while shape reports both.**\n",
    "Another attribute for getting the count of elements is `size` . It reports the count as an integer and includes NaN elements if any."
   ]
  },
  {
   "cell_type": "code",
   "execution_count": 9,
   "metadata": {
    "scrolled": true
   },
   "outputs": [
    {
     "name": "stdout",
     "output_type": "stream",
     "text": [
      "count of a => 6 \n",
      "\n",
      "b =>  0    14.0\n",
      "1    72.0\n",
      "2    79.0\n",
      "3     0.0\n",
      "4    83.0\n",
      "5    30.0\n",
      "6     NaN\n",
      "7     NaN\n",
      "8     NaN\n",
      "9     NaN\n",
      "dtype: float64 \n",
      "\n",
      "count of b => 6 \n",
      "\n",
      "shape of b => (10,) \n",
      "\n",
      "size of b => 10\n"
     ]
    }
   ],
   "source": [
    "a = pd.Series(random.sample(range(100), 6))\n",
    "print ('count of a =>', a.count(), '\\n')\n",
    "b = a.append(pd.Series(np.nan, index=list('abcd')), ignore_index=True)\n",
    "print ('b => ', b, '\\n')\n",
    "print ('count of b =>', b.count(), '\\n')\n",
    "print ('shape of b =>', b.shape, '\\n')\n",
    "print ('size of b =>', b.size)"
   ]
  },
  {
   "cell_type": "markdown",
   "metadata": {},
   "source": [
    "**Get some detailed stats on the Series using `describe()` . This method returns a Series object with the index (or labels) as shown.**\n",
    "\n"
   ]
  },
  {
   "cell_type": "code",
   "execution_count": 10,
   "metadata": {
    "scrolled": true
   },
   "outputs": [
    {
     "data": {
      "text/plain": [
       "count     6.000000\n",
       "mean     74.333333\n",
       "std      22.303961\n",
       "min      47.000000\n",
       "25%      56.250000\n",
       "50%      75.000000\n",
       "75%      93.750000\n",
       "max      99.000000\n",
       "dtype: float64"
      ]
     },
     "execution_count": 10,
     "metadata": {},
     "output_type": "execute_result"
    }
   ],
   "source": [
    "x = pd.Series(random.sample(range(100), 6))\n",
    "x.describe()"
   ]
  },
  {
   "cell_type": "markdown",
   "metadata": {},
   "source": [
    "**Show the first 5 or last 5 rows of the Series using `head()` or `tail()`**"
   ]
  },
  {
   "cell_type": "code",
   "execution_count": 12,
   "metadata": {
    "scrolled": true
   },
   "outputs": [
    {
     "name": "stdout",
     "output_type": "stream",
     "text": [
      "0    78\n",
      "1    28\n",
      "2     9\n",
      "3    79\n",
      "4    85\n",
      "5    73\n",
      "6    83\n",
      "7    66\n",
      "8    44\n",
      "9    36\n",
      "dtype: int64 \n",
      "\n",
      "0    78\n",
      "1    28\n",
      "2     9\n",
      "3    79\n",
      "4    85\n",
      "dtype: int64 \n",
      "\n",
      "5    73\n",
      "6    83\n",
      "7    66\n",
      "8    44\n",
      "9    36\n",
      "dtype: int64 \n",
      "\n"
     ]
    }
   ],
   "source": [
    "x = pd.Series(random.sample(range(100), 10))\n",
    "print (x, '\\n')\n",
    "print (x.head(), '\\n')\n",
    "print (x.tail(), '\\n')"
   ]
  },
  {
   "cell_type": "markdown",
   "metadata": {},
   "source": [
    "**Adding elements to a Series is accomplished by using `append()` . The argument must be a single Series object, or a list (or tuple) of Series objects.**\n"
   ]
  },
  {
   "cell_type": "code",
   "execution_count": 13,
   "metadata": {
    "scrolled": true
   },
   "outputs": [
    {
     "name": "stdout",
     "output_type": "stream",
     "text": [
      "0    30\n",
      "1    93\n",
      "2    83\n",
      "3    98\n",
      "4     3\n",
      "5     0\n",
      "dtype: int64 \n",
      "\n",
      "appended =>\n",
      " 0    30\n",
      "1    93\n",
      "2    83\n",
      "3    98\n",
      "4     3\n",
      "5     0\n",
      "0     2\n",
      "0     3\n",
      "1     4\n",
      "2     5\n",
      "dtype: int64\n"
     ]
    }
   ],
   "source": [
    "x = pd.Series(random.sample(range(100), 6))\n",
    "print (x, '\\n')\n",
    "print ('appended =>\\n', x.append([pd.Series(2), pd.Series([3, 4, 5])]))"
   ]
  },
  {
   "cell_type": "raw",
   "metadata": {},
   "source": [
    "You might notice the oddball labels after appending. Each Series is appended with a\n",
    "default index starting from 0, regardless of whether this creates duplicate labels. One way\n",
    "to fix this is to specify ignore_index=True to ensure re-labeling."
   ]
  },
  {
   "cell_type": "code",
   "execution_count": 14,
   "metadata": {
    "scrolled": true
   },
   "outputs": [
    {
     "name": "stdout",
     "output_type": "stream",
     "text": [
      "appended =>\n",
      " 0    30\n",
      "1    93\n",
      "2    83\n",
      "3    98\n",
      "4     3\n",
      "5     0\n",
      "6     2\n",
      "7     3\n",
      "8     4\n",
      "9     5\n",
      "dtype: int64\n"
     ]
    }
   ],
   "source": [
    "print ('appended =>\\n', x.append([pd.Series(2), pd.Series([3, 4, 5])],\n",
    "ignore_index=True))\n"
   ]
  },
  {
   "cell_type": "markdown",
   "metadata": {},
   "source": [
    "**You can delete elements from a Series using the following methods.**"
   ]
  },
  {
   "cell_type": "code",
   "execution_count": 16,
   "metadata": {
    "scrolled": true
   },
   "outputs": [
    {
     "name": "stdout",
     "output_type": "stream",
     "text": [
      "A    52\n",
      "B    19\n",
      "C     8\n",
      "D    85\n",
      "E    21\n",
      "F    90\n",
      "dtype: int64 \n",
      "\n",
      "drop one =>\n",
      " A    52\n",
      "B    19\n",
      "D    85\n",
      "E    21\n",
      "F    90\n",
      "dtype: int64 \n",
      "\n",
      "drop many =>\n",
      " A    52\n",
      "B    19\n",
      "E    21\n",
      "F    90\n",
      "dtype: int64\n"
     ]
    }
   ],
   "source": [
    "x = pd.Series(random.sample(range(100), 6), index=list('ABCDEF'))\n",
    "print (x, '\\n')\n",
    "print ('drop one =>\\n', x.drop('C'), '\\n')\n",
    "print ('drop many =>\\n', x.drop(['C', 'D']))"
   ]
  },
  {
   "cell_type": "markdown",
   "metadata": {},
   "source": [
    "**Get rid of duplicate elements by invoking `drop_duplicates()`**"
   ]
  },
  {
   "cell_type": "code",
   "execution_count": 17,
   "metadata": {
    "scrolled": true
   },
   "outputs": [
    {
     "name": "stdout",
     "output_type": "stream",
     "text": [
      "0    1\n",
      "1    2\n",
      "2    2\n",
      "3    4\n",
      "4    5\n",
      "5    7\n",
      "6    3\n",
      "7    4\n",
      "dtype: int64 \n",
      "\n",
      "drop duplicates =>\n",
      " 0    1\n",
      "1    2\n",
      "3    4\n",
      "4    5\n",
      "5    7\n",
      "6    3\n",
      "dtype: int64 \n",
      "\n"
     ]
    }
   ],
   "source": [
    "x = pd.Series([1, 2, 2, 4, 5, 7, 3, 4])\n",
    "print (x, '\\n')\n",
    "print ('drop duplicates =>\\n', x.drop_duplicates(), '\\n')"
   ]
  },
  {
   "cell_type": "markdown",
   "metadata": {},
   "source": [
    "By default, the method retains the first repeated value. Get rid of all duplicates (including\n",
    "the first) by specifying `keep=False` ."
   ]
  },
  {
   "cell_type": "code",
   "execution_count": 18,
   "metadata": {
    "scrolled": true
   },
   "outputs": [
    {
     "name": "stdout",
     "output_type": "stream",
     "text": [
      "0    1\n",
      "1    2\n",
      "2    2\n",
      "3    4\n",
      "4    5\n",
      "5    7\n",
      "6    3\n",
      "7    4\n",
      "dtype: int64 \n",
      "\n",
      "drop duplicates =>\n",
      " 0    1\n",
      "4    5\n",
      "5    7\n",
      "6    3\n",
      "dtype: int64 \n",
      "\n"
     ]
    }
   ],
   "source": [
    "x = pd.Series([1, 2, 2, 4, 5, 7, 3, 4])\n",
    "print (x, '\\n')\n",
    "print ('drop duplicates =>\\n', x.drop_duplicates(keep=False), '\\n')"
   ]
  },
  {
   "cell_type": "markdown",
   "metadata": {},
   "source": [
    "**Use the `dropna()` to drop elements without a value (NaN).**\n"
   ]
  },
  {
   "cell_type": "code",
   "execution_count": 19,
   "metadata": {
    "scrolled": true
   },
   "outputs": [
    {
     "name": "stdout",
     "output_type": "stream",
     "text": [
      "0    1.0\n",
      "1    2.0\n",
      "2    3.0\n",
      "3    4.0\n",
      "4    NaN\n",
      "5    5.0\n",
      "6    6.0\n",
      "dtype: float64 \n",
      "\n",
      "drop na =>\n",
      " 0    1.0\n",
      "1    2.0\n",
      "2    3.0\n",
      "3    4.0\n",
      "5    5.0\n",
      "6    6.0\n",
      "dtype: float64\n"
     ]
    }
   ],
   "source": [
    "x = pd.Series([1, 2, 3, 4, np.nan, 5, 6])\n",
    "print (x, '\\n')\n",
    "print ('drop na =>\\n', x.dropna())"
   ]
  },
  {
   "cell_type": "markdown",
   "metadata": {},
   "source": [
    "**When you want to replace NaN elements in a Series, use `fillna()` .**"
   ]
  },
  {
   "cell_type": "code",
   "execution_count": 20,
   "metadata": {
    "scrolled": true
   },
   "outputs": [
    {
     "name": "stdout",
     "output_type": "stream",
     "text": [
      "0    1.0\n",
      "1    2.0\n",
      "2    3.0\n",
      "3    4.0\n",
      "4    NaN\n",
      "5    5.0\n",
      "6    6.0\n",
      "dtype: float64 \n",
      "\n",
      "fillna w/0 =>\n",
      " 0    1.0\n",
      "1    2.0\n",
      "2    3.0\n",
      "3    4.0\n",
      "4    0.0\n",
      "5    5.0\n",
      "6    6.0\n",
      "dtype: float64\n"
     ]
    }
   ],
   "source": [
    "x = pd.Series([1, 2, 3, 4, np.nan, 5, 6])\n",
    "print (x, '\\n')\n",
    "print ('fillna w/0 =>\\n', x.fillna(0))"
   ]
  },
  {
   "cell_type": "markdown",
   "metadata": {},
   "source": [
    "**Use the `between()` method, which returns a Series of boolean values indicating whether\n",
    "the element lies within the range**"
   ]
  },
  {
   "cell_type": "code",
   "execution_count": 21,
   "metadata": {
    "scrolled": true
   },
   "outputs": [
    {
     "name": "stdout",
     "output_type": "stream",
     "text": [
      "0    33\n",
      "1    26\n",
      "2    99\n",
      "3    87\n",
      "4    52\n",
      "5    29\n",
      "6    90\n",
      "7    75\n",
      "8    31\n",
      "9    32\n",
      "dtype: int64\n",
      "0     True\n",
      "1    False\n",
      "2    False\n",
      "3    False\n",
      "4    False\n",
      "5    False\n",
      "6    False\n",
      "7    False\n",
      "8     True\n",
      "9     True\n",
      "dtype: bool\n"
     ]
    }
   ],
   "source": [
    "a = pd.Series(random.sample(range(100), 10))\n",
    "print (a)\n",
    "print (a.between(30, 50))"
   ]
  },
  {
   "cell_type": "code",
   "execution_count": 22,
   "metadata": {
    "scrolled": true
   },
   "outputs": [
    {
     "name": "stdout",
     "output_type": "stream",
     "text": [
      "0    33\n",
      "8    31\n",
      "9    32\n",
      "dtype: int64\n"
     ]
    }
   ],
   "source": [
    "# You can use this the returned boolean Series as a predicate into the original Series.\n",
    "print (a[a.between(30, 50)])"
   ]
  },
  {
   "cell_type": "markdown",
   "metadata": {},
   "source": [
    "**Select elements using a predicate function as the argument to `select()` .**\n"
   ]
  },
  {
   "cell_type": "code",
   "execution_count": 23,
   "metadata": {
    "scrolled": true
   },
   "outputs": [
    {
     "name": "stdout",
     "output_type": "stream",
     "text": [
      "0    25\n",
      "1    60\n",
      "2    72\n",
      "3     2\n",
      "4    34\n",
      "5     0\n",
      "dtype: int64 \n",
      "\n",
      "select func =>\n",
      " 0    25\n",
      "1    60\n",
      "2    72\n",
      "4    34\n",
      "dtype: int64\n"
     ]
    }
   ],
   "source": [
    "x = pd.Series(random.sample(range(100), 6))\n",
    "print (x, '\\n')\n",
    "print ('select func =>\\n', x.select(lambda a: x.iloc[a] > 20))"
   ]
  },
  {
   "cell_type": "markdown",
   "metadata": {},
   "source": [
    "**Use `filter(items=[..])` with the labels to be selected in a list.**"
   ]
  },
  {
   "cell_type": "code",
   "execution_count": 24,
   "metadata": {
    "scrolled": true
   },
   "outputs": [
    {
     "name": "stdout",
     "output_type": "stream",
     "text": [
      "0    1.0\n",
      "1    2.0\n",
      "2    3.0\n",
      "3    4.0\n",
      "4    NaN\n",
      "5    5.0\n",
      "6    6.0\n",
      "dtype: float64 \n",
      "\n",
      "filtered =>\n",
      " 1    2.0\n",
      "2    3.0\n",
      "6    6.0\n",
      "dtype: float64\n"
     ]
    }
   ],
   "source": [
    "x = pd.Series([1, 2, 3, 4, np.nan, 5, 6])\n",
    "print (x, '\\n')\n",
    "print ('filtered =>\\n', x.filter(items=[1, 2, 6]))"
   ]
  },
  {
   "cell_type": "markdown",
   "metadata": {},
   "source": [
    "**Select labels to filter using a regular expression match with `filter(regex=’..’)` .**"
   ]
  },
  {
   "cell_type": "code",
   "execution_count": 25,
   "metadata": {
    "scrolled": true
   },
   "outputs": [
    {
     "name": "stdout",
     "output_type": "stream",
     "text": [
      "apple     1.99\n",
      "banana    0.99\n",
      "grapes    1.49\n",
      "melon     3.99\n",
      "orange    2.49\n",
      "dtype: float64 \n",
      "\n",
      "regex filter =>\n",
      " apple     1.99\n",
      "banana    0.99\n",
      "grapes    1.49\n",
      "orange    2.49\n",
      "dtype: float64\n"
     ]
    }
   ],
   "source": [
    "x = pd.Series({'apple': 1.99,\n",
    "'orange': 2.49,\n",
    "'banana': 0.99,\n",
    "'grapes': 1.49,\n",
    "'melon': 3.99})\n",
    "print (x, '\\n')\n",
    "print ('regex filter =>\\n', x.filter(regex='a'))"
   ]
  },
  {
   "cell_type": "markdown",
   "metadata": {},
   "source": [
    "**Use the `filter(like=’..’)` version to perform a substring match on the labels to be selected.**\n",
    "\n"
   ]
  },
  {
   "cell_type": "code",
   "execution_count": 35,
   "metadata": {
    "scrolled": true
   },
   "outputs": [
    {
     "name": "stdout",
     "output_type": "stream",
     "text": [
      "like filter =>\n",
      " banana    0.99\n",
      "orange    2.49\n",
      "dtype: float64\n"
     ]
    }
   ],
   "source": [
    "print ('like filter =>\\n', x.filter(like='an'))"
   ]
  },
  {
   "cell_type": "markdown",
   "metadata": {},
   "source": [
    "**you can sort a Series by value.**\n",
    "**Use `sort_values()` to sort by the values.**"
   ]
  },
  {
   "cell_type": "code",
   "execution_count": 39,
   "metadata": {
    "scrolled": false
   },
   "outputs": [
    {
     "name": "stdout",
     "output_type": "stream",
     "text": [
      "apple     1.99\n",
      "banana    0.99\n",
      "grapes    1.49\n",
      "melon     3.99\n",
      "orange    2.49\n",
      "dtype: float64 \n",
      "\n",
      "sort by value: =>\n",
      " banana    0.99\n",
      "grapes    1.49\n",
      "apple     1.99\n",
      "orange    2.49\n",
      "melon     3.99\n",
      "dtype: float64\n"
     ]
    }
   ],
   "source": [
    "print (x, '\\n')\n",
    "print ('sort by value: =>\\n', x.sort_values())"
   ]
  },
  {
   "cell_type": "markdown",
   "metadata": {},
   "source": [
    "## Pandas DataFrames"
   ]
  },
  {
   "cell_type": "markdown",
   "metadata": {},
   "source": [
    "## Important Pands Functions (comparison  with R)"
   ]
  },
  {
   "cell_type": "markdown",
   "metadata": {},
   "source": [
    "![Imgur](https://i.imgur.com/Wsh9hfp.png)\n",
    "<sub>source: <a href=\"https://www.listendata.com/2017/05/python-data-science.html#pandas_functions\" target=\"_blank\">https://www.listendata.com/2017/05/python-data-science.html#pandas_functions</a></sub>  \n"
   ]
  },
  {
   "cell_type": "markdown",
   "metadata": {},
   "source": [
    "## Importing Other data format into Python"
   ]
  },
  {
   "cell_type": "markdown",
   "metadata": {},
   "source": [
    "https://www.listendata.com/2017/02/import-data-in-python.html"
   ]
  },
  {
   "cell_type": "code",
   "execution_count": 9,
   "metadata": {},
   "outputs": [],
   "source": [
    "mydata = pd.read_table(\"data/Download data.txt\")"
   ]
  },
  {
   "cell_type": "code",
   "execution_count": 10,
   "metadata": {},
   "outputs": [
    {
     "name": "stdout",
     "output_type": "stream",
     "text": [
      "<class 'pandas.core.frame.DataFrame'>\n",
      "RangeIndex: 84 entries, 0 to 83\n",
      "Data columns (total 1 columns):\n",
      "*&---------------------------------------------------------------------*    84 non-null object\n",
      "dtypes: object(1)\n",
      "memory usage: 752.0+ bytes\n"
     ]
    }
   ],
   "source": [
    "mydata.info()"
   ]
  },
  {
   "cell_type": "code",
   "execution_count": 12,
   "metadata": {},
   "outputs": [],
   "source": [
    "mydata1  = pd.read_csv(\"data/Download data.txt\", sep =\"\\t\")\n"
   ]
  },
  {
   "cell_type": "code",
   "execution_count": 13,
   "metadata": {},
   "outputs": [
    {
     "name": "stdout",
     "output_type": "stream",
     "text": [
      "<class 'pandas.core.frame.DataFrame'>\n",
      "RangeIndex: 84 entries, 0 to 83\n",
      "Data columns (total 1 columns):\n",
      "*&---------------------------------------------------------------------*    84 non-null object\n",
      "dtypes: object(1)\n",
      "memory usage: 752.0+ bytes\n"
     ]
    }
   ],
   "source": [
    "mydata.info()"
   ]
  },
  {
   "cell_type": "code",
   "execution_count": 11,
   "metadata": {
    "scrolled": true
   },
   "outputs": [
    {
     "data": {
      "text/plain": [
       "Index(['*&---------------------------------------------------------------------*'], dtype='object')"
      ]
     },
     "execution_count": 11,
     "metadata": {},
     "output_type": "execute_result"
    }
   ],
   "source": [
    "mydata.columns"
   ]
  },
  {
   "cell_type": "code",
   "execution_count": 3,
   "metadata": {},
   "outputs": [],
   "source": [
    "mydata3 = pd.read_excel(\"https://www.eia.gov/dnav/pet/hist_xls/RBRTEd.xls\",sheetname=\"Data 1\", skiprows=2)"
   ]
  },
  {
   "cell_type": "code",
   "execution_count": 4,
   "metadata": {},
   "outputs": [
    {
     "data": {
      "text/plain": [
       "(7952, 2)"
      ]
     },
     "execution_count": 4,
     "metadata": {},
     "output_type": "execute_result"
    }
   ],
   "source": [
    "mydata3.shape"
   ]
  },
  {
   "cell_type": "code",
   "execution_count": 5,
   "metadata": {
    "scrolled": false
   },
   "outputs": [
    {
     "data": {
      "text/html": [
       "<div>\n",
       "<style>\n",
       "    .dataframe thead tr:only-child th {\n",
       "        text-align: right;\n",
       "    }\n",
       "\n",
       "    .dataframe thead th {\n",
       "        text-align: left;\n",
       "    }\n",
       "\n",
       "    .dataframe tbody tr th {\n",
       "        vertical-align: top;\n",
       "    }\n",
       "</style>\n",
       "<table border=\"1\" class=\"dataframe\">\n",
       "  <thead>\n",
       "    <tr style=\"text-align: right;\">\n",
       "      <th></th>\n",
       "      <th>Date</th>\n",
       "      <th>Europe Brent Spot Price FOB (Dollars per Barrel)</th>\n",
       "    </tr>\n",
       "  </thead>\n",
       "  <tbody>\n",
       "    <tr>\n",
       "      <th>0</th>\n",
       "      <td>1987-05-20</td>\n",
       "      <td>18.63</td>\n",
       "    </tr>\n",
       "    <tr>\n",
       "      <th>1</th>\n",
       "      <td>1987-05-21</td>\n",
       "      <td>18.45</td>\n",
       "    </tr>\n",
       "    <tr>\n",
       "      <th>2</th>\n",
       "      <td>1987-05-22</td>\n",
       "      <td>18.55</td>\n",
       "    </tr>\n",
       "    <tr>\n",
       "      <th>3</th>\n",
       "      <td>1987-05-25</td>\n",
       "      <td>18.60</td>\n",
       "    </tr>\n",
       "    <tr>\n",
       "      <th>4</th>\n",
       "      <td>1987-05-26</td>\n",
       "      <td>18.63</td>\n",
       "    </tr>\n",
       "  </tbody>\n",
       "</table>\n",
       "</div>"
      ],
      "text/plain": [
       "        Date  Europe Brent Spot Price FOB (Dollars per Barrel)\n",
       "0 1987-05-20                                             18.63\n",
       "1 1987-05-21                                             18.45\n",
       "2 1987-05-22                                             18.55\n",
       "3 1987-05-25                                             18.60\n",
       "4 1987-05-26                                             18.63"
      ]
     },
     "execution_count": 5,
     "metadata": {},
     "output_type": "execute_result"
    }
   ],
   "source": [
    "mydata3.head()"
   ]
  },
  {
   "cell_type": "code",
   "execution_count": 23,
   "metadata": {
    "scrolled": false
   },
   "outputs": [
    {
     "data": {
      "text/plain": [
       "Date                                                datetime64[ns]\n",
       "Europe Brent Spot Price FOB (Dollars per Barrel)           float64\n",
       "dtype: object"
      ]
     },
     "execution_count": 23,
     "metadata": {},
     "output_type": "execute_result"
    }
   ],
   "source": [
    "mydata3.dtypes"
   ]
  },
  {
   "cell_type": "code",
   "execution_count": 25,
   "metadata": {
    "scrolled": true
   },
   "outputs": [
    {
     "data": {
      "text/plain": [
       "9.1"
      ]
     },
     "execution_count": 25,
     "metadata": {},
     "output_type": "execute_result"
    }
   ],
   "source": [
    "mydata3['Europe Brent Spot Price FOB (Dollars per Barrel)'].max()\n",
    "mydata3['Europe Brent Spot Price FOB (Dollars per Barrel)'].min()\n"
   ]
  },
  {
   "cell_type": "code",
   "execution_count": 26,
   "metadata": {},
   "outputs": [
    {
     "data": {
      "text/html": [
       "<div>\n",
       "<style>\n",
       "    .dataframe thead tr:only-child th {\n",
       "        text-align: right;\n",
       "    }\n",
       "\n",
       "    .dataframe thead th {\n",
       "        text-align: left;\n",
       "    }\n",
       "\n",
       "    .dataframe tbody tr th {\n",
       "        vertical-align: top;\n",
       "    }\n",
       "</style>\n",
       "<table border=\"1\" class=\"dataframe\">\n",
       "  <thead>\n",
       "    <tr style=\"text-align: right;\">\n",
       "      <th></th>\n",
       "      <th>Europe Brent Spot Price FOB (Dollars per Barrel)</th>\n",
       "    </tr>\n",
       "  </thead>\n",
       "  <tbody>\n",
       "    <tr>\n",
       "      <th>count</th>\n",
       "      <td>7903.000000</td>\n",
       "    </tr>\n",
       "    <tr>\n",
       "      <th>mean</th>\n",
       "      <td>45.498118</td>\n",
       "    </tr>\n",
       "    <tr>\n",
       "      <th>std</th>\n",
       "      <td>33.038214</td>\n",
       "    </tr>\n",
       "    <tr>\n",
       "      <th>min</th>\n",
       "      <td>9.100000</td>\n",
       "    </tr>\n",
       "    <tr>\n",
       "      <th>25%</th>\n",
       "      <td>18.600000</td>\n",
       "    </tr>\n",
       "    <tr>\n",
       "      <th>50%</th>\n",
       "      <td>29.620000</td>\n",
       "    </tr>\n",
       "    <tr>\n",
       "      <th>75%</th>\n",
       "      <td>65.945000</td>\n",
       "    </tr>\n",
       "    <tr>\n",
       "      <th>max</th>\n",
       "      <td>143.950000</td>\n",
       "    </tr>\n",
       "  </tbody>\n",
       "</table>\n",
       "</div>"
      ],
      "text/plain": [
       "       Europe Brent Spot Price FOB (Dollars per Barrel)\n",
       "count                                       7903.000000\n",
       "mean                                          45.498118\n",
       "std                                           33.038214\n",
       "min                                            9.100000\n",
       "25%                                           18.600000\n",
       "50%                                           29.620000\n",
       "75%                                           65.945000\n",
       "max                                          143.950000"
      ]
     },
     "execution_count": 26,
     "metadata": {},
     "output_type": "execute_result"
    }
   ],
   "source": [
    "mydata3.describe()"
   ]
  },
  {
   "cell_type": "code",
   "execution_count": 27,
   "metadata": {},
   "outputs": [],
   "source": [
    "mydata3.to_csv(\"data/mydata3.csv\")"
   ]
  },
  {
   "cell_type": "markdown",
   "metadata": {},
   "source": [
    "## Adding a series to data frames"
   ]
  },
  {
   "cell_type": "code",
   "execution_count": 8,
   "metadata": {},
   "outputs": [
    {
     "data": {
      "text/html": [
       "<div>\n",
       "<style>\n",
       "    .dataframe thead tr:only-child th {\n",
       "        text-align: right;\n",
       "    }\n",
       "\n",
       "    .dataframe thead th {\n",
       "        text-align: left;\n",
       "    }\n",
       "\n",
       "    .dataframe tbody tr th {\n",
       "        vertical-align: top;\n",
       "    }\n",
       "</style>\n",
       "<table border=\"1\" class=\"dataframe\">\n",
       "  <thead>\n",
       "    <tr style=\"text-align: right;\">\n",
       "      <th></th>\n",
       "      <th>Date</th>\n",
       "      <th>Europe Brent Spot Price FOB (Dollars per Barrel)</th>\n",
       "      <th>ser</th>\n",
       "    </tr>\n",
       "  </thead>\n",
       "  <tbody>\n",
       "    <tr>\n",
       "      <th>0</th>\n",
       "      <td>1987-05-20</td>\n",
       "      <td>18.63</td>\n",
       "      <td>one</td>\n",
       "    </tr>\n",
       "    <tr>\n",
       "      <th>1</th>\n",
       "      <td>1987-05-21</td>\n",
       "      <td>18.45</td>\n",
       "      <td>NaN</td>\n",
       "    </tr>\n",
       "    <tr>\n",
       "      <th>2</th>\n",
       "      <td>1987-05-22</td>\n",
       "      <td>18.55</td>\n",
       "      <td>NaN</td>\n",
       "    </tr>\n",
       "    <tr>\n",
       "      <th>3</th>\n",
       "      <td>1987-05-25</td>\n",
       "      <td>18.60</td>\n",
       "      <td>NaN</td>\n",
       "    </tr>\n",
       "    <tr>\n",
       "      <th>4</th>\n",
       "      <td>1987-05-26</td>\n",
       "      <td>18.63</td>\n",
       "      <td>two</td>\n",
       "    </tr>\n",
       "    <tr>\n",
       "      <th>5</th>\n",
       "      <td>1987-05-27</td>\n",
       "      <td>18.60</td>\n",
       "      <td>NaN</td>\n",
       "    </tr>\n",
       "    <tr>\n",
       "      <th>6</th>\n",
       "      <td>1987-05-28</td>\n",
       "      <td>18.60</td>\n",
       "      <td>three</td>\n",
       "    </tr>\n",
       "    <tr>\n",
       "      <th>7</th>\n",
       "      <td>1987-05-29</td>\n",
       "      <td>18.58</td>\n",
       "      <td>NaN</td>\n",
       "    </tr>\n",
       "    <tr>\n",
       "      <th>8</th>\n",
       "      <td>1987-06-01</td>\n",
       "      <td>18.65</td>\n",
       "      <td>NaN</td>\n",
       "    </tr>\n",
       "    <tr>\n",
       "      <th>9</th>\n",
       "      <td>1987-06-02</td>\n",
       "      <td>18.68</td>\n",
       "      <td>NaN</td>\n",
       "    </tr>\n",
       "    <tr>\n",
       "      <th>10</th>\n",
       "      <td>1987-06-03</td>\n",
       "      <td>18.75</td>\n",
       "      <td>NaN</td>\n",
       "    </tr>\n",
       "    <tr>\n",
       "      <th>11</th>\n",
       "      <td>1987-06-04</td>\n",
       "      <td>18.78</td>\n",
       "      <td>NaN</td>\n",
       "    </tr>\n",
       "    <tr>\n",
       "      <th>12</th>\n",
       "      <td>1987-06-05</td>\n",
       "      <td>18.65</td>\n",
       "      <td>NaN</td>\n",
       "    </tr>\n",
       "    <tr>\n",
       "      <th>13</th>\n",
       "      <td>1987-06-08</td>\n",
       "      <td>18.75</td>\n",
       "      <td>NaN</td>\n",
       "    </tr>\n",
       "    <tr>\n",
       "      <th>14</th>\n",
       "      <td>1987-06-09</td>\n",
       "      <td>18.78</td>\n",
       "      <td>NaN</td>\n",
       "    </tr>\n",
       "  </tbody>\n",
       "</table>\n",
       "</div>"
      ],
      "text/plain": [
       "         Date  Europe Brent Spot Price FOB (Dollars per Barrel)    ser\n",
       "0  1987-05-20                                             18.63    one\n",
       "1  1987-05-21                                             18.45    NaN\n",
       "2  1987-05-22                                             18.55    NaN\n",
       "3  1987-05-25                                             18.60    NaN\n",
       "4  1987-05-26                                             18.63    two\n",
       "5  1987-05-27                                             18.60    NaN\n",
       "6  1987-05-28                                             18.60  three\n",
       "7  1987-05-29                                             18.58    NaN\n",
       "8  1987-06-01                                             18.65    NaN\n",
       "9  1987-06-02                                             18.68    NaN\n",
       "10 1987-06-03                                             18.75    NaN\n",
       "11 1987-06-04                                             18.78    NaN\n",
       "12 1987-06-05                                             18.65    NaN\n",
       "13 1987-06-08                                             18.75    NaN\n",
       "14 1987-06-09                                             18.78    NaN"
      ]
     },
     "execution_count": 8,
     "metadata": {},
     "output_type": "execute_result"
    }
   ],
   "source": [
    "ser = pd.Series([\"one\", \"two\", \"three\"], index =[0,4, 6])\n",
    "mydata3[\"ser\"] = ser\n",
    "mydata3.head(15)"
   ]
  },
  {
   "cell_type": "markdown",
   "metadata": {},
   "source": [
    "## Loading, Subsetting, and Filtering Data with pandas"
   ]
  },
  {
   "cell_type": "markdown",
   "metadata": {},
   "source": [
    "https://towardsdatascience.com/data-science-with-python-intro-to-loading-and-subsetting-data-with-pandas-9f26895ddd7f"
   ]
  },
  {
   "cell_type": "markdown",
   "metadata": {},
   "source": [
    "<span style=\"color:red; font-family:brandon\">Further  Resources</span>  \n",
    "<a href=\"https://github.com/manujeevanprakash/Pandas-basics/blob/master/Pandas.ipynb\" target=\"_blank\">https://github.com/manujeevanprakash/Pandas-basics/blob/master/Pandas.ipynb</a>  \n",
    "<a href=\"https://www.datacamp.com/community/tutorials/pandas-tutorial-dataframe-python\" target=\"_blank\">https://www.datacamp.com/community/tutorials/pandas-tutorial-dataframe-python</a>  \n",
    "<a href=\"https://www.dataschool.io/best-practices-with-pandas/\" target=\"_blank\">https://www.dataschool.io/best-practices-with-pandas/</a>  \n",
    "https://www.datacamp.com/community/tutorials/json-data-python  "
   ]
  },
  {
   "cell_type": "markdown",
   "metadata": {},
   "source": [
    "<span style=\"color:red; font-family:Comic Sans MS\">References</span>  \n",
    "<a href=\"https://www.listendata.com/2017/05/python-data-science.html\" target=\"_blank\">https://www.listendata.com/2017/05/python-data-science.html</a>  \n",
    "<a href=\"https://jakevdp.github.io/PythonDataScienceHandbook/\" target=\"_blank\">https://jakevdp.github.io/PythonDataScienceHandbook/</a>  \n",
    "<a href=\"https://jakevdp.github.io/PythonDataScienceHandbook/\" target=\"_blank\">https://jakevdp.github.io/PythonDataScienceHandbook/</a>  \n",
    "  "
   ]
  },
  {
   "cell_type": "code",
   "execution_count": null,
   "metadata": {},
   "outputs": [],
   "source": []
  }
 ],
 "metadata": {
  "kernelspec": {
   "display_name": "Python 3",
   "language": "python",
   "name": "python3"
  },
  "language_info": {
   "codemirror_mode": {
    "name": "ipython",
    "version": 3
   },
   "file_extension": ".py",
   "mimetype": "text/x-python",
   "name": "python",
   "nbconvert_exporter": "python",
   "pygments_lexer": "ipython3",
   "version": "3.6.4"
  },
  "toc": {
   "base_numbering": 1,
   "nav_menu": {},
   "number_sections": true,
   "sideBar": true,
   "skip_h1_title": true,
   "title_cell": "Table of Contents",
   "title_sidebar": "Contents",
   "toc_cell": true,
   "toc_position": {},
   "toc_section_display": true,
   "toc_window_display": false
  }
 },
 "nbformat": 4,
 "nbformat_minor": 2
}
