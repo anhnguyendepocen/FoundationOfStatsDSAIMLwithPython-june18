{
  "cells": [
    {
      "metadata": {},
      "cell_type": "markdown",
      "source": "**Bias-Varience Tradeoff**"
    },
    {
      "metadata": {},
      "cell_type": "markdown",
      "source": "http://manishbarnwal.com/blog/2017/02/08/the_curse_of_bias_and_variance/  \nhttps://www.youtube.com/watch?v=lpkSGTT8uMg&list=PLVBorYCcu-xWBPu3o73uj2FJ_7dp6g-pr&index=12"
    },
    {
      "metadata": {},
      "cell_type": "markdown",
      "source": "**Ensemble Learning (videos)** "
    },
    {
      "metadata": {
        "collapsed": true
      },
      "cell_type": "markdown",
      "source": "Ensemble Machine Learning Techniques\nArish Ali: https://www.safaribooksonline.com/videos/ensemble-machine-learning/9781788392716  \nIntroduction to Ensemble Learning, Bagging and Boosting: https://www.youtube.com/watch?v=AiePAlZy_t8  \nEnsemble Learning, Bootstrap Aggregating (Bagging) and Boosting: https://www.youtube.com/watch?v=m-S9Hojj1as \nScikit Learn Ensemble Learning, Bootstrap Aggregating (Bagging) and Boosting: https://www.youtube.com/watch?v=X3Wbfb4M33w  "
    },
    {
      "metadata": {},
      "cell_type": "markdown",
      "source": "**Ensemble Learning (hands on)**  "
    },
    {
      "metadata": {},
      "cell_type": "markdown",
      "source": "https://www.datacamp.com/community/tutorials/ensemble-learning-python  \nhttps://github.com/shreyans29/thesemicolon/blob/master/Ensemble%20Learning.ipynb  "
    }
  ],
  "metadata": {
    "kernelspec": {
      "name": "python36",
      "display_name": "Python 3.6",
      "language": "python"
    },
    "language_info": {
      "mimetype": "text/x-python",
      "nbconvert_exporter": "python",
      "name": "python",
      "pygments_lexer": "ipython3",
      "version": "3.6.6",
      "file_extension": ".py",
      "codemirror_mode": {
        "version": 3,
        "name": "ipython"
      }
    },
    "toc": {
      "nav_menu": {},
      "number_sections": true,
      "sideBar": true,
      "skip_h1_title": false,
      "base_numbering": 1,
      "title_cell": "Table of Contents",
      "title_sidebar": "Contents",
      "toc_cell": false,
      "toc_position": {},
      "toc_section_display": true,
      "toc_window_display": false
    }
  },
  "nbformat": 4,
  "nbformat_minor": 2
}