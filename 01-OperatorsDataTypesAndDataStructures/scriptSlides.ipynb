{
  "cells": [
    {
      "metadata": {},
      "cell_type": "markdown",
      "source": "| Operators (Decreasing order of precedence) | Operators (Decreasing order of precedence)        |\n|--------------------------------------------|---------------------------------------------------|\n| `**`                                       | Exponent                                          |\n| `*, /, //, %`                              | Multiplication, Division, Floor division, Modulus |\n| `+, -`                                     | Addition, Subtraction                             |\n| `<= < > >=`                                | Comparison operators                              |\n| `= %= /= //= -= += *= **=`                 | Assignment Operators                              |\n| `is is not`                                | Identity operators                                |\n| `in not in`                                | Membership operators                              |\n| `not or and`                               | Logical operators                                 |\n\n<span style=\"color:red; font-family:centurygothic \">Continue...</span><a href=\"https://www.guru99.com/python-operators-complete-tutorial.html\" target=\"_blank\">https://www.guru99.com/python-operators-complete-tutorial.html</a>  "
    },
    {
      "metadata": {},
      "cell_type": "markdown",
      "source": "## Basics\nPython has many native datatypes. Here are the important ones:\n\n* Booleans are either True or False.\n* Numbers can be integers (1 and 2), floats (1.1 and 1.2), fractions (1/2 and 2/3), or even complex numbers.\n* Strings are sequences of Unicode characters, e.g. an html document.\n* Lists are ordered sequences of values.\n* Dictionaries are unordered bags of key-value pairs.\n* Tuples are ordered, immutable sequences of values.\n* Sets are unordered bags of values."
    },
    {
      "metadata": {
        "toc": true
      },
      "cell_type": "markdown",
      "source": "<h1>Table of Contents<span class=\"tocSkip\"></span></h1>\n<div class=\"toc\"><ul class=\"toc-item\"><li><span><a href=\"#Basics\" data-toc-modified-id=\"Basics-1\"><span class=\"toc-item-num\">1&nbsp;&nbsp;</span>Basics</a></span><ul class=\"toc-item\"><li><span><a href=\"#Booleans\" data-toc-modified-id=\"Booleans-1.1\"><span class=\"toc-item-num\">1.1&nbsp;&nbsp;</span>Booleans</a></span></li><li><span><a href=\"#Numbers\" data-toc-modified-id=\"Numbers-1.2\"><span class=\"toc-item-num\">1.2&nbsp;&nbsp;</span>Numbers</a></span></li><li><span><a href=\"#Strings\" data-toc-modified-id=\"Strings-1.3\"><span class=\"toc-item-num\">1.3&nbsp;&nbsp;</span>Strings</a></span></li><li><span><a href=\"#Lists\" data-toc-modified-id=\"Lists-1.4\"><span class=\"toc-item-num\">1.4&nbsp;&nbsp;</span>Lists</a></span><ul class=\"toc-item\"><li><span><a href=\"#Built-in-Functions-with-List\" data-toc-modified-id=\"Built-in-Functions-with-List-1.4.1\"><span class=\"toc-item-num\">1.4.1&nbsp;&nbsp;</span>Built-in Functions with List</a></span></li><li><span><a href=\"#Python-Array-Methods\" data-toc-modified-id=\"Python-Array-Methods-1.4.2\"><span class=\"toc-item-num\">1.4.2&nbsp;&nbsp;</span>Python Array Methods</a></span></li></ul></li><li><span><a href=\"#Dictionaries\" data-toc-modified-id=\"Dictionaries-1.5\"><span class=\"toc-item-num\">1.5&nbsp;&nbsp;</span>Dictionaries</a></span></li><li><span><a href=\"#Tuples\" data-toc-modified-id=\"Tuples-1.6\"><span class=\"toc-item-num\">1.6&nbsp;&nbsp;</span>Tuples</a></span></li><li><span><a href=\"#Sets\" data-toc-modified-id=\"Sets-1.7\"><span class=\"toc-item-num\">1.7&nbsp;&nbsp;</span>Sets</a></span></li></ul></li><li><span><a href=\"#Data-types-Tree\" data-toc-modified-id=\"Data-types-Tree-2\"><span class=\"toc-item-num\">2&nbsp;&nbsp;</span>Data types Tree</a></span></li><li><span><a href=\"#Type-conversion\" data-toc-modified-id=\"Type-conversion-3\"><span class=\"toc-item-num\">3&nbsp;&nbsp;</span>Type conversion</a></span><ul class=\"toc-item\"><li><span><a href=\"#Implicit-type-conversion\" data-toc-modified-id=\"Implicit-type-conversion-3.1\"><span class=\"toc-item-num\">3.1&nbsp;&nbsp;</span>Implicit type conversion</a></span></li><li><span><a href=\"#Explicit-type-conversion\" data-toc-modified-id=\"Explicit-type-conversion-3.2\"><span class=\"toc-item-num\">3.2&nbsp;&nbsp;</span>Explicit type conversion</a></span></li></ul></li><li><span><a href=\"#Working-with-files---Reading-and-Writing\" data-toc-modified-id=\"Working-with-files---Reading-and-Writing-4\"><span class=\"toc-item-num\">4&nbsp;&nbsp;</span>Working with files - Reading and Writing</a></span></li></ul></div>"
    },
    {
      "metadata": {},
      "cell_type": "markdown",
      "source": "### Booleans"
    },
    {
      "metadata": {
        "trusted": false
      },
      "cell_type": "code",
      "source": "True",
      "execution_count": 31,
      "outputs": [
        {
          "data": {
            "text/plain": "True"
          },
          "execution_count": 31,
          "metadata": {},
          "output_type": "execute_result"
        }
      ]
    },
    {
      "metadata": {
        "trusted": false
      },
      "cell_type": "code",
      "source": "False",
      "execution_count": 32,
      "outputs": [
        {
          "data": {
            "text/plain": "False"
          },
          "execution_count": 32,
          "metadata": {},
          "output_type": "execute_result"
        }
      ]
    },
    {
      "metadata": {},
      "cell_type": "markdown",
      "source": "### Numbers"
    },
    {
      "metadata": {
        "trusted": false
      },
      "cell_type": "code",
      "source": "1 + 1",
      "execution_count": 33,
      "outputs": [
        {
          "data": {
            "text/plain": "2"
          },
          "execution_count": 33,
          "metadata": {},
          "output_type": "execute_result"
        }
      ]
    },
    {
      "metadata": {
        "trusted": false
      },
      "cell_type": "code",
      "source": "1 * 3",
      "execution_count": 34,
      "outputs": [
        {
          "data": {
            "text/plain": "3"
          },
          "execution_count": 34,
          "metadata": {},
          "output_type": "execute_result"
        }
      ]
    },
    {
      "metadata": {
        "trusted": false
      },
      "cell_type": "code",
      "source": "1 / 2",
      "execution_count": 35,
      "outputs": [
        {
          "data": {
            "text/plain": "0.5"
          },
          "execution_count": 35,
          "metadata": {},
          "output_type": "execute_result"
        }
      ]
    },
    {
      "metadata": {
        "trusted": false
      },
      "cell_type": "code",
      "source": "2 ** 4",
      "execution_count": 36,
      "outputs": [
        {
          "data": {
            "text/plain": "16"
          },
          "execution_count": 36,
          "metadata": {},
          "output_type": "execute_result"
        }
      ]
    },
    {
      "metadata": {
        "trusted": false
      },
      "cell_type": "code",
      "source": "4 % 2",
      "execution_count": 37,
      "outputs": [
        {
          "data": {
            "text/plain": "0"
          },
          "execution_count": 37,
          "metadata": {},
          "output_type": "execute_result"
        }
      ]
    },
    {
      "metadata": {
        "trusted": false
      },
      "cell_type": "code",
      "source": "5 % 2",
      "execution_count": 38,
      "outputs": [
        {
          "data": {
            "text/plain": "1"
          },
          "execution_count": 38,
          "metadata": {},
          "output_type": "execute_result"
        }
      ]
    },
    {
      "metadata": {
        "scrolled": true,
        "trusted": false
      },
      "cell_type": "code",
      "source": "(2 + 3) * (5 + 5)",
      "execution_count": 39,
      "outputs": [
        {
          "data": {
            "text/plain": "50"
          },
          "execution_count": 39,
          "metadata": {},
          "output_type": "execute_result"
        }
      ]
    },
    {
      "metadata": {},
      "cell_type": "markdown",
      "source": "### Strings"
    },
    {
      "metadata": {
        "trusted": false
      },
      "cell_type": "code",
      "source": "'single quotes'",
      "execution_count": 124,
      "outputs": [
        {
          "data": {
            "text/plain": "'single quotes'"
          },
          "execution_count": 124,
          "metadata": {},
          "output_type": "execute_result"
        }
      ]
    },
    {
      "metadata": {
        "trusted": false
      },
      "cell_type": "code",
      "source": "\"double quotes\"",
      "execution_count": 125,
      "outputs": [
        {
          "data": {
            "text/plain": "'double quotes'"
          },
          "execution_count": 125,
          "metadata": {},
          "output_type": "execute_result"
        }
      ]
    },
    {
      "metadata": {
        "trusted": false
      },
      "cell_type": "code",
      "source": "\" wrap lot's of other quotes\"",
      "execution_count": 126,
      "outputs": [
        {
          "data": {
            "text/plain": "\" wrap lot's of other quotes\""
          },
          "execution_count": 126,
          "metadata": {},
          "output_type": "execute_result"
        }
      ]
    },
    {
      "metadata": {
        "trusted": false
      },
      "cell_type": "code",
      "source": "s= \"hello world\"",
      "execution_count": 127,
      "outputs": []
    },
    {
      "metadata": {
        "trusted": false
      },
      "cell_type": "code",
      "source": "s.upper()",
      "execution_count": 128,
      "outputs": [
        {
          "data": {
            "text/plain": "'HELLO WORLD'"
          },
          "execution_count": 128,
          "metadata": {},
          "output_type": "execute_result"
        }
      ]
    },
    {
      "metadata": {
        "trusted": false
      },
      "cell_type": "code",
      "source": "s.islower()",
      "execution_count": 129,
      "outputs": [
        {
          "data": {
            "text/plain": "True"
          },
          "execution_count": 129,
          "metadata": {},
          "output_type": "execute_result"
        }
      ]
    },
    {
      "metadata": {
        "trusted": false
      },
      "cell_type": "code",
      "source": "s= \"HELLO WORLD\"",
      "execution_count": 130,
      "outputs": []
    },
    {
      "metadata": {
        "trusted": false
      },
      "cell_type": "code",
      "source": "s.islower()",
      "execution_count": 131,
      "outputs": [
        {
          "data": {
            "text/plain": "False"
          },
          "execution_count": 131,
          "metadata": {},
          "output_type": "execute_result"
        }
      ]
    },
    {
      "metadata": {
        "trusted": false
      },
      "cell_type": "code",
      "source": "s.capitalize()",
      "execution_count": 132,
      "outputs": [
        {
          "data": {
            "text/plain": "'Hello world'"
          },
          "execution_count": 132,
          "metadata": {},
          "output_type": "execute_result"
        }
      ]
    },
    {
      "metadata": {
        "trusted": false
      },
      "cell_type": "code",
      "source": "s.lower()",
      "execution_count": 133,
      "outputs": [
        {
          "data": {
            "text/plain": "'hello world'"
          },
          "execution_count": 133,
          "metadata": {},
          "output_type": "execute_result"
        }
      ]
    },
    {
      "metadata": {
        "trusted": false
      },
      "cell_type": "code",
      "source": "s = \"HeLlO WoRlD\"",
      "execution_count": 134,
      "outputs": []
    },
    {
      "metadata": {
        "trusted": false
      },
      "cell_type": "code",
      "source": "s.swapcase()",
      "execution_count": 135,
      "outputs": [
        {
          "data": {
            "text/plain": "'hElLo wOrLd'"
          },
          "execution_count": 135,
          "metadata": {},
          "output_type": "execute_result"
        }
      ]
    },
    {
      "metadata": {
        "trusted": false
      },
      "cell_type": "code",
      "source": "s = \" Hello world how are you \"",
      "execution_count": 136,
      "outputs": []
    },
    {
      "metadata": {
        "trusted": false
      },
      "cell_type": "code",
      "source": "s = \"hello world how are you\"",
      "execution_count": 137,
      "outputs": []
    },
    {
      "metadata": {
        "trusted": false
      },
      "cell_type": "code",
      "source": "s.capitalize()",
      "execution_count": 138,
      "outputs": [
        {
          "data": {
            "text/plain": "'Hello world how are you'"
          },
          "execution_count": 138,
          "metadata": {},
          "output_type": "execute_result"
        }
      ]
    },
    {
      "metadata": {
        "trusted": false
      },
      "cell_type": "code",
      "source": "s.title()",
      "execution_count": 139,
      "outputs": [
        {
          "data": {
            "text/plain": "'Hello World How Are You'"
          },
          "execution_count": 139,
          "metadata": {},
          "output_type": "execute_result"
        }
      ]
    },
    {
      "metadata": {
        "trusted": false
      },
      "cell_type": "code",
      "source": "s.upper()",
      "execution_count": 140,
      "outputs": [
        {
          "data": {
            "text/plain": "'HELLO WORLD HOW ARE YOU'"
          },
          "execution_count": 140,
          "metadata": {},
          "output_type": "execute_result"
        }
      ]
    },
    {
      "metadata": {
        "trusted": false
      },
      "cell_type": "code",
      "source": "\"H\" in s",
      "execution_count": 141,
      "outputs": [
        {
          "data": {
            "text/plain": "False"
          },
          "execution_count": 141,
          "metadata": {},
          "output_type": "execute_result"
        }
      ]
    },
    {
      "metadata": {
        "trusted": false
      },
      "cell_type": "code",
      "source": "\"h\" in s",
      "execution_count": 142,
      "outputs": [
        {
          "data": {
            "text/plain": "True"
          },
          "execution_count": 142,
          "metadata": {},
          "output_type": "execute_result"
        }
      ]
    },
    {
      "metadata": {
        "trusted": false
      },
      "cell_type": "code",
      "source": "len(s)",
      "execution_count": 143,
      "outputs": [
        {
          "data": {
            "text/plain": "23"
          },
          "execution_count": 143,
          "metadata": {},
          "output_type": "execute_result"
        }
      ]
    },
    {
      "metadata": {
        "trusted": false
      },
      "cell_type": "code",
      "source": "s = ' hello world how are you'",
      "execution_count": 144,
      "outputs": []
    },
    {
      "metadata": {
        "trusted": false
      },
      "cell_type": "code",
      "source": "s.strip()",
      "execution_count": 145,
      "outputs": [
        {
          "data": {
            "text/plain": "'hello world how are you'"
          },
          "execution_count": 145,
          "metadata": {},
          "output_type": "execute_result"
        }
      ]
    },
    {
      "metadata": {
        "trusted": false
      },
      "cell_type": "code",
      "source": "min(s.strip())",
      "execution_count": 146,
      "outputs": [
        {
          "data": {
            "text/plain": "' '"
          },
          "execution_count": 146,
          "metadata": {},
          "output_type": "execute_result"
        }
      ]
    },
    {
      "metadata": {
        "trusted": false
      },
      "cell_type": "code",
      "source": "max(s)",
      "execution_count": 147,
      "outputs": [
        {
          "data": {
            "text/plain": "'y'"
          },
          "execution_count": 147,
          "metadata": {},
          "output_type": "execute_result"
        }
      ]
    },
    {
      "metadata": {
        "trusted": false
      },
      "cell_type": "code",
      "source": "s",
      "execution_count": 148,
      "outputs": [
        {
          "data": {
            "text/plain": "' hello world how are you'"
          },
          "execution_count": 148,
          "metadata": {},
          "output_type": "execute_result"
        }
      ]
    },
    {
      "metadata": {
        "trusted": false
      },
      "cell_type": "code",
      "source": "s.isspace()",
      "execution_count": 149,
      "outputs": [
        {
          "data": {
            "text/plain": "False"
          },
          "execution_count": 149,
          "metadata": {},
          "output_type": "execute_result"
        }
      ]
    },
    {
      "metadata": {
        "trusted": false
      },
      "cell_type": "code",
      "source": "s.strip()",
      "execution_count": 150,
      "outputs": [
        {
          "data": {
            "text/plain": "'hello world how are you'"
          },
          "execution_count": 150,
          "metadata": {},
          "output_type": "execute_result"
        }
      ]
    },
    {
      "metadata": {},
      "cell_type": "markdown",
      "source": "### Lists"
    },
    {
      "metadata": {},
      "cell_type": "markdown",
      "source": "* General purpose\n* Most widely used data structures\n* contain any type of objects\n* similar to arrays\n* can be extended or reduce the size as we needed\n* Sequence type\n* sortable\n* declare them using square brackets separated with commas of each value/item\n* Better to use this object for list of values which we need some flexibility to add/remove/sort/reverse/delete...etc operations."
    },
    {
      "metadata": {},
      "cell_type": "markdown",
      "source": "> **Example:** \n* List of employees in your department\n* List of stocks you want to analyze"
    },
    {
      "metadata": {},
      "cell_type": "raw",
      "source": "A = [ ] # This is a blank list variable\nB = [1, 23, 45, 67] # this list creates an initial list of 4 numbers.\nC = [2, 4, 'john'] # lists can contain different variable types."
    },
    {
      "metadata": {
        "trusted": false
      },
      "cell_type": "code",
      "source": "[1,2,3]",
      "execution_count": 152,
      "outputs": [
        {
          "data": {
            "text/plain": "[1, 2, 3]"
          },
          "execution_count": 152,
          "metadata": {},
          "output_type": "execute_result"
        }
      ]
    },
    {
      "metadata": {
        "trusted": false
      },
      "cell_type": "code",
      "source": "['hi',1,[1,2]]",
      "execution_count": 153,
      "outputs": [
        {
          "data": {
            "text/plain": "['hi', 1, [1, 2]]"
          },
          "execution_count": 153,
          "metadata": {},
          "output_type": "execute_result"
        }
      ]
    },
    {
      "metadata": {
        "trusted": false
      },
      "cell_type": "code",
      "source": "my_list = ['a','b','c']",
      "execution_count": 154,
      "outputs": []
    },
    {
      "metadata": {
        "trusted": false
      },
      "cell_type": "code",
      "source": "my_list.append('d')",
      "execution_count": 155,
      "outputs": []
    },
    {
      "metadata": {
        "trusted": false
      },
      "cell_type": "code",
      "source": "my_list",
      "execution_count": 156,
      "outputs": [
        {
          "data": {
            "text/plain": "['a', 'b', 'c', 'd']"
          },
          "execution_count": 156,
          "metadata": {},
          "output_type": "execute_result"
        }
      ]
    },
    {
      "metadata": {
        "trusted": false
      },
      "cell_type": "code",
      "source": "my_list[0]",
      "execution_count": 157,
      "outputs": [
        {
          "data": {
            "text/plain": "'a'"
          },
          "execution_count": 157,
          "metadata": {},
          "output_type": "execute_result"
        }
      ]
    },
    {
      "metadata": {
        "trusted": false
      },
      "cell_type": "code",
      "source": "my_list[1]",
      "execution_count": 158,
      "outputs": [
        {
          "data": {
            "text/plain": "'b'"
          },
          "execution_count": 158,
          "metadata": {},
          "output_type": "execute_result"
        }
      ]
    },
    {
      "metadata": {
        "trusted": false
      },
      "cell_type": "code",
      "source": "my_list[1:]",
      "execution_count": 159,
      "outputs": [
        {
          "data": {
            "text/plain": "['b', 'c', 'd']"
          },
          "execution_count": 159,
          "metadata": {},
          "output_type": "execute_result"
        }
      ]
    },
    {
      "metadata": {
        "trusted": false
      },
      "cell_type": "code",
      "source": "my_list[:1]",
      "execution_count": 160,
      "outputs": [
        {
          "data": {
            "text/plain": "['a']"
          },
          "execution_count": 160,
          "metadata": {},
          "output_type": "execute_result"
        }
      ]
    },
    {
      "metadata": {
        "trusted": false
      },
      "cell_type": "code",
      "source": "my_list[0] = 'NEW'",
      "execution_count": 161,
      "outputs": []
    },
    {
      "metadata": {
        "trusted": false
      },
      "cell_type": "code",
      "source": "my_list",
      "execution_count": 162,
      "outputs": [
        {
          "data": {
            "text/plain": "['NEW', 'b', 'c', 'd']"
          },
          "execution_count": 162,
          "metadata": {},
          "output_type": "execute_result"
        }
      ]
    },
    {
      "metadata": {
        "trusted": false
      },
      "cell_type": "code",
      "source": "mylist = ['Rhino', 'Grasshopper', 'Flamingo', 'Bongo']\nB = len(mylist) # This will return the length of the list which is 3. The index is 0, 1, 2, 3.\nprint (mylist[1]) # This will return the value at index 1, which is 'Grasshopper'\nprint (mylist[0:2]) # This will return the first 2 elements in the list.",
      "execution_count": 163,
      "outputs": [
        {
          "name": "stdout",
          "output_type": "stream",
          "text": "Grasshopper\n['Rhino', 'Grasshopper']\n"
        }
      ]
    },
    {
      "metadata": {
        "trusted": false
      },
      "cell_type": "code",
      "source": "nest = [1,2,3,[4,5,['target']]]",
      "execution_count": 164,
      "outputs": []
    },
    {
      "metadata": {
        "trusted": false
      },
      "cell_type": "code",
      "source": "nest[3]",
      "execution_count": 165,
      "outputs": [
        {
          "data": {
            "text/plain": "[4, 5, ['target']]"
          },
          "execution_count": 165,
          "metadata": {},
          "output_type": "execute_result"
        }
      ]
    },
    {
      "metadata": {
        "trusted": false
      },
      "cell_type": "code",
      "source": "nest[3][2]",
      "execution_count": 166,
      "outputs": [
        {
          "data": {
            "text/plain": "['target']"
          },
          "execution_count": 166,
          "metadata": {},
          "output_type": "execute_result"
        }
      ]
    },
    {
      "metadata": {
        "trusted": false
      },
      "cell_type": "code",
      "source": "nest[3][2][0]",
      "execution_count": 167,
      "outputs": [
        {
          "data": {
            "text/plain": "'target'"
          },
          "execution_count": 167,
          "metadata": {},
          "output_type": "execute_result"
        }
      ]
    },
    {
      "metadata": {
        "trusted": false
      },
      "cell_type": "code",
      "source": "nest[3][2][0].upper()",
      "execution_count": 168,
      "outputs": [
        {
          "data": {
            "text/plain": "'TARGET'"
          },
          "execution_count": 168,
          "metadata": {},
          "output_type": "execute_result"
        }
      ]
    },
    {
      "metadata": {
        "trusted": false
      },
      "cell_type": "code",
      "source": "# assign data to a specific element of the list using an index into the list.\nmylist = [0, 1, 2, 3]\nmylist[0] = 'Rhino'\nmylist[1] = 'Grasshopper'\nmylist[2] = 'Flamingo'\nmylist[3] = 'Bongo'\nprint (mylist[1])",
      "execution_count": 169,
      "outputs": [
        {
          "name": "stdout",
          "output_type": "stream",
          "text": "Grasshopper\n"
        }
      ]
    },
    {
      "metadata": {},
      "cell_type": "markdown",
      "source": "#### Built-in Functions with List\n"
    },
    {
      "metadata": {},
      "cell_type": "markdown",
      "source": "| Function    | Description                                                                                       |\n|-------------|---------------------------------------------------------------------------------------------------|\n| any()       | Return True if any element of the list is true. If the list is empty, return False.               |\n| enumerate() | Return an enumerate object. It contains the index and value of all the items of list as a tuple.  |\n|   len()     |   Return the length (the number of items) in the list.                                            |\n| list()      | Convert an iterable (tuple, string, set, dictionary) to a list.                                   |\n| max()       | Return the largest item in the list.                                                              |\n| min()       | Return the smallest item in the list                                                              |\n| sorted()    |   Return a new sorted list (does not sort the list itself).                                       |\n| sum()       | Return the sum of all elements in the list.                                                       |"
    },
    {
      "metadata": {},
      "cell_type": "markdown",
      "source": "#### Python Array Methods"
    },
    {
      "metadata": {},
      "cell_type": "markdown",
      "source": "| Methods       | Functions                                                |\n|---------------|----------------------------------------------------------|\n| append()      | to add element to the end of the list                    |\n| extend()      | to extend all elements of a list to the another list     |\n| insert()      | to insert an element at the another index                |\n| remove()      | to remove an element from the list                       |\n| pop()         | to remove elements return element at the given index     |\n| clear()       | to remove all elements from the list                     |\n| index()       | to return the index of the first matched element         |\n| count()       | to count of number of elements passed as an argument     |\n| sort()        | to sort the elements in ascending order by default       |\n| reverse()     | to reverse order element in a list                       |\n| copy()        | to return a copy of elements in a list                   |"
    },
    {
      "metadata": {},
      "cell_type": "markdown",
      "source": "https://developers.google.com/edu/python/lists  \nhttp://thepythonguru.com/python-lists/  \nhttps://www.tutorialspoint.com/python/python_lists.htm"
    },
    {
      "metadata": {},
      "cell_type": "markdown",
      "source": "### Dictionaries"
    },
    {
      "metadata": {},
      "cell_type": "markdown",
      "source": "* sequence of items having Each item is a pair of a key and value\n* It holds word-meaning pairs just like real dictionaries \n* Un ordered\n* Dictionaries are not sorted\n* Access to the list of keys or values independently.\n* To declare a dictionary, we use curly braces.\n* Better to use this object for unordered storage of values which are associated with some keys "
    },
    {
      "metadata": {},
      "cell_type": "markdown",
      "source": "> **Examples:** \n* Employee name associated with Employee ID   \n* Order status of online food"
    },
    {
      "metadata": {
        "trusted": false
      },
      "cell_type": "code",
      "source": "room_num = {'john': 425, 'tom': 212}\nroom_num['john'] = 645  # set the value associated with the 'john' key to 645\nprint (room_num['tom']) # print the value of the 'tom' key.\nroom_num['isaac'] = 345 # Add a new key 'isaac' with the associated value\nprint (room_num.keys()) # print out a list of keys in the dictionary\nprint ('isaac' in room_num) # test to asee if 'issac' is in the dictionary.  This returns true.",
      "execution_count": 170,
      "outputs": [
        {
          "name": "stdout",
          "output_type": "stream",
          "text": "212\ndict_keys(['john', 'tom', 'isaac'])\nTrue\n"
        }
      ]
    },
    {
      "metadata": {
        "trusted": false
      },
      "cell_type": "code",
      "source": "d = {'key1':'value1','key2':'value2'}",
      "execution_count": 171,
      "outputs": []
    },
    {
      "metadata": {
        "trusted": false
      },
      "cell_type": "code",
      "source": "d",
      "execution_count": 172,
      "outputs": [
        {
          "data": {
            "text/plain": "{'key1': 'item1', 'key2': 'item2'}"
          },
          "execution_count": 172,
          "metadata": {},
          "output_type": "execute_result"
        }
      ]
    },
    {
      "metadata": {
        "trusted": false
      },
      "cell_type": "code",
      "source": "d['key1']",
      "execution_count": 173,
      "outputs": [
        {
          "data": {
            "text/plain": "'item1'"
          },
          "execution_count": 173,
          "metadata": {},
          "output_type": "execute_result"
        }
      ]
    },
    {
      "metadata": {},
      "cell_type": "markdown",
      "source": "https://www.tutorialspoint.com/python/python_dictionary.htm  \nhttp://thepythonguru.com/python-dictionaries/    \nhttps://realpython.com/python-dicts/    "
    },
    {
      "metadata": {},
      "cell_type": "markdown",
      "source": "### Tuples"
    },
    {
      "metadata": {},
      "cell_type": "markdown",
      "source": "* Immutable\n* Better for fixed data\n* useful to share the data with someone but not allow them to manipulate\n* use the data values for arithmatic operations, however the changes is not reflected in the original data\n* contain any type of objects (heterogeneous container for items) \n* similar to arrays\n* faster compare with the lists\n* sequencey type\n* To declare tuples we use parentheses.\n* Unlike Python lists, tuples does not have methods such as `append()`, `remove()`, `extend()`, `insert()` and `pop()` due to its immutable nature. However, there are many other built-in methods to work with tuple \n* Better to use this object for a list of values which order really matters when there is no need to add/delete those items"
    },
    {
      "metadata": {},
      "cell_type": "markdown",
      "source": "> **Example:** \n* List of months, or weekdays..etc\n* List of top 10 sales regions in a quarter"
    },
    {
      "metadata": {
        "trusted": false
      },
      "cell_type": "code",
      "source": "t = (1,2,3)",
      "execution_count": 174,
      "outputs": []
    },
    {
      "metadata": {},
      "cell_type": "markdown",
      "source": "t[0]\n\n`t[0] = 'NEW' # not mutable for tuples`\n```{python}\n---------------------------------------------------------------------------\nTypeError                                 Traceback (most recent call last)\n<ipython-input-212-9650bd97cc9a> in <module>()\n----> 1 t[0] = 'NEW' # not mutable for tuples\n\nTypeError: 'tuple' object does not support item assignment\n```"
    },
    {
      "metadata": {},
      "cell_type": "markdown",
      "source": "https://data-flair.training/blogs/python-tuples-syntax-examples/   \nhttp://thepythonguru.com/python-tuples/  "
    },
    {
      "metadata": {},
      "cell_type": "markdown",
      "source": "### Sets"
    },
    {
      "metadata": {},
      "cell_type": "markdown",
      "source": "* Sets are unordered collections of unique elements. Duplicates are not allowed.\n* very fast access vs lists\n* A set itself may be modified, but the elements contained in the set must be of an immutable type.\n* Python provides us with a list of functions and methods like `discard()`, `pop()`, `clear()`, `remove()`, `add()`, and more. Functions like `len()` and `max()` also apply on sets.\n* It is sequenced (automatically while printing), but does not support indexing.\n* To declare a set, write a sequence of items separated with commas, inside curly braces.\n* Better to use this object a collection of sets which needs to membership or mapping really matters"
    },
    {
      "metadata": {
        "trusted": false
      },
      "cell_type": "code",
      "source": "{1,2,3}",
      "execution_count": 175,
      "outputs": [
        {
          "data": {
            "text/plain": "{1, 2, 3}"
          },
          "execution_count": 175,
          "metadata": {},
          "output_type": "execute_result"
        }
      ]
    },
    {
      "metadata": {},
      "cell_type": "markdown",
      "source": "**Adding Elements to a Set**  \n* sets are mutable – but since they are unordered, indexes would not make any sense to it. We will not be able to access or update an element based on the index of an element in a set, as set does not support both indexing and slicing.   \n* we can use the `add()` method to add a single element if we need to add more than one element to a set, we can use the `update()` method"
    },
    {
      "metadata": {
        "trusted": false
      },
      "cell_type": "code",
      "source": "a = {1, 3, 5, 7, 11, 13}\nb = set([1, 3, 5, 7, 11, 13])",
      "execution_count": 4,
      "outputs": []
    },
    {
      "metadata": {
        "trusted": false
      },
      "cell_type": "code",
      "source": "a.add(8)\nprint(a)\nb.update([5,2,14,7])\nprint(b)",
      "execution_count": 5,
      "outputs": [
        {
          "name": "stdout",
          "output_type": "stream",
          "text": "{1, 3, 5, 7, 8, 11, 13}\n{1, 2, 3, 5, 7, 11, 13, 14}\n"
        }
      ]
    },
    {
      "metadata": {
        "trusted": false
      },
      "cell_type": "code",
      "source": "# initialize my_set\nmy_set = {1,3}\nprint(my_set)\n\n# add list and set\n# Output: {1, 2, 3, 4, 5, 6, 8}\nmy_set.update([4,5], {1,6,8})\nprint(my_set)\n\n# if you uncomment below line\n# you will get an error\n# TypeError: 'set' object does not support indexing\n\n#my_set[0]",
      "execution_count": 25,
      "outputs": [
        {
          "name": "stdout",
          "output_type": "stream",
          "text": "{1, 3}\n{1, 3, 4, 5, 6, 8}\n"
        }
      ]
    },
    {
      "metadata": {},
      "cell_type": "markdown",
      "source": "**Remove Elements From a Set**"
    },
    {
      "metadata": {},
      "cell_type": "markdown",
      "source": "`discard()`    \nThis method takes the item to delete as an argument.\n* deleting an item that doesn’t exist in the set, discard() ignores it"
    },
    {
      "metadata": {
        "trusted": false
      },
      "cell_type": "code",
      "source": "num = {13,12,21,43,16,25}",
      "execution_count": 1,
      "outputs": []
    },
    {
      "metadata": {
        "trusted": false
      },
      "cell_type": "code",
      "source": "num.discard(3)",
      "execution_count": 2,
      "outputs": []
    },
    {
      "metadata": {
        "scrolled": true,
        "trusted": false
      },
      "cell_type": "code",
      "source": "num",
      "execution_count": 3,
      "outputs": [
        {
          "data": {
            "text/plain": "{12, 13, 16, 21, 25, 43}"
          },
          "execution_count": 3,
          "metadata": {},
          "output_type": "execute_result"
        }
      ]
    },
    {
      "metadata": {},
      "cell_type": "markdown",
      "source": "`remove()`\n\nLike the discard() method, remove() deletes an item from the set.\n* deleting an item that doesn’t exist in the set, remove() gives an error"
    },
    {
      "metadata": {
        "trusted": false
      },
      "cell_type": "code",
      "source": "num.remove(5)",
      "execution_count": 14,
      "outputs": []
    },
    {
      "metadata": {
        "trusted": false
      },
      "cell_type": "code",
      "source": "num",
      "execution_count": 15,
      "outputs": [
        {
          "data": {
            "text/plain": "{1, 2, 4, 6}"
          },
          "execution_count": 15,
          "metadata": {},
          "output_type": "execute_result"
        }
      ]
    },
    {
      "metadata": {},
      "cell_type": "markdown",
      "source": "`pop()`\n* here, it does not take an argument. Because a set doesn’t support indexing\n* it pops out an arbitrary item. \n* we will not be able to determine which element of the set will be removed using the `pop()` method. In case of list, the last element of the list gets popped when the pop() method is used. "
    },
    {
      "metadata": {
        "trusted": false
      },
      "cell_type": "code",
      "source": "num = {13,12,21,43,16,25}",
      "execution_count": 22,
      "outputs": []
    },
    {
      "metadata": {
        "trusted": false
      },
      "cell_type": "code",
      "source": "num.pop()",
      "execution_count": 21,
      "outputs": [
        {
          "ename": "KeyError",
          "evalue": "'pop from an empty set'",
          "output_type": "error",
          "traceback": [
            "\u001b[1;31m---------------------------------------------------------------------------\u001b[0m",
            "\u001b[1;31mKeyError\u001b[0m                                  Traceback (most recent call last)",
            "\u001b[1;32m<ipython-input-21-03a12495f7f5>\u001b[0m in \u001b[0;36m<module>\u001b[1;34m()\u001b[0m\n\u001b[1;32m----> 1\u001b[1;33m \u001b[0mnum\u001b[0m\u001b[1;33m.\u001b[0m\u001b[0mpop\u001b[0m\u001b[1;33m(\u001b[0m\u001b[1;33m)\u001b[0m\u001b[1;33m\u001b[0m\u001b[0m\n\u001b[0m",
            "\u001b[1;31mKeyError\u001b[0m: 'pop from an empty set'"
          ]
        }
      ]
    },
    {
      "metadata": {},
      "cell_type": "markdown",
      "source": "We can also remove all items from a set using `clear()`."
    },
    {
      "metadata": {},
      "cell_type": "markdown",
      "source": "`clear()`\n* It empties the set in Python."
    },
    {
      "metadata": {
        "trusted": false
      },
      "cell_type": "code",
      "source": "num = {13,12,21,43,16,25}",
      "execution_count": 4,
      "outputs": []
    },
    {
      "metadata": {
        "scrolled": false,
        "trusted": false
      },
      "cell_type": "code",
      "source": "num.clear()",
      "execution_count": 5,
      "outputs": []
    },
    {
      "metadata": {
        "trusted": false
      },
      "cell_type": "code",
      "source": "num",
      "execution_count": 6,
      "outputs": [
        {
          "data": {
            "text/plain": "set()"
          },
          "execution_count": 6,
          "metadata": {},
          "output_type": "execute_result"
        }
      ]
    },
    {
      "metadata": {},
      "cell_type": "markdown",
      "source": "https://realpython.com/python-sets/  \nhttps://www.programiz.com/python-programming/set"
    },
    {
      "metadata": {},
      "cell_type": "markdown",
      "source": "## Data types Tree"
    },
    {
      "metadata": {},
      "cell_type": "markdown",
      "source": "![Imgur](https://i.imgur.com/VXwzhyT.jpg)"
    },
    {
      "metadata": {},
      "cell_type": "markdown",
      "source": "## Type conversion"
    },
    {
      "metadata": {},
      "cell_type": "markdown",
      "source": "### Implicit type conversion"
    },
    {
      "metadata": {
        "trusted": false
      },
      "cell_type": "code",
      "source": "int1 = 4\nfloat1 = int1 + 2.1 # 4 converted to float\nint2 = 4 + True # 5: bool is implicitly converted to int",
      "execution_count": null,
      "outputs": []
    },
    {
      "metadata": {},
      "cell_type": "markdown",
      "source": "### Explicit type conversion"
    },
    {
      "metadata": {
        "trusted": false
      },
      "cell_type": "code",
      "source": "v1 = int(2.7) # 2\nv2 = int(-3.9) # -3\nv3 = int(\"2\") # 2\nv5 = long(2)\nv6 = float(2) # 2.0\nv7 = float(\"2.7\") # 2.7\nv8 = float(\"2.7E-2\") # 0.027\nv9 = float(False) # 0.0\nvA = float(True) # 1.0\n# str1 = \"My int:\" + int1 # Error: no implicit type conversion from int to string\nvB = str(4.5) # \"4.5\"\nstr1 = \"My int:\" + str(int1)\nvC = str([1, 3, 5]) # \"[1, 3, 5]\"\nvD = bool(0) # False; bool fn since Python 2.2.1\nvE = bool(3) # True\nvF = bool([]) # False - empty list\nvG = bool([False]) # True - non-empty list\nvH = bool({}) # False - empty dict; same for empty tuple\nvI = bool(\"\") # False - empty string\nvJ = bool(\" \") # True - non-empty string\nvK = bool(None) # False\nvL = bool(len) # True\nvM = set([1, 2])\nvN = list(vM)\nvO = list({1: \"a\", 2: \"b\"}) # dict -> list of keys\nvP = tuple(vN)\nvQ = list(\"abc\") # ['a', 'b', 'c']\nprint v1, v2, v3, type(v1), type(v2), type(v3)",
      "execution_count": null,
      "outputs": []
    },
    {
      "metadata": {},
      "cell_type": "markdown",
      "source": "## Working with files - Reading and Writing"
    },
    {
      "metadata": {
        "scrolled": true,
        "trusted": false
      },
      "cell_type": "code",
      "source": "#\n# Read and write files using the built-in Python file methods\n#\n\n#def main():  \n  # Open a file for writing and create it if it doesn't exist\nf = open(\"data/textfile.txt\",\"w+\")\n  \n  # Open the file for appending text to the end\n  # f = open(\"textfile.txt\",\"a+\")\n\n  # write some lines of data to the file\nfor i in range(10):\n    f.write(\"This is line %d\\r\\n\" % (i+1))\n  \n  # close the file when done\nf.close()\n  \n  # Open the file back up and read the contents\nf = open(\"data/textfile.txt\",\"r\")\nif f.mode == 'r': # check to make sure that the file was opened\n    # use the read() function to read the entire file\n    contents = f.read()\n    print (contents)\n    \nfl = f.readlines() # readlines reads the individual lines into a list\nfor x in fl:\n  print (x)\n    \n# w --> write\n# r --> read\n# r+ --> read and write\n# a --> append\n\n#https://www.pythonforbeginners.com/systems-programming/python-file-handling ",
      "execution_count": 3,
      "outputs": [
        {
          "name": "stdout",
          "output_type": "stream",
          "text": "This is line 1\n\nThis is line 2\n\nThis is line 3\n\nThis is line 4\n\nThis is line 5\n\nThis is line 6\n\nThis is line 7\n\nThis is line 8\n\nThis is line 9\n\nThis is line 10\n\n\n"
        }
      ]
    },
    {
      "metadata": {},
      "cell_type": "markdown",
      "source": "<span style=\"color:red; font-family:Comic Sans MS\">References</span>  \n<a href=\"https://www.programiz.com\" target=\"_blank\">https://www.programiz.com</a>  "
    },
    {
      "metadata": {},
      "cell_type": "markdown",
      "source": "<span style=\"color:red; font-family:brandon\">Further  Resources</span>  \n<a href=\"https://realpython.com/python-variables/\" target=\"_blank\">https://realpython.com/python-variables/</a>  \n<a href=\"https://realpython.com/python-data-types/\" target=\"_blank\">https://realpython.com/python-data-types/</a>  \n<a href=\"https://realpython.com/python-operators-expressions/\" target=\"_blank\">https://realpython.com/python-operators-expressions/</a>  \n<a href=\"https://realpython.com/python-strings/\" target=\"_blank\">https://realpython.com/python-strings/</a>  \n  \n<a href=\"https://www.datacamp.com/community/tutorials/data-structures-python\" target=\"_blank\">https://www.datacamp.com/community/tutorials/data-structures-python</a>  "
    },
    {
      "metadata": {
        "trusted": false
      },
      "cell_type": "code",
      "source": "",
      "execution_count": null,
      "outputs": []
    }
  ],
  "metadata": {
    "kernelspec": {
      "name": "python3",
      "display_name": "Python 3",
      "language": "python"
    },
    "language_info": {
      "mimetype": "text/x-python",
      "nbconvert_exporter": "python",
      "name": "python",
      "file_extension": ".py",
      "version": "3.5.4",
      "pygments_lexer": "ipython3",
      "codemirror_mode": {
        "version": 3,
        "name": "ipython"
      }
    },
    "toc": {
      "nav_menu": {},
      "number_sections": true,
      "sideBar": true,
      "skip_h1_title": false,
      "base_numbering": 1,
      "title_cell": "Table of Contents",
      "title_sidebar": "Contents",
      "toc_cell": true,
      "toc_position": {},
      "toc_section_display": "block",
      "toc_window_display": false
    }
  },
  "nbformat": 4,
  "nbformat_minor": 2
}