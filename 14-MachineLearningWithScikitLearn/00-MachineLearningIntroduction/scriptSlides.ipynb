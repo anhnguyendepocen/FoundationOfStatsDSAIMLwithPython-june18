{
  "cells": [
    {
      "metadata": {},
      "cell_type": "markdown",
      "source": "## Machine Learning"
    },
    {
      "metadata": {},
      "cell_type": "markdown",
      "source": "## Terminology"
    },
    {
      "metadata": {},
      "cell_type": "markdown",
      "source": "| Independent variables               | Dependent variable                    |\n|-------------------------------------|---------------------------------------|\n| Input variables(input to the model) | Output Variables(output of the model) |\n| Explanatory variables               | Response Variables                    |\n| Feature Variables                   | Target Variables                      |"
    },
    {
      "metadata": {},
      "cell_type": "markdown",
      "source": "**Feature:** An input variable used in making predictions.  \n\n**Example:** One row of a data set. An example contains one or more features and possibly a label.  \n\n**Label:** Result of the feature.  \n\n**Algorithm:** algorithm learns and finds patterns in the training data then it outputs an ML model. it has a target function (f) that best maps input variables (X) to an output variable (Y): Y = f(X)   \n\n**Model:** ML model captures these patterns from algorithm by training and then use these ML model to get predictions on new data \n\n**Predictions:** A model’s output when provided with an input example.  "
    },
    {
      "metadata": {},
      "cell_type": "markdown",
      "source": "## Supervised Machine Learning"
    },
    {
      "metadata": {},
      "cell_type": "markdown",
      "source": "**Supervised Learning:**  The major use case is Prediction.  We provide a set of \ntraining data including the input and output, then train a model that can \npredict output from an unseen input.  \n**Regression:**  \n**Classification:**  "
    },
    {
      "metadata": {},
      "cell_type": "markdown",
      "source": "**Classifier comparison**"
    },
    {
      "metadata": {},
      "cell_type": "markdown",
      "source": "http://scikit-learn.org/stable/auto_examples/classification/plot_classifier_comparison.html"
    },
    {
      "metadata": {},
      "cell_type": "markdown",
      "source": "## Un Supervised Machine Learning"
    },
    {
      "metadata": {},
      "cell_type": "markdown",
      "source": "**Unsupervised Learning:**  The major use case is Pattern extraction(inference).  We provide \na set of data that has no output, the algorithm will try to extract the \nunderlying non-trivial structure within the data.  \n**Clustering:**  \n**Dimentionality Reduction:**  "
    },
    {
      "metadata": {},
      "cell_type": "markdown",
      "source": "## Processing Steps"
    },
    {
      "metadata": {},
      "cell_type": "markdown",
      "source": "**Step 1:** Define Problem  \n**Step 2:** Gathering Data  \n**Step 3:** Hypothesis Testing  \n**Step 4:** Pre-processing, Cleaning, Exploring and Transforming Data  \n**Step 5:** Model Building  \n**Step 6:** Model Evaluation    \n**Step 7:** Model Deployment  \n    "
    },
    {
      "metadata": {},
      "cell_type": "markdown",
      "source": "## Scikitlearn Package Cheatsheet"
    },
    {
      "metadata": {
        "collapsed": true
      },
      "cell_type": "markdown",
      "source": "http://scikit-learn.org/stable/tutorial/machine_learning_map/index.html  "
    },
    {
      "metadata": {},
      "cell_type": "markdown",
      "source": "## API and Class design for scikit-learn project "
    },
    {
      "metadata": {
        "collapsed": true
      },
      "cell_type": "markdown",
      "source": "https://arxiv.org/pdf/1309.0238v1.pdf  "
    },
    {
      "metadata": {},
      "cell_type": "markdown",
      "source": "**Python For Data Science Training - youtube playlist**     \nhttps://www.youtube.com/playlist?list=PLZ7s-Z1aAtmIbaEj_PtUqkqdmI1k7libK  \n**Machine Learning Complete Course With Python**  \nhttps://www.youtube.com/playlist?list=PL-NoyTFo8daxQfcFqoD0jG49veeDR1gAf  "
    },
    {
      "metadata": {},
      "cell_type": "markdown",
      "source": "**Machine Learning for Humans Simple, plain-English explanations accompanied by math, code, and real-world examples:** https://medium.com/machine-learning-for-humans/why-machine-learning-matters-6164faf1df12"
    }
  ],
  "metadata": {
    "kernelspec": {
      "name": "python3",
      "display_name": "Python 3",
      "language": "python"
    },
    "language_info": {
      "mimetype": "text/x-python",
      "nbconvert_exporter": "python",
      "name": "python",
      "pygments_lexer": "ipython3",
      "version": "3.5.4",
      "file_extension": ".py",
      "codemirror_mode": {
        "version": 3,
        "name": "ipython"
      }
    },
    "toc": {
      "nav_menu": {},
      "number_sections": true,
      "sideBar": true,
      "skip_h1_title": false,
      "base_numbering": 1,
      "title_cell": "Table of Contents",
      "title_sidebar": "Contents",
      "toc_cell": false,
      "toc_position": {},
      "toc_section_display": true,
      "toc_window_display": false
    }
  },
  "nbformat": 4,
  "nbformat_minor": 2
}