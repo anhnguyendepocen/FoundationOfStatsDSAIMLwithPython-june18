<<<<<<< HEAD
{
  "cells": [
    {
      "metadata": {
        "collapsed": true
      },
      "cell_type": "markdown",
      "source": "https://www.programiz.com/python-programming/modules "
    },
    {
      "metadata": {},
      "cell_type": "markdown",
      "source": "# Standard libraries"
    },
    {
      "metadata": {},
      "cell_type": "markdown",
      "source": "## datetime module"
    },
    {
      "metadata": {
        "trusted": false
      },
      "cell_type": "code",
      "source": "from datetime import date\nfrom datetime import time\nfrom datetime import datetime\n\ndef main():\n  ## DATE OBJECTS\n  # Get today's date from the simple today() method from the date class\n  today = date.today()\n  print (\"Today's date is \", today)\n  \n  # print out the date's individual components\n  print (\"Date Components: \", today.day, today.month, today.year)\n  \n  # retrieve today's weekday (0=Monday, 6=Sunday)\n  print (\"Today's Weekday #: \", today.weekday())\n  days = [\"monday\",\"tuesday\",\"wednesday\",\"thursday\",\"friday\",\"saturday\",\"sunday\"]\n  print (\"Which is a \" + days[today.weekday()])\n  \n  ## DATETIME OBJECTS\n  # Get today's date from the datetime class\n  today = datetime.now()\n  print  (\"The current date and time is \", today)\n  \n  # Get the current time\n  t = datetime.time(datetime.now())\n  print (\"The current time is \", t)\nif __name__ == \"__main__\":\n  main();",
      "execution_count": 1,
      "outputs": [
        {
          "name": "stdout",
          "output_type": "stream",
          "text": "Today's date is  2018-08-25\nDate Components:  25 8 2018\nToday's Weekday #:  5\nWhich is a saturday\nThe current date and time is  2018-08-25 10:53:30.072175\nThe current time is  10:53:30.072460\n"
        }
      ]
    },
    {
      "metadata": {},
      "cell_type": "markdown",
      "source": "## math module"
    },
    {
      "metadata": {
        "trusted": false
      },
      "cell_type": "code",
      "source": "import math # to load/import library",
      "execution_count": null,
      "outputs": []
    },
    {
      "metadata": {
        "trusted": false
      },
      "cell_type": "code",
      "source": "print(math.pi)\nprint(math.e)\n\nprint(math.nan)\nprint(math.inf)\nprint(-math.inf)",
      "execution_count": null,
      "outputs": []
    },
    {
      "metadata": {
        "trusted": false
      },
      "cell_type": "code",
      "source": "# Trigonometry \nobst_direction = math.cos(math.pi/4)\nprint(obst_direction)\nprint(math.sin(math.pi/4))",
      "execution_count": null,
      "outputs": []
    },
    {
      "metadata": {
        "trusted": false
      },
      "cell_type": "code",
      "source": "# ceiling and floor\nprint(math.ceil(10.3))\nprint(math.floor(10.3))\nprint(math.ceil(10.985))\nprint(math.floor(10.985))",
      "execution_count": 4,
      "outputs": [
        {
          "name": "stdout",
          "output_type": "stream",
          "text": "11\n10\n11\n10\n"
        }
      ]
    },
    {
      "metadata": {
        "trusted": false
      },
      "cell_type": "code",
      "source": "# factorial and square root\nprint(math.factorial(5))\nprint(math.sqrt(81))",
      "execution_count": 5,
      "outputs": [
        {
          "name": "stdout",
          "output_type": "stream",
          "text": "120\n9.0\n"
        }
      ]
    },
    {
      "metadata": {
        "trusted": false
      },
      "cell_type": "code",
      "source": "# greatest common demominator (GCD) (both numbers are divisible by a greatest common number)\nprint(math.gcd(52, 8))\nprint(math.gcd(24, 8))\nprint(math.gcd(25, 8))",
      "execution_count": 8,
      "outputs": [
        {
          "name": "stdout",
          "output_type": "stream",
          "text": "4\n8\n1\n"
        }
      ]
    },
    {
      "metadata": {
        "trusted": false
      },
      "cell_type": "code",
      "source": "# degrees and radians\nprint(math.radians(360)) # to convert degrees to radians for circle\nprint(math.pi*2) # same\nprint(math.degrees(math.pi*2)) # #  convert radians to degrees",
      "execution_count": 11,
      "outputs": [
        {
          "name": "stdout",
          "output_type": "stream",
          "text": "6.283185307179586\n6.283185307179586\n360.0\n"
        }
      ]
    },
    {
      "metadata": {},
      "cell_type": "markdown",
      "source": "## random module"
    },
    {
      "metadata": {
        "trusted": false
      },
      "cell_type": "code",
      "source": "import random\n# random.seed(2) # to get same sample results for every random run\n\nprint(random.random())  # floating point number in the range [0.0, 1.0).\nprint(random.randrange(2)) \ndecider = random.randrange(2) \nif decider == 0:\n    print(\"Heads\")\nelse:\n    print(\"Tails\")\nprint(random.randrange(1,7)) # prints ranges from 1 to 6\n\n# random choices\nprint(random.sample(range(100), 5)) # to get 5 random sample numbers between 0 to 99\npossiblePets =  [\"cat\", \"dog\", \"fish\"]\nprint(random.choice(possiblePets))\n\n# shuffle \ncards = [\"Jack\", \"Queen\", \"King\", \"Aces\"]\nprint(random.shuffle(cards)) # it will shuffle the original cards object\nprint(cards)",
      "execution_count": 116,
      "outputs": [
        {
          "name": "stdout",
          "output_type": "stream",
          "text": "0.5171034866539107\n0\nTails\n4\n[7, 94, 17, 58, 85]\ncat\nNone\n['Jack', 'Aces', 'Queen', 'King']\n"
        }
      ]
    },
    {
      "metadata": {},
      "cell_type": "markdown",
      "source": "## statistics module"
    },
    {
      "metadata": {
        "trusted": false
      },
      "cell_type": "code",
      "source": "import statistics\nageData = [10, 13, 14, 12, 11, 10, 11, 10, 15]\n\n# mean, median and mode\nprint(statistics.mean(ageData))\nprint(statistics.mode(ageData))\nprint(statistics.median(ageData))\nprint(sorted(ageData)) # clearly see 11 is midpoint",
      "execution_count": 119,
      "outputs": [
        {
          "name": "stdout",
          "output_type": "stream",
          "text": "11.777777777777779\n10\n11\n[10, 10, 10, 11, 11, 12, 13, 14, 15]\n"
        }
      ]
    },
    {
      "metadata": {
        "scrolled": false,
        "trusted": false
      },
      "cell_type": "code",
      "source": "# Itertools\nimport itertools\n\n# infinite counting\nfor x in itertools.count(50):\n    print(x)\n    if x == 80:\n        break;\n\n# infinite cycling\nx = 0;\nfor c in itertools.cycle(\"RACECAR\"):\n    print(c)\n    x = x+1\n    if x > 50:\n        break\n        \nx = 0;\nfor c in itertools.cycle([1,2,3,4]):\n    print(c)\n    x = x+1\n    if x > 50:\n        break\n\n# infinite repeating\nfor r in itertools.repeat(True):\n    print(r)\n    x = x+1\n    if x > 100:\n        break;\n    ",
      "execution_count": 126,
      "outputs": [
        {
          "name": "stdout",
          "output_type": "stream",
          "text": "50\n51\n52\n53\n54\n55\n56\n57\n58\n59\n60\n61\n62\n63\n64\n65\n66\n67\n68\n69\n70\n71\n72\n73\n74\n75\n76\n77\n78\n79\n80\nR\nA\nC\nE\nC\nA\nR\nR\nA\nC\nE\nC\nA\nR\nR\nA\nC\nE\nC\nA\nR\nR\nA\nC\nE\nC\nA\nR\nR\nA\nC\nE\nC\nA\nR\nR\nA\nC\nE\nC\nA\nR\nR\nA\nC\nE\nC\nA\nR\nR\nA\n1\n2\n3\n4\n1\n2\n3\n4\n1\n2\n3\n4\n1\n2\n3\n4\n1\n2\n3\n4\n1\n2\n3\n4\n1\n2\n3\n4\n1\n2\n3\n4\n1\n2\n3\n4\n1\n2\n3\n4\n1\n2\n3\n4\n1\n2\n3\n4\n1\n2\n3\nTrue\nTrue\nTrue\nTrue\nTrue\nTrue\nTrue\nTrue\nTrue\nTrue\nTrue\nTrue\nTrue\nTrue\nTrue\nTrue\nTrue\nTrue\nTrue\nTrue\nTrue\nTrue\nTrue\nTrue\nTrue\nTrue\nTrue\nTrue\nTrue\nTrue\nTrue\nTrue\nTrue\nTrue\nTrue\nTrue\nTrue\nTrue\nTrue\nTrue\nTrue\nTrue\nTrue\nTrue\nTrue\nTrue\nTrue\nTrue\nTrue\nTrue\n"
        }
      ]
    },
    {
      "metadata": {},
      "cell_type": "markdown",
      "source": "## itertools module"
    },
    {
      "metadata": {
        "trusted": false
      },
      "cell_type": "code",
      "source": "# Permutations(ordered or arranged): same items with different order(several possible variations)\nelections = {1: \"Barb\", 2: \"Karen\", 3: \"Erin\"}\nfor p in itertools.permutations(elections):\n    print(p)\n\n# with keys and items permutations\nfor p1 in itertools.permutations(elections.values()):\n    print(p1)\n    \n# Combinations: No set will have the same exact elements as another\n# combination of 2 from [work, eat, play] is (work, eat), (work, play), (eat, play)\n# order doesn't matter\n# you cannot have sperate combinations with the exact same items bcz they are the same combination.\ncolorForPainting = [\"Red\", \"Blue\", \"Purple\", \"Orange\", \"Yellow\", \"Pink\"]\n\nfor c in itertools.combinations(colorForPainting, 2):\n    print(c)\n\nfor c in itertools.combinations(colorForPainting, 3):\n    print(c)",
      "execution_count": 130,
      "outputs": [
        {
          "name": "stdout",
          "output_type": "stream",
          "text": "(1, 2, 3)\n(1, 3, 2)\n(2, 1, 3)\n(2, 3, 1)\n(3, 1, 2)\n(3, 2, 1)\n('Barb', 'Karen', 'Erin')\n('Barb', 'Erin', 'Karen')\n('Karen', 'Barb', 'Erin')\n('Karen', 'Erin', 'Barb')\n('Erin', 'Barb', 'Karen')\n('Erin', 'Karen', 'Barb')\n('Red', 'Blue')\n('Red', 'Purple')\n('Red', 'Orange')\n('Red', 'Yellow')\n('Red', 'Pink')\n('Blue', 'Purple')\n('Blue', 'Orange')\n('Blue', 'Yellow')\n('Blue', 'Pink')\n('Purple', 'Orange')\n('Purple', 'Yellow')\n('Purple', 'Pink')\n('Orange', 'Yellow')\n('Orange', 'Pink')\n('Yellow', 'Pink')\n('Red', 'Blue', 'Purple')\n('Red', 'Blue', 'Orange')\n('Red', 'Blue', 'Yellow')\n('Red', 'Blue', 'Pink')\n('Red', 'Purple', 'Orange')\n('Red', 'Purple', 'Yellow')\n('Red', 'Purple', 'Pink')\n('Red', 'Orange', 'Yellow')\n('Red', 'Orange', 'Pink')\n('Red', 'Yellow', 'Pink')\n('Blue', 'Purple', 'Orange')\n('Blue', 'Purple', 'Yellow')\n('Blue', 'Purple', 'Pink')\n('Blue', 'Orange', 'Yellow')\n('Blue', 'Orange', 'Pink')\n('Blue', 'Yellow', 'Pink')\n('Purple', 'Orange', 'Yellow')\n('Purple', 'Orange', 'Pink')\n('Purple', 'Yellow', 'Pink')\n('Orange', 'Yellow', 'Pink')\n"
        }
      ]
    },
    {
      "metadata": {},
      "cell_type": "markdown",
      "source": "# External libraries"
    },
    {
      "metadata": {},
      "cell_type": "markdown",
      "source": "** Numpy, Pandas, matplotlib, sklearn, ....etc **"
    },
    {
      "metadata": {},
      "cell_type": "markdown",
      "source": "* we need to download & install from internet before importing this modules\n* some data science libraries already installed with Anaconda distribution (so no need to install again we can directly load/import those)"
    },
    {
      "metadata": {},
      "cell_type": "markdown",
      "source": "**How to install libraris?**"
    },
    {
      "metadata": {},
      "cell_type": "markdown",
      "source": "`pip install <library name>`  \nOR  \n`conda install <library name>`  "
    },
    {
      "metadata": {},
      "cell_type": "markdown",
      "source": "\n"
    },
    {
      "metadata": {},
      "cell_type": "markdown",
      "source": "<span style=\"color:red; font-family:Comic Sans MS\">**Sources & References** </span>     \n<a href=\"https://www.linkedin.com/learning/learning-python-2\" target=\"_blank\">https://www.linkedin.com/learning/learning-python-2</a>  \n"
    },
    {
      "metadata": {
        "solution": "hidden"
      },
      "cell_type": "markdown",
      "source": "<br/>\n# Errors and Exception Handling"
    },
    {
      "metadata": {
        "trusted": false
      },
      "cell_type": "code",
      "source": "",
      "execution_count": null,
      "outputs": []
    }
  ],
  "metadata": {
    "kernelspec": {
      "name": "python3",
      "display_name": "Python 3",
      "language": "python"
    },
    "language_info": {
      "mimetype": "text/x-python",
      "nbconvert_exporter": "python",
      "name": "python",
      "pygments_lexer": "ipython3",
      "version": "3.5.4",
      "file_extension": ".py",
      "codemirror_mode": {
        "version": 3,
        "name": "ipython"
      }
    },
    "toc": {
      "nav_menu": {},
      "number_sections": true,
      "sideBar": true,
      "skip_h1_title": false,
      "base_numbering": 1,
      "title_cell": "Table of Contents",
      "title_sidebar": "Contents",
      "toc_cell": false,
      "toc_position": {},
      "toc_section_display": true,
      "toc_window_display": false
    }
  },
  "nbformat": 4,
  "nbformat_minor": 2
}
=======
{
 "cells": [
  {
   "cell_type": "markdown",
   "metadata": {
    "collapsed": true
   },
   "source": [
    "https://www.programiz.com/python-programming/modules "
   ]
  },
  {
   "cell_type": "markdown",
   "metadata": {},
   "source": [
    "# Standard libraries"
   ]
  },
  {
   "cell_type": "markdown",
   "metadata": {},
   "source": [
    "## datetime module"
   ]
  },
  {
   "cell_type": "code",
   "execution_count": 1,
   "metadata": {},
   "outputs": [
    {
     "name": "stdout",
     "output_type": "stream",
     "text": [
      "Today's date is  2018-08-25\n",
      "Date Components:  25 8 2018\n",
      "Today's Weekday #:  5\n",
      "Which is a saturday\n",
      "The current date and time is  2018-08-25 10:53:30.072175\n",
      "The current time is  10:53:30.072460\n"
     ]
    }
   ],
   "source": [
    "from datetime import date\n",
    "from datetime import time\n",
    "from datetime import datetime\n",
    "\n",
    "def main():\n",
    "  ## DATE OBJECTS\n",
    "  # Get today's date from the simple today() method from the date class\n",
    "  today = date.today()\n",
    "  print (\"Today's date is \", today)\n",
    "  \n",
    "  # print out the date's individual components\n",
    "  print (\"Date Components: \", today.day, today.month, today.year)\n",
    "  \n",
    "  # retrieve today's weekday (0=Monday, 6=Sunday)\n",
    "  print (\"Today's Weekday #: \", today.weekday())\n",
    "  days = [\"monday\",\"tuesday\",\"wednesday\",\"thursday\",\"friday\",\"saturday\",\"sunday\"]\n",
    "  print (\"Which is a \" + days[today.weekday()])\n",
    "  \n",
    "  ## DATETIME OBJECTS\n",
    "  # Get today's date from the datetime class\n",
    "  today = datetime.now()\n",
    "  print  (\"The current date and time is \", today)\n",
    "  \n",
    "  # Get the current time\n",
    "  t = datetime.time(datetime.now())\n",
    "  print (\"The current time is \", t)\n",
    "if __name__ == \"__main__\":\n",
    "  main();"
   ]
  },
  {
   "cell_type": "markdown",
   "metadata": {},
   "source": [
    "## math module"
   ]
  },
  {
   "cell_type": "code",
   "execution_count": null,
   "metadata": {},
   "outputs": [],
   "source": [
    "import math # to load/import library"
   ]
  },
  {
   "cell_type": "code",
   "execution_count": null,
   "metadata": {},
   "outputs": [],
   "source": [
    "print(math.pi)\n",
    "print(math.e)\n",
    "\n",
    "print(math.nan)\n",
    "print(math.inf)\n",
    "print(-math.inf)"
   ]
  },
  {
   "cell_type": "code",
   "execution_count": null,
   "metadata": {},
   "outputs": [],
   "source": [
    "# Trigonometry \n",
    "obst_direction = math.cos(math.pi/4)\n",
    "print(obst_direction)\n",
    "print(math.sin(math.pi/4))"
   ]
  },
  {
   "cell_type": "code",
   "execution_count": 4,
   "metadata": {},
   "outputs": [
    {
     "name": "stdout",
     "output_type": "stream",
     "text": [
      "11\n",
      "10\n",
      "11\n",
      "10\n"
     ]
    }
   ],
   "source": [
    "# ceiling and floor\n",
    "print(math.ceil(10.3))\n",
    "print(math.floor(10.3))\n",
    "print(math.ceil(10.985))\n",
    "print(math.floor(10.985))"
   ]
  },
  {
   "cell_type": "code",
   "execution_count": 5,
   "metadata": {},
   "outputs": [
    {
     "name": "stdout",
     "output_type": "stream",
     "text": [
      "120\n",
      "9.0\n"
     ]
    }
   ],
   "source": [
    "# factorial and square root\n",
    "print(math.factorial(5))\n",
    "print(math.sqrt(81))"
   ]
  },
  {
   "cell_type": "code",
   "execution_count": 8,
   "metadata": {},
   "outputs": [
    {
     "name": "stdout",
     "output_type": "stream",
     "text": [
      "4\n",
      "8\n",
      "1\n"
     ]
    }
   ],
   "source": [
    "# greatest common demominator (GCD) (both numbers are divisible by a greatest common number)\n",
    "print(math.gcd(52, 8))\n",
    "print(math.gcd(24, 8))\n",
    "print(math.gcd(25, 8))"
   ]
  },
  {
   "cell_type": "code",
   "execution_count": 11,
   "metadata": {},
   "outputs": [
    {
     "name": "stdout",
     "output_type": "stream",
     "text": [
      "6.283185307179586\n",
      "6.283185307179586\n",
      "360.0\n"
     ]
    }
   ],
   "source": [
    "# degrees and radians\n",
    "print(math.radians(360)) # to convert degrees to radians for circle\n",
    "print(math.pi*2) # same\n",
    "print(math.degrees(math.pi*2)) # #  convert radians to degrees"
   ]
  },
  {
   "cell_type": "markdown",
   "metadata": {},
   "source": [
    "## random module"
   ]
  },
  {
   "cell_type": "code",
   "execution_count": 116,
   "metadata": {},
   "outputs": [
    {
     "name": "stdout",
     "output_type": "stream",
     "text": [
      "0.5171034866539107\n",
      "0\n",
      "Tails\n",
      "4\n",
      "[7, 94, 17, 58, 85]\n",
      "cat\n",
      "None\n",
      "['Jack', 'Aces', 'Queen', 'King']\n"
     ]
    }
   ],
   "source": [
    "import random\n",
    "# random.seed(2) # to get same sample results for every random run\n",
    "\n",
    "print(random.random())  # floating point number in the range [0.0, 1.0).\n",
    "print(random.randrange(2)) \n",
    "decider = random.randrange(2) \n",
    "if decider == 0:\n",
    "    print(\"Heads\")\n",
    "else:\n",
    "    print(\"Tails\")\n",
    "print(random.randrange(1,7)) # prints ranges from 1 to 6\n",
    "\n",
    "# random choices\n",
    "print(random.sample(range(100), 5)) # to get 5 random sample numbers between 0 to 99\n",
    "possiblePets =  [\"cat\", \"dog\", \"fish\"]\n",
    "print(random.choice(possiblePets))\n",
    "\n",
    "# shuffle \n",
    "cards = [\"Jack\", \"Queen\", \"King\", \"Aces\"]\n",
    "print(random.shuffle(cards)) # it will shuffle the original cards object\n",
    "print(cards)"
   ]
  },
  {
   "cell_type": "markdown",
   "metadata": {},
   "source": [
    "## statistics module"
   ]
  },
  {
   "cell_type": "code",
   "execution_count": 119,
   "metadata": {},
   "outputs": [
    {
     "name": "stdout",
     "output_type": "stream",
     "text": [
      "11.777777777777779\n",
      "10\n",
      "11\n",
      "[10, 10, 10, 11, 11, 12, 13, 14, 15]\n"
     ]
    }
   ],
   "source": [
    "import statistics\n",
    "ageData = [10, 13, 14, 12, 11, 10, 11, 10, 15]\n",
    "\n",
    "# mean, median and mode\n",
    "print(statistics.mean(ageData))\n",
    "print(statistics.mode(ageData))\n",
    "print(statistics.median(ageData))\n",
    "print(sorted(ageData)) # clearly see 11 is midpoint"
   ]
  },
  {
   "cell_type": "code",
   "execution_count": 126,
   "metadata": {
    "scrolled": false
   },
   "outputs": [
    {
     "name": "stdout",
     "output_type": "stream",
     "text": [
      "50\n",
      "51\n",
      "52\n",
      "53\n",
      "54\n",
      "55\n",
      "56\n",
      "57\n",
      "58\n",
      "59\n",
      "60\n",
      "61\n",
      "62\n",
      "63\n",
      "64\n",
      "65\n",
      "66\n",
      "67\n",
      "68\n",
      "69\n",
      "70\n",
      "71\n",
      "72\n",
      "73\n",
      "74\n",
      "75\n",
      "76\n",
      "77\n",
      "78\n",
      "79\n",
      "80\n",
      "R\n",
      "A\n",
      "C\n",
      "E\n",
      "C\n",
      "A\n",
      "R\n",
      "R\n",
      "A\n",
      "C\n",
      "E\n",
      "C\n",
      "A\n",
      "R\n",
      "R\n",
      "A\n",
      "C\n",
      "E\n",
      "C\n",
      "A\n",
      "R\n",
      "R\n",
      "A\n",
      "C\n",
      "E\n",
      "C\n",
      "A\n",
      "R\n",
      "R\n",
      "A\n",
      "C\n",
      "E\n",
      "C\n",
      "A\n",
      "R\n",
      "R\n",
      "A\n",
      "C\n",
      "E\n",
      "C\n",
      "A\n",
      "R\n",
      "R\n",
      "A\n",
      "C\n",
      "E\n",
      "C\n",
      "A\n",
      "R\n",
      "R\n",
      "A\n",
      "1\n",
      "2\n",
      "3\n",
      "4\n",
      "1\n",
      "2\n",
      "3\n",
      "4\n",
      "1\n",
      "2\n",
      "3\n",
      "4\n",
      "1\n",
      "2\n",
      "3\n",
      "4\n",
      "1\n",
      "2\n",
      "3\n",
      "4\n",
      "1\n",
      "2\n",
      "3\n",
      "4\n",
      "1\n",
      "2\n",
      "3\n",
      "4\n",
      "1\n",
      "2\n",
      "3\n",
      "4\n",
      "1\n",
      "2\n",
      "3\n",
      "4\n",
      "1\n",
      "2\n",
      "3\n",
      "4\n",
      "1\n",
      "2\n",
      "3\n",
      "4\n",
      "1\n",
      "2\n",
      "3\n",
      "4\n",
      "1\n",
      "2\n",
      "3\n",
      "True\n",
      "True\n",
      "True\n",
      "True\n",
      "True\n",
      "True\n",
      "True\n",
      "True\n",
      "True\n",
      "True\n",
      "True\n",
      "True\n",
      "True\n",
      "True\n",
      "True\n",
      "True\n",
      "True\n",
      "True\n",
      "True\n",
      "True\n",
      "True\n",
      "True\n",
      "True\n",
      "True\n",
      "True\n",
      "True\n",
      "True\n",
      "True\n",
      "True\n",
      "True\n",
      "True\n",
      "True\n",
      "True\n",
      "True\n",
      "True\n",
      "True\n",
      "True\n",
      "True\n",
      "True\n",
      "True\n",
      "True\n",
      "True\n",
      "True\n",
      "True\n",
      "True\n",
      "True\n",
      "True\n",
      "True\n",
      "True\n",
      "True\n"
     ]
    }
   ],
   "source": [
    "# Itertools\n",
    "import itertools\n",
    "\n",
    "# infinite counting\n",
    "for x in itertools.count(50):\n",
    "    print(x)\n",
    "    if x == 80:\n",
    "        break;\n",
    "\n",
    "# infinite cycling\n",
    "x = 0;\n",
    "for c in itertools.cycle(\"RACECAR\"):\n",
    "    print(c)\n",
    "    x = x+1\n",
    "    if x > 50:\n",
    "        break\n",
    "        \n",
    "x = 0;\n",
    "for c in itertools.cycle([1,2,3,4]):\n",
    "    print(c)\n",
    "    x = x+1\n",
    "    if x > 50:\n",
    "        break\n",
    "\n",
    "# infinite repeating\n",
    "for r in itertools.repeat(True):\n",
    "    print(r)\n",
    "    x = x+1\n",
    "    if x > 100:\n",
    "        break;\n",
    "    "
   ]
  },
  {
   "cell_type": "markdown",
   "metadata": {},
   "source": [
    "## itertools module"
   ]
  },
  {
   "cell_type": "code",
   "execution_count": 130,
   "metadata": {},
   "outputs": [
    {
     "name": "stdout",
     "output_type": "stream",
     "text": [
      "(1, 2, 3)\n",
      "(1, 3, 2)\n",
      "(2, 1, 3)\n",
      "(2, 3, 1)\n",
      "(3, 1, 2)\n",
      "(3, 2, 1)\n",
      "('Barb', 'Karen', 'Erin')\n",
      "('Barb', 'Erin', 'Karen')\n",
      "('Karen', 'Barb', 'Erin')\n",
      "('Karen', 'Erin', 'Barb')\n",
      "('Erin', 'Barb', 'Karen')\n",
      "('Erin', 'Karen', 'Barb')\n",
      "('Red', 'Blue')\n",
      "('Red', 'Purple')\n",
      "('Red', 'Orange')\n",
      "('Red', 'Yellow')\n",
      "('Red', 'Pink')\n",
      "('Blue', 'Purple')\n",
      "('Blue', 'Orange')\n",
      "('Blue', 'Yellow')\n",
      "('Blue', 'Pink')\n",
      "('Purple', 'Orange')\n",
      "('Purple', 'Yellow')\n",
      "('Purple', 'Pink')\n",
      "('Orange', 'Yellow')\n",
      "('Orange', 'Pink')\n",
      "('Yellow', 'Pink')\n",
      "('Red', 'Blue', 'Purple')\n",
      "('Red', 'Blue', 'Orange')\n",
      "('Red', 'Blue', 'Yellow')\n",
      "('Red', 'Blue', 'Pink')\n",
      "('Red', 'Purple', 'Orange')\n",
      "('Red', 'Purple', 'Yellow')\n",
      "('Red', 'Purple', 'Pink')\n",
      "('Red', 'Orange', 'Yellow')\n",
      "('Red', 'Orange', 'Pink')\n",
      "('Red', 'Yellow', 'Pink')\n",
      "('Blue', 'Purple', 'Orange')\n",
      "('Blue', 'Purple', 'Yellow')\n",
      "('Blue', 'Purple', 'Pink')\n",
      "('Blue', 'Orange', 'Yellow')\n",
      "('Blue', 'Orange', 'Pink')\n",
      "('Blue', 'Yellow', 'Pink')\n",
      "('Purple', 'Orange', 'Yellow')\n",
      "('Purple', 'Orange', 'Pink')\n",
      "('Purple', 'Yellow', 'Pink')\n",
      "('Orange', 'Yellow', 'Pink')\n"
     ]
    }
   ],
   "source": [
    "# Permutations(ordered or arranged): same items with different order(several possible variations)\n",
    "elections = {1: \"Barb\", 2: \"Karen\", 3: \"Erin\"}\n",
    "for p in itertools.permutations(elections):\n",
    "    print(p)\n",
    "\n",
    "# with keys and items permutations\n",
    "for p1 in itertools.permutations(elections.values()):\n",
    "    print(p1)\n",
    "    \n",
    "# Combinations: No set will have the same exact elements as another\n",
    "# combination of 2 from [work, eat, play] is (work, eat), (work, play), (eat, play)\n",
    "# order doesn't matter\n",
    "# you cannot have sperate combinations with the exact same items bcz they are the same combination.\n",
    "colorForPainting = [\"Red\", \"Blue\", \"Purple\", \"Orange\", \"Yellow\", \"Pink\"]\n",
    "\n",
    "for c in itertools.combinations(colorForPainting, 2):\n",
    "    print(c)\n",
    "\n",
    "for c in itertools.combinations(colorForPainting, 3):\n",
    "    print(c)"
   ]
  },
  {
   "cell_type": "markdown",
   "metadata": {},
   "source": [
    "# External libraries"
   ]
  },
  {
   "cell_type": "markdown",
   "metadata": {},
   "source": [
    "** Numpy, Pandas, matplotlib, sklearn, ....etc **"
   ]
  },
  {
   "cell_type": "markdown",
   "metadata": {},
   "source": [
    "* we need to download & install from internet before importing this modules\n",
    "* some data science libraries already installed with Anaconda distribution (so no need to install again we can directly load/import those)"
   ]
  },
  {
   "cell_type": "markdown",
   "metadata": {},
   "source": [
    "**How to install libraris?**"
   ]
  },
  {
   "cell_type": "markdown",
   "metadata": {},
   "source": [
    "`pip install <library name>`  \n",
    "OR  \n",
    "`conda install <library name>`  "
   ]
  },
  {
   "cell_type": "markdown",
   "metadata": {},
   "source": [
    "\n"
   ]
  },
  {
   "cell_type": "markdown",
   "metadata": {},
   "source": [
    "<span style=\"color:red; font-family:Comic Sans MS\">**Sources & References** </span>     \n",
    "<a href=\"https://www.linkedin.com/learning/learning-python-2\" target=\"_blank\">https://www.linkedin.com/learning/learning-python-2</a>  \n"
   ]
  },
  {
   "cell_type": "markdown",
   "metadata": {
    "solution": "hidden"
   },
   "source": [
    "<br/>\n",
    "# Errors and Exception Handling"
   ]
  },
  {
   "cell_type": "code",
   "execution_count": 1,
   "metadata": {
    "scrolled": true
   },
   "outputs": [
    {
     "ename": "ZeroDivisionError",
     "evalue": "division by zero",
     "output_type": "error",
     "traceback": [
      "\u001b[1;31m---------------------------------------------------------------------------\u001b[0m",
      "\u001b[1;31mZeroDivisionError\u001b[0m                         Traceback (most recent call last)",
      "\u001b[1;32m<ipython-input-1-364d6fd1cf4d>\u001b[0m in \u001b[0;36m<module>\u001b[1;34m\u001b[0m\n\u001b[0;32m      1\u001b[0m \u001b[1;31m# once we execute the below script we will encounter an error\u001b[0m\u001b[1;33m\u001b[0m\u001b[1;33m\u001b[0m\u001b[0m\n\u001b[1;32m----> 2\u001b[1;33m \u001b[0mprint\u001b[0m\u001b[1;33m(\u001b[0m\u001b[1;36m10\u001b[0m\u001b[1;33m/\u001b[0m\u001b[1;36m0\u001b[0m\u001b[1;33m)\u001b[0m\u001b[1;33m\u001b[0m\u001b[0m\n\u001b[0m",
      "\u001b[1;31mZeroDivisionError\u001b[0m: division by zero"
     ]
    }
   ],
   "source": [
    "# once we execute the below script we will encounter an error\n",
    "print(10/0)"
   ]
  },
  {
   "cell_type": "markdown",
   "metadata": {},
   "source": [
    "** To overcome this error we can tell python to handle this error and throw some message when ever it happens otherwise execute succesfully**"
   ]
  },
  {
   "cell_type": "code",
   "execution_count": 3,
   "metadata": {},
   "outputs": [
    {
     "name": "stdout",
     "output_type": "stream",
     "text": [
      "Can't divide a number by zero\n"
     ]
    }
   ],
   "source": [
    "try:\n",
    "    print(10/0)\n",
    "except:\n",
    "    print(\"Can't divide a number by zero\")\n",
    "    "
   ]
  },
  {
   "cell_type": "code",
   "execution_count": 4,
   "metadata": {},
   "outputs": [
    {
     "name": "stdout",
     "output_type": "stream",
     "text": [
      "5.0\n"
     ]
    }
   ],
   "source": [
    "try:\n",
    "    print(10/2)\n",
    "except:\n",
    "    print(\"Can't divide a number by zero\")"
   ]
  }
 ],
 "metadata": {
  "kernelspec": {
   "display_name": "Python 3",
   "language": "python",
   "name": "python3"
  },
  "language_info": {
   "codemirror_mode": {
    "name": "ipython",
    "version": 3
   },
   "file_extension": ".py",
   "mimetype": "text/x-python",
   "name": "python",
   "nbconvert_exporter": "python",
   "pygments_lexer": "ipython3",
   "version": "3.6.4"
  },
  "toc": {
   "base_numbering": 1,
   "nav_menu": {},
   "number_sections": true,
   "sideBar": true,
   "skip_h1_title": false,
   "title_cell": "Table of Contents",
   "title_sidebar": "Contents",
   "toc_cell": false,
   "toc_position": {},
   "toc_section_display": true,
   "toc_window_display": false
  }
 },
 "nbformat": 4,
 "nbformat_minor": 2
}
>>>>>>> 6287286f01beaf3e0cddb10592c29777b4adaa56
