{
 "cells": [
  {
   "cell_type": "code",
   "execution_count": 1,
   "metadata": {
    "collapsed": true
   },
   "outputs": [],
   "source": [
    "# import numpy\n",
    "import numpy as np"
   ]
  },
  {
   "cell_type": "code",
   "execution_count": 2,
   "metadata": {},
   "outputs": [
    {
     "name": "stdout",
     "output_type": "stream",
     "text": [
      "country,beer_servings,spirit_servings,wine_servings,total_litres_of_pure_alcohol\r\n",
      "Afghanistan,0,0,0,0.0\r\n",
      "Albania,89,132,54,4.9\r\n",
      "Algeria,25,0,14,0.7\r\n",
      "Andorra,245,138,312,12.4\r\n",
      "Angola,217,57,45,5.9\r\n",
      "Antigua & Barbuda,102,128,45,4.9\r\n",
      "Argentina,193,25,221,8.3\r\n",
      "Armenia,21,179,11,3.8\r\n",
      "Australia,261,72,212,10.4\r\n"
     ]
    }
   ],
   "source": [
    "!head drinks.csv"
   ]
  },
  {
   "cell_type": "code",
   "execution_count": 5,
   "metadata": {},
   "outputs": [],
   "source": [
    "# load data\n",
    "dtype = dict(names=('country','beer','spirit','wine','total'),\n",
    "            formats=('S64','f','f','f','f'))\n",
    "booze = np.loadtxt(\"drinks.csv\", delimiter=',', dtype=dtype, skiprows=1)"
   ]
  },
  {
   "cell_type": "code",
   "execution_count": 6,
   "metadata": {},
   "outputs": [
    {
     "data": {
      "text/plain": [
       "array([('Canada', 240.0, 122.0, 100.0, 8.199999809265137)], \n",
       "      dtype=[('country', 'S64'), ('beer', '<f4'), ('spirit', '<f4'), ('wine', '<f4'), ('total', '<f4')])"
      ]
     },
     "execution_count": 6,
     "metadata": {},
     "output_type": "execute_result"
    }
   ],
   "source": [
    "# Select data by country\n",
    "booze[np.where(booze['country'] == 'Canada')]"
   ]
  },
  {
   "cell_type": "code",
   "execution_count": 7,
   "metadata": {},
   "outputs": [
    {
     "data": {
      "text/plain": [
       "array([('Afghanistan', 0.0, 0.0, 0.0, 0.0),\n",
       "       ('Bangladesh', 0.0, 0.0, 0.0, 0.0),\n",
       "       ('North Korea', 0.0, 0.0, 0.0, 0.0), ('Iran', 0.0, 0.0, 0.0, 0.0),\n",
       "       ('Kuwait', 0.0, 0.0, 0.0, 0.0), ('Libya', 0.0, 0.0, 0.0, 0.0),\n",
       "       ('Maldives', 0.0, 0.0, 0.0, 0.0),\n",
       "       ('Marshall Islands', 0.0, 0.0, 0.0, 0.0),\n",
       "       ('Mauritania', 0.0, 0.0, 0.0, 0.0), ('Monaco', 0.0, 0.0, 0.0, 0.0),\n",
       "       ('Pakistan', 0.0, 0.0, 0.0, 0.0),\n",
       "       ('San Marino', 0.0, 0.0, 0.0, 0.0), ('Somalia', 0.0, 0.0, 0.0, 0.0)], \n",
       "      dtype=[('country', 'S64'), ('beer', '<f4'), ('spirit', '<f4'), ('wine', '<f4'), ('total', '<f4')])"
      ]
     },
     "execution_count": 7,
     "metadata": {},
     "output_type": "execute_result"
    }
   ],
   "source": [
    "# Select data teetotal countries\n",
    "booze[np.where(booze['total'] == 0)]"
   ]
  },
  {
   "cell_type": "code",
   "execution_count": 11,
   "metadata": {},
   "outputs": [
    {
     "data": {
      "text/plain": [
       "array([('France', 127.0, 151.0, 370.0, 11.800000190734863)], \n",
       "      dtype=[('country', 'S64'), ('beer', '<f4'), ('spirit', '<f4'), ('wine', '<f4'), ('total', '<f4')])"
      ]
     },
     "execution_count": 11,
     "metadata": {},
     "output_type": "execute_result"
    }
   ],
   "source": [
    "# Who drinks the most?\n",
    "booze[np.where(booze['wine'] == np.max(booze['wine']))]"
   ]
  },
  {
   "cell_type": "code",
   "execution_count": 16,
   "metadata": {},
   "outputs": [
    {
     "data": {
      "text/plain": [
       "4.7170987"
      ]
     },
     "execution_count": 16,
     "metadata": {},
     "output_type": "execute_result"
    }
   ],
   "source": [
    "# What is the average amount consumed?\n",
    "np.mean(booze['total'])"
   ]
  },
  {
   "cell_type": "code",
   "execution_count": 17,
   "metadata": {},
   "outputs": [
    {
     "data": {
      "text/plain": [
       "3.76351"
      ]
     },
     "execution_count": 17,
     "metadata": {},
     "output_type": "execute_result"
    }
   ],
   "source": [
    "# How much variation in the amount consumed?\n",
    "np.std(booze['total'])"
   ]
  },
  {
   "cell_type": "code",
   "execution_count": null,
   "metadata": {
    "collapsed": true
   },
   "outputs": [],
   "source": []
  }
 ],
 "metadata": {
  "kernelspec": {
   "display_name": "Python 3",
   "language": "python",
   "name": "python3"
  },
  "language_info": {
   "codemirror_mode": {
    "name": "ipython",
    "version": 3
   },
   "file_extension": ".py",
   "mimetype": "text/x-python",
   "name": "python",
   "nbconvert_exporter": "python",
   "pygments_lexer": "ipython3",
   "version": "3.6.4"
  },
  "toc": {
   "base_numbering": 1,
   "nav_menu": {},
   "number_sections": true,
   "sideBar": true,
   "skip_h1_title": false,
   "title_cell": "Table of Contents",
   "title_sidebar": "Contents",
   "toc_cell": false,
   "toc_position": {},
   "toc_section_display": true,
   "toc_window_display": false
  }
 },
 "nbformat": 4,
 "nbformat_minor": 1
}
