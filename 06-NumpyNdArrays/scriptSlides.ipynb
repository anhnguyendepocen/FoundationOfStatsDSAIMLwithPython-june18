{
 "cells": [
  {
   "cell_type": "markdown",
   "metadata": {
    "toc": true
   },
   "source": [
    "<h1>Table of Contents<span class=\"tocSkip\"></span></h1>\n",
    "<div class=\"toc\"><ul class=\"toc-item\"><li><span><a href=\"#Numpy---numerical-computing-with-multidimensional-data-arrays\" data-toc-modified-id=\"Numpy---numerical-computing-with-multidimensional-data-arrays-1\"><span class=\"toc-item-num\">1&nbsp;&nbsp;</span>Numpy - numerical computing with multidimensional data arrays</a></span></li><li><span><a href=\"#N-dimensional-array\" data-toc-modified-id=\"N-dimensional-array-2\"><span class=\"toc-item-num\">2&nbsp;&nbsp;</span>N-dimensional array</a></span></li><li><span><a href=\"#Change-or-adjust-dimensions-(3-or-more)\" data-toc-modified-id=\"Change-or-adjust-dimensions-(3-or-more)-3\"><span class=\"toc-item-num\">3&nbsp;&nbsp;</span>Change or adjust dimensions (3 or more)</a></span><ul class=\"toc-item\"><li><span><a href=\"#Using-resize()\" data-toc-modified-id=\"Using-resize()-3.1\"><span class=\"toc-item-num\">3.1&nbsp;&nbsp;</span>Using resize()</a></span></li><li><span><a href=\"#Using-reshape\" data-toc-modified-id=\"Using-reshape-3.2\"><span class=\"toc-item-num\">3.2&nbsp;&nbsp;</span>Using reshape</a></span></li></ul></li><li><span><a href=\"#Using-NumPy-on-Alcohol-Consumption-Data-(real-world-data)\" data-toc-modified-id=\"Using-NumPy-on-Alcohol-Consumption-Data-(real-world-data)-4\"><span class=\"toc-item-num\">4&nbsp;&nbsp;</span>Using NumPy on Alcohol Consumption Data (real world data)</a></span></li></ul></div>"
   ]
  },
  {
   "cell_type": "markdown",
   "metadata": {},
   "source": [
    "## Numpy - numerical computing with multidimensional data arrays"
   ]
  },
  {
   "cell_type": "markdown",
   "metadata": {},
   "source": [
    "*  Provides vectorized operation functionality that a Python list cannot.\n",
    "* Greatly increase the speed and efficiency of processing large data sets. "
   ]
  },
  {
   "cell_type": "markdown",
   "metadata": {},
   "source": [
    "* importing library for scientific computing which is dealing with numbers and math"
   ]
  },
  {
   "cell_type": "markdown",
   "metadata": {},
   "source": [
    "** Numpy Arrays of 1 and 2 dimensions **\n",
    "  \n",
    "![Imgur](https://i.imgur.com/wudfWJ6.png)\n",
    "  "
   ]
  },
  {
   "cell_type": "markdown",
   "metadata": {},
   "source": [
    "![Imgur](https://i.imgur.com/Pm380IW.png)"
   ]
  },
  {
   "cell_type": "code",
   "execution_count": 2,
   "metadata": {},
   "outputs": [],
   "source": [
    "import numpy as np"
   ]
  },
  {
   "cell_type": "markdown",
   "metadata": {},
   "source": [
    "** Creating array from list, empty, zero, random, and linearly spaced ... etc **  "
   ]
  },
  {
   "cell_type": "code",
   "execution_count": 4,
   "metadata": {},
   "outputs": [],
   "source": [
    "my_list = [1, 2, 3, 4, 5]"
   ]
  },
  {
   "cell_type": "markdown",
   "metadata": {},
   "source": [
    "* creating a numpy array"
   ]
  },
  {
   "cell_type": "code",
   "execution_count": 21,
   "metadata": {
    "scrolled": false
   },
   "outputs": [
    {
     "data": {
      "text/plain": [
       "array([1, 2, 3, 4, 5])"
      ]
     },
     "execution_count": 21,
     "metadata": {},
     "output_type": "execute_result"
    }
   ],
   "source": [
    "my_numpy_list = np.array(my_list)\n",
    "my_numpy_list #This line show the result of the array generated"
   ]
  },
  {
   "cell_type": "code",
   "execution_count": 6,
   "metadata": {
    "scrolled": true
   },
   "outputs": [
    {
     "data": {
      "text/plain": [
       "dtype('int64')"
      ]
     },
     "execution_count": 6,
     "metadata": {},
     "output_type": "execute_result"
    }
   ],
   "source": [
    "my_numpy_list.dtype"
   ]
  },
  {
   "cell_type": "code",
   "execution_count": 14,
   "metadata": {
    "scrolled": true
   },
   "outputs": [
    {
     "data": {
      "text/plain": [
       "array([1., 2., 3., 4., 5.])"
      ]
     },
     "execution_count": 14,
     "metadata": {},
     "output_type": "execute_result"
    }
   ],
   "source": [
    "my_numpy_list = np.array(my_list,dtype=np.float64) # user defined datatype\n",
    "my_numpy_list"
   ]
  },
  {
   "cell_type": "code",
   "execution_count": 13,
   "metadata": {},
   "outputs": [
    {
     "name": "stdout",
     "output_type": "stream",
     "text": [
      "1\n",
      "(5,)\n",
      "5\n"
     ]
    }
   ],
   "source": [
    "print(my_numpy_list.ndim) # number of dimensions\n",
    "print(my_numpy_list.shape) # shape\n",
    "print(my_numpy_list.size) # size"
   ]
  },
  {
   "cell_type": "code",
   "execution_count": 11,
   "metadata": {},
   "outputs": [
    {
     "data": {
      "text/plain": [
       "array([[1, 2, 3],\n",
       "       [5, 4, 1],\n",
       "       [3, 6, 7]])"
      ]
     },
     "execution_count": 11,
     "metadata": {},
     "output_type": "execute_result"
    }
   ],
   "source": [
    "second_list = [[1,2,3], [5,4,1], [3,6,7]]\n",
    "new_2d_arr = np.array(second_list)\n",
    "new_2d_arr #This line show the result of the array generated"
   ]
  },
  {
   "cell_type": "code",
   "execution_count": 12,
   "metadata": {},
   "outputs": [
    {
     "name": "stdout",
     "output_type": "stream",
     "text": [
      "2\n",
      "(3, 3)\n",
      "9\n"
     ]
    }
   ],
   "source": [
    "print(new_2d_arr.ndim) \n",
    "print(new_2d_arr.shape)\n",
    "print(new_2d_arr.size)"
   ]
  },
  {
   "cell_type": "markdown",
   "metadata": {},
   "source": [
    "* creating a numpy array using arange() built-in function"
   ]
  },
  {
   "cell_type": "code",
   "execution_count": 6,
   "metadata": {},
   "outputs": [],
   "source": [
    "my_list = np.arange(10)\n",
    "#OR\n",
    "my_list = np.arange(0,10)\n",
    "#This generates 10 digits of values from index 0 to 10."
   ]
  },
  {
   "cell_type": "markdown",
   "metadata": {},
   "source": [
    "* We can also generate a one-dimensional array of seven zeros."
   ]
  },
  {
   "cell_type": "code",
   "execution_count": null,
   "metadata": {},
   "outputs": [],
   "source": [
    "my_zeros = np.zeros(7)"
   ]
  },
  {
   "cell_type": "markdown",
   "metadata": {},
   "source": [
    "* We can also generate a one-dimensional array of five ones."
   ]
  },
  {
   "cell_type": "code",
   "execution_count": null,
   "metadata": {},
   "outputs": [],
   "source": [
    "my_ones = np.ones(5)"
   ]
  },
  {
   "cell_type": "markdown",
   "metadata": {},
   "source": [
    "* Similarly, we could generate a two-dimensional array of zeros having 3 rows and 5 columns"
   ]
  },
  {
   "cell_type": "code",
   "execution_count": null,
   "metadata": {},
   "outputs": [],
   "source": [
    "two_d = np.zeros((3,5))"
   ]
  },
  {
   "cell_type": "markdown",
   "metadata": {},
   "source": [
    "* Creating NumPy array using empty() \n",
    "* Return a new array of given shape and type, without initializing entries.\n",
    "* unlike zeros, does not set the array values to zero, and may therefore be marginally faster. \n",
    "* On the other hand, it requires the user to manually set all the values in the array, and should be used with caution."
   ]
  },
  {
   "cell_type": "code",
   "execution_count": 19,
   "metadata": {},
   "outputs": [
    {
     "name": "stdout",
     "output_type": "stream",
     "text": [
      "[[6.91181617e-310 4.66913922e-310 0.00000000e+000 2.47032823e-323]\n",
      " [4.66913913e-310 0.00000000e+000 0.00000000e+000             nan]\n",
      " [4.66913913e-310 0.00000000e+000 0.00000000e+000             nan]\n",
      " [6.91181261e-310 6.91181259e-310 6.91181595e-310 6.91181261e-310]]\n"
     ]
    }
   ],
   "source": [
    "empty_d = np.empty((4,4), 'd') # string d is for double\n",
    "print(empty_d)"
   ]
  },
  {
   "cell_type": "markdown",
   "metadata": {},
   "source": [
    "* Creating NumPy array using linspace() built-in function."
   ]
  },
  {
   "cell_type": "code",
   "execution_count": 7,
   "metadata": {},
   "outputs": [
    {
     "name": "stdout",
     "output_type": "stream",
     "text": [
      "[1.         1.14285714 1.28571429 1.42857143 1.57142857 1.71428571\n",
      " 1.85714286 2.         2.14285714 2.28571429 2.42857143 2.57142857\n",
      " 2.71428571 2.85714286 3.        ]\n"
     ]
    }
   ],
   "source": [
    "# The linspace() function returns numbers evenly spaced over a specified intervals. Say we want 15 evenly spaced points from 1 to 3, we can easily use:\n",
    "\n",
    "lin_arr = np.linspace(1, 3, 15)\n",
    "print(lin_arr)"
   ]
  },
  {
   "cell_type": "markdown",
   "metadata": {},
   "source": [
    "* Creating an identity matrix in NumPy"
   ]
  },
  {
   "cell_type": "code",
   "execution_count": 8,
   "metadata": {},
   "outputs": [
    {
     "name": "stdout",
     "output_type": "stream",
     "text": [
      "[[1. 0. 0. 0. 0. 0.]\n",
      " [0. 1. 0. 0. 0. 0.]\n",
      " [0. 0. 1. 0. 0. 0.]\n",
      " [0. 0. 0. 1. 0. 0.]\n",
      " [0. 0. 0. 0. 1. 0.]\n",
      " [0. 0. 0. 0. 0. 1.]]\n"
     ]
    }
   ],
   "source": [
    "my_matrx = np.eye(6) #6 is the number of columns/rows you want \n",
    "print(my_matrx)"
   ]
  },
  {
   "cell_type": "markdown",
   "metadata": {},
   "source": [
    "* Generating an array of random numbers in NumP\n",
    "\n",
    "* generate an array of random numbers using `rand()`, `randn()` or `randint()` functions"
   ]
  },
  {
   "cell_type": "code",
   "execution_count": 9,
   "metadata": {},
   "outputs": [
    {
     "name": "stdout",
     "output_type": "stream",
     "text": [
      "[0.90783429 0.04334925 0.70510058 0.47323268]\n"
     ]
    }
   ],
   "source": [
    "# one-dimensional array of 4 objects that are uniformly distributed from 0 to 1\n",
    "my_rand = np.random.rand(4)\n",
    "print(my_rand)\n"
   ]
  },
  {
   "cell_type": "code",
   "execution_count": 10,
   "metadata": {},
   "outputs": [
    {
     "data": {
      "text/plain": [
       "array([[0.1810626 , 0.476574  , 0.97174346, 0.23390875],\n",
       "       [0.8250249 , 0.36634478, 0.07287062, 0.87880715],\n",
       "       [0.9608729 , 0.40245789, 0.72985408, 0.26566476],\n",
       "       [0.16346867, 0.025446  , 0.15127944, 0.4098616 ],\n",
       "       [0.75895498, 0.1465249 , 0.82861011, 0.52515226]])"
      ]
     },
     "execution_count": 10,
     "metadata": {},
     "output_type": "execute_result"
    }
   ],
   "source": [
    "# a two-dimensional array of 5rows and 4columns:\n",
    "my_rand = np.random.rand(5, 4)\n",
    "my_rand\n"
   ]
  },
  {
   "cell_type": "markdown",
   "metadata": {},
   "source": [
    "* using `randint()` function to generate an array of integers"
   ]
  },
  {
   "cell_type": "code",
   "execution_count": 11,
   "metadata": {},
   "outputs": [
    {
     "data": {
      "text/plain": [
       "array([ 4,  8,  9,  2, 15,  8,  8])"
      ]
     },
     "execution_count": 11,
     "metadata": {},
     "output_type": "execute_result"
    }
   ],
   "source": [
    "np.random.randint(20) #generates a random integer exclusive of 20\n",
    "np.random.randint(2, 20) #generates a random integer including 2 but excluding 20\n",
    "np.random.randint(2, 20, 7) #generates 7 random integers including 2 but excluding 20"
   ]
  },
  {
   "cell_type": "markdown",
   "metadata": {},
   "source": [
    "* Converting one-dimensional array to two-dimensional\n"
   ]
  },
  {
   "cell_type": "code",
   "execution_count": 12,
   "metadata": {},
   "outputs": [
    {
     "data": {
      "text/plain": [
       "array([[0.93662148, 0.27465006, 0.88866321, 0.54796077, 0.09169386],\n",
       "       [0.70630138, 0.49269993, 0.0922673 , 0.1732886 , 0.6212737 ],\n",
       "       [0.03128457, 0.16027978, 0.82096306, 0.22789318, 0.57108829],\n",
       "       [0.05239509, 0.48572893, 0.32867798, 0.62998189, 0.95289523],\n",
       "       [0.6824714 , 0.48609339, 0.23873572, 0.65492594, 0.87128347]])"
      ]
     },
     "execution_count": 12,
     "metadata": {},
     "output_type": "execute_result"
    }
   ],
   "source": [
    "# First, we generate a 1-d array of random 25 integers\n",
    "arr = np.random.rand(25)\n",
    "# Then convert it to a 2-d array using the reshape() function\n",
    "arr.reshape(5,5)"
   ]
  },
  {
   "cell_type": "markdown",
   "metadata": {},
   "source": [
    "* Locating the maximum and minimum values of a NumPy Array"
   ]
  },
  {
   "cell_type": "code",
   "execution_count": 14,
   "metadata": {},
   "outputs": [
    {
     "name": "stdout",
     "output_type": "stream",
     "text": [
      "18\n"
     ]
    },
    {
     "data": {
      "text/plain": [
       "1"
      ]
     },
     "execution_count": 14,
     "metadata": {},
     "output_type": "execute_result"
    }
   ],
   "source": [
    "# Using the max(), and min(), we can get the maximum or minimum values in an array.\n",
    "arr_2 = np.random.randint(0, 20, 10)\n",
    "print(arr_2.max()) #This gives the highest value in the array\n",
    "arr_2.min() #This gives the lowest value in the array"
   ]
  },
  {
   "cell_type": "code",
   "execution_count": 20,
   "metadata": {},
   "outputs": [
    {
     "data": {
      "text/plain": [
       "array([[-0.10221637,  1.0972533 ,  0.02014693,  3.01582451],\n",
       "       [-1.9876892 , -0.54198646, -0.56624764,  0.39828398]])"
      ]
     },
     "execution_count": 20,
     "metadata": {},
     "output_type": "execute_result"
    }
   ],
   "source": [
    "np.random.standard_normal((2,4)) # samples from standard normal distribution with mean and sd"
   ]
  },
  {
   "cell_type": "markdown",
   "metadata": {},
   "source": [
    "* Using the argmax() and argmin() functions, we can locate the index of the maximum or minimum values in an array."
   ]
  },
  {
   "cell_type": "code",
   "execution_count": 15,
   "metadata": {},
   "outputs": [
    {
     "data": {
      "text/plain": [
       "1"
      ]
     },
     "execution_count": 15,
     "metadata": {},
     "output_type": "execute_result"
    }
   ],
   "source": [
    "arr_2.argmax() #This shows the index of the highest value in the array\n",
    "arr_2.argmin() #This shows the index of the lowest value in the array"
   ]
  },
  {
   "cell_type": "markdown",
   "metadata": {},
   "source": [
    "*  you want to know if it’s a one-dimensional or two-dimensional array, simply use the shape function."
   ]
  },
  {
   "cell_type": "code",
   "execution_count": 16,
   "metadata": {},
   "outputs": [
    {
     "data": {
      "text/plain": [
       "(25,)"
      ]
     },
     "execution_count": 16,
     "metadata": {},
     "output_type": "execute_result"
    }
   ],
   "source": [
    "arr.shape"
   ]
  },
  {
   "cell_type": "markdown",
   "metadata": {},
   "source": [
    "* Indexing/Selecting elements or groups of elements from a NumPy array"
   ]
  },
  {
   "cell_type": "code",
   "execution_count": 17,
   "metadata": {},
   "outputs": [
    {
     "data": {
      "text/plain": [
       "8"
      ]
     },
     "execution_count": 17,
     "metadata": {},
     "output_type": "execute_result"
    }
   ],
   "source": [
    "# Indexing NumPy arrays is similar to that of Python. You simply pass in the index you want.\n",
    "my_array = np.arange(0,11)\n",
    "my_array[8] #This gives us the value of element at index 8"
   ]
  },
  {
   "cell_type": "markdown",
   "metadata": {},
   "source": [
    "* To get a range of values in an array, we will use the slice notation `:`"
   ]
  },
  {
   "cell_type": "code",
   "execution_count": 18,
   "metadata": {},
   "outputs": [
    {
     "data": {
      "text/plain": [
       "array([ 5,  6,  7,  8,  9, 10])"
      ]
     },
     "execution_count": 18,
     "metadata": {},
     "output_type": "execute_result"
    }
   ],
   "source": [
    "my_array[2:6] #This returns everything from index 2 to 6(exclusive)\n",
    "my_array[:6] #This returns everything from index 0 to 6(exclusive)\n",
    "my_array[5:] #This returns everything from index 5 to the end of the array."
   ]
  },
  {
   "cell_type": "markdown",
   "metadata": {},
   "source": [
    "*Similarly, we can select elements in a 2-d array using either the double bracket `[][]` notation or the single bracket `[,]` notation.\n",
    "\n"
   ]
  },
  {
   "cell_type": "code",
   "execution_count": 19,
   "metadata": {
    "scrolled": true
   },
   "outputs": [
    {
     "data": {
      "text/plain": [
       "array([[10, 20],\n",
       "       [40, 50]])"
      ]
     },
     "execution_count": 19,
     "metadata": {},
     "output_type": "execute_result"
    }
   ],
   "source": [
    "# Using the double bracket notation, we will grab the value ‘60’ from the 2-d array below:\n",
    "two_d_arr = np.array([[10,20,30], [40,50,60], [70,80,90]])\n",
    "two_d_arr[1][2] #The value 60 appears is in row index 1, and column index 2\n",
    "# Using the single bracket notation, we will grab the value ‘20’ from the array above:\n",
    "two_d_arr[0,1]\n",
    "# We can also go further to grab subsections of a 2-d array using the slice notation. Let’s\n",
    "# grab some elements in some corners of the array:\n",
    "two_d_arr[:1, :2] # This returns [[10, 20]]\n",
    "two_d_arr[:2, 1:] # This returns ([[20, 30], [50, 60]])\n",
    "two_d_arr[:2, :2] #This returns ([[10, 20], [40, 50]])"
   ]
  },
  {
   "cell_type": "code",
   "execution_count": 21,
   "metadata": {},
   "outputs": [
    {
     "data": {
      "text/plain": [
       "array([11, 12, 13, 14])"
      ]
     },
     "execution_count": 21,
     "metadata": {},
     "output_type": "execute_result"
    }
   ],
   "source": [
    "# We can also index an entire row or column. To grab any row, simple use it’s index number like this:\n",
    "\n",
    "two_d_arr[0] #This grabs row 0 of the array ([10, 20, 30])\n",
    "two_d_arr[:2] #This grabs everything before row 2 ([[10, 20, 30], [40, 50, 60]])\n",
    "# We can also perform conditional and logical selections on arrays using & (AND), | (OR), <, > and == operators to compare the values in the array with the given value. Here’s how:\n",
    "\n",
    "new_arr = np.arange(5,15)\n",
    "new_arr > 10 #This returns TRUE where the elements are greater than 10 [False, False, False, False, False, False, True, True, True, True]\n",
    "\n",
    "# Now we can print out the actual elements that were TRUE in the above conditional using:\n",
    "bool_arr = new_arr > 10\n",
    "new_arr[bool_arr] #This returns elements greater than 10 [11, 12, 13, 14]\n",
    "new_arr[new_arr>10] #A shorter way to do what we have just done"
   ]
  },
  {
   "cell_type": "markdown",
   "metadata": {},
   "source": [
    "* Using a combination of conditional and Logical& (AND) operators, we can get elements that are greater than 6 but less than 10."
   ]
  },
  {
   "cell_type": "code",
   "execution_count": 22,
   "metadata": {},
   "outputs": [
    {
     "data": {
      "text/plain": [
       "array([7, 8, 9])"
      ]
     },
     "execution_count": 22,
     "metadata": {},
     "output_type": "execute_result"
    }
   ],
   "source": [
    "new_arr[(new_arr>6) & (new_arr<10)]\n",
    "# Our expected result is: ([7, 8, 9])"
   ]
  },
  {
   "cell_type": "code",
   "execution_count": 23,
   "metadata": {},
   "outputs": [],
   "source": [
    "# Broadcasting is a quick way to change the values of a NumPy array.\n",
    "my_array[0:3] = 50\n",
    "#Result is: [50, 50, 50, 3, 4, 5, 6, 7, 8, 9, 10]\n",
    "# In this example, we changed the values of the elements in index 0 to 3 from their initial values to 50."
   ]
  },
  {
   "cell_type": "markdown",
   "metadata": {},
   "source": [
    "* Performing arithmetic operations on NumPy Arrays"
   ]
  },
  {
   "cell_type": "code",
   "execution_count": 24,
   "metadata": {},
   "outputs": [
    {
     "data": {
      "text/plain": [
       "array([1., 1., 1., 1., 1., 1., 1., 1., 1., 1.])"
      ]
     },
     "execution_count": 24,
     "metadata": {},
     "output_type": "execute_result"
    }
   ],
   "source": [
    "arr = np.arange(1,11)\n",
    "arr * arr #Multiplies each element by itself\n",
    "arr - arr #Subtracts each element from itself\n",
    "arr + arr #Adds each element to itself\n",
    "        arr / arr #Divides each element by itself"
   ]
  },
  {
   "cell_type": "markdown",
   "metadata": {},
   "source": [
    "* We can also perform scalar operations on an array. NumPy makes it possible through broadcasting."
   ]
  },
  {
   "cell_type": "code",
   "execution_count": 25,
   "metadata": {},
   "outputs": [
    {
     "data": {
      "text/plain": [
       "array([51, 52, 53, 54, 55, 56, 57, 58, 59, 60])"
      ]
     },
     "execution_count": 25,
     "metadata": {},
     "output_type": "execute_result"
    }
   ],
   "source": [
    "arr + 50 #This adds 50 to every element in that array"
   ]
  },
  {
   "cell_type": "markdown",
   "metadata": {},
   "source": [
    "* Numpy also let’s you perform universal functions such as square roots, exponentials, trigonometric, etc on array"
   ]
  },
  {
   "cell_type": "code",
   "execution_count": 27,
   "metadata": {},
   "outputs": [
    {
     "data": {
      "text/plain": [
       "2.8722813232690143"
      ]
     },
     "execution_count": 27,
     "metadata": {},
     "output_type": "execute_result"
    }
   ],
   "source": [
    "np.sqrt(arr) #Returns the square root of each element\n",
    "np.exp(arr) #Returns the exponentials of each element\n",
    "np.sin(arr) #Returns the sin of each element\n",
    "np.cos(arr) #Returns the cosine of each element\n",
    "np.log(arr) #Returns the logarithm of each element\n",
    "np.sum(arr) #Returns the sum total of elements in the array\n",
    "np.std(arr) #Returns the standard deviation of in the array"
   ]
  },
  {
   "cell_type": "markdown",
   "metadata": {},
   "source": [
    "* We can also grab the sum of columns or rows in a 2-d array:"
   ]
  },
  {
   "cell_type": "code",
   "execution_count": 26,
   "metadata": {
    "scrolled": true
   },
   "outputs": [
    {
     "data": {
      "text/plain": [
       "array([ 15,  40,  65,  90, 115])"
      ]
     },
     "execution_count": 26,
     "metadata": {},
     "output_type": "execute_result"
    }
   ],
   "source": [
    "mat = np.arange(1,26).reshape(5,5)\n",
    "mat.sum() #Returns the sum of all the values in mat\n",
    "mat.sum(axis=0) #Returns the sum of all the columns in mat\n",
    "mat.sum(axis=1) #Returns the sum of all the rows in mat"
   ]
  },
  {
   "cell_type": "markdown",
   "metadata": {},
   "source": [
    "## N-dimensional array"
   ]
  },
  {
   "cell_type": "code",
   "execution_count": 3,
   "metadata": {},
   "outputs": [],
   "source": [
    "#Creating a three dimensional array and access elements\n",
    "tdarray = np.array([[['1','2','3'],['a','b','c']],[['4','5','6'],['d','e','f']],[['7','8','9'],['g','h','i']]])"
   ]
  },
  {
   "cell_type": "code",
   "execution_count": 11,
   "metadata": {},
   "outputs": [
    {
     "data": {
      "text/plain": [
       "array([[['1', '2', '3'],\n",
       "        ['a', 'b', 'c']],\n",
       "\n",
       "       [['4', '5', '6'],\n",
       "        ['d', 'e', 'f']],\n",
       "\n",
       "       [['7', '8', '9'],\n",
       "        ['g', 'h', 'i']]], dtype='<U1')"
      ]
     },
     "execution_count": 11,
     "metadata": {},
     "output_type": "execute_result"
    }
   ],
   "source": [
    "tdarray"
   ]
  },
  {
   "cell_type": "code",
   "execution_count": 21,
   "metadata": {},
   "outputs": [
    {
     "name": "stdout",
     "output_type": "stream",
     "text": [
      "<class 'numpy.ndarray'>\n",
      "<U1\n",
      "3 (3, 2, 3) 18\n"
     ]
    }
   ],
   "source": [
    "print(type(tdarray))\n",
    "print(tdarray.dtype)\n",
    "print(tdarray.ndim, tdarray.shape,tdarray.size)"
   ]
  },
  {
   "cell_type": "markdown",
   "metadata": {},
   "source": [
    "**Elements access with indexing**"
   ]
  },
  {
   "cell_type": "code",
   "execution_count": 4,
   "metadata": {},
   "outputs": [
    {
     "data": {
      "text/plain": [
       "array([['1', '2', '3'],\n",
       "       ['a', 'b', 'c']], dtype='<U1')"
      ]
     },
     "execution_count": 4,
     "metadata": {},
     "output_type": "execute_result"
    }
   ],
   "source": [
    "tdarray[0]"
   ]
  },
  {
   "cell_type": "code",
   "execution_count": 5,
   "metadata": {},
   "outputs": [
    {
     "data": {
      "text/plain": [
       "array([['4', '5', '6'],\n",
       "       ['d', 'e', 'f']], dtype='<U1')"
      ]
     },
     "execution_count": 5,
     "metadata": {},
     "output_type": "execute_result"
    }
   ],
   "source": [
    "tdarray[1]"
   ]
  },
  {
   "cell_type": "code",
   "execution_count": 6,
   "metadata": {},
   "outputs": [
    {
     "data": {
      "text/plain": [
       "array([['7', '8', '9'],\n",
       "       ['g', 'h', 'i']], dtype='<U1')"
      ]
     },
     "execution_count": 6,
     "metadata": {},
     "output_type": "execute_result"
    }
   ],
   "source": [
    "tdarray[2]"
   ]
  },
  {
   "cell_type": "code",
   "execution_count": 7,
   "metadata": {},
   "outputs": [
    {
     "data": {
      "text/plain": [
       "array(['1', '2', '3'], dtype='<U1')"
      ]
     },
     "execution_count": 7,
     "metadata": {},
     "output_type": "execute_result"
    }
   ],
   "source": [
    "tdarray[0,0]"
   ]
  },
  {
   "cell_type": "code",
   "execution_count": null,
   "metadata": {},
   "outputs": [],
   "source": [
    "# or\n",
    "tdarray[0][0]"
   ]
  },
  {
   "cell_type": "code",
   "execution_count": 9,
   "metadata": {},
   "outputs": [
    {
     "data": {
      "text/plain": [
       "'1'"
      ]
     },
     "execution_count": 9,
     "metadata": {},
     "output_type": "execute_result"
    }
   ],
   "source": [
    "tdarray[0][0][0]"
   ]
  },
  {
   "cell_type": "code",
   "execution_count": 10,
   "metadata": {},
   "outputs": [
    {
     "data": {
      "text/plain": [
       "'1'"
      ]
     },
     "execution_count": 10,
     "metadata": {},
     "output_type": "execute_result"
    }
   ],
   "source": [
    "tdarray[0,0,0]"
   ]
  },
  {
   "cell_type": "code",
   "execution_count": 12,
   "metadata": {},
   "outputs": [
    {
     "data": {
      "text/plain": [
       "'h'"
      ]
     },
     "execution_count": 12,
     "metadata": {},
     "output_type": "execute_result"
    }
   ],
   "source": [
    "# to access 'h'\n",
    "tdarray[2,1,1]"
   ]
  },
  {
   "cell_type": "markdown",
   "metadata": {},
   "source": [
    "**Slicing**"
   ]
  },
  {
   "cell_type": "code",
   "execution_count": 16,
   "metadata": {},
   "outputs": [
    {
     "data": {
      "text/plain": [
       "array([[['1', '2', '3'],\n",
       "        ['a', 'b', 'c']],\n",
       "\n",
       "       [['4', '5', '6'],\n",
       "        ['d', 'e', 'f']],\n",
       "\n",
       "       [['7', '8', '9'],\n",
       "        ['g', 'h', 'i']]], dtype='<U1')"
      ]
     },
     "execution_count": 16,
     "metadata": {},
     "output_type": "execute_result"
    }
   ],
   "source": [
    "tdarray[:,:,:]"
   ]
  },
  {
   "cell_type": "code",
   "execution_count": 13,
   "metadata": {},
   "outputs": [
    {
     "data": {
      "text/plain": [
       "array(['g', 'h', 'i'], dtype='<U1')"
      ]
     },
     "execution_count": 13,
     "metadata": {},
     "output_type": "execute_result"
    }
   ],
   "source": [
    "tdarray[2,1,:]"
   ]
  },
  {
   "cell_type": "code",
   "execution_count": 14,
   "metadata": {},
   "outputs": [
    {
     "data": {
      "text/plain": [
       "array(['8', 'h'], dtype='<U1')"
      ]
     },
     "execution_count": 14,
     "metadata": {},
     "output_type": "execute_result"
    }
   ],
   "source": [
    "tdarray[2,:,1]"
   ]
  },
  {
   "cell_type": "markdown",
   "metadata": {},
   "source": [
    "## Change or adjust dimensions (3 or more)\n",
    "### Using resize()"
   ]
  },
  {
   "cell_type": "markdown",
   "metadata": {},
   "source": [
    "* To shrink or expand the array"
   ]
  },
  {
   "cell_type": "code",
   "execution_count": 4,
   "metadata": {
    "scrolled": true
   },
   "outputs": [
    {
     "name": "stdout",
     "output_type": "stream",
     "text": [
      "[[[0.40353819 0.05528676 0.47539283 0.64737901 0.46483855 0.31439084\n",
      "   0.62957218 0.1161248  0.26297632 0.84083284]\n",
      "  [0.50015491 0.09062982 0.54673576 0.29298789 0.26573942 0.26738979\n",
      "   0.51399319 0.71953138 0.98333652 0.86675256]\n",
      "  [0.45571546 0.8984992  0.52856006 0.72164108 0.96623463 0.94261075\n",
      "   0.15380992 0.004293   0.93586161 0.343828  ]\n",
      "  [0.98829894 0.29260247 0.38570089 0.69609562 0.26024453 0.39123467\n",
      "   0.44774891 0.52133301 0.65665645 0.25176009]]\n",
      "\n",
      " [[0.27957055 0.49168639 0.8946928  0.5833772  0.05765919 0.26394338\n",
      "   0.97567496 0.43250062 0.39834832 0.05439809]\n",
      "  [0.55599498 0.56589417 0.77349676 0.88183677 0.25026648 0.45749426\n",
      "   0.32643375 0.43095187 0.10294474 0.65824471]\n",
      "  [0.68968503 0.04100315 0.10187313 0.78897003 0.74255229 0.1604102\n",
      "   0.42490953 0.85531747 0.33503018 0.5633139 ]\n",
      "  [0.03650715 0.81730912 0.65173041 0.97130459 0.32322044 0.56829712\n",
      "   0.12810948 0.19112938 0.47111464 0.61507789]]\n",
      "\n",
      " [[0.66712383 0.82875786 0.84064653 0.93893749 0.65942758 0.89083158\n",
      "   0.42880108 0.84709701 0.70234023 0.95053371]\n",
      "  [0.23586108 0.96110836 0.76633908 0.70356085 0.22025884 0.39635786\n",
      "   0.51277981 0.29013582 0.04805768 0.28712194]\n",
      "  [0.02552483 0.01992847 0.47553903 0.42544829 0.02013462 0.19720658\n",
      "   0.47419211 0.6275017  0.44606054 0.06424655]\n",
      "  [0.80452261 0.80502033 0.02509885 0.34745378 0.40903299 0.45506615\n",
      "   0.24388941 0.85422138 0.35149018 0.08204864]]]\n"
     ]
    }
   ],
   "source": [
    "arr = np.random.rand(120)\n",
    "arr.resize(3,4,10) # changing to 3 dimensions\n",
    "print(arr)"
   ]
  },
  {
   "cell_type": "code",
   "execution_count": 6,
   "metadata": {
    "scrolled": true
   },
   "outputs": [
    {
     "name": "stdout",
     "output_type": "stream",
     "text": [
      "0.4035381852456362\n",
      "0.5001549081225771\n",
      "0.055286758842339134\n",
      "0.5559949836477687\n",
      "0.4557154627349538\n"
     ]
    }
   ],
   "source": [
    "print(arr[0,0,0]) \n",
    "print(arr[0,1,0]) \n",
    "print(arr[0,0,1]) \n",
    "print(arr[1,1,0])\n",
    "print(arr[0,2,0]) "
   ]
  },
  {
   "cell_type": "code",
   "execution_count": 21,
   "metadata": {},
   "outputs": [
    {
     "name": "stdout",
     "output_type": "stream",
     "text": [
      "[[[[0.40353819 0.05528676]\n",
      "   [0.47539283 0.64737901]\n",
      "   [0.46483855 0.31439084]\n",
      "   [0.62957218 0.1161248 ]\n",
      "   [0.26297632 0.84083284]]\n",
      "\n",
      "  [[0.50015491 0.09062982]\n",
      "   [0.54673576 0.29298789]\n",
      "   [0.26573942 0.26738979]\n",
      "   [0.51399319 0.71953138]\n",
      "   [0.98333652 0.86675256]]\n",
      "\n",
      "  [[0.45571546 0.8984992 ]\n",
      "   [0.52856006 0.72164108]\n",
      "   [0.96623463 0.94261075]\n",
      "   [0.15380992 0.004293  ]\n",
      "   [0.93586161 0.343828  ]]\n",
      "\n",
      "  [[0.98829894 0.29260247]\n",
      "   [0.38570089 0.69609562]\n",
      "   [0.26024453 0.39123467]\n",
      "   [0.44774891 0.52133301]\n",
      "   [0.65665645 0.25176009]]]\n",
      "\n",
      "\n",
      " [[[0.27957055 0.49168639]\n",
      "   [0.8946928  0.5833772 ]\n",
      "   [0.05765919 0.26394338]\n",
      "   [0.97567496 0.43250062]\n",
      "   [0.39834832 0.05439809]]\n",
      "\n",
      "  [[0.55599498 0.56589417]\n",
      "   [0.77349676 0.88183677]\n",
      "   [0.25026648 0.45749426]\n",
      "   [0.32643375 0.43095187]\n",
      "   [0.10294474 0.65824471]]\n",
      "\n",
      "  [[0.68968503 0.04100315]\n",
      "   [0.10187313 0.78897003]\n",
      "   [0.74255229 0.1604102 ]\n",
      "   [0.42490953 0.85531747]\n",
      "   [0.33503018 0.5633139 ]]\n",
      "\n",
      "  [[0.03650715 0.81730912]\n",
      "   [0.65173041 0.97130459]\n",
      "   [0.32322044 0.56829712]\n",
      "   [0.12810948 0.19112938]\n",
      "   [0.47111464 0.61507789]]]\n",
      "\n",
      "\n",
      " [[[0.66712383 0.82875786]\n",
      "   [0.84064653 0.93893749]\n",
      "   [0.65942758 0.89083158]\n",
      "   [0.42880108 0.84709701]\n",
      "   [0.70234023 0.95053371]]\n",
      "\n",
      "  [[0.23586108 0.96110836]\n",
      "   [0.76633908 0.70356085]\n",
      "   [0.22025884 0.39635786]\n",
      "   [0.51277981 0.29013582]\n",
      "   [0.04805768 0.28712194]]\n",
      "\n",
      "  [[0.02552483 0.01992847]\n",
      "   [0.47553903 0.42544829]\n",
      "   [0.02013462 0.19720658]\n",
      "   [0.47419211 0.6275017 ]\n",
      "   [0.44606054 0.06424655]]\n",
      "\n",
      "  [[0.80452261 0.80502033]\n",
      "   [0.02509885 0.34745378]\n",
      "   [0.40903299 0.45506615]\n",
      "   [0.24388941 0.85422138]\n",
      "   [0.35149018 0.08204864]]]]\n"
     ]
    }
   ],
   "source": [
    "arr.resize(3,4,5,2) # changing to 4 dimensions\n",
    "print(arr)"
   ]
  },
  {
   "cell_type": "code",
   "execution_count": 16,
   "metadata": {},
   "outputs": [
    {
     "name": "stdout",
     "output_type": "stream",
     "text": [
      "0.4035381852456362\n"
     ]
    }
   ],
   "source": [
    "print(arr[0,0,0,0]) \n",
    "\n",
    "print(arr[0,0,1,0]) \n",
    "\n",
    "print(arr[0,0,1,1]) \n",
    "\n",
    "print(arr[1,1,0,1])\n",
    "\n",
    "print(arr[0,0,0,2]) "
   ]
  },
  {
   "cell_type": "markdown",
   "metadata": {},
   "source": [
    "### Using reshape"
   ]
  },
  {
   "cell_type": "markdown",
   "metadata": {},
   "source": [
    "* numpy allow us to give one of new shape parameter as -1 \n",
    "* It simply means that it is an unknown dimension and we want numpy to figure it out. And numpy will figure this by looking at the 'length of the array and remaining dimensions'"
   ]
  },
  {
   "cell_type": "code",
   "execution_count": 3,
   "metadata": {},
   "outputs": [
    {
     "data": {
      "text/plain": [
       "(3, 4)"
      ]
     },
     "execution_count": 3,
     "metadata": {},
     "output_type": "execute_result"
    }
   ],
   "source": [
    "z = np.array([[1, 2, 3, 4],\n",
    "         [5, 6, 7, 8],\n",
    "         [9, 10, 11, 12]])\n",
    "z.shape"
   ]
  },
  {
   "cell_type": "code",
   "execution_count": 4,
   "metadata": {},
   "outputs": [
    {
     "data": {
      "text/plain": [
       "array([ 1,  2,  3,  4,  5,  6,  7,  8,  9, 10, 11, 12])"
      ]
     },
     "execution_count": 4,
     "metadata": {},
     "output_type": "execute_result"
    }
   ],
   "source": [
    "# Now trying to reshape with (-1) . Result new shape is (12,) and is compatible with original shape (3,4)\n",
    "z.reshape(-1)"
   ]
  },
  {
   "cell_type": "code",
   "execution_count": 5,
   "metadata": {},
   "outputs": [
    {
     "data": {
      "text/plain": [
       "array([[ 1],\n",
       "       [ 2],\n",
       "       [ 3],\n",
       "       [ 4],\n",
       "       [ 5],\n",
       "       [ 6],\n",
       "       [ 7],\n",
       "       [ 8],\n",
       "       [ 9],\n",
       "       [10],\n",
       "       [11],\n",
       "       [12]])"
      ]
     },
     "execution_count": 5,
     "metadata": {},
     "output_type": "execute_result"
    }
   ],
   "source": [
    "# Now trying to reshape with (-1, 1) . We have provided column as 1 but rows as unknown . \n",
    "# So we get result new shape as (12, 1).again compatible with original shape(3,4)\n",
    "z.reshape(-1,1)"
   ]
  },
  {
   "cell_type": "code",
   "execution_count": 6,
   "metadata": {},
   "outputs": [
    {
     "data": {
      "text/plain": [
       "array([[ 1,  2],\n",
       "       [ 3,  4],\n",
       "       [ 5,  6],\n",
       "       [ 7,  8],\n",
       "       [ 9, 10],\n",
       "       [11, 12]])"
      ]
     },
     "execution_count": 6,
     "metadata": {},
     "output_type": "execute_result"
    }
   ],
   "source": [
    "# New shape as (-1, 2). row unknown, column 2. we get result new shape as (6, 2)\n",
    "z.reshape(-1, 2)"
   ]
  },
  {
   "cell_type": "code",
   "execution_count": 7,
   "metadata": {},
   "outputs": [
    {
     "data": {
      "text/plain": [
       "array([[ 1,  2,  3,  4,  5,  6,  7,  8,  9, 10, 11, 12]])"
      ]
     },
     "execution_count": 7,
     "metadata": {},
     "output_type": "execute_result"
    }
   ],
   "source": [
    "# Now trying to keep column as unknown. New shape as (1,-1). i.e, row is 1, column unknown. we get result new shape as (1, 12)\n",
    "z.reshape(1,-1)"
   ]
  },
  {
   "cell_type": "code",
   "execution_count": 8,
   "metadata": {},
   "outputs": [
    {
     "data": {
      "text/plain": [
       "array([[ 1,  2,  3,  4,  5,  6],\n",
       "       [ 7,  8,  9, 10, 11, 12]])"
      ]
     },
     "execution_count": 8,
     "metadata": {},
     "output_type": "execute_result"
    }
   ],
   "source": [
    "# New shape (2, -1). Row 2, column unknown. we get result new shape as (2,6)\n",
    "z.reshape(2, -1)"
   ]
  },
  {
   "cell_type": "code",
   "execution_count": 9,
   "metadata": {},
   "outputs": [
    {
     "data": {
      "text/plain": [
       "array([[ 1,  2,  3,  4],\n",
       "       [ 5,  6,  7,  8],\n",
       "       [ 9, 10, 11, 12]])"
      ]
     },
     "execution_count": 9,
     "metadata": {},
     "output_type": "execute_result"
    }
   ],
   "source": [
    "# New shape as (3, -1). Row 3, column unknown. we get result new shape as (3,4)\n",
    "z.reshape(3, -1)"
   ]
  },
  {
   "cell_type": "code",
   "execution_count": 10,
   "metadata": {
    "scrolled": false
   },
   "outputs": [
    {
     "ename": "ValueError",
     "evalue": "can only specify one unknown dimension",
     "output_type": "error",
     "traceback": [
      "\u001b[0;31m---------------------------------------------------------------------------\u001b[0m",
      "\u001b[0;31mValueError\u001b[0m                                Traceback (most recent call last)",
      "\u001b[0;32m<ipython-input-10-4592d6bb7a0a>\u001b[0m in \u001b[0;36m<module>\u001b[0;34m()\u001b[0m\n\u001b[1;32m      1\u001b[0m \u001b[0;31m# And finally, if we try to provide both dimension as unknown i.e new shape as (-1,-1). It will throw an error\u001b[0m\u001b[0;34m\u001b[0m\u001b[0;34m\u001b[0m\u001b[0m\n\u001b[0;32m----> 2\u001b[0;31m \u001b[0mz\u001b[0m\u001b[0;34m.\u001b[0m\u001b[0mreshape\u001b[0m\u001b[0;34m(\u001b[0m\u001b[0;34m-\u001b[0m\u001b[0;36m1\u001b[0m\u001b[0;34m,\u001b[0m \u001b[0;34m-\u001b[0m\u001b[0;36m1\u001b[0m\u001b[0;34m)\u001b[0m\u001b[0;34m\u001b[0m\u001b[0m\n\u001b[0m",
      "\u001b[0;31mValueError\u001b[0m: can only specify one unknown dimension"
     ]
    }
   ],
   "source": [
    "# And finally, if we try to provide both dimension as unknown i.e new shape as (-1,-1). It will throw an error\n",
    "z.reshape(-1, -1)"
   ]
  },
  {
   "cell_type": "markdown",
   "metadata": {},
   "source": [
    "**Flattening shape using `ravel()` function**"
   ]
  },
  {
   "cell_type": "code",
   "execution_count": 24,
   "metadata": {},
   "outputs": [
    {
     "name": "stdout",
     "output_type": "stream",
     "text": [
      "The original array is:\n",
      " [[1 2 3]\n",
      " [4 5 6]]\n",
      "[1 2 3 4 5 6]\n"
     ]
    }
   ],
   "source": [
    "a = np.array([[1,2,3],[4,5,6]])\n",
    "print('The original array is:\\n', a )\n",
    "b = np.ravel(a)\n",
    "print(b)"
   ]
  },
  {
   "cell_type": "markdown",
   "metadata": {},
   "source": [
    "**Transpose of an Array**"
   ]
  },
  {
   "cell_type": "markdown",
   "metadata": {},
   "source": [
    "`numpy.transpose(arr, axes)`  \n",
    "\n",
    "arr: The array to be transposed  \n",
    "axes: List of ints, corresponding to the dimensions. By default, the dimensions are reversed  "
   ]
  },
  {
   "cell_type": "code",
   "execution_count": 27,
   "metadata": {},
   "outputs": [
    {
     "name": "stdout",
     "output_type": "stream",
     "text": [
      "The original array is:\n",
      "[[0 1 2]\n",
      " [3 4 5]\n",
      " [6 7 8]]\n",
      "[[0 3 6]\n",
      " [1 4 7]\n",
      " [2 5 8]]\n",
      "[[0 3 6]\n",
      " [1 4 7]\n",
      " [2 5 8]]\n"
     ]
    }
   ],
   "source": [
    "a = np.arange(9).reshape(3,3) \n",
    "print('The original array is:' )\n",
    "print(a)\n",
    "print(a.transpose())\n",
    "# OR \n",
    "print(np.transpose(a))"
   ]
  },
  {
   "cell_type": "markdown",
   "metadata": {},
   "source": [
    "**Exercise**  \n",
    "Create a 4-dimensional array, named fdarray, with elements 1,2,3,4...so on and with a shape 4,3,2,2.  \n",
    "Print out the shape of the array to verify your answer. Also access the element '10' using appropriate indices, assign it to a variable target2 and print out target2.   "
   ]
  },
  {
   "cell_type": "markdown",
   "metadata": {},
   "source": [
    "?"
   ]
  },
  {
   "cell_type": "markdown",
   "metadata": {},
   "source": [
    "## Using NumPy on Alcohol Consumption Data (real world data)"
   ]
  },
  {
   "cell_type": "markdown",
   "metadata": {},
   "source": [
    "* Load real world data of csv files into NumPy \n",
    "* Measuring quantities and Calculate basic statistics with NumPy\n",
    "* Select items in NumPy arrays and slicing subsets of the dataset"
   ]
  },
  {
   "cell_type": "code",
   "execution_count": null,
   "metadata": {},
   "outputs": [],
   "source": [
    "# dataset location: https://github.com/fivethirtyeight/data/blob/master/alcohol-consumption/drinks.csv\n",
    "# code pulled from: https://www.packtpub.com/mapt/video/big_data_and_business_intelligence"
   ]
  },
  {
   "cell_type": "code",
   "execution_count": 1,
   "metadata": {},
   "outputs": [],
   "source": [
    "# import numpy\n",
    "import numpy as np"
   ]
  },
  {
   "cell_type": "code",
   "execution_count": 4,
   "metadata": {},
   "outputs": [
    {
     "name": "stdout",
     "output_type": "stream",
     "text": [
      "country,beer_servings,spirit_servings,wine_servings,total_litres_of_pure_alcohol\n",
      "Afghanistan,0,0,0,0.0\n",
      "Albania,89,132,54,4.9\n",
      "Algeria,25,0,14,0.7\n",
      "Andorra,245,138,312,12.4\n",
      "Angola,217,57,45,5.9\n",
      "Antigua & Barbuda,102,128,45,4.9\n",
      "Argentina,193,25,221,8.3\n",
      "Armenia,21,179,11,3.8\n",
      "Australia,261,72,212,10.4\n"
     ]
    }
   ],
   "source": [
    "!head data/drinks.csv"
   ]
  },
  {
   "cell_type": "code",
   "execution_count": 5,
   "metadata": {},
   "outputs": [],
   "source": [
    "# load data\n",
    "dtype = dict(names=('country','beer','spirit','wine','total'),\n",
    "            formats=('S64','f','f','f','f'))\n",
    "booze = np.loadtxt(\"data/drinks.csv\", delimiter=',', dtype=dtype, skiprows=1)"
   ]
  },
  {
   "cell_type": "code",
   "execution_count": 6,
   "metadata": {},
   "outputs": [
    {
     "data": {
      "text/plain": [
       "array([],\n",
       "      dtype=[('country', 'S64'), ('beer', '<f4'), ('spirit', '<f4'), ('wine', '<f4'), ('total', '<f4')])"
      ]
     },
     "execution_count": 6,
     "metadata": {},
     "output_type": "execute_result"
    }
   ],
   "source": [
    "# Select data by country\n",
    "booze[np.where(booze['country'] == 'Canada')]"
   ]
  },
  {
   "cell_type": "code",
   "execution_count": 7,
   "metadata": {},
   "outputs": [
    {
     "data": {
      "text/plain": [
       "array([(b'Afghanistan', 0., 0., 0., 0.), (b'Bangladesh', 0., 0., 0., 0.),\n",
       "       (b'North Korea', 0., 0., 0., 0.), (b'Iran', 0., 0., 0., 0.),\n",
       "       (b'Kuwait', 0., 0., 0., 0.), (b'Libya', 0., 0., 0., 0.),\n",
       "       (b'Maldives', 0., 0., 0., 0.),\n",
       "       (b'Marshall Islands', 0., 0., 0., 0.),\n",
       "       (b'Mauritania', 0., 0., 0., 0.), (b'Monaco', 0., 0., 0., 0.),\n",
       "       (b'Pakistan', 0., 0., 0., 0.), (b'San Marino', 0., 0., 0., 0.),\n",
       "       (b'Somalia', 0., 0., 0., 0.)],\n",
       "      dtype=[('country', 'S64'), ('beer', '<f4'), ('spirit', '<f4'), ('wine', '<f4'), ('total', '<f4')])"
      ]
     },
     "execution_count": 7,
     "metadata": {},
     "output_type": "execute_result"
    }
   ],
   "source": [
    "# Select data teetotal countries\n",
    "booze[np.where(booze['total'] == 0)]"
   ]
  },
  {
   "cell_type": "code",
   "execution_count": 8,
   "metadata": {},
   "outputs": [
    {
     "data": {
      "text/plain": [
       "array([(b'France', 127., 151., 370., 11.8)],\n",
       "      dtype=[('country', 'S64'), ('beer', '<f4'), ('spirit', '<f4'), ('wine', '<f4'), ('total', '<f4')])"
      ]
     },
     "execution_count": 8,
     "metadata": {},
     "output_type": "execute_result"
    }
   ],
   "source": [
    "# Who drinks the most?\n",
    "booze[np.where(booze['wine'] == np.max(booze['wine']))]"
   ]
  },
  {
   "cell_type": "code",
   "execution_count": 9,
   "metadata": {},
   "outputs": [
    {
     "data": {
      "text/plain": [
       "4.7170987"
      ]
     },
     "execution_count": 9,
     "metadata": {},
     "output_type": "execute_result"
    }
   ],
   "source": [
    "# What is the average amount consumed?\n",
    "np.mean(booze['total'])"
   ]
  },
  {
   "cell_type": "code",
   "execution_count": 10,
   "metadata": {},
   "outputs": [
    {
     "data": {
      "text/plain": [
       "3.76351"
      ]
     },
     "execution_count": 10,
     "metadata": {},
     "output_type": "execute_result"
    }
   ],
   "source": [
    "# How much variation in the amount consumed?\n",
    "np.std(booze['total'])"
   ]
  },
  {
   "cell_type": "markdown",
   "metadata": {},
   "source": [
    "<span style=\"color:red; font-family:brandon\">Further  Resources</span>  \n",
    "<a href=\"https://analyticsindiamag.com/beginners-guide-numpy-must-python-library-data-scientist-toolkit/\" target=\"_blank\">https://analyticsindiamag.com/beginners-guide-numpy-must-python-library-data-scientist-toolkit/</a>  \n",
    "<a href=\"https://www.datacamp.com/community/tutorials/python-numpy-tutorial\" target=\"_blank\">https://www.datacamp.com/community/tutorials/python-numpy-tutorial</a>  \n",
    "https://s3.amazonaws.com/assets.datacamp.com/blog_assets/Numpy_Python_Cheat_Sheet.pdf  "
   ]
  },
  {
   "cell_type": "markdown",
   "metadata": {},
   "source": [
    "<span style=\"color:red; font-family:Comic Sans MS\">References</span>  \n",
    "<a href=\"https://towardsdatascience.com/lets-talk-about-numpy-for-datascience-beginners-b8088722309f\" target=\"_blank\">https://towardsdatascience.com/lets-talk-about-numpy-for-datascience-beginners-b8088722309f</a>  "
   ]
  }
 ],
 "metadata": {
  "kernelspec": {
   "display_name": "Python 3",
   "language": "python",
   "name": "python3"
  },
  "language_info": {
   "codemirror_mode": {
    "name": "ipython",
    "version": 3
   },
   "file_extension": ".py",
   "mimetype": "text/x-python",
   "name": "python",
   "nbconvert_exporter": "python",
   "pygments_lexer": "ipython3",
   "version": "3.6.4"
  },
  "toc": {
   "base_numbering": 1,
   "nav_menu": {},
   "number_sections": true,
   "sideBar": true,
   "skip_h1_title": false,
   "title_cell": "Table of Contents",
   "title_sidebar": "Contents",
   "toc_cell": true,
   "toc_position": {},
   "toc_section_display": true,
   "toc_window_display": false
  }
 },
 "nbformat": 4,
 "nbformat_minor": 2
}
