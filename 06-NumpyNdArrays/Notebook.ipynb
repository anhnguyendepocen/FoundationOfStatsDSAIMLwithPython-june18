{
  "cells": [
    {
      "metadata": {
        "toc": true
      },
      "cell_type": "markdown",
      "source": "<h1>Table of Contents<span class=\"tocSkip\"></span></h1>\n<div class=\"toc\"><ul class=\"toc-item\"><li><span><a href=\"#Numpy---numerical-computing-with-multidimensional-data-arrays\" data-toc-modified-id=\"Numpy---numerical-computing-with-multidimensional-data-arrays-1\"><span class=\"toc-item-num\">1&nbsp;&nbsp;</span>Numpy - numerical computing with multidimensional data arrays</a></span></li><li><span><a href=\"#N-dimensional-array\" data-toc-modified-id=\"N-dimensional-array-2\"><span class=\"toc-item-num\">2&nbsp;&nbsp;</span>N-dimensional array</a></span></li><li><span><a href=\"#Change-or-adjust-dimensions-(3-or-more)\" data-toc-modified-id=\"Change-or-adjust-dimensions-(3-or-more)-3\"><span class=\"toc-item-num\">3&nbsp;&nbsp;</span>Change or adjust dimensions (3 or more)</a></span><ul class=\"toc-item\"><li><span><a href=\"#Using-resize()\" data-toc-modified-id=\"Using-resize()-3.1\"><span class=\"toc-item-num\">3.1&nbsp;&nbsp;</span>Using resize()</a></span></li><li><span><a href=\"#Using-reshape\" data-toc-modified-id=\"Using-reshape-3.2\"><span class=\"toc-item-num\">3.2&nbsp;&nbsp;</span>Using reshape</a></span></li></ul></li><li><span><a href=\"#Using-NumPy-on-Alcohol-Consumption-Data-(real-world-data)\" data-toc-modified-id=\"Using-NumPy-on-Alcohol-Consumption-Data-(real-world-data)-4\"><span class=\"toc-item-num\">4&nbsp;&nbsp;</span>Using NumPy on Alcohol Consumption Data (real world data)</a></span></li></ul></div>"
    },
    {
      "metadata": {},
      "cell_type": "markdown",
      "source": "## Numpy - numerical computing with multidimensional data arrays"
    },
    {
      "metadata": {},
      "cell_type": "markdown",
      "source": "*  Provides vectorized operation functionality that a Python list cannot.\n* Greatly increase the speed and efficiency of processing large data sets. "
    },
    {
      "metadata": {},
      "cell_type": "markdown",
      "source": "* importing library for scientific computing which is dealing with numbers and math"
    },
    {
      "metadata": {},
      "cell_type": "markdown",
      "source": "** Numpy Arrays of 1 and 2 dimensions **\n  \n![Imgur](https://i.imgur.com/wudfWJ6.png)\n  "
    },
    {
      "metadata": {},
      "cell_type": "markdown",
      "source": "![Imgur](https://i.imgur.com/Pm380IW.png)"
    },
    {
      "metadata": {
        "trusted": true
      },
      "cell_type": "code",
      "source": "import numpy as np",
      "execution_count": 2,
      "outputs": []
    },
    {
      "metadata": {},
      "cell_type": "markdown",
      "source": "** Creating array from list, empty, zero, random, and linearly spaced ... etc **  "
    },
    {
      "metadata": {
        "trusted": false
      },
      "cell_type": "code",
      "source": "my_list = [1, 2, 3, 4, 5]",
      "execution_count": 4,
      "outputs": []
    },
    {
      "metadata": {},
      "cell_type": "markdown",
      "source": "* creating a numpy array"
    },
    {
      "metadata": {
        "scrolled": false,
        "trusted": false
      },
      "cell_type": "code",
      "source": "my_numpy_list = np.array(my_list)\nmy_numpy_list #This line show the result of the array generated",
      "execution_count": 21,
      "outputs": [
        {
          "data": {
            "text/plain": "array([1, 2, 3, 4, 5])"
          },
          "execution_count": 21,
          "metadata": {},
          "output_type": "execute_result"
        }
      ]
    },
    {
      "metadata": {
        "scrolled": true,
        "trusted": false
      },
      "cell_type": "code",
      "source": "my_numpy_list.dtype",
      "execution_count": 6,
      "outputs": [
        {
          "data": {
            "text/plain": "dtype('int64')"
          },
          "execution_count": 6,
          "metadata": {},
          "output_type": "execute_result"
        }
      ]
    },
    {
      "metadata": {
        "scrolled": true,
        "trusted": false
      },
      "cell_type": "code",
      "source": "my_numpy_list = np.array(my_list,dtype=np.float64) # user defined datatype\nmy_numpy_list",
      "execution_count": 14,
      "outputs": [
        {
          "data": {
            "text/plain": "array([1., 2., 3., 4., 5.])"
          },
          "execution_count": 14,
          "metadata": {},
          "output_type": "execute_result"
        }
      ]
    },
    {
      "metadata": {
        "trusted": false
      },
      "cell_type": "code",
      "source": "# Describing a Matrix\nprint(my_numpy_list.ndim) # number of dimensions\nprint(my_numpy_list.shape) # shape\nprint(my_numpy_list.size) # size",
      "execution_count": 13,
      "outputs": [
        {
          "name": "stdout",
          "output_type": "stream",
          "text": "1\n(5,)\n5\n"
        }
      ]
    },
    {
      "metadata": {
        "trusted": true
      },
      "cell_type": "code",
      "source": "#Create a vector as a Row\nvector_row = np.array([1,2,3])\nvector_row",
      "execution_count": 3,
      "outputs": [
        {
          "output_type": "execute_result",
          "execution_count": 3,
          "data": {
            "text/plain": "array([1, 2, 3])"
          },
          "metadata": {}
        }
      ]
    },
    {
      "metadata": {
        "trusted": true
      },
      "cell_type": "code",
      "source": "#Create vector as a Column\nvector_column = np.array([[1],[2],[3]])\nvector_column",
      "execution_count": 4,
      "outputs": [
        {
          "output_type": "execute_result",
          "execution_count": 4,
          "data": {
            "text/plain": "array([[1],\n       [2],\n       [3]])"
          },
          "metadata": {}
        }
      ]
    },
    {
      "metadata": {
        "trusted": true
      },
      "cell_type": "code",
      "source": "#Create a 2-D Array or Matrix\nmatrix = np.array([[1,2,3],[4,5,6]])\nprint(matrix)",
      "execution_count": 7,
      "outputs": [
        {
          "output_type": "stream",
          "text": "[[1 2 3]\n [4 5 6]]\n",
          "name": "stdout"
        }
      ]
    },
    {
      "metadata": {
        "trusted": true
      },
      "cell_type": "code",
      "source": "second_list = [[1,2,3], [5,4,1], [3,6,7]]\nnew_2d_arr = np.array(second_list)\nnew_2d_arr #This line show the result of the array generated",
      "execution_count": 8,
      "outputs": [
        {
          "output_type": "execute_result",
          "execution_count": 8,
          "data": {
            "text/plain": "array([[1, 2, 3],\n       [5, 4, 1],\n       [3, 6, 7]])"
          },
          "metadata": {}
        }
      ]
    },
    {
      "metadata": {
        "trusted": false
      },
      "cell_type": "code",
      "source": "print(new_2d_arr.ndim) \nprint(new_2d_arr.shape)\nprint(new_2d_arr.size)",
      "execution_count": 12,
      "outputs": [
        {
          "name": "stdout",
          "output_type": "stream",
          "text": "2\n(3, 3)\n9\n"
        }
      ]
    },
    {
      "metadata": {},
      "cell_type": "markdown",
      "source": "* creating a numpy array using arange() built-in function"
    },
    {
      "metadata": {
        "trusted": false
      },
      "cell_type": "code",
      "source": "my_list = np.arange(10)\n#OR\nmy_list = np.arange(0,10)\n#This generates 10 digits of values from index 0 to 10.",
      "execution_count": 6,
      "outputs": []
    },
    {
      "metadata": {},
      "cell_type": "markdown",
      "source": "* We can also generate a one-dimensional array of seven zeros."
    },
    {
      "metadata": {
        "trusted": false
      },
      "cell_type": "code",
      "source": "my_zeros = np.zeros(7)",
      "execution_count": null,
      "outputs": []
    },
    {
      "metadata": {},
      "cell_type": "markdown",
      "source": "* We can also generate a one-dimensional array of five ones."
    },
    {
      "metadata": {
        "trusted": false
      },
      "cell_type": "code",
      "source": "my_ones = np.ones(5)",
      "execution_count": null,
      "outputs": []
    },
    {
      "metadata": {},
      "cell_type": "markdown",
      "source": "* Similarly, we could generate a two-dimensional array of zeros having 3 rows and 5 columns"
    },
    {
      "metadata": {
        "trusted": false
      },
      "cell_type": "code",
      "source": "two_d = np.zeros((3,5))",
      "execution_count": null,
      "outputs": []
    },
    {
      "metadata": {},
      "cell_type": "markdown",
      "source": "* Creating NumPy array using empty() \n* Return a new array of given shape and type, without initializing entries.\n* unlike zeros, does not set the array values to zero, and may therefore be marginally faster. \n* On the other hand, it requires the user to manually set all the values in the array, and should be used with caution."
    },
    {
      "metadata": {
        "trusted": false
      },
      "cell_type": "code",
      "source": "empty_d = np.empty((4,4), 'd') # string d is for double\nprint(empty_d)",
      "execution_count": 19,
      "outputs": [
        {
          "name": "stdout",
          "output_type": "stream",
          "text": "[[6.91181617e-310 4.66913922e-310 0.00000000e+000 2.47032823e-323]\n [4.66913913e-310 0.00000000e+000 0.00000000e+000             nan]\n [4.66913913e-310 0.00000000e+000 0.00000000e+000             nan]\n [6.91181261e-310 6.91181259e-310 6.91181595e-310 6.91181261e-310]]\n"
        }
      ]
    },
    {
      "metadata": {},
      "cell_type": "markdown",
      "source": "* Creating NumPy array using linspace() built-in function."
    },
    {
      "metadata": {
        "trusted": false
      },
      "cell_type": "code",
      "source": "# The linspace() function returns numbers evenly spaced over a specified intervals. Say we want 15 evenly spaced points from 1 to 3, we can easily use:\n\nlin_arr = np.linspace(1, 3, 15)\nprint(lin_arr)",
      "execution_count": 7,
      "outputs": [
        {
          "name": "stdout",
          "output_type": "stream",
          "text": "[1.         1.14285714 1.28571429 1.42857143 1.57142857 1.71428571\n 1.85714286 2.         2.14285714 2.28571429 2.42857143 2.57142857\n 2.71428571 2.85714286 3.        ]\n"
        }
      ]
    },
    {
      "metadata": {},
      "cell_type": "markdown",
      "source": "* Creating an identity matrix in NumPy"
    },
    {
      "metadata": {
        "trusted": false
      },
      "cell_type": "code",
      "source": "my_matrx = np.eye(6) #6 is the number of columns/rows you want \nprint(my_matrx)",
      "execution_count": 8,
      "outputs": [
        {
          "name": "stdout",
          "output_type": "stream",
          "text": "[[1. 0. 0. 0. 0. 0.]\n [0. 1. 0. 0. 0. 0.]\n [0. 0. 1. 0. 0. 0.]\n [0. 0. 0. 1. 0. 0.]\n [0. 0. 0. 0. 1. 0.]\n [0. 0. 0. 0. 0. 1.]]\n"
        }
      ]
    },
    {
      "metadata": {},
      "cell_type": "markdown",
      "source": "* Generating an array of random numbers in NumP\n\n* generate an array of random numbers using `rand()`, `randn()` or `randint()` functions"
    },
    {
      "metadata": {
        "trusted": false
      },
      "cell_type": "code",
      "source": "# one-dimensional array of 4 objects that are uniformly distributed from 0 to 1\nmy_rand = np.random.rand(4)\nprint(my_rand)\n",
      "execution_count": 9,
      "outputs": [
        {
          "name": "stdout",
          "output_type": "stream",
          "text": "[0.90783429 0.04334925 0.70510058 0.47323268]\n"
        }
      ]
    },
    {
      "metadata": {
        "trusted": false
      },
      "cell_type": "code",
      "source": "# a two-dimensional array of 5rows and 4columns:\nmy_rand = np.random.rand(5, 4)\nmy_rand\n",
      "execution_count": 10,
      "outputs": [
        {
          "data": {
            "text/plain": "array([[0.1810626 , 0.476574  , 0.97174346, 0.23390875],\n       [0.8250249 , 0.36634478, 0.07287062, 0.87880715],\n       [0.9608729 , 0.40245789, 0.72985408, 0.26566476],\n       [0.16346867, 0.025446  , 0.15127944, 0.4098616 ],\n       [0.75895498, 0.1465249 , 0.82861011, 0.52515226]])"
          },
          "execution_count": 10,
          "metadata": {},
          "output_type": "execute_result"
        }
      ]
    },
    {
      "metadata": {},
      "cell_type": "markdown",
      "source": "* using `randint()` function to generate an array of integers"
    },
    {
      "metadata": {
        "trusted": false
      },
      "cell_type": "code",
      "source": "np.random.randint(20) #generates a random integer exclusive of 20\nnp.random.randint(2, 20) #generates a random integer including 2 but excluding 20\nnp.random.randint(2, 20, 7) #generates 7 random integers including 2 but excluding 20",
      "execution_count": 11,
      "outputs": [
        {
          "data": {
            "text/plain": "array([ 4,  8,  9,  2, 15,  8,  8])"
          },
          "execution_count": 11,
          "metadata": {},
          "output_type": "execute_result"
        }
      ]
    },
    {
      "metadata": {},
      "cell_type": "markdown",
      "source": "* Converting one-dimensional array to two-dimensional\n"
    },
    {
      "metadata": {
        "trusted": false
      },
      "cell_type": "code",
      "source": "# First, we generate a 1-d array of random 25 integers\narr = np.random.rand(25)\n# Then convert it to a 2-d array using the reshape() function\narr.reshape(5,5)",
      "execution_count": 12,
      "outputs": [
        {
          "data": {
            "text/plain": "array([[0.93662148, 0.27465006, 0.88866321, 0.54796077, 0.09169386],\n       [0.70630138, 0.49269993, 0.0922673 , 0.1732886 , 0.6212737 ],\n       [0.03128457, 0.16027978, 0.82096306, 0.22789318, 0.57108829],\n       [0.05239509, 0.48572893, 0.32867798, 0.62998189, 0.95289523],\n       [0.6824714 , 0.48609339, 0.23873572, 0.65492594, 0.87128347]])"
          },
          "execution_count": 12,
          "metadata": {},
          "output_type": "execute_result"
        }
      ]
    },
    {
      "metadata": {},
      "cell_type": "markdown",
      "source": "* Locating the maximum and minimum values of a NumPy Array"
    },
    {
      "metadata": {
        "trusted": true
      },
      "cell_type": "code",
      "source": "#Create a Matrix\nmatrix = np.array([[1,2,3],[4,5,6],[7,8,9]])\nprint(matrix)\n#Return the max element\nprint(np.max(matrix))\n#Return the min element\nprint(np.min(matrix))\n#To find the max element in each column\nprint(np.max(matrix,axis=0))\n#To find the max element in each row\nprint(np.max(matrix,axis=1))",
      "execution_count": 9,
      "outputs": [
        {
          "output_type": "stream",
          "text": "[[1 2 3]\n [4 5 6]\n [7 8 9]]\n9\n1\n[7 8 9]\n[3 6 9]\n",
          "name": "stdout"
        }
      ]
    },
    {
      "metadata": {
        "trusted": false
      },
      "cell_type": "code",
      "source": "np.random.standard_normal((2,4)) # samples from standard normal distribution with mean and sd",
      "execution_count": 20,
      "outputs": [
        {
          "data": {
            "text/plain": "array([[-0.10221637,  1.0972533 ,  0.02014693,  3.01582451],\n       [-1.9876892 , -0.54198646, -0.56624764,  0.39828398]])"
          },
          "execution_count": 20,
          "metadata": {},
          "output_type": "execute_result"
        }
      ]
    },
    {
      "metadata": {
        "trusted": false
      },
      "cell_type": "code",
      "source": "# Using the max(), and min(), we can get the maximum or minimum values in an array.\narr_2 = np.random.randint(0, 20, 10)\nprint(arr_2.max()) #This gives the highest value in the array\narr_2.min() #This gives the lowest value in the array",
      "execution_count": 14,
      "outputs": [
        {
          "name": "stdout",
          "output_type": "stream",
          "text": "18\n"
        },
        {
          "data": {
            "text/plain": "1"
          },
          "execution_count": 14,
          "metadata": {},
          "output_type": "execute_result"
        }
      ]
    },
    {
      "metadata": {},
      "cell_type": "markdown",
      "source": "* Using the argmax() and argmin() functions, we can locate the index of the maximum or minimum values in an array."
    },
    {
      "metadata": {
        "trusted": false
      },
      "cell_type": "code",
      "source": "arr_2.argmax() #This shows the index of the highest value in the array\narr_2.argmin() #This shows the index of the lowest value in the array",
      "execution_count": 15,
      "outputs": [
        {
          "data": {
            "text/plain": "1"
          },
          "execution_count": 15,
          "metadata": {},
          "output_type": "execute_result"
        }
      ]
    },
    {
      "metadata": {},
      "cell_type": "markdown",
      "source": "*  you want to know if it’s a one-dimensional or two-dimensional array, simply use the shape function."
    },
    {
      "metadata": {
        "trusted": false
      },
      "cell_type": "code",
      "source": "arr.shape",
      "execution_count": 16,
      "outputs": [
        {
          "data": {
            "text/plain": "(25,)"
          },
          "execution_count": 16,
          "metadata": {},
          "output_type": "execute_result"
        }
      ]
    },
    {
      "metadata": {},
      "cell_type": "markdown",
      "source": "* Indexing/Selecting elements or groups of elements from a NumPy array"
    },
    {
      "metadata": {
        "trusted": false
      },
      "cell_type": "code",
      "source": "# Indexing NumPy arrays is similar to that of Python. You simply pass in the index you want.\nmy_array = np.arange(0,11)\nmy_array[8] #This gives us the value of element at index 8",
      "execution_count": 17,
      "outputs": [
        {
          "data": {
            "text/plain": "8"
          },
          "execution_count": 17,
          "metadata": {},
          "output_type": "execute_result"
        }
      ]
    },
    {
      "metadata": {},
      "cell_type": "markdown",
      "source": "* To get a range of values in an array, we will use the slice notation `:`"
    },
    {
      "metadata": {
        "trusted": false
      },
      "cell_type": "code",
      "source": "my_array[2:6] #This returns everything from index 2 to 6(exclusive)\nmy_array[:6] #This returns everything from index 0 to 6(exclusive)\nmy_array[5:] #This returns everything from index 5 to the end of the array.",
      "execution_count": 18,
      "outputs": [
        {
          "data": {
            "text/plain": "array([ 5,  6,  7,  8,  9, 10])"
          },
          "execution_count": 18,
          "metadata": {},
          "output_type": "execute_result"
        }
      ]
    },
    {
      "metadata": {},
      "cell_type": "markdown",
      "source": "*Similarly, we can select elements in a 2-d array using either the double bracket `[][]` notation or the single bracket `[:,:]` notation.\n\n"
    },
    {
      "metadata": {
        "scrolled": true,
        "trusted": false
      },
      "cell_type": "code",
      "source": "# Using the double bracket notation, we will grab the value ‘60’ from the 2-d array below:\ntwo_d_arr = np.array([[10,20,30], [40,50,60], [70,80,90]])\ntwo_d_arr[1][2] #The value 60 appears is in row index 1, and column index 2\n# Using the single bracket notation, we will grab the value ‘20’ from the array above:\ntwo_d_arr[0,1]\n# We can also go further to grab subsections of a 2-d array using the slice notation. Let’s\n# grab some elements in some corners of the array:\ntwo_d_arr[:1, :2] # This returns [[10, 20]]\ntwo_d_arr[:2, 1:] # This returns ([[20, 30], [50, 60]])\ntwo_d_arr[:2, :2] #This returns ([[10, 20], [40, 50]])",
      "execution_count": 19,
      "outputs": [
        {
          "data": {
            "text/plain": "array([[10, 20],\n       [40, 50]])"
          },
          "execution_count": 19,
          "metadata": {},
          "output_type": "execute_result"
        }
      ]
    },
    {
      "metadata": {
        "trusted": false
      },
      "cell_type": "code",
      "source": "# We can also index an entire row or column. To grab any row, simple use it’s index number like this:\n\ntwo_d_arr[0] #This grabs row 0 of the array ([10, 20, 30])\ntwo_d_arr[:2] #This grabs everything before row 2 ([[10, 20, 30], [40, 50, 60]])\n# We can also perform conditional and logical selections on arrays using & (AND), | (OR), <, > and == operators to compare the values in the array with the given value. Here’s how:\n\nnew_arr = np.arange(5,15)\nnew_arr > 10 #This returns TRUE where the elements are greater than 10 [False, False, False, False, False, False, True, True, True, True]\n\n# Now we can print out the actual elements that were TRUE in the above conditional using:\nbool_arr = new_arr > 10\nnew_arr[bool_arr] #This returns elements greater than 10 [11, 12, 13, 14]\nnew_arr[new_arr>10] #A shorter way to do what we have just done",
      "execution_count": 21,
      "outputs": [
        {
          "data": {
            "text/plain": "array([11, 12, 13, 14])"
          },
          "execution_count": 21,
          "metadata": {},
          "output_type": "execute_result"
        }
      ]
    },
    {
      "metadata": {},
      "cell_type": "markdown",
      "source": "* Using a combination of conditional and Logical& (AND) operators, we can get elements that are greater than 6 but less than 10."
    },
    {
      "metadata": {
        "trusted": false
      },
      "cell_type": "code",
      "source": "new_arr[(new_arr>6) & (new_arr<10)]\n# Our expected result is: ([7, 8, 9])",
      "execution_count": 22,
      "outputs": [
        {
          "data": {
            "text/plain": "array([7, 8, 9])"
          },
          "execution_count": 22,
          "metadata": {},
          "output_type": "execute_result"
        }
      ]
    },
    {
      "metadata": {
        "trusted": false
      },
      "cell_type": "code",
      "source": "# Broadcasting is a quick way to change the values of a NumPy array.\nmy_array[0:3] = 50\n#Result is: [50, 50, 50, 3, 4, 5, 6, 7, 8, 9, 10]\n# In this example, we changed the values of the elements in index 0 to 3 from their initial values to 50.",
      "execution_count": 23,
      "outputs": []
    },
    {
      "metadata": {},
      "cell_type": "markdown",
      "source": "* Performing arithmetic operations on NumPy Arrays"
    },
    {
      "metadata": {
        "trusted": false
      },
      "cell_type": "code",
      "source": "arr = np.arange(1,11)\narr * arr #Multiplies each element by itself\narr - arr #Subtracts each element from itself\narr + arr #Adds each element to itself\n        arr / arr #Divides each element by itself",
      "execution_count": 24,
      "outputs": [
        {
          "data": {
            "text/plain": "array([1., 1., 1., 1., 1., 1., 1., 1., 1., 1.])"
          },
          "execution_count": 24,
          "metadata": {},
          "output_type": "execute_result"
        }
      ]
    },
    {
      "metadata": {},
      "cell_type": "markdown",
      "source": "* We can also perform scalar operations on an array. NumPy makes it possible through broadcasting."
    },
    {
      "metadata": {
        "trusted": false
      },
      "cell_type": "code",
      "source": "arr + 50 #This adds 50 to every element in that array",
      "execution_count": 25,
      "outputs": [
        {
          "data": {
            "text/plain": "array([51, 52, 53, 54, 55, 56, 57, 58, 59, 60])"
          },
          "execution_count": 25,
          "metadata": {},
          "output_type": "execute_result"
        }
      ]
    },
    {
      "metadata": {},
      "cell_type": "markdown",
      "source": "* Numpy also let’s you perform universal functions such as square roots, exponentials, trigonometric, etc on array"
    },
    {
      "metadata": {
        "trusted": false
      },
      "cell_type": "code",
      "source": "np.sqrt(arr) #Returns the square root of each element\nnp.exp(arr) #Returns the exponentials of each element\nnp.sin(arr) #Returns the sin of each element\nnp.cos(arr) #Returns the cosine of each element\nnp.log(arr) #Returns the logarithm of each element\nnp.sum(arr) #Returns the sum total of elements in the array\nnp.std(arr) #Returns the standard deviation of in the array",
      "execution_count": 27,
      "outputs": [
        {
          "data": {
            "text/plain": "2.8722813232690143"
          },
          "execution_count": 27,
          "metadata": {},
          "output_type": "execute_result"
        }
      ]
    },
    {
      "metadata": {},
      "cell_type": "markdown",
      "source": "* We can also grab the sum of columns or rows in a 2-d array:"
    },
    {
      "metadata": {
        "scrolled": true,
        "trusted": false
      },
      "cell_type": "code",
      "source": "mat = np.arange(1,26).reshape(5,5)c\nmat.sum() #Returns the sum of all the values in mat\nmat.sum(axis=0) #Returns the sum of all the columns in mat (lookat top to bottom)\nmat.sum(axis=1) #Returns the sum of all the rows in mat (lookat left to right) ",
      "execution_count": 26,
      "outputs": [
        {
          "data": {
            "text/plain": "array([ 15,  40,  65,  90, 115])"
          },
          "execution_count": 26,
          "metadata": {},
          "output_type": "execute_result"
        }
      ]
    },
    {
      "metadata": {},
      "cell_type": "markdown",
      "source": "## N-dimensional array"
    },
    {
      "metadata": {
        "trusted": false
      },
      "cell_type": "code",
      "source": "#Creating a three dimensional array and access elements\ntdarray = np.array([[['1','2','3'],['a','b','c']],[['4','5','6'],['d','e','f']],[['7','8','9'],['g','h','i']]])",
      "execution_count": 3,
      "outputs": []
    },
    {
      "metadata": {},
      "cell_type": "markdown",
      "source": "![Imgur](https://i.imgur.com/K5dSc49.png)"
    },
    {
      "metadata": {},
      "cell_type": "markdown",
      "source": "* The rows are indicated as the “axis 0”\n* The columns are the “axis 1”. \n* The number of the axis goes up accordingly with the number of the dimensions\n* in 3-D arrays, you’ll have an additional “axis 2"
    },
    {
      "metadata": {
        "trusted": false
      },
      "cell_type": "code",
      "source": "tdarray",
      "execution_count": 11,
      "outputs": [
        {
          "data": {
            "text/plain": "array([[['1', '2', '3'],\n        ['a', 'b', 'c']],\n\n       [['4', '5', '6'],\n        ['d', 'e', 'f']],\n\n       [['7', '8', '9'],\n        ['g', 'h', 'i']]], dtype='<U1')"
          },
          "execution_count": 11,
          "metadata": {},
          "output_type": "execute_result"
        }
      ]
    },
    {
      "metadata": {
        "trusted": false
      },
      "cell_type": "code",
      "source": "print(type(tdarray))\nprint(tdarray.dtype)\nprint(tdarray.ndim, tdarray.shape,tdarray.size)",
      "execution_count": 21,
      "outputs": [
        {
          "name": "stdout",
          "output_type": "stream",
          "text": "<class 'numpy.ndarray'>\n<U1\n3 (3, 2, 3) 18\n"
        }
      ]
    },
    {
      "metadata": {},
      "cell_type": "markdown",
      "source": "**Elements access with indexing**"
    },
    {
      "metadata": {
        "trusted": false
      },
      "cell_type": "code",
      "source": "tdarray[0]",
      "execution_count": 4,
      "outputs": [
        {
          "data": {
            "text/plain": "array([['1', '2', '3'],\n       ['a', 'b', 'c']], dtype='<U1')"
          },
          "execution_count": 4,
          "metadata": {},
          "output_type": "execute_result"
        }
      ]
    },
    {
      "metadata": {
        "trusted": false
      },
      "cell_type": "code",
      "source": "tdarray[1]",
      "execution_count": 5,
      "outputs": [
        {
          "data": {
            "text/plain": "array([['4', '5', '6'],\n       ['d', 'e', 'f']], dtype='<U1')"
          },
          "execution_count": 5,
          "metadata": {},
          "output_type": "execute_result"
        }
      ]
    },
    {
      "metadata": {
        "trusted": false
      },
      "cell_type": "code",
      "source": "tdarray[2]",
      "execution_count": 6,
      "outputs": [
        {
          "data": {
            "text/plain": "array([['7', '8', '9'],\n       ['g', 'h', 'i']], dtype='<U1')"
          },
          "execution_count": 6,
          "metadata": {},
          "output_type": "execute_result"
        }
      ]
    },
    {
      "metadata": {
        "trusted": false
      },
      "cell_type": "code",
      "source": "tdarray[0,0]",
      "execution_count": 7,
      "outputs": [
        {
          "data": {
            "text/plain": "array(['1', '2', '3'], dtype='<U1')"
          },
          "execution_count": 7,
          "metadata": {},
          "output_type": "execute_result"
        }
      ]
    },
    {
      "metadata": {
        "trusted": false
      },
      "cell_type": "code",
      "source": "# or\ntdarray[0][0]",
      "execution_count": null,
      "outputs": []
    },
    {
      "metadata": {
        "trusted": false
      },
      "cell_type": "code",
      "source": "tdarray[0][0][0]",
      "execution_count": 9,
      "outputs": [
        {
          "data": {
            "text/plain": "'1'"
          },
          "execution_count": 9,
          "metadata": {},
          "output_type": "execute_result"
        }
      ]
    },
    {
      "metadata": {
        "trusted": false
      },
      "cell_type": "code",
      "source": "tdarray[0,0,0]",
      "execution_count": 10,
      "outputs": [
        {
          "data": {
            "text/plain": "'1'"
          },
          "execution_count": 10,
          "metadata": {},
          "output_type": "execute_result"
        }
      ]
    },
    {
      "metadata": {
        "trusted": false
      },
      "cell_type": "code",
      "source": "# to access 'h'\ntdarray[2,1,1]",
      "execution_count": 12,
      "outputs": [
        {
          "data": {
            "text/plain": "'h'"
          },
          "execution_count": 12,
          "metadata": {},
          "output_type": "execute_result"
        }
      ]
    },
    {
      "metadata": {},
      "cell_type": "markdown",
      "source": "**Slicing**"
    },
    {
      "metadata": {
        "trusted": false
      },
      "cell_type": "code",
      "source": "tdarray[:,:,:]",
      "execution_count": 16,
      "outputs": [
        {
          "data": {
            "text/plain": "array([[['1', '2', '3'],\n        ['a', 'b', 'c']],\n\n       [['4', '5', '6'],\n        ['d', 'e', 'f']],\n\n       [['7', '8', '9'],\n        ['g', 'h', 'i']]], dtype='<U1')"
          },
          "execution_count": 16,
          "metadata": {},
          "output_type": "execute_result"
        }
      ]
    },
    {
      "metadata": {
        "trusted": false
      },
      "cell_type": "code",
      "source": "tdarray[2,1,:]",
      "execution_count": 13,
      "outputs": [
        {
          "data": {
            "text/plain": "array(['g', 'h', 'i'], dtype='<U1')"
          },
          "execution_count": 13,
          "metadata": {},
          "output_type": "execute_result"
        }
      ]
    },
    {
      "metadata": {
        "trusted": false
      },
      "cell_type": "code",
      "source": "tdarray[2,:,1]",
      "execution_count": 14,
      "outputs": [
        {
          "data": {
            "text/plain": "array(['8', 'h'], dtype='<U1')"
          },
          "execution_count": 14,
          "metadata": {},
          "output_type": "execute_result"
        }
      ]
    },
    {
      "metadata": {},
      "cell_type": "markdown",
      "source": "## Change or adjust dimensions (3 or more)\n### Using resize()"
    },
    {
      "metadata": {},
      "cell_type": "markdown",
      "source": "* To shrink or expand the array"
    },
    {
      "metadata": {
        "scrolled": true,
        "trusted": false
      },
      "cell_type": "code",
      "source": "arr = np.random.rand(120)\n# Change shape and size of array in-place.\narr.resize(3,4,10) # changing to 3 dimensions\nprint(arr)",
      "execution_count": 4,
      "outputs": [
        {
          "name": "stdout",
          "output_type": "stream",
          "text": "[[[0.40353819 0.05528676 0.47539283 0.64737901 0.46483855 0.31439084\n   0.62957218 0.1161248  0.26297632 0.84083284]\n  [0.50015491 0.09062982 0.54673576 0.29298789 0.26573942 0.26738979\n   0.51399319 0.71953138 0.98333652 0.86675256]\n  [0.45571546 0.8984992  0.52856006 0.72164108 0.96623463 0.94261075\n   0.15380992 0.004293   0.93586161 0.343828  ]\n  [0.98829894 0.29260247 0.38570089 0.69609562 0.26024453 0.39123467\n   0.44774891 0.52133301 0.65665645 0.25176009]]\n\n [[0.27957055 0.49168639 0.8946928  0.5833772  0.05765919 0.26394338\n   0.97567496 0.43250062 0.39834832 0.05439809]\n  [0.55599498 0.56589417 0.77349676 0.88183677 0.25026648 0.45749426\n   0.32643375 0.43095187 0.10294474 0.65824471]\n  [0.68968503 0.04100315 0.10187313 0.78897003 0.74255229 0.1604102\n   0.42490953 0.85531747 0.33503018 0.5633139 ]\n  [0.03650715 0.81730912 0.65173041 0.97130459 0.32322044 0.56829712\n   0.12810948 0.19112938 0.47111464 0.61507789]]\n\n [[0.66712383 0.82875786 0.84064653 0.93893749 0.65942758 0.89083158\n   0.42880108 0.84709701 0.70234023 0.95053371]\n  [0.23586108 0.96110836 0.76633908 0.70356085 0.22025884 0.39635786\n   0.51277981 0.29013582 0.04805768 0.28712194]\n  [0.02552483 0.01992847 0.47553903 0.42544829 0.02013462 0.19720658\n   0.47419211 0.6275017  0.44606054 0.06424655]\n  [0.80452261 0.80502033 0.02509885 0.34745378 0.40903299 0.45506615\n   0.24388941 0.85422138 0.35149018 0.08204864]]]\n"
        }
      ]
    },
    {
      "metadata": {
        "scrolled": true,
        "trusted": false
      },
      "cell_type": "code",
      "source": "print(arr[0,0,0]) \nprint(arr[0,1,0]) \nprint(arr[0,0,1]) \nprint(arr[1,1,0])\nprint(arr[0,2,0]) ",
      "execution_count": 6,
      "outputs": [
        {
          "name": "stdout",
          "output_type": "stream",
          "text": "0.4035381852456362\n0.5001549081225771\n0.055286758842339134\n0.5559949836477687\n0.4557154627349538\n"
        }
      ]
    },
    {
      "metadata": {
        "trusted": false
      },
      "cell_type": "code",
      "source": "arr.resize(3,4,5,2) # changing to 4 dimensions\nprint(arr)",
      "execution_count": 21,
      "outputs": [
        {
          "name": "stdout",
          "output_type": "stream",
          "text": "[[[[0.40353819 0.05528676]\n   [0.47539283 0.64737901]\n   [0.46483855 0.31439084]\n   [0.62957218 0.1161248 ]\n   [0.26297632 0.84083284]]\n\n  [[0.50015491 0.09062982]\n   [0.54673576 0.29298789]\n   [0.26573942 0.26738979]\n   [0.51399319 0.71953138]\n   [0.98333652 0.86675256]]\n\n  [[0.45571546 0.8984992 ]\n   [0.52856006 0.72164108]\n   [0.96623463 0.94261075]\n   [0.15380992 0.004293  ]\n   [0.93586161 0.343828  ]]\n\n  [[0.98829894 0.29260247]\n   [0.38570089 0.69609562]\n   [0.26024453 0.39123467]\n   [0.44774891 0.52133301]\n   [0.65665645 0.25176009]]]\n\n\n [[[0.27957055 0.49168639]\n   [0.8946928  0.5833772 ]\n   [0.05765919 0.26394338]\n   [0.97567496 0.43250062]\n   [0.39834832 0.05439809]]\n\n  [[0.55599498 0.56589417]\n   [0.77349676 0.88183677]\n   [0.25026648 0.45749426]\n   [0.32643375 0.43095187]\n   [0.10294474 0.65824471]]\n\n  [[0.68968503 0.04100315]\n   [0.10187313 0.78897003]\n   [0.74255229 0.1604102 ]\n   [0.42490953 0.85531747]\n   [0.33503018 0.5633139 ]]\n\n  [[0.03650715 0.81730912]\n   [0.65173041 0.97130459]\n   [0.32322044 0.56829712]\n   [0.12810948 0.19112938]\n   [0.47111464 0.61507789]]]\n\n\n [[[0.66712383 0.82875786]\n   [0.84064653 0.93893749]\n   [0.65942758 0.89083158]\n   [0.42880108 0.84709701]\n   [0.70234023 0.95053371]]\n\n  [[0.23586108 0.96110836]\n   [0.76633908 0.70356085]\n   [0.22025884 0.39635786]\n   [0.51277981 0.29013582]\n   [0.04805768 0.28712194]]\n\n  [[0.02552483 0.01992847]\n   [0.47553903 0.42544829]\n   [0.02013462 0.19720658]\n   [0.47419211 0.6275017 ]\n   [0.44606054 0.06424655]]\n\n  [[0.80452261 0.80502033]\n   [0.02509885 0.34745378]\n   [0.40903299 0.45506615]\n   [0.24388941 0.85422138]\n   [0.35149018 0.08204864]]]]\n"
        }
      ]
    },
    {
      "metadata": {
        "trusted": false
      },
      "cell_type": "code",
      "source": "print(arr[0,0,0,0]) \n\nprint(arr[0,0,1,0]) \n\nprint(arr[0,0,1,1]) \n\nprint(arr[1,1,0,1])\n\nprint(arr[0,0,0,2]) ",
      "execution_count": 16,
      "outputs": [
        {
          "name": "stdout",
          "output_type": "stream",
          "text": "0.4035381852456362\n"
        }
      ]
    },
    {
      "metadata": {},
      "cell_type": "markdown",
      "source": "### Using reshape"
    },
    {
      "metadata": {},
      "cell_type": "markdown",
      "source": "* Returns an array containing the same data with a new shape.\n* numpy allow us to give one of new shape parameter as -1 \n* It simply means that it is an unknown dimension and we want numpy to figure it out. And numpy will figure this by looking at the 'length of the array and remaining dimensions'"
    },
    {
      "metadata": {
        "trusted": true
      },
      "cell_type": "code",
      "source": "z = np.array([[1, 2, 3, 4],\n         [5, 6, 7, 8],\n         [9, 10, 11, 12]])\nz.shape",
      "execution_count": 1,
      "outputs": [
        {
          "output_type": "error",
          "ename": "NameError",
          "evalue": "name 'np' is not defined",
          "traceback": [
            "\u001b[0;31m---------------------------------------------------------------------------\u001b[0m",
            "\u001b[0;31mNameError\u001b[0m                                 Traceback (most recent call last)",
            "\u001b[0;32m<ipython-input-1-74848fbf586d>\u001b[0m in \u001b[0;36m<module>\u001b[0;34m()\u001b[0m\n\u001b[0;32m----> 1\u001b[0;31m z = np.array([[1, 2, 3, 4],\n\u001b[0m\u001b[1;32m      2\u001b[0m          \u001b[0;34m[\u001b[0m\u001b[0;36m5\u001b[0m\u001b[0;34m,\u001b[0m \u001b[0;36m6\u001b[0m\u001b[0;34m,\u001b[0m \u001b[0;36m7\u001b[0m\u001b[0;34m,\u001b[0m \u001b[0;36m8\u001b[0m\u001b[0;34m]\u001b[0m\u001b[0;34m,\u001b[0m\u001b[0;34m\u001b[0m\u001b[0m\n\u001b[1;32m      3\u001b[0m          [9, 10, 11, 12]])\n\u001b[1;32m      4\u001b[0m \u001b[0mz\u001b[0m\u001b[0;34m.\u001b[0m\u001b[0mshape\u001b[0m\u001b[0;34m\u001b[0m\u001b[0m\n",
            "\u001b[0;31mNameError\u001b[0m: name 'np' is not defined"
          ]
        }
      ]
    },
    {
      "metadata": {
        "trusted": false
      },
      "cell_type": "code",
      "source": "# Now trying to reshape with (-1) . Result new shape is (12,) and is compatible with original shape (3,4)\nz.reshape(-1)",
      "execution_count": 4,
      "outputs": [
        {
          "data": {
            "text/plain": "array([ 1,  2,  3,  4,  5,  6,  7,  8,  9, 10, 11, 12])"
          },
          "execution_count": 4,
          "metadata": {},
          "output_type": "execute_result"
        }
      ]
    },
    {
      "metadata": {
        "trusted": false
      },
      "cell_type": "code",
      "source": "# Now trying to reshape with (-1, 1) . We have provided column as 1 but rows as unknown . \n# So we get result new shape as (12, 1).again compatible with original shape(3,4)\nz.reshape(-1,1)",
      "execution_count": 5,
      "outputs": [
        {
          "data": {
            "text/plain": "array([[ 1],\n       [ 2],\n       [ 3],\n       [ 4],\n       [ 5],\n       [ 6],\n       [ 7],\n       [ 8],\n       [ 9],\n       [10],\n       [11],\n       [12]])"
          },
          "execution_count": 5,
          "metadata": {},
          "output_type": "execute_result"
        }
      ]
    },
    {
      "metadata": {
        "trusted": false
      },
      "cell_type": "code",
      "source": "# New shape as (-1, 2). row unknown, column 2. we get result new shape as (6, 2)\nz.reshape(-1, 2)",
      "execution_count": 6,
      "outputs": [
        {
          "data": {
            "text/plain": "array([[ 1,  2],\n       [ 3,  4],\n       [ 5,  6],\n       [ 7,  8],\n       [ 9, 10],\n       [11, 12]])"
          },
          "execution_count": 6,
          "metadata": {},
          "output_type": "execute_result"
        }
      ]
    },
    {
      "metadata": {
        "trusted": false
      },
      "cell_type": "code",
      "source": "# Now trying to keep column as unknown. New shape as (1,-1). i.e, row is 1, column unknown. we get result new shape as (1, 12)\nz.reshape(1,-1)",
      "execution_count": 7,
      "outputs": [
        {
          "data": {
            "text/plain": "array([[ 1,  2,  3,  4,  5,  6,  7,  8,  9, 10, 11, 12]])"
          },
          "execution_count": 7,
          "metadata": {},
          "output_type": "execute_result"
        }
      ]
    },
    {
      "metadata": {
        "trusted": false
      },
      "cell_type": "code",
      "source": "# New shape (2, -1). Row 2, column unknown. we get result new shape as (2,6)\nz.reshape(2, -1)",
      "execution_count": 8,
      "outputs": [
        {
          "data": {
            "text/plain": "array([[ 1,  2,  3,  4,  5,  6],\n       [ 7,  8,  9, 10, 11, 12]])"
          },
          "execution_count": 8,
          "metadata": {},
          "output_type": "execute_result"
        }
      ]
    },
    {
      "metadata": {
        "trusted": false
      },
      "cell_type": "code",
      "source": "# New shape as (3, -1). Row 3, column unknown. we get result new shape as (3,4)\nz.reshape(3, -1)",
      "execution_count": 9,
      "outputs": [
        {
          "data": {
            "text/plain": "array([[ 1,  2,  3,  4],\n       [ 5,  6,  7,  8],\n       [ 9, 10, 11, 12]])"
          },
          "execution_count": 9,
          "metadata": {},
          "output_type": "execute_result"
        }
      ]
    },
    {
      "metadata": {
        "scrolled": false,
        "trusted": false
      },
      "cell_type": "code",
      "source": "# And finally, if we try to provide both dimension as unknown i.e new shape as (-1,-1). It will throw an error\nz.reshape(-1, -1)",
      "execution_count": 10,
      "outputs": [
        {
          "ename": "ValueError",
          "evalue": "can only specify one unknown dimension",
          "output_type": "error",
          "traceback": [
            "\u001b[0;31m---------------------------------------------------------------------------\u001b[0m",
            "\u001b[0;31mValueError\u001b[0m                                Traceback (most recent call last)",
            "\u001b[0;32m<ipython-input-10-4592d6bb7a0a>\u001b[0m in \u001b[0;36m<module>\u001b[0;34m()\u001b[0m\n\u001b[1;32m      1\u001b[0m \u001b[0;31m# And finally, if we try to provide both dimension as unknown i.e new shape as (-1,-1). It will throw an error\u001b[0m\u001b[0;34m\u001b[0m\u001b[0;34m\u001b[0m\u001b[0m\n\u001b[0;32m----> 2\u001b[0;31m \u001b[0mz\u001b[0m\u001b[0;34m.\u001b[0m\u001b[0mreshape\u001b[0m\u001b[0;34m(\u001b[0m\u001b[0;34m-\u001b[0m\u001b[0;36m1\u001b[0m\u001b[0;34m,\u001b[0m \u001b[0;34m-\u001b[0m\u001b[0;36m1\u001b[0m\u001b[0;34m)\u001b[0m\u001b[0;34m\u001b[0m\u001b[0m\n\u001b[0m",
            "\u001b[0;31mValueError\u001b[0m: can only specify one unknown dimension"
          ]
        }
      ]
    },
    {
      "metadata": {},
      "cell_type": "markdown",
      "source": "**Flattening shape using `ravel()` function**"
    },
    {
      "metadata": {
        "trusted": false
      },
      "cell_type": "code",
      "source": "a = np.array([[1,2,3],[4,5,6]])\nprint('The original array is:\\n', a )\nb = np.ravel(a)\nprint(b)",
      "execution_count": 24,
      "outputs": [
        {
          "name": "stdout",
          "output_type": "stream",
          "text": "The original array is:\n [[1 2 3]\n [4 5 6]]\n[1 2 3 4 5 6]\n"
        }
      ]
    },
    {
      "metadata": {},
      "cell_type": "markdown",
      "source": "**Transpose of an Array**"
    },
    {
      "metadata": {},
      "cell_type": "markdown",
      "source": "`numpy.transpose(arr, axes)`  \n\narr: The array to be transposed  \naxes: List of ints, corresponding to the dimensions. By default, the dimensions are reversed  "
    },
    {
      "metadata": {
        "trusted": false
      },
      "cell_type": "code",
      "source": "a = np.arange(9).reshape(3,3) \nprint('The original array is:' )\nprint(a)\nprint(a.transpose())\n# OR \nprint(np.transpose(a))",
      "execution_count": 27,
      "outputs": [
        {
          "name": "stdout",
          "output_type": "stream",
          "text": "The original array is:\n[[0 1 2]\n [3 4 5]\n [6 7 8]]\n[[0 3 6]\n [1 4 7]\n [2 5 8]]\n[[0 3 6]\n [1 4 7]\n [2 5 8]]\n"
        }
      ]
    },
    {
      "metadata": {},
      "cell_type": "markdown",
      "source": "**Exercise**  \nCreate a 4-dimensional array, named fdarray, with elements 1,2,3,4...so on and with a shape 4,3,2,2.  \nPrint out the shape of the array to verify your answer. Also access the element '10' using appropriate indices, assign it to a variable target2 and print out target2.   "
    },
    {
      "metadata": {},
      "cell_type": "markdown",
      "source": "?"
    },
    {
      "metadata": {},
      "cell_type": "markdown",
      "source": "## Using NumPy on Alcohol Consumption Data (real world data)"
    },
    {
      "metadata": {},
      "cell_type": "markdown",
      "source": "* Load real world data of csv files into NumPy \n* Measuring quantities and Calculate basic statistics with NumPy\n* Select items in NumPy arrays and slicing subsets of the dataset"
    },
    {
      "metadata": {
        "trusted": false
      },
      "cell_type": "code",
      "source": "# dataset location: https://github.com/fivethirtyeight/data/blob/master/alcohol-consumption/drinks.csv\n# code pulled from: https://www.packtpub.com/mapt/video/big_data_and_business_intelligence",
      "execution_count": null,
      "outputs": []
    },
    {
      "metadata": {
        "trusted": true
      },
      "cell_type": "code",
      "source": "# import numpy\nimport numpy as np",
      "execution_count": 1,
      "outputs": []
    },
    {
      "metadata": {
        "trusted": true
      },
      "cell_type": "code",
      "source": "!head data/drinks.csv",
      "execution_count": 2,
      "outputs": [
        {
          "output_type": "stream",
          "text": "country,beer_servings,spirit_servings,wine_servings,total_litres_of_pure_alcohol\r\nAfghanistan,0,0,0,0.0\r\nAlbania,89,132,54,4.9\r\nAlgeria,25,0,14,0.7\r\nAndorra,245,138,312,12.4\r\nAngola,217,57,45,5.9\r\nAntigua & Barbuda,102,128,45,4.9\r\nArgentina,193,25,221,8.3\r\nArmenia,21,179,11,3.8\r\nAustralia,261,72,212,10.4\r\n",
          "name": "stdout"
        }
      ]
    },
    {
      "metadata": {
        "trusted": false
      },
      "cell_type": "code",
      "source": "# load data\ndtype = dict(names=('country','beer','spirit','wine','total'),\n            formats=('S64','f','f','f','f'))\nbooze = np.loadtxt(\"data/drinks.csv\", delimiter=',', dtype=dtype, skiprows=1)",
      "execution_count": 5,
      "outputs": []
    },
    {
      "metadata": {
        "trusted": false
      },
      "cell_type": "code",
      "source": "# Select data by country\nbooze[np.where(booze['country'] == 'Canada')]",
      "execution_count": 6,
      "outputs": [
        {
          "data": {
            "text/plain": "array([],\n      dtype=[('country', 'S64'), ('beer', '<f4'), ('spirit', '<f4'), ('wine', '<f4'), ('total', '<f4')])"
          },
          "execution_count": 6,
          "metadata": {},
          "output_type": "execute_result"
        }
      ]
    },
    {
      "metadata": {
        "trusted": false
      },
      "cell_type": "code",
      "source": "# Select data teetotal countries\nbooze[np.where(booze['total'] == 0)]",
      "execution_count": 7,
      "outputs": [
        {
          "data": {
            "text/plain": "array([(b'Afghanistan', 0., 0., 0., 0.), (b'Bangladesh', 0., 0., 0., 0.),\n       (b'North Korea', 0., 0., 0., 0.), (b'Iran', 0., 0., 0., 0.),\n       (b'Kuwait', 0., 0., 0., 0.), (b'Libya', 0., 0., 0., 0.),\n       (b'Maldives', 0., 0., 0., 0.),\n       (b'Marshall Islands', 0., 0., 0., 0.),\n       (b'Mauritania', 0., 0., 0., 0.), (b'Monaco', 0., 0., 0., 0.),\n       (b'Pakistan', 0., 0., 0., 0.), (b'San Marino', 0., 0., 0., 0.),\n       (b'Somalia', 0., 0., 0., 0.)],\n      dtype=[('country', 'S64'), ('beer', '<f4'), ('spirit', '<f4'), ('wine', '<f4'), ('total', '<f4')])"
          },
          "execution_count": 7,
          "metadata": {},
          "output_type": "execute_result"
        }
      ]
    },
    {
      "metadata": {
        "trusted": false
      },
      "cell_type": "code",
      "source": "# Who drinks the most?\nbooze[np.where(booze['wine'] == np.max(booze['wine']))]",
      "execution_count": 8,
      "outputs": [
        {
          "data": {
            "text/plain": "array([(b'France', 127., 151., 370., 11.8)],\n      dtype=[('country', 'S64'), ('beer', '<f4'), ('spirit', '<f4'), ('wine', '<f4'), ('total', '<f4')])"
          },
          "execution_count": 8,
          "metadata": {},
          "output_type": "execute_result"
        }
      ]
    },
    {
      "metadata": {
        "trusted": false
      },
      "cell_type": "code",
      "source": "# What is the average amount consumed?\nnp.mean(booze['total'])",
      "execution_count": 9,
      "outputs": [
        {
          "data": {
            "text/plain": "4.7170987"
          },
          "execution_count": 9,
          "metadata": {},
          "output_type": "execute_result"
        }
      ]
    },
    {
      "metadata": {
        "trusted": false
      },
      "cell_type": "code",
      "source": "# How much variation in the amount consumed?\nnp.std(booze['total'])",
      "execution_count": 10,
      "outputs": [
        {
          "data": {
            "text/plain": "3.76351"
          },
          "execution_count": 10,
          "metadata": {},
          "output_type": "execute_result"
        }
      ]
    },
    {
      "metadata": {},
      "cell_type": "markdown",
      "source": "<span style=\"color:red; font-family:brandon\">Further  Resources</span>  \n<a href=\"https://analyticsindiamag.com/beginners-guide-numpy-must-python-library-data-scientist-toolkit/\" target=\"_blank\">https://analyticsindiamag.com/beginners-guide-numpy-must-python-library-data-scientist-toolkit/</a>  \n<a href=\"https://www.datacamp.com/community/tutorials/python-numpy-tutorial\" target=\"_blank\">https://www.datacamp.com/community/tutorials/python-numpy-tutorial</a>  \nhttps://s3.amazonaws.com/assets.datacamp.com/blog_assets/Numpy_Python_Cheat_Sheet.pdf  "
    },
    {
      "metadata": {},
      "cell_type": "markdown",
      "source": "<span style=\"color:red; font-family:Comic Sans MS\">References</span>  \n<a href=\"https://towardsdatascience.com/lets-talk-about-numpy-for-datascience-beginners-b8088722309f\" target=\"_blank\">https://towardsdatascience.com/lets-talk-about-numpy-for-datascience-beginners-b8088722309f</a>  "
    }
  ],
  "metadata": {
    "kernelspec": {
      "name": "python3",
      "display_name": "Python 3",
      "language": "python"
    },
    "language_info": {
      "mimetype": "text/x-python",
      "nbconvert_exporter": "python",
      "name": "python",
      "pygments_lexer": "ipython3",
      "version": "3.5.4",
      "file_extension": ".py",
      "codemirror_mode": {
        "version": 3,
        "name": "ipython"
      }
    },
    "toc": {
      "nav_menu": {},
      "number_sections": true,
      "sideBar": true,
      "skip_h1_title": false,
      "base_numbering": 1,
      "title_cell": "Table of Contents",
      "title_sidebar": "Contents",
      "toc_cell": true,
      "toc_position": {},
      "toc_section_display": true,
      "toc_window_display": false
    }
  },
  "nbformat": 4,
  "nbformat_minor": 2
}