{
  "cells": [
    {
      "metadata": {},
      "cell_type": "markdown",
      "source": "# Basic Metrics\n\nWhen we think about summarizing data, what are the metrics that we look at?\n\nIn this notebook, we will look in the price of weed dataset along with the demographic information of the United States. \n\nTo read how the data was acquired, please read [this](https://github.com/amitkaps/weed/blob/master/1-Acquire.ipynb) to get more information\n\nThis notebook will make use of pandas quite a bit."
    },
    {
      "metadata": {
        "collapsed": true,
        "trusted": false
      },
      "cell_type": "code",
      "source": "import numpy as np\nimport pandas as pd\nfrom datetime import datetime as dt\nfrom scipy import stats",
      "execution_count": 1,
      "outputs": []
    },
    {
      "metadata": {},
      "cell_type": "markdown",
      "source": "### Read the input datasets. There are three datasets:\n\n1. Weed price by date / state\n2. Demographics of State\n3. Population of state"
    },
    {
      "metadata": {
        "trusted": false
      },
      "cell_type": "code",
      "source": "prices_pd = pd.read_csv(\"../data/Weed_Price.csv\", parse_dates=[-1])\ndemography_pd = pd.read_csv(\"../data/Demographics_State.csv\")\npopulation_pd = pd.read_csv(\"../data/Population_State.csv\")",
      "execution_count": 2,
      "outputs": []
    },
    {
      "metadata": {
        "trusted": false
      },
      "cell_type": "code",
      "source": "prices_pd.head()",
      "execution_count": 3,
      "outputs": [
        {
          "data": {
            "text/html": "<div>\n<table border=\"1\" class=\"dataframe\">\n  <thead>\n    <tr style=\"text-align: right;\">\n      <th></th>\n      <th>State</th>\n      <th>HighQ</th>\n      <th>HighQN</th>\n      <th>MedQ</th>\n      <th>MedQN</th>\n      <th>LowQ</th>\n      <th>LowQN</th>\n      <th>date</th>\n    </tr>\n  </thead>\n  <tbody>\n    <tr>\n      <th>0</th>\n      <td>Alabama</td>\n      <td>339.06</td>\n      <td>1042</td>\n      <td>198.64</td>\n      <td>933</td>\n      <td>149.49</td>\n      <td>123</td>\n      <td>2014-01-01</td>\n    </tr>\n    <tr>\n      <th>1</th>\n      <td>Alaska</td>\n      <td>288.75</td>\n      <td>252</td>\n      <td>260.60</td>\n      <td>297</td>\n      <td>388.58</td>\n      <td>26</td>\n      <td>2014-01-01</td>\n    </tr>\n    <tr>\n      <th>2</th>\n      <td>Arizona</td>\n      <td>303.31</td>\n      <td>1941</td>\n      <td>209.35</td>\n      <td>1625</td>\n      <td>189.45</td>\n      <td>222</td>\n      <td>2014-01-01</td>\n    </tr>\n    <tr>\n      <th>3</th>\n      <td>Arkansas</td>\n      <td>361.85</td>\n      <td>576</td>\n      <td>185.62</td>\n      <td>544</td>\n      <td>125.87</td>\n      <td>112</td>\n      <td>2014-01-01</td>\n    </tr>\n    <tr>\n      <th>4</th>\n      <td>California</td>\n      <td>248.78</td>\n      <td>12096</td>\n      <td>193.56</td>\n      <td>12812</td>\n      <td>192.92</td>\n      <td>778</td>\n      <td>2014-01-01</td>\n    </tr>\n  </tbody>\n</table>\n</div>",
            "text/plain": "        State   HighQ  HighQN    MedQ  MedQN    LowQ  LowQN       date\n0     Alabama  339.06    1042  198.64    933  149.49    123 2014-01-01\n1      Alaska  288.75     252  260.60    297  388.58     26 2014-01-01\n2     Arizona  303.31    1941  209.35   1625  189.45    222 2014-01-01\n3    Arkansas  361.85     576  185.62    544  125.87    112 2014-01-01\n4  California  248.78   12096  193.56  12812  192.92    778 2014-01-01"
          },
          "execution_count": 3,
          "metadata": {},
          "output_type": "execute_result"
        }
      ]
    },
    {
      "metadata": {
        "trusted": false
      },
      "cell_type": "code",
      "source": "prices_pd.tail()",
      "execution_count": 4,
      "outputs": [
        {
          "data": {
            "text/html": "<div>\n<table border=\"1\" class=\"dataframe\">\n  <thead>\n    <tr style=\"text-align: right;\">\n      <th></th>\n      <th>State</th>\n      <th>HighQ</th>\n      <th>HighQN</th>\n      <th>MedQ</th>\n      <th>MedQN</th>\n      <th>LowQ</th>\n      <th>LowQN</th>\n      <th>date</th>\n    </tr>\n  </thead>\n  <tbody>\n    <tr>\n      <th>22894</th>\n      <td>Virginia</td>\n      <td>364.98</td>\n      <td>3513</td>\n      <td>293.12</td>\n      <td>3079</td>\n      <td>NaN</td>\n      <td>284</td>\n      <td>2014-12-31</td>\n    </tr>\n    <tr>\n      <th>22895</th>\n      <td>Washington</td>\n      <td>233.05</td>\n      <td>3337</td>\n      <td>189.92</td>\n      <td>3562</td>\n      <td>NaN</td>\n      <td>160</td>\n      <td>2014-12-31</td>\n    </tr>\n    <tr>\n      <th>22896</th>\n      <td>West Virginia</td>\n      <td>359.35</td>\n      <td>551</td>\n      <td>224.03</td>\n      <td>545</td>\n      <td>NaN</td>\n      <td>60</td>\n      <td>2014-12-31</td>\n    </tr>\n    <tr>\n      <th>22897</th>\n      <td>Wisconsin</td>\n      <td>350.52</td>\n      <td>2244</td>\n      <td>272.71</td>\n      <td>2221</td>\n      <td>NaN</td>\n      <td>167</td>\n      <td>2014-12-31</td>\n    </tr>\n    <tr>\n      <th>22898</th>\n      <td>Wyoming</td>\n      <td>322.27</td>\n      <td>131</td>\n      <td>351.86</td>\n      <td>197</td>\n      <td>NaN</td>\n      <td>12</td>\n      <td>2014-12-31</td>\n    </tr>\n  </tbody>\n</table>\n</div>",
            "text/plain": "               State   HighQ  HighQN    MedQ  MedQN  LowQ  LowQN       date\n22894       Virginia  364.98    3513  293.12   3079   NaN    284 2014-12-31\n22895     Washington  233.05    3337  189.92   3562   NaN    160 2014-12-31\n22896  West Virginia  359.35     551  224.03    545   NaN     60 2014-12-31\n22897      Wisconsin  350.52    2244  272.71   2221   NaN    167 2014-12-31\n22898        Wyoming  322.27     131  351.86    197   NaN     12 2014-12-31"
          },
          "execution_count": 4,
          "metadata": {},
          "output_type": "execute_result"
        }
      ]
    },
    {
      "metadata": {
        "trusted": false
      },
      "cell_type": "code",
      "source": "demography_pd.head()",
      "execution_count": 5,
      "outputs": [
        {
          "data": {
            "text/html": "<div>\n<table border=\"1\" class=\"dataframe\">\n  <thead>\n    <tr style=\"text-align: right;\">\n      <th></th>\n      <th>region</th>\n      <th>total_population</th>\n      <th>percent_white</th>\n      <th>percent_black</th>\n      <th>percent_asian</th>\n      <th>percent_hispanic</th>\n      <th>per_capita_income</th>\n      <th>median_rent</th>\n      <th>median_age</th>\n    </tr>\n  </thead>\n  <tbody>\n    <tr>\n      <th>0</th>\n      <td>alabama</td>\n      <td>4799277</td>\n      <td>67</td>\n      <td>26</td>\n      <td>1</td>\n      <td>4</td>\n      <td>23680</td>\n      <td>501</td>\n      <td>38.1</td>\n    </tr>\n    <tr>\n      <th>1</th>\n      <td>alaska</td>\n      <td>720316</td>\n      <td>63</td>\n      <td>3</td>\n      <td>5</td>\n      <td>6</td>\n      <td>32651</td>\n      <td>978</td>\n      <td>33.6</td>\n    </tr>\n    <tr>\n      <th>2</th>\n      <td>arizona</td>\n      <td>6479703</td>\n      <td>57</td>\n      <td>4</td>\n      <td>3</td>\n      <td>30</td>\n      <td>25358</td>\n      <td>747</td>\n      <td>36.3</td>\n    </tr>\n    <tr>\n      <th>3</th>\n      <td>arkansas</td>\n      <td>2933369</td>\n      <td>74</td>\n      <td>15</td>\n      <td>1</td>\n      <td>7</td>\n      <td>22170</td>\n      <td>480</td>\n      <td>37.5</td>\n    </tr>\n    <tr>\n      <th>4</th>\n      <td>california</td>\n      <td>37659181</td>\n      <td>40</td>\n      <td>6</td>\n      <td>13</td>\n      <td>38</td>\n      <td>29527</td>\n      <td>1119</td>\n      <td>35.4</td>\n    </tr>\n  </tbody>\n</table>\n</div>",
            "text/plain": "       region  total_population  percent_white  percent_black  percent_asian  \\\n0     alabama           4799277             67             26              1   \n1      alaska            720316             63              3              5   \n2     arizona           6479703             57              4              3   \n3    arkansas           2933369             74             15              1   \n4  california          37659181             40              6             13   \n\n   percent_hispanic  per_capita_income  median_rent  median_age  \n0                 4              23680          501        38.1  \n1                 6              32651          978        33.6  \n2                30              25358          747        36.3  \n3                 7              22170          480        37.5  \n4                38              29527         1119        35.4  "
          },
          "execution_count": 5,
          "metadata": {},
          "output_type": "execute_result"
        }
      ]
    },
    {
      "metadata": {
        "trusted": false
      },
      "cell_type": "code",
      "source": "population_pd.head()",
      "execution_count": 6,
      "outputs": [
        {
          "data": {
            "text/html": "<div>\n<table border=\"1\" class=\"dataframe\">\n  <thead>\n    <tr style=\"text-align: right;\">\n      <th></th>\n      <th>region</th>\n      <th>value</th>\n    </tr>\n  </thead>\n  <tbody>\n    <tr>\n      <th>0</th>\n      <td>alabama</td>\n      <td>4777326</td>\n    </tr>\n    <tr>\n      <th>1</th>\n      <td>alaska</td>\n      <td>711139</td>\n    </tr>\n    <tr>\n      <th>2</th>\n      <td>arizona</td>\n      <td>6410979</td>\n    </tr>\n    <tr>\n      <th>3</th>\n      <td>arkansas</td>\n      <td>2916372</td>\n    </tr>\n    <tr>\n      <th>4</th>\n      <td>california</td>\n      <td>37325068</td>\n    </tr>\n  </tbody>\n</table>\n</div>",
            "text/plain": "       region     value\n0     alabama   4777326\n1      alaska    711139\n2     arizona   6410979\n3    arkansas   2916372\n4  california  37325068"
          },
          "execution_count": 6,
          "metadata": {},
          "output_type": "execute_result"
        }
      ]
    },
    {
      "metadata": {
        "trusted": false
      },
      "cell_type": "code",
      "source": "prices_pd.dtypes",
      "execution_count": 7,
      "outputs": [
        {
          "data": {
            "text/plain": "State             object\nHighQ            float64\nHighQN             int64\nMedQ             float64\nMedQN              int64\nLowQ             float64\nLowQN              int64\ndate      datetime64[ns]\ndtype: object"
          },
          "execution_count": 7,
          "metadata": {},
          "output_type": "execute_result"
        }
      ]
    },
    {
      "metadata": {},
      "cell_type": "markdown",
      "source": "#### Sort the data on state and date, then fill NA values"
    },
    {
      "metadata": {
        "trusted": false
      },
      "cell_type": "code",
      "source": "prices_pd.sort(columns=['State', 'date'], inplace=True)\nprices_pd.fillna(method='ffill', inplace=True)",
      "execution_count": null,
      "outputs": []
    },
    {
      "metadata": {},
      "cell_type": "markdown",
      "source": "### Finding mean, median, mode, variance, standard deviation for California"
    },
    {
      "metadata": {},
      "cell_type": "markdown",
      "source": "#### Mean\n\narithmetic average of a range of values or quantities, computed by dividing the total of all values by the number of values."
    },
    {
      "metadata": {
        "trusted": false
      },
      "cell_type": "code",
      "source": "california_pd = prices_pd[prices_pd.State == \"California\"].copy(True)\ncalifornia_pd.head()",
      "execution_count": 9,
      "outputs": [
        {
          "data": {
            "text/html": "<div>\n<table border=\"1\" class=\"dataframe\">\n  <thead>\n    <tr style=\"text-align: right;\">\n      <th></th>\n      <th>State</th>\n      <th>HighQ</th>\n      <th>HighQN</th>\n      <th>MedQ</th>\n      <th>MedQN</th>\n      <th>LowQ</th>\n      <th>LowQN</th>\n      <th>date</th>\n    </tr>\n  </thead>\n  <tbody>\n    <tr>\n      <th>20098</th>\n      <td>California</td>\n      <td>248.77</td>\n      <td>12021</td>\n      <td>193.44</td>\n      <td>12724</td>\n      <td>193.88</td>\n      <td>770</td>\n      <td>2013-12-27</td>\n    </tr>\n    <tr>\n      <th>20863</th>\n      <td>California</td>\n      <td>248.74</td>\n      <td>12025</td>\n      <td>193.44</td>\n      <td>12728</td>\n      <td>193.88</td>\n      <td>770</td>\n      <td>2013-12-28</td>\n    </tr>\n    <tr>\n      <th>21577</th>\n      <td>California</td>\n      <td>248.76</td>\n      <td>12047</td>\n      <td>193.55</td>\n      <td>12760</td>\n      <td>193.60</td>\n      <td>772</td>\n      <td>2013-12-29</td>\n    </tr>\n    <tr>\n      <th>22291</th>\n      <td>California</td>\n      <td>248.82</td>\n      <td>12065</td>\n      <td>193.54</td>\n      <td>12779</td>\n      <td>193.80</td>\n      <td>773</td>\n      <td>2013-12-30</td>\n    </tr>\n    <tr>\n      <th>22801</th>\n      <td>California</td>\n      <td>248.76</td>\n      <td>12082</td>\n      <td>193.54</td>\n      <td>12792</td>\n      <td>193.80</td>\n      <td>773</td>\n      <td>2013-12-31</td>\n    </tr>\n  </tbody>\n</table>\n</div>",
            "text/plain": "            State   HighQ  HighQN    MedQ  MedQN    LowQ  LowQN       date\n20098  California  248.77   12021  193.44  12724  193.88    770 2013-12-27\n20863  California  248.74   12025  193.44  12728  193.88    770 2013-12-28\n21577  California  248.76   12047  193.55  12760  193.60    772 2013-12-29\n22291  California  248.82   12065  193.54  12779  193.80    773 2013-12-30\n22801  California  248.76   12082  193.54  12792  193.80    773 2013-12-31"
          },
          "execution_count": 9,
          "metadata": {},
          "output_type": "execute_result"
        }
      ]
    },
    {
      "metadata": {
        "trusted": false
      },
      "cell_type": "code",
      "source": "ca_sum = california_pd['HighQ'].sum()",
      "execution_count": 10,
      "outputs": []
    },
    {
      "metadata": {
        "trusted": false
      },
      "cell_type": "code",
      "source": "ca_count = california_pd['HighQ'].count()",
      "execution_count": 11,
      "outputs": []
    },
    {
      "metadata": {
        "trusted": false
      },
      "cell_type": "code",
      "source": "ca_mean = ca_sum / ca_count\nprint \"Mean weed price in CA is:\", ca_mean",
      "execution_count": 12,
      "outputs": [
        {
          "name": "stdout",
          "output_type": "stream",
          "text": "Mean weed price in CA is: 245.376124722\n"
        }
      ]
    },
    {
      "metadata": {},
      "cell_type": "markdown",
      "source": "#### Exercise: Find CA mean for 2013, 2014 & 2015 separately\n\n*Hint:* `california_pd.iloc[0]['date'].year`"
    },
    {
      "metadata": {
        "collapsed": true,
        "trusted": false
      },
      "cell_type": "code",
      "source": "",
      "execution_count": null,
      "outputs": []
    },
    {
      "metadata": {},
      "cell_type": "markdown",
      "source": "#### Median\n\nDenotes value or quantity lying at the midpoint of a frequency distribution of observed values or quantities, such that there is an equal probability of falling above or below it. Simply put, it is the *middle* value in the list of numbers."
    },
    {
      "metadata": {
        "trusted": false
      },
      "cell_type": "code",
      "source": "ca_count",
      "execution_count": 13,
      "outputs": [
        {
          "data": {
            "text/plain": "449"
          },
          "execution_count": 13,
          "metadata": {},
          "output_type": "execute_result"
        }
      ]
    },
    {
      "metadata": {},
      "cell_type": "markdown",
      "source": "If count is odd, the median is the value at (n+1)/2,\n\nelse it is the average of n/2 and (n+1)/2"
    },
    {
      "metadata": {
        "trusted": false
      },
      "cell_type": "code",
      "source": "ca_highq_pd = california_pd.sort(columns=['HighQ'])\nca_highq_pd.head()",
      "execution_count": null,
      "outputs": []
    },
    {
      "metadata": {
        "trusted": false
      },
      "cell_type": "code",
      "source": "ca_median = ca_highq_pd.HighQ.iloc[(ca_count) / 2]\nprint \"Median price of weed in CA is:\", ca_median",
      "execution_count": 15,
      "outputs": [
        {
          "name": "stdout",
          "output_type": "stream",
          "text": "Median price of weed in CA is: 245.31\n"
        }
      ]
    },
    {
      "metadata": {},
      "cell_type": "markdown",
      "source": "#### Mode\n\nIt is the number which appears most often in a set of numbers. "
    },
    {
      "metadata": {
        "trusted": false
      },
      "cell_type": "code",
      "source": "ca_mode = ca_highq_pd.HighQ.value_counts().index[0]\nprint \"The most common price is CA, as indicated by its mode, is:\", ca_mode",
      "execution_count": 16,
      "outputs": [
        {
          "name": "stdout",
          "output_type": "stream",
          "text": "The most common price is CA, as indicated by its mode, is: 245.05\n"
        }
      ]
    },
    {
      "metadata": {},
      "cell_type": "markdown",
      "source": "#### Variance\n\n> Once two statistician of height 4 feet and 5 feet have to cross a river of AVERAGE depth 3 feet. Meanwhile, a third person comes and said, \"what are you waiting for? You can easily cross the river\"\n\nIt's the average distance of the data values from the *mean*\n\n![Imgur](https://i.imgur.com/Tkls6ED.png)"
    },
    {
      "metadata": {
        "trusted": false
      },
      "cell_type": "code",
      "source": "california_pd['HighQ_dev'] = (california_pd['HighQ'] - ca_mean) ** 2",
      "execution_count": 17,
      "outputs": []
    },
    {
      "metadata": {
        "trusted": false
      },
      "cell_type": "code",
      "source": "ca_HighQ_variance = california_pd.HighQ_dev.sum() / (ca_count - 1)\nprint \"Variance of High Quality weed prices in CA is:\", ca_HighQ_variance",
      "execution_count": 18,
      "outputs": [
        {
          "name": "stdout",
          "output_type": "stream",
          "text": "Variance of High Quality weed prices in CA is: 2.98268628798\n"
        }
      ]
    },
    {
      "metadata": {},
      "cell_type": "markdown",
      "source": "#### Standard Deviation\n\nIt is the square root of variance. This will have the same units as the data and mean. "
    },
    {
      "metadata": {
        "trusted": false
      },
      "cell_type": "code",
      "source": "ca_HighQ_SD = np.sqrt(ca_HighQ_variance)\nprint \"Standard Deviation of High Quality weed prices in CA is:\", ca_HighQ_SD",
      "execution_count": 19,
      "outputs": [
        {
          "name": "stdout",
          "output_type": "stream",
          "text": "Standard Deviation of High Quality weed prices in CA is: 1.72704553732\n"
        }
      ]
    },
    {
      "metadata": {},
      "cell_type": "markdown",
      "source": "#### Using Pandas built-in function"
    },
    {
      "metadata": {
        "trusted": false
      },
      "cell_type": "code",
      "source": "california_pd.describe()",
      "execution_count": 20,
      "outputs": [
        {
          "data": {
            "text/html": "<div>\n<table border=\"1\" class=\"dataframe\">\n  <thead>\n    <tr style=\"text-align: right;\">\n      <th></th>\n      <th>HighQ</th>\n      <th>HighQN</th>\n      <th>MedQ</th>\n      <th>MedQN</th>\n      <th>LowQ</th>\n      <th>LowQN</th>\n      <th>HighQ_dev</th>\n    </tr>\n  </thead>\n  <tbody>\n    <tr>\n      <th>count</th>\n      <td>449.000000</td>\n      <td>449.000000</td>\n      <td>449.000000</td>\n      <td>449.000000</td>\n      <td>449.000000</td>\n      <td>449.000000</td>\n      <td>449.000000</td>\n    </tr>\n    <tr>\n      <th>mean</th>\n      <td>245.376125</td>\n      <td>14947.073497</td>\n      <td>191.268909</td>\n      <td>16769.821826</td>\n      <td>189.783586</td>\n      <td>976.298441</td>\n      <td>2.976043</td>\n    </tr>\n    <tr>\n      <th>std</th>\n      <td>1.727046</td>\n      <td>1656.133565</td>\n      <td>1.524028</td>\n      <td>2433.943191</td>\n      <td>1.598252</td>\n      <td>120.246714</td>\n      <td>3.961134</td>\n    </tr>\n    <tr>\n      <th>min</th>\n      <td>241.840000</td>\n      <td>12021.000000</td>\n      <td>187.850000</td>\n      <td>12724.000000</td>\n      <td>187.830000</td>\n      <td>770.000000</td>\n      <td>0.000015</td>\n    </tr>\n    <tr>\n      <th>25%</th>\n      <td>244.480000</td>\n      <td>13610.000000</td>\n      <td>190.260000</td>\n      <td>14826.000000</td>\n      <td>188.600000</td>\n      <td>878.000000</td>\n      <td>0.106357</td>\n    </tr>\n    <tr>\n      <th>50%</th>\n      <td>245.310000</td>\n      <td>15037.000000</td>\n      <td>191.570000</td>\n      <td>16793.000000</td>\n      <td>188.600000</td>\n      <td>982.000000</td>\n      <td>0.729103</td>\n    </tr>\n    <tr>\n      <th>75%</th>\n      <td>246.220000</td>\n      <td>16090.000000</td>\n      <td>192.550000</td>\n      <td>18435.000000</td>\n      <td>191.320000</td>\n      <td>1060.000000</td>\n      <td>4.435761</td>\n    </tr>\n    <tr>\n      <th>max</th>\n      <td>248.820000</td>\n      <td>18492.000000</td>\n      <td>193.630000</td>\n      <td>22027.000000</td>\n      <td>193.880000</td>\n      <td>1232.000000</td>\n      <td>12.504178</td>\n    </tr>\n  </tbody>\n</table>\n</div>",
            "text/plain": "            HighQ        HighQN        MedQ         MedQN        LowQ  \\\ncount  449.000000    449.000000  449.000000    449.000000  449.000000   \nmean   245.376125  14947.073497  191.268909  16769.821826  189.783586   \nstd      1.727046   1656.133565    1.524028   2433.943191    1.598252   \nmin    241.840000  12021.000000  187.850000  12724.000000  187.830000   \n25%    244.480000  13610.000000  190.260000  14826.000000  188.600000   \n50%    245.310000  15037.000000  191.570000  16793.000000  188.600000   \n75%    246.220000  16090.000000  192.550000  18435.000000  191.320000   \nmax    248.820000  18492.000000  193.630000  22027.000000  193.880000   \n\n             LowQN   HighQ_dev  \ncount   449.000000  449.000000  \nmean    976.298441    2.976043  \nstd     120.246714    3.961134  \nmin     770.000000    0.000015  \n25%     878.000000    0.106357  \n50%     982.000000    0.729103  \n75%    1060.000000    4.435761  \nmax    1232.000000   12.504178  "
          },
          "execution_count": 20,
          "metadata": {},
          "output_type": "execute_result"
        }
      ]
    },
    {
      "metadata": {
        "trusted": false
      },
      "cell_type": "code",
      "source": "california_pd.HighQ.mode()",
      "execution_count": 21,
      "outputs": [
        {
          "data": {
            "text/plain": "0    245.03\n1    245.05\ndtype: float64"
          },
          "execution_count": 21,
          "metadata": {},
          "output_type": "execute_result"
        }
      ]
    },
    {
      "metadata": {},
      "cell_type": "markdown",
      "source": "#### Co-variance \n\ncovariance as a measure of the (average) co-variation between two variables, say x and y. Covariance describes both how far the variables are spread out, and the nature of their relationship, Covariance is a measure of how much two variables change together. Compare this to Variance, which is just the range over which one measure (or variable) varies.\n\n![Imgur](https://i.imgur.com/8O7kQWG.png)\n\n<br>\n<br>\n<br>\n<br>\n\n#### Co-variance of weed price in California vs New York"
    },
    {
      "metadata": {
        "trusted": false
      },
      "cell_type": "code",
      "source": "ny_pd = prices_pd[prices_pd['State'] == 'New York'].copy(True)\nny_pd.head()",
      "execution_count": 22,
      "outputs": [
        {
          "data": {
            "text/html": "<div>\n<table border=\"1\" class=\"dataframe\">\n  <thead>\n    <tr style=\"text-align: right;\">\n      <th></th>\n      <th>State</th>\n      <th>HighQ</th>\n      <th>HighQN</th>\n      <th>MedQ</th>\n      <th>MedQN</th>\n      <th>LowQ</th>\n      <th>LowQN</th>\n      <th>date</th>\n    </tr>\n  </thead>\n  <tbody>\n    <tr>\n      <th>20120</th>\n      <td>New York</td>\n      <td>351.98</td>\n      <td>5773</td>\n      <td>268.83</td>\n      <td>5786</td>\n      <td>190.31</td>\n      <td>479</td>\n      <td>2013-12-27</td>\n    </tr>\n    <tr>\n      <th>20885</th>\n      <td>New York</td>\n      <td>351.92</td>\n      <td>5775</td>\n      <td>268.83</td>\n      <td>5786</td>\n      <td>190.31</td>\n      <td>479</td>\n      <td>2013-12-28</td>\n    </tr>\n    <tr>\n      <th>21599</th>\n      <td>New York</td>\n      <td>351.99</td>\n      <td>5785</td>\n      <td>269.02</td>\n      <td>5806</td>\n      <td>190.75</td>\n      <td>480</td>\n      <td>2013-12-29</td>\n    </tr>\n    <tr>\n      <th>22313</th>\n      <td>New York</td>\n      <td>352.02</td>\n      <td>5791</td>\n      <td>268.98</td>\n      <td>5814</td>\n      <td>190.75</td>\n      <td>480</td>\n      <td>2013-12-30</td>\n    </tr>\n    <tr>\n      <th>22823</th>\n      <td>New York</td>\n      <td>351.97</td>\n      <td>5794</td>\n      <td>268.93</td>\n      <td>5818</td>\n      <td>190.75</td>\n      <td>480</td>\n      <td>2013-12-31</td>\n    </tr>\n  </tbody>\n</table>\n</div>",
            "text/plain": "          State   HighQ  HighQN    MedQ  MedQN    LowQ  LowQN       date\n20120  New York  351.98    5773  268.83   5786  190.31    479 2013-12-27\n20885  New York  351.92    5775  268.83   5786  190.31    479 2013-12-28\n21599  New York  351.99    5785  269.02   5806  190.75    480 2013-12-29\n22313  New York  352.02    5791  268.98   5814  190.75    480 2013-12-30\n22823  New York  351.97    5794  268.93   5818  190.75    480 2013-12-31"
          },
          "execution_count": 22,
          "metadata": {},
          "output_type": "execute_result"
        }
      ]
    },
    {
      "metadata": {
        "trusted": false
      },
      "cell_type": "code",
      "source": "ny_pd = ny_pd.ix[:,[1,7]]\nny_pd.columns = ['NY_HighQ', 'date']",
      "execution_count": 23,
      "outputs": []
    },
    {
      "metadata": {
        "trusted": false
      },
      "cell_type": "code",
      "source": "ny_pd.head()",
      "execution_count": 24,
      "outputs": [
        {
          "data": {
            "text/html": "<div>\n<table border=\"1\" class=\"dataframe\">\n  <thead>\n    <tr style=\"text-align: right;\">\n      <th></th>\n      <th>NY_HighQ</th>\n      <th>date</th>\n    </tr>\n  </thead>\n  <tbody>\n    <tr>\n      <th>20120</th>\n      <td>351.98</td>\n      <td>2013-12-27</td>\n    </tr>\n    <tr>\n      <th>20885</th>\n      <td>351.92</td>\n      <td>2013-12-28</td>\n    </tr>\n    <tr>\n      <th>21599</th>\n      <td>351.99</td>\n      <td>2013-12-29</td>\n    </tr>\n    <tr>\n      <th>22313</th>\n      <td>352.02</td>\n      <td>2013-12-30</td>\n    </tr>\n    <tr>\n      <th>22823</th>\n      <td>351.97</td>\n      <td>2013-12-31</td>\n    </tr>\n  </tbody>\n</table>\n</div>",
            "text/plain": "       NY_HighQ       date\n20120    351.98 2013-12-27\n20885    351.92 2013-12-28\n21599    351.99 2013-12-29\n22313    352.02 2013-12-30\n22823    351.97 2013-12-31"
          },
          "execution_count": 24,
          "metadata": {},
          "output_type": "execute_result"
        }
      ]
    },
    {
      "metadata": {
        "trusted": false
      },
      "cell_type": "code",
      "source": "ca_ny_pd = pd.merge(california_pd.ix[:,[1,7]].copy(), ny_pd, on=\"date\")\nca_ny_pd.rename(columns={\"HighQ\": \"CA_HighQ\"}, inplace=True)\nca_ny_pd.head()",
      "execution_count": 25,
      "outputs": [
        {
          "data": {
            "text/html": "<div>\n<table border=\"1\" class=\"dataframe\">\n  <thead>\n    <tr style=\"text-align: right;\">\n      <th></th>\n      <th>CA_HighQ</th>\n      <th>date</th>\n      <th>NY_HighQ</th>\n    </tr>\n  </thead>\n  <tbody>\n    <tr>\n      <th>0</th>\n      <td>248.77</td>\n      <td>2013-12-27</td>\n      <td>351.98</td>\n    </tr>\n    <tr>\n      <th>1</th>\n      <td>248.74</td>\n      <td>2013-12-28</td>\n      <td>351.92</td>\n    </tr>\n    <tr>\n      <th>2</th>\n      <td>248.76</td>\n      <td>2013-12-29</td>\n      <td>351.99</td>\n    </tr>\n    <tr>\n      <th>3</th>\n      <td>248.82</td>\n      <td>2013-12-30</td>\n      <td>352.02</td>\n    </tr>\n    <tr>\n      <th>4</th>\n      <td>248.76</td>\n      <td>2013-12-31</td>\n      <td>351.97</td>\n    </tr>\n  </tbody>\n</table>\n</div>",
            "text/plain": "   CA_HighQ       date  NY_HighQ\n0    248.77 2013-12-27    351.98\n1    248.74 2013-12-28    351.92\n2    248.76 2013-12-29    351.99\n3    248.82 2013-12-30    352.02\n4    248.76 2013-12-31    351.97"
          },
          "execution_count": 25,
          "metadata": {},
          "output_type": "execute_result"
        }
      ]
    },
    {
      "metadata": {
        "trusted": false
      },
      "cell_type": "code",
      "source": "ny_mean = ca_ny_pd.NY_HighQ.mean()\nny_mean",
      "execution_count": 26,
      "outputs": [
        {
          "data": {
            "text/plain": "346.9127616926502"
          },
          "execution_count": 26,
          "metadata": {},
          "output_type": "execute_result"
        }
      ]
    },
    {
      "metadata": {
        "trusted": false
      },
      "cell_type": "code",
      "source": "ca_ny_pd['ca_dev'] = ca_ny_pd['CA_HighQ'] - ca_mean\nca_ny_pd.head()",
      "execution_count": 27,
      "outputs": [
        {
          "data": {
            "text/html": "<div>\n<table border=\"1\" class=\"dataframe\">\n  <thead>\n    <tr style=\"text-align: right;\">\n      <th></th>\n      <th>CA_HighQ</th>\n      <th>date</th>\n      <th>NY_HighQ</th>\n      <th>ca_dev</th>\n    </tr>\n  </thead>\n  <tbody>\n    <tr>\n      <th>0</th>\n      <td>248.77</td>\n      <td>2013-12-27</td>\n      <td>351.98</td>\n      <td>3.393875</td>\n    </tr>\n    <tr>\n      <th>1</th>\n      <td>248.74</td>\n      <td>2013-12-28</td>\n      <td>351.92</td>\n      <td>3.363875</td>\n    </tr>\n    <tr>\n      <th>2</th>\n      <td>248.76</td>\n      <td>2013-12-29</td>\n      <td>351.99</td>\n      <td>3.383875</td>\n    </tr>\n    <tr>\n      <th>3</th>\n      <td>248.82</td>\n      <td>2013-12-30</td>\n      <td>352.02</td>\n      <td>3.443875</td>\n    </tr>\n    <tr>\n      <th>4</th>\n      <td>248.76</td>\n      <td>2013-12-31</td>\n      <td>351.97</td>\n      <td>3.383875</td>\n    </tr>\n  </tbody>\n</table>\n</div>",
            "text/plain": "   CA_HighQ       date  NY_HighQ    ca_dev\n0    248.77 2013-12-27    351.98  3.393875\n1    248.74 2013-12-28    351.92  3.363875\n2    248.76 2013-12-29    351.99  3.383875\n3    248.82 2013-12-30    352.02  3.443875\n4    248.76 2013-12-31    351.97  3.383875"
          },
          "execution_count": 27,
          "metadata": {},
          "output_type": "execute_result"
        }
      ]
    },
    {
      "metadata": {
        "trusted": false
      },
      "cell_type": "code",
      "source": "ca_ny_pd['ny_dev'] = ca_ny_pd['NY_HighQ'] - ny_mean\nca_ny_pd.head()",
      "execution_count": 28,
      "outputs": [
        {
          "data": {
            "text/html": "<div>\n<table border=\"1\" class=\"dataframe\">\n  <thead>\n    <tr style=\"text-align: right;\">\n      <th></th>\n      <th>CA_HighQ</th>\n      <th>date</th>\n      <th>NY_HighQ</th>\n      <th>ca_dev</th>\n      <th>ny_dev</th>\n    </tr>\n  </thead>\n  <tbody>\n    <tr>\n      <th>0</th>\n      <td>248.77</td>\n      <td>2013-12-27</td>\n      <td>351.98</td>\n      <td>3.393875</td>\n      <td>5.067238</td>\n    </tr>\n    <tr>\n      <th>1</th>\n      <td>248.74</td>\n      <td>2013-12-28</td>\n      <td>351.92</td>\n      <td>3.363875</td>\n      <td>5.007238</td>\n    </tr>\n    <tr>\n      <th>2</th>\n      <td>248.76</td>\n      <td>2013-12-29</td>\n      <td>351.99</td>\n      <td>3.383875</td>\n      <td>5.077238</td>\n    </tr>\n    <tr>\n      <th>3</th>\n      <td>248.82</td>\n      <td>2013-12-30</td>\n      <td>352.02</td>\n      <td>3.443875</td>\n      <td>5.107238</td>\n    </tr>\n    <tr>\n      <th>4</th>\n      <td>248.76</td>\n      <td>2013-12-31</td>\n      <td>351.97</td>\n      <td>3.383875</td>\n      <td>5.057238</td>\n    </tr>\n  </tbody>\n</table>\n</div>",
            "text/plain": "   CA_HighQ       date  NY_HighQ    ca_dev    ny_dev\n0    248.77 2013-12-27    351.98  3.393875  5.067238\n1    248.74 2013-12-28    351.92  3.363875  5.007238\n2    248.76 2013-12-29    351.99  3.383875  5.077238\n3    248.82 2013-12-30    352.02  3.443875  5.107238\n4    248.76 2013-12-31    351.97  3.383875  5.057238"
          },
          "execution_count": 28,
          "metadata": {},
          "output_type": "execute_result"
        }
      ]
    },
    {
      "metadata": {
        "trusted": false
      },
      "cell_type": "code",
      "source": "ca_ny_cov = (ca_ny_pd['ca_dev'] * ca_ny_pd['ny_dev']).sum() / (ca_count - 1)\nprint \"Covariance of the High Quality weed prices in CA and NY is:\", ca_ny_cov",
      "execution_count": 29,
      "outputs": [
        {
          "name": "stdout",
          "output_type": "stream",
          "text": "Covariance of the High Quality weed prices in CA and NY is: 5.91681496729\n"
        }
      ]
    },
    {
      "metadata": {},
      "cell_type": "markdown",
      "source": "#### Using Pandas built-in function"
    },
    {
      "metadata": {
        "trusted": false
      },
      "cell_type": "code",
      "source": "ca_ny_pd.cov()",
      "execution_count": 30,
      "outputs": [
        {
          "data": {
            "text/html": "<div>\n<table border=\"1\" class=\"dataframe\">\n  <thead>\n    <tr style=\"text-align: right;\">\n      <th></th>\n      <th>CA_HighQ</th>\n      <th>NY_HighQ</th>\n      <th>ca_dev</th>\n      <th>ny_dev</th>\n    </tr>\n  </thead>\n  <tbody>\n    <tr>\n      <th>CA_HighQ</th>\n      <td>2.982686</td>\n      <td>5.916815</td>\n      <td>2.982686</td>\n      <td>5.916815</td>\n    </tr>\n    <tr>\n      <th>NY_HighQ</th>\n      <td>5.916815</td>\n      <td>12.245147</td>\n      <td>5.916815</td>\n      <td>12.245147</td>\n    </tr>\n    <tr>\n      <th>ca_dev</th>\n      <td>2.982686</td>\n      <td>5.916815</td>\n      <td>2.982686</td>\n      <td>5.916815</td>\n    </tr>\n    <tr>\n      <th>ny_dev</th>\n      <td>5.916815</td>\n      <td>12.245147</td>\n      <td>5.916815</td>\n      <td>12.245147</td>\n    </tr>\n  </tbody>\n</table>\n</div>",
            "text/plain": "          CA_HighQ   NY_HighQ    ca_dev     ny_dev\nCA_HighQ  2.982686   5.916815  2.982686   5.916815\nNY_HighQ  5.916815  12.245147  5.916815  12.245147\nca_dev    2.982686   5.916815  2.982686   5.916815\nny_dev    5.916815  12.245147  5.916815  12.245147"
          },
          "execution_count": 30,
          "metadata": {},
          "output_type": "execute_result"
        }
      ]
    },
    {
      "metadata": {},
      "cell_type": "markdown",
      "source": "### Correlation\n\nExtent to which two or more variables fluctuate together. A positive correlation indicates the extent to which those variables increase or decrease in parallel; a negative correlation indicates the extent to which one variable increases as the other decreases.\n\n![Imgur](https://i.imgur.com/WNkO9W0.gif)\n<br>\n<br>\n<br>\n\n#### Finding correlation between weed prices in New York and California"
    },
    {
      "metadata": {
        "trusted": false
      },
      "cell_type": "code",
      "source": "ca_highq_std = ca_ny_pd.CA_HighQ.std()\nny_highq_std = ca_ny_pd.NY_HighQ.std()\n\nca_ny_corr = ca_ny_cov / (ca_highq_std * ny_highq_std)\nprint \"Correlation between weed prices in NY and CA:\", ca_ny_corr",
      "execution_count": 31,
      "outputs": [
        {
          "name": "stdout",
          "output_type": "stream",
          "text": "Correlation between weed prices in NY and CA: 0.979043961106\n"
        }
      ]
    },
    {
      "metadata": {
        "trusted": false,
        "scrolled": true
      },
      "cell_type": "code",
      "source": "ca_ny_pd.corr()",
      "execution_count": 32,
      "outputs": [
        {
          "data": {
            "text/html": "<div>\n<table border=\"1\" class=\"dataframe\">\n  <thead>\n    <tr style=\"text-align: right;\">\n      <th></th>\n      <th>CA_HighQ</th>\n      <th>NY_HighQ</th>\n      <th>ca_dev</th>\n      <th>ny_dev</th>\n    </tr>\n  </thead>\n  <tbody>\n    <tr>\n      <th>CA_HighQ</th>\n      <td>1.000000</td>\n      <td>0.979044</td>\n      <td>1.000000</td>\n      <td>0.979044</td>\n    </tr>\n    <tr>\n      <th>NY_HighQ</th>\n      <td>0.979044</td>\n      <td>1.000000</td>\n      <td>0.979044</td>\n      <td>1.000000</td>\n    </tr>\n    <tr>\n      <th>ca_dev</th>\n      <td>1.000000</td>\n      <td>0.979044</td>\n      <td>1.000000</td>\n      <td>0.979044</td>\n    </tr>\n    <tr>\n      <th>ny_dev</th>\n      <td>0.979044</td>\n      <td>1.000000</td>\n      <td>0.979044</td>\n      <td>1.000000</td>\n    </tr>\n  </tbody>\n</table>\n</div>",
            "text/plain": "          CA_HighQ  NY_HighQ    ca_dev    ny_dev\nCA_HighQ  1.000000  0.979044  1.000000  0.979044\nNY_HighQ  0.979044  1.000000  0.979044  1.000000\nca_dev    1.000000  0.979044  1.000000  0.979044\nny_dev    0.979044  1.000000  0.979044  1.000000"
          },
          "execution_count": 32,
          "metadata": {},
          "output_type": "execute_result"
        }
      ]
    },
    {
      "metadata": {},
      "cell_type": "markdown",
      "source": "# Correlation != Causation\n\ncorrelation between two variables does not necessarily imply that one causes the other.\n\n\n![Imgur](https://i.imgur.com/N2bgMIh.gif)"
    },
    {
      "metadata": {
        "trusted": true
      },
      "cell_type": "markdown",
      "source": "<a rel=\"license\" href=\"http://creativecommons.org/licenses/by/4.0/\"><img alt=\"Creative Commons License\" style=\"border-width:0\" src=\"https://i.creativecommons.org/l/by/4.0/88x31.png\" /></a><br /><span xmlns:dct=\"http://purl.org/dc/terms/\" property=\"dct:title\">Introduction to Statistics using Python</span> by <a xmlns:cc=\"http://creativecommons.org/ns#\" href=\"https://twitter.com/bargava/\" property=\"cc:attributionName\" rel=\"cc:attributionURL\">Bargava</a> and <a xmlns:cc=\"http://creativecommons.org/ns#\" href=\"https://twitter.com/raghothams/\" property=\"cc:attributionName\" rel=\"cc:attributionURL\">Raghotham</a> is licensed under a <a rel=\"license\" href=\"http://creativecommons.org/licenses/by/4.0/\">Creative Commons Attribution 4.0 International License</a>."
    }
  ],
  "metadata": {
    "kernelspec": {
      "name": "python2",
      "display_name": "Python 2",
      "language": "python"
    },
    "language_info": {
      "mimetype": "text/x-python",
      "nbconvert_exporter": "python",
      "name": "python",
      "pygments_lexer": "ipython2",
      "version": "2.7.14",
      "file_extension": ".py",
      "codemirror_mode": {
        "version": 2,
        "name": "ipython"
      }
    },
    "toc": {
      "nav_menu": {},
      "number_sections": true,
      "sideBar": true,
      "skip_h1_title": false,
      "base_numbering": 1,
      "title_cell": "Table of Contents",
      "title_sidebar": "Contents",
      "toc_cell": false,
      "toc_position": {},
      "toc_section_display": true,
      "toc_window_display": false
    }
  },
  "nbformat": 4,
  "nbformat_minor": 1
}