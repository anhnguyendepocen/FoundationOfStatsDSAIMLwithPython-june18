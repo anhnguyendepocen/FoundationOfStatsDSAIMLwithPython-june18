{
  "cells": [
    {
      "metadata": {
        "toc": true
      },
      "cell_type": "markdown",
      "source": "<h1>Table of Contents<span class=\"tocSkip\"></span></h1>\n<div class=\"toc\"><ul class=\"toc-item\"><li><span><a href=\"#if--Statements\" data-toc-modified-id=\"if--Statements-1\"><span class=\"toc-item-num\">1&nbsp;&nbsp;</span>if  Statements</a></span></li><li><span><a href=\"#if...else-Statement\" data-toc-modified-id=\"if...else-Statement-2\"><span class=\"toc-item-num\">2&nbsp;&nbsp;</span>if...else Statement</a></span></li><li><span><a href=\"#if...elif...else-Statement\" data-toc-modified-id=\"if...elif...else-Statement-3\"><span class=\"toc-item-num\">3&nbsp;&nbsp;</span>if...elif...else Statement</a></span></li><li><span><a href=\"#Nested-if-statements\" data-toc-modified-id=\"Nested-if-statements-4\"><span class=\"toc-item-num\">4&nbsp;&nbsp;</span>Nested if statements</a></span></li><li><span><a href=\"#Practice\" data-toc-modified-id=\"Practice-5\"><span class=\"toc-item-num\">5&nbsp;&nbsp;</span>Practice</a></span></li><li><span><a href=\"#for-Loops\" data-toc-modified-id=\"for-Loops-6\"><span class=\"toc-item-num\">6&nbsp;&nbsp;</span>for Loops</a></span></li><li><span><a href=\"#while-Loops\" data-toc-modified-id=\"while-Loops-7\"><span class=\"toc-item-num\">7&nbsp;&nbsp;</span>while Loops</a></span></li><li><span><a href=\"#range()\" data-toc-modified-id=\"range()-8\"><span class=\"toc-item-num\">8&nbsp;&nbsp;</span>range()</a></span></li><li><span><a href=\"#enumerate¶\" data-toc-modified-id=\"enumerate¶-9\"><span class=\"toc-item-num\">9&nbsp;&nbsp;</span>enumerate¶</a></span></li><li><span><a href=\"#The-break-statement\" data-toc-modified-id=\"The-break-statement-10\"><span class=\"toc-item-num\">10&nbsp;&nbsp;</span>The break statement</a></span></li><li><span><a href=\"#The-continue-statement\" data-toc-modified-id=\"The-continue-statement-11\"><span class=\"toc-item-num\">11&nbsp;&nbsp;</span>The continue statement</a></span></li><li><span><a href=\"#Python-pass-statement\" data-toc-modified-id=\"Python-pass-statement-12\"><span class=\"toc-item-num\">12&nbsp;&nbsp;</span>Python pass statement</a></span></li><li><span><a href=\"#Comprehensions\" data-toc-modified-id=\"Comprehensions-13\"><span class=\"toc-item-num\">13&nbsp;&nbsp;</span>Comprehensions</a></span><ul class=\"toc-item\"><li><span><a href=\"#comprehension-for-lists\" data-toc-modified-id=\"comprehension-for-lists-13.1\"><span class=\"toc-item-num\">13.1&nbsp;&nbsp;</span>comprehension for lists</a></span></li><li><span><a href=\"#comprehension-for-dictionaries\" data-toc-modified-id=\"comprehension-for-dictionaries-13.2\"><span class=\"toc-item-num\">13.2&nbsp;&nbsp;</span>comprehension for dictionaries</a></span></li></ul></li></ul></div>"
    },
    {
      "metadata": {
        "slideshow": {
          "slide_type": "slide"
        }
      },
      "cell_type": "markdown",
      "source": "# Iterations"
    },
    {
      "metadata": {
        "slideshow": {
          "slide_type": "subslide"
        }
      },
      "cell_type": "markdown",
      "source": "* if,elif, else Statements\n* for Loops\n* while Loops\n* range() functions\n* break and continue statements\n* pass statement  \n* enumerate\n* comprehesions"
    },
    {
      "metadata": {
        "slideshow": {
          "slide_type": "slide"
        }
      },
      "cell_type": "markdown",
      "source": "## if  Statements"
    },
    {
      "metadata": {
        "slideshow": {
          "slide_type": "subslide"
        }
      },
      "cell_type": "markdown",
      "source": "* The colon (:)  separates the header of the compound statement from the body.  \n* The line after the colon must be indented. It is standard in Python to use four spaces for indenting.    \n* All lines indented the same amount after the colon will be executed whenever the BOOLEAN_EXPRESSION is true.   "
    },
    {
      "metadata": {},
      "cell_type": "markdown",
      "source": "#Python if Statement Syntax  \n\n`if test expression:\n    statement(s)`"
    },
    {
      "metadata": {
        "trusted": false
      },
      "cell_type": "code",
      "source": "if 1 < 2:\n    print('Yep!')",
      "execution_count": null,
      "outputs": []
    },
    {
      "metadata": {
        "trusted": false
      },
      "cell_type": "code",
      "source": "if 1 < 2:\n    print('yep!')",
      "execution_count": null,
      "outputs": []
    },
    {
      "metadata": {
        "trusted": false
      },
      "cell_type": "code",
      "source": "# If the number is positive, we print an appropriate message\n\nnum = 3\nif num > 0:\n    print(num, \"is a positive number.\")\nprint(\"This is always printed.\")\n\nnum = -1\nif num > 0:\n    print(num, \"is a positive number.\")\nprint(\"This is also always printed.\")",
      "execution_count": null,
      "outputs": []
    },
    {
      "metadata": {},
      "cell_type": "markdown",
      "source": "## if...else Statement"
    },
    {
      "metadata": {},
      "cell_type": "markdown",
      "source": "* It is frequently the case that you want one thing to happen when a condition it true, and something else to happen when it is false"
    },
    {
      "metadata": {},
      "cell_type": "markdown",
      "source": "# Syntax of if...else\n\n`if test expression:\n    Body of if\nelse:\n    Body of else`"
    },
    {
      "metadata": {
        "trusted": false
      },
      "cell_type": "code",
      "source": "if 1 < 2:\n    print('first')\nelse:\n    print('last')",
      "execution_count": null,
      "outputs": []
    },
    {
      "metadata": {
        "trusted": false
      },
      "cell_type": "code",
      "source": "if 1 > 2:\n    print('first')\nelse:\n    print('last')",
      "execution_count": null,
      "outputs": []
    },
    {
      "metadata": {
        "trusted": false
      },
      "cell_type": "code",
      "source": "# Program checks if the number is positive or negative\n# And displays an appropriate message\n\nnum = 3\n\n# Try these two variations as well. \n# num = -5\n# num = 0\n\nif num >= 0:\n    print(\"Positive or Zero\")\nelse:\n    print(\"Negative number\")",
      "execution_count": null,
      "outputs": []
    },
    {
      "metadata": {},
      "cell_type": "markdown",
      "source": "## if...elif...else Statement"
    },
    {
      "metadata": {},
      "cell_type": "markdown",
      "source": "#Syntax of if...elif...else\n\n`if test expression:\n    Body of if\nelif test expression:\n    Body of elif\nelse: \n    Body of else`"
    },
    {
      "metadata": {},
      "cell_type": "markdown",
      "source": "**Example of if...elif...else**"
    },
    {
      "metadata": {
        "trusted": false
      },
      "cell_type": "code",
      "source": "if 1 == 2:\n    print('first')\nelif 3 == 3:\n    print('middle')\nelse:\n    print('Last')",
      "execution_count": null,
      "outputs": []
    },
    {
      "metadata": {
        "trusted": false
      },
      "cell_type": "code",
      "source": "# In this program, \n# we check if the number is positive or\n# negative or zero and \n# display an appropriate message\n\nnum = 3.4\n\n# Try these two variations as well:\n# num = 0\n# num = -4.5\n\nif num > 0:\n    print(\"Positive number\")\nelif num == 0:\n    print(\"Zero\")\nelse:\n    print(\"Negative number\")",
      "execution_count": null,
      "outputs": []
    },
    {
      "metadata": {},
      "cell_type": "markdown",
      "source": "## Nested if statements"
    },
    {
      "metadata": {},
      "cell_type": "markdown",
      "source": "**Python Nested if Example**"
    },
    {
      "metadata": {},
      "cell_type": "markdown",
      "source": "**Source Code: Using Nested `if`**"
    },
    {
      "metadata": {
        "trusted": false
      },
      "cell_type": "code",
      "source": "# In this program, we input a number\n# check if the number is positive or\n# negative or zero and display\n# an appropriate message\n# This time we use nested if\n\nnum = float(input(\"Enter a number: \"))\nif num >= 0:\n    if num == 0:\n        print(\"Zero\")\n    else:\n        print(\"Positive number\")\nelse:\n    print(\"Negative number\")",
      "execution_count": null,
      "outputs": []
    },
    {
      "metadata": {},
      "cell_type": "markdown",
      "source": "## Practice "
    },
    {
      "metadata": {},
      "cell_type": "markdown",
      "source": "**Python Program to Check if a Number is Positive, Negative or 0**"
    },
    {
      "metadata": {},
      "cell_type": "markdown",
      "source": "**Source Code: Using `if...elif...else`**"
    },
    {
      "metadata": {
        "trusted": false
      },
      "cell_type": "code",
      "source": "num = float(input(\"Enter a number: \"))\nif num > 0:\n   print(\"Positive number\")\nelif num == 0:\n   print(\"Zero\")\nelse:\n   print(\"Negative number\")\n# Here, we have used the if...elif...else statement. We can do the same thing using nested if statements as follows.",
      "execution_count": null,
      "outputs": []
    },
    {
      "metadata": {},
      "cell_type": "markdown",
      "source": "**Python Program to Check if a Number is Odd or Even**"
    },
    {
      "metadata": {
        "trusted": false
      },
      "cell_type": "code",
      "source": "# Python program to check if the input number is odd or even.\n# A number is even if division by 2 give a remainder of 0.\n# If remainder is 1, it is odd number.\n\nnum = int(input(\"Enter a number: \"))\nif (num % 2) == 0:\n   print(\"{0} is Even\".format(num))\nelse:\n   print(\"{0} is Odd\".format(num))",
      "execution_count": null,
      "outputs": []
    },
    {
      "metadata": {},
      "cell_type": "markdown",
      "source": "**Python Program to Check Leap Year**"
    },
    {
      "metadata": {},
      "cell_type": "markdown",
      "source": "A leap year is exactly divisible by 4 except for century years (years ending with 00). The century year is a leap year only if it is perfectly divisible by 400. For example,"
    },
    {
      "metadata": {
        "trusted": false
      },
      "cell_type": "code",
      "source": "# Python program to check if the input year is a leap year or not\n\nyear = 2000\n\n# To get year (integer input) from the user\n# year = int(input(\"Enter a year: \"))\n\nif (year % 4) == 0:\n   if (year % 100) == 0:\n       if (year % 400) == 0:\n           print(\"{0} is a leap year\".format(year))\n       else:\n           print(\"{0} is not a leap year\".format(year))\n   else:\n       print(\"{0} is a leap year\".format(year))\nelse:\n   print(\"{0} is not a leap year\".format(year))",
      "execution_count": null,
      "outputs": []
    },
    {
      "metadata": {
        "slideshow": {
          "slide_type": "slide"
        }
      },
      "cell_type": "markdown",
      "source": "## for Loops"
    },
    {
      "metadata": {},
      "cell_type": "markdown",
      "source": "The for loop in Python is used to iterate over a sequence (`list, tuple, string`) or other iterable objects. Iterating over a sequence is called traversal."
    },
    {
      "metadata": {},
      "cell_type": "markdown",
      "source": "#syntax:   \n`for iterating_var in iterable:\n    statement/statements`"
    },
    {
      "metadata": {
        "trusted": false
      },
      "cell_type": "code",
      "source": "seq = [1,2,3,4,5]",
      "execution_count": null,
      "outputs": []
    },
    {
      "metadata": {
        "trusted": false
      },
      "cell_type": "code",
      "source": "type(seq)",
      "execution_count": null,
      "outputs": []
    },
    {
      "metadata": {
        "trusted": false
      },
      "cell_type": "code",
      "source": "for item in seq:\n    print(item)",
      "execution_count": null,
      "outputs": []
    },
    {
      "metadata": {
        "trusted": false
      },
      "cell_type": "code",
      "source": "for item in seq:\n    print('Yep')",
      "execution_count": null,
      "outputs": []
    },
    {
      "metadata": {
        "trusted": false
      },
      "cell_type": "code",
      "source": "for jelly in seq:\n    print(jelly+jelly)",
      "execution_count": null,
      "outputs": []
    },
    {
      "metadata": {
        "trusted": false
      },
      "cell_type": "code",
      "source": "# Program to find the sum of all numbers stored in a list\n\n# List of numbers\nnumbers = [6, 5, 3, 8, 4, 2, 5, 4, 11]\n\n# variable to store the sum\nsum = 0\n\n# iterate over the list\nfor val in numbers:\n\tsum = sum+val\n\n# Output: The sum is 48\nprint(\"The sum is\", sum)",
      "execution_count": null,
      "outputs": []
    },
    {
      "metadata": {
        "trusted": true
      },
      "cell_type": "code",
      "source": "",
      "execution_count": null,
      "outputs": []
    },
    {
      "metadata": {},
      "cell_type": "markdown",
      "source": "**for loop with else**"
    },
    {
      "metadata": {
        "trusted": false
      },
      "cell_type": "code",
      "source": "digits = [0, 1, 5]\n\nfor i in digits:\n    print(i)\nelse:\n    print(\"No items left.\")",
      "execution_count": null,
      "outputs": []
    },
    {
      "metadata": {
        "slideshow": {
          "slide_type": "slide"
        }
      },
      "cell_type": "markdown",
      "source": "## while Loops"
    },
    {
      "metadata": {},
      "cell_type": "markdown",
      "source": "* iterate over a block of code as long as the test expression (condition) is true.  \n* The while loop can be terminated with a `break` statement."
    },
    {
      "metadata": {},
      "cell_type": "markdown",
      "source": "**Syntax of while Loop in Python**"
    },
    {
      "metadata": {},
      "cell_type": "markdown",
      "source": "`while test_expression:\n    Body of while`"
    },
    {
      "metadata": {},
      "cell_type": "markdown",
      "source": "* In while loop, test expression is checked first. The body of the loop is entered only if the `test_expression` evaluates to `True`. After one iteration, the test expression is checked again. This process continues until the `test_expression` evaluates to `False`.\n* Counter is must in while block to iterate the statements"
    },
    {
      "metadata": {
        "trusted": false
      },
      "cell_type": "code",
      "source": "i = 1\nwhile i < 5:\n    print('i is: {}'.format(i))\n    i = i+1",
      "execution_count": null,
      "outputs": []
    },
    {
      "metadata": {
        "trusted": false
      },
      "cell_type": "code",
      "source": "# Program to add natural\n# numbers upto \n# sum = 1+2+3+...+n\n\n# To take input from the user,\n# n = int(input(\"Enter n: \"))\n\n    n = 10\n\n    # initialize sum and counter\n    sum = 0\n    i = 1\n\n    while i <= n:\n        sum = sum + i\n        i = i+1    # update counter\n\n    # print the sum\n    print(\"The sum is\", sum)",
      "execution_count": null,
      "outputs": []
    },
    {
      "metadata": {},
      "cell_type": "markdown",
      "source": "**Ex: While loop using list and get sum**"
    },
    {
      "metadata": {
        "trusted": true
      },
      "cell_type": "code",
      "source": "l = [3,4,7,9,1]\ni = 0\nsum = 0\nwhile i < len(l):\n    sum = sum+l[i]\n    i = i+1    # update counter\n\n# print the sum\nprint(\"The sum is\", sum)",
      "execution_count": null,
      "outputs": []
    },
    {
      "metadata": {},
      "cell_type": "markdown",
      "source": "**while loop with else**"
    },
    {
      "metadata": {
        "trusted": false
      },
      "cell_type": "code",
      "source": "# Example to illustrate\n# the use of else statement\n# with the while loop\n\ncounter = 0\n\nwhile counter < 3:\n    print(\"Inside loop\")\n    counter = counter + 1\nelse:\n    print(\"Inside else\")",
      "execution_count": null,
      "outputs": []
    },
    {
      "metadata": {
        "slideshow": {
          "slide_type": "slide"
        }
      },
      "cell_type": "markdown",
      "source": "## range()"
    },
    {
      "metadata": {},
      "cell_type": "markdown",
      "source": "* generate a sequence of numbers using `range()` function. `range(10)` will generate numbers from 0 to 9 (10 numbers).  \n* Syntax: `range(start,stop,step size)`\n"
    },
    {
      "metadata": {
        "trusted": false
      },
      "cell_type": "code",
      "source": "range(5)",
      "execution_count": null,
      "outputs": []
    },
    {
      "metadata": {
        "trusted": false
      },
      "cell_type": "code",
      "source": "r = range(5)",
      "execution_count": null,
      "outputs": []
    },
    {
      "metadata": {
        "trusted": false
      },
      "cell_type": "code",
      "source": "r",
      "execution_count": null,
      "outputs": []
    },
    {
      "metadata": {},
      "cell_type": "markdown",
      "source": "**We can use the range() function in for loops to iterate through a sequence of numbers. **"
    },
    {
      "metadata": {
        "trusted": false
      },
      "cell_type": "code",
      "source": "for i in range(5):\n    print(i)",
      "execution_count": null,
      "outputs": []
    },
    {
      "metadata": {},
      "cell_type": "markdown",
      "source": "* To force this function to output all the items, we can use the function `list()`.   "
    },
    {
      "metadata": {
        "trusted": false
      },
      "cell_type": "code",
      "source": "list(range(5))",
      "execution_count": null,
      "outputs": []
    },
    {
      "metadata": {
        "trusted": false
      },
      "cell_type": "code",
      "source": "# Output: range(0, 10)\nprint(range(10))\n\n# Output: [0, 1, 2, 3, 4, 5, 6, 7, 8, 9]\nprint(list(range(10)))\n\n# Output: [2, 3, 4, 5, 6, 7]\nprint(list(range(2, 8)))\n\n# Output: [2, 5, 8, 11, 14, 17]\nprint(list(range(2, 20, 3)))\t",
      "execution_count": null,
      "outputs": []
    },
    {
      "metadata": {},
      "cell_type": "markdown",
      "source": " **It can be combined with the `len()` function to iterate though a sequence using indexing. Here is an example.**"
    },
    {
      "metadata": {
        "trusted": false
      },
      "cell_type": "code",
      "source": "# Program to iterate through a list using indexing\n\ngenre = ['pop', 'rock', 'jazz']\n\n# iterate over the list using index\nfor i in range(len(genre)):\n\tprint(\"I like\", genre[i])",
      "execution_count": null,
      "outputs": []
    },
    {
      "metadata": {},
      "cell_type": "markdown",
      "source": "## enumerate¶ "
    },
    {
      "metadata": {},
      "cell_type": "markdown",
      "source": "for foo in x loops over the elements of a list and for i in range(len(x)) loops over the indices of a list. What if you want to do both?\n   \nEnter the enumerate function, one of Python's hidden gems:. \n* `enumerate()` function adds a counter to an iterable  \n* a tuple is produced with (`counter`, `element`)  "
    },
    {
      "metadata": {},
      "cell_type": "markdown",
      "source": "Given a list, enumerate returns an object which iterates over the indices and the values of the list.\n   \n(Like the range() function, it returns an iterable object. To see its contents as a list, we can call list() on it.). "
    },
    {
      "metadata": {
        "trusted": false
      },
      "cell_type": "code",
      "source": "list(enumerate(['a', 'b']))",
      "execution_count": 2,
      "outputs": [
        {
          "data": {
            "text/plain": "[(0, 'a'), (1, 'b')]"
          },
          "execution_count": 2,
          "metadata": {},
          "output_type": "execute_result"
        }
      ]
    },
    {
      "metadata": {
        "trusted": false
      },
      "cell_type": "code",
      "source": "l1 = [10,20,32,45,60]\nprint(list(enumerate(l1)))\nfor i, j in enumerate(l1):\n    print(i,j)\n",
      "execution_count": 7,
      "outputs": [
        {
          "name": "stdout",
          "output_type": "stream",
          "text": "[(0, 10), (1, 20), (2, 32), (3, 45), (4, 60)]\n0 10\n1 20\n2 32\n3 45\n4 60\n"
        }
      ]
    },
    {
      "metadata": {
        "trusted": false
      },
      "cell_type": "code",
      "source": "for item in enumerate('abcd'):\n    print(item)",
      "execution_count": 3,
      "outputs": [
        {
          "name": "stdout",
          "output_type": "stream",
          "text": "(0, 'a')\n(1, 'b')\n(2, 'c')\n(3, 'd')\n"
        }
      ]
    },
    {
      "metadata": {
        "trusted": false
      },
      "cell_type": "code",
      "source": "for i,j in enumerate('abcd'):\n    print(i,j)",
      "execution_count": 4,
      "outputs": [
        {
          "name": "stdout",
          "output_type": "stream",
          "text": "0 a\n1 b\n2 c\n3 d\n"
        }
      ]
    },
    {
      "metadata": {
        "trusted": false
      },
      "cell_type": "code",
      "source": "# multiply 2 for only odd numbers from a given list \ndef double_odds(nums):\n    for i, num in enumerate(nums):\n        if num % 2 == 1:\n            nums[i] = num * 2\n\nx = list(range(10))\ndouble_odds(x)\nx",
      "execution_count": 1,
      "outputs": [
        {
          "data": {
            "text/plain": "[0, 2, 2, 6, 4, 10, 6, 14, 8, 18]"
          },
          "execution_count": 1,
          "metadata": {},
          "output_type": "execute_result"
        }
      ]
    },
    {
      "metadata": {},
      "cell_type": "markdown",
      "source": "We can use this unpacking syntax any time we iterate over a collection of tuples."
    },
    {
      "metadata": {
        "trusted": false,
        "scrolled": true
      },
      "cell_type": "code",
      "source": "nums = [\n    ('one', 1, 'I'),\n    ('two', 2, 'II'),\n    ('three', 3, 'III'),\n    ('four', 4, 'IV'),\n]\n\nfor word, integer, roman_numeral in nums:\n    print(integer, word, roman_numeral, sep=' = ', end='; ')",
      "execution_count": 3,
      "outputs": [
        {
          "name": "stdout",
          "output_type": "stream",
          "text": "1 = one = I; 2 = two = II; 3 = three = III; 4 = four = IV; "
        }
      ]
    },
    {
      "metadata": {},
      "cell_type": "markdown",
      "source": "## The break statement\n* The break statement is used to immediately leave the body of its loop. The next statement to be executed is the first one after the body"
    },
    {
      "metadata": {
        "trusted": false
      },
      "cell_type": "code",
      "source": "# Use of break statement inside loop\n\nfor val in \"string\":\n    if val == \"i\":\n        break\n    print(val)\n\nprint(\"The end\")",
      "execution_count": null,
      "outputs": []
    },
    {
      "metadata": {
        "trusted": false
      },
      "cell_type": "code",
      "source": "for i in [12, 16, 17, 24, 29]:\n    if i % 2 == 1:  # if the number is odd\n        break        # immediately exit the loop\n    print(i)\nprint('lucid')\nprint(\"done\")",
      "execution_count": 5,
      "outputs": [
        {
          "name": "stdout",
          "output_type": "stream",
          "text": "12\n16\nlucid\ndone\n"
        }
      ]
    },
    {
      "metadata": {},
      "cell_type": "markdown",
      "source": "## The continue statement\n* This is a control flow statement that causes the program to immediately skip the processing of the rest of the body of the loop, for the current iteration. But the loop still carries on running for its remaining iterations(**continue = skip this and go next**):"
    },
    {
      "metadata": {
        "trusted": false
      },
      "cell_type": "code",
      "source": "# Program to show the use of continue statement inside loops\n\nfor val in \"string\":\n    if val == \"i\":\n        continue\n    print(val)\n\nprint(\"The end\")",
      "execution_count": null,
      "outputs": []
    },
    {
      "metadata": {
        "scrolled": true,
        "trusted": false
      },
      "cell_type": "code",
      "source": "for i in [12, 16, 17, 24, 29, 30]:\n    if i % 2 == 1:      # if the number is odd\n        continue        # don't process it\n    print(i)\nprint(\"done\")",
      "execution_count": 2,
      "outputs": [
        {
          "name": "stdout",
          "output_type": "stream",
          "text": "12\n16\n24\n30\ndone\n"
        }
      ]
    },
    {
      "metadata": {},
      "cell_type": "markdown",
      "source": "## Python pass statement"
    },
    {
      "metadata": {},
      "cell_type": "markdown",
      "source": "* In Python programming, pass is a null statement, it results into no operation (NOP)."
    },
    {
      "metadata": {},
      "cell_type": "markdown",
      "source": "**Example: pass Statement**\n"
    },
    {
      "metadata": {
        "trusted": false
      },
      "cell_type": "code",
      "source": "# pass is just a placeholder for\n# functionality to be added later.\nsequence = {'p', 'a', 's', 's'}\nfor val in sequence:\n    pass",
      "execution_count": null,
      "outputs": []
    },
    {
      "metadata": {},
      "cell_type": "markdown",
      "source": "## Comprehensions"
    },
    {
      "metadata": {},
      "cell_type": "markdown",
      "source": "* for faster execution\n* shorter and effective codes (single line)\n* involves 3 things – iteration, conditional filtering and processing. "
    },
    {
      "metadata": {},
      "cell_type": "markdown",
      "source": "#Syntax of List Comprehension\n\n`[ expression for item in iterable ]` or `[expression for item in list]`"
    },
    {
      "metadata": {},
      "cell_type": "markdown",
      "source": "### comprehension for lists"
    },
    {
      "metadata": {
        "trusted": false
      },
      "cell_type": "code",
      "source": "h_letters = [letter for letter in 'human' ]\nprint( h_letters)",
      "execution_count": 1,
      "outputs": [
        {
          "name": "stdout",
          "output_type": "stream",
          "text": "['h', 'u', 'm', 'a', 'n']\n"
        }
      ]
    },
    {
      "metadata": {
        "trusted": false
      },
      "cell_type": "code",
      "source": "lst = [i for i in range(11)]\nprint(lst)",
      "execution_count": 1,
      "outputs": [
        {
          "name": "stdout",
          "output_type": "stream",
          "text": "[0, 1, 2, 3, 4, 5, 6, 7, 8, 9, 10]\n"
        }
      ]
    },
    {
      "metadata": {
        "scrolled": true,
        "trusted": false
      },
      "cell_type": "code",
      "source": "    squares = [x * x for x in range(10)]\n    print(squares)",
      "execution_count": 3,
      "outputs": [
        {
          "name": "stdout",
          "output_type": "stream",
          "text": "[0, 1, 4, 9, 16, 25, 36, 49, 64, 81]\n"
        }
      ]
    },
    {
      "metadata": {
        "scrolled": true,
        "trusted": false
      },
      "cell_type": "code",
      "source": "cube_list = [i**3 for i in range(50, 101)]\nprint(cube_list)",
      "execution_count": 2,
      "outputs": [
        {
          "name": "stdout",
          "output_type": "stream",
          "text": "[125000, 132651, 140608, 148877, 157464, 166375, 175616, 185193, 195112, 205379, 216000, 226981, 238328, 250047, 262144, 274625, 287496, 300763, 314432, 328509, 343000, 357911, 373248, 389017, 405224, 421875, 438976, 456533, 474552, 493039, 512000, 531441, 551368, 571787, 592704, 614125, 636056, 658503, 681472, 704969, 729000, 753571, 778688, 804357, 830584, 857375, 884736, 912673, 941192, 970299, 1000000]\n"
        }
      ]
    },
    {
      "metadata": {
        "trusted": true
      },
      "cell_type": "code",
      "source": "sum([i**2 for i in range(10)])",
      "execution_count": 2,
      "outputs": [
        {
          "output_type": "execute_result",
          "execution_count": 2,
          "data": {
            "text/plain": "285"
          },
          "metadata": {}
        }
      ]
    },
    {
      "metadata": {},
      "cell_type": "markdown",
      "source": "**IF condition With List Comprehension**"
    },
    {
      "metadata": {},
      "cell_type": "markdown",
      "source": "#Syntax of List Comprehension  \n`[ expression for item in iterable if condition ] `"
    },
    {
      "metadata": {
        "trusted": false
      },
      "cell_type": "code",
      "source": "even_squres = [x * x for x in range(10) if x % 2 == 0]\nprint(even_squres)",
      "execution_count": 4,
      "outputs": [
        {
          "name": "stdout",
          "output_type": "stream",
          "text": "[0, 4, 16, 36, 64]\n"
        }
      ]
    },
    {
      "metadata": {
        "trusted": false
      },
      "cell_type": "code",
      "source": "[x for x in 'MATHEMATICS' if x in ['A','E','I','O','U']]",
      "execution_count": 5,
      "outputs": [
        {
          "data": {
            "text/plain": "['A', 'E', 'A', 'I']"
          },
          "execution_count": 5,
          "metadata": {},
          "output_type": "execute_result"
        }
      ]
    },
    {
      "metadata": {
        "trusted": false
      },
      "cell_type": "code",
      "source": "number_list = [ x for x in range(20) if x % 2 == 0]\nprint(number_list)",
      "execution_count": 5,
      "outputs": [
        {
          "name": "stdout",
          "output_type": "stream",
          "text": "[0, 2, 4, 6, 8, 10, 12, 14, 16, 18]\n"
        }
      ]
    },
    {
      "metadata": {},
      "cell_type": "markdown",
      "source": "**Nested IF with List Comprehension**"
    },
    {
      "metadata": {
        "trusted": false
      },
      "cell_type": "code",
      "source": "num_list = [y for y in range(100) if y % 2 == 0 if y % 5 == 0]\nprint(num_list)",
      "execution_count": 7,
      "outputs": [
        {
          "name": "stdout",
          "output_type": "stream",
          "text": "[0, 10, 20, 30, 40, 50, 60, 70, 80, 90]\n"
        }
      ]
    },
    {
      "metadata": {},
      "cell_type": "markdown",
      "source": "**nested for loop**"
    },
    {
      "metadata": {
        "scrolled": true,
        "trusted": false
      },
      "cell_type": "code",
      "source": "print ([x+y for x in 'get' for y in 'set' if x != 't' and y != 'e' ])",
      "execution_count": 6,
      "outputs": [
        {
          "name": "stdout",
          "output_type": "stream",
          "text": "['gs', 'gt', 'es', 'et']\n"
        }
      ]
    },
    {
      "metadata": {},
      "cell_type": "markdown",
      "source": "**if...else With List Comprehension**"
    },
    {
      "metadata": {
        "scrolled": false,
        "trusted": false
      },
      "cell_type": "code",
      "source": "obj = [\"Even\" if i%2==0 else \"Odd\" for i in range(10)]\nprint(obj)",
      "execution_count": 8,
      "outputs": [
        {
          "name": "stdout",
          "output_type": "stream",
          "text": "['Even', 'Odd', 'Even', 'Odd', 'Even', 'Odd', 'Even', 'Odd', 'Even', 'Odd']\n"
        }
      ]
    },
    {
      "metadata": {},
      "cell_type": "markdown",
      "source": "### comprehension for dictionaries"
    },
    {
      "metadata": {
        "scrolled": false,
        "trusted": false
      },
      "cell_type": "code",
      "source": "squares3_dict = {i: i**2 for i in range(30) if i % 3 == 0}\nsquares3_dict",
      "execution_count": 1,
      "outputs": [
        {
          "data": {
            "text/plain": "{0: 0,\n 3: 9,\n 6: 36,\n 9: 81,\n 12: 144,\n 15: 225,\n 18: 324,\n 21: 441,\n 24: 576,\n 27: 729}"
          },
          "execution_count": 1,
          "metadata": {},
          "output_type": "execute_result"
        }
      ]
    },
    {
      "metadata": {
        "trusted": false
      },
      "cell_type": "code",
      "source": "    capitals = {'United States': 'Washington, DC','France': 'Paris','Italy': 'Rome'}\n    capitals_bycapital = {capitals[key]: key for key in capitals}\n    capitals_bycapital",
      "execution_count": 2,
      "outputs": [
        {
          "data": {
            "text/plain": "{'Paris': 'France', 'Rome': 'Italy', 'Washington, DC': 'United States'}"
          },
          "execution_count": 2,
          "metadata": {},
          "output_type": "execute_result"
        }
      ]
    },
    {
      "metadata": {},
      "cell_type": "markdown",
      "source": "\n<span style=\"color:red; font-family:Comic Sans MS\">Sources & References</span>  \n<a href=\"https://www.programiz.com\" target=\"_blank\">https://www.programiz.com</a>  \n<a href=\"http://www.openbookproject.net/books/bpp4awd/ch04.html\" target=\"_blank\">http://www.openbookproject.net/books/bpp4awd/ch04.html</a>  "
    },
    {
      "metadata": {},
      "cell_type": "markdown",
      "source": "<span style=\"color:red; font-family:Comic Sans MS\">Further Resources</span>  \nhttps://www.geeksforgeeks.org/loops-in-python/  "
    }
  ],
  "metadata": {
    "celltoolbar": "Slideshow",
    "kernelspec": {
      "name": "python3",
      "display_name": "Python 3",
      "language": "python"
    },
    "language_info": {
      "mimetype": "text/x-python",
      "nbconvert_exporter": "python",
      "name": "python",
      "file_extension": ".py",
      "version": "3.5.4",
      "pygments_lexer": "ipython3",
      "codemirror_mode": {
        "version": 3,
        "name": "ipython"
      }
    },
    "toc": {
      "nav_menu": {
        "width": "166px",
        "height": "95px"
      },
      "number_sections": true,
      "sideBar": true,
      "skip_h1_title": true,
      "base_numbering": 1,
      "title_cell": "Table of Contents",
      "title_sidebar": "Contents",
      "toc_cell": true,
      "toc_position": {},
      "toc_section_display": true,
      "toc_window_display": false
    }
  },
  "nbformat": 4,
  "nbformat_minor": 1
}