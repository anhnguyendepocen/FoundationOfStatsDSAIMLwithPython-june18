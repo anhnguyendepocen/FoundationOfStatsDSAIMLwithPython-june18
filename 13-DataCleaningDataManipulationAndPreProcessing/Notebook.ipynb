{
  "cells": [
    {
      "metadata": {},
      "cell_type": "markdown",
      "source": "# Missing Values"
    },
    {
      "metadata": {
        "trusted": false
      },
      "cell_type": "code",
      "source": "import pandas as pd\nimport numpy as np",
      "execution_count": 1,
      "outputs": []
    },
    {
      "metadata": {
        "trusted": false
      },
      "cell_type": "code",
      "source": "Series1 = pd.Series([7,6.8,'Avengers',np.nan,'Apple'])",
      "execution_count": 2,
      "outputs": []
    },
    {
      "metadata": {
        "trusted": false
      },
      "cell_type": "code",
      "source": "#isnull() and notnull()\n\n# both the above functions return Boolean ( True or False)\n\nprint(Series1.isnull().sum())\n\nprint(Series1.notnull().sum())",
      "execution_count": 4,
      "outputs": [
        {
          "name": "stdout",
          "output_type": "stream",
          "text": "1\n4\n"
        }
      ]
    },
    {
      "metadata": {
        "trusted": false
      },
      "cell_type": "code",
      "source": "###################################\n\ndataset = pd.read_csv('data/train.csv')\n\nprint(dataset['Age'].notnull().sum())\n\nprint(dataset[dataset['Age'].notnull()].head())\n\n#################################33\n\n#What happens if we try to replace some value with nan?\n\ndataset['Sex'] = dataset['Sex'].replace('female',np.nan)\ndataset['Sex']",
      "execution_count": 5,
      "outputs": [
        {
          "name": "stdout",
          "output_type": "stream",
          "text": "714\n   PassengerId  Survived  Pclass  \\\n0            1         0       3   \n1            2         1       1   \n2            3         1       3   \n3            4         1       1   \n4            5         0       3   \n\n                                                Name     Sex   Age  SibSp  \\\n0                            Braund, Mr. Owen Harris    male  22.0      1   \n1  Cumings, Mrs. John Bradley (Florence Briggs Th...  female  38.0      1   \n2                             Heikkinen, Miss. Laina  female  26.0      0   \n3       Futrelle, Mrs. Jacques Heath (Lily May Peel)  female  35.0      1   \n4                           Allen, Mr. William Henry    male  35.0      0   \n\n   Parch            Ticket     Fare Cabin Embarked  \n0      0         A/5 21171   7.2500   NaN        S  \n1      0          PC 17599  71.2833   C85        C  \n2      0  STON/O2. 3101282   7.9250   NaN        S  \n3      0            113803  53.1000  C123        S  \n4      0            373450   8.0500   NaN        S  \n"
        },
        {
          "data": {
            "text/plain": "0      male\n1       NaN\n2       NaN\n3       NaN\n4      male\n5      male\n6      male\n7      male\n8       NaN\n9       NaN\n10      NaN\n11      NaN\n12     male\n13     male\n14      NaN\n15      NaN\n16     male\n17     male\n18      NaN\n19      NaN\n20     male\n21     male\n22      NaN\n23     male\n24      NaN\n25      NaN\n26     male\n27     male\n28      NaN\n29     male\n       ... \n861    male\n862     NaN\n863     NaN\n864    male\n865     NaN\n866     NaN\n867    male\n868    male\n869    male\n870    male\n871     NaN\n872    male\n873    male\n874     NaN\n875     NaN\n876    male\n877    male\n878    male\n879     NaN\n880     NaN\n881    male\n882     NaN\n883    male\n884    male\n885     NaN\n886    male\n887     NaN\n888     NaN\n889    male\n890    male\nName: Sex, Length: 891, dtype: object"
          },
          "execution_count": 5,
          "metadata": {},
          "output_type": "execute_result"
        }
      ]
    },
    {
      "metadata": {},
      "cell_type": "markdown",
      "source": "## Handling Missing Values by dropping them"
    },
    {
      "metadata": {
        "trusted": false
      },
      "cell_type": "code",
      "source": "import pandas as pd\nimport numpy as np\n\ndf = pd.read_csv('data/Datapreprocessing.csv')\ndf.head(10)",
      "execution_count": 11,
      "outputs": [
        {
          "data": {
            "text/html": "<div>\n<style scoped>\n    .dataframe tbody tr th:only-of-type {\n        vertical-align: middle;\n    }\n\n    .dataframe tbody tr th {\n        vertical-align: top;\n    }\n\n    .dataframe thead th {\n        text-align: right;\n    }\n</style>\n<table border=\"1\" class=\"dataframe\">\n  <thead>\n    <tr style=\"text-align: right;\">\n      <th></th>\n      <th>Country</th>\n      <th>Age</th>\n      <th>Gender</th>\n      <th>Occupation</th>\n      <th>Employment Status</th>\n      <th>Employement Type</th>\n      <th>Salary</th>\n      <th>Purchased</th>\n    </tr>\n  </thead>\n  <tbody>\n    <tr>\n      <th>0</th>\n      <td>Poland</td>\n      <td>34.0</td>\n      <td>Male</td>\n      <td>Salaried</td>\n      <td>Yes</td>\n      <td>Permanent</td>\n      <td>72000.0</td>\n      <td>No</td>\n    </tr>\n    <tr>\n      <th>1</th>\n      <td>Spain</td>\n      <td>42.0</td>\n      <td>Female</td>\n      <td>Business</td>\n      <td>Yes</td>\n      <td>Temporary</td>\n      <td>48000.0</td>\n      <td>Yes</td>\n    </tr>\n    <tr>\n      <th>2</th>\n      <td>Germany</td>\n      <td>29.0</td>\n      <td>Male</td>\n      <td>Business</td>\n      <td>No</td>\n      <td>Temporary</td>\n      <td>54000.0</td>\n      <td>No</td>\n    </tr>\n    <tr>\n      <th>3</th>\n      <td>Spain</td>\n      <td>38.0</td>\n      <td>Male</td>\n      <td>Business</td>\n      <td>No</td>\n      <td>Permanent</td>\n      <td>61000.0</td>\n      <td>No</td>\n    </tr>\n    <tr>\n      <th>4</th>\n      <td>Germany</td>\n      <td>32.0</td>\n      <td>Male</td>\n      <td>Salaried</td>\n      <td>NaN</td>\n      <td>Permanent</td>\n      <td>NaN</td>\n      <td>Yes</td>\n    </tr>\n    <tr>\n      <th>5</th>\n      <td>Poland</td>\n      <td>31.0</td>\n      <td>Female</td>\n      <td>Business</td>\n      <td>Yes</td>\n      <td>Temporary</td>\n      <td>58000.0</td>\n      <td>Yes</td>\n    </tr>\n    <tr>\n      <th>6</th>\n      <td>India</td>\n      <td>NaN</td>\n      <td>Female</td>\n      <td>Salaried</td>\n      <td>NaN</td>\n      <td>Temporary</td>\n      <td>52000.0</td>\n      <td>No</td>\n    </tr>\n    <tr>\n      <th>7</th>\n      <td>Poland</td>\n      <td>22.0</td>\n      <td>Female</td>\n      <td>Salaried</td>\n      <td>Yes</td>\n      <td>Self Employed</td>\n      <td>79000.0</td>\n      <td>Yes</td>\n    </tr>\n    <tr>\n      <th>8</th>\n      <td>India</td>\n      <td>38.0</td>\n      <td>Male</td>\n      <td>Business</td>\n      <td>No</td>\n      <td>NaN</td>\n      <td>NaN</td>\n      <td>No</td>\n    </tr>\n    <tr>\n      <th>9</th>\n      <td>Poland</td>\n      <td>49.0</td>\n      <td>Male</td>\n      <td>NaN</td>\n      <td>Yes</td>\n      <td>Self Employed</td>\n      <td>67000.0</td>\n      <td>Yes</td>\n    </tr>\n  </tbody>\n</table>\n</div>",
            "text/plain": "   Country   Age  Gender Occupation Employment Status Employement Type  \\\n0   Poland  34.0    Male   Salaried               Yes        Permanent   \n1    Spain  42.0  Female   Business               Yes        Temporary   \n2  Germany  29.0    Male   Business                No        Temporary   \n3    Spain  38.0    Male   Business                No        Permanent   \n4  Germany  32.0    Male   Salaried               NaN        Permanent   \n5   Poland  31.0  Female   Business               Yes        Temporary   \n6    India   NaN  Female   Salaried               NaN        Temporary   \n7   Poland  22.0  Female   Salaried               Yes    Self Employed   \n8    India  38.0    Male   Business                No              NaN   \n9   Poland  49.0    Male        NaN               Yes    Self Employed   \n\n    Salary Purchased  \n0  72000.0        No  \n1  48000.0       Yes  \n2  54000.0        No  \n3  61000.0        No  \n4      NaN       Yes  \n5  58000.0       Yes  \n6  52000.0        No  \n7  79000.0       Yes  \n8      NaN        No  \n9  67000.0       Yes  "
          },
          "execution_count": 11,
          "metadata": {},
          "output_type": "execute_result"
        }
      ]
    },
    {
      "metadata": {
        "trusted": false
      },
      "cell_type": "code",
      "source": "# Get the rows that contains NULL (NaN)\ndf.isnull().sum()",
      "execution_count": 6,
      "outputs": [
        {
          "data": {
            "text/plain": "Country              0\nAge                  3\nGender               0\nOccupation           2\nEmployment Status    3\nEmployement Type     3\nSalary               4\nPurchased            0\ndtype: int64"
          },
          "execution_count": 6,
          "metadata": {},
          "output_type": "execute_result"
        }
      ]
    },
    {
      "metadata": {
        "trusted": false
      },
      "cell_type": "code",
      "source": "# data without missing values with respect to columns\ndata_without_missing_values_cols = df.dropna(axis=1)\ndata_without_missing_values_cols",
      "execution_count": 7,
      "outputs": [
        {
          "data": {
            "text/html": "<div>\n<style scoped>\n    .dataframe tbody tr th:only-of-type {\n        vertical-align: middle;\n    }\n\n    .dataframe tbody tr th {\n        vertical-align: top;\n    }\n\n    .dataframe thead th {\n        text-align: right;\n    }\n</style>\n<table border=\"1\" class=\"dataframe\">\n  <thead>\n    <tr style=\"text-align: right;\">\n      <th></th>\n      <th>Country</th>\n      <th>Gender</th>\n      <th>Purchased</th>\n    </tr>\n  </thead>\n  <tbody>\n    <tr>\n      <th>0</th>\n      <td>Poland</td>\n      <td>Male</td>\n      <td>No</td>\n    </tr>\n    <tr>\n      <th>1</th>\n      <td>Spain</td>\n      <td>Female</td>\n      <td>Yes</td>\n    </tr>\n    <tr>\n      <th>2</th>\n      <td>Germany</td>\n      <td>Male</td>\n      <td>No</td>\n    </tr>\n    <tr>\n      <th>3</th>\n      <td>Spain</td>\n      <td>Male</td>\n      <td>No</td>\n    </tr>\n    <tr>\n      <th>4</th>\n      <td>Germany</td>\n      <td>Male</td>\n      <td>Yes</td>\n    </tr>\n    <tr>\n      <th>5</th>\n      <td>Poland</td>\n      <td>Female</td>\n      <td>Yes</td>\n    </tr>\n    <tr>\n      <th>6</th>\n      <td>India</td>\n      <td>Female</td>\n      <td>No</td>\n    </tr>\n    <tr>\n      <th>7</th>\n      <td>Poland</td>\n      <td>Female</td>\n      <td>Yes</td>\n    </tr>\n    <tr>\n      <th>8</th>\n      <td>India</td>\n      <td>Male</td>\n      <td>No</td>\n    </tr>\n    <tr>\n      <th>9</th>\n      <td>Poland</td>\n      <td>Male</td>\n      <td>Yes</td>\n    </tr>\n    <tr>\n      <th>10</th>\n      <td>Brazil</td>\n      <td>Male</td>\n      <td>No</td>\n    </tr>\n    <tr>\n      <th>11</th>\n      <td>Spain</td>\n      <td>Female</td>\n      <td>Yes</td>\n    </tr>\n    <tr>\n      <th>12</th>\n      <td>Germany</td>\n      <td>Female</td>\n      <td>No</td>\n    </tr>\n    <tr>\n      <th>13</th>\n      <td>Spain</td>\n      <td>Male</td>\n      <td>No</td>\n    </tr>\n    <tr>\n      <th>14</th>\n      <td>Germany</td>\n      <td>Male</td>\n      <td>Yes</td>\n    </tr>\n    <tr>\n      <th>15</th>\n      <td>Brazil</td>\n      <td>Female</td>\n      <td>Yes</td>\n    </tr>\n    <tr>\n      <th>16</th>\n      <td>Spain</td>\n      <td>Female</td>\n      <td>Yes</td>\n    </tr>\n    <tr>\n      <th>17</th>\n      <td>England</td>\n      <td>Female</td>\n      <td>Yes</td>\n    </tr>\n    <tr>\n      <th>18</th>\n      <td>Germany</td>\n      <td>Male</td>\n      <td>No</td>\n    </tr>\n    <tr>\n      <th>19</th>\n      <td>England</td>\n      <td>Male</td>\n      <td>Yes</td>\n    </tr>\n  </tbody>\n</table>\n</div>",
            "text/plain": "    Country  Gender Purchased\n0    Poland    Male        No\n1     Spain  Female       Yes\n2   Germany    Male        No\n3     Spain    Male        No\n4   Germany    Male       Yes\n5    Poland  Female       Yes\n6     India  Female        No\n7    Poland  Female       Yes\n8     India    Male        No\n9    Poland    Male       Yes\n10   Brazil    Male        No\n11    Spain  Female       Yes\n12  Germany  Female        No\n13    Spain    Male        No\n14  Germany    Male       Yes\n15   Brazil  Female       Yes\n16    Spain  Female       Yes\n17  England  Female       Yes\n18  Germany    Male        No\n19  England    Male       Yes"
          },
          "execution_count": 7,
          "metadata": {},
          "output_type": "execute_result"
        }
      ]
    },
    {
      "metadata": {
        "trusted": false
      },
      "cell_type": "code",
      "source": "# data without missing values with respect to rows\ndata_without_missing_values_rows = df.dropna(axis=0)\ndata_without_missing_values_rows",
      "execution_count": 8,
      "outputs": [
        {
          "data": {
            "text/html": "<div>\n<style scoped>\n    .dataframe tbody tr th:only-of-type {\n        vertical-align: middle;\n    }\n\n    .dataframe tbody tr th {\n        vertical-align: top;\n    }\n\n    .dataframe thead th {\n        text-align: right;\n    }\n</style>\n<table border=\"1\" class=\"dataframe\">\n  <thead>\n    <tr style=\"text-align: right;\">\n      <th></th>\n      <th>Country</th>\n      <th>Age</th>\n      <th>Gender</th>\n      <th>Occupation</th>\n      <th>Employment Status</th>\n      <th>Employement Type</th>\n      <th>Salary</th>\n      <th>Purchased</th>\n    </tr>\n  </thead>\n  <tbody>\n    <tr>\n      <th>0</th>\n      <td>Poland</td>\n      <td>34.0</td>\n      <td>Male</td>\n      <td>Salaried</td>\n      <td>Yes</td>\n      <td>Permanent</td>\n      <td>72000.0</td>\n      <td>No</td>\n    </tr>\n    <tr>\n      <th>1</th>\n      <td>Spain</td>\n      <td>42.0</td>\n      <td>Female</td>\n      <td>Business</td>\n      <td>Yes</td>\n      <td>Temporary</td>\n      <td>48000.0</td>\n      <td>Yes</td>\n    </tr>\n    <tr>\n      <th>2</th>\n      <td>Germany</td>\n      <td>29.0</td>\n      <td>Male</td>\n      <td>Business</td>\n      <td>No</td>\n      <td>Temporary</td>\n      <td>54000.0</td>\n      <td>No</td>\n    </tr>\n    <tr>\n      <th>3</th>\n      <td>Spain</td>\n      <td>38.0</td>\n      <td>Male</td>\n      <td>Business</td>\n      <td>No</td>\n      <td>Permanent</td>\n      <td>61000.0</td>\n      <td>No</td>\n    </tr>\n    <tr>\n      <th>5</th>\n      <td>Poland</td>\n      <td>31.0</td>\n      <td>Female</td>\n      <td>Business</td>\n      <td>Yes</td>\n      <td>Temporary</td>\n      <td>58000.0</td>\n      <td>Yes</td>\n    </tr>\n    <tr>\n      <th>7</th>\n      <td>Poland</td>\n      <td>22.0</td>\n      <td>Female</td>\n      <td>Salaried</td>\n      <td>Yes</td>\n      <td>Self Employed</td>\n      <td>79000.0</td>\n      <td>Yes</td>\n    </tr>\n    <tr>\n      <th>10</th>\n      <td>Brazil</td>\n      <td>34.0</td>\n      <td>Male</td>\n      <td>Salaried</td>\n      <td>No</td>\n      <td>Permanent</td>\n      <td>70000.0</td>\n      <td>No</td>\n    </tr>\n    <tr>\n      <th>11</th>\n      <td>Spain</td>\n      <td>42.0</td>\n      <td>Female</td>\n      <td>Business</td>\n      <td>No</td>\n      <td>Temporary</td>\n      <td>48000.0</td>\n      <td>Yes</td>\n    </tr>\n    <tr>\n      <th>12</th>\n      <td>Germany</td>\n      <td>29.0</td>\n      <td>Female</td>\n      <td>Business</td>\n      <td>No</td>\n      <td>Temporary</td>\n      <td>54000.0</td>\n      <td>No</td>\n    </tr>\n    <tr>\n      <th>13</th>\n      <td>Spain</td>\n      <td>38.0</td>\n      <td>Male</td>\n      <td>Business</td>\n      <td>No</td>\n      <td>Permanent</td>\n      <td>61000.0</td>\n      <td>No</td>\n    </tr>\n    <tr>\n      <th>15</th>\n      <td>Brazil</td>\n      <td>32.0</td>\n      <td>Female</td>\n      <td>Business</td>\n      <td>Yes</td>\n      <td>Temporary</td>\n      <td>58000.0</td>\n      <td>Yes</td>\n    </tr>\n  </tbody>\n</table>\n</div>",
            "text/plain": "    Country   Age  Gender Occupation Employment Status Employement Type  \\\n0    Poland  34.0    Male   Salaried               Yes        Permanent   \n1     Spain  42.0  Female   Business               Yes        Temporary   \n2   Germany  29.0    Male   Business                No        Temporary   \n3     Spain  38.0    Male   Business                No        Permanent   \n5    Poland  31.0  Female   Business               Yes        Temporary   \n7    Poland  22.0  Female   Salaried               Yes    Self Employed   \n10   Brazil  34.0    Male   Salaried                No        Permanent   \n11    Spain  42.0  Female   Business                No        Temporary   \n12  Germany  29.0  Female   Business                No        Temporary   \n13    Spain  38.0    Male   Business                No        Permanent   \n15   Brazil  32.0  Female   Business               Yes        Temporary   \n\n     Salary Purchased  \n0   72000.0        No  \n1   48000.0       Yes  \n2   54000.0        No  \n3   61000.0        No  \n5   58000.0       Yes  \n7   79000.0       Yes  \n10  70000.0        No  \n11  48000.0       Yes  \n12  54000.0        No  \n13  61000.0        No  \n15  58000.0       Yes  "
          },
          "execution_count": 8,
          "metadata": {},
          "output_type": "execute_result"
        }
      ]
    },
    {
      "metadata": {
        "trusted": false
      },
      "cell_type": "code",
      "source": "#IF we want to get the columns in a dataset with the missing value we will use the following approach\ncols_with_missing_values = [col for col in df.columns if df[col].isnull().any()]\ncols_with_missing_values",
      "execution_count": 9,
      "outputs": [
        {
          "data": {
            "text/plain": "['Age', 'Occupation', 'Employment Status', 'Employement Type', 'Salary']"
          },
          "execution_count": 9,
          "metadata": {},
          "output_type": "execute_result"
        }
      ]
    },
    {
      "metadata": {
        "trusted": false
      },
      "cell_type": "code",
      "source": "# drop the columns that contains the missing values then we can follow the below approach\nreduced_data = df.drop(cols_with_missing_values, axis=1)\nreduced_data",
      "execution_count": 10,
      "outputs": [
        {
          "data": {
            "text/html": "<div>\n<style scoped>\n    .dataframe tbody tr th:only-of-type {\n        vertical-align: middle;\n    }\n\n    .dataframe tbody tr th {\n        vertical-align: top;\n    }\n\n    .dataframe thead th {\n        text-align: right;\n    }\n</style>\n<table border=\"1\" class=\"dataframe\">\n  <thead>\n    <tr style=\"text-align: right;\">\n      <th></th>\n      <th>Country</th>\n      <th>Gender</th>\n      <th>Purchased</th>\n    </tr>\n  </thead>\n  <tbody>\n    <tr>\n      <th>0</th>\n      <td>Poland</td>\n      <td>Male</td>\n      <td>No</td>\n    </tr>\n    <tr>\n      <th>1</th>\n      <td>Spain</td>\n      <td>Female</td>\n      <td>Yes</td>\n    </tr>\n    <tr>\n      <th>2</th>\n      <td>Germany</td>\n      <td>Male</td>\n      <td>No</td>\n    </tr>\n    <tr>\n      <th>3</th>\n      <td>Spain</td>\n      <td>Male</td>\n      <td>No</td>\n    </tr>\n    <tr>\n      <th>4</th>\n      <td>Germany</td>\n      <td>Male</td>\n      <td>Yes</td>\n    </tr>\n    <tr>\n      <th>5</th>\n      <td>Poland</td>\n      <td>Female</td>\n      <td>Yes</td>\n    </tr>\n    <tr>\n      <th>6</th>\n      <td>India</td>\n      <td>Female</td>\n      <td>No</td>\n    </tr>\n    <tr>\n      <th>7</th>\n      <td>Poland</td>\n      <td>Female</td>\n      <td>Yes</td>\n    </tr>\n    <tr>\n      <th>8</th>\n      <td>India</td>\n      <td>Male</td>\n      <td>No</td>\n    </tr>\n    <tr>\n      <th>9</th>\n      <td>Poland</td>\n      <td>Male</td>\n      <td>Yes</td>\n    </tr>\n    <tr>\n      <th>10</th>\n      <td>Brazil</td>\n      <td>Male</td>\n      <td>No</td>\n    </tr>\n    <tr>\n      <th>11</th>\n      <td>Spain</td>\n      <td>Female</td>\n      <td>Yes</td>\n    </tr>\n    <tr>\n      <th>12</th>\n      <td>Germany</td>\n      <td>Female</td>\n      <td>No</td>\n    </tr>\n    <tr>\n      <th>13</th>\n      <td>Spain</td>\n      <td>Male</td>\n      <td>No</td>\n    </tr>\n    <tr>\n      <th>14</th>\n      <td>Germany</td>\n      <td>Male</td>\n      <td>Yes</td>\n    </tr>\n    <tr>\n      <th>15</th>\n      <td>Brazil</td>\n      <td>Female</td>\n      <td>Yes</td>\n    </tr>\n    <tr>\n      <th>16</th>\n      <td>Spain</td>\n      <td>Female</td>\n      <td>Yes</td>\n    </tr>\n    <tr>\n      <th>17</th>\n      <td>England</td>\n      <td>Female</td>\n      <td>Yes</td>\n    </tr>\n    <tr>\n      <th>18</th>\n      <td>Germany</td>\n      <td>Male</td>\n      <td>No</td>\n    </tr>\n    <tr>\n      <th>19</th>\n      <td>England</td>\n      <td>Male</td>\n      <td>Yes</td>\n    </tr>\n  </tbody>\n</table>\n</div>",
            "text/plain": "    Country  Gender Purchased\n0    Poland    Male        No\n1     Spain  Female       Yes\n2   Germany    Male        No\n3     Spain    Male        No\n4   Germany    Male       Yes\n5    Poland  Female       Yes\n6     India  Female        No\n7    Poland  Female       Yes\n8     India    Male        No\n9    Poland    Male       Yes\n10   Brazil    Male        No\n11    Spain  Female       Yes\n12  Germany  Female        No\n13    Spain    Male        No\n14  Germany    Male       Yes\n15   Brazil  Female       Yes\n16    Spain  Female       Yes\n17  England  Female       Yes\n18  Germany    Male        No\n19  England    Male       Yes"
          },
          "execution_count": 10,
          "metadata": {},
          "output_type": "execute_result"
        }
      ]
    },
    {
      "metadata": {},
      "cell_type": "markdown",
      "source": "## Handling Missing Values Using Imputer"
    },
    {
      "metadata": {},
      "cell_type": "markdown",
      "source": "1. First approach will be remove the records that contains the missing values.  \n2. Second approach is to use Imputer  \n3. Third approach is to use groupby and fill the missing values  \n  "
    },
    {
      "metadata": {
        "trusted": false
      },
      "cell_type": "code",
      "source": "# Second Approach using IMPUTER\nfeatures = df.iloc[:,:-1].values\nprint(features)\nlabels = df.iloc[:,-1].values\nprint(labels)",
      "execution_count": 12,
      "outputs": [
        {
          "name": "stdout",
          "output_type": "stream",
          "text": "[['Poland' 34.0 'Male' 'Salaried' 'Yes' 'Permanent' 72000.0]\n ['Spain' 42.0 'Female' 'Business' 'Yes' 'Temporary' 48000.0]\n ['Germany' 29.0 'Male' 'Business' 'No' 'Temporary' 54000.0]\n ['Spain' 38.0 'Male' 'Business' 'No' 'Permanent' 61000.0]\n ['Germany' 32.0 'Male' 'Salaried' nan 'Permanent' nan]\n ['Poland' 31.0 'Female' 'Business' 'Yes' 'Temporary' 58000.0]\n ['India' nan 'Female' 'Salaried' nan 'Temporary' 52000.0]\n ['Poland' 22.0 'Female' 'Salaried' 'Yes' 'Self Employed' 79000.0]\n ['India' 38.0 'Male' 'Business' 'No' nan nan]\n ['Poland' 49.0 'Male' nan 'Yes' 'Self Employed' 67000.0]\n ['Brazil' 34.0 'Male' 'Salaried' 'No' 'Permanent' 70000.0]\n ['Spain' 42.0 'Female' 'Business' 'No' 'Temporary' 48000.0]\n ['Germany' 29.0 'Female' 'Business' 'No' 'Temporary' 54000.0]\n ['Spain' 38.0 'Male' 'Business' 'No' 'Permanent' 61000.0]\n ['Germany' nan 'Male' 'Salaried' 'Yes' 'Permanent' nan]\n ['Brazil' 32.0 'Female' 'Business' 'Yes' 'Temporary' 58000.0]\n ['Spain' nan 'Female' 'Salaried' 'Yes' 'Temporary' 52000.0]\n ['England' 22.0 'Female' 'Salaried' 'Yes' nan 85000.0]\n ['Germany' 38.0 'Male' 'Business' 'Yes' nan nan]\n ['England' 45.0 'Male' nan nan 'Self Employed' 67000.0]]\n['No' 'Yes' 'No' 'No' 'Yes' 'Yes' 'No' 'Yes' 'No' 'Yes' 'No' 'Yes' 'No'\n 'No' 'Yes' 'Yes' 'Yes' 'Yes' 'No' 'Yes']\n"
        }
      ]
    },
    {
      "metadata": {
        "trusted": false
      },
      "cell_type": "code",
      "source": "from sklearn.preprocessing import Imputer\n\nimputer = Imputer(missing_values='NaN',strategy='mean',axis=0)\nprint(imputer)\n\n# 2 step transformation \n# Fit and Tranform\n\nimputer.fit(features[:,[1,6]])\n\nfeatures[:,[1,6]] = imputer.fit_transform(features[:,[1,6]])\n\ndf1 = pd.DataFrame(features)\nprint(df1)",
      "execution_count": 14,
      "outputs": [
        {
          "name": "stdout",
          "output_type": "stream",
          "text": "Imputer(axis=0, copy=True, missing_values='NaN', strategy='mean', verbose=0)\n          0   1       2         3    4              5      6\n0    Poland  34    Male  Salaried  Yes      Permanent  72000\n1     Spain  42  Female  Business  Yes      Temporary  48000\n2   Germany  29    Male  Business   No      Temporary  54000\n3     Spain  38    Male  Business   No      Permanent  61000\n4   Germany  32    Male  Salaried  NaN      Permanent  61625\n5    Poland  31  Female  Business  Yes      Temporary  58000\n6     India  35  Female  Salaried  NaN      Temporary  52000\n7    Poland  22  Female  Salaried  Yes  Self Employed  79000\n8     India  38    Male  Business   No            NaN  61625\n9    Poland  49    Male       NaN  Yes  Self Employed  67000\n10   Brazil  34    Male  Salaried   No      Permanent  70000\n11    Spain  42  Female  Business   No      Temporary  48000\n12  Germany  29  Female  Business   No      Temporary  54000\n13    Spain  38    Male  Business   No      Permanent  61000\n14  Germany  35    Male  Salaried  Yes      Permanent  61625\n15   Brazil  32  Female  Business  Yes      Temporary  58000\n16    Spain  35  Female  Salaried  Yes      Temporary  52000\n17  England  22  Female  Salaried  Yes            NaN  85000\n18  Germany  38    Male  Business  Yes            NaN  61625\n19  England  45    Male       NaN  NaN  Self Employed  67000\n"
        }
      ]
    },
    {
      "metadata": {
        "trusted": false
      },
      "cell_type": "code",
      "source": "#Fill the missing values for non-numeric columns\ncols = ['Occupation','Employment Status','Employement Type']\n\ndf[cols] = df[cols].fillna(df.mode().iloc[0])",
      "execution_count": null,
      "outputs": []
    },
    {
      "metadata": {},
      "cell_type": "markdown",
      "source": "# Detecting and handling Outliers"
    },
    {
      "metadata": {
        "trusted": false
      },
      "cell_type": "code",
      "source": "import numpy as np\nimport pandas as pd\nimport matplotlib.pyplot as plt",
      "execution_count": 15,
      "outputs": []
    },
    {
      "metadata": {
        "trusted": false
      },
      "cell_type": "raw",
      "source": "Topic to be covered - Detect Outlier using the Mathematical Formula  \n  \nStep 1 - Sort the Pandas Column\n  \nStep 2 - Calculate Lower Quartile, Upper Quartile and Inter Quartile \n  \nQ1 = Lower Quartile\n  \nQ3 = Upper Quartile\n  \nIQR = Inter Quartile Range\n  \nlower Boundary =  Q1 - 1.5 * IQR\n  \nUpper Boundary = Q3 + 1.5 * IQR\n\"\"\"\n    "
    },
    {
      "metadata": {
        "trusted": false
      },
      "cell_type": "code",
      "source": "import pandas as pd\nimport numpy as np\n\ndf = pd.DataFrame()\n\ndf['count'] = [5,8,6,2,9,11,15,16,25,40,23]\n\ndf.sort_values(by='count',inplace=True)\nprint(df)",
      "execution_count": 22,
      "outputs": [
        {
          "name": "stdout",
          "output_type": "stream",
          "text": "    count\n3       2\n0       5\n2       6\n1       8\n4       9\n5      11\n6      15\n7      16\n10     23\n8      25\n9      40\n"
        }
      ]
    },
    {
      "metadata": {
        "trusted": false
      },
      "cell_type": "code",
      "source": "print(df.describe())",
      "execution_count": 21,
      "outputs": [
        {
          "name": "stdout",
          "output_type": "stream",
          "text": "           count\ncount  11.000000\nmean   14.545455\nstd    11.129813\nmin     2.000000\n25%     7.000000\n50%    11.000000\n75%    19.500000\nmax    40.000000\n"
        }
      ]
    },
    {
      "metadata": {
        "trusted": false
      },
      "cell_type": "code",
      "source": "Q1, Q2, Q3 = np.percentile(df,[25,50,75])\n\nIQR = Q3 - Q1\n\nlower_boundary = Q1 - 1.5 * IQR \nprint(lower_boundary)\n\nupper_boundary = Q3 + 1.5 * IQR\nprint(upper_boundary)",
      "execution_count": 23,
      "outputs": [
        {
          "name": "stdout",
          "output_type": "stream",
          "text": "-11.75\n38.25\n"
        }
      ]
    },
    {
      "metadata": {},
      "cell_type": "markdown",
      "source": "<span style=\"color:red; font-family:Comic Sans MS\"> **above Code pulled from:** </span>  \n<a href=\"https://github.com/technologycult/PythonForMachineLearning\" target=\"_blank\">https://github.com/technologycult/PythonForMachineLearning</a>  \n"
    },
    {
      "metadata": {},
      "cell_type": "markdown",
      "source": "<span style=\"color:red; font-family:Comic Sans MS\"> **practice cases:** </span>  \nhttps://www.dataoptimal.com/data-cleaning-with-python-2018/  \nhttps://realpython.com/python-data-cleaning-numpy-pandas/  "
    },
    {
      "metadata": {},
      "cell_type": "markdown",
      "source": "**Practical Tutorial on Data Manipulation with Numpy and Pandas in Python:**  \nhttps://www.hackerearth.com/practice/machine-learning/data-manipulation-visualisation-r-python/tutorial-data-manipulation-numpy-pandas-python/tutorial/  \n**Pythonic Data Cleaning With NumPy and Pandas-RealPython**  \nhttps://realpython.com/python-data-cleaning-numpy-pandas/#cleaning-the-entire-dataset-using-the-applymap-function  "
    }
  ],
  "metadata": {
    "kernelspec": {
      "name": "python3",
      "display_name": "Python 3",
      "language": "python"
    },
    "language_info": {
      "mimetype": "text/x-python",
      "nbconvert_exporter": "python",
      "name": "python",
      "pygments_lexer": "ipython3",
      "version": "3.5.4",
      "file_extension": ".py",
      "codemirror_mode": {
        "version": 3,
        "name": "ipython"
      }
    },
    "toc": {
      "nav_menu": {},
      "number_sections": true,
      "sideBar": true,
      "skip_h1_title": false,
      "base_numbering": 1,
      "title_cell": "Table of Contents",
      "title_sidebar": "Contents",
      "toc_cell": false,
      "toc_position": {},
      "toc_section_display": true,
      "toc_window_display": false
    }
  },
  "nbformat": 4,
  "nbformat_minor": 2
}