{
  "cells": [
    {
      "metadata": {
        "collapsed": true
      },
      "cell_type": "markdown",
      "source": "**Question:**  \nWrite a program which will find all such numbers which are divisible by 7 but are not a multiple of 5,\nbetween 2000 and 3200 (both included).\nThe numbers obtained should be printed in a comma-separated sequence on a single line."
    },
    {
      "metadata": {
        "run_control": {
          "marked": false
        },
        "trusted": true,
        "scrolled": true
      },
      "cell_type": "code",
      "source": "?",
      "execution_count": null,
      "outputs": []
    },
    {
      "metadata": {
        "collapsed": true
      },
      "cell_type": "markdown",
      "source": "**Question:**  \nWrite a program which can compute the factorial of a given numbers.\nThe results should be printed in a comma-separated sequence on a single line.\nSuppose the following input is supplied to the program:  \n8  \nThen, the output should be:  \n40320  "
    },
    {
      "metadata": {
        "trusted": true
      },
      "cell_type": "code",
      "source": "?",
      "execution_count": null,
      "outputs": []
    },
    {
      "metadata": {
        "collapsed": true
      },
      "cell_type": "markdown",
      "source": "**Question:**  \nWith a given integral number n, write a program to generate a dictionary that contains (i, i*i) such that is an integral number between 1 and n (both included). and then the program should print the dictionary.\nSuppose the following input is supplied to the program:  \n8  \nThen, the output should be:  \n{1: 1, 2: 4, 3: 9, 4: 16, 5: 25, 6: 36, 7: 49, 8: 64}  "
    },
    {
      "metadata": {
        "trusted": true
      },
      "cell_type": "code",
      "source": "?",
      "execution_count": null,
      "outputs": []
    },
    {
      "metadata": {
        "collapsed": true
      },
      "cell_type": "markdown",
      "source": "**Question:**  \nWrite a program which accepts a sequence of comma-separated numbers from console and generate a list and a tuple which contains every number.\nSuppose the following input is supplied to the program:  \n34,67,55,33,12,98  \nThen, the output should be:  \n['34', '67', '55', '33', '12', '98']  \n('34', '67', '55', '33', '12', '98')  "
    },
    {
      "metadata": {
        "collapsed": true,
        "trusted": false
      },
      "cell_type": "code",
      "source": "?",
      "execution_count": null,
      "outputs": []
    },
    {
      "metadata": {},
      "cell_type": "markdown",
      "source": "**Question:**  \nGiven an integer `n`, , perform the following conditional actions:  \n  \nIf `n` is odd, print Weird  \nIf `n` is even and in the inclusive range of  to , print Not `Weird`  \nIf `n` is even and in the inclusive range of  to , print `Weird`  \nIf `n` is even and greater than , print `Not Weird`  \n  \n*Input Format*  \n  \nA single line containing a positive integer, `n`  "
    },
    {
      "metadata": {
        "trusted": true
      },
      "cell_type": "code",
      "source": "?",
      "execution_count": null,
      "outputs": []
    },
    {
      "metadata": {},
      "cell_type": "markdown",
      "source": "**Question:**  \nRead two integers from console and print three lines where:  \n  \nThe first line contains the sum of the two numbers.\nThe second line contains the difference of the two numbers (first - second).\nThe third line contains the product of the two numbers.\n  \n*Input Format*  \n  \nThe first line contains the first integer, `a` . The second line contains the second integer, `b`."
    },
    {
      "metadata": {
        "trusted": true
      },
      "cell_type": "code",
      "source": "?",
      "execution_count": null,
      "outputs": []
    },
    {
      "metadata": {},
      "cell_type": "markdown",
      "source": "**Question:**  \nRead two integers and print two lines. The first line should contain integer division,  `a//b` . The second line should contain float division,  `a/b` .  \n  \nYou don't need to perform any rounding or formatting operations.  \n  \n*Input Format*  \n\nThe first line contains the first integer, `a`. The second line contains the second integer, `b`.  "
    },
    {
      "metadata": {
        "trusted": true
      },
      "cell_type": "code",
      "source": "?",
      "execution_count": null,
      "outputs": []
    },
    {
      "metadata": {},
      "cell_type": "markdown",
      "source": "<font size=\"4\"><strong>List comprehenstion Exercises</font> "
    },
    {
      "metadata": {},
      "cell_type": "markdown",
      "source": "**Question:**  \nFind all of the numbers from 1-1000 that are divisible by 7\n  "
    },
    {
      "metadata": {
        "trusted": true
      },
      "cell_type": "code",
      "source": "?",
      "execution_count": null,
      "outputs": []
    },
    {
      "metadata": {},
      "cell_type": "markdown",
      "source": "**Question:**  \nFind all of the numbers from 1-1000 that have a 3 in them    "
    },
    {
      "metadata": {
        "trusted": true
      },
      "cell_type": "code",
      "source": "?",
      "execution_count": null,
      "outputs": []
    },
    {
      "metadata": {},
      "cell_type": "markdown",
      "source": "  \n**Question:**  \nCount the number of spaces in a string   \nteststring = 'Find all of the words in a string that are less than 4 letters'  "
    },
    {
      "metadata": {
        "trusted": true
      },
      "cell_type": "code",
      "source": "?",
      "execution_count": null,
      "outputs": []
    },
    {
      "metadata": {},
      "cell_type": "markdown",
      "source": "  \n**Question:**   \nRemove all of the vowels in a string [make a list of the non-vowels]\nteststring = 'Find all of the words in a string that are less than 4 letters'  \nvowels = ['a','e','i','o','u',' ']  "
    },
    {
      "metadata": {
        "trusted": true
      },
      "cell_type": "code",
      "source": "?",
      "execution_count": null,
      "outputs": []
    },
    {
      "metadata": {},
      "cell_type": "markdown",
      "source": "  \n**Question:**   \nFind all of the words in a string that are less than 4 letters  \nteststring = 'Find all of the words in a string that are less than 4 letters'  "
    },
    {
      "metadata": {
        "trusted": true
      },
      "cell_type": "code",
      "source": "?",
      "execution_count": null,
      "outputs": []
    },
    {
      "metadata": {},
      "cell_type": "markdown",
      "source": "  \n**Question:**   \nUse a dictionary comprehension to count the length of each word in a sentence.  \nsentence = 'Use a dictionary comprehension to count the length of each word in a sentence'  "
    },
    {
      "metadata": {
        "trusted": true
      },
      "cell_type": "code",
      "source": "?",
      "execution_count": null,
      "outputs": []
    },
    {
      "metadata": {},
      "cell_type": "markdown",
      "source": "  \n**Question:**   \nUse a nested list comprehension to find all of the numbers from 1-1000 that are divisible by any single digit besides 1 (2-9)  "
    },
    {
      "metadata": {
        "trusted": true
      },
      "cell_type": "code",
      "source": "?",
      "execution_count": null,
      "outputs": []
    },
    {
      "metadata": {},
      "cell_type": "markdown",
      "source": "  \n**Question:**     \nFor all the numbers 1-1000, use a nested list/dictionary comprehension to find the highest single digit any of the numbers is divisible by.  "
    },
    {
      "metadata": {
        "trusted": true
      },
      "cell_type": "code",
      "source": "?",
      "execution_count": null,
      "outputs": []
    },
    {
      "metadata": {},
      "cell_type": "markdown",
      "source": "  \n**Question:**     \nList comprehension for providing a list of all of the numbers a number is divisible by: divisor_list:  "
    },
    {
      "metadata": {
        "trusted": true
      },
      "cell_type": "code",
      "source": "?",
      "execution_count": null,
      "outputs": []
    },
    {
      "metadata": {},
      "cell_type": "markdown",
      "source": "**Question:**     \nCreate these Lists:  \n[-10,-9,-8,-7,-6,-5,-4,-3,-2,-1,0]"
    },
    {
      "metadata": {
        "trusted": true
      },
      "cell_type": "code",
      "source": "?",
      "execution_count": null,
      "outputs": []
    },
    {
      "metadata": {},
      "cell_type": "markdown",
      "source": "  \n**Question:**     \nA list of all consonants in the sentence 'The quick brown fox jumped over the lazy dog'  \nteststring = 'The quick brown fox jumped over the lazy dog'  \nvowels = ['a','e','i','o','u',' ']  "
    },
    {
      "metadata": {
        "trusted": true
      },
      "cell_type": "code",
      "source": "?",
      "execution_count": null,
      "outputs": []
    },
    {
      "metadata": {},
      "cell_type": "markdown",
      "source": "  \n**Question:**     \nA list of all the capital letters (and not white space) in 'The Quick Brown Fox Jumped Over The Lazy Dog'  \nimport string  \nteststring = 'The Quick Brown Fox Jumped Over The Lazy Dog'  "
    },
    {
      "metadata": {
        "trusted": true
      },
      "cell_type": "code",
      "source": "?",
      "execution_count": null,
      "outputs": []
    },
    {
      "metadata": {},
      "cell_type": "markdown",
      "source": "  \n**Question:**       \nA list of all square numbers formed by squaring the numbers from 1 to 1000.  \n  "
    },
    {
      "metadata": {
        "trusted": true
      },
      "cell_type": "code",
      "source": "?",
      "execution_count": null,
      "outputs": []
    }
  ],
  "metadata": {
    "kernelspec": {
      "name": "python36",
      "display_name": "Python 3.6",
      "language": "python"
    },
    "language_info": {
      "mimetype": "text/x-python",
      "nbconvert_exporter": "python",
      "name": "python",
      "pygments_lexer": "ipython3",
      "version": "3.6.6",
      "file_extension": ".py",
      "codemirror_mode": {
        "version": 3,
        "name": "ipython"
      }
    },
    "toc": {
      "nav_menu": {},
      "number_sections": true,
      "sideBar": true,
      "skip_h1_title": false,
      "base_numbering": 1,
      "title_cell": "Table of Contents",
      "title_sidebar": "Contents",
      "toc_cell": false,
      "toc_position": {},
      "toc_section_display": true,
      "toc_window_display": false
    }
  },
  "nbformat": 4,
  "nbformat_minor": 2
}