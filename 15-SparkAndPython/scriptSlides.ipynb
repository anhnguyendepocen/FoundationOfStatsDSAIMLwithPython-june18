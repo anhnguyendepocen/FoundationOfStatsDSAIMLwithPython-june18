{
  "cells": [
    {
      "metadata": {},
      "cell_type": "markdown",
      "source": "**Why we need spark?**"
    },
    {
      "metadata": {},
      "cell_type": "markdown",
      "source": "https://databricks.com/blog/2014/11/05/spark-officially-sets-a-new-record-in-large-scale-sorting.html"
    },
    {
      "metadata": {
        "collapsed": true
      },
      "cell_type": "markdown",
      "source": "## Working with SQL at Scale - Spark SQL Tutorial"
    },
    {
      "metadata": {},
      "cell_type": "markdown",
      "source": "Login  for the databricks community edition: https://community.cloud.databricks.com/login.html  \nSignup for the databricks community edition: https://databricks.com/signup#signup/community     \nusing your own login credintials using **Work Email:** asp.sumendar@gmail.com and **pwd:** M---1--`*`  **OR** sumendar@yahoo.com  and **pwd:** N---1---*"
    },
    {
      "metadata": {},
      "cell_type": "markdown",
      "source": "Wrangle, aggregate, filter data at scale using Apache Spark SQL: https://towardsdatascience.com/sql-at-scale-with-apache-spark-sql-and-dataframes-concepts-architecture-and-examples-c567853a702f  \nhttps://github.com/dipanjanS/data_science_for_all/blob/master/tds_spark_sql_intro/Working%20with%20SQL%20at%20Scale%20-%20Spark%20SQL%20Tutorial.ipynb  \ndataset: http://kdd.ics.uci.edu/databases/kddcup99/kddcup99.html  \nSQL Language Manual :https://docs.databricks.com/spark/latest/spark-sql/index.html "
    }
  ],
  "metadata": {
    "kernelspec": {
      "name": "python3",
      "display_name": "Python 3",
      "language": "python"
    },
    "language_info": {
      "mimetype": "text/x-python",
      "nbconvert_exporter": "python",
      "name": "python",
      "pygments_lexer": "ipython3",
      "version": "3.5.4",
      "file_extension": ".py",
      "codemirror_mode": {
        "version": 3,
        "name": "ipython"
      }
    },
    "toc": {
      "nav_menu": {},
      "number_sections": true,
      "sideBar": true,
      "skip_h1_title": false,
      "base_numbering": 1,
      "title_cell": "Table of Contents",
      "title_sidebar": "Contents",
      "toc_cell": false,
      "toc_position": {},
      "toc_section_display": true,
      "toc_window_display": false
    }
  },
  "nbformat": 4,
  "nbformat_minor": 2
}