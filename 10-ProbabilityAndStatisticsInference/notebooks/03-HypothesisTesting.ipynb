{
  "cells": [
    {
      "metadata": {},
      "cell_type": "markdown",
      "source": "# Hypothesis Testing\n\n\nWe would like to know if the effects we see in the sample(observed data) are likely to occur in the population. \n\nThe way classical hypothesis testing works is by conducting a statistical test to answer the following question:\n> Given the sample and an effect, what is the probability of seeing that effect just by chance?\n\nHere are the steps on how we would do this\n\n1. Compute test statistic\n2. Define null hypothesis\n3. Compute p-value\n4. Interpret the result\n\nIf p-value is very low(most often than now, below 0.05), the effect is considered statistically significant. That means that effect is unlikely to have occured by chance. The inference? The effect is likely to be seen in the population too. \n\nThis process is very similar to the *proof by contradiction* paradigm. We first assume that the effect is false. That's the null hypothesis. Next step is to compute the probability of obtaining that effect (the p-value). If p-value is very low(<0.05 as a rule of thumb), we reject the null hypothesis. "
    },
    {
      "metadata": {
        "collapsed": true,
        "trusted": false
      },
      "cell_type": "code",
      "source": "import numpy as np\nimport pandas as pd\nfrom scipy import stats\nimport matplotlib as mpl\n%matplotlib inline",
      "execution_count": 1,
      "outputs": []
    },
    {
      "metadata": {
        "trusted": false
      },
      "cell_type": "code",
      "source": "import seaborn as sns\nsns.set(color_codes=True)",
      "execution_count": 2,
      "outputs": []
    },
    {
      "metadata": {
        "collapsed": true,
        "trusted": false
      },
      "cell_type": "code",
      "source": "weed_pd = pd.read_csv(\"../data/Weed_Price.csv\", parse_dates=[-1])",
      "execution_count": 3,
      "outputs": []
    },
    {
      "metadata": {
        "trusted": false
      },
      "cell_type": "code",
      "source": "weed_pd[\"month\"] = weed_pd.date.apply(lambda x: x.month)\nweed_pd[\"year\"] = weed_pd.date.apply(lambda x: x.year)",
      "execution_count": 4,
      "outputs": []
    },
    {
      "metadata": {
        "trusted": false
      },
      "cell_type": "code",
      "source": "weed_pd.head()",
      "execution_count": 5,
      "outputs": [
        {
          "data": {
            "text/html": "<div>\n<table border=\"1\" class=\"dataframe\">\n  <thead>\n    <tr style=\"text-align: right;\">\n      <th></th>\n      <th>State</th>\n      <th>HighQ</th>\n      <th>HighQN</th>\n      <th>MedQ</th>\n      <th>MedQN</th>\n      <th>LowQ</th>\n      <th>LowQN</th>\n      <th>date</th>\n      <th>month</th>\n      <th>year</th>\n    </tr>\n  </thead>\n  <tbody>\n    <tr>\n      <th>0</th>\n      <td>Alabama</td>\n      <td>339.06</td>\n      <td>1042</td>\n      <td>198.64</td>\n      <td>933</td>\n      <td>149.49</td>\n      <td>123</td>\n      <td>2014-01-01</td>\n      <td>1</td>\n      <td>2014</td>\n    </tr>\n    <tr>\n      <th>1</th>\n      <td>Alaska</td>\n      <td>288.75</td>\n      <td>252</td>\n      <td>260.60</td>\n      <td>297</td>\n      <td>388.58</td>\n      <td>26</td>\n      <td>2014-01-01</td>\n      <td>1</td>\n      <td>2014</td>\n    </tr>\n    <tr>\n      <th>2</th>\n      <td>Arizona</td>\n      <td>303.31</td>\n      <td>1941</td>\n      <td>209.35</td>\n      <td>1625</td>\n      <td>189.45</td>\n      <td>222</td>\n      <td>2014-01-01</td>\n      <td>1</td>\n      <td>2014</td>\n    </tr>\n    <tr>\n      <th>3</th>\n      <td>Arkansas</td>\n      <td>361.85</td>\n      <td>576</td>\n      <td>185.62</td>\n      <td>544</td>\n      <td>125.87</td>\n      <td>112</td>\n      <td>2014-01-01</td>\n      <td>1</td>\n      <td>2014</td>\n    </tr>\n    <tr>\n      <th>4</th>\n      <td>California</td>\n      <td>248.78</td>\n      <td>12096</td>\n      <td>193.56</td>\n      <td>12812</td>\n      <td>192.92</td>\n      <td>778</td>\n      <td>2014-01-01</td>\n      <td>1</td>\n      <td>2014</td>\n    </tr>\n  </tbody>\n</table>\n</div>",
            "text/plain": "        State   HighQ  HighQN    MedQ  MedQN    LowQ  LowQN       date  month  \\\n0     Alabama  339.06    1042  198.64    933  149.49    123 2014-01-01      1   \n1      Alaska  288.75     252  260.60    297  388.58     26 2014-01-01      1   \n2     Arizona  303.31    1941  209.35   1625  189.45    222 2014-01-01      1   \n3    Arkansas  361.85     576  185.62    544  125.87    112 2014-01-01      1   \n4  California  248.78   12096  193.56  12812  192.92    778 2014-01-01      1   \n\n   year  \n0  2014  \n1  2014  \n2  2014  \n3  2014  \n4  2014  "
          },
          "execution_count": 5,
          "metadata": {},
          "output_type": "execute_result"
        }
      ]
    },
    {
      "metadata": {},
      "cell_type": "markdown",
      "source": "### Let's work on weed prices in California in 2014\n"
    },
    {
      "metadata": {
        "collapsed": true,
        "trusted": false
      },
      "cell_type": "code",
      "source": "weed_ca_2014 = weed_pd[(weed_pd.State==\"California\") & (weed_pd.year==2014)]",
      "execution_count": 6,
      "outputs": []
    },
    {
      "metadata": {
        "trusted": false
      },
      "cell_type": "code",
      "source": "#Mean and standard deviation of high quality weed's price\nprint \"Mean:\", weed_ca_2014.HighQ.mean()\nprint \"Standard Deviation:\", weed_ca_2014.HighQ.std()",
      "execution_count": 7,
      "outputs": [
        {
          "name": "stdout",
          "output_type": "stream",
          "text": "Mean: 245.894230769\nStandard Deviation: 1.28990793937\n"
        }
      ]
    },
    {
      "metadata": {
        "trusted": false
      },
      "cell_type": "code",
      "source": "#Confidence interval on the mean\nstats.norm.interval(0.95, loc=weed_ca_2014.HighQ.mean(), scale = weed_ca_2014.HighQ.std()/np.sqrt(len(weed_ca_2014)))",
      "execution_count": 8,
      "outputs": [
        {
          "data": {
            "text/plain": "(245.761718492726, 246.02674304573577)"
          },
          "execution_count": 8,
          "metadata": {},
          "output_type": "execute_result"
        }
      ]
    },
    {
      "metadata": {},
      "cell_type": "markdown",
      "source": "### Question: Are high-quality weed prices in Jan 2014 significantly higher than in Jan 2015?"
    },
    {
      "metadata": {
        "trusted": false
      },
      "cell_type": "code",
      "source": "#Get the data\nweed_ca_jan2014 = np.array(weed_pd[(weed_pd.State==\"California\") & (weed_pd.year==2014) & (weed_pd.month==1)].HighQ)\nweed_ca_jan2015 = np.array(weed_pd[(weed_pd.State==\"California\") & (weed_pd.year==2015) & (weed_pd.month==1)].HighQ)",
      "execution_count": 9,
      "outputs": []
    },
    {
      "metadata": {
        "trusted": false
      },
      "cell_type": "code",
      "source": "print \"Mean-2014 Jan:\", weed_ca_jan2014.mean()\nprint \"Mean-2015 Jan:\", weed_ca_jan2015.mean()",
      "execution_count": 10,
      "outputs": [
        {
          "name": "stdout",
          "output_type": "stream",
          "text": "Mean-2014 Jan: 248.445483871\nMean-2015 Jan: 243.602258065\n"
        }
      ]
    },
    {
      "metadata": {
        "trusted": false
      },
      "cell_type": "code",
      "source": "print \"Effect size:\", weed_ca_jan2014.mean() - weed_ca_jan2015.mean()",
      "execution_count": 11,
      "outputs": [
        {
          "name": "stdout",
          "output_type": "stream",
          "text": "Effect size: 4.84322580645\n"
        }
      ]
    },
    {
      "metadata": {},
      "cell_type": "markdown",
      "source": "**Null Hypothesis**: Mean prices aren't significantly different\n\nPerform **t-test** and determine the p-value. "
    },
    {
      "metadata": {
        "trusted": false
      },
      "cell_type": "code",
      "source": "stats.ttest_ind(weed_ca_jan2014, weed_ca_jan2015, equal_var=True)",
      "execution_count": 12,
      "outputs": [
        {
          "data": {
            "text/plain": "Ttest_indResult(statistic=98.011325238158051, pvalue=6.2979718185084028e-68)"
          },
          "execution_count": 12,
          "metadata": {},
          "output_type": "execute_result"
        }
      ]
    },
    {
      "metadata": {},
      "cell_type": "markdown",
      "source": "p-value is the probability that the effective size was by chance. And here, p-value is almost 0.\n\n*Conclusion*: The price difference is significant. But is a price increase of $4.85 a big deal? The price decreased in 2015 by almost 2%. Always remember to look at effect size. "
    },
    {
      "metadata": {},
      "cell_type": "markdown",
      "source": "**Problem** Determine if prices of medium quality weed for Jan 2015 and Feb 2015 are significantly different for New York. "
    },
    {
      "metadata": {
        "collapsed": true,
        "trusted": false
      },
      "cell_type": "code",
      "source": "",
      "execution_count": null,
      "outputs": []
    },
    {
      "metadata": {},
      "cell_type": "markdown",
      "source": "### Assumption of t-test\n\nOne assumption is that the data used came from a normal distribution. \n<br>\nThere's a [Shapiro-Wilk test](https://en.wikipedia.org/wiki/Shapiro-Wilk) to test for normality. If p-value is less than 0.05, then there's a low chance that the distribution is normal."
    },
    {
      "metadata": {
        "trusted": false
      },
      "cell_type": "code",
      "source": "stats.shapiro(weed_ca_jan2015)",
      "execution_count": 13,
      "outputs": [
        {
          "data": {
            "text/plain": "(0.9469053149223328, 0.12818680703639984)"
          },
          "execution_count": 13,
          "metadata": {},
          "output_type": "execute_result"
        }
      ]
    },
    {
      "metadata": {
        "trusted": false
      },
      "cell_type": "code",
      "source": "stats.shapiro(weed_ca_jan2014)",
      "execution_count": 14,
      "outputs": [
        {
          "data": {
            "text/plain": "(0.9353488683700562, 0.06141229346394539)"
          },
          "execution_count": 14,
          "metadata": {},
          "output_type": "execute_result"
        }
      ]
    },
    {
      "metadata": {
        "collapsed": true,
        "trusted": false
      },
      "cell_type": "code",
      "source": "#We seem to be good.",
      "execution_count": null,
      "outputs": []
    },
    {
      "metadata": {},
      "cell_type": "markdown",
      "source": "### A/B testing\n\nComparing two versions to check which one performs better. Eg: Show to people two variants for the same webpage that they want to see and find which one provides better conversion rate (or the relevant metric). [wiki](https://en.wikipedia.org/wiki/A/B_testing)"
    },
    {
      "metadata": {},
      "cell_type": "markdown",
      "source": "**Exercise: Impact of regulation and deregulation.**\n\nInformation on regulation of Weed in the US by State [wiki](Impact of regulation and deregulation on a couple of states )\n\n1. Alaska legalized it on 4th Nov 2014. Find if prices significantly changed in Dec 2014 compared to Oct 2014. \n2. Maryland decriminalized possessing weed from Oct 1, 2014. Find if prices of weed changed significantly in Oct 2014 compared to Sep 2014"
    },
    {
      "metadata": {
        "collapsed": true,
        "trusted": false
      },
      "cell_type": "code",
      "source": "",
      "execution_count": null,
      "outputs": []
    },
    {
      "metadata": {},
      "cell_type": "markdown",
      "source": "<h2> Something to think about: Which of these give smaller p-values ? </h2>\n   \n   * Smaller effect size\n   * Smaller standard error\n   * Smaller sample size\n   * Higher variance\n   \n   **Answer:** "
    },
    {
      "metadata": {},
      "cell_type": "markdown",
      "source": "### Chi-square tests"
    },
    {
      "metadata": {},
      "cell_type": "markdown",
      "source": "Chi-Square tests are used when the data are frequencies, rather than numerical score/price.\n\nThe following two tests make use of chi-square statistic\n\n1. chi-square test for goodness of fit\n2. chi-square test for independence\n\nChi-square test is a non-parametric test. They do not require assumptions about population parameters and they do not test hypotheses about population parameters."
    },
    {
      "metadata": {},
      "cell_type": "markdown",
      "source": "<h2> Chi-Square test for goodness fit </h2>"
    },
    {
      "metadata": {},
      "cell_type": "markdown",
      "source": "$$ \\chi^2 = \\sum (O - E)^2/E $$\n\n* O is observed frequency\n* E is expected frequency\n* $ \\chi $ is the chi-square statistic"
    },
    {
      "metadata": {},
      "cell_type": "markdown",
      "source": "Let's assume the proportion of people who bought High, Medium and Low quality weed in Jan-2014 as the expected proportion. Find if proportion of people who bought weed in Jan 2015 conformed to the norm"
    },
    {
      "metadata": {
        "collapsed": true,
        "trusted": false
      },
      "cell_type": "code",
      "source": "weed_jan2014 = weed_pd[(weed_pd.year==2014) & (weed_pd.month==1)][[\"HighQN\", \"MedQN\", \"LowQN\"]]\nweed_jan2015 = weed_pd[(weed_pd.year==2015) & (weed_pd.month==1)][[\"HighQN\", \"MedQN\", \"LowQN\"]]",
      "execution_count": 16,
      "outputs": []
    },
    {
      "metadata": {
        "trusted": false
      },
      "cell_type": "code",
      "source": "Expected = np.array(weed_jan2014.apply(sum, axis=0))\nObserved = np.array(weed_jan2015.apply(sum, axis=0))",
      "execution_count": 17,
      "outputs": []
    },
    {
      "metadata": {
        "trusted": false
      },
      "cell_type": "code",
      "source": "print \"Expected:\", Expected, \"\\n\" , \"Observed:\", Observed",
      "execution_count": 18,
      "outputs": [
        {
          "name": "stdout",
          "output_type": "stream",
          "text": "Expected: [2918004 2644757  263958] \nObserved: [4057716 4035049  358088]\n"
        }
      ]
    },
    {
      "metadata": {
        "trusted": false
      },
      "cell_type": "code",
      "source": "print \"Expected:\", Expected/np.sum(Expected.astype(float)), \"\\n\" , \"Observed:\", Observed/np.sum(Observed.astype(float))",
      "execution_count": 19,
      "outputs": [
        {
          "name": "stdout",
          "output_type": "stream",
          "text": "Expected: [ 0.5007971   0.45390159  0.04530131] \nObserved: [ 0.48015461  0.47747239  0.042373  ]\n"
        }
      ]
    },
    {
      "metadata": {
        "trusted": false,
        "scrolled": true
      },
      "cell_type": "code",
      "source": "stats.chisquare(Observed, Expected)",
      "execution_count": 20,
      "outputs": [
        {
          "data": {
            "text/plain": "Power_divergenceResult(statistic=1209562.2775169075, pvalue=0.0)"
          },
          "execution_count": 20,
          "metadata": {},
          "output_type": "execute_result"
        }
      ]
    },
    {
      "metadata": {},
      "cell_type": "markdown",
      "source": "*Inference* : We reject null hypothesis. The proportions in Jan 2015 is different than what was expected."
    },
    {
      "metadata": {},
      "cell_type": "markdown",
      "source": "<a rel=\"license\" href=\"http://creativecommons.org/licenses/by/4.0/\"><img alt=\"Creative Commons License\" style=\"border-width:0\" src=\"https://i.creativecommons.org/l/by/4.0/88x31.png\" /></a><br /><span xmlns:dct=\"http://purl.org/dc/terms/\" property=\"dct:title\">Introduction to Statistics using Python</span> by <a xmlns:cc=\"http://creativecommons.org/ns#\" href=\"https://twitter.com/bargava/\" property=\"cc:attributionName\" rel=\"cc:attributionURL\">Bargava</a> and <a xmlns:cc=\"http://creativecommons.org/ns#\" href=\"https://twitter.com/raghothams/\" property=\"cc:attributionName\" rel=\"cc:attributionURL\">Raghotham</a> is licensed under a <a rel=\"license\" href=\"http://creativecommons.org/licenses/by/4.0/\">Creative Commons Attribution 4.0 International License</a>."
    }
  ],
  "metadata": {
    "kernelspec": {
      "name": "python2",
      "display_name": "Python 2",
      "language": "python"
    },
    "language_info": {
      "mimetype": "text/x-python",
      "nbconvert_exporter": "python",
      "name": "python",
      "pygments_lexer": "ipython2",
      "version": "2.7.14",
      "file_extension": ".py",
      "codemirror_mode": {
        "version": 2,
        "name": "ipython"
      }
    },
    "toc": {
      "nav_menu": {},
      "number_sections": true,
      "sideBar": true,
      "skip_h1_title": false,
      "base_numbering": 1,
      "title_cell": "Table of Contents",
      "title_sidebar": "Contents",
      "toc_cell": false,
      "toc_position": {},
      "toc_section_display": true,
      "toc_window_display": false
    }
  },
  "nbformat": 4,
  "nbformat_minor": 1
}