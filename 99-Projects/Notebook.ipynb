{
  "cells": [
    {
      "metadata": {},
      "cell_type": "markdown",
      "source": "# *Projects using* Real-World dataset"
    },
    {
      "metadata": {},
      "cell_type": "markdown",
      "source": "![Imgur](https://i.imgur.com/ZJypn6y.jpg)"
    },
    {
      "metadata": {},
      "cell_type": "markdown",
      "source": "## Data Exploration Using Baby Names"
    },
    {
      "metadata": {
        "collapsed": true
      },
      "cell_type": "markdown",
      "source": "https://engmrk.com/module8-data-science-project-1/  \nhttps://github.com/sumendar/babynames  "
    },
    {
      "metadata": {},
      "cell_type": "markdown",
      "source": "## *machine learning using* Classification"
    },
    {
      "metadata": {},
      "cell_type": "markdown",
      "source": "**Machine Learning from Start to Finish with Scikit-Learn(*Basic Level*)**  \nhttps://www.kaggle.com/cesartrevisan/scikit-learn-and-gridsearchcv  "
    },
    {
      "metadata": {},
      "cell_type": "markdown",
      "source": "**Start Building Your First Machine Learning Project With This Famous Datase**  \nhttps://www.analyticsindiamag.com/start-building-first-machine-learning-project-famous-dataset/  "
    },
    {
      "metadata": {},
      "cell_type": "markdown",
      "source": "**Loan Prediction Practice Problem (Using Python)**  \nhttps://trainings.analyticsvidhya.com/courses/course-v1:AnalyticsVidhya+LP101+2018_T1/about  "
    },
    {
      "metadata": {},
      "cell_type": "markdown",
      "source": "**Most commonly used classification algorithms along with the python code**  \nhttps://www.analyticsindiamag.com/7-types-classification-algorithms/  \ndataset: http://archive.ics.uci.edu/ml/datasets/Adult    \nNotebook Viewer: https://nbviewer.jupyter.org/github/f2005636/Classification/tree/master/  \n  \n**End to End Application**  \nhttp://www.md2c.nl/predict-annual-income/  \nhttps://studio.azureml.net/  "
    },
    {
      "metadata": {},
      "cell_type": "markdown",
      "source": "## *machine learning using* Regression"
    },
    {
      "metadata": {},
      "cell_type": "markdown",
      "source": "**Practical Machine Learning Project in Python on House Prices Data**  \nhttps://www.hackerearth.com/practice/machine-learning/machine-learning-projects/python-project/tutorial/"
    },
    {
      "metadata": {},
      "cell_type": "markdown",
      "source": "<span style=\"color:red; font-family:Comic Sans MS\">Further Resources: </span>     "
    },
    {
      "metadata": {},
      "cell_type": "markdown",
      "source": "*Advanced data science & machine learning projects*  \n  \n**A Day in the Life of a Data Scientist - Hear From A Netflix Data Scientist**  \nhttps://towardsdatascience.com/a-peek-into-a-netflix-data-scientists-day-66bf3dacabb9  \nhttps://github.com/NFLX-WIBD/WIBD-Workshops-2018/blob/master/Data%20Science/Women%20in%20Big%20Data%20-%20A%20Day%20in%20the%20Life%20of%20a%20Data%20Scientist.ipynb \n  \n**A Complete Machine Learning Walk-Through in Python**  \nhttps://github.com/WillKoehrsen/machine-learning-project-walkthrough    \nhttps://towardsdatascience.com/a-complete-machine-learning-walk-through-in-python-part-one-c62152f39420    "
    }
  ],
  "metadata": {
    "kernelspec": {
      "name": "python3",
      "display_name": "Python 3",
      "language": "python"
    },
    "language_info": {
      "mimetype": "text/x-python",
      "nbconvert_exporter": "python",
      "name": "python",
      "pygments_lexer": "ipython3",
      "version": "3.5.4",
      "file_extension": ".py",
      "codemirror_mode": {
        "version": 3,
        "name": "ipython"
      }
    },
    "toc": {
      "nav_menu": {},
      "number_sections": true,
      "sideBar": true,
      "skip_h1_title": false,
      "base_numbering": 1,
      "title_cell": "Table of Contents",
      "title_sidebar": "Contents",
      "toc_cell": false,
      "toc_position": {},
      "toc_section_display": true,
      "toc_window_display": false
    }
  },
  "nbformat": 4,
  "nbformat_minor": 2
}