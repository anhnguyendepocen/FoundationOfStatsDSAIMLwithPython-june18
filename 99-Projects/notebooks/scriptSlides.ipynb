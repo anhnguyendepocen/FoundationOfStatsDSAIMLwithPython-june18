{
  "cells": [
    {
      "metadata": {},
      "cell_type": "markdown",
      "source": "These projects are to solve a specific business or research problems with real world data."
    },
    {
      "metadata": {},
      "cell_type": "markdown",
      "source": "**Basic Project**"
    },
    {
      "metadata": {
        "collapsed": true
      },
      "cell_type": "markdown",
      "source": "https://engmrk.com/module8-data-science-project-1/  "
    },
    {
      "metadata": {},
      "cell_type": "markdown",
      "source": "**End to End Sample Project**"
    },
    {
      "metadata": {},
      "cell_type": "markdown",
      "source": "https://machinelearningmastery.com/machine-learning-in-python-step-by-step/  "
    },
    {
      "metadata": {},
      "cell_type": "markdown",
      "source": "**End to End Project 1**"
    },
    {
      "metadata": {},
      "cell_type": "markdown",
      "source": "https://trainings.analyticsvidhya.com/courses/course-v1:AnalyticsVidhya+LP101+2018_T1/about  "
    },
    {
      "metadata": {},
      "cell_type": "markdown",
      "source": "**End to End Project 2**"
    },
    {
      "metadata": {},
      "cell_type": "markdown",
      "source": "https://www.hackerearth.com/practice/machine-learning/machine-learning-projects/python-project/tutorial/"
    }
  ],
  "metadata": {
    "kernelspec": {
      "name": "python36",
      "display_name": "Python 3.6",
      "language": "python"
    },
    "language_info": {
      "mimetype": "text/x-python",
      "nbconvert_exporter": "python",
      "name": "python",
      "pygments_lexer": "ipython3",
      "version": "3.6.6",
      "file_extension": ".py",
      "codemirror_mode": {
        "version": 3,
        "name": "ipython"
      }
    },
    "toc": {
      "nav_menu": {},
      "number_sections": true,
      "sideBar": true,
      "skip_h1_title": false,
      "base_numbering": 1,
      "title_cell": "Table of Contents",
      "title_sidebar": "Contents",
      "toc_cell": false,
      "toc_position": {},
      "toc_section_display": true,
      "toc_window_display": false
    }
  },
  "nbformat": 4,
  "nbformat_minor": 2
}