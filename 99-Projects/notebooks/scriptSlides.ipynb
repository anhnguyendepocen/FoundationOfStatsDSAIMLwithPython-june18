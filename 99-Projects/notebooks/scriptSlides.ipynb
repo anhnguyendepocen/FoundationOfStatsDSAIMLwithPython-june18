<<<<<<< HEAD
{
  "cells": [
    {
      "metadata": {},
      "cell_type": "markdown",
      "source": "These projects are to solve a specific business or research problems with real world data."
    },
    {
      "metadata": {},
      "cell_type": "markdown",
      "source": "**Basic Project**"
    },
    {
      "metadata": {
        "collapsed": true
      },
      "cell_type": "markdown",
      "source": "https://engmrk.com/module8-data-science-project-1/  "
    },
    {
      "metadata": {},
      "cell_type": "markdown",
      "source": "**End to End Sample Project**"
    },
    {
      "metadata": {},
      "cell_type": "markdown",
      "source": "https://machinelearningmastery.com/machine-learning-in-python-step-by-step/  "
    },
    {
      "metadata": {},
      "cell_type": "markdown",
      "source": "**End to End Project 1**"
    },
    {
      "metadata": {},
      "cell_type": "markdown",
      "source": "https://trainings.analyticsvidhya.com/courses/course-v1:AnalyticsVidhya+LP101+2018_T1/about  "
    },
    {
      "metadata": {},
      "cell_type": "markdown",
      "source": "**End to End Project 2**"
    },
    {
      "metadata": {},
      "cell_type": "markdown",
      "source": "https://www.hackerearth.com/practice/machine-learning/machine-learning-projects/python-project/tutorial/"
    }
  ],
  "metadata": {
    "kernelspec": {
      "name": "python36",
      "display_name": "Python 3.6",
      "language": "python"
    },
    "language_info": {
      "mimetype": "text/x-python",
      "nbconvert_exporter": "python",
      "name": "python",
      "pygments_lexer": "ipython3",
      "version": "3.6.6",
      "file_extension": ".py",
      "codemirror_mode": {
        "version": 3,
        "name": "ipython"
      }
    },
    "toc": {
      "nav_menu": {},
      "number_sections": true,
      "sideBar": true,
      "skip_h1_title": false,
      "base_numbering": 1,
      "title_cell": "Table of Contents",
      "title_sidebar": "Contents",
      "toc_cell": false,
      "toc_position": {},
      "toc_section_display": true,
      "toc_window_display": false
    }
  },
  "nbformat": 4,
  "nbformat_minor": 2
}
=======
{
 "cells": [
  {
   "cell_type": "markdown",
   "metadata": {
    "collapsed": true
   },
   "source": [
    "https://engmrk.com/module8-data-science-project-1/  "
   ]
  },
  {
   "cell_type": "code",
   "execution_count": 13,
   "metadata": {},
   "outputs": [
    {
     "data": {
      "text/html": [
       "<iframe src=https://engmrk.com/module8-data-science-project-1/ width=1200 height=1000></iframe>"
      ],
      "text/plain": [
       "<IPython.core.display.HTML object>"
      ]
     },
     "execution_count": 13,
     "metadata": {},
     "output_type": "execute_result"
    }
   ],
   "source": [
    "from IPython.display import HTML\n",
    "#IFrame('http://stackoverflow.org', width=700, height=350)\n",
    "from IPython.display import IFrame\n",
    "HTML('<iframe src=https://engmrk.com/module8-data-science-project-1/ width=1200 height=1000></iframe>')"
   ]
  },
  {
   "cell_type": "markdown",
   "metadata": {},
   "source": [
    "https://trainings.analyticsvidhya.com/courses/course-v1:AnalyticsVidhya+LP101+2018_T1/about  "
   ]
  },
  {
   "cell_type": "markdown",
   "metadata": {},
   "source": [
    "https://www.hackerearth.com/practice/machine-learning/machine-learning-projects/python-project/tutorial/"
   ]
  }
 ],
 "metadata": {
  "kernelspec": {
   "display_name": "Python 3",
   "language": "python",
   "name": "python3"
  },
  "language_info": {
   "codemirror_mode": {
    "name": "ipython",
    "version": 3
   },
   "file_extension": ".py",
   "mimetype": "text/x-python",
   "name": "python",
   "nbconvert_exporter": "python",
   "pygments_lexer": "ipython3",
   "version": "3.6.4"
  },
  "toc": {
   "base_numbering": 1,
   "nav_menu": {},
   "number_sections": true,
   "sideBar": true,
   "skip_h1_title": false,
   "title_cell": "Table of Contents",
   "title_sidebar": "Contents",
   "toc_cell": false,
   "toc_position": {},
   "toc_section_display": true,
   "toc_window_display": false
  }
 },
 "nbformat": 4,
 "nbformat_minor": 2
}
>>>>>>> 8d626effaebcf06fc48d31b83319120a943271b9
