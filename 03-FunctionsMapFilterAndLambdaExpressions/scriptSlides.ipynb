{
  "cells": [
    {
      "metadata": {},
      "cell_type": "markdown",
      "source": "## Functions"
    },
    {
      "metadata": {},
      "cell_type": "markdown",
      "source": "* function is a group of related statements that perform a specific task.\n* break our program into smaller and modular chunks\n"
    },
    {
      "metadata": {},
      "cell_type": "markdown",
      "source": "**Syntax of Function**  \n`def function_name(parameters):\n\t\"\"\"docstring\"\"\"\n\tstatement(s)`"
    },
    {
      "metadata": {},
      "cell_type": "markdown",
      "source": "https://www.programiz.com/python-programming/function"
    },
    {
      "metadata": {},
      "cell_type": "markdown",
      "source": "## lambda expressions"
    },
    {
      "metadata": {},
      "cell_type": "markdown",
      "source": "* function that is defined without a name.\n* While normal functions are defined using the def keyword, in Python anonymous functions are defined using the lambda keyword."
    },
    {
      "metadata": {},
      "cell_type": "markdown",
      "source": "**Syntax of Lambda Function in python**  \n`lambda arguments: expression`"
    },
    {
      "metadata": {
        "trusted": false
      },
      "cell_type": "code",
      "source": "def times2(var):\n    return var*2\n\ntimes2(2)\n\nlambda var: var*2",
      "execution_count": 1,
      "outputs": [
        {
          "data": {
            "text/plain": "<function __main__.<lambda>>"
          },
          "execution_count": 1,
          "metadata": {},
          "output_type": "execute_result"
        }
      ]
    },
    {
      "metadata": {},
      "cell_type": "markdown",
      "source": "https://www.programiz.com/python-programming/anonymous-function "
    },
    {
      "metadata": {},
      "cell_type": "markdown",
      "source": "## map and filter"
    },
    {
      "metadata": {
        "trusted": false
      },
      "cell_type": "code",
      "source": "seq = [1,2,3,4,5]\n\nmap(times2,seq)\n\nlist(map(times2,seq))\n\nlist(map(lambda var: var*2,seq))\n\nfilter(lambda item: item%2 == 0,seq)\n\nlist(filter(lambda item: item%2 == 0,seq))",
      "execution_count": 2,
      "outputs": [
        {
          "data": {
            "text/plain": "[2, 4]"
          },
          "execution_count": 2,
          "metadata": {},
          "output_type": "execute_result"
        }
      ]
    },
    {
      "metadata": {},
      "cell_type": "markdown",
      "source": "**Zip**"
    },
    {
      "metadata": {},
      "cell_type": "markdown",
      "source": "* zip takes n number of iterables and returns list of tuples."
    },
    {
      "metadata": {
        "trusted": true
      },
      "cell_type": "code",
      "source": "list_a = [1, 2, 3, 4, 5]\nlist_b = ['a', 'b', 'c', 'd', 'e']\n\nzipped_list = zip(list_a, list_b)\n\nprint (list(zipped_list)) # [(1, 'a'), (2, 'b'), (3, 'c'), (4, 'd'), (5, 'e')]",
      "execution_count": 2,
      "outputs": [
        {
          "output_type": "stream",
          "text": "[(1, 'a'), (2, 'b'), (3, 'c'), (4, 'd'), (5, 'e')]\n",
          "name": "stdout"
        }
      ]
    },
    {
      "metadata": {},
      "cell_type": "markdown",
      "source": "https://medium.com/@happymishra66/lambda-map-and-filter-in-python-4935f248593"
    }
  ],
  "metadata": {
    "kernelspec": {
      "name": "python36",
      "display_name": "Python 3.6",
      "language": "python"
    },
    "language_info": {
      "mimetype": "text/x-python",
      "nbconvert_exporter": "python",
      "name": "python",
      "pygments_lexer": "ipython3",
      "version": "3.6.3",
      "file_extension": ".py",
      "codemirror_mode": {
        "version": 3,
        "name": "ipython"
      }
    }
  },
  "nbformat": 4,
  "nbformat_minor": 2
}