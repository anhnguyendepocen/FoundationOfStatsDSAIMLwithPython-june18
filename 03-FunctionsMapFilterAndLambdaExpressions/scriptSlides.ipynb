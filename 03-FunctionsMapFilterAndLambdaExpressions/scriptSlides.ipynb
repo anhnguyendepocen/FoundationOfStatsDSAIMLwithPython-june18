{
  "cells": [
    {
      "metadata": {},
      "cell_type": "markdown",
      "source": "## Functions"
    },
    {
      "metadata": {},
      "cell_type": "markdown",
      "source": "* function is a group of related statements that perform a specific task.\n* break our program into smaller and modular chunks\n* in-built functions and user defined functions"
    },
    {
      "metadata": {},
      "cell_type": "markdown",
      "source": "**Syntax of Function**  \n`def function_name(parameters):\n\t\"\"\"docstring\"\"\"\n\tstatement(s)`"
    },
    {
      "metadata": {},
      "cell_type": "markdown",
      "source": "https://www.programiz.com/python-programming/function"
    },
    {
      "metadata": {},
      "cell_type": "markdown",
      "source": "## lambda expressions"
    },
    {
      "metadata": {},
      "cell_type": "markdown",
      "source": "* function that is defined without a name.\n* While normal functions are defined using the def keyword, in Python anonymous functions are defined using the lambda keyword."
    },
    {
      "metadata": {},
      "cell_type": "markdown",
      "source": "**Syntax of Lambda Function in python**  \n`lambda arguments: expression`"
    },
    {
      "metadata": {
        "trusted": false
      },
      "cell_type": "code",
      "source": "def times2(var):\n    return var*2\n\ntimes2(2)\n\nlambda var: var*2",
      "execution_count": 1,
      "outputs": [
        {
          "data": {
            "text/plain": "<function __main__.<lambda>>"
          },
          "execution_count": 1,
          "metadata": {},
          "output_type": "execute_result"
        }
      ]
    },
    {
      "metadata": {},
      "cell_type": "markdown",
      "source": "https://www.programiz.com/python-programming/anonymous-function "
    },
    {
      "metadata": {},
      "cell_type": "markdown",
      "source": "## map and filter"
    },
    {
      "metadata": {
        "trusted": false
      },
      "cell_type": "code",
      "source": "seq = [1,2,3,4,5]\n\nmap(times2,seq)\n\nlist(map(times2,seq))\n\nlist(map(lambda var: var*2,seq))\n\nfilter(lambda item: item%2 == 0,seq)\n\nlist(filter(lambda item: item%2 == 0,seq))",
      "execution_count": 2,
      "outputs": [
        {
          "data": {
            "text/plain": "[2, 4]"
          },
          "execution_count": 2,
          "metadata": {},
          "output_type": "execute_result"
        }
      ]
    },
    {
      "metadata": {},
      "cell_type": "markdown",
      "source": "https://medium.com/@happymishra66/lambda-map-and-filter-in-python-4935f248593"
    },
    {
      "metadata": {},
      "cell_type": "markdown",
      "source": "## Zip"
    },
    {
      "metadata": {},
      "cell_type": "markdown",
      "source": "* zip takes n number of iterables and returns list of tuples."
    },
    {
      "metadata": {
        "trusted": false
      },
      "cell_type": "code",
      "source": "list_a = [1, 2, 3, 4, 5]\nlist_b = ['a', 'b', 'c', 'd', 'e']\n\nzipped_list = zip(list_a, list_b)\n\nprint (list(zipped_list)) # [(1, 'a'), (2, 'b'), (3, 'c'), (4, 'd'), (5, 'e')]",
      "execution_count": 2,
      "outputs": [
        {
          "name": "stdout",
          "output_type": "stream",
          "text": "[(1, 'a'), (2, 'b'), (3, 'c'), (4, 'd'), (5, 'e')]\n"
        }
      ]
    },
    {
      "metadata": {},
      "cell_type": "markdown",
      "source": "## Unpacking"
    },
    {
      "metadata": {},
      "cell_type": "markdown",
      "source": "* Unpacking lists, tuples and dictionaries"
    },
    {
      "metadata": {},
      "cell_type": "markdown",
      "source": "**On lists**"
    },
    {
      "metadata": {
        "trusted": false
      },
      "cell_type": "code",
      "source": "names = [\"John\", \"James\", \"Frank\"]\nnums = [111,222,333]\nprint(names)\nprint(nums)",
      "execution_count": 4,
      "outputs": [
        {
          "name": "stdout",
          "output_type": "stream",
          "text": "['John', 'James', 'Frank']\n[111, 222, 333]\n"
        }
      ]
    },
    {
      "metadata": {
        "trusted": false
      },
      "cell_type": "code",
      "source": "name1, name2, name3 = names\nprint(name1)\nprint(name3)",
      "execution_count": 5,
      "outputs": [
        {
          "name": "stdout",
          "output_type": "stream",
          "text": "John\nFrank\n"
        }
      ]
    },
    {
      "metadata": {
        "trusted": false
      },
      "cell_type": "code",
      "source": "num1, num2, num3 = nums\nprint(num2)\nprint(num3)",
      "execution_count": 6,
      "outputs": [
        {
          "name": "stdout",
          "output_type": "stream",
          "text": "222\n333\n"
        }
      ]
    },
    {
      "metadata": {},
      "cell_type": "markdown",
      "source": "**On tuple**"
    },
    {
      "metadata": {
        "trusted": false
      },
      "cell_type": "code",
      "source": "tple = (5,8,-9)\nprint(tple)\ntpl1, tpl2, tpl3 =(5,8,-9)\nprint(tpl1, tpl2, tpl3, sep=\"\\n\")",
      "execution_count": 7,
      "outputs": [
        {
          "name": "stdout",
          "output_type": "stream",
          "text": "(5, 8, -9)\n5\n8\n-9\n"
        }
      ]
    },
    {
      "metadata": {},
      "cell_type": "markdown",
      "source": "**On Dictionaries **"
    },
    {
      "metadata": {
        "trusted": false
      },
      "cell_type": "code",
      "source": "d = {34:\"thirty four\", \"letter\": 'A', 5+6j: -98}\nprint(d)",
      "execution_count": 17,
      "outputs": [
        {
          "name": "stdout",
          "output_type": "stream",
          "text": "{34: 'thirty four', 'letter': 'A', (5+6j): -98}\n"
        }
      ]
    },
    {
      "metadata": {
        "trusted": false
      },
      "cell_type": "code",
      "source": "d1, d2, d3 = d\nprint(d3, d1, sep=\"\\n\")\n# only keys will come",
      "execution_count": 34,
      "outputs": [
        {
          "name": "stdout",
          "output_type": "stream",
          "text": "(5+6j)\n34\n"
        }
      ]
    },
    {
      "metadata": {
        "trusted": false
      },
      "cell_type": "code",
      "source": "d1, d2, d3 = d.items()\nprint(d1)\nprint(d3)",
      "execution_count": 32,
      "outputs": [
        {
          "name": "stdout",
          "output_type": "stream",
          "text": "(34, 'thirty four')\n((5+6j), -98)\n"
        }
      ]
    },
    {
      "metadata": {
        "trusted": false
      },
      "cell_type": "code",
      "source": "d1, d2, d3 = d.values()\nprint(d2)\nprint(d1)",
      "execution_count": 33,
      "outputs": [
        {
          "name": "stdout",
          "output_type": "stream",
          "text": "A\nthirty four\n"
        }
      ]
    },
    {
      "metadata": {},
      "cell_type": "markdown",
      "source": "## magic functions"
    },
    {
      "metadata": {},
      "cell_type": "markdown",
      "source": " * IPython has a set of predefined ‘magic functions’  \n * **Line magics:** line-oriented, indicate with `%`   \n ex: %timeit  \n * **Cell magics:** cell-oriented, indicate with `%%`   \n ex: %%timeit  "
    },
    {
      "metadata": {
        "trusted": true
      },
      "cell_type": "code",
      "source": "%timeit range(1000)",
      "execution_count": 10,
      "outputs": [
        {
          "output_type": "stream",
          "text": "375 ns ± 58.3 ns per loop (mean ± std. dev. of 7 runs, 1000000 loops each)\n",
          "name": "stdout"
        }
      ]
    },
    {
      "metadata": {
        "trusted": true
      },
      "cell_type": "code",
      "source": "%%timeit \nx = range(10000)\nmax(x)",
      "execution_count": 11,
      "outputs": [
        {
          "output_type": "stream",
          "text": "418 µs ± 86.6 µs per loop (mean ± std. dev. of 7 runs, 1000 loops each)\n",
          "name": "stdout"
        }
      ]
    },
    {
      "metadata": {},
      "cell_type": "markdown",
      "source": "https://ipython.readthedocs.io/en/stable/interactive/tutorial.html?highlight=Magic%20functions#magic-functions"
    }
  ],
  "metadata": {
    "kernelspec": {
      "name": "python3",
      "display_name": "Python 3",
      "language": "python"
    },
    "language_info": {
      "mimetype": "text/x-python",
      "nbconvert_exporter": "python",
      "name": "python",
      "pygments_lexer": "ipython3",
      "version": "3.5.4",
      "file_extension": ".py",
      "codemirror_mode": {
        "version": 3,
        "name": "ipython"
      }
    },
    "toc": {
      "nav_menu": {},
      "number_sections": true,
      "sideBar": true,
      "skip_h1_title": false,
      "base_numbering": 1,
      "title_cell": "Table of Contents",
      "title_sidebar": "Contents",
      "toc_cell": false,
      "toc_position": {},
      "toc_section_display": true,
      "toc_window_display": false
    }
  },
  "nbformat": 4,
  "nbformat_minor": 2
}