<<<<<<< HEAD
{
  "cells": [
    {
      "metadata": {},
      "cell_type": "markdown",
      "source": "## Functions"
    },
    {
      "metadata": {},
      "cell_type": "markdown",
      "source": "* function is a group of related statements that perform a specific task.\n* break our program into smaller and modular chunks\n"
    },
    {
      "metadata": {},
      "cell_type": "markdown",
      "source": "**Syntax of Function**  \n`def function_name(parameters):\n\t\"\"\"docstring\"\"\"\n\tstatement(s)`"
    },
    {
      "metadata": {},
      "cell_type": "markdown",
      "source": "https://www.programiz.com/python-programming/function"
    },
    {
      "metadata": {},
      "cell_type": "markdown",
      "source": "## lambda expressions"
    },
    {
      "metadata": {},
      "cell_type": "markdown",
      "source": "* function that is defined without a name.\n* While normal functions are defined using the def keyword, in Python anonymous functions are defined using the lambda keyword."
    },
    {
      "metadata": {},
      "cell_type": "markdown",
      "source": "**Syntax of Lambda Function in python**  \n`lambda arguments: expression`"
    },
    {
      "metadata": {
        "trusted": false
      },
      "cell_type": "code",
      "source": "def times2(var):\n    return var*2\n\ntimes2(2)\n\nlambda var: var*2",
      "execution_count": 1,
      "outputs": [
        {
          "data": {
            "text/plain": "<function __main__.<lambda>>"
          },
          "execution_count": 1,
          "metadata": {},
          "output_type": "execute_result"
        }
      ]
    },
    {
      "metadata": {},
      "cell_type": "markdown",
      "source": "https://www.programiz.com/python-programming/anonymous-function "
    },
    {
      "metadata": {},
      "cell_type": "markdown",
      "source": "## map and filter"
    },
    {
      "metadata": {
        "trusted": false
      },
      "cell_type": "code",
      "source": "seq = [1,2,3,4,5]\n\nmap(times2,seq)\n\nlist(map(times2,seq))\n\nlist(map(lambda var: var*2,seq))\n\nfilter(lambda item: item%2 == 0,seq)\n\nlist(filter(lambda item: item%2 == 0,seq))",
      "execution_count": 2,
      "outputs": [
        {
          "data": {
            "text/plain": "[2, 4]"
          },
          "execution_count": 2,
          "metadata": {},
          "output_type": "execute_result"
        }
      ]
    },
    {
      "metadata": {},
      "cell_type": "markdown",
      "source": "**Zip**"
    },
    {
      "metadata": {},
      "cell_type": "markdown",
      "source": "* zip takes n number of iterables and returns list of tuples."
    },
    {
      "metadata": {
        "trusted": true
      },
      "cell_type": "code",
      "source": "list_a = [1, 2, 3, 4, 5]\nlist_b = ['a', 'b', 'c', 'd', 'e']\n\nzipped_list = zip(list_a, list_b)\n\nprint (list(zipped_list)) # [(1, 'a'), (2, 'b'), (3, 'c'), (4, 'd'), (5, 'e')]",
      "execution_count": 2,
      "outputs": [
        {
          "output_type": "stream",
          "text": "[(1, 'a'), (2, 'b'), (3, 'c'), (4, 'd'), (5, 'e')]\n",
          "name": "stdout"
        }
      ]
    },
    {
      "metadata": {},
      "cell_type": "markdown",
      "source": "https://medium.com/@happymishra66/lambda-map-and-filter-in-python-4935f248593"
    }
  ],
  "metadata": {
    "kernelspec": {
      "name": "python36",
      "display_name": "Python 3.6",
      "language": "python"
    },
    "language_info": {
      "mimetype": "text/x-python",
      "nbconvert_exporter": "python",
      "name": "python",
      "pygments_lexer": "ipython3",
      "version": "3.6.6",
      "file_extension": ".py",
      "codemirror_mode": {
        "version": 3,
        "name": "ipython"
      }
    },
    "toc": {
      "nav_menu": {},
      "number_sections": true,
      "sideBar": true,
      "skip_h1_title": false,
      "base_numbering": 1,
      "title_cell": "Table of Contents",
      "title_sidebar": "Contents",
      "toc_cell": false,
      "toc_position": {},
      "toc_section_display": true,
      "toc_window_display": false
    }
  },
  "nbformat": 4,
  "nbformat_minor": 2
}
=======
{
 "cells": [
  {
   "cell_type": "markdown",
   "metadata": {},
   "source": [
    "## Functions"
   ]
  },
  {
   "cell_type": "markdown",
   "metadata": {},
   "source": [
    "* function is a group of related statements that perform a specific task.\n",
    "* break our program into smaller and modular chunks\n"
   ]
  },
  {
   "cell_type": "markdown",
   "metadata": {},
   "source": [
    "**Syntax of Function**  \n",
    "`def function_name(parameters):\n",
    "\t\"\"\"docstring\"\"\"\n",
    "\tstatement(s)`"
   ]
  },
  {
   "cell_type": "markdown",
   "metadata": {},
   "source": [
    "https://www.programiz.com/python-programming/function"
   ]
  },
  {
   "cell_type": "markdown",
   "metadata": {},
   "source": [
    "## lambda expressions"
   ]
  },
  {
   "cell_type": "markdown",
   "metadata": {},
   "source": [
    "* function that is defined without a name.\n",
    "* While normal functions are defined using the def keyword, in Python anonymous functions are defined using the lambda keyword."
   ]
  },
  {
   "cell_type": "markdown",
   "metadata": {},
   "source": [
    "**Syntax of Lambda Function in python**  \n",
    "`lambda arguments: expression`"
   ]
  },
  {
   "cell_type": "code",
   "execution_count": 1,
   "metadata": {},
   "outputs": [
    {
     "data": {
      "text/plain": [
       "<function __main__.<lambda>>"
      ]
     },
     "execution_count": 1,
     "metadata": {},
     "output_type": "execute_result"
    }
   ],
   "source": [
    "def times2(var):\n",
    "    return var*2\n",
    "\n",
    "times2(2)\n",
    "\n",
    "lambda var: var*2"
   ]
  },
  {
   "cell_type": "markdown",
   "metadata": {},
   "source": [
    "https://www.programiz.com/python-programming/anonymous-function "
   ]
  },
  {
   "cell_type": "markdown",
   "metadata": {},
   "source": [
    "## map and filter"
   ]
  },
  {
   "cell_type": "code",
   "execution_count": 2,
   "metadata": {},
   "outputs": [
    {
     "data": {
      "text/plain": [
       "[2, 4]"
      ]
     },
     "execution_count": 2,
     "metadata": {},
     "output_type": "execute_result"
    }
   ],
   "source": [
    "seq = [1,2,3,4,5]\n",
    "\n",
    "map(times2,seq)\n",
    "\n",
    "list(map(times2,seq))\n",
    "\n",
    "list(map(lambda var: var*2,seq))\n",
    "\n",
    "filter(lambda item: item%2 == 0,seq)\n",
    "\n",
    "list(filter(lambda item: item%2 == 0,seq))"
   ]
  },
  {
   "cell_type": "markdown",
   "metadata": {},
   "source": [
    "https://medium.com/@happymishra66/lambda-map-and-filter-in-python-4935f248593"
   ]
  },
  {
   "cell_type": "markdown",
   "metadata": {},
   "source": [
    "## Zip"
   ]
  },
  {
   "cell_type": "markdown",
   "metadata": {},
   "source": [
    "* zip takes n number of iterables and returns list of tuples."
   ]
  },
  {
   "cell_type": "code",
   "execution_count": 2,
   "metadata": {},
   "outputs": [
    {
     "name": "stdout",
     "output_type": "stream",
     "text": [
      "[(1, 'a'), (2, 'b'), (3, 'c'), (4, 'd'), (5, 'e')]\n"
     ]
    }
   ],
   "source": [
    "list_a = [1, 2, 3, 4, 5]\n",
    "list_b = ['a', 'b', 'c', 'd', 'e']\n",
    "\n",
    "zipped_list = zip(list_a, list_b)\n",
    "\n",
    "print (list(zipped_list)) # [(1, 'a'), (2, 'b'), (3, 'c'), (4, 'd'), (5, 'e')]"
   ]
  },
  {
   "cell_type": "markdown",
   "metadata": {},
   "source": [
    "## Unpacking"
   ]
  },
  {
   "cell_type": "markdown",
   "metadata": {},
   "source": [
    "* Unpacking lists, tuples and dictionaries"
   ]
  },
  {
   "cell_type": "markdown",
   "metadata": {},
   "source": [
    "**On lists**"
   ]
  },
  {
   "cell_type": "code",
   "execution_count": 4,
   "metadata": {},
   "outputs": [
    {
     "name": "stdout",
     "output_type": "stream",
     "text": [
      "['John', 'James', 'Frank']\n",
      "[111, 222, 333]\n"
     ]
    }
   ],
   "source": [
    "names = [\"John\", \"James\", \"Frank\"]\n",
    "nums = [111,222,333]\n",
    "print(names)\n",
    "print(nums)"
   ]
  },
  {
   "cell_type": "code",
   "execution_count": 5,
   "metadata": {},
   "outputs": [
    {
     "name": "stdout",
     "output_type": "stream",
     "text": [
      "John\n",
      "Frank\n"
     ]
    }
   ],
   "source": [
    "name1, name2, name3 = names\n",
    "print(name1)\n",
    "print(name3)"
   ]
  },
  {
   "cell_type": "code",
   "execution_count": 6,
   "metadata": {},
   "outputs": [
    {
     "name": "stdout",
     "output_type": "stream",
     "text": [
      "222\n",
      "333\n"
     ]
    }
   ],
   "source": [
    "num1, num2, num3 = nums\n",
    "print(num2)\n",
    "print(num3)"
   ]
  },
  {
   "cell_type": "markdown",
   "metadata": {},
   "source": [
    "**On tuple**"
   ]
  },
  {
   "cell_type": "code",
   "execution_count": 7,
   "metadata": {},
   "outputs": [
    {
     "name": "stdout",
     "output_type": "stream",
     "text": [
      "(5, 8, -9)\n",
      "5\n",
      "8\n",
      "-9\n"
     ]
    }
   ],
   "source": [
    "tple = (5,8,-9)\n",
    "print(tple)\n",
    "tpl1, tpl2, tpl3 =(5,8,-9)\n",
    "print(tpl1, tpl2, tpl3, sep=\"\\n\")"
   ]
  },
  {
   "cell_type": "markdown",
   "metadata": {},
   "source": [
    "**On Dictionaries **"
   ]
  },
  {
   "cell_type": "code",
   "execution_count": 17,
   "metadata": {},
   "outputs": [
    {
     "name": "stdout",
     "output_type": "stream",
     "text": [
      "{34: 'thirty four', 'letter': 'A', (5+6j): -98}\n"
     ]
    }
   ],
   "source": [
    "d = {34:\"thirty four\", \"letter\": 'A', 5+6j: -98}\n",
    "print(d)"
   ]
  },
  {
   "cell_type": "code",
   "execution_count": 34,
   "metadata": {},
   "outputs": [
    {
     "name": "stdout",
     "output_type": "stream",
     "text": [
      "(5+6j)\n",
      "34\n"
     ]
    }
   ],
   "source": [
    "d1, d2, d3 = d\n",
    "print(d3, d1, sep=\"\\n\")\n",
    "# only keys will come"
   ]
  },
  {
   "cell_type": "code",
   "execution_count": 32,
   "metadata": {},
   "outputs": [
    {
     "name": "stdout",
     "output_type": "stream",
     "text": [
      "(34, 'thirty four')\n",
      "((5+6j), -98)\n"
     ]
    }
   ],
   "source": [
    "d1, d2, d3 = d.items()\n",
    "print(d1)\n",
    "print(d3)"
   ]
  },
  {
   "cell_type": "code",
   "execution_count": 33,
   "metadata": {},
   "outputs": [
    {
     "name": "stdout",
     "output_type": "stream",
     "text": [
      "A\n",
      "thirty four\n"
     ]
    }
   ],
   "source": [
    "d1, d2, d3 = d.values()\n",
    "print(d2)\n",
    "print(d1)"
   ]
  }
 ],
 "metadata": {
  "kernelspec": {
   "display_name": "Python 3",
   "language": "python",
   "name": "python3"
  },
  "language_info": {
   "codemirror_mode": {
    "name": "ipython",
    "version": 3
   },
   "file_extension": ".py",
   "mimetype": "text/x-python",
   "name": "python",
   "nbconvert_exporter": "python",
   "pygments_lexer": "ipython3",
   "version": "3.6.4"
  },
  "toc": {
   "base_numbering": 1,
   "nav_menu": {},
   "number_sections": true,
   "sideBar": true,
   "skip_h1_title": false,
   "title_cell": "Table of Contents",
   "title_sidebar": "Contents",
   "toc_cell": false,
   "toc_position": {},
   "toc_section_display": true,
   "toc_window_display": false
  }
 },
 "nbformat": 4,
 "nbformat_minor": 2
}
>>>>>>> 6287286f01beaf3e0cddb10592c29777b4adaa56
