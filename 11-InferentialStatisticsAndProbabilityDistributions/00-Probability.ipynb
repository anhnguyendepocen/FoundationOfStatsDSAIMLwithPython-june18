{
  "cells": [
    {
      "metadata": {
        "toc": true
      },
      "cell_type": "markdown",
      "source": "<h1>Table of Contents<span class=\"tocSkip\"></span></h1>\n<div class=\"toc\"><ul class=\"toc-item\"><li><span><a href=\"#Permutations-&amp;-Combinations\" data-toc-modified-id=\"Permutations-&amp;-Combinations-1\"><span class=\"toc-item-num\">1&nbsp;&nbsp;</span>Permutations &amp; Combinations</a></span></li><li><span><a href=\"#Probability\" data-toc-modified-id=\"Probability-2\"><span class=\"toc-item-num\">2&nbsp;&nbsp;</span>Probability</a></span></li><li><span><a href=\"#Dealing-with-Events\" data-toc-modified-id=\"Dealing-with-Events-3\"><span class=\"toc-item-num\">3&nbsp;&nbsp;</span>Dealing with Events</a></span><ul class=\"toc-item\"><li><span><a href=\"#Independent-Events\" data-toc-modified-id=\"Independent-Events-3.1\"><span class=\"toc-item-num\">3.1&nbsp;&nbsp;</span>Independent Events</a></span></li><li><span><a href=\"#Mutually-Exclusive-or-Disjoint\" data-toc-modified-id=\"Mutually-Exclusive-or-Disjoint-3.2\"><span class=\"toc-item-num\">3.2&nbsp;&nbsp;</span>Mutually Exclusive or Disjoint</a></span></li></ul></li><li><span><a href=\"#Conditional-Probability\" data-toc-modified-id=\"Conditional-Probability-4\"><span class=\"toc-item-num\">4&nbsp;&nbsp;</span>Conditional Probability</a></span></li><li><span><a href=\"#Bayes'-Theorem\" data-toc-modified-id=\"Bayes'-Theorem-5\"><span class=\"toc-item-num\">5&nbsp;&nbsp;</span>Bayes' Theorem</a></span></li><li><span><a href=\"#Statistics\" data-toc-modified-id=\"Statistics-6\"><span class=\"toc-item-num\">6&nbsp;&nbsp;</span>Statistics</a></span></li><li><span><a href=\"#SciPy---Library-of-scientific-algorithms-for-Python\" data-toc-modified-id=\"SciPy---Library-of-scientific-algorithms-for-Python-7\"><span class=\"toc-item-num\">7&nbsp;&nbsp;</span>SciPy - Library of scientific algorithms for Python</a></span></li></ul></div>"
    },
    {
      "metadata": {},
      "cell_type": "markdown",
      "source": "## Permutations & Combinations"
    },
    {
      "metadata": {},
      "cell_type": "markdown",
      "source": "**Permutations:**\nPermutations are the number of ways a subset of a specified size can be arranged from a given set, generally without\nreplacement."
    },
    {
      "metadata": {
        "trusted": false
      },
      "cell_type": "code",
      "source": "# Ex: a 4 digit PIN with no repeated digits.\n# 10×9×8×7\n# the full set of the numbers to choose from\n# # 10×9×8×7×6×5×4×3×2×1\n# 10P4=\n# 10!/(10−4)!",
      "execution_count": null,
      "outputs": []
    },
    {
      "metadata": {},
      "cell_type": "markdown",
      "source": "**Combinations:**Combinations refers to the number of ways a subset of a specified size can be\ndrawn from a given set"
    },
    {
      "metadata": {
        "trusted": false
      },
      "cell_type": "code",
      "source": "# Ex: . Three cards are going to be taken out of the deck(52). How many different ways can you choose these three cards?\n# 52C3=52!/(52−3)!3!",
      "execution_count": null,
      "outputs": []
    },
    {
      "metadata": {
        "trusted": false
      },
      "cell_type": "code",
      "source": "# Ex: . Three cards are going to be taken out of the deck(52). How many different ways can you choose these three cards?\n# 52C3=52!/(52−3)!3!",
      "execution_count": null,
      "outputs": []
    },
    {
      "metadata": {},
      "cell_type": "markdown",
      "source": "**The relation between ncr and npr is nCr=nPr/r! ** "
    },
    {
      "metadata": {
        "trusted": false
      },
      "cell_type": "code",
      "source": " Diamonds\n# 2. Ace Hearts / Ace Clubs\n# 3. Ace Hearts / Ace Spades\n# 4. Ace Diamonds / Ace Clubs\n# 5. Ace Diamonds / Ace Spades\n# 6. Ace Clubs / Ace Spades\n# There are six combinations of pocket Aces",
      "execution_count": null,
      "outputs": []
    },
    {
      "metadata": {
        "trusted": false
      },
      "cell_type": "code",
      "source": "# To find the number of combinations, you first must find the number of permutations",
      "execution_count": null,
      "outputs": []
    },
    {
      "metadata": {
        "trusted": false
      },
      "cell_type": "code",
      "source": "import math\nn = 4\nk = 2\n\nPermutations = math.factorial(n) / math.factorial(k)\nprint(Permutations)",
      "execution_count": 8,
      "outputs": [
        {
          "name": "stdout",
          "output_type": "stream",
          "text": "12.0\n"
        }
      ]
    },
    {
      "metadata": {
        "trusted": false
      },
      "cell_type": "code",
      "source": "n = 52\nk = 2\nPermutations = math.factorial(n) / math.factorial(n - k)\nCombinations = Permutations / math.factorial(k)\nprint(Combinations)",
      "execution_count": 9,
      "outputs": [
        {
          "name": "stdout",
          "output_type": "stream",
          "text": "1326.0\n"
        }
      ]
    },
    {
      "metadata": {},
      "cell_type": "markdown",
      "source": "## Probability"
    },
    {
      "metadata": {},
      "cell_type": "markdown",
      "source": "**Probability** is the measure of the likelihood that an event will occur in a Random Experiment. \n* Probability is quantified as a number between 0 and 1, where, loosely speaking, 0 indicates impossibility and 1 indicates certainty. \n* The higher the probability of an event, the more likely it is that the event will occur."
    },
    {
      "metadata": {},
      "cell_type": "markdown",
      "source": "Examples:  \n* Tossing a coin.\n* Rolling a die\n* Select a card from deck of cards\n* Pulling a coloured ball out of a bag.     "
    },
    {
      "metadata": {
        "trusted": false
      },
      "cell_type": "code",
      "source": "# probability of drawing an Ace\ncards = 52\naces = 4\nace_probability = aces / cards\nprint(round(ace_probability, 2))",
      "execution_count": 2,
      "outputs": [
        {
          "name": "stdout",
          "output_type": "stream",
          "text": "0.08\n"
        }
      ]
    },
    {
      "metadata": {
        "trusted": false
      },
      "cell_type": "code",
      "source": "ace_probability_percent = ace_probability * 100\nprint(str(round(ace_probability_percent, 0)) + '%')",
      "execution_count": 3,
      "outputs": [
        {
          "name": "stdout",
          "output_type": "stream",
          "text": "8.0%\n"
        }
      ]
    },
    {
      "metadata": {
        "trusted": false
      },
      "cell_type": "code",
      "source": "def event_probability(event_outcomes, sample_space):\n    probability = (event_outcomes / sample_space) * 100\n    return round(probability, 1)",
      "execution_count": 11,
      "outputs": []
    },
    {
      "metadata": {
        "trusted": false
      },
      "cell_type": "code",
      "source": "cards = 52\nhearts = 13\nheart_probability = event_probability(hearts, cards)\nprint(heart_probability)",
      "execution_count": 5,
      "outputs": [
        {
          "name": "stdout",
          "output_type": "stream",
          "text": "25.0\n"
        }
      ]
    },
    {
      "metadata": {
        "trusted": false
      },
      "cell_type": "code",
      "source": "face_cards = 12\nface_card_probability = event_probability(face_cards, cards)\nprint(face_card_probability)",
      "execution_count": 6,
      "outputs": [
        {
          "name": "stdout",
          "output_type": "stream",
          "text": "23.1\n"
        }
      ]
    },
    {
      "metadata": {
        "trusted": false
      },
      "cell_type": "code",
      "source": "queen_of_hearts = 1\nqueen_of_hearts_probability = event_probability(queen_of_hearts, cards)\nprint(queen_of_hearts_probability)",
      "execution_count": 7,
      "outputs": [
        {
          "name": "stdout",
          "output_type": "stream",
          "text": "1.9\n"
        }
      ]
    },
    {
      "metadata": {
        "scrolled": true,
        "trusted": false
      },
      "cell_type": "code",
      "source": "print(str(heart_probability) + '%')\nprint(str(face_card_probability) + '%')\nprint(str(queen_of_hearts_probability) + '%')",
      "execution_count": 10,
      "outputs": [
        {
          "name": "stdout",
          "output_type": "stream",
          "text": "25.0%\n23.1%\n1.9%\n"
        }
      ]
    },
    {
      "metadata": {},
      "cell_type": "markdown",
      "source": "## Dealing with Events"
    },
    {
      "metadata": {},
      "cell_type": "markdown",
      "source": "### Independent Events"
    },
    {
      "metadata": {},
      "cell_type": "markdown",
      "source": "**Events A and B (which have nonzero probability) are independent if and only if one of the following equivalent statements holds**"
    },
    {
      "metadata": {
        "trusted": false
      },
      "cell_type": "code",
      "source": "P(A∩B)=P(A)P(B)\nP(A|B)=P(A)\nP(B|A)=P(B)",
      "execution_count": null,
      "outputs": []
    },
    {
      "metadata": {},
      "cell_type": "markdown",
      "source": "**Or, in other words, events A and B are independent if:**\n* The probability of events A and B to occur equals the product of the probabilities of each event occurring.\n* the probability of event A to occur if an event B has already occurred is equal to the probability of an event A to occur.\n* The probability of an event B to occur if an event A has already occurred is the same as the probability of an event B to occur.\n    "
    },
    {
      "metadata": {},
      "cell_type": "markdown",
      "source": "**example:** Let's say you already know the probability of drawing an Ace on the first draw. Now\nyou need to determine the probability of drawing an Ace on the second draw, if the first card drawn was either a King\nor an Ace:"
    },
    {
      "metadata": {
        "trusted": false
      },
      "cell_type": "code",
      "source": "cards = 52\ncards_drawn = 1\ncards = cards - cards_drawn\naces = 4\nace_probability1 = event_probability(aces, cards)\naces_drawn = 1\naces = aces - aces_drawn\nace_probability2 = event_probability(aces, cards)",
      "execution_count": 12,
      "outputs": []
    },
    {
      "metadata": {
        "trusted": false
      },
      "cell_type": "code",
      "source": "print(ace_probability1)\nprint(ace_probability2)",
      "execution_count": 13,
      "outputs": [
        {
          "name": "stdout",
          "output_type": "stream",
          "text": "7.8\n5.9\n"
        }
      ]
    },
    {
      "metadata": {
        "trusted": false
      },
      "cell_type": "markdown",
      "source": "### Mutually Exclusive or Disjoint"
    },
    {
      "metadata": {
        "trusted": false
      },
      "cell_type": "code",
      "source": "P(EventA∩EventB)=P(EventA)×P(EventB)",
      "execution_count": null,
      "outputs": []
    },
    {
      "metadata": {},
      "cell_type": "markdown",
      "source": "Ex: To determine the probability of drawing a heart or drawing a club, add the probability of drawing a heart to the probability of drawing a club"
    },
    {
      "metadata": {},
      "cell_type": "markdown",
      "source": "<p><img src=\"imgs/screenshot_20190419_085815.jpg\" alt=\"Example\" width=\"850\" height=\"450\">\n    "
    },
    {
      "metadata": {},
      "cell_type": "markdown",
      "source": "**Mutually Exclusive Event Vs Independent Events**\nhttps://www.wyzant.com/resources/lessons/math/statistics_and_probability/probability/further_concepts_in_probability  \nhttps://keydifferences.com/difference-between-mutually-exclusive-and-independent-events.html\n\nhttps://community.modeanalytics.com/python/tutorial/python-histograms-boxplots-and-distributions/"
    },
    {
      "metadata": {},
      "cell_type": "markdown",
      "source": "## Conditional Probability"
    },
    {
      "metadata": {},
      "cell_type": "markdown",
      "source": "https://www.mathsisfun.com/data/probability-events-conditional.html"
    },
    {
      "metadata": {},
      "cell_type": "markdown",
      "source": "## Bayes' Theorem"
    },
    {
      "metadata": {},
      "cell_type": "markdown",
      "source": "https://www.mathsisfun.com/data/bayes-theorem.html"
    },
    {
      "metadata": {},
      "cell_type": "markdown",
      "source": "## Statistics"
    },
    {
      "metadata": {},
      "cell_type": "markdown",
      "source": "https://chrisalbon.com/python/data_wrangling/pandas_dataframe_descriptive_stats/  \nhttps://www.learndatasci.com/tutorials/data-science-statistics-using-python/  \nhttps://github.com/chalmerlowe/stats_and_probability  "
    },
    {
      "metadata": {},
      "cell_type": "markdown",
      "source": "## SciPy - Library of scientific algorithms for Python"
    },
    {
      "metadata": {},
      "cell_type": "markdown",
      "source": "http://nbviewer.jupyter.org/github/jrjohansson/scientific-python-lectures/blob/master/Lecture-3-Scipy.ipynb  \nhttps://www.scipy-lectures.org/  "
    },
    {
      "metadata": {},
      "cell_type": "markdown",
      "source": "**Visual Interactive Explanation of Probability and Statistics:**  \nhttps://seeing-theory.brown.edu/  "
    }
  ],
  "metadata": {
    "kernelspec": {
      "name": "python36",
      "display_name": "Python 3.6",
      "language": "python"
    },
    "language_info": {
      "mimetype": "text/x-python",
      "nbconvert_exporter": "python",
      "name": "python",
      "pygments_lexer": "ipython3",
      "version": "3.6.6",
      "file_extension": ".py",
      "codemirror_mode": {
        "version": 3,
        "name": "ipython"
      }
    },
    "toc": {
      "nav_menu": {},
      "number_sections": true,
      "sideBar": true,
      "skip_h1_title": false,
      "base_numbering": 1,
      "title_cell": "Table of Contents",
      "title_sidebar": "Contents",
      "toc_cell": true,
      "toc_position": {},
      "toc_section_display": true,
      "toc_window_display": false
    }
  },
  "nbformat": 4,
  "nbformat_minor": 2
}