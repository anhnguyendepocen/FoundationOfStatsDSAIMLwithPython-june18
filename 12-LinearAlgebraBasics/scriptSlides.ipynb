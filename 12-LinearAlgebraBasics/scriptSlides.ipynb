{
 "cells": [
  {
   "cell_type": "markdown",
   "metadata": {
    "toc": true
   },
   "source": [
    "<h1>Table of Contents<span class=\"tocSkip\"></span></h1>\n",
    "<div class=\"toc\"><ul class=\"toc-item\"><li><span><a href=\"#Introduction\" data-toc-modified-id=\"Introduction-1\"><span class=\"toc-item-num\">1&nbsp;&nbsp;</span>Introduction</a></span><ul class=\"toc-item\"><li><span><a href=\"#Scalars\" data-toc-modified-id=\"Scalars-1.1\"><span class=\"toc-item-num\">1.1&nbsp;&nbsp;</span><strong>Scalars</strong></a></span></li><li><span><a href=\"#Vector\" data-toc-modified-id=\"Vector-1.2\"><span class=\"toc-item-num\">1.2&nbsp;&nbsp;</span><strong>Vector</strong></a></span></li><li><span><a href=\"#Matrix\" data-toc-modified-id=\"Matrix-1.3\"><span class=\"toc-item-num\">1.3&nbsp;&nbsp;</span><strong>Matrix</strong></a></span></li><li><span><a href=\"#Tensor\" data-toc-modified-id=\"Tensor-1.4\"><span class=\"toc-item-num\">1.4&nbsp;&nbsp;</span><strong>Tensor</strong></a></span></li></ul></li><li><span><a href=\"#Matrix-Operations---Addition,-Subtraction,-Multiplication,-Transpose-and-Inverse\" data-toc-modified-id=\"Matrix-Operations---Addition,-Subtraction,-Multiplication,-Transpose-and-Inverse-2\"><span class=\"toc-item-num\">2&nbsp;&nbsp;</span>Matrix Operations - Addition, Subtraction, Multiplication, Transpose and Inverse</a></span><ul class=\"toc-item\"><li><span><a href=\"#Addition\" data-toc-modified-id=\"Addition-2.1\"><span class=\"toc-item-num\">2.1&nbsp;&nbsp;</span><strong>Addition</strong></a></span></li><li><span><a href=\"#Subtraction\" data-toc-modified-id=\"Subtraction-2.2\"><span class=\"toc-item-num\">2.2&nbsp;&nbsp;</span><strong>Subtraction</strong></a></span></li><li><span><a href=\"#Mutliplication\" data-toc-modified-id=\"Mutliplication-2.3\"><span class=\"toc-item-num\">2.3&nbsp;&nbsp;</span><strong>Mutliplication</strong></a></span></li><li><span><a href=\"#Transpose\" data-toc-modified-id=\"Transpose-2.4\"><span class=\"toc-item-num\">2.4&nbsp;&nbsp;</span><strong>Transpose</strong></a></span></li><li><span><a href=\"#Diagonal-Matrix\" data-toc-modified-id=\"Diagonal-Matrix-2.5\"><span class=\"toc-item-num\">2.5&nbsp;&nbsp;</span><strong>Diagonal Matrix</strong></a></span></li><li><span><a href=\"#Identity\" data-toc-modified-id=\"Identity-2.6\"><span class=\"toc-item-num\">2.6&nbsp;&nbsp;</span><strong>Identity</strong></a></span></li><li><span><a href=\"#array_equal()-and-allclose()-methods\" data-toc-modified-id=\"array_equal()-and-allclose()-methods-2.7\"><span class=\"toc-item-num\">2.7&nbsp;&nbsp;</span><strong><code>array_equal()</code> and <code>allclose()</code> methods</strong></a></span></li><li><span><a href=\"#Determinant\" data-toc-modified-id=\"Determinant-2.8\"><span class=\"toc-item-num\">2.8&nbsp;&nbsp;</span><strong>Determinant</strong></a></span></li><li><span><a href=\"#Inverse-of-a-Matrix\" data-toc-modified-id=\"Inverse-of-a-Matrix-2.9\"><span class=\"toc-item-num\">2.9&nbsp;&nbsp;</span><strong>Inverse of a Matrix</strong></a></span></li></ul></li><li><span><a href=\"#Vector-Operations---Dot-Product-and-Cross-Product\" data-toc-modified-id=\"Vector-Operations---Dot-Product-and-Cross-Product-3\"><span class=\"toc-item-num\">3&nbsp;&nbsp;</span>Vector Operations - Dot Product and Cross Product</a></span><ul class=\"toc-item\"><li><span><a href=\"#Dot-Product-of-Vectors\" data-toc-modified-id=\"Dot-Product-of-Vectors-3.1\"><span class=\"toc-item-num\">3.1&nbsp;&nbsp;</span><strong>Dot Product of Vectors</strong></a></span></li><li><span><a href=\"#Cross-Product-of-Vectors\" data-toc-modified-id=\"Cross-Product-of-Vectors-3.2\"><span class=\"toc-item-num\">3.2&nbsp;&nbsp;</span><strong>Cross Product of Vectors</strong></a></span></li><li><span><a href=\"#Norm-of-a-Vector\" data-toc-modified-id=\"Norm-of-a-Vector-3.3\"><span class=\"toc-item-num\">3.3&nbsp;&nbsp;</span><strong>Norm of a Vector</strong></a></span></li><li><span><a href=\"#Relation-between-norm-and-dot-product\" data-toc-modified-id=\"Relation-between-norm-and-dot-product-3.4\"><span class=\"toc-item-num\">3.4&nbsp;&nbsp;</span><strong>Relation between norm and dot product</strong></a></span></li></ul></li><li><span><a href=\"#Special-Vectors-and-Matrices\" data-toc-modified-id=\"Special-Vectors-and-Matrices-4\"><span class=\"toc-item-num\">4&nbsp;&nbsp;</span>Special Vectors and Matrices</a></span></li><li><span><a href=\"#Matrix-Decomposition:-Eigenvalues-&amp;-Eigenvectors\" data-toc-modified-id=\"Matrix-Decomposition:-Eigenvalues-&amp;-Eigenvectors-5\"><span class=\"toc-item-num\">5&nbsp;&nbsp;</span>Matrix Decomposition: Eigenvalues &amp; Eigenvectors</a></span></li></ul></div>"
   ]
  },
  {
   "cell_type": "markdown",
   "metadata": {},
   "source": [
    "## Introduction"
   ]
  },
  {
   "cell_type": "markdown",
   "metadata": {},
   "source": [
    "* Linear algebra is a branch of mathematics that deals with equations of straight lines. \n",
    "* A line is made up of multiple points. \n",
    "* A point in 2 dimensional (2D) space is represented using two coordinates (x,y)."
   ]
  },
  {
   "cell_type": "markdown",
   "metadata": {},
   "source": [
    "* General form of equation of straight line passing through any point (x,y) will be of the form ax+by+c=0. \n",
    "* Eg. 2x+1y-5=0 is an equation, where x and y is different for different point."
   ]
  },
  {
   "cell_type": "markdown",
   "metadata": {},
   "source": [
    "* In 2D space, a hyperplane is 1D. This 1D hyperplane is a line. In 3D space, a hyperplane is 2D. \n",
    "* Similarly, in an n-dimensional space, the hyperplane is n-1 dimensional.\n",
    "* In 3D space, a point is represented by three coordinates (x,y,z) or (x1,x2,x3). "
   ]
  },
  {
   "cell_type": "markdown",
   "metadata": {},
   "source": [
    "![Imgur](https://i.imgur.com/i0BDrlo.png)  \n",
    "![Imgur](https://i.imgur.com/jcKWgCg.png)  \n",
    "<sub>source: <a href=\"https://towardsdatascience.com/linear-algebra-for-deep-learning-f21d7e7d7f23\" target=\"_blank\">https://towardsdatascience.com/linear-algebra-for-deep-learning-f21d7e7d7f23</a></sub>  "
   ]
  },
  {
   "cell_type": "markdown",
   "metadata": {},
   "source": [
    "### **Scalars**"
   ]
  },
  {
   "cell_type": "markdown",
   "metadata": {},
   "source": [
    "* a rational number, is called a 'scalar'. Eg. 2.4,5,100.9001"
   ]
  },
  {
   "cell_type": "code",
   "execution_count": 64,
   "metadata": {},
   "outputs": [],
   "source": [
    "a=5              #assigns 5 to variable a \n",
    "import numpy as np\n",
    "b=np.pi       #assigns value of pi to variable b "
   ]
  },
  {
   "cell_type": "markdown",
   "metadata": {},
   "source": [
    "### **Vector**"
   ]
  },
  {
   "cell_type": "markdown",
   "metadata": {},
   "source": [
    "* Vector is a 1D array.\n",
    "* A 1xm array is called a row vector and has 1 row and m columns. An mx1 array is called a column vector"
   ]
  },
  {
   "cell_type": "code",
   "execution_count": 65,
   "metadata": {},
   "outputs": [
    {
     "name": "stdout",
     "output_type": "stream",
     "text": [
      "[[1, 2, 3]] \n",
      " [[5], [1.5], [2]] \n",
      " [[8 3 2]]\n"
     ]
    }
   ],
   "source": [
    "v1= [[1,2,3]]               #creates 1x3 list row vector\n",
    "v2= [[5],[1.5],[2]]         #creates 3x1 list column vector\n",
    "v3= np.array([[8,3,2]])  #creates 1x3 ndarray row vector\n",
    "print(v1,'\\n', v2,'\\n', v3)"
   ]
  },
  {
   "cell_type": "markdown",
   "metadata": {},
   "source": [
    "### **Matrix**"
   ]
  },
  {
   "cell_type": "markdown",
   "metadata": {},
   "source": [
    "* Size of a 2D array is written as mxn. ie. m rows and n columns.\n",
    "* A 2D matrix with same number of rows and columns is known as a square matrix ie matrix of size mxm."
   ]
  },
  {
   "cell_type": "code",
   "execution_count": 66,
   "metadata": {},
   "outputs": [
    {
     "name": "stdout",
     "output_type": "stream",
     "text": [
      "[[1, 2, 3], [1, 2, 1]]\n",
      "[[  4   2   2]\n",
      " [  2 100   9]]\n"
     ]
    }
   ],
   "source": [
    "x=[[1,2,3],[1,2,1]]                          #creates 2x3 matrix-like list \n",
    "y=np.array([[4,2,2],[2,100,9]])         #creates 2x3 ndarray matrix\n",
    "print(x)\n",
    "print(y)"
   ]
  },
  {
   "cell_type": "markdown",
   "metadata": {},
   "source": [
    "### **Tensor**"
   ]
  },
  {
   "cell_type": "markdown",
   "metadata": {},
   "source": [
    "* A 'tensor' is a 3D (mxnxp) or higher dimensional array."
   ]
  },
  {
   "cell_type": "code",
   "execution_count": 67,
   "metadata": {
    "scrolled": true
   },
   "outputs": [
    {
     "name": "stdout",
     "output_type": "stream",
     "text": [
      "[[[8.93572428e-311 4.04086640e-270]\n",
      "  [2.53649295e-212 3.55959754e+180]\n",
      "  [3.11730544e+150 3.89848891e+233]\n",
      "  [1.98105037e-293 4.60679615e-303]\n",
      "  [1.61805203e+069 3.32653858e-111]]\n",
      "\n",
      " [[2.71841196e-297 7.85181215e-312]\n",
      "  [1.18476328e+065 6.12036321e+067]\n",
      "  [1.98114253e-293 1.00809596e-109]\n",
      "  [9.97959338e-110 1.61826266e+069]\n",
      "  [8.40609139e-284 6.66872851e-297]]\n",
      "\n",
      " [[5.78336400e+067 6.45736255e+067]\n",
      "  [4.55695129e-303 3.26724339e-309]\n",
      "  [3.26724339e-309 4.55052120e-312]\n",
      "  [5.78296122e+067 1.33360388e+241]\n",
      "  [1.09974554e-309 3.96236457e-133]]\n",
      "\n",
      " [[3.29854299e-312 2.61261355e+257]\n",
      "  [6.80693628e-230 6.52016598e+252]\n",
      "  [3.98220550e+209 3.81617327e-300]\n",
      "  [1.33360542e+241 2.52301056e-309]\n",
      "  [1.13477778e+118 1.01313694e-311]]\n",
      "\n",
      " [[1.13654010e-299 1.33360508e+241]\n",
      "  [2.66425060e-309 1.29014094e-263]\n",
      "  [6.09249253e+247 5.03961305e-266]\n",
      "  [1.13266807e+277 2.90361643e-299]\n",
      "  [3.38461287e+125 9.02228871e+218]]]\n"
     ]
    }
   ],
   "source": [
    "t1=np.ndarray([5,5,2])       #creates a 5x5x2 3D ndarray matrix with random values\n",
    "print(t1)"
   ]
  },
  {
   "cell_type": "markdown",
   "metadata": {},
   "source": [
    "## Matrix Operations - Addition, Subtraction, Multiplication, Transpose and Inverse"
   ]
  },
  {
   "cell_type": "markdown",
   "metadata": {},
   "source": [
    "### **Addition**"
   ]
  },
  {
   "cell_type": "code",
   "execution_count": 68,
   "metadata": {},
   "outputs": [
    {
     "data": {
      "text/plain": [
       "array([[  5,   7,   6],\n",
       "       [101,   4,   9]])"
      ]
     },
     "execution_count": 68,
     "metadata": {},
     "output_type": "execute_result"
    }
   ],
   "source": [
    "a=[[4,5,2],[1,2,6]]                   # creates 2x3 matrix-like list\n",
    "b=np.array([[1,2,4],[100,2,3]])    # creates 2x3 ndarray matrix\n",
    "np.array(a) + b                    # variable 'a' has to be converted to an ndarray matrix \n",
    "                                      # to perform addition"
   ]
  },
  {
   "cell_type": "markdown",
   "metadata": {},
   "source": [
    "### **Subtraction**"
   ]
  },
  {
   "cell_type": "code",
   "execution_count": 69,
   "metadata": {
    "scrolled": true
   },
   "outputs": [
    {
     "data": {
      "text/plain": [
       "array([[  3,   3,  -2],\n",
       "       [-99,   0,   3]])"
      ]
     },
     "execution_count": 69,
     "metadata": {},
     "output_type": "execute_result"
    }
   ],
   "source": [
    "a-b "
   ]
  },
  {
   "cell_type": "markdown",
   "metadata": {},
   "source": [
    "### **Mutliplication**"
   ]
  },
  {
   "cell_type": "raw",
   "metadata": {},
   "source": [
    "Syntax:\n",
    "numpy.dot(matrix1,matrix2)      - returns mxp ndarray matrix multiplication of matrix1(mxn) \n",
    "                                  and matrix2 (nxp). matrix1 and matrix2 may be ndarray \n",
    "                                  matrix or matrix-like list\n",
    "numpy.matmul(matrix1,matrix2)   - also returns mxp ndarray matrix multiplication of \n",
    "                                  matrix1(mxn) and matrix2 (nxp), but has has added \n",
    "                                  capabilities for higher dimensional arguments. matrix1 and\n",
    "                                  matrix2 be ndarray matrix or matrix-like list"
   ]
  },
  {
   "cell_type": "code",
   "execution_count": 70,
   "metadata": {},
   "outputs": [
    {
     "name": "stdout",
     "output_type": "stream",
     "text": [
      "[[2 3]\n",
      " [4 5]]\n"
     ]
    }
   ],
   "source": [
    "a = np.array([[1,2],[3,4]])\n",
    "b = np.array([[1,1],[1,1]])\n",
    "\n",
    "addition = a + b\n",
    "subtraction = a - b \n",
    "multiplicationDot = np.dot(a,b) \n",
    "multiplicationMat = np.matmul(a,b) \n",
    "\n",
    "print(addition)"
   ]
  },
  {
   "cell_type": "code",
   "execution_count": 71,
   "metadata": {},
   "outputs": [
    {
     "name": "stdout",
     "output_type": "stream",
     "text": [
      "[[0 1]\n",
      " [2 3]]\n"
     ]
    }
   ],
   "source": [
    "print(subtraction)"
   ]
  },
  {
   "cell_type": "code",
   "execution_count": 72,
   "metadata": {},
   "outputs": [
    {
     "name": "stdout",
     "output_type": "stream",
     "text": [
      "[[3 3]\n",
      " [7 7]]\n"
     ]
    }
   ],
   "source": [
    "print(multiplicationDot)"
   ]
  },
  {
   "cell_type": "code",
   "execution_count": 73,
   "metadata": {
    "scrolled": true
   },
   "outputs": [
    {
     "name": "stdout",
     "output_type": "stream",
     "text": [
      "[[3 3]\n",
      " [7 7]]\n"
     ]
    }
   ],
   "source": [
    "print(multiplicationMat)"
   ]
  },
  {
   "cell_type": "markdown",
   "metadata": {},
   "source": [
    "### **Transpose**"
   ]
  },
  {
   "cell_type": "markdown",
   "metadata": {},
   "source": [
    "* A transpose of a matrix is another matrix which results from transforming all the rows of elements of the original matrix into columns. \n",
    "* If the order or shape of the matrix is  (i,j)(i,j)  then the transpose of this matrix will have a shape of  (j,i)(j,i) . \n",
    "* ie. A matrix of size mxn after transpose becomes nxm sized matrix"
   ]
  },
  {
   "cell_type": "raw",
   "metadata": {},
   "source": [
    "Syntax:\n",
    "numpy.transpose(matrix1) -  returns ndarray transpose of matrix1, where matrix1 is a \n",
    "                            matrix-like or ndarray square matrix"
   ]
  },
  {
   "cell_type": "code",
   "execution_count": 74,
   "metadata": {},
   "outputs": [
    {
     "name": "stdout",
     "output_type": "stream",
     "text": [
      "[[1 2]\n",
      " [3 4]]\n",
      "[[1 3]\n",
      " [2 4]]\n"
     ]
    }
   ],
   "source": [
    "a = np.array([[1,2],[3,4]])\n",
    "print(a)\n",
    "print(np.transpose(a))"
   ]
  },
  {
   "cell_type": "markdown",
   "metadata": {},
   "source": [
    "### **Diagonal Matrix**"
   ]
  },
  {
   "cell_type": "markdown",
   "metadata": {},
   "source": [
    "* A square matrix whose non-diagonal elements are zero is called a diagonal matrix. For example: "
   ]
  },
  {
   "cell_type": "code",
   "execution_count": 75,
   "metadata": {},
   "outputs": [
    {
     "name": "stdout",
     "output_type": "stream",
     "text": [
      "[[1 0 0 0]\n",
      " [0 2 0 0]\n",
      " [0 0 3 0]\n",
      " [0 0 0 4]]\n"
     ]
    }
   ],
   "source": [
    "a = np.array([1,2,3,4])\n",
    "d = np.diag(a)\n",
    "# or simpler: d = np.diag([1,2,3,4])\n",
    "\n",
    "print(d)"
   ]
  },
  {
   "cell_type": "markdown",
   "metadata": {},
   "source": [
    "### **Identity**"
   ]
  },
  {
   "cell_type": "markdown",
   "metadata": {},
   "source": [
    "Generating Identity matrices in numpy:  \n",
    "Syntax:  \n",
    "`numpy.eye(n)`  -   returns an ndarray identity matrix of size nxn  \n",
    "Sample code:  \n",
    "`numpy.eye(2)`          # generates a 2x2 ndarray identity matrix  "
   ]
  },
  {
   "cell_type": "code",
   "execution_count": 76,
   "metadata": {},
   "outputs": [
    {
     "name": "stdout",
     "output_type": "stream",
     "text": [
      "[[1. 0. 0.]\n",
      " [0. 1. 0.]\n",
      " [0. 0. 1.]]\n",
      "[[1 0 0]\n",
      " [0 1 0]\n",
      " [0 0 1]]\n"
     ]
    }
   ],
   "source": [
    "print(np.eye(3))\n",
    "print(np.eye(3, dtype='int64')) # with user input data type"
   ]
  },
  {
   "cell_type": "markdown",
   "metadata": {},
   "source": [
    "### **`array_equal()` and `allclose()` methods**"
   ]
  },
  {
   "cell_type": "raw",
   "metadata": {},
   "source": [
    "Syntax:\n",
    "numpy.array_equal(matrix1,matrix2)   - returns True if matrix1 and matrix2 have exactly \n",
    "                                       same values in the corresponding positions\n",
    "numpy.allclose(matrix1,matrix2)    -  returns True if matrix1 and matrix2 have nearly close \n",
    "                                      values in the corresponding positions\n",
    "numpy.allclose(numpy.matmul(matrix1,matrix2),numpy.eye(np.size(matrix1,0))   - returns True \n",
    "                        if matrix2 is inverse of matrix1 else False; matrix1 and matrix2 are\n",
    "                        square matrices of same size nxn; matrix1 is multiplied with matrix2\n",
    "                        and the product is compared to an identity matrix using allclose."
   ]
  },
  {
   "cell_type": "code",
   "execution_count": 77,
   "metadata": {},
   "outputs": [
    {
     "name": "stdout",
     "output_type": "stream",
     "text": [
      "True\n",
      "False\n"
     ]
    }
   ],
   "source": [
    "# Sample code:\n",
    "matrix1=[1,2.00001,3.423]          # creates a list-matrix \n",
    "matrix2=[1,2.000011,3.423]         # creates another matrix-like list with close values\n",
    "print(np.allclose(matrix1,matrix2))       # returns True \n",
    "print(np.array_equal(matrix1,matrix2))    # returns False"
   ]
  },
  {
   "cell_type": "markdown",
   "metadata": {},
   "source": [
    "### **Determinant**"
   ]
  },
  {
   "cell_type": "markdown",
   "metadata": {},
   "source": [
    "![Imgur](https://i.imgur.com/mTOT82X.png)"
   ]
  },
  {
   "cell_type": "code",
   "execution_count": 78,
   "metadata": {},
   "outputs": [
    {
     "data": {
      "text/plain": [
       "6.0"
      ]
     },
     "execution_count": 78,
     "metadata": {},
     "output_type": "execute_result"
    }
   ],
   "source": [
    "# Find determinent of a matrix using \"numpy.linalg.det\" in python and store its value in variable called b.\n",
    "a = np.array([[5, 4], [1, 2]])\n",
    "b=np.linalg.det(a)\n",
    "b"
   ]
  },
  {
   "cell_type": "markdown",
   "metadata": {},
   "source": [
    "### **Inverse of a Matrix**\n"
   ]
  },
  {
   "cell_type": "markdown",
   "metadata": {},
   "source": [
    "* only a square matrix has an Inverse.\n",
    "* In mathematics, we have the concept of 'reciprocal'. If a number is multiplied by its reciprocal the result is '1'.\n",
    "* The Inverse of a matrix can be determined by using the 'inv' function of 'linalg' sub-module of numpy (`numpy.linalg.inv()`)"
   ]
  },
  {
   "cell_type": "raw",
   "metadata": {},
   "source": [
    "Syntax:\n",
    "numpy.linalg.inv(matrix1)   - returns ndarray matrix that is inverse of matrix1; matrix1 is \n",
    "                              a square matrix"
   ]
  },
  {
   "cell_type": "markdown",
   "metadata": {},
   "source": [
    "![Imgur](https://i.imgur.com/dGqw2cg.png)  \n",
    "<sub>source: <a href=\"https://www.onlinemathlearning.com/zero-identity-determinant-matrix-hsn-vm10.html\" target=\"_blank\">https://www.onlinemathlearning.com/zero-identity-determinant-matrix-hsn-vm10.html</a></sub>  "
   ]
  },
  {
   "cell_type": "raw",
   "metadata": {},
   "source": [
    "Syntax:\n",
    "numpy.dot(matrix1, numpy.linalg.inv(matrix1))  -  returns an ndarray identity matrix where\n",
    "                                                  matrix1 is a square matrix"
   ]
  },
  {
   "cell_type": "code",
   "execution_count": 79,
   "metadata": {},
   "outputs": [
    {
     "name": "stdout",
     "output_type": "stream",
     "text": [
      "[[3 4]\n",
      " [1 2]]\n",
      "[[ 1.  -2. ]\n",
      " [-0.5  1.5]]\n",
      "[[1.00000000e+00 0.00000000e+00]\n",
      " [1.11022302e-16 1.00000000e+00]]\n"
     ]
    }
   ],
   "source": [
    "a =np.array([[3,4],[1,2]])\n",
    "print(a)\n",
    "inv = np.linalg.inv((a))\n",
    "print(inv)\n",
    "id = np.dot(a, inv)\n",
    "print(id)"
   ]
  },
  {
   "cell_type": "code",
   "execution_count": 80,
   "metadata": {},
   "outputs": [
    {
     "name": "stdout",
     "output_type": "stream",
     "text": [
      "[[1 3]\n",
      " [2 4]] [[-2.   1. ]\n",
      " [ 1.5 -0.5]]\n",
      "False\n"
     ]
    }
   ],
   "source": [
    "a = np.array([[1,2],[3,4]])\n",
    "\n",
    "atranspose = np.transpose(a)\n",
    "ainverse = np.linalg.inv(a) \n",
    "print(atranspose, ainverse)\n",
    "print(np.allclose(np.matmul(atranspose,ainverse),np.eye(np.size(atranspose,0))))"
   ]
  },
  {
   "cell_type": "markdown",
   "metadata": {},
   "source": [
    "## Vector Operations - Dot Product and Cross Product"
   ]
  },
  {
   "cell_type": "markdown",
   "metadata": {},
   "source": [
    "### **Dot Product of Vectors**"
   ]
  },
  {
   "cell_type": "raw",
   "metadata": {},
   "source": [
    "Assume two vectors, 'a' and 'b' having elements (x1,x2,x3) and (y1,y2,y3) respectively.\n",
    "\n",
    "Dot product of a and b is:\n",
    "a.b = x1y1 + x2y2 + x3y3"
   ]
  },
  {
   "cell_type": "raw",
   "metadata": {},
   "source": [
    "Syntax: \n",
    "numpy.dot(a,b) - returns a scalar value, when a and b are vectors of same sizes; "
   ]
  },
  {
   "cell_type": "code",
   "execution_count": 81,
   "metadata": {},
   "outputs": [
    {
     "data": {
      "text/plain": [
       "20"
      ]
     },
     "execution_count": 81,
     "metadata": {},
     "output_type": "execute_result"
    }
   ],
   "source": [
    "#Sample code:\n",
    "a=[1,2,3]         #creates row vector\n",
    "b=[2,3,4]         \n",
    "np.dot(a,b)       # returns 20"
   ]
  },
  {
   "cell_type": "markdown",
   "metadata": {},
   "source": [
    "**Note:** We saw earlier that if a and b are matrices of sizes mxn and nxp then numpy.dot(a,b) returns an ndarray matrix of size mxp."
   ]
  },
  {
   "cell_type": "markdown",
   "metadata": {},
   "source": [
    "### **Cross Product of Vectors**"
   ]
  },
  {
   "cell_type": "markdown",
   "metadata": {},
   "source": [
    "![Imgur](https://i.imgur.com/7flLSgE.jpg)"
   ]
  },
  {
   "cell_type": "markdown",
   "metadata": {},
   "source": [
    "![Imgur](https://i.imgur.com/Z9zdOsa.jpg)"
   ]
  },
  {
   "cell_type": "code",
   "execution_count": 82,
   "metadata": {},
   "outputs": [
    {
     "data": {
      "text/plain": [
       "array([-1,  2, -1])"
      ]
     },
     "execution_count": 82,
     "metadata": {},
     "output_type": "execute_result"
    }
   ],
   "source": [
    "# Syntax: \n",
    "np.cross(a,b) # returns an ndarray vector of same size, where a and b are vector arrays of same size  \n",
    "                   "
   ]
  },
  {
   "cell_type": "markdown",
   "metadata": {},
   "source": [
    "Note that dot product of two vectors returns a scalar and cross product of two vectors returns another vector.\n"
   ]
  },
  {
   "cell_type": "markdown",
   "metadata": {},
   "source": [
    "### **Norm of a Vector**"
   ]
  },
  {
   "cell_type": "markdown",
   "metadata": {},
   "source": [
    "* The norm of a vector x, denoted as ||x|| is a measure of a vector's magnitude. Mathematically,"
   ]
  },
  {
   "cell_type": "markdown",
   "metadata": {},
   "source": [
    "![Imgur](https://i.imgur.com/5icsrBg.jpg)"
   ]
  },
  {
   "cell_type": "code",
   "execution_count": 83,
   "metadata": {},
   "outputs": [
    {
     "data": {
      "text/plain": [
       "7.416198487095663"
      ]
     },
     "execution_count": 83,
     "metadata": {},
     "output_type": "execute_result"
    }
   ],
   "source": [
    "x = np.array([1,2,3,4,5])\n",
    "np.linalg.norm(x)"
   ]
  },
  {
   "cell_type": "markdown",
   "metadata": {},
   "source": [
    "### **Relation between norm and dot product**\n"
   ]
  },
  {
   "cell_type": "markdown",
   "metadata": {},
   "source": [
    "* dot product of a vector with itself is equal to the norm squared"
   ]
  },
  {
   "cell_type": "markdown",
   "metadata": {},
   "source": [
    "![Imgur](https://i.imgur.com/xbFKXWX.jpg)"
   ]
  },
  {
   "cell_type": "markdown",
   "metadata": {},
   "source": [
    "## Special Vectors and Matrices"
   ]
  },
  {
   "cell_type": "raw",
   "metadata": {},
   "source": [
    "If a and b are non-zero vectors and (aT)(b) = 0, then it implies that cos( θθ ) = 0. So, the angle between a and b would be 90 degrees and in such a condition a and b are called orthogonal vectors with respect to each other."
   ]
  },
  {
   "cell_type": "markdown",
   "metadata": {},
   "source": [
    "**Symmetric Matrix:** If a = $a^T$ then 'a' is a symmetric matrix  \n",
    "**Orthogonal Matrix:** If $a^-1$ = $a^T$ then 'a' is called an orthogonal matrix."
   ]
  },
  {
   "cell_type": "markdown",
   "metadata": {},
   "source": [
    "## Matrix Decomposition: Eigenvalues & Eigenvectors"
   ]
  },
  {
   "cell_type": "markdown",
   "metadata": {},
   "source": [
    "* Decomposition means breaking of a large entity into smaller ones.\n",
    "* matrix decompositon or matrix factorization means decomposing or factorizing a large matrix into smaller ones. \n",
    "* Here we will talk about decomposition of a matrix into Eigen Vectors and Eigen Values\n",
    "* Every square matrix has special values called eigenvalues."
   ]
  },
  {
   "cell_type": "raw",
   "metadata": {},
   "source": [
    "Look at the following matrix multiplication problem where we're multiplying a square matrix by a vector."
   ]
  },
  {
   "cell_type": "markdown",
   "metadata": {},
   "source": [
    "![Imgur](https://i.imgur.com/Fen84v4.png)"
   ]
  },
  {
   "cell_type": "raw",
   "metadata": {},
   "source": [
    "Hopefully you got the following"
   ]
  },
  {
   "cell_type": "markdown",
   "metadata": {},
   "source": [
    "![Imgur](https://i.imgur.com/5h6UCKs.png)"
   ]
  },
  {
   "cell_type": "raw",
   "metadata": {},
   "source": [
    "If you look closely, you'll notice that it's 3 times the original vector. In fact, we could write our solution like this:"
   ]
  },
  {
   "cell_type": "markdown",
   "metadata": {},
   "source": [
    "![Imgur](https://i.imgur.com/yZt8UaD.png)"
   ]
  },
  {
   "cell_type": "markdown",
   "metadata": {},
   "source": [
    "This tells us that **3 is an eigenvalue**, with the **original vector** in the multiplication problem **being an eigenvector**.\n",
    "\n"
   ]
  },
  {
   "cell_type": "markdown",
   "metadata": {},
   "source": [
    "![Imgur](https://i.imgur.com/GTg2E1k.png)"
   ]
  },
  {
   "cell_type": "markdown",
   "metadata": {},
   "source": [
    "* For each eigenvalue there will be an eigenvector for which the eigenvalue equation is true. \n",
    "* In python we can find eigen values and eigen vectors using \"linalg\" package from scipy."
   ]
  },
  {
   "cell_type": "code",
   "execution_count": 84,
   "metadata": {
    "scrolled": true
   },
   "outputs": [
    {
     "name": "stdout",
     "output_type": "stream",
     "text": [
      "Matrix:\n",
      "  [[2 3]\n",
      " [4 6]]\n",
      "Eigen Values:  [0.+0.j 8.+0.j] \n",
      "Eigen Vectors:  [[-0.83205029 -0.4472136 ]\n",
      " [ 0.5547002  -0.89442719]]\n"
     ]
    }
   ],
   "source": [
    "# Find eigen values and eigen vector of an array A = [1,2,3,4]. Store the eigen values in a variable called B.\n",
    "from scipy import linalg as LA\n",
    "import numpy as np\n",
    "\n",
    "A = np.array([2,3,4,6]).reshape(2,2)\n",
    "print(\"Matrix:\\n \",A)\n",
    "B, C= LA.eig(A)\n",
    "\n",
    "print(\"Eigen Values: \",B,\"\\nEigen Vectors: \",C)\n"
   ]
  },
  {
   "cell_type": "markdown",
   "metadata": {},
   "source": [
    "**Linear Algebra for Data Scientists✔**\n",
    "  https://www.kaggle.com/mjbahmani/linear-algebra-for-data-scientists"
   ]
  }
 ],
 "metadata": {
  "kernelspec": {
   "display_name": "Python 3",
   "language": "python",
   "name": "python3"
  },
  "language_info": {
   "codemirror_mode": {
    "name": "ipython",
    "version": 3
   },
   "file_extension": ".py",
   "mimetype": "text/x-python",
   "name": "python",
   "nbconvert_exporter": "python",
   "pygments_lexer": "ipython3",
   "version": "3.6.4"
  },
  "toc": {
   "base_numbering": 1,
   "nav_menu": {},
   "number_sections": true,
   "sideBar": true,
   "skip_h1_title": true,
   "title_cell": "Table of Contents",
   "title_sidebar": "Contents",
   "toc_cell": true,
   "toc_position": {},
   "toc_section_display": true,
   "toc_window_display": false
  }
 },
 "nbformat": 4,
 "nbformat_minor": 2
}
